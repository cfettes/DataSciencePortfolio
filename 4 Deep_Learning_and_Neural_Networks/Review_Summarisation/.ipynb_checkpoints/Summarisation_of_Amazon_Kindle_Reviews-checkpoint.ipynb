{
 "cells": [
  {
   "cell_type": "markdown",
   "metadata": {},
   "source": [
    "# Summarising Amazon Kindle Reviews with LSTM\n",
    "\n",
    "The purpose here is, utilising Amazon review data, to build a model that can generate summary reviews. The focus will be on building a two-layered bidirectional RNN with LSTMs on the input data and two layers, each with an LSTM using bahdanau attention on the target data. \n",
    "\n",
    "Reviews can often be very long, and analysing these manually, time-consuming. Building an automated review summariser would drastically speed up the process.\n",
    "\n",
    "**Data:**   \n",
    "\n",
    "This project uses Amazon reviews: Kindle Store Category, which can be found through the following link: https://www.kaggle.com/bharadwaj6/kindle-reviews#kindle_reviews.csv\n",
    "\n",
    "The information provided by Kaggle on this dataset includes, as follows:   \n",
    "\n",
    "Context: A small subset of dataset of product reviews from Amazon Kindle Store category.   \n",
    "Content: 5-core dataset of product reviews from Amazon Kindle Store category from May 1996 - July 2014. Contains total of 982,619 entries. Each reviewer has at least 5 reviews and each product has at least 5 reviews in this dataset.     \n",
    "Columns:\n",
    "+ asin - ID of the product, like B000FA64PK\n",
    "+ helpful - helpfulness rating of the review - example: 2/3.\n",
    "+ overall - rating of the product.\n",
    "+ reviewText - text of the review (heading).\n",
    "+ reviewTime - time of the review (raw).\n",
    "+ reviewerID - ID of the reviewer, like A3SPTOKDG7WBLN\n",
    "+ reviewerName - name of the reviewer.\n",
    "+ summary - summary of the review (description).\n",
    "+ unixReviewTime - unix timestamp.\n",
    "\n",
    "For this project, only the reviewText and summary columns will be used."
   ]
  },
  {
   "cell_type": "code",
   "execution_count": 52,
   "metadata": {},
   "outputs": [
    {
     "name": "stdout",
     "output_type": "stream",
     "text": [
      "TensorFlow Version: 1.14.0\n"
     ]
    }
   ],
   "source": [
    "import numpy as np\n",
    "import pandas as pd \n",
    "import re\n",
    "import time\n",
    "import os\n",
    "import glob\n",
    "from bs4 import BeautifulSoup\n",
    "from keras.preprocessing.text import Tokenizer \n",
    "from keras.preprocessing.sequence import pad_sequences\n",
    "from nltk.corpus import stopwords\n",
    "import tensorflow as tf\n",
    "from tensorflow.keras.layers import Input, LSTM, Embedding, Dense, Concatenate, TimeDistributed\n",
    "from tensorflow.keras.models import Model\n",
    "from tensorflow.keras.callbacks import EarlyStopping\n",
    "print('TensorFlow Version: {}'.format(tf.__version__))\n",
    "import warnings\n",
    "pd.set_option(\"display.max_colwidth\", 200)\n",
    "warnings.filterwarnings(\"ignore\")"
   ]
  },
  {
   "cell_type": "code",
   "execution_count": 2,
   "metadata": {},
   "outputs": [],
   "source": [
    "data = pd.read_csv('kindle-reviews/kindle_reviews.csv')"
   ]
  },
  {
   "cell_type": "markdown",
   "metadata": {},
   "source": [
    "## 1. Data Exploration"
   ]
  },
  {
   "cell_type": "code",
   "execution_count": 3,
   "metadata": {},
   "outputs": [
    {
     "data": {
      "text/html": [
       "<div>\n",
       "<style scoped>\n",
       "    .dataframe tbody tr th:only-of-type {\n",
       "        vertical-align: middle;\n",
       "    }\n",
       "\n",
       "    .dataframe tbody tr th {\n",
       "        vertical-align: top;\n",
       "    }\n",
       "\n",
       "    .dataframe thead th {\n",
       "        text-align: right;\n",
       "    }\n",
       "</style>\n",
       "<table border=\"1\" class=\"dataframe\">\n",
       "  <thead>\n",
       "    <tr style=\"text-align: right;\">\n",
       "      <th></th>\n",
       "      <th>Unnamed: 0</th>\n",
       "      <th>asin</th>\n",
       "      <th>helpful</th>\n",
       "      <th>overall</th>\n",
       "      <th>reviewText</th>\n",
       "      <th>reviewTime</th>\n",
       "      <th>reviewerID</th>\n",
       "      <th>reviewerName</th>\n",
       "      <th>summary</th>\n",
       "      <th>unixReviewTime</th>\n",
       "    </tr>\n",
       "  </thead>\n",
       "  <tbody>\n",
       "    <tr>\n",
       "      <td>0</td>\n",
       "      <td>0</td>\n",
       "      <td>B000F83SZQ</td>\n",
       "      <td>[0, 0]</td>\n",
       "      <td>5</td>\n",
       "      <td>I enjoy vintage books and movies so I enjoyed reading this book.  The plot was unusual.  Don't think killing someone in self-defense but leaving the scene and the body without notifying the police...</td>\n",
       "      <td>05 5, 2014</td>\n",
       "      <td>A1F6404F1VG29J</td>\n",
       "      <td>Avidreader</td>\n",
       "      <td>Nice vintage story</td>\n",
       "      <td>1399248000</td>\n",
       "    </tr>\n",
       "    <tr>\n",
       "      <td>1</td>\n",
       "      <td>1</td>\n",
       "      <td>B000F83SZQ</td>\n",
       "      <td>[2, 2]</td>\n",
       "      <td>4</td>\n",
       "      <td>This book is a reissue of an old one; the author was born in 1910. It's of the era of, say, Nero Wolfe. The introduction was quite interesting, explaining who the author was and why he's been forg...</td>\n",
       "      <td>01 6, 2014</td>\n",
       "      <td>AN0N05A9LIJEQ</td>\n",
       "      <td>critters</td>\n",
       "      <td>Different...</td>\n",
       "      <td>1388966400</td>\n",
       "    </tr>\n",
       "    <tr>\n",
       "      <td>2</td>\n",
       "      <td>2</td>\n",
       "      <td>B000F83SZQ</td>\n",
       "      <td>[2, 2]</td>\n",
       "      <td>4</td>\n",
       "      <td>This was a fairly interesting read.  It had old- style terminology.I was glad to get  to read a story that doesn't have coarse, crasslanguage.  I read for fun and relaxation......I like the free e...</td>\n",
       "      <td>04 4, 2014</td>\n",
       "      <td>A795DMNCJILA6</td>\n",
       "      <td>dot</td>\n",
       "      <td>Oldie</td>\n",
       "      <td>1396569600</td>\n",
       "    </tr>\n",
       "    <tr>\n",
       "      <td>3</td>\n",
       "      <td>3</td>\n",
       "      <td>B000F83SZQ</td>\n",
       "      <td>[1, 1]</td>\n",
       "      <td>5</td>\n",
       "      <td>I'd never read any of the Amy Brewster mysteries until this one..  So I am really hooked on them now.</td>\n",
       "      <td>02 19, 2014</td>\n",
       "      <td>A1FV0SX13TWVXQ</td>\n",
       "      <td>Elaine H. Turley \"Montana Songbird\"</td>\n",
       "      <td>I really liked it.</td>\n",
       "      <td>1392768000</td>\n",
       "    </tr>\n",
       "    <tr>\n",
       "      <td>4</td>\n",
       "      <td>4</td>\n",
       "      <td>B000F83SZQ</td>\n",
       "      <td>[0, 1]</td>\n",
       "      <td>4</td>\n",
       "      <td>If you like period pieces - clothing, lingo, you will enjoy this mystery.  Author had me guessing at least 2/3 of the way through.</td>\n",
       "      <td>03 19, 2014</td>\n",
       "      <td>A3SPTOKDG7WBLN</td>\n",
       "      <td>Father Dowling Fan</td>\n",
       "      <td>Period Mystery</td>\n",
       "      <td>1395187200</td>\n",
       "    </tr>\n",
       "  </tbody>\n",
       "</table>\n",
       "</div>"
      ],
      "text/plain": [
       "   Unnamed: 0        asin helpful  overall  \\\n",
       "0           0  B000F83SZQ  [0, 0]        5   \n",
       "1           1  B000F83SZQ  [2, 2]        4   \n",
       "2           2  B000F83SZQ  [2, 2]        4   \n",
       "3           3  B000F83SZQ  [1, 1]        5   \n",
       "4           4  B000F83SZQ  [0, 1]        4   \n",
       "\n",
       "                                                                                                                                                                                                reviewText  \\\n",
       "0  I enjoy vintage books and movies so I enjoyed reading this book.  The plot was unusual.  Don't think killing someone in self-defense but leaving the scene and the body without notifying the police...   \n",
       "1  This book is a reissue of an old one; the author was born in 1910. It's of the era of, say, Nero Wolfe. The introduction was quite interesting, explaining who the author was and why he's been forg...   \n",
       "2  This was a fairly interesting read.  It had old- style terminology.I was glad to get  to read a story that doesn't have coarse, crasslanguage.  I read for fun and relaxation......I like the free e...   \n",
       "3                                                                                                    I'd never read any of the Amy Brewster mysteries until this one..  So I am really hooked on them now.   \n",
       "4                                                                       If you like period pieces - clothing, lingo, you will enjoy this mystery.  Author had me guessing at least 2/3 of the way through.   \n",
       "\n",
       "    reviewTime      reviewerID                         reviewerName  \\\n",
       "0   05 5, 2014  A1F6404F1VG29J                           Avidreader   \n",
       "1   01 6, 2014   AN0N05A9LIJEQ                             critters   \n",
       "2   04 4, 2014   A795DMNCJILA6                                  dot   \n",
       "3  02 19, 2014  A1FV0SX13TWVXQ  Elaine H. Turley \"Montana Songbird\"   \n",
       "4  03 19, 2014  A3SPTOKDG7WBLN                   Father Dowling Fan   \n",
       "\n",
       "              summary  unixReviewTime  \n",
       "0  Nice vintage story      1399248000  \n",
       "1        Different...      1388966400  \n",
       "2               Oldie      1396569600  \n",
       "3  I really liked it.      1392768000  \n",
       "4      Period Mystery      1395187200  "
      ]
     },
     "execution_count": 3,
     "metadata": {},
     "output_type": "execute_result"
    }
   ],
   "source": [
    "data.head()"
   ]
  },
  {
   "cell_type": "code",
   "execution_count": 4,
   "metadata": {},
   "outputs": [],
   "source": [
    "data = data[['reviewText','summary']]"
   ]
  },
  {
   "cell_type": "code",
   "execution_count": 5,
   "metadata": {},
   "outputs": [
    {
     "data": {
      "text/plain": [
       "reviewText    22\n",
       "summary        1\n",
       "dtype: int64"
      ]
     },
     "execution_count": 5,
     "metadata": {},
     "output_type": "execute_result"
    }
   ],
   "source": [
    "data.isnull().sum()"
   ]
  },
  {
   "cell_type": "code",
   "execution_count": 6,
   "metadata": {},
   "outputs": [],
   "source": [
    "#drop na\n",
    "data.dropna(axis = 0, inplace = True)"
   ]
  },
  {
   "cell_type": "code",
   "execution_count": 7,
   "metadata": {},
   "outputs": [],
   "source": [
    "#drop duplicates\n",
    "data.drop_duplicates(subset = ['reviewText'], inplace = True)"
   ]
  },
  {
   "cell_type": "code",
   "execution_count": 8,
   "metadata": {},
   "outputs": [
    {
     "name": "stdout",
     "output_type": "stream",
     "text": [
      "<class 'pandas.core.frame.DataFrame'>\n",
      "Int64Index: 982266 entries, 0 to 982618\n",
      "Data columns (total 2 columns):\n",
      "reviewText    982266 non-null object\n",
      "summary       982266 non-null object\n",
      "dtypes: object(2)\n",
      "memory usage: 22.5+ MB\n"
     ]
    }
   ],
   "source": [
    "#datatypes and shape\n",
    "data.info()"
   ]
  },
  {
   "cell_type": "code",
   "execution_count": 9,
   "metadata": {},
   "outputs": [
    {
     "name": "stdout",
     "output_type": "stream",
     "text": [
      "Review # 1\n",
      "Full review:  I enjoy vintage books and movies so I enjoyed reading this book.  The plot was unusual.  Don't think killing someone in self-defense but leaving the scene and the body without notifying the police or hitting someone in the jaw to knock them out would wash today.Still it was a good read for me.\n",
      "\n",
      "Summary review:  Nice vintage story\n",
      "\n",
      "Review # 2\n",
      "Full review:  This book is a reissue of an old one; the author was born in 1910. It's of the era of, say, Nero Wolfe. The introduction was quite interesting, explaining who the author was and why he's been forgotten; I'd never heard of him.The language is a little dated at times, like calling a gun a &#34;heater.&#34;  I also made good use of my Fire's dictionary to look up words like &#34;deshabille&#34; and &#34;Canarsie.&#34; Still, it was well worth a look-see.\n",
      "\n",
      "Summary review:  Different...\n",
      "\n",
      "Review # 3\n",
      "Full review:  This was a fairly interesting read.  It had old- style terminology.I was glad to get  to read a story that doesn't have coarse, crasslanguage.  I read for fun and relaxation......I like the free ebooksbecause I can check out a writer and decide if they are intriguing,innovative, and have enough of the command of Englishthat they can convey the story without crude language.\n",
      "\n",
      "Summary review:  Oldie\n",
      "\n",
      "Review # 4\n",
      "Full review:  I'd never read any of the Amy Brewster mysteries until this one..  So I am really hooked on them now.\n",
      "\n",
      "Summary review:  I really liked it.\n",
      "\n",
      "Review # 5\n",
      "Full review:  If you like period pieces - clothing, lingo, you will enjoy this mystery.  Author had me guessing at least 2/3 of the way through.\n",
      "\n",
      "Summary review:  Period Mystery\n",
      "\n"
     ]
    }
   ],
   "source": [
    "# view some reviews\n",
    "for i in range(5):\n",
    "    print(\"Review #\",i+1)\n",
    "    print('Full review: ', data.reviewText[i])\n",
    "    print()\n",
    "    print('Summary review: ', data.summary[i])\n",
    "    print()"
   ]
  },
  {
   "cell_type": "markdown",
   "metadata": {},
   "source": [
    "## 2. Data preparation and preprocessing\n",
    "\n",
    "This will include:\n",
    "+ converting to lowercase\n",
    "+ removing tags\n",
    "+ mapping contractions\n",
    "+ removing unwanted punctuation, special characters, stop words and short words"
   ]
  },
  {
   "cell_type": "code",
   "execution_count": 10,
   "metadata": {},
   "outputs": [],
   "source": [
    "#list of contractions from http://stackoverflow.com/questions/19790188/expanding-english-language-contractions-in-python\n",
    "contractions = { \n",
    "\"ain't\": \"am not\",\n",
    "\"aren't\": \"are not\",\n",
    "\"can't\": \"cannot\",\n",
    "\"can't've\": \"cannot have\",\n",
    "\"'cause\": \"because\",\n",
    "\"could've\": \"could have\",\n",
    "\"couldn't\": \"could not\",\n",
    "\"couldn't've\": \"could not have\",\n",
    "\"didn't\": \"did not\",\n",
    "\"doesn't\": \"does not\",\n",
    "\"don't\": \"do not\",\n",
    "\"hadn't\": \"had not\",\n",
    "\"hadn't've\": \"had not have\",\n",
    "\"hasn't\": \"has not\",\n",
    "\"haven't\": \"have not\",\n",
    "\"he'd\": \"he would\",\n",
    "\"he'd've\": \"he would have\",\n",
    "\"he'll\": \"he will\",\n",
    "\"he's\": \"he is\",\n",
    "\"how'd\": \"how did\",\n",
    "\"how'll\": \"how will\",\n",
    "\"how's\": \"how is\",\n",
    "\"i'd\": \"i would\",\n",
    "\"i'll\": \"i will\",\n",
    "\"i'm\": \"i am\",\n",
    "\"i've\": \"i have\",\n",
    "\"isn't\": \"is not\",\n",
    "\"it'd\": \"it would\",\n",
    "\"it'll\": \"it will\",\n",
    "\"it's\": \"it is\",\n",
    "\"let's\": \"let us\",\n",
    "\"ma'am\": \"madam\",\n",
    "\"mayn't\": \"may not\",\n",
    "\"might've\": \"might have\",\n",
    "\"mightn't\": \"might not\",\n",
    "\"must've\": \"must have\",\n",
    "\"mustn't\": \"must not\",\n",
    "\"needn't\": \"need not\",\n",
    "\"oughtn't\": \"ought not\",\n",
    "\"shan't\": \"shall not\",\n",
    "\"sha'n't\": \"shall not\",\n",
    "\"she'd\": \"she would\",\n",
    "\"she'll\": \"she will\",\n",
    "\"she's\": \"she is\",\n",
    "\"should've\": \"should have\",\n",
    "\"shouldn't\": \"should not\",\n",
    "\"that'd\": \"that would\",\n",
    "\"that's\": \"that is\",\n",
    "\"there'd\": \"there had\",\n",
    "\"there's\": \"there is\",\n",
    "\"they'd\": \"they would\",\n",
    "\"they'll\": \"they will\",\n",
    "\"they're\": \"they are\",\n",
    "\"they've\": \"they have\",\n",
    "\"wasn't\": \"was not\",\n",
    "\"we'd\": \"we would\",\n",
    "\"we'll\": \"we will\",\n",
    "\"we're\": \"we are\",\n",
    "\"we've\": \"we have\",\n",
    "\"weren't\": \"were not\",\n",
    "\"what'll\": \"what will\",\n",
    "\"what're\": \"what are\",\n",
    "\"what's\": \"what is\",\n",
    "\"what've\": \"what have\",\n",
    "\"where'd\": \"where did\",\n",
    "\"where's\": \"where is\",\n",
    "\"who'll\": \"who will\",\n",
    "\"who's\": \"who is\",\n",
    "\"won't\": \"will not\",\n",
    "\"wouldn't\": \"would not\",\n",
    "\"you'd\": \"you would\",\n",
    "\"you'll\": \"you will\",\n",
    "\"you're\": \"you are\"\n",
    "}"
   ]
  },
  {
   "cell_type": "code",
   "execution_count": 11,
   "metadata": {},
   "outputs": [],
   "source": [
    "#function to clean text\n",
    "def clean_text(text, remove_stopwords = True):    \n",
    "    #convert words to lowercase\n",
    "    text = text.lower()\n",
    "    \n",
    "    #replace contractions with longer forms \n",
    "    if True:\n",
    "        text = text.split()\n",
    "        new_text = []\n",
    "        for word in text:\n",
    "            if word in contractions:\n",
    "                new_text.append(contractions[word])\n",
    "            else:\n",
    "                new_text.append(word)\n",
    "        text = \" \".join(new_text)\n",
    "    \n",
    "    #format words and remove unwanted characters\n",
    "    text = re.sub(r'https?:\\/\\/.*[\\r\\n]*', '', text, flags=re.MULTILINE)\n",
    "    text = re.sub(r'\\<a href', ' ', text)\n",
    "    text = re.sub(r'&amp;', '', text) \n",
    "    text = re.sub(r'[_\"\\-;%()|+&=*%.,!?:#$@\\[\\]/]', ' ', text)\n",
    "    text = re.sub(r'<br />', ' ', text)\n",
    "    text = re.sub(r'\\'', ' ', text)\n",
    "    \n",
    "    #remove stop words if true\n",
    "    if remove_stopwords:\n",
    "        text = text.split()\n",
    "        stops = set(stopwords.words(\"english\"))\n",
    "        text = [w for w in text if not w in stops]\n",
    "        text = \" \".join(text)\n",
    "\n",
    "    return text"
   ]
  },
  {
   "cell_type": "code",
   "execution_count": 12,
   "metadata": {},
   "outputs": [
    {
     "name": "stdout",
     "output_type": "stream",
     "text": [
      "Summaries are complete.\n",
      "Texts are complete.\n"
     ]
    }
   ],
   "source": [
    "#clean summaries and review texts\n",
    "clean_summaries = []\n",
    "for summary in data.summary:\n",
    "    clean_summaries.append(clean_text(summary, remove_stopwords=False))\n",
    "print(\"Summaries are complete.\")\n",
    "\n",
    "clean_texts = []\n",
    "for text in data.reviewText:\n",
    "    clean_texts.append(clean_text(text))\n",
    "print(\"Texts are complete.\")"
   ]
  },
  {
   "cell_type": "code",
   "execution_count": 13,
   "metadata": {},
   "outputs": [
    {
     "name": "stdout",
     "output_type": "stream",
     "text": [
      "Clean Review # 1\n",
      "Clean Summary:  nice vintage story\n",
      "\n",
      "Clean Review:  enjoy vintage books movies enjoyed reading book plot unusual think killing someone self defense leaving scene body without notifying police hitting someone jaw knock would wash today still good read\n",
      "\n",
      "Clean Review # 2\n",
      "Clean Summary:  different   \n",
      "\n",
      "Clean Review:  book reissue old one author born 1910 era say nero wolfe introduction quite interesting explaining author forgotten would never heard language little dated times like calling gun 34 heater 34 also made good use fire dictionary look words like 34 deshabille 34 34 canarsie 34 still well worth look see\n",
      "\n",
      "Clean Review # 3\n",
      "Clean Summary:  oldie\n",
      "\n",
      "Clean Review:  fairly interesting read old style terminology glad get read story coarse crasslanguage read fun relaxation like free ebooksbecause check writer decide intriguing innovative enough command englishthat convey story without crude language\n",
      "\n",
      "Clean Review # 4\n",
      "Clean Summary:  i really liked it \n",
      "\n",
      "Clean Review:  would never read amy brewster mysteries one really hooked\n",
      "\n",
      "Clean Review # 5\n",
      "Clean Summary:  period mystery\n",
      "\n",
      "Clean Review:  like period pieces clothing lingo enjoy mystery author guessing least 2 3 way\n",
      "\n"
     ]
    }
   ],
   "source": [
    "#inspect cleaned summaries and texts \n",
    "for i in range(5):\n",
    "    print(\"Clean Review #\",i+1)\n",
    "    print(\"Clean Summary: \", clean_summaries[i])\n",
    "    print()\n",
    "    print(\"Clean Review: \", clean_texts[i])\n",
    "    print()"
   ]
  },
  {
   "cell_type": "code",
   "execution_count": 14,
   "metadata": {},
   "outputs": [],
   "source": [
    "#drop empty rows\n",
    "data.replace('', np.nan, inplace = True)\n",
    "data.dropna(axis = 0, inplace = True)"
   ]
  },
  {
   "cell_type": "markdown",
   "metadata": {},
   "source": [
    "### Distibution of lengths for summaries and reviews"
   ]
  },
  {
   "cell_type": "code",
   "execution_count": 15,
   "metadata": {},
   "outputs": [
    {
     "data": {
      "text/plain": [
       "<Figure size 640x480 with 2 Axes>"
      ]
     },
     "metadata": {},
     "output_type": "display_data"
    }
   ],
   "source": [
    "import matplotlib.pyplot as plt\n",
    "\n",
    "text_word_count = []\n",
    "summary_word_count = []\n",
    "\n",
    "# populate the lists with sentence lengths\n",
    "for i in clean_texts:\n",
    "      text_word_count.append(len(i.split()))\n",
    "\n",
    "for i in clean_summaries:\n",
    "      summary_word_count.append(len(i.split()))\n",
    "\n",
    "length_df = pd.DataFrame({'text': text_word_count, 'summary': summary_word_count})\n",
    "\n",
    "length_df.hist(bins = 30)\n",
    "plt.show()"
   ]
  },
  {
   "cell_type": "code",
   "execution_count": 16,
   "metadata": {},
   "outputs": [
    {
     "data": {
      "text/html": [
       "<div>\n",
       "<style scoped>\n",
       "    .dataframe tbody tr th:only-of-type {\n",
       "        vertical-align: middle;\n",
       "    }\n",
       "\n",
       "    .dataframe tbody tr th {\n",
       "        vertical-align: top;\n",
       "    }\n",
       "\n",
       "    .dataframe thead th {\n",
       "        text-align: right;\n",
       "    }\n",
       "</style>\n",
       "<table border=\"1\" class=\"dataframe\">\n",
       "  <thead>\n",
       "    <tr style=\"text-align: right;\">\n",
       "      <th></th>\n",
       "      <th>text</th>\n",
       "      <th>summary</th>\n",
       "    </tr>\n",
       "  </thead>\n",
       "  <tbody>\n",
       "    <tr>\n",
       "      <td>count</td>\n",
       "      <td>982266.000000</td>\n",
       "      <td>982266.000000</td>\n",
       "    </tr>\n",
       "    <tr>\n",
       "      <td>mean</td>\n",
       "      <td>55.186173</td>\n",
       "      <td>4.068226</td>\n",
       "    </tr>\n",
       "    <tr>\n",
       "      <td>std</td>\n",
       "      <td>65.942127</td>\n",
       "      <td>2.938587</td>\n",
       "    </tr>\n",
       "    <tr>\n",
       "      <td>min</td>\n",
       "      <td>0.000000</td>\n",
       "      <td>0.000000</td>\n",
       "    </tr>\n",
       "    <tr>\n",
       "      <td>25%</td>\n",
       "      <td>17.000000</td>\n",
       "      <td>2.000000</td>\n",
       "    </tr>\n",
       "    <tr>\n",
       "      <td>50%</td>\n",
       "      <td>31.000000</td>\n",
       "      <td>3.000000</td>\n",
       "    </tr>\n",
       "    <tr>\n",
       "      <td>75%</td>\n",
       "      <td>65.000000</td>\n",
       "      <td>5.000000</td>\n",
       "    </tr>\n",
       "    <tr>\n",
       "      <td>max</td>\n",
       "      <td>2167.000000</td>\n",
       "      <td>43.000000</td>\n",
       "    </tr>\n",
       "  </tbody>\n",
       "</table>\n",
       "</div>"
      ],
      "text/plain": [
       "                text        summary\n",
       "count  982266.000000  982266.000000\n",
       "mean       55.186173       4.068226\n",
       "std        65.942127       2.938587\n",
       "min         0.000000       0.000000\n",
       "25%        17.000000       2.000000\n",
       "50%        31.000000       3.000000\n",
       "75%        65.000000       5.000000\n",
       "max      2167.000000      43.000000"
      ]
     },
     "execution_count": 16,
     "metadata": {},
     "output_type": "execute_result"
    }
   ],
   "source": [
    "#find length stats for reviews and summaries for max length variable to be set\n",
    "length_df.describe()"
   ]
  },
  {
   "cell_type": "code",
   "execution_count": 17,
   "metadata": {},
   "outputs": [
    {
     "name": "stdout",
     "output_type": "stream",
     "text": [
      "0.9619604058371154\n"
     ]
    }
   ],
   "source": [
    "#proportion of summaries less than or equal to 10 words\n",
    "cnt = 0\n",
    "for i in clean_summaries:\n",
    "    if(len(i.split()) <= 10):\n",
    "        cnt=cnt+1\n",
    "print(cnt/len(clean_summaries))"
   ]
  },
  {
   "cell_type": "code",
   "execution_count": 18,
   "metadata": {},
   "outputs": [
    {
     "data": {
      "image/png": "[encoded data removed]",
      "text/plain": [
       "<Figure size 432x288 with 1 Axes>"
      ]
     },
     "metadata": {
      "needs_background": "light"
     },
     "output_type": "display_data"
    }
   ],
   "source": [
    "#word count distribution for review\n",
    "plt.boxplot(text_word_count)\n",
    "plt.show()"
   ]
  },
  {
   "cell_type": "code",
   "execution_count": 19,
   "metadata": {},
   "outputs": [
    {
     "name": "stdout",
     "output_type": "stream",
     "text": [
      "0.9108581585843346\n"
     ]
    }
   ],
   "source": [
    "#proportion less than or equal to 140 words in reviews\n",
    "cnt = 0\n",
    "for i in clean_texts:\n",
    "    if(len(i.split()) <= 140):\n",
    "        cnt=cnt+1\n",
    "print(cnt/len(clean_texts))"
   ]
  },
  {
   "cell_type": "markdown",
   "metadata": {},
   "source": [
    "As 96% of summaries are less than or equal to 10 words, and 91% of reviews are less than or equal to 140 words, these will be set as the maximum length for each respectively. Reviews and summaries that exceed these lengths will be filtered out."
   ]
  },
  {
   "cell_type": "code",
   "execution_count": 20,
   "metadata": {},
   "outputs": [],
   "source": [
    "#set max lengths for reviews and summaries\n",
    "max_text_len = 140\n",
    "max_summary_len = 10"
   ]
  },
  {
   "cell_type": "code",
   "execution_count": 21,
   "metadata": {},
   "outputs": [],
   "source": [
    "clean_texts = np.array(clean_texts)\n",
    "clean_summaries = np.array(clean_summaries)\n",
    "\n",
    "trunc_texts = []\n",
    "trunc_summaries = []\n",
    "\n",
    "for i in range(len(clean_texts)):\n",
    "    if(len(clean_summaries[i].split()) <= max_summary_len and len(clean_texts[i].split()) <= max_text_len):\n",
    "        trunc_texts.append(clean_texts[i])\n",
    "        trunc_summaries.append(clean_summaries[i])\n",
    "        \n",
    "df = pd.DataFrame({'text': trunc_texts,'summary': trunc_summaries})"
   ]
  },
  {
   "cell_type": "markdown",
   "metadata": {},
   "source": [
    "Start ('UNK') and end ('EOS') tokens are added at the beginning and end of summaries."
   ]
  },
  {
   "cell_type": "code",
   "execution_count": 22,
   "metadata": {},
   "outputs": [],
   "source": [
    "df['summary'] = df['summary'].apply(lambda x : 'UNK '+ x + ' EOS')"
   ]
  },
  {
   "cell_type": "markdown",
   "metadata": {},
   "source": [
    "### Train-Test Split"
   ]
  },
  {
   "cell_type": "code",
   "execution_count": 23,
   "metadata": {},
   "outputs": [],
   "source": [
    "from sklearn.model_selection import train_test_split\n",
    "\n",
    "X_train, X_valid, Y_train, Y_valid = train_test_split(np.array(df['text']),\n",
    "                                                      np.array(df['summary']),\n",
    "                                                      test_size=0.1,\n",
    "                                                      random_state=0,\n",
    "                                                      shuffle=True)"
   ]
  },
  {
   "cell_type": "markdown",
   "metadata": {},
   "source": [
    "### Tokenising\n",
    "\n",
    "This builds the vocabulary and converts word sequences into integer sequences.\n",
    "\n",
    "#### Prepare tokeniser for reviews on train data"
   ]
  },
  {
   "cell_type": "code",
   "execution_count": 24,
   "metadata": {},
   "outputs": [],
   "source": [
    "from keras.preprocessing.text import Tokenizer \n",
    "from keras.preprocessing.sequence import pad_sequences\n",
    "\n",
    "#prepare a tokeniser for reviews on training data\n",
    "x_tokenizer = Tokenizer() \n",
    "x_tokenizer.fit_on_texts(list(X_train))"
   ]
  },
  {
   "cell_type": "code",
   "execution_count": 25,
   "metadata": {},
   "outputs": [
    {
     "name": "stdout",
     "output_type": "stream",
     "text": [
      "Proportion of rare words in vocabulary: 70.50468695988124\n",
      "Total coverage of rare words: 0.6793411574106882\n"
     ]
    }
   ],
   "source": [
    "#rare word analysis - proportion of words in reviews that occur less than 5 times\n",
    "thresh = 5\n",
    "\n",
    "cnt = 0 #number of rare words that fall below threshold\n",
    "tot_cnt = 0 #number of unique words in the text\n",
    "freq = 0\n",
    "tot_freq = 0\n",
    "\n",
    "for key, value in x_tokenizer.word_counts.items():\n",
    "    tot_cnt = tot_cnt + 1\n",
    "    tot_freq = tot_freq + value\n",
    "    if (value < thresh):\n",
    "        cnt = cnt + 1\n",
    "        freq = freq + value\n",
    "    \n",
    "print(\"Proportion of rare words in vocabulary:\", (cnt/tot_cnt) * 100)\n",
    "print(\"Total coverage of rare words:\", (freq/tot_freq) * 100)"
   ]
  },
  {
   "cell_type": "code",
   "execution_count": 26,
   "metadata": {},
   "outputs": [
    {
     "name": "stdout",
     "output_type": "stream",
     "text": [
      "58023\n"
     ]
    }
   ],
   "source": [
    "#prepare tokeniser for reviews on training data for most common words (tot_cnt - cnt)\n",
    "x_tokenizer = Tokenizer(num_words = tot_cnt - cnt) \n",
    "x_tokenizer.fit_on_texts(list(X_train))\n",
    "\n",
    "#convert text sequences into integer sequences\n",
    "X_train_seq = x_tokenizer.texts_to_sequences(X_train) \n",
    "X_valid_seq = x_tokenizer.texts_to_sequences(X_valid)\n",
    "\n",
    "#padding 0 up to maximum length\n",
    "X_train = pad_sequences(X_train_seq, maxlen = max_text_len, padding = 'post')\n",
    "X_valid = pad_sequences(X_valid_seq, maxlen = max_text_len, padding = 'post')\n",
    "\n",
    "#size of vocabulary (+1 for padding token)\n",
    "x_voc = x_tokenizer.num_words + 1\n",
    "\n",
    "print(x_voc)"
   ]
  },
  {
   "cell_type": "markdown",
   "metadata": {},
   "source": [
    "#### Prepare tokeniser for summaries on train data"
   ]
  },
  {
   "cell_type": "code",
   "execution_count": 27,
   "metadata": {},
   "outputs": [],
   "source": [
    "#prepare tokeniser on training data summaries\n",
    "y_tokenizer = Tokenizer()   \n",
    "y_tokenizer.fit_on_texts(list(Y_train))"
   ]
  },
  {
   "cell_type": "code",
   "execution_count": 28,
   "metadata": {},
   "outputs": [
    {
     "name": "stdout",
     "output_type": "stream",
     "text": [
      "% of rare words in vocabulary: 68.76415702084329\n",
      "Total coverage of rare words: 1.1898811657097674\n"
     ]
    }
   ],
   "source": [
    "#rare word analysis - proportion of words in summaries that occur less than 5 times\n",
    "thresh = 5\n",
    "\n",
    "cnt = 0\n",
    "tot_cnt = 0\n",
    "freq = 0\n",
    "tot_freq = 0\n",
    "\n",
    "for key, value in y_tokenizer.word_counts.items():\n",
    "    tot_cnt = tot_cnt + 1\n",
    "    tot_freq = tot_freq + value\n",
    "    if(value < thresh):\n",
    "        cnt = cnt + 1\n",
    "        freq = freq + value\n",
    "    \n",
    "print(\"% of rare words in vocabulary:\", (cnt/tot_cnt) * 100)\n",
    "print(\"Total coverage of rare words:\", (freq/tot_freq) * 100)"
   ]
  },
  {
   "cell_type": "code",
   "execution_count": 29,
   "metadata": {},
   "outputs": [],
   "source": [
    "#prepare a tokeniser for summaries on training data\n",
    "y_tokenizer = Tokenizer(num_words = tot_cnt - cnt) \n",
    "y_tokenizer.fit_on_texts(list(Y_train))\n",
    "\n",
    "#convert text sequences into integer sequences\n",
    "Y_train_seq = y_tokenizer.texts_to_sequences(Y_train) \n",
    "Y_valid_seq = y_tokenizer.texts_to_sequences(Y_valid) \n",
    "\n",
    "#padding zero upto maximum length\n",
    "Y_train = pad_sequences(Y_train_seq, maxlen = max_summary_len, padding = 'post')\n",
    "Y_valid = pad_sequences(Y_valid_seq, maxlen = max_summary_len, padding = 'post')\n",
    "\n",
    "#size of vocabulary\n",
    "y_voc = y_tokenizer.num_words + 1"
   ]
  },
  {
   "cell_type": "code",
   "execution_count": 30,
   "metadata": {},
   "outputs": [
    {
     "data": {
      "text/plain": [
       "(780706, 780706)"
      ]
     },
     "execution_count": 30,
     "metadata": {},
     "output_type": "execute_result"
    }
   ],
   "source": [
    "#number of start tokens should be equal to to train data length\n",
    "y_tokenizer.word_counts['unk'], len(Y_train)"
   ]
  },
  {
   "cell_type": "code",
   "execution_count": 31,
   "metadata": {},
   "outputs": [],
   "source": [
    "#delete rows in train data where summaries contain only start and end tokens\n",
    "ind = []\n",
    "for i in range(len(Y_train)):\n",
    "    cnt = 0\n",
    "    for j in Y_train[i]:\n",
    "        if j != 0:\n",
    "            cnt = cnt + 1\n",
    "    if (cnt == 2):\n",
    "        ind.append(i)\n",
    "\n",
    "Y_train = np.delete(Y_train, ind, axis=0)\n",
    "X_train = np.delete(X_train, ind, axis=0)"
   ]
  },
  {
   "cell_type": "code",
   "execution_count": 32,
   "metadata": {},
   "outputs": [],
   "source": [
    "#delete rows in validation data where summaries contain only start and end tokens\n",
    "ind = []\n",
    "for i in range(len(Y_valid)):\n",
    "    cnt = 0\n",
    "    for j in Y_valid[i]:\n",
    "        if j != 0:\n",
    "            cnt = cnt + 1\n",
    "    if (cnt == 2):\n",
    "        ind.append(i)\n",
    "\n",
    "Y_valid=np.delete(Y_valid, ind, axis = 0)\n",
    "X_valid=np.delete(X_valid, ind, axis = 0)"
   ]
  },
  {
   "cell_type": "markdown",
   "metadata": {},
   "source": [
    "## 3. Building the Model\n",
    "\n",
    "The model that will be built is a seq2seq model, which has two major components: encoder and decoder. Variants of RNNs i.e. Gated RNN (GRU) or LSTM are preferred as the encoder and decoder components as they are capable of capturing long term dependencies by overcoming the issue of vanishing gradient\n",
    "\n",
    "Encoder and decoder are set up in two phases:\n",
    "1. Training phase:\n",
    "    + Encoder - an encoder LSTM reads the entire input sequence; at each timestep, one word is fed into the encoder. It then processes the information at every timestep and captures the contextual information present in the input sequence. The hidden state and cell state of the last time step are used to initialise the decoder as the encoder and decoder are two different sets of the LSTM architecture.\n",
    "    + Decoder - the decoder is also an LSTM network that reads the entire target sequence word-by-word and predicts the same sequence offset by one timestep. The decoder is trained to predict the next word in the sequence given the previous word. The start and end tokens added to the target sequence before feeding it into the decoder. The target sequence is unknown while decoding the test sequence. So, start predicting the target sequence by passing the first word into the decoder which would be always the start token. And the end token signals the end of the sentence.     \n",
    "\n",
    "\n",
    "\n",
    "2. Inference phase: after training, the model is tested on new source sequences for which the target sequence is unknown. So, the inference architecture must be set up to decode a test sequence. The steps of the inference process are as follows:\n",
    "    + Encode entire input sequence and initialise decoder with internal states of the encoder\n",
    "    + Pass start token as  input to the decoder\n",
    "    + Run decoder for one timestep with internal states\n",
    "    + The output will be probability for the next word. The word with the maximum probability will be selected\n",
    "    + Pass sampled word as an input to the decoder in the next timestep and update the internal states with the current time step\n",
    "    + Repeat steps until end token generated or hit maximum length of the target sequence\n",
    "\n",
    "As the encoder converts the entire input sequence into a fixed length vector, then the decoder predicts the output sequence, this process only words for short sequences since the decoder is looking at the entire input sequence for the prediction, therefore it is difficult for the encoder to memorise long sequences into a fixed length vector. To overcome the issue of long sequences, an attention mechanism can be implemented - this aims to predict a word by looking at a few specific parts of the sequence only, rather than the whole sequence.\n",
    "\n",
    "Since Keras does not officially support attention layer, an externally-written attention layer will be used. The code is below as class AttentionLayer, and was obtained from the following link: https://github.com/thushv89/attention_keras/blob/master/layers/attention.py\n",
    "\n",
    "Here, this model will include the following:\n",
    "+ a 3 stacked LSTM will be built for the encoder - multiple layers of LSTM stacked on to of each other, for better representation of the sequence\n",
    "+ return sequence = true, so LSTM produces the hidden state for every timestep\n",
    "+ return state = true so the LSTM produces the hidden state and cell state of the last timestep only\n",
    "+ early stopping will be used to stop training the neural network at the right time by monitoring a user-specified metric (validation loss) and the model will stop training when validation loss increases\n",
    "+ sprse cross-entropy will be used as the loss function as it converts the integer sequence to OHA efficiently, overcoming memory issues\n",
    "\n",
    "#### AttentionLayer class"
   ]
  },
  {
   "cell_type": "code",
   "execution_count": 33,
   "metadata": {},
   "outputs": [],
   "source": [
    "#attention layer class\n",
    "import tensorflow as tf\n",
    "import os\n",
    "from tensorflow.python.keras.layers import Layer\n",
    "from tensorflow.python.keras import backend as K\n",
    "\n",
    "\n",
    "class AttentionLayer(Layer):\n",
    "    \"\"\"\n",
    "    This class implements Bahdanau attention (https://arxiv.org/pdf/1409.0473.pdf).\n",
    "    There are three sets of weights introduced W_a, U_a, and V_a\n",
    "     \"\"\"\n",
    "\n",
    "    def __init__(self, **kwargs):\n",
    "        super(AttentionLayer, self).__init__(**kwargs)\n",
    "\n",
    "    def build(self, input_shape):\n",
    "        assert isinstance(input_shape, list)\n",
    "        # Create a trainable weight variable for this layer.\n",
    "\n",
    "        self.W_a = self.add_weight(name='W_a',\n",
    "                                   shape=tf.TensorShape((input_shape[0][2], input_shape[0][2])),\n",
    "                                   initializer='uniform',\n",
    "                                   trainable=True)\n",
    "        self.U_a = self.add_weight(name='U_a',\n",
    "                                   shape=tf.TensorShape((input_shape[1][2], input_shape[0][2])),\n",
    "                                   initializer='uniform',\n",
    "                                   trainable=True)\n",
    "        self.V_a = self.add_weight(name='V_a',\n",
    "                                   shape=tf.TensorShape((input_shape[0][2], 1)),\n",
    "                                   initializer='uniform',\n",
    "                                   trainable=True)\n",
    "\n",
    "        super(AttentionLayer, self).build(input_shape)  # call this at the end\n",
    "\n",
    "    def call(self, inputs, verbose=False):\n",
    "        #inputs: [encoder_output_sequence, decoder_output_sequence]\n",
    "        assert type(inputs) == list\n",
    "        encoder_out_seq, decoder_out_seq = inputs\n",
    "        if verbose:\n",
    "            print('encoder_out_seq>', encoder_out_seq.shape)\n",
    "            print('decoder_out_seq>', decoder_out_seq.shape)\n",
    "\n",
    "        def energy_step(inputs, states):\n",
    "            #Step function for computing energy for a single decoder state \n",
    "\n",
    "            assert_msg = \"States must be a list. However states {} is of type {}\".format(states, type(states))\n",
    "            assert isinstance(states, list) or isinstance(states, tuple), assert_msg\n",
    "\n",
    "            #Some parameters required for shaping tensors\n",
    "            en_seq_len, en_hidden = encoder_out_seq.shape[1], encoder_out_seq.shape[2]\n",
    "            de_hidden = inputs.shape[-1]\n",
    "\n",
    "            #Computing S.Wa where S=[s0, s1, ..., si]\n",
    "            # <= batch_size*en_seq_len, latent_dim\n",
    "            reshaped_enc_outputs = K.reshape(encoder_out_seq, (-1, en_hidden))\n",
    "            # <= batch_size*en_seq_len, latent_dim\n",
    "            W_a_dot_s = K.reshape(K.dot(reshaped_enc_outputs, self.W_a), (-1, en_seq_len, en_hidden))\n",
    "            if verbose:\n",
    "                print('wa.s>',W_a_dot_s.shape)\n",
    "\n",
    "            #Computing hj.Ua \n",
    "            U_a_dot_h = K.expand_dims(K.dot(inputs, self.U_a), 1)  # <= batch_size, 1, latent_dim\n",
    "            if verbose:\n",
    "                print('Ua.h>',U_a_dot_h.shape)\n",
    "\n",
    "            #tanh(S.Wa + hj.Ua) \n",
    "            # <= batch_size*en_seq_len, latent_dim\n",
    "            reshaped_Ws_plus_Uh = K.tanh(K.reshape(W_a_dot_s + U_a_dot_h, (-1, en_hidden)))\n",
    "            if verbose:\n",
    "                print('Ws+Uh>', reshaped_Ws_plus_Uh.shape)\n",
    "\n",
    "            #softmax(va.tanh(S.Wa + hj.Ua)) \n",
    "            # <= batch_size, en_seq_len\n",
    "            e_i = K.reshape(K.dot(reshaped_Ws_plus_Uh, self.V_a), (-1, en_seq_len))\n",
    "            # <= batch_size, en_seq_len\n",
    "            e_i = K.softmax(e_i)\n",
    "\n",
    "            if verbose:\n",
    "                print('ei>', e_i.shape)\n",
    "\n",
    "            return e_i, [e_i]\n",
    "\n",
    "        def context_step(inputs, states):\n",
    "            #Step function for computing ci using ei\n",
    "            # <= batch_size, hidden_size\n",
    "            c_i = K.sum(encoder_out_seq * K.expand_dims(inputs, -1), axis=1)\n",
    "            if verbose:\n",
    "                print('ci>', c_i.shape)\n",
    "            return c_i, [c_i]\n",
    "\n",
    "        def create_inital_state(inputs, hidden_size):\n",
    "            # We are not using initial states, but need to pass something to K.rnn funciton\n",
    "            fake_state = K.zeros_like(inputs)  # <= (batch_size, enc_seq_len, latent_dim\n",
    "            fake_state = K.sum(fake_state, axis=[1, 2])  # <= (batch_size)\n",
    "            fake_state = K.expand_dims(fake_state)  # <= (batch_size, 1)\n",
    "            fake_state = K.tile(fake_state, [1, hidden_size])  # <= (batch_size, latent_dim\n",
    "            return fake_state\n",
    "\n",
    "        fake_state_c = create_inital_state(encoder_out_seq, encoder_out_seq.shape[-1])\n",
    "        fake_state_e = create_inital_state(encoder_out_seq, encoder_out_seq.shape[1])  # <= (batch_size, enc_seq_len, latent_dim\n",
    "\n",
    "        #Computing energy outputs\n",
    "        # e_outputs => (batch_size, de_seq_len, en_seq_len)\n",
    "        last_out, e_outputs, _ = K.rnn(\n",
    "            energy_step, decoder_out_seq, [fake_state_e],\n",
    "        )\n",
    "\n",
    "        #Computing context vectors\n",
    "        last_out, c_outputs, _ = K.rnn(\n",
    "            context_step, e_outputs, [fake_state_c],\n",
    "        )\n",
    "\n",
    "        return c_outputs, e_outputs\n",
    "\n",
    "    def compute_output_shape(self, input_shape):\n",
    "        #Outputs produced by the layer \n",
    "        return [\n",
    "            tf.TensorShape((input_shape[1][0], input_shape[1][1], input_shape[1][2])),\n",
    "            tf.TensorShape((input_shape[1][0], input_shape[1][1], input_shape[0][1]))\n",
    "        ]"
   ]
  },
  {
   "cell_type": "markdown",
   "metadata": {},
   "source": [
    "#### Building the model"
   ]
  },
  {
   "cell_type": "code",
   "execution_count": 34,
   "metadata": {},
   "outputs": [
    {
     "name": "stdout",
     "output_type": "stream",
     "text": [
      "WARNING:tensorflow:From /Users/charlottefettes/opt/anaconda3/lib/python3.7/site-packages/tensorflow/python/keras/initializers.py:119: calling RandomUniform.__init__ (from tensorflow.python.ops.init_ops) with dtype is deprecated and will be removed in a future version.\n",
      "Instructions for updating:\n",
      "Call initializer instance with the dtype argument instead of passing it to the constructor\n",
      "WARNING:tensorflow:From /Users/charlottefettes/opt/anaconda3/lib/python3.7/site-packages/tensorflow/python/ops/init_ops.py:1251: calling VarianceScaling.__init__ (from tensorflow.python.ops.init_ops) with dtype is deprecated and will be removed in a future version.\n",
      "Instructions for updating:\n",
      "Call initializer instance with the dtype argument instead of passing it to the constructor\n",
      "Model: \"model\"\n",
      "__________________________________________________________________________________________________\n",
      "Layer (type)                    Output Shape         Param #     Connected to                     \n",
      "==================================================================================================\n",
      "input_1 (InputLayer)            [(None, 140)]        0                                            \n",
      "__________________________________________________________________________________________________\n",
      "embedding (Embedding)           (None, 140, 100)     5802300     input_1[0][0]                    \n",
      "__________________________________________________________________________________________________\n",
      "lstm (LSTM)                     [(None, 140, 300), ( 481200      embedding[0][0]                  \n",
      "__________________________________________________________________________________________________\n",
      "input_2 (InputLayer)            [(None, None)]       0                                            \n",
      "__________________________________________________________________________________________________\n",
      "lstm_1 (LSTM)                   [(None, 140, 300), ( 721200      lstm[0][0]                       \n",
      "__________________________________________________________________________________________________\n",
      "embedding_1 (Embedding)         (None, None, 100)    1503200     input_2[0][0]                    \n",
      "__________________________________________________________________________________________________\n",
      "lstm_2 (LSTM)                   [(None, 140, 300), ( 721200      lstm_1[0][0]                     \n",
      "__________________________________________________________________________________________________\n",
      "lstm_3 (LSTM)                   [(None, None, 300),  481200      embedding_1[0][0]                \n",
      "                                                                 lstm_2[0][1]                     \n",
      "                                                                 lstm_2[0][2]                     \n",
      "__________________________________________________________________________________________________\n",
      "attention_layer (AttentionLayer ((None, None, 300),  180300      lstm_2[0][0]                     \n",
      "                                                                 lstm_3[0][0]                     \n",
      "__________________________________________________________________________________________________\n",
      "concat_layer (Concatenate)      (None, None, 600)    0           lstm_3[0][0]                     \n",
      "                                                                 attention_layer[0][0]            \n",
      "__________________________________________________________________________________________________\n",
      "time_distributed (TimeDistribut (None, None, 15032)  9034232     concat_layer[0][0]               \n",
      "==================================================================================================\n",
      "Total params: 18,924,832\n",
      "Trainable params: 18,924,832\n",
      "Non-trainable params: 0\n",
      "__________________________________________________________________________________________________\n"
     ]
    }
   ],
   "source": [
    "from keras import backend as K \n",
    "K.clear_session()\n",
    "\n",
    "latent_dim = 300\n",
    "embedding_dim = 100\n",
    "\n",
    "#encoder\n",
    "encoder_inputs = Input(shape = (max_text_len,))\n",
    "\n",
    "#embedding layer\n",
    "enc_emb =  Embedding(x_voc, embedding_dim,trainable = True)(encoder_inputs)\n",
    "\n",
    "#encoder lstm 1\n",
    "encoder_lstm1 = LSTM(latent_dim, return_sequences = True, return_state = True, dropout=0.4, recurrent_dropout = 0.4)\n",
    "encoder_output1, state_h1, state_c1 = encoder_lstm1(enc_emb)\n",
    "\n",
    "#encoder lstm 2\n",
    "encoder_lstm2 = LSTM(latent_dim, return_sequences = True, return_state = True, dropout=0.4, recurrent_dropout = 0.4)\n",
    "encoder_output2, state_h2, state_c2 = encoder_lstm2(encoder_output1)\n",
    "\n",
    "#encoder lstm 3\n",
    "encoder_lstm3 = LSTM(latent_dim, return_state = True, return_sequences = True, dropout = 0.4, recurrent_dropout = 0.4)\n",
    "encoder_outputs, state_h, state_c = encoder_lstm3(encoder_output2)\n",
    "\n",
    "#set up the decoder, using `encoder_states` as initial state.\n",
    "decoder_inputs = Input(shape = (None,))\n",
    "\n",
    "#embedding layer\n",
    "dec_emb_layer = Embedding(y_voc, embedding_dim,trainable = True)\n",
    "dec_emb = dec_emb_layer(decoder_inputs)\n",
    "\n",
    "decoder_lstm = LSTM(latent_dim, return_sequences = True, return_state = True,dropout = 0.4, recurrent_dropout = 0.2)\n",
    "decoder_outputs, decoder_fwd_state, decoder_back_state = decoder_lstm(dec_emb,initial_state = [state_h, state_c])\n",
    "\n",
    "#attention layer\n",
    "attn_layer = AttentionLayer(name = 'attention_layer')\n",
    "attn_out, attn_states = attn_layer([encoder_outputs, decoder_outputs])\n",
    "\n",
    "#concat attention input and decoder LSTM output\n",
    "decoder_concat_input = Concatenate(axis = -1, name = 'concat_layer')([decoder_outputs, attn_out])\n",
    "\n",
    "#dense layer\n",
    "decoder_dense =  TimeDistributed(Dense(y_voc, activation = 'softmax'))\n",
    "decoder_outputs = decoder_dense(decoder_concat_input)\n",
    "\n",
    "#define the model \n",
    "model = Model([encoder_inputs, decoder_inputs], decoder_outputs)\n",
    "\n",
    "model.summary()"
   ]
  },
  {
   "cell_type": "code",
   "execution_count": 35,
   "metadata": {},
   "outputs": [],
   "source": [
    "model.compile(optimizer = 'rmsprop', loss = 'sparse_categorical_crossentropy')"
   ]
  },
  {
   "cell_type": "code",
   "execution_count": 36,
   "metadata": {},
   "outputs": [],
   "source": [
    "es = EarlyStopping(monitor = 'val_loss', mode = 'min', verbose = 1, patience = 2)"
   ]
  },
  {
   "cell_type": "markdown",
   "metadata": {},
   "source": [
    "#### Fitting the model"
   ]
  },
  {
   "cell_type": "code",
   "execution_count": 37,
   "metadata": {},
   "outputs": [
    {
     "name": "stdout",
     "output_type": "stream",
     "text": [
      "Train on 774548 samples, validate on 85979 samples\n",
      "WARNING:tensorflow:From /Users/charlottefettes/opt/anaconda3/lib/python3.7/site-packages/tensorflow/python/ops/math_grad.py:1250: add_dispatch_support.<locals>.wrapper (from tensorflow.python.ops.array_ops) is deprecated and will be removed in a future version.\n",
      "Instructions for updating:\n",
      "Use tf.where in 2.0, which has the same broadcast rule as np.where\n",
      "Epoch 1/50\n",
      "774548/774548 [==============================] - 14487s 19ms/sample - loss: 2.2705 - val_loss: 2.0960\n",
      "Epoch 2/50\n",
      "774548/774548 [==============================] - 14380s 19ms/sample - loss: 2.1032 - val_loss: 2.0506\n",
      "Epoch 3/50\n",
      "774548/774548 [==============================] - 15197s 20ms/sample - loss: 2.0764 - val_loss: 2.0252\n",
      "Epoch 4/50\n",
      "774548/774548 [==============================] - 14829s 19ms/sample - loss: 2.0620 - val_loss: 2.0234\n",
      "Epoch 5/50\n",
      "774548/774548 [==============================] - 13476s 17ms/sample - loss: 2.0394 - val_loss: 1.9916\n",
      "Epoch 6/50\n",
      "774548/774548 [==============================] - 21087s 27ms/sample - loss: 2.0300 - val_loss: 1.9910\n",
      "Epoch 7/50\n",
      "774548/774548 [==============================] - 21490s 28ms/sample - loss: 2.0252 - val_loss: 1.9757\n",
      "Epoch 8/50\n",
      "774548/774548 [==============================] - 16572s 21ms/sample - loss: 2.0168 - val_loss: 1.9803\n",
      "Epoch 9/50\n",
      "774548/774548 [==============================] - 14044s 18ms/sample - loss: 2.0180 - val_loss: 1.9773\n",
      "Epoch 00009: early stopping\n"
     ]
    }
   ],
   "source": [
    "history = model.fit([X_train, Y_train[:,:-1]],\n",
    "                  Y_train.reshape(Y_train.shape[0], Y_train.shape[1], 1)[:,1:],\n",
    "                  epochs = 50, callbacks = [es], batch_size = 128, \n",
    "                  validation_data = ([X_valid, Y_valid[:,:-1]],\n",
    "                                   Y_valid.reshape(Y_valid.shape[0], Y_valid.shape[1], 1)[:,1:]))"
   ]
  },
  {
   "cell_type": "markdown",
   "metadata": {},
   "source": [
    "#### Plotting the model behaviour over time"
   ]
  },
  {
   "cell_type": "code",
   "execution_count": 38,
   "metadata": {},
   "outputs": [
    {
     "data": {
      "image/png": "[encoded data removed]",
      "text/plain": [
       "<Figure size 432x288 with 1 Axes>"
      ]
     },
     "metadata": {
      "needs_background": "light"
     },
     "output_type": "display_data"
    }
   ],
   "source": [
    "from matplotlib import pyplot\n",
    "pyplot.plot(history.history['loss'], label = 'train')\n",
    "pyplot.plot(history.history['val_loss'], label = 'test')\n",
    "pyplot.legend()\n",
    "pyplot.show()"
   ]
  },
  {
   "cell_type": "markdown",
   "metadata": {},
   "source": [
    "From the above plot, it can be inferred that validation loss increased marginally after epoch 6, and remained stagnant for 2 successive epochs. Hence, training is stopped at epoch 9.\n",
    "\n",
    "In order to convert index to word for target and source vocabulary, a dictionary needs to be built."
   ]
  },
  {
   "cell_type": "code",
   "execution_count": 39,
   "metadata": {},
   "outputs": [],
   "source": [
    "reverse_target_word_index = y_tokenizer.index_word\n",
    "reverse_source_word_index = x_tokenizer.index_word\n",
    "target_word_index = y_tokenizer.word_index"
   ]
  },
  {
   "cell_type": "markdown",
   "metadata": {},
   "source": [
    "#### Inference phase for the encoder and decoder"
   ]
  },
  {
   "cell_type": "code",
   "execution_count": 40,
   "metadata": {},
   "outputs": [],
   "source": [
    "#encode input sequence to get feature vector\n",
    "encoder_model = Model(inputs = encoder_inputs, outputs = [encoder_outputs, state_h, state_c])\n",
    "\n",
    "#decoder setup\n",
    "#tensors to hold states of  previous time step\n",
    "decoder_state_input_h = Input(shape = (latent_dim,))\n",
    "decoder_state_input_c = Input(shape = (latent_dim,))\n",
    "decoder_hidden_state_input = Input(shape = (max_text_len,latent_dim))\n",
    "\n",
    "#get embeddings of decoder sequence\n",
    "dec_emb2 = dec_emb_layer(decoder_inputs) \n",
    "#to predict next word in sequence set initial states to states from previous time step\n",
    "decoder_outputs2, state_h2, state_c2 = decoder_lstm(dec_emb2, initial_state = [decoder_state_input_h, decoder_state_input_c])\n",
    "\n",
    "#attention inference\n",
    "attn_out_inf, attn_states_inf = attn_layer([decoder_hidden_state_input, decoder_outputs2])\n",
    "decoder_inf_concat = Concatenate(axis = -1, name = 'concat')([decoder_outputs2, attn_out_inf])\n",
    "\n",
    "#a dense softmax layer to generate probability distribution over target vocabulary\n",
    "decoder_outputs2 = decoder_dense(decoder_inf_concat) \n",
    "\n",
    "#final decoder model\n",
    "decoder_model = Model(\n",
    "    [decoder_inputs] + [decoder_hidden_state_input, decoder_state_input_h, decoder_state_input_c],\n",
    "    [decoder_outputs2] + [state_h2, state_c2])"
   ]
  },
  {
   "cell_type": "code",
   "execution_count": 42,
   "metadata": {},
   "outputs": [],
   "source": [
    "# function for implementation of inference process\n",
    "def decode_sequence(input_seq):\n",
    "    #encode input as state vectors\n",
    "    e_out, e_h, e_c = encoder_model.predict(input_seq)\n",
    "    \n",
    "    #generate empty target sequence of length 1\n",
    "    target_seq = np.zeros((1,1))\n",
    "    \n",
    "    #populate first word of target sequence with start word\n",
    "    target_seq[0, 0] = target_word_index['unk']\n",
    "\n",
    "    stop_condition = False\n",
    "    decoded_sentence = ''\n",
    "    while not stop_condition:\n",
    "      \n",
    "        output_tokens, h, c = decoder_model.predict([target_seq] + [e_out, e_h, e_c])\n",
    "\n",
    "        #sample a token\n",
    "        sampled_token_index = np.argmax(output_tokens[0, -1, :])\n",
    "        sampled_token = reverse_target_word_index[sampled_token_index]\n",
    "        \n",
    "        if(sampled_token != 'eos'):\n",
    "            decoded_sentence += ' ' + sampled_token\n",
    "\n",
    "        # Exit condition: either hit max length or find stop word.\n",
    "        if (sampled_token == 'eos'  or len(decoded_sentence.split()) >= (max_summary_len-1)):\n",
    "            stop_condition = True\n",
    "\n",
    "        # Update the target sequence (of length 1).\n",
    "        target_seq = np.zeros((1,1))\n",
    "        target_seq[0, 0] = sampled_token_index\n",
    "\n",
    "        # Update internal states\n",
    "        e_h, e_c = h, c\n",
    "\n",
    "    return decoded_sentence"
   ]
  },
  {
   "cell_type": "code",
   "execution_count": 43,
   "metadata": {},
   "outputs": [],
   "source": [
    "#functions to convert integer sequence to a word sequence for summary as well as reviews\n",
    "\n",
    "def seq2summary(input_seq):\n",
    "    newString=''\n",
    "    for i in input_seq:\n",
    "        if ((i != 0 and i != target_word_index['unk']) and i != target_word_index['eos']):\n",
    "            newString = newString + reverse_target_word_index[i] + ' '\n",
    "    return newString\n",
    "\n",
    "def seq2text(input_seq):\n",
    "    newString = ''\n",
    "    for i in input_seq:\n",
    "        if (i != 0):\n",
    "            newString = newString + reverse_source_word_index[i] + ' '\n",
    "    return newString"
   ]
  },
  {
   "cell_type": "code",
   "execution_count": 44,
   "metadata": {},
   "outputs": [
    {
     "name": "stdout",
     "output_type": "stream",
     "text": [
      "Review: great book really get motivated start working things today referring back anytime need boost thank truly recommend read even motivated already get even motivated get faster \n",
      "Original summary: finally \n",
      "Predicted summary:  great book\n",
      "\n",
      "\n",
      "Review: author quickly become one favorites books well written good character development lots steamy love scenes book shorter books definitely keeps entertained whole way looking forward next novel \n",
      "Original summary: easy read great book \n",
      "Predicted summary:  another winner\n",
      "\n",
      "\n",
      "Review: must confess truly annoyed people feel need destroy instead proper critique agree right say like something need kill someone work agree personally fully enjoyed book think judge past values see perfect hero story think concessions gives michaela despite culture upbringing demands great show love strength character would sorely disappointed let go back england decided change one wife would way kill culture grew lived england also point english people cold uptight also proof mixture cultures traditions see every street london would understandable lady london traditional upbringing english society would able adopt new culture embrace open arms even mentioned diplomat daughter would contact different cultures growing would impossible embrace new one love must complain something would say short dying \n",
      "Original summary: amazing \n",
      "Predicted summary:  a great read\n",
      "\n",
      "\n",
      "Review: fast paced paranormal romance novella cool superpower heroine freeze time likeable characters steamy bits quibble realize novella downloaded would loved see longer treatment \n",
      "Original summary: fast paced novella \n",
      "Predicted summary:  a great novella\n",
      "\n",
      "\n",
      "Review: left prototype phone dishonest store employee start great story prototype get back right hands girl get dream job great company joining boss girl turns love last lifetime \n",
      "Original summary: the accidental honeymoon \n",
      "Predicted summary:  a great story\n",
      "\n",
      "\n"
     ]
    }
   ],
   "source": [
    "#example summaries generated by model\n",
    "for i in range(0,5):\n",
    "    print(\"Review:\", seq2text(X_train[i]))\n",
    "    print(\"Original summary:\", seq2summary(Y_train[i]))\n",
    "    print(\"Predicted summary:\", decode_sequence(X_train[i].reshape(1, max_text_len)))\n",
    "    print(\"\\n\")"
   ]
  },
  {
   "cell_type": "markdown",
   "metadata": {},
   "source": [
    "#### Using BLEU score to evaluate performance"
   ]
  },
  {
   "cell_type": "code",
   "execution_count": 45,
   "metadata": {},
   "outputs": [],
   "source": [
    "from nltk.translate.bleu_score import sentence_bleu"
   ]
  },
  {
   "cell_type": "code",
   "execution_count": 47,
   "metadata": {},
   "outputs": [],
   "source": [
    "bleus, pred_good, pred_bad = [], [], []\n",
    "num = len(X_valid)\n",
    "\n",
    "for i in range(num):\n",
    "    pred_sum = decode_sequence(X_valid[i].reshape(1, max_text_len))\n",
    "    actual_sum = seq2summary(Y_valid[i])\n",
    "    bleu = sentence_bleu([pred_sum], actual_sum)\n",
    "    bleus.append(bleu)\n",
    "    if bleu > 0.7:\n",
    "        pred_good.append([bleu, pred_sum, actual_sum, X_valid[i]])\n",
    "    elif bleu < 0.3:\n",
    "        pred_bad.append([bleu, pred_sum, actual_sum, X_valid[i]])"
   ]
  },
  {
   "cell_type": "code",
   "execution_count": 48,
   "metadata": {},
   "outputs": [
    {
     "name": "stdout",
     "output_type": "stream",
     "text": [
      "Mean BLEU 0.084\n"
     ]
    }
   ],
   "source": [
    "print(\"Mean BLEU {:4.3f}\".format(np.mean(bleus)))"
   ]
  },
  {
   "cell_type": "code",
   "execution_count": 50,
   "metadata": {},
   "outputs": [
    {
     "name": "stdout",
     "output_type": "stream",
     "text": [
      "Examples of good predicted summaries:\n",
      "Original Review: could stop reading book lot twist turns cannot product going happen next must read \n",
      "Predicted Summary: great book \n",
      "Actual Summary:  great book\n",
      "BLEU score: 0.9146912192286945\n",
      "\n",
      "Original Review: another great read author situation earth highly believable great characters believable considering situation great start series jesse protector carer sisters even earth taken used relying trusting others life changes saves one aliens death hunter interesting species learn thoughts process works handled dealt situations also see deal feelings completely familar story characters everything developed work really well together \n",
      "Predicted Summary: another great read \n",
      "Actual Summary:  another great book\n",
      "BLEU score: 0.7252761279126532\n",
      "\n",
      "Original Review: really boring could finish disappointed blurb way exciting book \n",
      "Predicted Summary: boring \n",
      "Actual Summary:  boring\n",
      "BLEU score: 0.8408964152537146\n",
      "\n",
      "Original Review: really enjoyed plot pregnant unsuspecting woman sterile man planning seduction totally surprised end great read hope read couple \n",
      "Predicted Summary: a great read \n",
      "Actual Summary:  great read\n",
      "BLEU score: 0.8242367502646054\n",
      "\n",
      "Original Review: enjoyed book beginning end thinking going happen next could put \n",
      "Predicted Summary: great book \n",
      "Actual Summary:  great book\n",
      "BLEU score: 0.9146912192286945\n",
      "\n"
     ]
    }
   ],
   "source": [
    "print('Examples of good predicted summaries:')\n",
    "for i in range(5):\n",
    "    pred = pred_good[i]\n",
    "    print('Original Review:', seq2text(pred[3]))\n",
    "    print('Predicted Summary:', pred[2])\n",
    "    print('Actual Summary:', pred[1])\n",
    "    print('BLEU score:', pred[0])\n",
    "    print()"
   ]
  },
  {
   "cell_type": "code",
   "execution_count": 51,
   "metadata": {},
   "outputs": [
    {
     "name": "stdout",
     "output_type": "stream",
     "text": [
      "Examples of bad predicted summaries:\n",
      "Original Review: felt north carolina bit bit someone ohio may see way mystery good cute characters come nc expecting things like says nc native \n",
      "Predicted Summary: funny \n",
      "Actual Summary:  cute story\n",
      "BLEU score: 6.657922819542466e-232\n",
      "\n",
      "Original Review: read series sequence one read cannot hardly wait first author pretty good job love whole family good looking men everything want romance recommend story \n",
      "Predicted Summary: loved this book \n",
      "Actual Summary:  great series\n",
      "BLEU score: 1.4256605770826504e-231\n",
      "\n",
      "Original Review: story filled interesting supporting characters especially stripper sister jamie gay male best friend clay editing errors nothing could forgive first spoiler alert annoyed duncan married truthful jessie zero experience men relationships even though wife witch really much marriage crushing jessie learn theresa fortunately everything ended well actually purchased next book series sisters story years later \n",
      "Predicted Summary: funny with interesting characters \n",
      "Actual Summary:  good story\n",
      "BLEU score: 4.192262916522903e-155\n",
      "\n",
      "Original Review: 8220 rex awesome images fun facts 8221 samantha r knight pretty decent little book good information tyrannosaurus rex unbelievable photographs would seem taken 65 000 000 years ago actual living specimens number reviewers thought photographs agree even photos quality would great could included book photographs 8217 entertain children adult age seeing photos would impressed information included good factual information educational even adults reading heads children show pictures make quick summary information tell children concern several typos copy read minor typos part missing 8220 8221 end plural word sometimes missing word overall however think book good child fascinated dinosaurs 8211 think children 8211 book would excellent choice \n",
      "Predicted Summary: beautiful photographs \n",
      "Actual Summary:  great book for kids\n",
      "BLEU score: 7.2653252079868815e-155\n",
      "\n",
      "Original Review: book sweet love story beginning enjoyed book much fell right love characters \n",
      "Predicted Summary: sweet sexy and a fast read \n",
      "Actual Summary:  sweet\n",
      "BLEU score: 0.1437791910008819\n",
      "\n"
     ]
    }
   ],
   "source": [
    "print('Examples of bad predicted summaries:')\n",
    "for i in range(5):\n",
    "    pred = pred_bad[i]\n",
    "    print('Original Review:', seq2text(pred[3]))\n",
    "    print('Predicted Summary:', pred[2])\n",
    "    print('Actual Summary:', pred[1])\n",
    "    print('BLEU score:', pred[0])\n",
    "    print()"
   ]
  },
  {
   "cell_type": "markdown",
   "metadata": {},
   "source": [
    "Although the BLEU score is not very high, from looking at those reviews classed as 'bad summaries', the summaries still make sense and are relevant to the reviews - they just deviate quite a bit from the actual summaries."
   ]
  },
  {
   "cell_type": "code",
   "execution_count": null,
   "metadata": {},
   "outputs": [],
   "source": []
  }
 ],
 "metadata": {
  "kernelspec": {
   "display_name": "Python 3",
   "language": "python",
   "name": "python3"
  },
  "language_info": {
   "codemirror_mode": {
    "name": "ipython",
    "version": 3
   },
   "file_extension": ".py",
   "mimetype": "text/x-python",
   "name": "python",
   "nbconvert_exporter": "python",
   "pygments_lexer": "ipython3",
   "version": "3.7.4"
  }
 },
 "nbformat": 4,
 "nbformat_minor": 2
}
