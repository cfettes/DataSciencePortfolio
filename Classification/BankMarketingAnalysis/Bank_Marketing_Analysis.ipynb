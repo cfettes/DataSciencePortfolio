{
 "cells": [
  {
   "cell_type": "markdown",
   "metadata": {},
   "source": [
    "# Bank Marketing Analysis\n",
    "\n",
    "\n",
    "The Bank Marketing dataset is collected from a direct marketing campaign of a bank institution from Portugal. The dataset was obtained from the UCI Machine Learning Repository through the following link: https://archive.ics.uci.edu/ml/datasets/Bank+Marketing\n",
    "\n",
    "The marketing campaigns consisted of phone calls to their clients in order to promote and sign clients up to a term deposit with their bank. The campaigns were based on phone calls. Often, more than one contact to the same client was required, in order to assess if the product (bank term deposit) would be ('yes') or not ('no') subscribed. After each call, they are recorded as no (the client did not make a deposit) or yes (the client accepted to make a deposit).\n",
    "\n",
    "The purpose of this project is to predict if a call to a client would be successful or not based on client details.\n",
    "\n",
    "In addition, feature importance as described by the model with the best performance will be ascertained in order to understand what client attributes are most important in determining success rate of bank telemarketing.\n",
    "\n",
    "## 1. Loading the data"
   ]
  },
  {
   "cell_type": "code",
   "execution_count": 1,
   "metadata": {},
   "outputs": [],
   "source": [
    "import numpy as np\n",
    "import pandas as pd\n",
    "import random\n",
    "import warnings\n",
    "warnings.filterwarnings(\"ignore\")\n",
    "import seaborn as sns\n",
    "import matplotlib.pyplot as plt\n",
    "%matplotlib inline\n",
    "from sklearn.model_selection import GridSearchCV"
   ]
  },
  {
   "cell_type": "code",
   "execution_count": 2,
   "metadata": {},
   "outputs": [
    {
     "name": "stdout",
     "output_type": "stream",
     "text": [
      "(41188, 21)\n"
     ]
    },
    {
     "data": {
      "text/html": [
       "<div>\n",
       "<style scoped>\n",
       "    .dataframe tbody tr th:only-of-type {\n",
       "        vertical-align: middle;\n",
       "    }\n",
       "\n",
       "    .dataframe tbody tr th {\n",
       "        vertical-align: top;\n",
       "    }\n",
       "\n",
       "    .dataframe thead th {\n",
       "        text-align: right;\n",
       "    }\n",
       "</style>\n",
       "<table border=\"1\" class=\"dataframe\">\n",
       "  <thead>\n",
       "    <tr style=\"text-align: right;\">\n",
       "      <th></th>\n",
       "      <th>age</th>\n",
       "      <th>job</th>\n",
       "      <th>marital</th>\n",
       "      <th>education</th>\n",
       "      <th>default</th>\n",
       "      <th>housing</th>\n",
       "      <th>loan</th>\n",
       "      <th>contact</th>\n",
       "      <th>month</th>\n",
       "      <th>day_of_week</th>\n",
       "      <th>...</th>\n",
       "      <th>campaign</th>\n",
       "      <th>pdays</th>\n",
       "      <th>previous</th>\n",
       "      <th>poutcome</th>\n",
       "      <th>emp.var.rate</th>\n",
       "      <th>cons.price.idx</th>\n",
       "      <th>cons.conf.idx</th>\n",
       "      <th>euribor3m</th>\n",
       "      <th>nr.employed</th>\n",
       "      <th>y</th>\n",
       "    </tr>\n",
       "  </thead>\n",
       "  <tbody>\n",
       "    <tr>\n",
       "      <td>0</td>\n",
       "      <td>56</td>\n",
       "      <td>housemaid</td>\n",
       "      <td>married</td>\n",
       "      <td>basic.4y</td>\n",
       "      <td>no</td>\n",
       "      <td>no</td>\n",
       "      <td>no</td>\n",
       "      <td>telephone</td>\n",
       "      <td>may</td>\n",
       "      <td>mon</td>\n",
       "      <td>...</td>\n",
       "      <td>1</td>\n",
       "      <td>999</td>\n",
       "      <td>0</td>\n",
       "      <td>nonexistent</td>\n",
       "      <td>1.1</td>\n",
       "      <td>93.994</td>\n",
       "      <td>-36.4</td>\n",
       "      <td>4.857</td>\n",
       "      <td>5191.0</td>\n",
       "      <td>no</td>\n",
       "    </tr>\n",
       "    <tr>\n",
       "      <td>1</td>\n",
       "      <td>57</td>\n",
       "      <td>services</td>\n",
       "      <td>married</td>\n",
       "      <td>high.school</td>\n",
       "      <td>unknown</td>\n",
       "      <td>no</td>\n",
       "      <td>no</td>\n",
       "      <td>telephone</td>\n",
       "      <td>may</td>\n",
       "      <td>mon</td>\n",
       "      <td>...</td>\n",
       "      <td>1</td>\n",
       "      <td>999</td>\n",
       "      <td>0</td>\n",
       "      <td>nonexistent</td>\n",
       "      <td>1.1</td>\n",
       "      <td>93.994</td>\n",
       "      <td>-36.4</td>\n",
       "      <td>4.857</td>\n",
       "      <td>5191.0</td>\n",
       "      <td>no</td>\n",
       "    </tr>\n",
       "    <tr>\n",
       "      <td>2</td>\n",
       "      <td>37</td>\n",
       "      <td>services</td>\n",
       "      <td>married</td>\n",
       "      <td>high.school</td>\n",
       "      <td>no</td>\n",
       "      <td>yes</td>\n",
       "      <td>no</td>\n",
       "      <td>telephone</td>\n",
       "      <td>may</td>\n",
       "      <td>mon</td>\n",
       "      <td>...</td>\n",
       "      <td>1</td>\n",
       "      <td>999</td>\n",
       "      <td>0</td>\n",
       "      <td>nonexistent</td>\n",
       "      <td>1.1</td>\n",
       "      <td>93.994</td>\n",
       "      <td>-36.4</td>\n",
       "      <td>4.857</td>\n",
       "      <td>5191.0</td>\n",
       "      <td>no</td>\n",
       "    </tr>\n",
       "    <tr>\n",
       "      <td>3</td>\n",
       "      <td>40</td>\n",
       "      <td>admin.</td>\n",
       "      <td>married</td>\n",
       "      <td>basic.6y</td>\n",
       "      <td>no</td>\n",
       "      <td>no</td>\n",
       "      <td>no</td>\n",
       "      <td>telephone</td>\n",
       "      <td>may</td>\n",
       "      <td>mon</td>\n",
       "      <td>...</td>\n",
       "      <td>1</td>\n",
       "      <td>999</td>\n",
       "      <td>0</td>\n",
       "      <td>nonexistent</td>\n",
       "      <td>1.1</td>\n",
       "      <td>93.994</td>\n",
       "      <td>-36.4</td>\n",
       "      <td>4.857</td>\n",
       "      <td>5191.0</td>\n",
       "      <td>no</td>\n",
       "    </tr>\n",
       "    <tr>\n",
       "      <td>4</td>\n",
       "      <td>56</td>\n",
       "      <td>services</td>\n",
       "      <td>married</td>\n",
       "      <td>high.school</td>\n",
       "      <td>no</td>\n",
       "      <td>no</td>\n",
       "      <td>yes</td>\n",
       "      <td>telephone</td>\n",
       "      <td>may</td>\n",
       "      <td>mon</td>\n",
       "      <td>...</td>\n",
       "      <td>1</td>\n",
       "      <td>999</td>\n",
       "      <td>0</td>\n",
       "      <td>nonexistent</td>\n",
       "      <td>1.1</td>\n",
       "      <td>93.994</td>\n",
       "      <td>-36.4</td>\n",
       "      <td>4.857</td>\n",
       "      <td>5191.0</td>\n",
       "      <td>no</td>\n",
       "    </tr>\n",
       "  </tbody>\n",
       "</table>\n",
       "<p>5 rows × 21 columns</p>\n",
       "</div>"
      ],
      "text/plain": [
       "   age        job  marital    education  default housing loan    contact  \\\n",
       "0   56  housemaid  married     basic.4y       no      no   no  telephone   \n",
       "1   57   services  married  high.school  unknown      no   no  telephone   \n",
       "2   37   services  married  high.school       no     yes   no  telephone   \n",
       "3   40     admin.  married     basic.6y       no      no   no  telephone   \n",
       "4   56   services  married  high.school       no      no  yes  telephone   \n",
       "\n",
       "  month day_of_week  ...  campaign  pdays  previous     poutcome emp.var.rate  \\\n",
       "0   may         mon  ...         1    999         0  nonexistent          1.1   \n",
       "1   may         mon  ...         1    999         0  nonexistent          1.1   \n",
       "2   may         mon  ...         1    999         0  nonexistent          1.1   \n",
       "3   may         mon  ...         1    999         0  nonexistent          1.1   \n",
       "4   may         mon  ...         1    999         0  nonexistent          1.1   \n",
       "\n",
       "   cons.price.idx  cons.conf.idx  euribor3m  nr.employed   y  \n",
       "0          93.994          -36.4      4.857       5191.0  no  \n",
       "1          93.994          -36.4      4.857       5191.0  no  \n",
       "2          93.994          -36.4      4.857       5191.0  no  \n",
       "3          93.994          -36.4      4.857       5191.0  no  \n",
       "4          93.994          -36.4      4.857       5191.0  no  \n",
       "\n",
       "[5 rows x 21 columns]"
      ]
     },
     "execution_count": 2,
     "metadata": {},
     "output_type": "execute_result"
    }
   ],
   "source": [
    "df=pd.read_csv(\"data/bank-additional-full.csv\",sep=';')\n",
    "print(df.shape)\n",
    "df.head()"
   ]
  },
  {
   "cell_type": "code",
   "execution_count": 3,
   "metadata": {},
   "outputs": [
    {
     "data": {
      "text/plain": [
       "Index(['age', 'job', 'marital', 'education', 'default', 'housing', 'loan',\n",
       "       'contact', 'month', 'day_of_week', 'duration', 'campaign', 'pdays',\n",
       "       'previous', 'poutcome', 'emp.var.rate', 'cons.price.idx',\n",
       "       'cons.conf.idx', 'euribor3m', 'nr.employed', 'y'],\n",
       "      dtype='object')"
      ]
     },
     "execution_count": 3,
     "metadata": {},
     "output_type": "execute_result"
    }
   ],
   "source": [
    "df.columns"
   ]
  },
  {
   "cell_type": "markdown",
   "metadata": {},
   "source": [
    "From the UCI Machine Learning Repository website, the attribute information given is as follows:     \n",
    "Input variables:      \n",
    "**bank client data:**\n",
    "1. age (numeric)\n",
    "2. job : type of job (categorical: 'admin.','blue-collar','entrepreneur','housemaid','management','retired','self-employed','services','student','technician','unemployed','unknown')\n",
    "3. marital : marital status (categorical: 'divorced','married','single','unknown'; note: 'divorced' means divorced or widowed)\n",
    "4. education (categorical: 'basic.4y','basic.6y','basic.9y','high.school','illiterate','professional.course','university.degree','unknown')\n",
    "5. default: has credit in default? (categorical: 'no','yes','unknown')\n",
    "6. housing: has housing loan? (categorical: 'no','yes','unknown')\n",
    "7. loan: has personal loan? (categorical: 'no','yes','unknown')    \n",
    "\n",
    "**related with the last contact of the current campaign:**\n",
    "8. contact: contact communication type (categorical: 'cellular','telephone')\n",
    "9. month: last contact month of year (categorical: 'jan', 'feb', 'mar', ..., 'nov', 'dec')\n",
    "10. day_of_week: last contact day of the week (categorical: 'mon','tue','wed','thu','fri')\n",
    "11. duration: last contact duration, in seconds (numeric). Important note: this attribute highly affects the output target (e.g., if duration=0 then y='no'). Yet, the duration is not known before a call is performed. Also, after the end of the call y is obviously known. Thus, this input should only be included for benchmark purposes and should be discarded if the intention is to have a realistic predictive model.     \n",
    "\n",
    "**other attributes:**\n",
    "12. campaign: number of contacts performed during this campaign and for this client (numeric, includes last contact)\n",
    "13. pdays: number of days that passed by after the client was last contacted from a previous campaign (numeric; 999 means client was not previously contacted)\n",
    "14. previous: number of contacts performed before this campaign and for this client (numeric)\n",
    "15. poutcome: outcome of the previous marketing campaign (categorical: 'failure','nonexistent','success')     \n",
    "\n",
    "**social and economic context attributes:**\n",
    "16. emp.var.rate: employment variation rate - quarterly indicator (numeric)\n",
    "17. cons.price.idx: consumer price index - monthly indicator (numeric)\n",
    "18. cons.conf.idx: consumer confidence index - monthly indicator (numeric)\n",
    "19. euribor3m: euribor 3 month rate - daily indicator (numeric)\n",
    "20. nr.employed: number of employees - quarterly indicator (numeric)\n",
    "\n",
    "**Output variable (desired target):**\n",
    "21. y - has the client subscribed a term deposit? (binary: 'yes','no')\n",
    "\n",
    "As shown in the attribute information, the duration variable will only be known at the end of the call, hence, at that time the outcome of the call will be known. To avoid data leakage that affects model performance, the 'duration' variable will be dropped."
   ]
  },
  {
   "cell_type": "code",
   "execution_count": 4,
   "metadata": {},
   "outputs": [],
   "source": [
    "df = df.drop(['duration'],axis=1)"
   ]
  },
  {
   "cell_type": "markdown",
   "metadata": {},
   "source": [
    "## 2. Exploratory Analysis\n",
    "\n",
    "Variables are of the following types:  \n",
    "1. Categorical: job, marital, education, default, loan, contact, month, day_of_week, poutcome, y (a binary classification task)\n",
    "2. Numeric: age, campaign, days, previous, emp.var.rate, cons.price.idx, euibor3m, nr.employed\n",
    "\n",
    "### Categorical Variables:"
   ]
  },
  {
   "cell_type": "code",
   "execution_count": 6,
   "metadata": {
    "scrolled": false
   },
   "outputs": [
    {
     "data": {
      "image/png": "[encoded data removed]",
      "text/plain": [
       "<Figure size 720x288 with 1 Axes>"
      ]
     },
     "metadata": {
      "needs_background": "light"
     },
     "output_type": "display_data"
    },
    {
     "data": {
      "image/png": "[encoded data removed]",
      "text/plain": [
       "<Figure size 720x288 with 1 Axes>"
      ]
     },
     "metadata": {
      "needs_background": "light"
     },
     "output_type": "display_data"
    },
    {
     "data": {
      "image/png": "[encoded data removed]",
      "text/plain": [
       "<Figure size 720x288 with 1 Axes>"
      ]
     },
     "metadata": {
      "needs_background": "light"
     },
     "output_type": "display_data"
    },
    {
     "data": {
      "image/png": "[encoded data removed]",
      "text/plain": [
       "<Figure size 720x288 with 1 Axes>"
      ]
     },
     "metadata": {
      "needs_background": "light"
     },
     "output_type": "display_data"
    },
    {
     "data": {
      "image/png": "[encoded data removed]",
      "text/plain": [
       "<Figure size 720x288 with 1 Axes>"
      ]
     },
     "metadata": {
      "needs_background": "light"
     },
     "output_type": "display_data"
    },
    {
     "data": {
      "image/png": "[encoded data removed]",
      "text/plain": [
       "<Figure size 720x288 with 1 Axes>"
      ]
     },
     "metadata": {
      "needs_background": "light"
     },
     "output_type": "display_data"
    },
    {
     "data": {
      "image/png": "[encoded data removed]",
      "text/plain": [
       "<Figure size 720x288 with 1 Axes>"
      ]
     },
     "metadata": {
      "needs_background": "light"
     },
     "output_type": "display_data"
    },
    {
     "data": {
      "image/png": "[encoded data removed]",
      "text/plain": [
       "<Figure size 720x288 with 1 Axes>"
      ]
     },
     "metadata": {
      "needs_background": "light"
     },
     "output_type": "display_data"
    },
    {
     "data": {
      "image/png": "[encoded data removed]",
      "text/plain": [
       "<Figure size 720x288 with 1 Axes>"
      ]
     },
     "metadata": {
      "needs_background": "light"
     },
     "output_type": "display_data"
    },
    {
     "data": {
      "image/png": "[encoded data removed]",
      "text/plain": [
       "<Figure size 720x288 with 1 Axes>"
      ]
     },
     "metadata": {
      "needs_background": "light"
     },
     "output_type": "display_data"
    },
    {
     "data": {
      "image/png": "[encoded data removed]",
      "text/plain": [
       "<Figure size 720x288 with 1 Axes>"
      ]
     },
     "metadata": {
      "needs_background": "light"
     },
     "output_type": "display_data"
    }
   ],
   "source": [
    "categorical_variables = ['job', 'housing', 'marital', 'education', 'default', 'loan', 'contact', 'month', 'day_of_week', 'poutcome','y']\n",
    "for col in categorical_variables:\n",
    "    plt.figure(figsize=(10,4))\n",
    "    sns.barplot(df[col].value_counts().values, df[col].value_counts().index)\n",
    "    plt.title(col)\n",
    "    plt.tight_layout()"
   ]
  },
  {
   "cell_type": "markdown",
   "metadata": {},
   "source": [
    "From the 'y' feature plot, it can be seen that the data is unbalanced. The outcome of importance is the positive outcome - the task is to understand the features that are important in predicting the success of a direct marketing campaign on getting a customer to subscribe to a term deposit.\n",
    "\n",
    "Therefore, a technique will be method will need to be utilised to balance classes to train classifiers with."
   ]
  },
  {
   "cell_type": "markdown",
   "metadata": {},
   "source": [
    "### List of normalised relative frequency of the target class per category.\n",
    "\n",
    "Normalised distribution of each class per feature and plotted difference between positive and negative frequencies. Positive values imply this category favours clients that will subscribe and negative values categories that favour not buying the product."
   ]
  },
  {
   "cell_type": "code",
   "execution_count": 7,
   "metadata": {
    "scrolled": false
   },
   "outputs": [
    {
     "data": {
      "image/png": "[encoded data removed]",
      "text/plain": [
       "<Figure size 720x288 with 1 Axes>"
      ]
     },
     "metadata": {
      "needs_background": "light"
     },
     "output_type": "display_data"
    },
    {
     "data": {
      "image/png": "[encoded data removed]",
      "text/plain": [
       "<Figure size 720x288 with 1 Axes>"
      ]
     },
     "metadata": {
      "needs_background": "light"
     },
     "output_type": "display_data"
    },
    {
     "data": {
      "image/png": "[encoded data removed]",
      "text/plain": [
       "<Figure size 720x288 with 1 Axes>"
      ]
     },
     "metadata": {
      "needs_background": "light"
     },
     "output_type": "display_data"
    },
    {
     "data": {
      "image/png": "[encoded data removed]",
      "text/plain": [
       "<Figure size 720x288 with 1 Axes>"
      ]
     },
     "metadata": {
      "needs_background": "light"
     },
     "output_type": "display_data"
    },
    {
     "data": {
      "image/png": "[encoded data removed]",
      "text/plain": [
       "<Figure size 720x288 with 1 Axes>"
      ]
     },
     "metadata": {
      "needs_background": "light"
     },
     "output_type": "display_data"
    },
    {
     "data": {
      "image/png": "[encoded data removed]",
      "text/plain": [
       "<Figure size 720x288 with 1 Axes>"
      ]
     },
     "metadata": {
      "needs_background": "light"
     },
     "output_type": "display_data"
    },
    {
     "data": {
      "image/png": "[encoded data removed]",
      "text/plain": [
       "<Figure size 720x288 with 1 Axes>"
      ]
     },
     "metadata": {
      "needs_background": "light"
     },
     "output_type": "display_data"
    },
    {
     "data": {
      "image/png": "[encoded data removed]",
      "text/plain": [
       "<Figure size 720x288 with 1 Axes>"
      ]
     },
     "metadata": {
      "needs_background": "light"
     },
     "output_type": "display_data"
    },
    {
     "data": {
      "image/png": "[encoded data removed]",
      "text/plain": [
       "<Figure size 720x288 with 1 Axes>"
      ]
     },
     "metadata": {
      "needs_background": "light"
     },
     "output_type": "display_data"
    }
   ],
   "source": [
    "categorical_variables = ['job', 'marital', 'education', 'default', 'loan', 'contact', 'month', 'day_of_week', 'poutcome']\n",
    "for col in categorical_variables:\n",
    "    plt.figure(figsize=(10,4))\n",
    "    #Returns counts of unique values for each outcome for each feature.\n",
    "    pos_counts = df.loc[df.y.values == 'yes', col].value_counts() \n",
    "    neg_counts = df.loc[df.y.values == 'no', col].value_counts()\n",
    "    \n",
    "    all_counts = list(set(list(pos_counts.index) + list(neg_counts.index)))\n",
    "    \n",
    "    #Counts of how often each outcome was recorded.\n",
    "    freq_pos = (df.y.values == 'yes').sum()\n",
    "    freq_neg = (df.y.values == 'no').sum()\n",
    "    \n",
    "    pos_counts = pos_counts.to_dict()\n",
    "    neg_counts = neg_counts.to_dict()\n",
    "    \n",
    "    all_index = list(all_counts)\n",
    "    all_counts = [pos_counts.get(k, 0) / freq_pos - neg_counts.get(k, 0) / freq_neg for k in all_counts]\n",
    "\n",
    "    sns.barplot(all_counts, all_index)\n",
    "    plt.title(col)\n",
    "    plt.tight_layout()"
   ]
  },
  {
   "cell_type": "markdown",
   "metadata": {},
   "source": [
    "There are quite a significant number of unknowns in the categorical variables answers, including loan, default, education, job. At least some of these unknowns can be inferred from other variables."
   ]
  },
  {
   "cell_type": "code",
   "execution_count": 8,
   "metadata": {},
   "outputs": [],
   "source": [
    "def cross_tab(df,f1,f2):\n",
    "    jobs=list(df[f1].unique())\n",
    "    edu=list(df[f2].unique())\n",
    "    dataframes=[]\n",
    "    for e in edu:\n",
    "        dfe=df[df[f2]==e]\n",
    "        dfejob=dfe.groupby(f1).count()[f2]\n",
    "        dataframes.append(dfejob)\n",
    "    xx=pd.concat(dataframes,axis=1)\n",
    "    xx.columns=edu\n",
    "    xx=xx.fillna(0)\n",
    "    return xx"
   ]
  },
  {
   "cell_type": "code",
   "execution_count": 9,
   "metadata": {},
   "outputs": [
    {
     "data": {
      "text/html": [
       "<div>\n",
       "<style scoped>\n",
       "    .dataframe tbody tr th:only-of-type {\n",
       "        vertical-align: middle;\n",
       "    }\n",
       "\n",
       "    .dataframe tbody tr th {\n",
       "        vertical-align: top;\n",
       "    }\n",
       "\n",
       "    .dataframe thead th {\n",
       "        text-align: right;\n",
       "    }\n",
       "</style>\n",
       "<table border=\"1\" class=\"dataframe\">\n",
       "  <thead>\n",
       "    <tr style=\"text-align: right;\">\n",
       "      <th></th>\n",
       "      <th>basic.4y</th>\n",
       "      <th>high.school</th>\n",
       "      <th>basic.6y</th>\n",
       "      <th>basic.9y</th>\n",
       "      <th>professional.course</th>\n",
       "      <th>unknown</th>\n",
       "      <th>university.degree</th>\n",
       "      <th>illiterate</th>\n",
       "    </tr>\n",
       "  </thead>\n",
       "  <tbody>\n",
       "    <tr>\n",
       "      <td>admin.</td>\n",
       "      <td>77</td>\n",
       "      <td>3329</td>\n",
       "      <td>151</td>\n",
       "      <td>499</td>\n",
       "      <td>363</td>\n",
       "      <td>249</td>\n",
       "      <td>5753</td>\n",
       "      <td>1.0</td>\n",
       "    </tr>\n",
       "    <tr>\n",
       "      <td>blue-collar</td>\n",
       "      <td>2318</td>\n",
       "      <td>878</td>\n",
       "      <td>1426</td>\n",
       "      <td>3623</td>\n",
       "      <td>453</td>\n",
       "      <td>454</td>\n",
       "      <td>94</td>\n",
       "      <td>8.0</td>\n",
       "    </tr>\n",
       "    <tr>\n",
       "      <td>entrepreneur</td>\n",
       "      <td>137</td>\n",
       "      <td>234</td>\n",
       "      <td>71</td>\n",
       "      <td>210</td>\n",
       "      <td>135</td>\n",
       "      <td>57</td>\n",
       "      <td>610</td>\n",
       "      <td>2.0</td>\n",
       "    </tr>\n",
       "    <tr>\n",
       "      <td>housemaid</td>\n",
       "      <td>474</td>\n",
       "      <td>174</td>\n",
       "      <td>77</td>\n",
       "      <td>94</td>\n",
       "      <td>59</td>\n",
       "      <td>42</td>\n",
       "      <td>139</td>\n",
       "      <td>1.0</td>\n",
       "    </tr>\n",
       "    <tr>\n",
       "      <td>management</td>\n",
       "      <td>100</td>\n",
       "      <td>298</td>\n",
       "      <td>85</td>\n",
       "      <td>166</td>\n",
       "      <td>89</td>\n",
       "      <td>123</td>\n",
       "      <td>2063</td>\n",
       "      <td>0.0</td>\n",
       "    </tr>\n",
       "    <tr>\n",
       "      <td>retired</td>\n",
       "      <td>597</td>\n",
       "      <td>276</td>\n",
       "      <td>75</td>\n",
       "      <td>145</td>\n",
       "      <td>241</td>\n",
       "      <td>98</td>\n",
       "      <td>285</td>\n",
       "      <td>3.0</td>\n",
       "    </tr>\n",
       "    <tr>\n",
       "      <td>self-employed</td>\n",
       "      <td>93</td>\n",
       "      <td>118</td>\n",
       "      <td>25</td>\n",
       "      <td>220</td>\n",
       "      <td>168</td>\n",
       "      <td>29</td>\n",
       "      <td>765</td>\n",
       "      <td>3.0</td>\n",
       "    </tr>\n",
       "    <tr>\n",
       "      <td>services</td>\n",
       "      <td>132</td>\n",
       "      <td>2682</td>\n",
       "      <td>226</td>\n",
       "      <td>388</td>\n",
       "      <td>218</td>\n",
       "      <td>150</td>\n",
       "      <td>173</td>\n",
       "      <td>0.0</td>\n",
       "    </tr>\n",
       "    <tr>\n",
       "      <td>student</td>\n",
       "      <td>26</td>\n",
       "      <td>357</td>\n",
       "      <td>13</td>\n",
       "      <td>99</td>\n",
       "      <td>43</td>\n",
       "      <td>167</td>\n",
       "      <td>170</td>\n",
       "      <td>0.0</td>\n",
       "    </tr>\n",
       "    <tr>\n",
       "      <td>technician</td>\n",
       "      <td>58</td>\n",
       "      <td>873</td>\n",
       "      <td>87</td>\n",
       "      <td>384</td>\n",
       "      <td>3320</td>\n",
       "      <td>212</td>\n",
       "      <td>1809</td>\n",
       "      <td>0.0</td>\n",
       "    </tr>\n",
       "    <tr>\n",
       "      <td>unemployed</td>\n",
       "      <td>112</td>\n",
       "      <td>259</td>\n",
       "      <td>34</td>\n",
       "      <td>186</td>\n",
       "      <td>142</td>\n",
       "      <td>19</td>\n",
       "      <td>262</td>\n",
       "      <td>0.0</td>\n",
       "    </tr>\n",
       "    <tr>\n",
       "      <td>unknown</td>\n",
       "      <td>52</td>\n",
       "      <td>37</td>\n",
       "      <td>22</td>\n",
       "      <td>31</td>\n",
       "      <td>12</td>\n",
       "      <td>131</td>\n",
       "      <td>45</td>\n",
       "      <td>0.0</td>\n",
       "    </tr>\n",
       "  </tbody>\n",
       "</table>\n",
       "</div>"
      ],
      "text/plain": [
       "               basic.4y  high.school  basic.6y  basic.9y  professional.course  \\\n",
       "admin.               77         3329       151       499                  363   \n",
       "blue-collar        2318          878      1426      3623                  453   \n",
       "entrepreneur        137          234        71       210                  135   \n",
       "housemaid           474          174        77        94                   59   \n",
       "management          100          298        85       166                   89   \n",
       "retired             597          276        75       145                  241   \n",
       "self-employed        93          118        25       220                  168   \n",
       "services            132         2682       226       388                  218   \n",
       "student              26          357        13        99                   43   \n",
       "technician           58          873        87       384                 3320   \n",
       "unemployed          112          259        34       186                  142   \n",
       "unknown              52           37        22        31                   12   \n",
       "\n",
       "               unknown  university.degree  illiterate  \n",
       "admin.             249               5753         1.0  \n",
       "blue-collar        454                 94         8.0  \n",
       "entrepreneur        57                610         2.0  \n",
       "housemaid           42                139         1.0  \n",
       "management         123               2063         0.0  \n",
       "retired             98                285         3.0  \n",
       "self-employed       29                765         3.0  \n",
       "services           150                173         0.0  \n",
       "student            167                170         0.0  \n",
       "technician         212               1809         0.0  \n",
       "unemployed          19                262         0.0  \n",
       "unknown            131                 45         0.0  "
      ]
     },
     "execution_count": 9,
     "metadata": {},
     "output_type": "execute_result"
    }
   ],
   "source": [
    "cross_tab(df,'job','education')"
   ]
  },
  {
   "cell_type": "code",
   "execution_count": 10,
   "metadata": {},
   "outputs": [
    {
     "data": {
      "text/plain": [
       "retired          678\n",
       "housemaid         54\n",
       "admin.            47\n",
       "technician        34\n",
       "management        30\n",
       "unknown           21\n",
       "blue-collar       20\n",
       "self-employed      9\n",
       "entrepreneur       8\n",
       "unemployed         7\n",
       "services           2\n",
       "Name: job, dtype: int64"
      ]
     },
     "execution_count": 10,
     "metadata": {},
     "output_type": "execute_result"
    }
   ],
   "source": [
    "df['job'][df['age']>60].value_counts()"
   ]
  },
  {
   "cell_type": "markdown",
   "metadata": {},
   "source": [
    "From the above, when job or education is unknown, the most common of the other variable will be imputed.\n",
    "\n",
    "Furthermore, if age is over 60, it can be inferred that they are retired as this is the most common corresponding job category.\n",
    "\n",
    "Note, these inferences may not hold for all unknowns, but they are realistic inferences to make based on the data."
   ]
  },
  {
   "cell_type": "code",
   "execution_count": 11,
   "metadata": {},
   "outputs": [],
   "source": [
    "df.loc[(df['age'] > 60) & (df['job'] == 'unknown'), 'job'] = 'retired'\n",
    "\n",
    "df.loc[(df['education'] == 'unknown') & (df['job'] == 'management'), 'education'] = 'university.degree'\n",
    "df.loc[(df['education'] == 'unknown') & (df['job'] == 'services'), 'education'] = 'high.school'\n",
    "df.loc[(df['education'] == 'unknown') & (df['job'] == 'housemaid'), 'education'] = 'basic.4y'\n",
    "\n",
    "df.loc[(df['job'] == 'unknown') & (df['education'] == 'basic.4y'), 'job'] = 'blue-collar'\n",
    "df.loc[(df['job'] == 'unknown') & (df['education'] == 'basic.6y'), 'job'] = 'blue-collar'\n",
    "df.loc[(df['job'] == 'unknown') & (df['education'] == 'basic.9y'), 'job'] = 'blue-collar'\n",
    "df.loc[(df['job'] == 'unknown') & (df['education'] == 'professional.course'), 'job'] = 'technician'"
   ]
  },
  {
   "cell_type": "code",
   "execution_count": 12,
   "metadata": {},
   "outputs": [
    {
     "data": {
      "text/html": [
       "<div>\n",
       "<style scoped>\n",
       "    .dataframe tbody tr th:only-of-type {\n",
       "        vertical-align: middle;\n",
       "    }\n",
       "\n",
       "    .dataframe tbody tr th {\n",
       "        vertical-align: top;\n",
       "    }\n",
       "\n",
       "    .dataframe thead th {\n",
       "        text-align: right;\n",
       "    }\n",
       "</style>\n",
       "<table border=\"1\" class=\"dataframe\">\n",
       "  <thead>\n",
       "    <tr style=\"text-align: right;\">\n",
       "      <th></th>\n",
       "      <th>no</th>\n",
       "      <th>yes</th>\n",
       "      <th>unknown</th>\n",
       "    </tr>\n",
       "    <tr>\n",
       "      <th>job</th>\n",
       "      <th></th>\n",
       "      <th></th>\n",
       "      <th></th>\n",
       "    </tr>\n",
       "  </thead>\n",
       "  <tbody>\n",
       "    <tr>\n",
       "      <td>admin.</td>\n",
       "      <td>4636</td>\n",
       "      <td>5559</td>\n",
       "      <td>227</td>\n",
       "    </tr>\n",
       "    <tr>\n",
       "      <td>blue-collar</td>\n",
       "      <td>4362</td>\n",
       "      <td>4752</td>\n",
       "      <td>241</td>\n",
       "    </tr>\n",
       "    <tr>\n",
       "      <td>entrepreneur</td>\n",
       "      <td>641</td>\n",
       "      <td>779</td>\n",
       "      <td>36</td>\n",
       "    </tr>\n",
       "    <tr>\n",
       "      <td>housemaid</td>\n",
       "      <td>491</td>\n",
       "      <td>540</td>\n",
       "      <td>29</td>\n",
       "    </tr>\n",
       "    <tr>\n",
       "      <td>management</td>\n",
       "      <td>1363</td>\n",
       "      <td>1490</td>\n",
       "      <td>71</td>\n",
       "    </tr>\n",
       "    <tr>\n",
       "      <td>retired</td>\n",
       "      <td>789</td>\n",
       "      <td>908</td>\n",
       "      <td>44</td>\n",
       "    </tr>\n",
       "    <tr>\n",
       "      <td>self-employed</td>\n",
       "      <td>641</td>\n",
       "      <td>740</td>\n",
       "      <td>40</td>\n",
       "    </tr>\n",
       "    <tr>\n",
       "      <td>services</td>\n",
       "      <td>1818</td>\n",
       "      <td>2050</td>\n",
       "      <td>101</td>\n",
       "    </tr>\n",
       "    <tr>\n",
       "      <td>student</td>\n",
       "      <td>381</td>\n",
       "      <td>471</td>\n",
       "      <td>23</td>\n",
       "    </tr>\n",
       "    <tr>\n",
       "      <td>technician</td>\n",
       "      <td>2985</td>\n",
       "      <td>3621</td>\n",
       "      <td>147</td>\n",
       "    </tr>\n",
       "    <tr>\n",
       "      <td>unemployed</td>\n",
       "      <td>430</td>\n",
       "      <td>557</td>\n",
       "      <td>27</td>\n",
       "    </tr>\n",
       "    <tr>\n",
       "      <td>unknown</td>\n",
       "      <td>85</td>\n",
       "      <td>109</td>\n",
       "      <td>4</td>\n",
       "    </tr>\n",
       "  </tbody>\n",
       "</table>\n",
       "</div>"
      ],
      "text/plain": [
       "                 no   yes  unknown\n",
       "job                               \n",
       "admin.         4636  5559      227\n",
       "blue-collar    4362  4752      241\n",
       "entrepreneur    641   779       36\n",
       "housemaid       491   540       29\n",
       "management     1363  1490       71\n",
       "retired         789   908       44\n",
       "self-employed   641   740       40\n",
       "services       1818  2050      101\n",
       "student         381   471       23\n",
       "technician     2985  3621      147\n",
       "unemployed      430   557       27\n",
       "unknown          85   109        4"
      ]
     },
     "execution_count": 12,
     "metadata": {},
     "output_type": "execute_result"
    }
   ],
   "source": [
    "cross_tab(df,'job','housing')"
   ]
  },
  {
   "cell_type": "code",
   "execution_count": 13,
   "metadata": {},
   "outputs": [
    {
     "data": {
      "text/html": [
       "<div>\n",
       "<style scoped>\n",
       "    .dataframe tbody tr th:only-of-type {\n",
       "        vertical-align: middle;\n",
       "    }\n",
       "\n",
       "    .dataframe tbody tr th {\n",
       "        vertical-align: top;\n",
       "    }\n",
       "\n",
       "    .dataframe thead th {\n",
       "        text-align: right;\n",
       "    }\n",
       "</style>\n",
       "<table border=\"1\" class=\"dataframe\">\n",
       "  <thead>\n",
       "    <tr style=\"text-align: right;\">\n",
       "      <th></th>\n",
       "      <th>no</th>\n",
       "      <th>yes</th>\n",
       "      <th>unknown</th>\n",
       "    </tr>\n",
       "    <tr>\n",
       "      <th>job</th>\n",
       "      <th></th>\n",
       "      <th></th>\n",
       "      <th></th>\n",
       "    </tr>\n",
       "  </thead>\n",
       "  <tbody>\n",
       "    <tr>\n",
       "      <td>admin.</td>\n",
       "      <td>8485</td>\n",
       "      <td>1710</td>\n",
       "      <td>227</td>\n",
       "    </tr>\n",
       "    <tr>\n",
       "      <td>blue-collar</td>\n",
       "      <td>7730</td>\n",
       "      <td>1384</td>\n",
       "      <td>241</td>\n",
       "    </tr>\n",
       "    <tr>\n",
       "      <td>entrepreneur</td>\n",
       "      <td>1214</td>\n",
       "      <td>206</td>\n",
       "      <td>36</td>\n",
       "    </tr>\n",
       "    <tr>\n",
       "      <td>housemaid</td>\n",
       "      <td>877</td>\n",
       "      <td>154</td>\n",
       "      <td>29</td>\n",
       "    </tr>\n",
       "    <tr>\n",
       "      <td>management</td>\n",
       "      <td>2414</td>\n",
       "      <td>439</td>\n",
       "      <td>71</td>\n",
       "    </tr>\n",
       "    <tr>\n",
       "      <td>retired</td>\n",
       "      <td>1452</td>\n",
       "      <td>245</td>\n",
       "      <td>44</td>\n",
       "    </tr>\n",
       "    <tr>\n",
       "      <td>self-employed</td>\n",
       "      <td>1186</td>\n",
       "      <td>195</td>\n",
       "      <td>40</td>\n",
       "    </tr>\n",
       "    <tr>\n",
       "      <td>services</td>\n",
       "      <td>3267</td>\n",
       "      <td>601</td>\n",
       "      <td>101</td>\n",
       "    </tr>\n",
       "    <tr>\n",
       "      <td>student</td>\n",
       "      <td>710</td>\n",
       "      <td>142</td>\n",
       "      <td>23</td>\n",
       "    </tr>\n",
       "    <tr>\n",
       "      <td>technician</td>\n",
       "      <td>5615</td>\n",
       "      <td>991</td>\n",
       "      <td>147</td>\n",
       "    </tr>\n",
       "    <tr>\n",
       "      <td>unemployed</td>\n",
       "      <td>838</td>\n",
       "      <td>149</td>\n",
       "      <td>27</td>\n",
       "    </tr>\n",
       "    <tr>\n",
       "      <td>unknown</td>\n",
       "      <td>162</td>\n",
       "      <td>32</td>\n",
       "      <td>4</td>\n",
       "    </tr>\n",
       "  </tbody>\n",
       "</table>\n",
       "</div>"
      ],
      "text/plain": [
       "                 no   yes  unknown\n",
       "job                               \n",
       "admin.         8485  1710      227\n",
       "blue-collar    7730  1384      241\n",
       "entrepreneur   1214   206       36\n",
       "housemaid       877   154       29\n",
       "management     2414   439       71\n",
       "retired        1452   245       44\n",
       "self-employed  1186   195       40\n",
       "services       3267   601      101\n",
       "student         710   142       23\n",
       "technician     5615   991      147\n",
       "unemployed      838   149       27\n",
       "unknown         162    32        4"
      ]
     },
     "execution_count": 13,
     "metadata": {},
     "output_type": "execute_result"
    }
   ],
   "source": [
    "cross_tab(df,'job','loan')"
   ]
  },
  {
   "cell_type": "markdown",
   "metadata": {},
   "source": [
    "Unknowns in loan and housing variables will be changed to the most common based on their job."
   ]
  },
  {
   "cell_type": "code",
   "execution_count": 14,
   "metadata": {},
   "outputs": [],
   "source": [
    "jobhousing=cross_tab(df,'job','housing')\n",
    "jobloan=cross_tab(df,'job','loan')"
   ]
  },
  {
   "cell_type": "code",
   "execution_count": 15,
   "metadata": {},
   "outputs": [],
   "source": [
    "#Function to fill via cross-tabulation missing values for housing\n",
    "def fillhousing(df,jobhousing):\n",
    "    jobs=['housemaid','services','admin.','blue-collar','technician','retired','management','unemployed','self-employed','entrepreneur','student']\n",
    "    house=[\"no\",\"yes\"]\n",
    "    for j in jobs:\n",
    "        ind=df[np.logical_and(np.array(df['housing']=='unknown'),np.array(df['job']==j))].index\n",
    "        mask=np.random.rand(len(ind))<((jobhousing.loc[j]['no'])/(jobhousing.loc[j]['no']+jobhousing.loc[j]['yes']))\n",
    "        ind1=ind[mask]\n",
    "        ind2=ind[~mask]\n",
    "        df.loc[ind1,\"housing\"]='no'\n",
    "        df.loc[ind2,\"housing\"]='yes'\n",
    "    return df"
   ]
  },
  {
   "cell_type": "code",
   "execution_count": 16,
   "metadata": {},
   "outputs": [],
   "source": [
    "#Function to fill via cross-tabulation missing values for loan\n",
    "def fillloan(df,jobloan):\n",
    "    jobs=['housemaid','services','admin.','blue-collar','technician','retired','management','unemployed','self-employed','entrepreneur','student']\n",
    "    loan=[\"no\",\"yes\"]\n",
    "    for j in jobs:\n",
    "        ind=df[np.logical_and(np.array(df['loan']=='unknown'),np.array(df['job']==j))].index\n",
    "        mask=np.random.rand(len(ind))<((jobloan.loc[j]['no'])/(jobloan.loc[j]['no']+jobloan.loc[j]['yes']))\n",
    "        ind1=ind[mask]\n",
    "        ind2=ind[~mask]\n",
    "        df.loc[ind1,\"loan\"]='no'\n",
    "        df.loc[ind2,\"loan\"]='yes'\n",
    "    return df"
   ]
  },
  {
   "cell_type": "code",
   "execution_count": 17,
   "metadata": {},
   "outputs": [],
   "source": [
    "df = fillhousing(df,jobhousing)\n",
    "df = fillloan(df,jobloan)"
   ]
  },
  {
   "cell_type": "markdown",
   "metadata": {},
   "source": [
    "### Numeric variables:"
   ]
  },
  {
   "cell_type": "code",
   "execution_count": 18,
   "metadata": {},
   "outputs": [
    {
     "data": {
      "text/html": [
       "<div>\n",
       "<style scoped>\n",
       "    .dataframe tbody tr th:only-of-type {\n",
       "        vertical-align: middle;\n",
       "    }\n",
       "\n",
       "    .dataframe tbody tr th {\n",
       "        vertical-align: top;\n",
       "    }\n",
       "\n",
       "    .dataframe thead th {\n",
       "        text-align: right;\n",
       "    }\n",
       "</style>\n",
       "<table border=\"1\" class=\"dataframe\">\n",
       "  <thead>\n",
       "    <tr style=\"text-align: right;\">\n",
       "      <th></th>\n",
       "      <th>age</th>\n",
       "      <th>campaign</th>\n",
       "      <th>pdays</th>\n",
       "      <th>previous</th>\n",
       "      <th>emp.var.rate</th>\n",
       "      <th>cons.price.idx</th>\n",
       "      <th>cons.conf.idx</th>\n",
       "      <th>euribor3m</th>\n",
       "      <th>nr.employed</th>\n",
       "    </tr>\n",
       "  </thead>\n",
       "  <tbody>\n",
       "    <tr>\n",
       "      <td>count</td>\n",
       "      <td>41188.00000</td>\n",
       "      <td>41188.000000</td>\n",
       "      <td>41188.000000</td>\n",
       "      <td>41188.000000</td>\n",
       "      <td>41188.000000</td>\n",
       "      <td>41188.000000</td>\n",
       "      <td>41188.000000</td>\n",
       "      <td>41188.000000</td>\n",
       "      <td>41188.000000</td>\n",
       "    </tr>\n",
       "    <tr>\n",
       "      <td>mean</td>\n",
       "      <td>40.02406</td>\n",
       "      <td>2.567593</td>\n",
       "      <td>962.475454</td>\n",
       "      <td>0.172963</td>\n",
       "      <td>0.081886</td>\n",
       "      <td>93.575664</td>\n",
       "      <td>-40.502600</td>\n",
       "      <td>3.621291</td>\n",
       "      <td>5167.035911</td>\n",
       "    </tr>\n",
       "    <tr>\n",
       "      <td>std</td>\n",
       "      <td>10.42125</td>\n",
       "      <td>2.770014</td>\n",
       "      <td>186.910907</td>\n",
       "      <td>0.494901</td>\n",
       "      <td>1.570960</td>\n",
       "      <td>0.578840</td>\n",
       "      <td>4.628198</td>\n",
       "      <td>1.734447</td>\n",
       "      <td>72.251528</td>\n",
       "    </tr>\n",
       "    <tr>\n",
       "      <td>min</td>\n",
       "      <td>17.00000</td>\n",
       "      <td>1.000000</td>\n",
       "      <td>0.000000</td>\n",
       "      <td>0.000000</td>\n",
       "      <td>-3.400000</td>\n",
       "      <td>92.201000</td>\n",
       "      <td>-50.800000</td>\n",
       "      <td>0.634000</td>\n",
       "      <td>4963.600000</td>\n",
       "    </tr>\n",
       "    <tr>\n",
       "      <td>25%</td>\n",
       "      <td>32.00000</td>\n",
       "      <td>1.000000</td>\n",
       "      <td>999.000000</td>\n",
       "      <td>0.000000</td>\n",
       "      <td>-1.800000</td>\n",
       "      <td>93.075000</td>\n",
       "      <td>-42.700000</td>\n",
       "      <td>1.344000</td>\n",
       "      <td>5099.100000</td>\n",
       "    </tr>\n",
       "    <tr>\n",
       "      <td>50%</td>\n",
       "      <td>38.00000</td>\n",
       "      <td>2.000000</td>\n",
       "      <td>999.000000</td>\n",
       "      <td>0.000000</td>\n",
       "      <td>1.100000</td>\n",
       "      <td>93.749000</td>\n",
       "      <td>-41.800000</td>\n",
       "      <td>4.857000</td>\n",
       "      <td>5191.000000</td>\n",
       "    </tr>\n",
       "    <tr>\n",
       "      <td>75%</td>\n",
       "      <td>47.00000</td>\n",
       "      <td>3.000000</td>\n",
       "      <td>999.000000</td>\n",
       "      <td>0.000000</td>\n",
       "      <td>1.400000</td>\n",
       "      <td>93.994000</td>\n",
       "      <td>-36.400000</td>\n",
       "      <td>4.961000</td>\n",
       "      <td>5228.100000</td>\n",
       "    </tr>\n",
       "    <tr>\n",
       "      <td>max</td>\n",
       "      <td>98.00000</td>\n",
       "      <td>56.000000</td>\n",
       "      <td>999.000000</td>\n",
       "      <td>7.000000</td>\n",
       "      <td>1.400000</td>\n",
       "      <td>94.767000</td>\n",
       "      <td>-26.900000</td>\n",
       "      <td>5.045000</td>\n",
       "      <td>5228.100000</td>\n",
       "    </tr>\n",
       "  </tbody>\n",
       "</table>\n",
       "</div>"
      ],
      "text/plain": [
       "               age      campaign         pdays      previous  emp.var.rate  \\\n",
       "count  41188.00000  41188.000000  41188.000000  41188.000000  41188.000000   \n",
       "mean      40.02406      2.567593    962.475454      0.172963      0.081886   \n",
       "std       10.42125      2.770014    186.910907      0.494901      1.570960   \n",
       "min       17.00000      1.000000      0.000000      0.000000     -3.400000   \n",
       "25%       32.00000      1.000000    999.000000      0.000000     -1.800000   \n",
       "50%       38.00000      2.000000    999.000000      0.000000      1.100000   \n",
       "75%       47.00000      3.000000    999.000000      0.000000      1.400000   \n",
       "max       98.00000     56.000000    999.000000      7.000000      1.400000   \n",
       "\n",
       "       cons.price.idx  cons.conf.idx     euribor3m   nr.employed  \n",
       "count    41188.000000   41188.000000  41188.000000  41188.000000  \n",
       "mean        93.575664     -40.502600      3.621291   5167.035911  \n",
       "std          0.578840       4.628198      1.734447     72.251528  \n",
       "min         92.201000     -50.800000      0.634000   4963.600000  \n",
       "25%         93.075000     -42.700000      1.344000   5099.100000  \n",
       "50%         93.749000     -41.800000      4.857000   5191.000000  \n",
       "75%         93.994000     -36.400000      4.961000   5228.100000  \n",
       "max         94.767000     -26.900000      5.045000   5228.100000  "
      ]
     },
     "execution_count": 18,
     "metadata": {},
     "output_type": "execute_result"
    }
   ],
   "source": [
    "numerical_variables = ['age','campaign', 'pdays', 'previous', 'emp.var.rate', 'cons.price.idx','cons.conf.idx','euribor3m',\n",
    "                      'nr.employed']\n",
    "df[numerical_variables].describe()"
   ]
  },
  {
   "cell_type": "code",
   "execution_count": 19,
   "metadata": {
    "scrolled": false
   },
   "outputs": [
    {
     "data": {
      "image/png": "[encoded data removed]",
      "text/plain": [
       "<Figure size 720x288 with 1 Axes>"
      ]
     },
     "metadata": {
      "needs_background": "light"
     },
     "output_type": "display_data"
    },
    {
     "data": {
      "image/png": "[encoded data removed]",
      "text/plain": [
       "<Figure size 720x288 with 1 Axes>"
      ]
     },
     "metadata": {
      "needs_background": "light"
     },
     "output_type": "display_data"
    },
    {
     "data": {
      "image/png": "[encoded data removed]",
      "text/plain": [
       "<Figure size 720x288 with 1 Axes>"
      ]
     },
     "metadata": {
      "needs_background": "light"
     },
     "output_type": "display_data"
    },
    {
     "data": {
      "image/png": "[encoded data removed]",
      "text/plain": [
       "<Figure size 720x288 with 1 Axes>"
      ]
     },
     "metadata": {
      "needs_background": "light"
     },
     "output_type": "display_data"
    },
    {
     "data": {
      "image/png": "[encoded data removed]",
      "text/plain": [
       "<Figure size 720x288 with 1 Axes>"
      ]
     },
     "metadata": {
      "needs_background": "light"
     },
     "output_type": "display_data"
    },
    {
     "data": {
      "image/png": "[encoded data removed]",
      "text/plain": [
       "<Figure size 720x288 with 1 Axes>"
      ]
     },
     "metadata": {
      "needs_background": "light"
     },
     "output_type": "display_data"
    },
    {
     "data": {
      "image/png": "[encoded data removed]",
      "text/plain": [
       "<Figure size 720x288 with 1 Axes>"
      ]
     },
     "metadata": {
      "needs_background": "light"
     },
     "output_type": "display_data"
    },
    {
     "data": {
      "image/png": "[encoded data removed]",
      "text/plain": [
       "<Figure size 720x288 with 1 Axes>"
      ]
     },
     "metadata": {
      "needs_background": "light"
     },
     "output_type": "display_data"
    },
    {
     "data": {
      "image/png": "[encoded data removed]",
      "text/plain": [
       "<Figure size 720x288 with 1 Axes>"
      ]
     },
     "metadata": {
      "needs_background": "light"
     },
     "output_type": "display_data"
    }
   ],
   "source": [
    "for var in numerical_variables:\n",
    "    plt.figure(figsize=(10,4))\n",
    "    sns.distplot(df[var])\n",
    "    plt.title(var)\n",
    "    plt.tight_layout()"
   ]
  },
  {
   "cell_type": "markdown",
   "metadata": {},
   "source": [
    "Missing Values: NaNs are encoded as '999'. From the above, only 'pdays' have missing values in the numeric variables, and a majority of the values for 'pdays' are missing.\n",
    "\n",
    "Outliers: Outliers are 1.5 x Q3 value (75th percentile). From the above, only 'age' and 'campaign' have outliers. But the value of these outliers are not so unrealistic (max('age') = 98 and max('campaign') = 56), so they do not need to be removed. "
   ]
  },
  {
   "cell_type": "code",
   "execution_count": 20,
   "metadata": {},
   "outputs": [
    {
     "data": {
      "image/png": "[encoded data removed]",
      "text/plain": [
       "<Figure size 720x288 with 1 Axes>"
      ]
     },
     "metadata": {
      "needs_background": "light"
     },
     "output_type": "display_data"
    }
   ],
   "source": [
    "pdays = df[df['pdays'] != 999]\n",
    "\n",
    "plt.figure(figsize=(10,4))\n",
    "sns.distplot(pdays['pdays'])\n",
    "plt.title('pdays')\n",
    "plt.tight_layout()"
   ]
  },
  {
   "cell_type": "code",
   "execution_count": 21,
   "metadata": {},
   "outputs": [
    {
     "data": {
      "text/html": [
       "<div>\n",
       "<style scoped>\n",
       "    .dataframe tbody tr th:only-of-type {\n",
       "        vertical-align: middle;\n",
       "    }\n",
       "\n",
       "    .dataframe tbody tr th {\n",
       "        vertical-align: top;\n",
       "    }\n",
       "\n",
       "    .dataframe thead th {\n",
       "        text-align: right;\n",
       "    }\n",
       "</style>\n",
       "<table border=\"1\" class=\"dataframe\">\n",
       "  <thead>\n",
       "    <tr style=\"text-align: right;\">\n",
       "      <th>poutcome</th>\n",
       "      <th>failure</th>\n",
       "      <th>nonexistent</th>\n",
       "      <th>success</th>\n",
       "    </tr>\n",
       "    <tr>\n",
       "      <th>pdays</th>\n",
       "      <th></th>\n",
       "      <th></th>\n",
       "      <th></th>\n",
       "    </tr>\n",
       "  </thead>\n",
       "  <tbody>\n",
       "    <tr>\n",
       "      <td>0</td>\n",
       "      <td>0.000000</td>\n",
       "      <td>0.000000</td>\n",
       "      <td>0.000364</td>\n",
       "    </tr>\n",
       "    <tr>\n",
       "      <td>1</td>\n",
       "      <td>0.000000</td>\n",
       "      <td>0.000000</td>\n",
       "      <td>0.000631</td>\n",
       "    </tr>\n",
       "    <tr>\n",
       "      <td>2</td>\n",
       "      <td>0.000000</td>\n",
       "      <td>0.000000</td>\n",
       "      <td>0.001481</td>\n",
       "    </tr>\n",
       "    <tr>\n",
       "      <td>3</td>\n",
       "      <td>0.000097</td>\n",
       "      <td>0.000000</td>\n",
       "      <td>0.010561</td>\n",
       "    </tr>\n",
       "    <tr>\n",
       "      <td>4</td>\n",
       "      <td>0.000049</td>\n",
       "      <td>0.000000</td>\n",
       "      <td>0.002816</td>\n",
       "    </tr>\n",
       "    <tr>\n",
       "      <td>5</td>\n",
       "      <td>0.000097</td>\n",
       "      <td>0.000000</td>\n",
       "      <td>0.001020</td>\n",
       "    </tr>\n",
       "    <tr>\n",
       "      <td>6</td>\n",
       "      <td>0.000607</td>\n",
       "      <td>0.000000</td>\n",
       "      <td>0.009396</td>\n",
       "    </tr>\n",
       "    <tr>\n",
       "      <td>7</td>\n",
       "      <td>0.000364</td>\n",
       "      <td>0.000000</td>\n",
       "      <td>0.001093</td>\n",
       "    </tr>\n",
       "    <tr>\n",
       "      <td>8</td>\n",
       "      <td>0.000146</td>\n",
       "      <td>0.000000</td>\n",
       "      <td>0.000291</td>\n",
       "    </tr>\n",
       "    <tr>\n",
       "      <td>9</td>\n",
       "      <td>0.000583</td>\n",
       "      <td>0.000000</td>\n",
       "      <td>0.000971</td>\n",
       "    </tr>\n",
       "    <tr>\n",
       "      <td>10</td>\n",
       "      <td>0.000170</td>\n",
       "      <td>0.000000</td>\n",
       "      <td>0.001093</td>\n",
       "    </tr>\n",
       "    <tr>\n",
       "      <td>11</td>\n",
       "      <td>0.000073</td>\n",
       "      <td>0.000000</td>\n",
       "      <td>0.000607</td>\n",
       "    </tr>\n",
       "    <tr>\n",
       "      <td>12</td>\n",
       "      <td>0.000316</td>\n",
       "      <td>0.000000</td>\n",
       "      <td>0.001093</td>\n",
       "    </tr>\n",
       "    <tr>\n",
       "      <td>13</td>\n",
       "      <td>0.000194</td>\n",
       "      <td>0.000000</td>\n",
       "      <td>0.000680</td>\n",
       "    </tr>\n",
       "    <tr>\n",
       "      <td>14</td>\n",
       "      <td>0.000121</td>\n",
       "      <td>0.000000</td>\n",
       "      <td>0.000364</td>\n",
       "    </tr>\n",
       "    <tr>\n",
       "      <td>15</td>\n",
       "      <td>0.000219</td>\n",
       "      <td>0.000000</td>\n",
       "      <td>0.000364</td>\n",
       "    </tr>\n",
       "    <tr>\n",
       "      <td>16</td>\n",
       "      <td>0.000049</td>\n",
       "      <td>0.000000</td>\n",
       "      <td>0.000219</td>\n",
       "    </tr>\n",
       "    <tr>\n",
       "      <td>17</td>\n",
       "      <td>0.000121</td>\n",
       "      <td>0.000000</td>\n",
       "      <td>0.000073</td>\n",
       "    </tr>\n",
       "    <tr>\n",
       "      <td>18</td>\n",
       "      <td>0.000121</td>\n",
       "      <td>0.000000</td>\n",
       "      <td>0.000049</td>\n",
       "    </tr>\n",
       "    <tr>\n",
       "      <td>19</td>\n",
       "      <td>0.000024</td>\n",
       "      <td>0.000000</td>\n",
       "      <td>0.000049</td>\n",
       "    </tr>\n",
       "    <tr>\n",
       "      <td>20</td>\n",
       "      <td>0.000024</td>\n",
       "      <td>0.000000</td>\n",
       "      <td>0.000000</td>\n",
       "    </tr>\n",
       "    <tr>\n",
       "      <td>21</td>\n",
       "      <td>0.000049</td>\n",
       "      <td>0.000000</td>\n",
       "      <td>0.000000</td>\n",
       "    </tr>\n",
       "    <tr>\n",
       "      <td>22</td>\n",
       "      <td>0.000000</td>\n",
       "      <td>0.000000</td>\n",
       "      <td>0.000073</td>\n",
       "    </tr>\n",
       "    <tr>\n",
       "      <td>25</td>\n",
       "      <td>0.000024</td>\n",
       "      <td>0.000000</td>\n",
       "      <td>0.000000</td>\n",
       "    </tr>\n",
       "    <tr>\n",
       "      <td>26</td>\n",
       "      <td>0.000000</td>\n",
       "      <td>0.000000</td>\n",
       "      <td>0.000024</td>\n",
       "    </tr>\n",
       "    <tr>\n",
       "      <td>27</td>\n",
       "      <td>0.000000</td>\n",
       "      <td>0.000000</td>\n",
       "      <td>0.000024</td>\n",
       "    </tr>\n",
       "    <tr>\n",
       "      <td>999</td>\n",
       "      <td>0.099786</td>\n",
       "      <td>0.863431</td>\n",
       "      <td>0.000000</td>\n",
       "    </tr>\n",
       "  </tbody>\n",
       "</table>\n",
       "</div>"
      ],
      "text/plain": [
       "poutcome   failure  nonexistent   success\n",
       "pdays                                    \n",
       "0         0.000000     0.000000  0.000364\n",
       "1         0.000000     0.000000  0.000631\n",
       "2         0.000000     0.000000  0.001481\n",
       "3         0.000097     0.000000  0.010561\n",
       "4         0.000049     0.000000  0.002816\n",
       "5         0.000097     0.000000  0.001020\n",
       "6         0.000607     0.000000  0.009396\n",
       "7         0.000364     0.000000  0.001093\n",
       "8         0.000146     0.000000  0.000291\n",
       "9         0.000583     0.000000  0.000971\n",
       "10        0.000170     0.000000  0.001093\n",
       "11        0.000073     0.000000  0.000607\n",
       "12        0.000316     0.000000  0.001093\n",
       "13        0.000194     0.000000  0.000680\n",
       "14        0.000121     0.000000  0.000364\n",
       "15        0.000219     0.000000  0.000364\n",
       "16        0.000049     0.000000  0.000219\n",
       "17        0.000121     0.000000  0.000073\n",
       "18        0.000121     0.000000  0.000049\n",
       "19        0.000024     0.000000  0.000049\n",
       "20        0.000024     0.000000  0.000000\n",
       "21        0.000049     0.000000  0.000000\n",
       "22        0.000000     0.000000  0.000073\n",
       "25        0.000024     0.000000  0.000000\n",
       "26        0.000000     0.000000  0.000024\n",
       "27        0.000000     0.000000  0.000024\n",
       "999       0.099786     0.863431  0.000000"
      ]
     },
     "execution_count": 21,
     "metadata": {},
     "output_type": "execute_result"
    }
   ],
   "source": [
    "pd.crosstab(df['pdays'], df['poutcome'], values=df['age'], aggfunc='count', normalize=True)"
   ]
  },
  {
   "cell_type": "markdown",
   "metadata": {},
   "source": [
    "Crosstab shows that the majority of pdays is 999, or NaN, and so missing, and that these occur when poutcome is 'nonexistent', which means that the customer has not been contacted previously. \n",
    "\n",
    "Therefore, pdays will be split into 2 features: (1) binary categorical feature with 0 if the custmer has not been contacted before (999) and 1 otherwise; (2) if pdays is 999, this is changed to 30 as this is still larger than the largest value for those that have been contacted, but reduces the effect of the large 999 value."
   ]
  },
  {
   "cell_type": "code",
   "execution_count": 22,
   "metadata": {},
   "outputs": [
    {
     "data": {
      "text/html": [
       "<div>\n",
       "<style scoped>\n",
       "    .dataframe tbody tr th:only-of-type {\n",
       "        vertical-align: middle;\n",
       "    }\n",
       "\n",
       "    .dataframe tbody tr th {\n",
       "        vertical-align: top;\n",
       "    }\n",
       "\n",
       "    .dataframe thead th {\n",
       "        text-align: right;\n",
       "    }\n",
       "</style>\n",
       "<table border=\"1\" class=\"dataframe\">\n",
       "  <thead>\n",
       "    <tr style=\"text-align: right;\">\n",
       "      <th></th>\n",
       "      <th>age</th>\n",
       "      <th>job</th>\n",
       "      <th>marital</th>\n",
       "      <th>education</th>\n",
       "      <th>default</th>\n",
       "      <th>housing</th>\n",
       "      <th>loan</th>\n",
       "      <th>contact</th>\n",
       "      <th>month</th>\n",
       "      <th>day_of_week</th>\n",
       "      <th>...</th>\n",
       "      <th>pdays</th>\n",
       "      <th>previous</th>\n",
       "      <th>poutcome</th>\n",
       "      <th>emp.var.rate</th>\n",
       "      <th>cons.price.idx</th>\n",
       "      <th>cons.conf.idx</th>\n",
       "      <th>euribor3m</th>\n",
       "      <th>nr.employed</th>\n",
       "      <th>y</th>\n",
       "      <th>pdays2</th>\n",
       "    </tr>\n",
       "  </thead>\n",
       "  <tbody>\n",
       "    <tr>\n",
       "      <td>0</td>\n",
       "      <td>56</td>\n",
       "      <td>housemaid</td>\n",
       "      <td>married</td>\n",
       "      <td>basic.4y</td>\n",
       "      <td>no</td>\n",
       "      <td>no</td>\n",
       "      <td>no</td>\n",
       "      <td>telephone</td>\n",
       "      <td>may</td>\n",
       "      <td>mon</td>\n",
       "      <td>...</td>\n",
       "      <td>30</td>\n",
       "      <td>0</td>\n",
       "      <td>nonexistent</td>\n",
       "      <td>1.1</td>\n",
       "      <td>93.994</td>\n",
       "      <td>-36.4</td>\n",
       "      <td>4.857</td>\n",
       "      <td>5191.0</td>\n",
       "      <td>no</td>\n",
       "      <td>0</td>\n",
       "    </tr>\n",
       "    <tr>\n",
       "      <td>1</td>\n",
       "      <td>57</td>\n",
       "      <td>services</td>\n",
       "      <td>married</td>\n",
       "      <td>high.school</td>\n",
       "      <td>unknown</td>\n",
       "      <td>no</td>\n",
       "      <td>no</td>\n",
       "      <td>telephone</td>\n",
       "      <td>may</td>\n",
       "      <td>mon</td>\n",
       "      <td>...</td>\n",
       "      <td>30</td>\n",
       "      <td>0</td>\n",
       "      <td>nonexistent</td>\n",
       "      <td>1.1</td>\n",
       "      <td>93.994</td>\n",
       "      <td>-36.4</td>\n",
       "      <td>4.857</td>\n",
       "      <td>5191.0</td>\n",
       "      <td>no</td>\n",
       "      <td>0</td>\n",
       "    </tr>\n",
       "    <tr>\n",
       "      <td>2</td>\n",
       "      <td>37</td>\n",
       "      <td>services</td>\n",
       "      <td>married</td>\n",
       "      <td>high.school</td>\n",
       "      <td>no</td>\n",
       "      <td>yes</td>\n",
       "      <td>no</td>\n",
       "      <td>telephone</td>\n",
       "      <td>may</td>\n",
       "      <td>mon</td>\n",
       "      <td>...</td>\n",
       "      <td>30</td>\n",
       "      <td>0</td>\n",
       "      <td>nonexistent</td>\n",
       "      <td>1.1</td>\n",
       "      <td>93.994</td>\n",
       "      <td>-36.4</td>\n",
       "      <td>4.857</td>\n",
       "      <td>5191.0</td>\n",
       "      <td>no</td>\n",
       "      <td>0</td>\n",
       "    </tr>\n",
       "    <tr>\n",
       "      <td>3</td>\n",
       "      <td>40</td>\n",
       "      <td>admin.</td>\n",
       "      <td>married</td>\n",
       "      <td>basic.6y</td>\n",
       "      <td>no</td>\n",
       "      <td>no</td>\n",
       "      <td>no</td>\n",
       "      <td>telephone</td>\n",
       "      <td>may</td>\n",
       "      <td>mon</td>\n",
       "      <td>...</td>\n",
       "      <td>30</td>\n",
       "      <td>0</td>\n",
       "      <td>nonexistent</td>\n",
       "      <td>1.1</td>\n",
       "      <td>93.994</td>\n",
       "      <td>-36.4</td>\n",
       "      <td>4.857</td>\n",
       "      <td>5191.0</td>\n",
       "      <td>no</td>\n",
       "      <td>0</td>\n",
       "    </tr>\n",
       "    <tr>\n",
       "      <td>4</td>\n",
       "      <td>56</td>\n",
       "      <td>services</td>\n",
       "      <td>married</td>\n",
       "      <td>high.school</td>\n",
       "      <td>no</td>\n",
       "      <td>no</td>\n",
       "      <td>yes</td>\n",
       "      <td>telephone</td>\n",
       "      <td>may</td>\n",
       "      <td>mon</td>\n",
       "      <td>...</td>\n",
       "      <td>30</td>\n",
       "      <td>0</td>\n",
       "      <td>nonexistent</td>\n",
       "      <td>1.1</td>\n",
       "      <td>93.994</td>\n",
       "      <td>-36.4</td>\n",
       "      <td>4.857</td>\n",
       "      <td>5191.0</td>\n",
       "      <td>no</td>\n",
       "      <td>0</td>\n",
       "    </tr>\n",
       "  </tbody>\n",
       "</table>\n",
       "<p>5 rows × 21 columns</p>\n",
       "</div>"
      ],
      "text/plain": [
       "   age        job  marital    education  default housing loan    contact  \\\n",
       "0   56  housemaid  married     basic.4y       no      no   no  telephone   \n",
       "1   57   services  married  high.school  unknown      no   no  telephone   \n",
       "2   37   services  married  high.school       no     yes   no  telephone   \n",
       "3   40     admin.  married     basic.6y       no      no   no  telephone   \n",
       "4   56   services  married  high.school       no      no  yes  telephone   \n",
       "\n",
       "  month day_of_week  ...  pdays  previous     poutcome emp.var.rate  \\\n",
       "0   may         mon  ...     30         0  nonexistent          1.1   \n",
       "1   may         mon  ...     30         0  nonexistent          1.1   \n",
       "2   may         mon  ...     30         0  nonexistent          1.1   \n",
       "3   may         mon  ...     30         0  nonexistent          1.1   \n",
       "4   may         mon  ...     30         0  nonexistent          1.1   \n",
       "\n",
       "   cons.price.idx  cons.conf.idx  euribor3m  nr.employed   y pdays2  \n",
       "0          93.994          -36.4      4.857       5191.0  no      0  \n",
       "1          93.994          -36.4      4.857       5191.0  no      0  \n",
       "2          93.994          -36.4      4.857       5191.0  no      0  \n",
       "3          93.994          -36.4      4.857       5191.0  no      0  \n",
       "4          93.994          -36.4      4.857       5191.0  no      0  \n",
       "\n",
       "[5 rows x 21 columns]"
      ]
     },
     "execution_count": 22,
     "metadata": {},
     "output_type": "execute_result"
    }
   ],
   "source": [
    "#creating a new column named \"pdays2\" based on the value in \"pdays\" column \n",
    "def function (row):\n",
    "    if(row['pdays'] == 999):\n",
    "        return 0;\n",
    "    return 1;\n",
    "\n",
    "df['pdays2'] = df.apply(lambda row: function(row),axis=1)\n",
    "\n",
    "#changing the value 999 in pdays column to  value 30 \n",
    "def function1 (row):\n",
    "    if(row['pdays']==999):\n",
    "        return 30;\n",
    "    return row['pdays'];\n",
    "\n",
    "df['pdays'] = df.apply(lambda row: function1(row),axis=1)\n",
    "\n",
    "#changing the type of pdays to int\n",
    "df['pdays'] = df['pdays'].astype(int)\n",
    "df.head()"
   ]
  },
  {
   "cell_type": "markdown",
   "metadata": {},
   "source": [
    "## 3. Data Preparation\n",
    "\n",
    "### Categorical variables\n",
    "\n",
    "As Random Forest can handle categorical features matively, the categorical features will be label encoded.\n",
    "\n",
    "For other classifiers, one hot encoding will be necessary"
   ]
  },
  {
   "cell_type": "code",
   "execution_count": 23,
   "metadata": {},
   "outputs": [],
   "source": [
    "from sklearn.preprocessing import LabelEncoder\n",
    "from sklearn import preprocessing\n",
    "import category_encoders as ce"
   ]
  },
  {
   "cell_type": "code",
   "execution_count": 24,
   "metadata": {},
   "outputs": [],
   "source": [
    "df.loc[(df['y'] == 'no'), 'y'] = 0\n",
    "df.loc[(df['y'] == 'yes'), 'y'] = 1"
   ]
  },
  {
   "cell_type": "code",
   "execution_count": 25,
   "metadata": {},
   "outputs": [
    {
     "data": {
      "text/html": [
       "<div>\n",
       "<style scoped>\n",
       "    .dataframe tbody tr th:only-of-type {\n",
       "        vertical-align: middle;\n",
       "    }\n",
       "\n",
       "    .dataframe tbody tr th {\n",
       "        vertical-align: top;\n",
       "    }\n",
       "\n",
       "    .dataframe thead th {\n",
       "        text-align: right;\n",
       "    }\n",
       "</style>\n",
       "<table border=\"1\" class=\"dataframe\">\n",
       "  <thead>\n",
       "    <tr style=\"text-align: right;\">\n",
       "      <th></th>\n",
       "      <th>age</th>\n",
       "      <th>job</th>\n",
       "      <th>marital</th>\n",
       "      <th>education</th>\n",
       "      <th>default</th>\n",
       "      <th>housing</th>\n",
       "      <th>loan</th>\n",
       "      <th>contact</th>\n",
       "      <th>month</th>\n",
       "      <th>day_of_week</th>\n",
       "      <th>...</th>\n",
       "      <th>pdays</th>\n",
       "      <th>previous</th>\n",
       "      <th>poutcome</th>\n",
       "      <th>emp.var.rate</th>\n",
       "      <th>cons.price.idx</th>\n",
       "      <th>cons.conf.idx</th>\n",
       "      <th>euribor3m</th>\n",
       "      <th>nr.employed</th>\n",
       "      <th>y</th>\n",
       "      <th>pdays2</th>\n",
       "    </tr>\n",
       "  </thead>\n",
       "  <tbody>\n",
       "    <tr>\n",
       "      <td>0</td>\n",
       "      <td>56</td>\n",
       "      <td>3</td>\n",
       "      <td>1</td>\n",
       "      <td>0</td>\n",
       "      <td>0</td>\n",
       "      <td>0</td>\n",
       "      <td>0</td>\n",
       "      <td>1</td>\n",
       "      <td>6</td>\n",
       "      <td>1</td>\n",
       "      <td>...</td>\n",
       "      <td>30</td>\n",
       "      <td>0</td>\n",
       "      <td>1</td>\n",
       "      <td>1.1</td>\n",
       "      <td>93.994</td>\n",
       "      <td>-36.4</td>\n",
       "      <td>4.857</td>\n",
       "      <td>5191.0</td>\n",
       "      <td>0</td>\n",
       "      <td>0</td>\n",
       "    </tr>\n",
       "    <tr>\n",
       "      <td>1</td>\n",
       "      <td>57</td>\n",
       "      <td>7</td>\n",
       "      <td>1</td>\n",
       "      <td>3</td>\n",
       "      <td>1</td>\n",
       "      <td>0</td>\n",
       "      <td>0</td>\n",
       "      <td>1</td>\n",
       "      <td>6</td>\n",
       "      <td>1</td>\n",
       "      <td>...</td>\n",
       "      <td>30</td>\n",
       "      <td>0</td>\n",
       "      <td>1</td>\n",
       "      <td>1.1</td>\n",
       "      <td>93.994</td>\n",
       "      <td>-36.4</td>\n",
       "      <td>4.857</td>\n",
       "      <td>5191.0</td>\n",
       "      <td>0</td>\n",
       "      <td>0</td>\n",
       "    </tr>\n",
       "    <tr>\n",
       "      <td>2</td>\n",
       "      <td>37</td>\n",
       "      <td>7</td>\n",
       "      <td>1</td>\n",
       "      <td>3</td>\n",
       "      <td>0</td>\n",
       "      <td>2</td>\n",
       "      <td>0</td>\n",
       "      <td>1</td>\n",
       "      <td>6</td>\n",
       "      <td>1</td>\n",
       "      <td>...</td>\n",
       "      <td>30</td>\n",
       "      <td>0</td>\n",
       "      <td>1</td>\n",
       "      <td>1.1</td>\n",
       "      <td>93.994</td>\n",
       "      <td>-36.4</td>\n",
       "      <td>4.857</td>\n",
       "      <td>5191.0</td>\n",
       "      <td>0</td>\n",
       "      <td>0</td>\n",
       "    </tr>\n",
       "    <tr>\n",
       "      <td>3</td>\n",
       "      <td>40</td>\n",
       "      <td>0</td>\n",
       "      <td>1</td>\n",
       "      <td>1</td>\n",
       "      <td>0</td>\n",
       "      <td>0</td>\n",
       "      <td>0</td>\n",
       "      <td>1</td>\n",
       "      <td>6</td>\n",
       "      <td>1</td>\n",
       "      <td>...</td>\n",
       "      <td>30</td>\n",
       "      <td>0</td>\n",
       "      <td>1</td>\n",
       "      <td>1.1</td>\n",
       "      <td>93.994</td>\n",
       "      <td>-36.4</td>\n",
       "      <td>4.857</td>\n",
       "      <td>5191.0</td>\n",
       "      <td>0</td>\n",
       "      <td>0</td>\n",
       "    </tr>\n",
       "    <tr>\n",
       "      <td>4</td>\n",
       "      <td>56</td>\n",
       "      <td>7</td>\n",
       "      <td>1</td>\n",
       "      <td>3</td>\n",
       "      <td>0</td>\n",
       "      <td>0</td>\n",
       "      <td>2</td>\n",
       "      <td>1</td>\n",
       "      <td>6</td>\n",
       "      <td>1</td>\n",
       "      <td>...</td>\n",
       "      <td>30</td>\n",
       "      <td>0</td>\n",
       "      <td>1</td>\n",
       "      <td>1.1</td>\n",
       "      <td>93.994</td>\n",
       "      <td>-36.4</td>\n",
       "      <td>4.857</td>\n",
       "      <td>5191.0</td>\n",
       "      <td>0</td>\n",
       "      <td>0</td>\n",
       "    </tr>\n",
       "  </tbody>\n",
       "</table>\n",
       "<p>5 rows × 21 columns</p>\n",
       "</div>"
      ],
      "text/plain": [
       "   age  job  marital  education  default  housing  loan  contact  month  \\\n",
       "0   56    3        1          0        0        0     0        1      6   \n",
       "1   57    7        1          3        1        0     0        1      6   \n",
       "2   37    7        1          3        0        2     0        1      6   \n",
       "3   40    0        1          1        0        0     0        1      6   \n",
       "4   56    7        1          3        0        0     2        1      6   \n",
       "\n",
       "   day_of_week  ...  pdays  previous  poutcome  emp.var.rate  cons.price.idx  \\\n",
       "0            1  ...     30         0         1           1.1          93.994   \n",
       "1            1  ...     30         0         1           1.1          93.994   \n",
       "2            1  ...     30         0         1           1.1          93.994   \n",
       "3            1  ...     30         0         1           1.1          93.994   \n",
       "4            1  ...     30         0         1           1.1          93.994   \n",
       "\n",
       "   cons.conf.idx  euribor3m  nr.employed  y  pdays2  \n",
       "0          -36.4      4.857       5191.0  0       0  \n",
       "1          -36.4      4.857       5191.0  0       0  \n",
       "2          -36.4      4.857       5191.0  0       0  \n",
       "3          -36.4      4.857       5191.0  0       0  \n",
       "4          -36.4      4.857       5191.0  0       0  \n",
       "\n",
       "[5 rows x 21 columns]"
      ]
     },
     "execution_count": 25,
     "metadata": {},
     "output_type": "execute_result"
    }
   ],
   "source": [
    "#label encoding\n",
    "df_le = df.copy()\n",
    "le = preprocessing.LabelEncoder()\n",
    "df_le['job'] = le.fit_transform(df_le['job'])\n",
    "df_le['marital'] = le.fit_transform(df_le['marital'])\n",
    "df_le['education'] = le.fit_transform(df_le['education'])\n",
    "df_le['default'] = le.fit_transform(df_le['default'])\n",
    "df_le['housing'] = le.fit_transform(df_le['housing'])\n",
    "df_le['loan'] = le.fit_transform(df_le['loan'])\n",
    "df_le['contact'] = le.fit_transform(df_le['contact'])\n",
    "df_le['month'] = le.fit_transform(df_le['month'])\n",
    "df_le['day_of_week'] = le.fit_transform(df_le['day_of_week'])\n",
    "df_le['poutcome'] = le.fit_transform(df_le['poutcome'])\n",
    "df_le.head()"
   ]
  },
  {
   "cell_type": "code",
   "execution_count": 26,
   "metadata": {},
   "outputs": [
    {
     "data": {
      "text/html": [
       "<div>\n",
       "<style scoped>\n",
       "    .dataframe tbody tr th:only-of-type {\n",
       "        vertical-align: middle;\n",
       "    }\n",
       "\n",
       "    .dataframe tbody tr th {\n",
       "        vertical-align: top;\n",
       "    }\n",
       "\n",
       "    .dataframe thead th {\n",
       "        text-align: right;\n",
       "    }\n",
       "</style>\n",
       "<table border=\"1\" class=\"dataframe\">\n",
       "  <thead>\n",
       "    <tr style=\"text-align: right;\">\n",
       "      <th></th>\n",
       "      <th>age</th>\n",
       "      <th>campaign</th>\n",
       "      <th>pdays</th>\n",
       "      <th>previous</th>\n",
       "      <th>emp.var.rate</th>\n",
       "      <th>cons.price.idx</th>\n",
       "      <th>cons.conf.idx</th>\n",
       "      <th>euribor3m</th>\n",
       "      <th>nr.employed</th>\n",
       "      <th>y</th>\n",
       "      <th>...</th>\n",
       "      <th>month_oct</th>\n",
       "      <th>month_sep</th>\n",
       "      <th>day_of_week_fri</th>\n",
       "      <th>day_of_week_mon</th>\n",
       "      <th>day_of_week_thu</th>\n",
       "      <th>day_of_week_tue</th>\n",
       "      <th>day_of_week_wed</th>\n",
       "      <th>poutcome_failure</th>\n",
       "      <th>poutcome_nonexistent</th>\n",
       "      <th>poutcome_success</th>\n",
       "    </tr>\n",
       "  </thead>\n",
       "  <tbody>\n",
       "    <tr>\n",
       "      <td>0</td>\n",
       "      <td>56</td>\n",
       "      <td>1</td>\n",
       "      <td>30</td>\n",
       "      <td>0</td>\n",
       "      <td>1.1</td>\n",
       "      <td>93.994</td>\n",
       "      <td>-36.4</td>\n",
       "      <td>4.857</td>\n",
       "      <td>5191.0</td>\n",
       "      <td>0</td>\n",
       "      <td>...</td>\n",
       "      <td>0</td>\n",
       "      <td>0</td>\n",
       "      <td>0</td>\n",
       "      <td>1</td>\n",
       "      <td>0</td>\n",
       "      <td>0</td>\n",
       "      <td>0</td>\n",
       "      <td>0</td>\n",
       "      <td>1</td>\n",
       "      <td>0</td>\n",
       "    </tr>\n",
       "    <tr>\n",
       "      <td>1</td>\n",
       "      <td>57</td>\n",
       "      <td>1</td>\n",
       "      <td>30</td>\n",
       "      <td>0</td>\n",
       "      <td>1.1</td>\n",
       "      <td>93.994</td>\n",
       "      <td>-36.4</td>\n",
       "      <td>4.857</td>\n",
       "      <td>5191.0</td>\n",
       "      <td>0</td>\n",
       "      <td>...</td>\n",
       "      <td>0</td>\n",
       "      <td>0</td>\n",
       "      <td>0</td>\n",
       "      <td>1</td>\n",
       "      <td>0</td>\n",
       "      <td>0</td>\n",
       "      <td>0</td>\n",
       "      <td>0</td>\n",
       "      <td>1</td>\n",
       "      <td>0</td>\n",
       "    </tr>\n",
       "    <tr>\n",
       "      <td>2</td>\n",
       "      <td>37</td>\n",
       "      <td>1</td>\n",
       "      <td>30</td>\n",
       "      <td>0</td>\n",
       "      <td>1.1</td>\n",
       "      <td>93.994</td>\n",
       "      <td>-36.4</td>\n",
       "      <td>4.857</td>\n",
       "      <td>5191.0</td>\n",
       "      <td>0</td>\n",
       "      <td>...</td>\n",
       "      <td>0</td>\n",
       "      <td>0</td>\n",
       "      <td>0</td>\n",
       "      <td>1</td>\n",
       "      <td>0</td>\n",
       "      <td>0</td>\n",
       "      <td>0</td>\n",
       "      <td>0</td>\n",
       "      <td>1</td>\n",
       "      <td>0</td>\n",
       "    </tr>\n",
       "    <tr>\n",
       "      <td>3</td>\n",
       "      <td>40</td>\n",
       "      <td>1</td>\n",
       "      <td>30</td>\n",
       "      <td>0</td>\n",
       "      <td>1.1</td>\n",
       "      <td>93.994</td>\n",
       "      <td>-36.4</td>\n",
       "      <td>4.857</td>\n",
       "      <td>5191.0</td>\n",
       "      <td>0</td>\n",
       "      <td>...</td>\n",
       "      <td>0</td>\n",
       "      <td>0</td>\n",
       "      <td>0</td>\n",
       "      <td>1</td>\n",
       "      <td>0</td>\n",
       "      <td>0</td>\n",
       "      <td>0</td>\n",
       "      <td>0</td>\n",
       "      <td>1</td>\n",
       "      <td>0</td>\n",
       "    </tr>\n",
       "    <tr>\n",
       "      <td>4</td>\n",
       "      <td>56</td>\n",
       "      <td>1</td>\n",
       "      <td>30</td>\n",
       "      <td>0</td>\n",
       "      <td>1.1</td>\n",
       "      <td>93.994</td>\n",
       "      <td>-36.4</td>\n",
       "      <td>4.857</td>\n",
       "      <td>5191.0</td>\n",
       "      <td>0</td>\n",
       "      <td>...</td>\n",
       "      <td>0</td>\n",
       "      <td>0</td>\n",
       "      <td>0</td>\n",
       "      <td>1</td>\n",
       "      <td>0</td>\n",
       "      <td>0</td>\n",
       "      <td>0</td>\n",
       "      <td>0</td>\n",
       "      <td>1</td>\n",
       "      <td>0</td>\n",
       "    </tr>\n",
       "  </tbody>\n",
       "</table>\n",
       "<p>5 rows × 64 columns</p>\n",
       "</div>"
      ],
      "text/plain": [
       "   age  campaign  pdays  previous  emp.var.rate  cons.price.idx  \\\n",
       "0   56         1     30         0           1.1          93.994   \n",
       "1   57         1     30         0           1.1          93.994   \n",
       "2   37         1     30         0           1.1          93.994   \n",
       "3   40         1     30         0           1.1          93.994   \n",
       "4   56         1     30         0           1.1          93.994   \n",
       "\n",
       "   cons.conf.idx  euribor3m  nr.employed  y  ...  month_oct  month_sep  \\\n",
       "0          -36.4      4.857       5191.0  0  ...          0          0   \n",
       "1          -36.4      4.857       5191.0  0  ...          0          0   \n",
       "2          -36.4      4.857       5191.0  0  ...          0          0   \n",
       "3          -36.4      4.857       5191.0  0  ...          0          0   \n",
       "4          -36.4      4.857       5191.0  0  ...          0          0   \n",
       "\n",
       "   day_of_week_fri  day_of_week_mon  day_of_week_thu  day_of_week_tue  \\\n",
       "0                0                1                0                0   \n",
       "1                0                1                0                0   \n",
       "2                0                1                0                0   \n",
       "3                0                1                0                0   \n",
       "4                0                1                0                0   \n",
       "\n",
       "   day_of_week_wed  poutcome_failure  poutcome_nonexistent  poutcome_success  \n",
       "0                0                 0                     1                 0  \n",
       "1                0                 0                     1                 0  \n",
       "2                0                 0                     1                 0  \n",
       "3                0                 0                     1                 0  \n",
       "4                0                 0                     1                 0  \n",
       "\n",
       "[5 rows x 64 columns]"
      ]
     },
     "execution_count": 26,
     "metadata": {},
     "output_type": "execute_result"
    }
   ],
   "source": [
    "#one-hot encoding\n",
    "ohe = ce.OneHotEncoder(handle_unknown='ignore', use_cat_names=True)\n",
    "categorical_variables = ['job','marital','education','default','housing','loan','contact','month','day_of_week','poutcome']\n",
    "df_ohe = pd.get_dummies(df, columns=categorical_variables)\n",
    "df_ohe.head()"
   ]
  },
  {
   "cell_type": "markdown",
   "metadata": {},
   "source": [
    "### Split into train and test set before scaling the numeric data \n",
    "\n",
    "Splitting will be done first as fit_transform will be used on train and transform on test to avoid unseen data influencing the scaling.\n",
    "\n",
    "Using random_state 42 will ensure the same samples in train and test set of both ohe and le\n",
    "\n",
    "Stratification (keeping the target distribution unchanged) used since dataset is highly imbalanced. A random train/test split may change the target distribution quite a bit."
   ]
  },
  {
   "cell_type": "code",
   "execution_count": 27,
   "metadata": {},
   "outputs": [
    {
     "name": "stdout",
     "output_type": "stream",
     "text": [
      "Original: 0.11265417111780131 Train: 0.11265553869499241 Test: 0.11264870114105366\n"
     ]
    }
   ],
   "source": [
    "from sklearn.model_selection import train_test_split\n",
    "\n",
    "train_le, test_le = train_test_split(df_le, train_size=0.8, stratify=df_le.y.values, random_state=42)\n",
    "print('Original:', (df_le.y).mean(), 'Train:', (train_le.y).mean(), 'Test:', (test_le.y).mean())"
   ]
  },
  {
   "cell_type": "code",
   "execution_count": 28,
   "metadata": {},
   "outputs": [
    {
     "name": "stdout",
     "output_type": "stream",
     "text": [
      "Original: 0.11265417111780131 Train: 0.11265553869499241 Test: 0.11264870114105366\n"
     ]
    }
   ],
   "source": [
    "train_ohe, test_ohe = train_test_split(df_ohe, train_size=0.8, stratify=df_ohe.y.values, random_state=42)\n",
    "print('Original:', (df_ohe.y).mean(), 'Train:', (train_ohe.y).mean(), 'Test:', (test_ohe.y).mean())"
   ]
  },
  {
   "cell_type": "markdown",
   "metadata": {},
   "source": [
    "### Numeric variables\n",
    "As shown in the above exploration, the numeric variable ranges differ and are not evenly distributed. Therefore, the values of these features need to standardised."
   ]
  },
  {
   "cell_type": "code",
   "execution_count": 29,
   "metadata": {},
   "outputs": [],
   "source": [
    "from sklearn.preprocessing import MinMaxScaler"
   ]
  },
  {
   "cell_type": "code",
   "execution_count": 30,
   "metadata": {},
   "outputs": [],
   "source": [
    "#scale label encoded df\n",
    "scaler = MinMaxScaler()\n",
    "train_le[numerical_variables] = scaler.fit_transform(train_le[numerical_variables])\n",
    "test_le[numerical_variables] = scaler.transform(test_le[numerical_variables])"
   ]
  },
  {
   "cell_type": "code",
   "execution_count": 31,
   "metadata": {},
   "outputs": [],
   "source": [
    "#scale ohe df\n",
    "scaler = MinMaxScaler()\n",
    "train_ohe[numerical_variables] = scaler.fit_transform(train_ohe[numerical_variables])\n",
    "test_ohe[numerical_variables] = scaler.transform(test_ohe[numerical_variables])"
   ]
  },
  {
   "cell_type": "code",
   "execution_count": 32,
   "metadata": {},
   "outputs": [],
   "source": [
    "#separating X and Y for test and train for le and ohe\n",
    "X_train_le = train_le.drop(['y'], axis=1)\n",
    "Y_train_le = train_le[['y']]\n",
    "\n",
    "X_test_le = test_le.drop(['y'], axis=1)\n",
    "Y_test_le = test_le[['y']]"
   ]
  },
  {
   "cell_type": "code",
   "execution_count": 33,
   "metadata": {},
   "outputs": [],
   "source": [
    "X_train_ohe = train_ohe.drop(['y'], axis=1)\n",
    "Y_train_ohe = train_ohe[['y']]\n",
    "\n",
    "X_test_ohe = test_ohe.drop(['y'], axis=1)\n",
    "Y_test_ohe = test_ohe[['y']]"
   ]
  },
  {
   "cell_type": "markdown",
   "metadata": {},
   "source": [
    "## 4. SMOTE: Synthetic Minority Over-Sampling Technique\n",
    "\n",
    "Given the importance of the positive outcomes for this analysis, and the unbalanced nature of the outcomes (there are substantially more 'no' repsonses than 'yes' responses), SMOTE will be used to oversample the minority class."
   ]
  },
  {
   "cell_type": "code",
   "execution_count": 34,
   "metadata": {},
   "outputs": [
    {
     "name": "stderr",
     "output_type": "stream",
     "text": [
      "Using TensorFlow backend.\n"
     ]
    }
   ],
   "source": [
    "from imblearn.over_sampling import SMOTE"
   ]
  },
  {
   "cell_type": "code",
   "execution_count": 35,
   "metadata": {},
   "outputs": [],
   "source": [
    "smote = SMOTE(random_state=42)"
   ]
  },
  {
   "cell_type": "code",
   "execution_count": 36,
   "metadata": {},
   "outputs": [],
   "source": [
    "X_res_le, Y_res_le = smote.fit_resample(X_train_le, Y_train_le)\n",
    "\n",
    "X_res_ohe, Y_res_ohe = smote.fit_resample(X_train_ohe, Y_train_ohe)"
   ]
  },
  {
   "cell_type": "code",
   "execution_count": 37,
   "metadata": {},
   "outputs": [
    {
     "data": {
      "image/png": "[encoded data removed]",
      "text/plain": [
       "<Figure size 432x288 with 1 Axes>"
      ]
     },
     "metadata": {
      "needs_background": "light"
     },
     "output_type": "display_data"
    }
   ],
   "source": [
    "plt.bar(['No','Yes'], [sum(Y_res_le), len(Y_res_le)-sum(Y_res_le)], facecolor = '#2ab0ee', edgecolor='#167aaa', linewidth=0.5)\n",
    "plt.title('Balanced Target Variable', fontsize=14)\n",
    "plt.xlabel('Classes')\n",
    "plt.ylabel('Amounth')\n",
    "plt.show()"
   ]
  },
  {
   "cell_type": "code",
   "execution_count": 39,
   "metadata": {},
   "outputs": [],
   "source": [
    "X_train_l = pd.DataFrame(X_res_le, columns=X_train_le.columns)\n",
    "Y_train_l = pd.DataFrame(Y_res_le, columns=Y_train_le.columns)\n",
    "\n",
    "X_train_o = pd.DataFrame(X_res_ohe, columns=X_train_ohe.columns)\n",
    "Y_train_o = pd.DataFrame(Y_res_ohe, columns=Y_train_ohe.columns)"
   ]
  },
  {
   "cell_type": "code",
   "execution_count": 68,
   "metadata": {},
   "outputs": [],
   "source": [
    "#save both sets of datasets\n",
    "X_train_l.to_csv('data/X_train_le.csv', index=False)\n",
    "X_test_le.to_csv('data/X_test_le.csv', index=False)\n",
    "Y_train_l.to_csv('data/Y_train_le.csv', index=False)\n",
    "Y_test_le.to_csv('data/Y_test_le.csv', index=False)\n",
    "\n",
    "X_train_o.to_csv('data/X_train_ohe.csv', index=False)\n",
    "X_test_ohe.to_csv('data/X_test_ohe.csv', index=False)\n",
    "Y_train_o.to_csv('data/Y_train_ohe.csv', index=False)\n",
    "Y_test_ohe.to_csv('data/Y_test_ohe.csv', index=False)"
   ]
  },
  {
   "cell_type": "markdown",
   "metadata": {},
   "source": [
    "## 5. Building Models\n",
    "\n",
    "A number of models will be tested with the data, including:\n",
    "+ Support Vector Machine (SVM)\n",
    "+ Random Forest\n",
    "+ Logisitic Regression with Linear Features\n",
    "+ Logisitic Regression with Polynomial Features of degree 2\n",
    "+ Logisitic Regression with Polynomial Features of degree 3\n",
    "+ XGBoost Classifier\n",
    "+ Gradient Boosting Classifier\n",
    "+ Ada Boost\n",
    "\n",
    "Dimensionality reduction?????\n",
    "\n",
    "First, using stratified kfold cross validation, the optimal parameters for classifiers will be determined. Then, classifier performance will be determined on the train set using kfold cross validation once again.    \n",
    "\n",
    "Below are functions for determining the best classifier and parameters:\n",
    "+ kfold_classification performs stratified kfold on the train data\n",
    "+ evaluate_classifier_performance evaluates the predictions generated through stratified kfold cross validation"
   ]
  },
  {
   "cell_type": "code",
   "execution_count": 142,
   "metadata": {},
   "outputs": [],
   "source": [
    "import matplotlib.pyplot as plt\n",
    "\n",
    "from sklearn.metrics import accuracy_score, confusion_matrix\n",
    "from sklearn.metrics import precision_score, recall_score, f1_score\n",
    "from sklearn.metrics import roc_curve, auc\n",
    "from sklearn.metrics import classification_report\n",
    "from sklearn.pipeline import Pipeline\n",
    "\n",
    "from sklearn.linear_model import LogisticRegression\n",
    "from sklearn.preprocessing import PolynomialFeatures\n",
    "from sklearn.svm import SVC\n",
    "from sklearn.model_selection import StratifiedKFold\n",
    "from sklearn.ensemble import BaggingClassifier, RandomForestClassifier, AdaBoostClassifier, GradientBoostingClassifier"
   ]
  },
  {
   "cell_type": "code",
   "execution_count": 121,
   "metadata": {},
   "outputs": [],
   "source": [
    "def kfold_classification(classifier, X, Y):\n",
    "    \n",
    "    skf = StratifiedKFold(n_splits = 3, shuffle = True)\n",
    "    predictions = []\n",
    "    Y_actual = []\n",
    "    predicted_prob = []\n",
    "    \n",
    "    for train_subset_index, cv_index in skf_model.split(X, Y):\n",
    "        X_features_subset = X.loc[train_subset_index]\n",
    "        Y_subset = Y.loc[train_subset_index]\n",
    "        X_features_cv = X.loc[cv_index]\n",
    "        Y_cv = Y.loc[cv_index]\n",
    "                \n",
    "        model = classifier\n",
    "        model.fit(X_features_subset, Y_subset)\n",
    "        pred = model.predict(X_features_cv)\n",
    "        pred_prob = model.predict_proba(X_features_cv)\n",
    "        \n",
    "        predictions.append(pred)\n",
    "        Y_actual.append(Y_cv)\n",
    "        predicted_prob.append(pred_prob)\n",
    "    \n",
    "    predictions = [item for sublist in predictions for item in sublist]\n",
    "    predicted_proba = np.array(predicted_prob)\n",
    "    \n",
    "    act0, act1, act2 = Y_actual[0], Y_actual[1], Y_actual[2]\n",
    "    actual = act0.append(act1)\n",
    "    actual = actual.append(act2)\n",
    "    \n",
    "    prob0, prob1, prob2 = predicted_prob[0], predicted_prob[1], predicted_prob[2]\n",
    "\n",
    "    pred_proba = np.concatenate((prob0, prob1))\n",
    "    pred_proba = np.concatenate((pred_proba, prob2))\n",
    "        \n",
    "    evaluate_classifier_performance(actual, predictions, pred_proba, 'y')"
   ]
  },
  {
   "cell_type": "code",
   "execution_count": 76,
   "metadata": {},
   "outputs": [],
   "source": [
    "def evaluate_classifier_performance(actual, predictions, predicted_prob, roc_y_n):\n",
    "    ### Confusion Matrix\n",
    "    confusion_matrix_train = confusion_matrix(actual, predictions)\n",
    "    print(\"\\nConfusion Matrix:\\n \", confusion_matrix_train)\n",
    " \n",
    "    ### Accuracy score\n",
    "    acc = accuracy_score(actual, predictions)\n",
    "    print(\"\\nTraining Accuracy Score: \", acc)\n",
    "       \n",
    "    ### Precision, Recall  \n",
    "    precision = precision_score(actual, predictions)\n",
    "    print(\"\\nTraining Precision: \", precision)\n",
    "    \n",
    "    recall = recall_score(actual, predictions)\n",
    "    print(\"\\nTraining Recall: \", recall)\n",
    "    \n",
    "    ### Classification Report\n",
    "    print(\"\\nTrain Classification Report: \\n\",classification_report(actual, predictions))\n",
    "\n",
    "    ### F1 Score\n",
    "    f1score = f1_score(actual, predictions)\n",
    "    print(\"\\nTraining F1score: \", f1score)\n",
    "    \n",
    "    f1score_weight = f1_score(actual, predictions, average='weighted')\n",
    "    print(\"\\nTraining Weigted F1score: \", f1score_weight)\n",
    "    \n",
    "    ### ROC-AUC\n",
    "    if roc_y_n == 'y':\n",
    "        fpr, tpr, threshold = roc_curve(actual, predicted_prob[:,1])\n",
    "        roc_auc = auc(fpr, tpr)\n",
    "        print(\"\\AUC for ROC: \", roc_auc)\n",
    "        plt.figure()\n",
    "        plt.plot(fpr, tpr, 'b', label = 'AUC = %0.2f' % roc_auc)\n",
    "        plt.plot([0, 1], [0, 1],'r--')\n",
    "        plt.xlim([0, 1])\n",
    "        plt.ylim([0, 1])\n",
    "        plt.ylabel('True Positive Rate')\n",
    "        plt.xlabel('False Positive Rate')\n",
    "        plt.legend(loc = 'lower right')\n",
    "        plt.title('Training - Receiver Operating Characteristic')"
   ]
  },
  {
   "cell_type": "markdown",
   "metadata": {},
   "source": [
    "### 5.1 Support Vector Machine"
   ]
  },
  {
   "cell_type": "code",
   "execution_count": 77,
   "metadata": {},
   "outputs": [],
   "source": [
    "#loading X_train and Y_train OHE\n",
    "X_train = pd.read_csv('data/X_train_ohe.csv')\n",
    "Y_train = pd.read_csv('data/Y_train_ohe.csv')"
   ]
  },
  {
   "cell_type": "code",
   "execution_count": 78,
   "metadata": {
    "scrolled": true
   },
   "outputs": [
    {
     "name": "stdout",
     "output_type": "stream",
     "text": [
      "---Iteration:  0\n",
      "0.5 0.01\n",
      "0.5 0.02\n",
      "0.5 0.03\n",
      "0.5 0.04\n",
      "0.5 0.05\n",
      "0.925 0.01\n",
      "0.925 0.02\n",
      "0.925 0.03\n",
      "0.925 0.04\n",
      "0.925 0.05\n",
      "1.35 0.01\n",
      "1.35 0.02\n",
      "1.35 0.03\n",
      "1.35 0.04\n",
      "1.35 0.05\n",
      "1.7750000000000001 0.01\n",
      "1.7750000000000001 0.02\n",
      "1.7750000000000001 0.03\n",
      "1.7750000000000001 0.04\n",
      "1.7750000000000001 0.05\n",
      "2.2 0.01\n",
      "2.2 0.02\n",
      "2.2 0.03\n",
      "2.2 0.04\n",
      "2.2 0.05\n",
      "---Iteration:  1\n",
      "0.5 0.01\n",
      "0.5 0.02\n",
      "0.5 0.03\n",
      "0.5 0.04\n",
      "0.5 0.05\n",
      "0.925 0.01\n",
      "0.925 0.02\n",
      "0.925 0.03\n",
      "0.925 0.04\n",
      "0.925 0.05\n",
      "1.35 0.01\n",
      "1.35 0.02\n",
      "1.35 0.03\n",
      "1.35 0.04\n",
      "1.35 0.05\n",
      "1.7750000000000001 0.01\n",
      "1.7750000000000001 0.02\n",
      "1.7750000000000001 0.03\n",
      "1.7750000000000001 0.04\n",
      "1.7750000000000001 0.05\n",
      "2.2 0.01\n",
      "2.2 0.02\n",
      "2.2 0.03\n",
      "2.2 0.04\n",
      "2.2 0.05\n",
      "---Iteration:  2\n",
      "0.5 0.01\n",
      "0.5 0.02\n",
      "0.5 0.03\n",
      "0.5 0.04\n",
      "0.5 0.05\n",
      "0.925 0.01\n",
      "0.925 0.02\n",
      "0.925 0.03\n",
      "0.925 0.04\n",
      "0.925 0.05\n",
      "1.35 0.01\n",
      "1.35 0.02\n",
      "1.35 0.03\n",
      "1.35 0.04\n",
      "1.35 0.05\n",
      "1.7750000000000001 0.01\n",
      "1.7750000000000001 0.02\n",
      "1.7750000000000001 0.03\n",
      "1.7750000000000001 0.04\n",
      "1.7750000000000001 0.05\n",
      "2.2 0.01\n",
      "2.2 0.02\n",
      "2.2 0.03\n",
      "2.2 0.04\n",
      "2.2 0.05\n",
      "By Cross Validation - Chosen C for SVM:  2.2\n",
      "By Cross Validation - Chosen Gamma for SVM:  0.05\n"
     ]
    }
   ],
   "source": [
    "### Support Vector Machine Model\n",
    "\n",
    "C_list = np.linspace(0.5, 2.2, 5)\n",
    "gamma_list = np.linspace(0.01, 0.05, 5)\n",
    "\n",
    "skf_model = StratifiedKFold(n_splits = 3, shuffle = True)\n",
    "\n",
    "max_iterations = 3\n",
    "for t in range(0, max_iterations):\n",
    "    print(\"---Iteration: \",t)\n",
    "    AVG_ACC = np.zeros(shape = [len(C_list), len(gamma_list)])\n",
    "    STD_ACC = np.zeros(shape = [len(C_list), len(gamma_list)])\n",
    "    \n",
    "    x_count = 0\n",
    "    for c_value in C_list:\n",
    "        \n",
    "        y_count = 0\n",
    "        for gamma_value in gamma_list:\n",
    "            print(c_value, gamma_value)\n",
    "\n",
    "            temp_accuracy_list = []\n",
    "            for train_subset_index, cv_index in skf_model.split(X_train, Y_train):\n",
    "                df_train_features_subset = X_train.loc[train_subset_index]\n",
    "                df_train_class_subset = Y_train.loc[train_subset_index]\n",
    "                df_train_features_cv = X_train.loc[cv_index]\n",
    "                df_train_class_cv = Y_train.loc[cv_index]\n",
    "                \n",
    "                svm_model = SVC(C = c_value, gamma = gamma_value, kernel = 'rbf')\n",
    "                svm_model.fit(df_train_features_subset, df_train_class_subset)\n",
    "                score_value = svm_model.score(df_train_features_cv, df_train_class_cv)\n",
    "                temp_accuracy_list.append(score_value)\n",
    "            \n",
    "            AVG_ACC[x_count, y_count] = np.mean(temp_accuracy_list)\n",
    "            STD_ACC[x_count, y_count] = np.std(temp_accuracy_list)\n",
    "            y_count += 1\n",
    "            \n",
    "        x_count += 1\n",
    "    \n",
    "    if t==0:\n",
    "        final_AVG_ACC = AVG_ACC\n",
    "        final_STD_ACC = STD_ACC\n",
    "    else:\n",
    "        final_AVG_ACC = np.dstack([final_AVG_ACC, AVG_ACC])\n",
    "        final_STD_ACC = np.dstack([final_STD_ACC, STD_ACC])\n",
    "             \n",
    "final_accuracy_mean_list = np.mean(final_AVG_ACC, axis=2)\n",
    "max_ind = np.unravel_index(np.argmax(final_accuracy_mean_list, axis=None), final_accuracy_mean_list.shape)\n",
    "\n",
    "chosen_C = C_list[max_ind[0]]\n",
    "chosen_gamma = gamma_list[max_ind[1]]\n",
    "\n",
    "print(\"By Cross Validation - Chosen C for SVM: \", chosen_C)\n",
    "print(\"By Cross Validation - Chosen Gamma for SVM: \", chosen_gamma)"
   ]
  },
  {
   "cell_type": "code",
   "execution_count": 122,
   "metadata": {},
   "outputs": [
    {
     "name": "stdout",
     "output_type": "stream",
     "text": [
      "\n",
      "Confusion Matrix:\n",
      "  [[27374  1864]\n",
      " [ 4923 24315]]\n",
      "\n",
      "Training Accuracy Score:  0.8839352896914974\n",
      "\n",
      "Training Precision:  0.9287978914397036\n",
      "\n",
      "Training Recall:  0.8316232300430946\n",
      "\n",
      "Train Classification Report: \n",
      "               precision    recall  f1-score   support\n",
      "\n",
      "           0       0.85      0.94      0.89     29238\n",
      "           1       0.93      0.83      0.88     29238\n",
      "\n",
      "    accuracy                           0.88     58476\n",
      "   macro avg       0.89      0.88      0.88     58476\n",
      "weighted avg       0.89      0.88      0.88     58476\n",
      "\n",
      "\n",
      "Training F1score:  0.8775285562192108\n",
      "\n",
      "Training Weigted F1score:  0.8836168010640215\n",
      "\\AUC for ROC:  0.9557308021305986\n"
     ]
    },
    {
     "data": {
      "image/png": "[encoded data removed]",
      "text/plain": [
       "<Figure size 432x288 with 1 Axes>"
      ]
     },
     "metadata": {
      "needs_background": "light"
     },
     "output_type": "display_data"
    }
   ],
   "source": [
    "svm_model = SVC(C = c_value, gamma = gamma_value, kernel = 'rbf', probability = True)\n",
    "\n",
    "kfold_classification(svm_model, X_train, Y_train)"
   ]
  },
  {
   "cell_type": "code",
   "execution_count": 123,
   "metadata": {},
   "outputs": [],
   "source": [
    "svm_perf = []\n",
    "svm_perf.append('SVM')\n",
    "svm_perf.append(0.8839)\n",
    "svm_perf.append(0.9288)\n",
    "svm_perf.append(0.8316)\n",
    "svm_perf.append(0.8775)\n",
    "svm_perf.append(0.8836)\n",
    "svm_perf.append(0.9557)"
   ]
  },
  {
   "cell_type": "code",
   "execution_count": 126,
   "metadata": {},
   "outputs": [
    {
     "data": {
      "text/html": [
       "<div>\n",
       "<style scoped>\n",
       "    .dataframe tbody tr th:only-of-type {\n",
       "        vertical-align: middle;\n",
       "    }\n",
       "\n",
       "    .dataframe tbody tr th {\n",
       "        vertical-align: top;\n",
       "    }\n",
       "\n",
       "    .dataframe thead th {\n",
       "        text-align: right;\n",
       "    }\n",
       "</style>\n",
       "<table border=\"1\" class=\"dataframe\">\n",
       "  <thead>\n",
       "    <tr style=\"text-align: right;\">\n",
       "      <th></th>\n",
       "      <th>Classifier</th>\n",
       "      <th>Accuracy</th>\n",
       "      <th>Precision</th>\n",
       "      <th>Recall</th>\n",
       "      <th>F1 Score</th>\n",
       "      <th>Weighted F1 Score</th>\n",
       "      <th>AUC</th>\n",
       "    </tr>\n",
       "  </thead>\n",
       "  <tbody>\n",
       "    <tr>\n",
       "      <td>0</td>\n",
       "      <td>SVM</td>\n",
       "      <td>0.8839</td>\n",
       "      <td>0.9288</td>\n",
       "      <td>0.8316</td>\n",
       "      <td>0.8775</td>\n",
       "      <td>0.8836</td>\n",
       "      <td>0.9557</td>\n",
       "    </tr>\n",
       "  </tbody>\n",
       "</table>\n",
       "</div>"
      ],
      "text/plain": [
       "  Classifier  Accuracy  Precision  Recall  F1 Score  Weighted F1 Score     AUC\n",
       "0        SVM    0.8839     0.9288  0.8316    0.8775             0.8836  0.9557"
      ]
     },
     "execution_count": 126,
     "metadata": {},
     "output_type": "execute_result"
    }
   ],
   "source": [
    "performance_df = pd.DataFrame(columns=['Classifier','Accuracy','Precision','Recall','F1 Score','Weighted F1 Score','AUC'])\n",
    "performance_df = performance_df.append(pd.Series(svm_perf, index = performance_df.columns), ignore_index = True)\n",
    "performance_df.head()"
   ]
  },
  {
   "cell_type": "markdown",
   "metadata": {},
   "source": [
    "### 5.2 Random Forest"
   ]
  },
  {
   "cell_type": "code",
   "execution_count": 127,
   "metadata": {},
   "outputs": [],
   "source": [
    "#loading X_train and Y_train LE\n",
    "X_train = pd.read_csv('data/X_train_le.csv')\n",
    "Y_train = pd.read_csv('data/Y_train_le.csv')"
   ]
  },
  {
   "cell_type": "code",
   "execution_count": 128,
   "metadata": {},
   "outputs": [
    {
     "name": "stdout",
     "output_type": "stream",
     "text": [
      "---Iteration:  0\n",
      "---Iteration:  1\n",
      "---Iteration:  2\n",
      "By Cross Validation - Chosen Number of Estimators for Random Forest Classifier:  40\n"
     ]
    }
   ],
   "source": [
    "### Random Forest Classifier\n",
    "n_estimators_list = range(10, 50, 10)\n",
    "\n",
    "skf_model = StratifiedKFold(n_splits = 3, shuffle = True)\n",
    "\n",
    "max_iterations = 3\n",
    "for t in range(0, max_iterations):\n",
    "    print(\"---Iteration: \", t)\n",
    "    AVG_ACC = np.zeros(shape = [len(n_estimators_list)])\n",
    "    STD_ACC = np.zeros(shape = [len(n_estimators_list)])\n",
    "    \n",
    "    x_count = 0\n",
    "    for k_val in n_estimators_list:\n",
    "        temp_accuracy_list = []\n",
    "        \n",
    "        for train_subset_index, cv_index in skf_model.split(X_train, Y_train):\n",
    "            df_train_features_subset = X_train.loc[train_subset_index]\n",
    "            df_train_class_subset = Y_train.loc[train_subset_index]\n",
    "            df_train_features_cv = X_train.loc[cv_index]\n",
    "            df_train_class_cv = Y_train.loc[cv_index]\n",
    "        \n",
    "            rf_model = RandomForestClassifier(n_estimators = k_val)\n",
    "            rf_model.fit(df_train_features_subset, df_train_class_subset)\n",
    "            score_value = rf_model.score(df_train_features_cv, df_train_class_cv)\n",
    "            temp_accuracy_list.append(score_value)\n",
    "                \n",
    "        AVG_ACC[x_count] = np.mean(temp_accuracy_list)\n",
    "        STD_ACC[x_count] = np.std(temp_accuracy_list)\n",
    "        x_count += 1\n",
    "    \n",
    "    if t == 0:\n",
    "        final_AVG_ACC = AVG_ACC\n",
    "        final_STD_ACC = STD_ACC\n",
    "    else:\n",
    "        final_AVG_ACC = np.vstack([final_AVG_ACC, AVG_ACC])\n",
    "        final_STD_ACC = np.vstack([final_STD_ACC, STD_ACC])\n",
    "    \n",
    "final_accuracy_mean_list = np.mean(final_AVG_ACC, axis=0)\n",
    "final_k_index = np.argmax(final_accuracy_mean_list)\n",
    "\n",
    "chosen_k = n_estimators_list[final_k_index]\n",
    "print(\"By Cross Validation - Chosen Number of Estimators for Random Forest Classifier: \", chosen_k)"
   ]
  },
  {
   "cell_type": "code",
   "execution_count": 129,
   "metadata": {},
   "outputs": [
    {
     "name": "stdout",
     "output_type": "stream",
     "text": [
      "\n",
      "Confusion Matrix:\n",
      "  [[27905  1333]\n",
      " [ 2451 26787]]\n",
      "\n",
      "Training Accuracy Score:  0.9352896914973664\n",
      "\n",
      "Training Precision:  0.9525960170697013\n",
      "\n",
      "Training Recall:  0.9161707367124974\n",
      "\n",
      "Train Classification Report: \n",
      "               precision    recall  f1-score   support\n",
      "\n",
      "           0       0.92      0.95      0.94     29238\n",
      "           1       0.95      0.92      0.93     29238\n",
      "\n",
      "    accuracy                           0.94     58476\n",
      "   macro avg       0.94      0.94      0.94     58476\n",
      "weighted avg       0.94      0.94      0.94     58476\n",
      "\n",
      "\n",
      "Training F1score:  0.9340283831374874\n",
      "\n",
      "Training Weigted F1score:  0.9352660290020424\n",
      "\\AUC for ROC:  0.9763243797196027\n"
     ]
    },
    {
     "data": {
      "image/png": "[encoded data removed]",
      "text/plain": [
       "<Figure size 432x288 with 1 Axes>"
      ]
     },
     "metadata": {
      "needs_background": "light"
     },
     "output_type": "display_data"
    }
   ],
   "source": [
    "rf_model = RandomForestClassifier(n_estimators = chosen_k)\n",
    "\n",
    "kfold_classification(rf_model, X_train, Y_train)"
   ]
  },
  {
   "cell_type": "code",
   "execution_count": 130,
   "metadata": {},
   "outputs": [],
   "source": [
    "rf_perf = []\n",
    "rf_perf.append('Random Forest')\n",
    "rf_perf.append(0.9353)\n",
    "rf_perf.append(0.9526)\n",
    "rf_perf.append(0.9162)\n",
    "rf_perf.append(0.9340)\n",
    "rf_perf.append(0.9353)\n",
    "rf_perf.append(0.9763)"
   ]
  },
  {
   "cell_type": "code",
   "execution_count": 131,
   "metadata": {},
   "outputs": [],
   "source": [
    "performance_df = performance_df.append(pd.Series(rf_perf, index = performance_df.columns), ignore_index = True)"
   ]
  },
  {
   "cell_type": "markdown",
   "metadata": {},
   "source": [
    "### 5.3 Logistic Regression with Linear Features"
   ]
  },
  {
   "cell_type": "code",
   "execution_count": 133,
   "metadata": {},
   "outputs": [],
   "source": [
    "#loading X_train and Y_train OHE\n",
    "X_train = pd.read_csv('data/X_train_ohe.csv')\n",
    "Y_train = pd.read_csv('data/Y_train_ohe.csv')"
   ]
  },
  {
   "cell_type": "code",
   "execution_count": 140,
   "metadata": {},
   "outputs": [
    {
     "name": "stdout",
     "output_type": "stream",
     "text": [
      "---Iteration:  0\n",
      "---Iteration:  1\n",
      "---Iteration:  2\n",
      "By Cross Validation - Chosen C for Logistic Regression:  0.1\n"
     ]
    }
   ],
   "source": [
    "C_list = np.linspace(0.1, 1, 5)\n",
    "\n",
    "skf_model = StratifiedKFold(n_splits = 3, shuffle = True)\n",
    "poly_features_1 = PolynomialFeatures(degree = 1)\n",
    "\n",
    "max_iterations = 3\n",
    "for t in range(0, max_iterations):\n",
    "    print(\"---Iteration: \", t)\n",
    "    AVG_ACC = np.zeros(shape = [len(C_list)])\n",
    "    STD_ACC = np.zeros(shape = [len(C_list)])\n",
    "    \n",
    "    x_count = 0\n",
    "    for c_value in C_list:\n",
    "            \n",
    "        temp_accuracy_list = []\n",
    "        for train_subset_index, cv_index in skf_model.split(X_train, Y_train):\n",
    "            df_train_features_subset = X_train.loc[train_subset_index]\n",
    "            df_train_class_subset = Y_train.loc[train_subset_index]\n",
    "            df_train_features_cv = X_train.loc[cv_index]\n",
    "            df_train_class_cv = Y_train.loc[cv_index]\n",
    "                \n",
    "            #poly features transform\n",
    "            df_train_features_subset_poly = poly_features_1.fit_transform(df_train_features_subset)\n",
    "            df_train_features_cv_poly = poly_features_1.transform(df_train_features_cv)\n",
    "                \n",
    "            lr_model = LogisticRegression(C = c_value)\n",
    "            lr_model.fit(df_train_features_subset_poly, df_train_class_subset)\n",
    "            score_value = lr_model.score(df_train_features_cv_poly, df_train_class_cv)\n",
    "            temp_accuracy_list.append(score_value)\n",
    "            \n",
    "        AVG_ACC[x_count] = np.mean(temp_accuracy_list)\n",
    "        STD_ACC[x_count] = np.std(temp_accuracy_list)\n",
    "            \n",
    "        x_count += 1\n",
    "    \n",
    "    if t == 0:\n",
    "        final_AVG_ACC = AVG_ACC\n",
    "        final_STD_ACC = STD_ACC\n",
    "    else:\n",
    "        final_AVG_ACC = np.dstack([final_AVG_ACC, AVG_ACC])\n",
    "        final_STD_ACC = np.dstack([final_STD_ACC, STD_ACC])\n",
    "             \n",
    "final_accuracy_mean_list = np.mean(final_AVG_ACC, axis = 2)\n",
    "max_ind = np.unravel_index(np.argmax(final_accuracy_mean_list, axis = None), final_accuracy_mean_list.shape)\n",
    "\n",
    "chosen_C = C_list[max_ind[0]]\n",
    "print(\"By Cross Validation - Chosen C for Logistic Regression: \", chosen_C)"
   ]
  },
  {
   "cell_type": "code",
   "execution_count": 144,
   "metadata": {},
   "outputs": [
    {
     "name": "stdout",
     "output_type": "stream",
     "text": [
      "\n",
      "Confusion Matrix:\n",
      "  [[24374  4864]\n",
      " [10512 18726]]\n",
      "\n",
      "Training Accuracy Score:  0.7370545180928928\n",
      "\n",
      "Training Precision:  0.793810936837643\n",
      "\n",
      "Training Recall:  0.6404678842602093\n",
      "\n",
      "Train Classification Report: \n",
      "               precision    recall  f1-score   support\n",
      "\n",
      "           0       0.70      0.83      0.76     29238\n",
      "           1       0.79      0.64      0.71     29238\n",
      "\n",
      "    accuracy                           0.74     58476\n",
      "   macro avg       0.75      0.74      0.73     58476\n",
      "weighted avg       0.75      0.74      0.73     58476\n",
      "\n",
      "\n",
      "Training F1score:  0.7089422276065722\n",
      "\n",
      "Training Weigted F1score:  0.7345784059248006\n",
      "\\AUC for ROC:  0.7977804029074007\n"
     ]
    },
    {
     "data": {
      "image/png": "[encoded data removed]",
      "text/plain": [
       "<Figure size 432x288 with 1 Axes>"
      ]
     },
     "metadata": {
      "needs_background": "light"
     },
     "output_type": "display_data"
    }
   ],
   "source": [
    "lr1_model = LogisticRegression(C = chosen_C)\n",
    "lr1_model = Pipeline([('features', poly_features_1), ('clf', lr1_model)])\n",
    "\n",
    "kfold_classification(lr1_model, X_train, Y_train)"
   ]
  },
  {
   "cell_type": "code",
   "execution_count": 145,
   "metadata": {},
   "outputs": [],
   "source": [
    "lr_perf = []\n",
    "lr_perf.append('Logistic Regression')\n",
    "lr_perf.append(0.7371)\n",
    "lr_perf.append(0.7938)\n",
    "lr_perf.append(0.6405)\n",
    "lr_perf.append(0.7089)\n",
    "lr_perf.append(0.7346)\n",
    "lr_perf.append(0.7978)"
   ]
  },
  {
   "cell_type": "code",
   "execution_count": 146,
   "metadata": {},
   "outputs": [],
   "source": [
    "performance_df = performance_df.append(pd.Series(lr_perf, index = performance_df.columns), ignore_index = True)"
   ]
  },
  {
   "cell_type": "markdown",
   "metadata": {},
   "source": [
    "### 5.4 Logistic Regression with Polynomial Features of degree 2"
   ]
  },
  {
   "cell_type": "code",
   "execution_count": 147,
   "metadata": {},
   "outputs": [],
   "source": [
    "#loading X_train and Y_train OHE\n",
    "X_train = pd.read_csv('data/X_train_ohe.csv')\n",
    "Y_train = pd.read_csv('data/Y_train_ohe.csv')"
   ]
  },
  {
   "cell_type": "code",
   "execution_count": 148,
   "metadata": {},
   "outputs": [
    {
     "name": "stdout",
     "output_type": "stream",
     "text": [
      "---Iteration:  0\n",
      "---Iteration:  1\n",
      "---Iteration:  2\n",
      "By Cross Validation - Chosen C for Logistic Regression:  0.1\n"
     ]
    }
   ],
   "source": [
    "C_list = np.linspace(0.1, 1, 5)\n",
    "\n",
    "skf_model = StratifiedKFold(n_splits = 3, shuffle = True)\n",
    "poly_features_2 = PolynomialFeatures(degree = 2)\n",
    "\n",
    "max_iterations = 3\n",
    "for t in range(0, max_iterations):\n",
    "    print(\"---Iteration: \", t)\n",
    "    AVG_ACC = np.zeros(shape = [len(C_list)])\n",
    "    STD_ACC = np.zeros(shape = [len(C_list)])\n",
    "    \n",
    "    x_count = 0\n",
    "    for c_value in C_list:\n",
    "            \n",
    "        temp_accuracy_list = []\n",
    "        for train_subset_index, cv_index in skf_model.split(X_train, Y_train):\n",
    "            df_train_features_subset = X_train.loc[train_subset_index]\n",
    "            df_train_class_subset = Y_train.loc[train_subset_index]\n",
    "            df_train_features_cv = X_train.loc[cv_index]\n",
    "            df_train_class_cv = Y_train.loc[cv_index]\n",
    "                \n",
    "            #poly features transform\n",
    "            df_train_features_subset_poly = poly_features_2.fit_transform(df_train_features_subset)\n",
    "            df_train_features_cv_poly = poly_features_2.transform(df_train_features_cv)\n",
    "                \n",
    "            lr_model = LogisticRegression(C = c_value)\n",
    "            lr_model.fit(df_train_features_subset_poly, df_train_class_subset)\n",
    "            score_value = lr_model.score(df_train_features_cv_poly, df_train_class_cv)\n",
    "            temp_accuracy_list.append(score_value)\n",
    "            \n",
    "        AVG_ACC[x_count] = np.mean(temp_accuracy_list)\n",
    "        STD_ACC[x_count] = np.std(temp_accuracy_list)\n",
    "            \n",
    "        x_count += 1\n",
    "    \n",
    "    if t == 0:\n",
    "        final_AVG_ACC = AVG_ACC\n",
    "        final_STD_ACC = STD_ACC\n",
    "    else:\n",
    "        final_AVG_ACC = np.dstack([final_AVG_ACC, AVG_ACC])\n",
    "        final_STD_ACC = np.dstack([final_STD_ACC, STD_ACC])\n",
    "             \n",
    "final_accuracy_mean_list = np.mean(final_AVG_ACC, axis = 2)\n",
    "max_ind = np.unravel_index(np.argmax(final_accuracy_mean_list, axis = None), final_accuracy_mean_list.shape)\n",
    "\n",
    "chosen_C = C_list[max_ind[0]]\n",
    "print(\"By Cross Validation - Chosen C for Logistic Regression: \", chosen_C)"
   ]
  },
  {
   "cell_type": "code",
   "execution_count": 149,
   "metadata": {},
   "outputs": [
    {
     "name": "stdout",
     "output_type": "stream",
     "text": [
      "\n",
      "Confusion Matrix:\n",
      "  [[26606  2632]\n",
      " [ 5420 23818]]\n",
      "\n",
      "Training Accuracy Score:  0.8623024830699775\n",
      "\n",
      "Training Precision:  0.9004914933837429\n",
      "\n",
      "Training Recall:  0.8146248033381216\n",
      "\n",
      "Train Classification Report: \n",
      "               precision    recall  f1-score   support\n",
      "\n",
      "           0       0.83      0.91      0.87     29238\n",
      "           1       0.90      0.81      0.86     29238\n",
      "\n",
      "    accuracy                           0.86     58476\n",
      "   macro avg       0.87      0.86      0.86     58476\n",
      "weighted avg       0.87      0.86      0.86     58476\n",
      "\n",
      "\n",
      "Training F1score:  0.8554087056457405\n",
      "\n",
      "Training Weigted F1score:  0.8619887612846094\n",
      "\\AUC for ROC:  0.9299947003993787\n"
     ]
    },
    {
     "data": {
      "image/png": "[encoded data removed]",
      "text/plain": [
       "<Figure size 432x288 with 1 Axes>"
      ]
     },
     "metadata": {
      "needs_background": "light"
     },
     "output_type": "display_data"
    }
   ],
   "source": [
    "lr2_model = LogisticRegression(C = chosen_C)\n",
    "lr2_model = Pipeline([('features', poly_features_2), ('clf', lr2_model)])\n",
    "\n",
    "kfold_classification(lr2_model, X_train, Y_train)"
   ]
  },
  {
   "cell_type": "code",
   "execution_count": 150,
   "metadata": {},
   "outputs": [],
   "source": [
    "lr2_perf = []\n",
    "lr2_perf.append('Logistic Regression (poly features degree 2)')\n",
    "lr2_perf.append(0.8623)\n",
    "lr2_perf.append(0.9005)\n",
    "lr2_perf.append(0.8146)\n",
    "lr2_perf.append(0.8554)\n",
    "lr2_perf.append(0.8620)\n",
    "lr2_perf.append(0.9300)"
   ]
  },
  {
   "cell_type": "code",
   "execution_count": 151,
   "metadata": {},
   "outputs": [],
   "source": [
    "performance_df = performance_df.append(pd.Series(lr2_perf, index = performance_df.columns), ignore_index = True)"
   ]
  },
  {
   "cell_type": "markdown",
   "metadata": {},
   "source": [
    "### 5.5 Logistic Regression with Polynomial Features of degree 3"
   ]
  },
  {
   "cell_type": "code",
   "execution_count": 152,
   "metadata": {},
   "outputs": [],
   "source": [
    "#loading X_train and Y_train OHE\n",
    "X_train = pd.read_csv('data/X_train_ohe.csv')\n",
    "Y_train = pd.read_csv('data/Y_train_ohe.csv')"
   ]
  },
  {
   "cell_type": "code",
   "execution_count": 153,
   "metadata": {},
   "outputs": [
    {
     "name": "stdout",
     "output_type": "stream",
     "text": [
      "---Iteration:  0\n",
      "---Iteration:  1\n",
      "---Iteration:  2\n",
      "By Cross Validation - Chosen C for Logistic Regression:  0.1\n"
     ]
    }
   ],
   "source": [
    "C_list = np.linspace(0.1, 1, 5)\n",
    "\n",
    "skf_model = StratifiedKFold(n_splits = 3, shuffle = True)\n",
    "poly_features_3 = PolynomialFeatures(degree = 3)\n",
    "\n",
    "max_iterations = 3\n",
    "for t in range(0, max_iterations):\n",
    "    print(\"---Iteration: \", t)\n",
    "    AVG_ACC = np.zeros(shape = [len(C_list)])\n",
    "    STD_ACC = np.zeros(shape = [len(C_list)])\n",
    "    \n",
    "    x_count = 0\n",
    "    for c_value in C_list:\n",
    "            \n",
    "        temp_accuracy_list = []\n",
    "        for train_subset_index, cv_index in skf_model.split(X_train, Y_train):\n",
    "            df_train_features_subset = X_train.loc[train_subset_index]\n",
    "            df_train_class_subset = Y_train.loc[train_subset_index]\n",
    "            df_train_features_cv = X_train.loc[cv_index]\n",
    "            df_train_class_cv = Y_train.loc[cv_index]\n",
    "                \n",
    "            #poly features transform\n",
    "            df_train_features_subset_poly = poly_features_3.fit_transform(df_train_features_subset)\n",
    "            df_train_features_cv_poly = poly_features_3.transform(df_train_features_cv)\n",
    "                \n",
    "            lr_model = LogisticRegression(C = c_value)\n",
    "            lr_model.fit(df_train_features_subset_poly, df_train_class_subset)\n",
    "            score_value = lr_model.score(df_train_features_cv_poly, df_train_class_cv)\n",
    "            temp_accuracy_list.append(score_value)\n",
    "            \n",
    "        AVG_ACC[x_count] = np.mean(temp_accuracy_list)\n",
    "        STD_ACC[x_count] = np.std(temp_accuracy_list)\n",
    "            \n",
    "        x_count += 1\n",
    "    \n",
    "    if t == 0:\n",
    "        final_AVG_ACC = AVG_ACC\n",
    "        final_STD_ACC = STD_ACC\n",
    "    else:\n",
    "        final_AVG_ACC = np.dstack([final_AVG_ACC, AVG_ACC])\n",
    "        final_STD_ACC = np.dstack([final_STD_ACC, STD_ACC])\n",
    "             \n",
    "final_accuracy_mean_list = np.mean(final_AVG_ACC, axis = 2)\n",
    "max_ind = np.unravel_index(np.argmax(final_accuracy_mean_list, axis = None), final_accuracy_mean_list.shape)\n",
    "\n",
    "chosen_C = C_list[max_ind[0]]\n",
    "print(\"By Cross Validation - Chosen C for Logistic Regression: \", chosen_C)"
   ]
  },
  {
   "cell_type": "code",
   "execution_count": 154,
   "metadata": {},
   "outputs": [
    {
     "name": "stdout",
     "output_type": "stream",
     "text": [
      "\n",
      "Confusion Matrix:\n",
      "  [[27306  1932]\n",
      " [ 3818 25420]]\n",
      "\n",
      "Training Accuracy Score:  0.901669060811273\n",
      "\n",
      "Training Precision:  0.929365311494589\n",
      "\n",
      "Training Recall:  0.8694165127573705\n",
      "\n",
      "Train Classification Report: \n",
      "               precision    recall  f1-score   support\n",
      "\n",
      "           0       0.88      0.93      0.90     29238\n",
      "           1       0.93      0.87      0.90     29238\n",
      "\n",
      "    accuracy                           0.90     58476\n",
      "   macro avg       0.90      0.90      0.90     58476\n",
      "weighted avg       0.90      0.90      0.90     58476\n",
      "\n",
      "\n",
      "Training F1score:  0.8983919420392296\n",
      "\n",
      "Training Weigted F1score:  0.9015666678156123\n",
      "\\AUC for ROC:  0.9590260339555413\n"
     ]
    },
    {
     "data": {
      "image/png": "[encoded data removed]",
      "text/plain": [
       "<Figure size 432x288 with 1 Axes>"
      ]
     },
     "metadata": {
      "needs_background": "light"
     },
     "output_type": "display_data"
    }
   ],
   "source": [
    "lr3_model = LogisticRegression(C = chosen_C)\n",
    "lr3_model = Pipeline([('features', poly_features_3), ('clf', lr3_model)])\n",
    "\n",
    "kfold_classification(lr3_model, X_train, Y_train)"
   ]
  },
  {
   "cell_type": "code",
   "execution_count": 155,
   "metadata": {},
   "outputs": [],
   "source": [
    "lr3_perf = []\n",
    "lr3_perf.append('Logistic Regression (poly features degree 3)')\n",
    "lr3_perf.append(0.9017)\n",
    "lr3_perf.append(0.9294)\n",
    "lr3_perf.append(0.8694)\n",
    "lr3_perf.append(0.8984)\n",
    "lr3_perf.append(0.9016)\n",
    "lr3_perf.append(0.9590)"
   ]
  },
  {
   "cell_type": "code",
   "execution_count": 156,
   "metadata": {},
   "outputs": [],
   "source": [
    "performance_df = performance_df.append(pd.Series(lr3_perf, index = performance_df.columns), ignore_index = True)"
   ]
  },
  {
   "cell_type": "markdown",
   "metadata": {},
   "source": [
    "### 5.6 XGBoostClassifier"
   ]
  },
  {
   "cell_type": "code",
   "execution_count": 157,
   "metadata": {},
   "outputs": [],
   "source": [
    "#loading X_train and Y_train OHE\n",
    "X_train = pd.read_csv('data/X_train_ohe.csv')\n",
    "Y_train = pd.read_csv('data/Y_train_ohe.csv')"
   ]
  },
  {
   "cell_type": "code",
   "execution_count": 159,
   "metadata": {},
   "outputs": [],
   "source": [
    "import xgboost as xgb"
   ]
  },
  {
   "cell_type": "code",
   "execution_count": 161,
   "metadata": {},
   "outputs": [
    {
     "data": {
      "text/plain": [
       "{'max_depth': 9}"
      ]
     },
     "execution_count": 161,
     "metadata": {},
     "output_type": "execute_result"
    }
   ],
   "source": [
    "param_grid = {\n",
    "    'max_depth': [3, 5, 7, 9], \n",
    "}\n",
    "\n",
    "xgboost = xgb.XGBClassifier(seed = 42)\n",
    "gridsearch = GridSearchCV(xgboost, param_grid, cv = 3, n_jobs=-1)\n",
    "gridsearch.fit(X_train, Y_train).best_params_"
   ]
  },
  {
   "cell_type": "code",
   "execution_count": 162,
   "metadata": {},
   "outputs": [
    {
     "data": {
      "text/plain": [
       "{'max_depth': 9, 'min_child_weight': 1}"
      ]
     },
     "execution_count": 162,
     "metadata": {},
     "output_type": "execute_result"
    }
   ],
   "source": [
    "param_grid = {\n",
    "    'max_depth': [9], \n",
    "    'min_child_weight': [1, 3, 5, 7], \n",
    "}\n",
    "\n",
    "xgboost = xgb.XGBClassifier(seed = 42)\n",
    "gridsearch = GridSearchCV(xgboost, param_grid, cv = 3, n_jobs=-1)\n",
    "gridsearch.fit(X_train, Y_train).best_params_"
   ]
  },
  {
   "cell_type": "code",
   "execution_count": 163,
   "metadata": {},
   "outputs": [
    {
     "data": {
      "text/plain": [
       "{'gamma': 0.3, 'max_depth': 9, 'min_child_weight': 1}"
      ]
     },
     "execution_count": 163,
     "metadata": {},
     "output_type": "execute_result"
    }
   ],
   "source": [
    "param_grid = {\n",
    "    'max_depth': [9], \n",
    "    'min_child_weight': [1], \n",
    "    'gamma': [i/10.0 for i in range(0,5)]\n",
    "}\n",
    "\n",
    "xgboost = xgb.XGBClassifier(seed = 42)\n",
    "gridsearch = GridSearchCV(xgboost, param_grid, cv = 3, n_jobs=-1)\n",
    "gridsearch.fit(X_train, Y_train).best_params_"
   ]
  },
  {
   "cell_type": "code",
   "execution_count": 164,
   "metadata": {},
   "outputs": [
    {
     "data": {
      "text/plain": [
       "{'gamma': 0.3, 'max_depth': 9, 'min_child_weight': 1, 'subsample': 0.8}"
      ]
     },
     "execution_count": 164,
     "metadata": {},
     "output_type": "execute_result"
    }
   ],
   "source": [
    "param_grid = {\n",
    "    'max_depth': [9], \n",
    "    'min_child_weight': [1], \n",
    "    'gamma': [0.3],\n",
    "    'subsample': [i/10.0 for i in range(6,10)],\n",
    "}\n",
    "\n",
    "xgboost = xgb.XGBClassifier(seed = 42)\n",
    "gridsearch = GridSearchCV(xgboost, param_grid, cv = 3, n_jobs=-1)\n",
    "gridsearch.fit(X_train, Y_train).best_params_"
   ]
  },
  {
   "cell_type": "code",
   "execution_count": 165,
   "metadata": {},
   "outputs": [
    {
     "data": {
      "text/plain": [
       "{'colsample_bytree': 0.9,\n",
       " 'gamma': 0.3,\n",
       " 'max_depth': 9,\n",
       " 'min_child_weight': 1,\n",
       " 'subsample': 0.8}"
      ]
     },
     "execution_count": 165,
     "metadata": {},
     "output_type": "execute_result"
    }
   ],
   "source": [
    "param_grid = {\n",
    "    'max_depth': [9], \n",
    "    'min_child_weight': [1], \n",
    "    'gamma': [0.3],\n",
    "    'subsample': [0.8],\n",
    "    'colsample_bytree': [i/10.0 for i in range(6,10)]\n",
    "}\n",
    "\n",
    "xgboost = xgb.XGBClassifier(seed = 42)\n",
    "gridsearch = GridSearchCV(xgboost, param_grid, cv = 3, n_jobs=-1)\n",
    "gridsearch.fit(X_train, Y_train).best_params_"
   ]
  },
  {
   "cell_type": "code",
   "execution_count": 166,
   "metadata": {},
   "outputs": [
    {
     "data": {
      "text/plain": [
       "{'colsample_bytree': 0.9,\n",
       " 'gamma': 0.3,\n",
       " 'max_depth': 9,\n",
       " 'min_child_weight': 1,\n",
       " 'n_estimators': 100,\n",
       " 'subsample': 0.8}"
      ]
     },
     "execution_count": 166,
     "metadata": {},
     "output_type": "execute_result"
    }
   ],
   "source": [
    "param_grid = {\n",
    "    'max_depth': [9], \n",
    "    'n_estimators': [50, 80, 100, 200], \n",
    "    'min_child_weight': [1], \n",
    "    'gamma': [0.3],\n",
    "    'subsample': [0.8],\n",
    "    'colsample_bytree': [0.9]\n",
    "}\n",
    "\n",
    "xgboost = xgb.XGBClassifier(seed = 42)\n",
    "gridsearch = GridSearchCV(xgboost, param_grid, cv = 3, n_jobs=-1)\n",
    "gridsearch.fit(X_train, Y_train).best_params_"
   ]
  },
  {
   "cell_type": "code",
   "execution_count": 167,
   "metadata": {},
   "outputs": [
    {
     "name": "stdout",
     "output_type": "stream",
     "text": [
      "\n",
      "Confusion Matrix:\n",
      "  [[28218  1020]\n",
      " [ 2567 26671]]\n",
      "\n",
      "Training Accuracy Score:  0.9386585949791367\n",
      "\n",
      "Training Precision:  0.9631649272326749\n",
      "\n",
      "Training Recall:  0.9122032970791436\n",
      "\n",
      "Train Classification Report: \n",
      "               precision    recall  f1-score   support\n",
      "\n",
      "           0       0.92      0.97      0.94     29238\n",
      "           1       0.96      0.91      0.94     29238\n",
      "\n",
      "    accuracy                           0.94     58476\n",
      "   macro avg       0.94      0.94      0.94     58476\n",
      "weighted avg       0.94      0.94      0.94     58476\n",
      "\n",
      "\n",
      "Training F1score:  0.9369916914050836\n",
      "\n",
      "Training Weigted F1score:  0.9386156331173662\n",
      "\\AUC for ROC:  0.9759972930745892\n"
     ]
    },
    {
     "data": {
      "image/png": "[encoded data removed]",
      "text/plain": [
       "<Figure size 432x288 with 1 Axes>"
      ]
     },
     "metadata": {
      "needs_background": "light"
     },
     "output_type": "display_data"
    }
   ],
   "source": [
    "xgboost_model = xgb.XGBClassifier(n_estimators = 100, max_depth = 9, subsample = 0.8, min_child_weight = 1, gamma = 0.3, colsample_bytree = 0.9)\n",
    "\n",
    "kfold_classification(xgboost_model, X_train, Y_train)"
   ]
  },
  {
   "cell_type": "code",
   "execution_count": 168,
   "metadata": {},
   "outputs": [],
   "source": [
    "xgb_perf = []\n",
    "xgb_perf.append('XGBoost')\n",
    "xgb_perf.append(0.9387)\n",
    "xgb_perf.append(0.9632)\n",
    "xgb_perf.append(0.9122)\n",
    "xgb_perf.append(0.9370)\n",
    "xgb_perf.append(0.9386)\n",
    "xgb_perf.append(0.9760)"
   ]
  },
  {
   "cell_type": "code",
   "execution_count": 169,
   "metadata": {},
   "outputs": [],
   "source": [
    "performance_df = performance_df.append(pd.Series(xgb_perf, index = performance_df.columns), ignore_index = True)"
   ]
  },
  {
   "cell_type": "markdown",
   "metadata": {},
   "source": [
    "### 5.7 Gradient Boosting Classifier"
   ]
  },
  {
   "cell_type": "code",
   "execution_count": 170,
   "metadata": {},
   "outputs": [],
   "source": [
    "#loading X_train and Y_train OHE\n",
    "X_train = pd.read_csv('data/X_train_ohe.csv')\n",
    "Y_train = pd.read_csv('data/Y_train_ohe.csv')"
   ]
  },
  {
   "cell_type": "code",
   "execution_count": 172,
   "metadata": {},
   "outputs": [
    {
     "data": {
      "text/plain": [
       "{'max_depth': 8, 'n_estimators': 150, 'subsample': 0.9}"
      ]
     },
     "execution_count": 172,
     "metadata": {},
     "output_type": "execute_result"
    }
   ],
   "source": [
    "#hyperparameter tuning with gridsearch CV for gradient boosting\n",
    "param_grid = {\n",
    "    'n_estimators': [100, 150, 200],\n",
    "    'max_depth': [3, 5, 8],\n",
    "    'subsample': [0.5, 0.7, 0.9, 1.0]\n",
    "}\n",
    "\n",
    "gboost = GradientBoostingClassifier()\n",
    "grid = GridSearchCV(gboost, param_grid, cv = 3, n_jobs=-1)\n",
    "grid.fit(X_train, Y_train).best_params_"
   ]
  },
  {
   "cell_type": "code",
   "execution_count": 173,
   "metadata": {},
   "outputs": [
    {
     "name": "stdout",
     "output_type": "stream",
     "text": [
      "\n",
      "Confusion Matrix:\n",
      "  [[28203  1035]\n",
      " [ 2473 26765]]\n",
      "\n",
      "Training Accuracy Score:  0.9400095765784253\n",
      "\n",
      "Training Precision:  0.9627697841726619\n",
      "\n",
      "Training Recall:  0.9154182912647923\n",
      "\n",
      "Train Classification Report: \n",
      "               precision    recall  f1-score   support\n",
      "\n",
      "           0       0.92      0.96      0.94     29238\n",
      "           1       0.96      0.92      0.94     29238\n",
      "\n",
      "    accuracy                           0.94     58476\n",
      "   macro avg       0.94      0.94      0.94     58476\n",
      "weighted avg       0.94      0.94      0.94     58476\n",
      "\n",
      "\n",
      "Training F1score:  0.9384971422560398\n",
      "\n",
      "Training Weigted F1score:  0.9399732765391091\n",
      "\\AUC for ROC:  0.9748479186041461\n"
     ]
    },
    {
     "data": {
      "image/png": "[encoded data removed]",
      "text/plain": [
       "<Figure size 432x288 with 1 Axes>"
      ]
     },
     "metadata": {
      "needs_background": "light"
     },
     "output_type": "display_data"
    }
   ],
   "source": [
    "gboost_model = GradientBoostingClassifier(n_estimators = 150, max_depth = 8, subsample = 0.9)\n",
    "\n",
    "kfold_classification(gboost_model, X_train, Y_train)"
   ]
  },
  {
   "cell_type": "code",
   "execution_count": 174,
   "metadata": {},
   "outputs": [],
   "source": [
    "gb_perf = []\n",
    "gb_perf.append('Gradient Boosting')\n",
    "gb_perf.append(0.9400)\n",
    "gb_perf.append(0.9628)\n",
    "gb_perf.append(0.9154)\n",
    "gb_perf.append(0.9385)\n",
    "gb_perf.append(0.9400)\n",
    "gb_perf.append(0.9748)"
   ]
  },
  {
   "cell_type": "code",
   "execution_count": 175,
   "metadata": {},
   "outputs": [],
   "source": [
    "performance_df = performance_df.append(pd.Series(gb_perf, index = performance_df.columns), ignore_index = True)"
   ]
  },
  {
   "cell_type": "markdown",
   "metadata": {},
   "source": [
    "### 5.8 AdaBoost"
   ]
  },
  {
   "cell_type": "code",
   "execution_count": 176,
   "metadata": {},
   "outputs": [],
   "source": [
    "#loading X_train and Y_train OHE\n",
    "X_train = pd.read_csv('data/X_train_ohe.csv')\n",
    "Y_train = pd.read_csv('data/Y_train_ohe.csv')"
   ]
  },
  {
   "cell_type": "code",
   "execution_count": 179,
   "metadata": {},
   "outputs": [
    {
     "data": {
      "text/plain": [
       "{'learning_rate': 0.1, 'n_estimators': 2000}"
      ]
     },
     "execution_count": 179,
     "metadata": {},
     "output_type": "execute_result"
    }
   ],
   "source": [
    "param_grid = {\n",
    "    'n_estimators':[500,1000,2000],\n",
    "    'learning_rate':[.001,0.01,.1]\n",
    "}\n",
    "\n",
    "ada = AdaBoostClassifier()\n",
    "search = GridSearchCV(estimator = ada, param_grid = param_grid, cv = 3, n_jobs=-1)\n",
    "\n",
    "search.fit(X_train, Y_train).best_params_"
   ]
  },
  {
   "cell_type": "code",
   "execution_count": 180,
   "metadata": {},
   "outputs": [
    {
     "name": "stdout",
     "output_type": "stream",
     "text": [
      "\n",
      "Confusion Matrix:\n",
      "  [[27035  2203]\n",
      " [ 4545 24693]]\n",
      "\n",
      "Training Accuracy Score:  0.8846022299746905\n",
      "\n",
      "Training Precision:  0.9180919095776323\n",
      "\n",
      "Training Recall:  0.8445516109172994\n",
      "\n",
      "Train Classification Report: \n",
      "               precision    recall  f1-score   support\n",
      "\n",
      "           0       0.86      0.92      0.89     29238\n",
      "           1       0.92      0.84      0.88     29238\n",
      "\n",
      "    accuracy                           0.88     58476\n",
      "   macro avg       0.89      0.88      0.88     58476\n",
      "weighted avg       0.89      0.88      0.88     58476\n",
      "\n",
      "\n",
      "Training F1score:  0.8797876509780168\n",
      "\n",
      "Training Weigted F1score:  0.8844168285473135\n",
      "\\AUC for ROC:  0.9515312357741433\n"
     ]
    },
    {
     "data": {
      "image/png": "[encoded data removed]",
      "text/plain": [
       "<Figure size 432x288 with 1 Axes>"
      ]
     },
     "metadata": {
      "needs_background": "light"
     },
     "output_type": "display_data"
    }
   ],
   "source": [
    "ada_model = AdaBoostClassifier(n_estimators = 2000, learning_rate = 0.1)\n",
    "\n",
    "kfold_classification(ada_model, X_train, Y_train)"
   ]
  },
  {
   "cell_type": "code",
   "execution_count": 181,
   "metadata": {},
   "outputs": [],
   "source": [
    "ada_perf = []\n",
    "ada_perf.append('Ada Boost')\n",
    "ada_perf.append(0.8846)\n",
    "ada_perf.append(0.9181)\n",
    "ada_perf.append(0.8446)\n",
    "ada_perf.append(0.8798)\n",
    "ada_perf.append(0.8844)\n",
    "ada_perf.append(0.9515)"
   ]
  },
  {
   "cell_type": "code",
   "execution_count": 182,
   "metadata": {},
   "outputs": [],
   "source": [
    "performance_df = performance_df.append(pd.Series(ada_perf, index = performance_df.columns), ignore_index = True)"
   ]
  },
  {
   "cell_type": "markdown",
   "metadata": {},
   "source": [
    "## 6. Model Performance Comparison resulting from K-Fold Cross Validation on the Training Set"
   ]
  },
  {
   "cell_type": "code",
   "execution_count": 187,
   "metadata": {},
   "outputs": [
    {
     "data": {
      "text/html": [
       "<div>\n",
       "<style scoped>\n",
       "    .dataframe tbody tr th:only-of-type {\n",
       "        vertical-align: middle;\n",
       "    }\n",
       "\n",
       "    .dataframe tbody tr th {\n",
       "        vertical-align: top;\n",
       "    }\n",
       "\n",
       "    .dataframe thead th {\n",
       "        text-align: right;\n",
       "    }\n",
       "</style>\n",
       "<table border=\"1\" class=\"dataframe\">\n",
       "  <thead>\n",
       "    <tr style=\"text-align: right;\">\n",
       "      <th></th>\n",
       "      <th>Classifier</th>\n",
       "      <th>Accuracy</th>\n",
       "      <th>Precision</th>\n",
       "      <th>Recall</th>\n",
       "      <th>F1 Score</th>\n",
       "      <th>Weighted F1 Score</th>\n",
       "      <th>AUC</th>\n",
       "    </tr>\n",
       "  </thead>\n",
       "  <tbody>\n",
       "    <tr>\n",
       "      <td>0</td>\n",
       "      <td>SVM</td>\n",
       "      <td>0.8839</td>\n",
       "      <td>0.9288</td>\n",
       "      <td>0.8316</td>\n",
       "      <td>0.8775</td>\n",
       "      <td>0.8836</td>\n",
       "      <td>0.9557</td>\n",
       "    </tr>\n",
       "    <tr>\n",
       "      <td>1</td>\n",
       "      <td>Random Forest</td>\n",
       "      <td>0.9353</td>\n",
       "      <td>0.9526</td>\n",
       "      <td>0.9162</td>\n",
       "      <td>0.9340</td>\n",
       "      <td>0.9353</td>\n",
       "      <td>0.9763</td>\n",
       "    </tr>\n",
       "    <tr>\n",
       "      <td>2</td>\n",
       "      <td>Logistic Regression</td>\n",
       "      <td>0.7371</td>\n",
       "      <td>0.7938</td>\n",
       "      <td>0.6405</td>\n",
       "      <td>0.7089</td>\n",
       "      <td>0.7346</td>\n",
       "      <td>0.7978</td>\n",
       "    </tr>\n",
       "    <tr>\n",
       "      <td>3</td>\n",
       "      <td>Logistic Regression (poly features degree 2)</td>\n",
       "      <td>0.8623</td>\n",
       "      <td>0.9005</td>\n",
       "      <td>0.8146</td>\n",
       "      <td>0.8554</td>\n",
       "      <td>0.8620</td>\n",
       "      <td>0.9300</td>\n",
       "    </tr>\n",
       "    <tr>\n",
       "      <td>4</td>\n",
       "      <td>Logistic Regression (poly features degree 3)</td>\n",
       "      <td>0.9017</td>\n",
       "      <td>0.9294</td>\n",
       "      <td>0.8694</td>\n",
       "      <td>0.8984</td>\n",
       "      <td>0.9016</td>\n",
       "      <td>0.9590</td>\n",
       "    </tr>\n",
       "    <tr>\n",
       "      <td>5</td>\n",
       "      <td>XGBoost</td>\n",
       "      <td>0.9387</td>\n",
       "      <td>0.9632</td>\n",
       "      <td>0.9122</td>\n",
       "      <td>0.9370</td>\n",
       "      <td>0.9386</td>\n",
       "      <td>0.9760</td>\n",
       "    </tr>\n",
       "    <tr>\n",
       "      <td>6</td>\n",
       "      <td>Gradient Boosting</td>\n",
       "      <td>0.9400</td>\n",
       "      <td>0.9628</td>\n",
       "      <td>0.9154</td>\n",
       "      <td>0.9385</td>\n",
       "      <td>0.9400</td>\n",
       "      <td>0.9748</td>\n",
       "    </tr>\n",
       "    <tr>\n",
       "      <td>7</td>\n",
       "      <td>Ada Boost</td>\n",
       "      <td>0.8846</td>\n",
       "      <td>0.9181</td>\n",
       "      <td>0.8446</td>\n",
       "      <td>0.8798</td>\n",
       "      <td>0.8844</td>\n",
       "      <td>0.9515</td>\n",
       "    </tr>\n",
       "  </tbody>\n",
       "</table>\n",
       "</div>"
      ],
      "text/plain": [
       "                                     Classifier  Accuracy  Precision  Recall  \\\n",
       "0                                           SVM    0.8839     0.9288  0.8316   \n",
       "1                                 Random Forest    0.9353     0.9526  0.9162   \n",
       "2                           Logistic Regression    0.7371     0.7938  0.6405   \n",
       "3  Logistic Regression (poly features degree 2)    0.8623     0.9005  0.8146   \n",
       "4  Logistic Regression (poly features degree 3)    0.9017     0.9294  0.8694   \n",
       "5                                       XGBoost    0.9387     0.9632  0.9122   \n",
       "6                             Gradient Boosting    0.9400     0.9628  0.9154   \n",
       "7                                     Ada Boost    0.8846     0.9181  0.8446   \n",
       "\n",
       "   F1 Score  Weighted F1 Score     AUC  \n",
       "0    0.8775             0.8836  0.9557  \n",
       "1    0.9340             0.9353  0.9763  \n",
       "2    0.7089             0.7346  0.7978  \n",
       "3    0.8554             0.8620  0.9300  \n",
       "4    0.8984             0.9016  0.9590  \n",
       "5    0.9370             0.9386  0.9760  \n",
       "6    0.9385             0.9400  0.9748  \n",
       "7    0.8798             0.8844  0.9515  "
      ]
     },
     "execution_count": 187,
     "metadata": {},
     "output_type": "execute_result"
    }
   ],
   "source": [
    "performance_df"
   ]
  },
  {
   "cell_type": "code",
   "execution_count": 194,
   "metadata": {},
   "outputs": [
    {
     "name": "stdout",
     "output_type": "stream",
     "text": [
      "Index of classifier with maximum AUC:  1\n",
      "Index of classifier with maximum Weighted F1:  6\n",
      "Index of classifier with maximum F1:  6\n",
      "Index of classifier with maximum Accuracy:  6\n",
      "Index of classifier with maximum Precision:  5\n",
      "Index of classifier with maximum Recall:  1\n"
     ]
    }
   ],
   "source": [
    "print('Index of classifier with maximum AUC: ', performance_df.AUC.idxmax())\n",
    "print('Index of classifier with maximum Weighted F1: ',performance_df['Weighted F1 Score'].idxmax())\n",
    "print('Index of classifier with maximum F1: ',performance_df['F1 Score'].idxmax())\n",
    "print('Index of classifier with maximum Accuracy: ',performance_df['Accuracy'].idxmax())\n",
    "print('Index of classifier with maximum Precision: ',performance_df['Precision'].idxmax())\n",
    "print('Index of classifier with maximum Recall: ',performance_df['Recall'].idxmax())"
   ]
  },
  {
   "cell_type": "markdown",
   "metadata": {},
   "source": [
    "From the above, depending on the metric used to determine performance, 3 different models prove to be effective: Random Forest, XGBoost and Gradient Boosting.\n",
    "\n",
    "Given that we are predicting class labels ('yes' or 'no'), and the positive class is more important as we want to know if a customer will sign up ('yes'), the metric that we will go by is F1. By the F1 score, the best performing model is Gradient Boosting. Therefore, this classifier will now be trained on all of the train data and the test set will be used to make predictions. "
   ]
  },
  {
   "cell_type": "markdown",
   "metadata": {},
   "source": [
    "## 7. Building the Final Model and Making Predictions on the Test Set"
   ]
  },
  {
   "cell_type": "code",
   "execution_count": 208,
   "metadata": {},
   "outputs": [],
   "source": [
    "#loading X_train and Y_train OHE\n",
    "X_train = pd.read_csv('data/X_train_ohe.csv')\n",
    "Y_train = pd.read_csv('data/Y_train_ohe.csv')\n",
    "\n",
    "#loading X_test and Y_test OHE\n",
    "X_test = pd.read_csv('data/X_test_ohe.csv')\n",
    "Y_test = pd.read_csv('data/Y_test_ohe.csv')"
   ]
  },
  {
   "cell_type": "code",
   "execution_count": 209,
   "metadata": {},
   "outputs": [
    {
     "data": {
      "text/plain": [
       "GradientBoostingClassifier(ccp_alpha=0.0, criterion='friedman_mse', init=None,\n",
       "                           learning_rate=0.1, loss='deviance', max_depth=8,\n",
       "                           max_features=None, max_leaf_nodes=None,\n",
       "                           min_impurity_decrease=0.0, min_impurity_split=None,\n",
       "                           min_samples_leaf=1, min_samples_split=2,\n",
       "                           min_weight_fraction_leaf=0.0, n_estimators=150,\n",
       "                           n_iter_no_change=None, presort='deprecated',\n",
       "                           random_state=None, subsample=0.9, tol=0.0001,\n",
       "                           validation_fraction=0.1, verbose=0,\n",
       "                           warm_start=False)"
      ]
     },
     "execution_count": 209,
     "metadata": {},
     "output_type": "execute_result"
    }
   ],
   "source": [
    "final_model = GradientBoostingClassifier(n_estimators = 150, max_depth = 8, subsample = 0.9)\n",
    "final_model.fit(X_train, Y_train)"
   ]
  },
  {
   "cell_type": "code",
   "execution_count": 198,
   "metadata": {},
   "outputs": [],
   "source": [
    "import pickle\n",
    "\n",
    "#save model\n",
    "filename = 'final_model.sav'\n",
    "pickle.dump(final_model, open(filename, 'wb'))"
   ]
  },
  {
   "cell_type": "code",
   "execution_count": 210,
   "metadata": {},
   "outputs": [],
   "source": [
    "predictions = final_model.predict(X_test)"
   ]
  },
  {
   "cell_type": "code",
   "execution_count": 211,
   "metadata": {},
   "outputs": [
    {
     "name": "stdout",
     "output_type": "stream",
     "text": [
      "Confusion Matrix:\n",
      "[[7077  233]\n",
      " [ 590  338]]\n",
      "Classification Report\n",
      "              precision    recall  f1-score   support\n",
      "\n",
      "           0       0.92      0.97      0.95      7310\n",
      "           1       0.59      0.36      0.45       928\n",
      "\n",
      "    accuracy                           0.90      8238\n",
      "   macro avg       0.76      0.67      0.70      8238\n",
      "weighted avg       0.89      0.90      0.89      8238\n",
      "\n"
     ]
    }
   ],
   "source": [
    "print(\"Confusion Matrix:\")\n",
    "print(confusion_matrix(Y_test, predictions))\n",
    "\n",
    "print(\"Classification Report\")\n",
    "print(classification_report(Y_test, predictions))"
   ]
  },
  {
   "cell_type": "markdown",
   "metadata": {},
   "source": [
    "Overall accuracy on the unseen test set is high (90%), however, the model is not particularly good at predicting the positive ('yes') responses. This is to be expected given the unbalanced nature of the dataset (significantly more no responses compared to yes responses) and that the model was trained on data where the positive responses were synthetically enhanced. \n",
    "\n",
    "To try to improve the accuracy in predicting the positive responses, an attempt could be made on training the model with the unbalanced dataset, although given the small number of yes responses, the risk is that the model will predict no all the time. An alternative would be to partially enhance the data by increasing the positive responses synthetically but not to the point that they are perfecly balanced."
   ]
  },
  {
   "cell_type": "markdown",
   "metadata": {},
   "source": [
    "## 8. Important Features\n",
    "\n",
    "We can now look at the features that are important in predicting the customer response."
   ]
  },
  {
   "cell_type": "code",
   "execution_count": 217,
   "metadata": {},
   "outputs": [],
   "source": [
    "def plot_feature_importances(model):\n",
    "    '''\n",
    "    Visualization for feature importance\n",
    "    '''\n",
    "    n_features = X_train.shape[1]\n",
    "    plt.figure(figsize=(8,12))\n",
    "    plt.barh(range(n_features), model.feature_importances_, align='center') \n",
    "    plt.yticks(np.arange(n_features), X_train.columns.values) \n",
    "    plt.xlabel(\"Feature importance\")\n",
    "    plt.ylabel(\"Feature\")"
   ]
  },
  {
   "cell_type": "code",
   "execution_count": 218,
   "metadata": {},
   "outputs": [
    {
     "data": {
      "image/png": "[encoded data removed]",
      "text/plain": [
       "<Figure size 576x864 with 1 Axes>"
      ]
     },
     "metadata": {
      "needs_background": "light"
     },
     "output_type": "display_data"
    }
   ],
   "source": [
    "plot_feature_importances(final_model)"
   ]
  },
  {
   "cell_type": "markdown",
   "metadata": {},
   "source": [
    "From the above plot, it is clear that the following customer features are especially important in predicting a customer response to the bank telemartketing campaign:\n",
    "+ campaign\n",
    "+ nr. employed\n",
    "+ euribor3m\n",
    "\n",
    "Therefore, the number of contacts performed during this campaign and for this client, the number of employees, and the euribor 3 month rate are important in determining if a customer will respond yes or no to the campaign."
   ]
  },
  {
   "cell_type": "code",
   "execution_count": null,
   "metadata": {},
   "outputs": [],
   "source": []
  }
 ],
 "metadata": {
  "kernelspec": {
   "display_name": "Python 3",
   "language": "python",
   "name": "python3"
  },
  "language_info": {
   "codemirror_mode": {
    "name": "ipython",
    "version": 3
   },
   "file_extension": ".py",
   "mimetype": "text/x-python",
   "name": "python",
   "nbconvert_exporter": "python",
   "pygments_lexer": "ipython3",
   "version": "3.7.4"
  }
 },
 "nbformat": 4,
 "nbformat_minor": 2
}
