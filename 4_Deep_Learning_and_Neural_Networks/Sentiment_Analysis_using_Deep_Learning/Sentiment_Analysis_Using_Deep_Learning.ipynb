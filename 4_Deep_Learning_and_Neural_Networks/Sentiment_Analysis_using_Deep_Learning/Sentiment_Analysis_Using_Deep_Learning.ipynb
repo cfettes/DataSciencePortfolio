{
 "cells": [
  {
   "cell_type": "markdown",
   "metadata": {},
   "source": [
    "# Sentiment Analysis with Keras\n",
    "\n",
    "The purpose here is to predict the sentiment of a tweet/review. This is a classification task, for which Keras will be utilised and different types of neural networks built, trained and tested on the data.\n",
    "\n",
    "**Data:**\n",
    "\n",
    "The dataset used for this is the 'Combined Dataset of Tweets,Movie/Book Reviews' found on Kaggle by following the link: https://www.kaggle.com/arshjat/question2/#train.csv\n",
    "\n",
    "The data contains 2 columns: tweet and sentiment. Sentiment is either 1 for positive or 0 for negative.\n",
    "\n",
    "In the following, the data is preprocessed and tokenised. Then ConceptNet's Numberbatch word embeddings will be used to create the feature matrix.\n",
    "\n",
    "**Models:**  \n",
    "After the data has been prepared, the following models will be used:\n",
    "+ Simple Neural Network\n",
    "+ Convolutional Neural Network\n",
    "+ LSTM Recurrent Neural Network\n",
    "+ Deep Recurrent Neural Network (with Bidirectional LSTM and GRUs, convolutional layers, batch normalisation and dropout layers)"
   ]
  },
  {
   "cell_type": "code",
   "execution_count": 21,
   "metadata": {},
   "outputs": [],
   "source": [
    "import pandas as pd\n",
    "import numpy as np\n",
    "import re\n",
    "import os\n",
    "import gc\n",
    "import csv\n",
    "import nltk\n",
    "from nltk.corpus import stopwords\n",
    "\n",
    "from numpy import array\n",
    "from keras.preprocessing.text import one_hot\n",
    "from keras.preprocessing.sequence import pad_sequences\n",
    "from keras.models import Sequential\n",
    "from keras.layers import Dense, Input, LSTM, Embedding, Dropout, Activation, Conv1D, GRU, CuDNNGRU, CuDNNLSTM, BatchNormalization\n",
    "from keras.layers import Bidirectional, GlobalMaxPool1D, MaxPooling1D, Add, Flatten\n",
    "from keras.layers import GlobalAveragePooling1D, GlobalMaxPooling1D, concatenate, SpatialDropout1D\n",
    "from keras.models import Model, load_model\n",
    "from keras import initializers, regularizers, constraints, optimizers, layers, callbacks\n",
    "from keras import backend as K\n",
    "from keras.engine import InputSpec, Layer\n",
    "from keras.optimizers import Adam\n",
    "from keras.callbacks import ModelCheckpoint, TensorBoard, Callback, EarlyStopping\n",
    "from keras.layers.embeddings import Embedding\n",
    "from sklearn.model_selection import train_test_split\n",
    "from keras.preprocessing.text import Tokenizer"
   ]
  },
  {
   "cell_type": "code",
   "execution_count": 2,
   "metadata": {},
   "outputs": [
    {
     "data": {
      "text/plain": [
       "(1282902, 2)"
      ]
     },
     "execution_count": 2,
     "metadata": {},
     "output_type": "execute_result"
    }
   ],
   "source": [
    "data = pd.read_csv('data/train.csv',sep=';')\n",
    "data.shape"
   ]
  },
  {
   "cell_type": "code",
   "execution_count": 3,
   "metadata": {},
   "outputs": [
    {
     "data": {
      "text/html": [
       "<div>\n",
       "<style scoped>\n",
       "    .dataframe tbody tr th:only-of-type {\n",
       "        vertical-align: middle;\n",
       "    }\n",
       "\n",
       "    .dataframe tbody tr th {\n",
       "        vertical-align: top;\n",
       "    }\n",
       "\n",
       "    .dataframe thead th {\n",
       "        text-align: right;\n",
       "    }\n",
       "</style>\n",
       "<table border=\"1\" class=\"dataframe\">\n",
       "  <thead>\n",
       "    <tr style=\"text-align: right;\">\n",
       "      <th></th>\n",
       "      <th>tweet</th>\n",
       "      <th>sentiment</th>\n",
       "    </tr>\n",
       "  </thead>\n",
       "  <tbody>\n",
       "    <tr>\n",
       "      <th>0</th>\n",
       "      <td>@FrankieTheSats best interview with mcfly ever...</td>\n",
       "      <td>1</td>\n",
       "    </tr>\n",
       "    <tr>\n",
       "      <th>1</th>\n",
       "      <td>@shaundiviney well rnt u smart shaun. u must ...</td>\n",
       "      <td>1</td>\n",
       "    </tr>\n",
       "    <tr>\n",
       "      <th>2</th>\n",
       "      <td>i finished my packet of chocolate snakes</td>\n",
       "      <td>0</td>\n",
       "    </tr>\n",
       "    <tr>\n",
       "      <th>3</th>\n",
       "      <td>Last night was a fun adventure. The weather i...</td>\n",
       "      <td>1</td>\n",
       "    </tr>\n",
       "    <tr>\n",
       "      <th>4</th>\n",
       "      <td>MADDIE I LOVE YOUR OLD FASHIONED WAYS</td>\n",
       "      <td>1</td>\n",
       "    </tr>\n",
       "  </tbody>\n",
       "</table>\n",
       "</div>"
      ],
      "text/plain": [
       "                                               tweet  sentiment\n",
       "0  @FrankieTheSats best interview with mcfly ever...          1\n",
       "1   @shaundiviney well rnt u smart shaun. u must ...          1\n",
       "2           i finished my packet of chocolate snakes          0\n",
       "3   Last night was a fun adventure. The weather i...          1\n",
       "4              MADDIE I LOVE YOUR OLD FASHIONED WAYS          1"
      ]
     },
     "execution_count": 3,
     "metadata": {},
     "output_type": "execute_result"
    }
   ],
   "source": [
    "data.head()"
   ]
  },
  {
   "cell_type": "code",
   "execution_count": 4,
   "metadata": {},
   "outputs": [
    {
     "data": {
      "text/plain": [
       "tweet        0\n",
       "sentiment    0\n",
       "dtype: int64"
      ]
     },
     "execution_count": 4,
     "metadata": {},
     "output_type": "execute_result"
    }
   ],
   "source": [
    "data.isnull().sum()"
   ]
  },
  {
   "cell_type": "code",
   "execution_count": 5,
   "metadata": {},
   "outputs": [
    {
     "data": {
      "text/plain": [
       "' http://twitpic.com/3ky85 - Me and James hanging out. .. I love him'"
      ]
     },
     "execution_count": 5,
     "metadata": {},
     "output_type": "execute_result"
    }
   ],
   "source": [
    "data['tweet'][5]"
   ]
  },
  {
   "cell_type": "code",
   "execution_count": 6,
   "metadata": {},
   "outputs": [
    {
     "data": {
      "text/plain": [
       "<matplotlib.axes._subplots.AxesSubplot at 0x7fd399f80690>"
      ]
     },
     "execution_count": 6,
     "metadata": {},
     "output_type": "execute_result"
    },
    {
     "data": {
      "image/png": "[encoded data removed]",
      "text/plain": [
       "<Figure size 432x288 with 1 Axes>"
      ]
     },
     "metadata": {
      "needs_background": "light"
     },
     "output_type": "display_data"
    }
   ],
   "source": [
    "import seaborn as sns\n",
    "\n",
    "sns.countplot(x='sentiment', data=data)"
   ]
  },
  {
   "cell_type": "markdown",
   "metadata": {},
   "source": [
    "## Preprocessing and preparing tweets\n",
    "\n",
    "### Removing unwanted characters\n",
    "\n",
    "This includes:\n",
    "+ remove mentions ('@') and website links\n",
    "+ remove stopwords, punctuation and numbers\n",
    "+ remove single characters\n",
    "+ remove mulitple spaces"
   ]
  },
  {
   "cell_type": "code",
   "execution_count": 7,
   "metadata": {},
   "outputs": [],
   "source": [
    "stop_words = set(stopwords.words('english')) \n",
    "\n",
    "data['tweet'] = data['tweet'].apply(lambda x : ' '.join([w.lower() for w in x.split() if not w.startswith(('@','.@','\".@','\"@','http')) ]))\n",
    "data['tweet'] = data['tweet'].apply(lambda x : ' '.join([w for w in x.split() if not w in stop_words]))"
   ]
  },
  {
   "cell_type": "code",
   "execution_count": 8,
   "metadata": {},
   "outputs": [],
   "source": [
    "def preprocess_text(tweet):\n",
    "    # Remove punctuations and numbers\n",
    "    tweet = re.sub('[^a-zA-Z]', ' ', tweet)\n",
    "\n",
    "    # Single character removal\n",
    "    tweet = re.sub(r\"\\s+[a-zA-Z]\\s+\", ' ', tweet)\n",
    "\n",
    "    # Removing multiple spaces\n",
    "    tweet = re.sub(r'\\s+', ' ', tweet)\n",
    "\n",
    "    return tweet"
   ]
  },
  {
   "cell_type": "code",
   "execution_count": 9,
   "metadata": {},
   "outputs": [],
   "source": [
    "processed_tweets = []\n",
    "tweets = list(data['tweet'])\n",
    "\n",
    "for tweet in tweets:\n",
    "    processed_tweets.append(preprocess_text(tweet))"
   ]
  },
  {
   "cell_type": "code",
   "execution_count": 10,
   "metadata": {},
   "outputs": [
    {
     "data": {
      "text/plain": [
       "(1282902, 1282902, (1282902, 2))"
      ]
     },
     "execution_count": 10,
     "metadata": {},
     "output_type": "execute_result"
    }
   ],
   "source": [
    "#sanity check all entries retained\n",
    "len(processed_tweets), len(tweets), data.shape"
   ]
  },
  {
   "cell_type": "code",
   "execution_count": 11,
   "metadata": {},
   "outputs": [
    {
     "name": "stdout",
     "output_type": "stream",
     "text": [
      "best interview mcfly ever dougie adorable\n",
      "well rnt smart shaun must lots fun tho\n",
      "finished packet chocolate snakes\n",
      "last night fun adventure weather amazing today m mentally preppin work out legs sore dancing\n",
      "maddie love old fashioned ways\n"
     ]
    }
   ],
   "source": [
    "#view samples of processed tweets\n",
    "for i in range(5):\n",
    "    print(processed_tweets[i])"
   ]
  },
  {
   "cell_type": "code",
   "execution_count": 12,
   "metadata": {},
   "outputs": [
    {
     "data": {
      "text/plain": [
       "tweet               0.0\n",
       "sentiment           0.0\n",
       "processed_tweets    0.0\n",
       "dtype: float64"
      ]
     },
     "execution_count": 12,
     "metadata": {},
     "output_type": "execute_result"
    }
   ],
   "source": [
    "data['processed_tweets'] = processed_tweets\n",
    "\n",
    "#check no empty strings as result of processing\n",
    "data[data.astype(str)['processed_tweets'] =='[]'].sum()"
   ]
  },
  {
   "cell_type": "code",
   "execution_count": 13,
   "metadata": {},
   "outputs": [
    {
     "data": {
      "text/plain": [
       "tweet               0\n",
       "sentiment           0\n",
       "processed_tweets    0\n",
       "dtype: int64"
      ]
     },
     "execution_count": 13,
     "metadata": {},
     "output_type": "execute_result"
    }
   ],
   "source": [
    "data.isnull().sum()"
   ]
  },
  {
   "cell_type": "code",
   "execution_count": 14,
   "metadata": {},
   "outputs": [],
   "source": [
    "#create dependent variable y\n",
    "y = data['sentiment']"
   ]
  },
  {
   "cell_type": "markdown",
   "metadata": {},
   "source": [
    "### Train-test split"
   ]
  },
  {
   "cell_type": "code",
   "execution_count": 15,
   "metadata": {},
   "outputs": [],
   "source": [
    "X_train, X_test, y_train, y_test = train_test_split(processed_tweets, y, test_size=0.20, random_state=42)"
   ]
  },
  {
   "cell_type": "markdown",
   "metadata": {},
   "source": [
    "### Preparing the Embedding Layer\n",
    "\n",
    "This will include:\n",
    "+ Using the Tokeniser class form keras.preprocessing.text to create a word-to-index dictionary, whiere each word in the corpus is a key and a corresponding index is the value for the key. For purposes here, it is fit on the entire dataset to avoid missing words only present in the test set (in real world situations, it would probably only be fit on the train set as the test cases may not yet be available). texts_to_sequences is then called on he train and test tweets to convert the text to sequences\n",
    "+ Set max_len as 50, which is the maximum length of each list; any greater than this will be truncated, any less than this 0 will be added at the end of the list until it reaches max_len length (padded)\n",
    "+ Numberbatch embeddings will be used to create the feature matrix; this is loaded and a dictionary is created that will contain words as keys and their corresponding list values\n",
    "+ An embedding matrix is created where each row number corresponds to the index of the word in the corpus. The number of columns will equal the number of dimensions (to create the n-dimensional embeddings for each word - I think this should be the same as max_len so dot product possible), where each column will contain numberbatch word embeddings for the words in the corpus"
   ]
  },
  {
   "cell_type": "code",
   "execution_count": 16,
   "metadata": {},
   "outputs": [],
   "source": [
    "tokenizer = Tokenizer(lower = True, filters='')\n",
    "tokenizer.fit_on_texts(processed_tweets)\n",
    "\n",
    "train_tokenised = tokenizer.texts_to_sequences(X_train)\n",
    "test_tokenised = tokenizer.texts_to_sequences(X_test)"
   ]
  },
  {
   "cell_type": "code",
   "execution_count": 17,
   "metadata": {},
   "outputs": [],
   "source": [
    "#making this nb_words would mean all tokenised words as included in the matrix\n",
    "vocab_size = len(tokenizer.word_index) + 1"
   ]
  },
  {
   "cell_type": "code",
   "execution_count": 18,
   "metadata": {},
   "outputs": [],
   "source": [
    "max_len = 50\n",
    "\n",
    "#lists padded so reach max_len\n",
    "X_train = pad_sequences(train_tokenised, maxlen = max_len)\n",
    "X_test = pad_sequences(test_tokenised, maxlen = max_len)"
   ]
  },
  {
   "cell_type": "code",
   "execution_count": 19,
   "metadata": {},
   "outputs": [],
   "source": [
    "embedding_path = \"numberbatch/numberbatch-en-19.08.txt\"\n",
    "embed_size = 300\n",
    "\n",
    "def get_coefs(word,*arr): \n",
    "    return word, np.asarray(arr, dtype='float32')\n",
    "\n",
    "embedding_index = dict(get_coefs(*o.strip().split(\" \")) for o in open(embedding_path))"
   ]
  },
  {
   "cell_type": "code",
   "execution_count": 20,
   "metadata": {},
   "outputs": [],
   "source": [
    "word_index = tokenizer.word_index\n",
    "#nb_words = min(vo, len(word_index))\n",
    "embedding_matrix = np.zeros((vocab_size, embed_size))\n",
    "\n",
    "for word, i in word_index.items():\n",
    "    #if want to limit number of features in matrix (rows)\n",
    "    #if i >= max_features: \n",
    "     #   continue\n",
    "    embedding_vector = embedding_index.get(word)\n",
    "    if embedding_vector is not None: \n",
    "        embedding_matrix[i] = embedding_vector"
   ]
  },
  {
   "cell_type": "markdown",
   "metadata": {},
   "source": [
    "## Building the models\n",
    "\n",
    "### Text Classification with a Simple Neural Network\n",
    "\n",
    "This will be a sequential model with an embedding layer with an input length of 50, and output length of \n",
    "\n",
    "\n",
    "\n",
    "\n",
    "\n",
    ". Vocabulary size is vocab_size. As numberbatch embeddings are being used (not own), trainable is set to False, and in weights attriubte the embedding matrix is passes in.\n",
    "\n",
    "The embedding layer is then added to the model, and as this is directly connected to the densely connected layer, the embedding layer is flattened.\n",
    "\n",
    "Finally, a dense layer is added with sigmoid activation function.\n",
    "\n",
    "To compile, adam optimiser is used, with binary_crossentropy as the loss function and accuracy as the metric."
   ]
  },
  {
   "cell_type": "code",
   "execution_count": 31,
   "metadata": {},
   "outputs": [],
   "source": [
    "model = Sequential()\n",
    "embedding_layer = Embedding(vocab_size, embed_size, weights=[embedding_matrix], input_length = max_len , trainable=False)\n",
    "model.add(embedding_layer)\n",
    "\n",
    "model.add(Flatten())\n",
    "model.add(Dense(1, activation='sigmoid'))"
   ]
  },
  {
   "cell_type": "code",
   "execution_count": 32,
   "metadata": {},
   "outputs": [
    {
     "name": "stdout",
     "output_type": "stream",
     "text": [
      "WARNING:tensorflow:From /Users/charlottefettes/opt/anaconda3/lib/python3.7/site-packages/tensorflow/python/ops/nn_impl.py:180: add_dispatch_support.<locals>.wrapper (from tensorflow.python.ops.array_ops) is deprecated and will be removed in a future version.\n",
      "Instructions for updating:\n",
      "Use tf.where in 2.0, which has the same broadcast rule as np.where\n",
      "Model: \"sequential_1\"\n",
      "_________________________________________________________________\n",
      "Layer (type)                 Output Shape              Param #   \n",
      "=================================================================\n",
      "embedding_1 (Embedding)      (None, 50, 300)           70894500  \n",
      "_________________________________________________________________\n",
      "flatten_1 (Flatten)          (None, 15000)             0         \n",
      "_________________________________________________________________\n",
      "dense_1 (Dense)              (None, 1)                 15001     \n",
      "=================================================================\n",
      "Total params: 70,909,501\n",
      "Trainable params: 15,001\n",
      "Non-trainable params: 70,894,500\n",
      "_________________________________________________________________\n",
      "None\n"
     ]
    }
   ],
   "source": [
    "model.compile(optimizer='adam', loss='binary_crossentropy', metrics=['acc'])\n",
    "\n",
    "print(model.summary())"
   ]
  },
  {
   "cell_type": "code",
   "execution_count": 33,
   "metadata": {},
   "outputs": [
    {
     "name": "stdout",
     "output_type": "stream",
     "text": [
      "WARNING:tensorflow:From /Users/charlottefettes/opt/anaconda3/lib/python3.7/site-packages/keras/backend/tensorflow_backend.py:422: The name tf.global_variables is deprecated. Please use tf.compat.v1.global_variables instead.\n",
      "\n",
      "Train on 821056 samples, validate on 205265 samples\n",
      "Epoch 1/6\n",
      "821056/821056 [==============================] - 51s 62us/step - loss: 0.5620 - acc: 0.7165 - val_loss: 0.5427 - val_acc: 0.7263\n",
      "Epoch 2/6\n",
      "821056/821056 [==============================] - 49s 59us/step - loss: 0.5376 - acc: 0.7296 - val_loss: 0.5397 - val_acc: 0.7291\n",
      "Epoch 3/6\n",
      "821056/821056 [==============================] - 49s 59us/step - loss: 0.5344 - acc: 0.7318 - val_loss: 0.5394 - val_acc: 0.7296\n",
      "Epoch 4/6\n",
      "821056/821056 [==============================] - 49s 59us/step - loss: 0.5330 - acc: 0.7327 - val_loss: 0.5397 - val_acc: 0.7295\n",
      "Epoch 5/6\n",
      "821056/821056 [==============================] - 49s 60us/step - loss: 0.5321 - acc: 0.7334 - val_loss: 0.5402 - val_acc: 0.7294\n",
      "Epoch 6/6\n",
      "821056/821056 [==============================] - 49s 60us/step - loss: 0.5314 - acc: 0.7338 - val_loss: 0.5405 - val_acc: 0.7291\n"
     ]
    }
   ],
   "source": [
    "history = model.fit(X_train, y_train, batch_size=128, epochs=6, verbose=1, validation_split=0.2)"
   ]
  },
  {
   "cell_type": "code",
   "execution_count": 34,
   "metadata": {},
   "outputs": [
    {
     "name": "stdout",
     "output_type": "stream",
     "text": [
      "256581/256581 [==============================] - 16s 64us/step\n"
     ]
    }
   ],
   "source": [
    "score = model.evaluate(X_test, y_test, verbose=1)"
   ]
  },
  {
   "cell_type": "code",
   "execution_count": 35,
   "metadata": {},
   "outputs": [
    {
     "name": "stdout",
     "output_type": "stream",
     "text": [
      "Test Score: 0.539820950536638\n",
      "Test Accuracy: 0.7281131744384766\n"
     ]
    }
   ],
   "source": [
    "print(\"Test Score:\", score[0])\n",
    "print(\"Test Accuracy:\", score[1])"
   ]
  },
  {
   "cell_type": "code",
   "execution_count": 38,
   "metadata": {},
   "outputs": [
    {
     "data": {
      "image/png": "[encoded data removed]",
      "text/plain": [
       "<Figure size 432x288 with 1 Axes>"
      ]
     },
     "metadata": {
      "needs_background": "light"
     },
     "output_type": "display_data"
    },
    {
     "data": {
      "image/png": "[encoded data removed]",
      "text/plain": [
       "<Figure size 432x288 with 1 Axes>"
      ]
     },
     "metadata": {
      "needs_background": "light"
     },
     "output_type": "display_data"
    }
   ],
   "source": [
    "import matplotlib.pyplot as plt\n",
    "%matplotlib inline\n",
    "\n",
    "plt.plot(history.history['acc'])\n",
    "plt.plot(history.history['val_acc'])\n",
    "\n",
    "plt.title('model accuracy')\n",
    "plt.ylabel('accuracy')\n",
    "plt.xlabel('epoch')\n",
    "plt.legend(['train','test'], loc='upper left')\n",
    "plt.show()\n",
    "\n",
    "plt.plot(history.history['loss'])\n",
    "plt.plot(history.history['val_loss'])\n",
    "\n",
    "plt.title('model loss')\n",
    "plt.ylabel('loss')\n",
    "plt.xlabel('epoch')\n",
    "plt.legend(['train','test'], loc='upper left')\n",
    "plt.show()"
   ]
  },
  {
   "cell_type": "markdown",
   "metadata": {},
   "source": [
    "### Text Classification with a Convolutional Neural Network (CNN)\n",
    "\n",
    "A CNN is mainly used for 2D classification; it tries to find specific features in an image in the first layer, and in subsequent layers the initially detected features are joined to form bigger features, and in this way the whole image is detected. CNN's work well with text data, despite being 1D - CNN can extract features from text data.\n",
    "\n",
    "The following simple CNN will have one convolutional layer and one pooling layer, with the embedding layer staying the same. The 1D convolutional layer will have 128 features/kernels, with the kernel size being 5 and activation function being sigmoid. The global max pooling layer reduces feature size. Finally, a dense layer is added with signoid activation."
   ]
  },
  {
   "cell_type": "code",
   "execution_count": 39,
   "metadata": {},
   "outputs": [],
   "source": [
    "nn_model = Sequential()\n",
    "\n",
    "embedding_layer = Embedding(vocab_size, embed_size, weights=[embedding_matrix], input_length=max_len, trainable=False)\n",
    "nn_model.add(embedding_layer)\n",
    "\n",
    "nn_model.add(Conv1D(128, 5, activation='relu'))\n",
    "nn_model.add(GlobalMaxPooling1D())\n",
    "nn_model.add(Dense(1, activation='sigmoid'))\n",
    "nn_model.compile(optimizer='adam', loss='binary_crossentropy', metrics=['acc'])"
   ]
  },
  {
   "cell_type": "code",
   "execution_count": 40,
   "metadata": {},
   "outputs": [
    {
     "name": "stdout",
     "output_type": "stream",
     "text": [
      "Model: \"sequential_2\"\n",
      "_________________________________________________________________\n",
      "Layer (type)                 Output Shape              Param #   \n",
      "=================================================================\n",
      "embedding_2 (Embedding)      (None, 50, 300)           70894500  \n",
      "_________________________________________________________________\n",
      "conv1d_1 (Conv1D)            (None, 46, 128)           192128    \n",
      "_________________________________________________________________\n",
      "global_max_pooling1d_1 (Glob (None, 128)               0         \n",
      "_________________________________________________________________\n",
      "dense_2 (Dense)              (None, 1)                 129       \n",
      "=================================================================\n",
      "Total params: 71,086,757\n",
      "Trainable params: 192,257\n",
      "Non-trainable params: 70,894,500\n",
      "_________________________________________________________________\n",
      "None\n"
     ]
    }
   ],
   "source": [
    "print(nn_model.summary())"
   ]
  },
  {
   "cell_type": "code",
   "execution_count": 41,
   "metadata": {},
   "outputs": [
    {
     "name": "stdout",
     "output_type": "stream",
     "text": [
      "Train on 821056 samples, validate on 205265 samples\n",
      "Epoch 1/6\n",
      "821056/821056 [==============================] - 287s 349us/step - loss: 0.5117 - acc: 0.7454 - val_loss: 0.5021 - val_acc: 0.7521\n",
      "Epoch 2/6\n",
      "821056/821056 [==============================] - 289s 352us/step - loss: 0.4838 - acc: 0.7646 - val_loss: 0.4962 - val_acc: 0.7559\n",
      "Epoch 3/6\n",
      "821056/821056 [==============================] - 292s 356us/step - loss: 0.4655 - acc: 0.7762 - val_loss: 0.4970 - val_acc: 0.7566\n",
      "Epoch 4/6\n",
      "821056/821056 [==============================] - 292s 356us/step - loss: 0.4491 - acc: 0.7862 - val_loss: 0.5052 - val_acc: 0.7533\n",
      "Epoch 5/6\n",
      "821056/821056 [==============================] - 294s 359us/step - loss: 0.4348 - acc: 0.7949 - val_loss: 0.5173 - val_acc: 0.7481\n",
      "Epoch 6/6\n",
      "821056/821056 [==============================] - 300s 365us/step - loss: 0.4223 - acc: 0.8021 - val_loss: 0.5242 - val_acc: 0.7482\n",
      "256581/256581 [==============================] - 53s 208us/step\n"
     ]
    }
   ],
   "source": [
    "history = nn_model.fit(X_train, y_train, batch_size=128, epochs=6, verbose=1, validation_split=0.2)\n",
    "\n",
    "score = nn_model.evaluate(X_test, y_test, verbose=1)"
   ]
  },
  {
   "cell_type": "code",
   "execution_count": 42,
   "metadata": {},
   "outputs": [
    {
     "name": "stdout",
     "output_type": "stream",
     "text": [
      "Test Score: 0.5234291346923818\n",
      "Test Accuracy: 0.7487226128578186\n"
     ]
    }
   ],
   "source": [
    "print(\"Test Score:\", score[0])\n",
    "print(\"Test Accuracy:\", score[1])"
   ]
  },
  {
   "cell_type": "code",
   "execution_count": 43,
   "metadata": {},
   "outputs": [
    {
     "data": {
      "image/png": "[encoded data removed]",
      "text/plain": [
       "<Figure size 432x288 with 1 Axes>"
      ]
     },
     "metadata": {
      "needs_background": "light"
     },
     "output_type": "display_data"
    },
    {
     "data": {
      "image/png": "[encoded data removed]",
      "text/plain": [
       "<Figure size 432x288 with 1 Axes>"
      ]
     },
     "metadata": {
      "needs_background": "light"
     },
     "output_type": "display_data"
    }
   ],
   "source": [
    "import matplotlib.pyplot as plt\n",
    "\n",
    "plt.plot(history.history['acc'])\n",
    "plt.plot(history.history['val_acc'])\n",
    "\n",
    "plt.title('model accuracy')\n",
    "plt.ylabel('accuracy')\n",
    "plt.xlabel('epoch')\n",
    "plt.legend(['train','test'], loc = 'upper left')\n",
    "plt.show()\n",
    "\n",
    "plt.plot(history.history['loss'])\n",
    "plt.plot(history.history['val_loss'])\n",
    "\n",
    "plt.title('model loss')\n",
    "plt.ylabel('loss')\n",
    "plt.xlabel('epoch')\n",
    "plt.legend(['train','test'], loc = 'upper left')\n",
    "plt.show()"
   ]
  },
  {
   "cell_type": "markdown",
   "metadata": {},
   "source": [
    "### Text Classification with LSTM Recurrent Neural Network \n",
    "\n",
    "These types of networks work well with sequence data, such as sequences of words. After the embedding layer, a LSTM layer is added with 128 neurons - which can be changed - with the rest being as above."
   ]
  },
  {
   "cell_type": "code",
   "execution_count": 45,
   "metadata": {},
   "outputs": [],
   "source": [
    "lstm_model = Sequential()\n",
    "embedding_layer = Embedding(vocab_size, embed_size, weights=[embedding_matrix], input_length=max_len , trainable=False)\n",
    "lstm_model.add(embedding_layer)\n",
    "lstm_model.add(LSTM(128))\n",
    "\n",
    "lstm_model.add(Dense(1, activation='sigmoid'))\n",
    "lstm_model.compile(optimizer='adam', loss='binary_crossentropy', metrics=['acc'])"
   ]
  },
  {
   "cell_type": "code",
   "execution_count": 46,
   "metadata": {},
   "outputs": [
    {
     "name": "stdout",
     "output_type": "stream",
     "text": [
      "Model: \"sequential_4\"\n",
      "_________________________________________________________________\n",
      "Layer (type)                 Output Shape              Param #   \n",
      "=================================================================\n",
      "embedding_3 (Embedding)      (None, 50, 300)           70894500  \n",
      "_________________________________________________________________\n",
      "lstm_1 (LSTM)                (None, 128)               219648    \n",
      "_________________________________________________________________\n",
      "dense_3 (Dense)              (None, 1)                 129       \n",
      "=================================================================\n",
      "Total params: 71,114,277\n",
      "Trainable params: 219,777\n",
      "Non-trainable params: 70,894,500\n",
      "_________________________________________________________________\n",
      "None\n"
     ]
    }
   ],
   "source": [
    "print(lstm_model.summary())"
   ]
  },
  {
   "cell_type": "code",
   "execution_count": 47,
   "metadata": {},
   "outputs": [
    {
     "name": "stdout",
     "output_type": "stream",
     "text": [
      "Train on 821056 samples, validate on 205265 samples\n",
      "Epoch 1/6\n",
      "821056/821056 [==============================] - 923s 1ms/step - loss: 0.5194 - acc: 0.7392 - val_loss: 0.5031 - val_acc: 0.7509\n",
      "Epoch 2/6\n",
      "821056/821056 [==============================] - 980s 1ms/step - loss: 0.4943 - acc: 0.7566 - val_loss: 0.4900 - val_acc: 0.7601\n",
      "Epoch 3/6\n",
      "821056/821056 [==============================] - 971s 1ms/step - loss: 0.4823 - acc: 0.7643 - val_loss: 0.4841 - val_acc: 0.7643\n",
      "Epoch 4/6\n",
      "821056/821056 [==============================] - 967s 1ms/step - loss: 0.4734 - acc: 0.7700 - val_loss: 0.4803 - val_acc: 0.7674\n",
      "Epoch 5/6\n",
      "821056/821056 [==============================] - 977s 1ms/step - loss: 0.4652 - acc: 0.7750 - val_loss: 0.4809 - val_acc: 0.7657\n",
      "Epoch 6/6\n",
      "821056/821056 [==============================] - 978s 1ms/step - loss: 0.4577 - acc: 0.7796 - val_loss: 0.4786 - val_acc: 0.7682\n",
      "256581/256581 [==============================] - 228s 888us/step\n"
     ]
    }
   ],
   "source": [
    "history = lstm_model.fit(X_train, y_train, batch_size=128, epochs=6, verbose=1, validation_split=0.2)\n",
    "\n",
    "score = lstm_model.evaluate(X_test, y_test, verbose=1)"
   ]
  },
  {
   "cell_type": "code",
   "execution_count": 48,
   "metadata": {},
   "outputs": [
    {
     "name": "stdout",
     "output_type": "stream",
     "text": [
      "Test Score: 0.4783374218254074\n",
      "Test Accuracy: 0.7680615186691284\n"
     ]
    }
   ],
   "source": [
    "print(\"Test Score:\", score[0])\n",
    "print(\"Test Accuracy:\", score[1])"
   ]
  },
  {
   "cell_type": "code",
   "execution_count": 49,
   "metadata": {},
   "outputs": [
    {
     "data": {
      "image/png": "[encoded data removed]",
      "text/plain": [
       "<Figure size 432x288 with 1 Axes>"
      ]
     },
     "metadata": {
      "needs_background": "light"
     },
     "output_type": "display_data"
    },
    {
     "data": {
      "image/png": "[encoded data removed]",
      "text/plain": [
       "<Figure size 432x288 with 1 Axes>"
      ]
     },
     "metadata": {
      "needs_background": "light"
     },
     "output_type": "display_data"
    }
   ],
   "source": [
    "import matplotlib.pyplot as plt\n",
    "\n",
    "plt.plot(history.history['acc'])\n",
    "plt.plot(history.history['val_acc'])\n",
    "\n",
    "plt.title('model accuracy')\n",
    "plt.ylabel('accuracy')\n",
    "plt.xlabel('epoch')\n",
    "plt.legend(['train','test'], loc='upper left')\n",
    "plt.show()\n",
    "\n",
    "plt.plot(history.history['loss'])\n",
    "plt.plot(history.history['val_loss'])\n",
    "\n",
    "plt.title('model loss')\n",
    "plt.ylabel('loss')\n",
    "plt.xlabel('epoch')\n",
    "plt.legend(['train','test'], loc='upper left')\n",
    "plt.show()"
   ]
  },
  {
   "cell_type": "markdown",
   "metadata": {},
   "source": [
    "### Text Classification with Deep-RNN Model\n",
    "\n",
    "This will contain an embedding layer, bidirectional LSTM and GRUs, convolutional layers, followed by batch normalisation and dropout layers."
   ]
  },
  {
   "cell_type": "code",
   "execution_count": 22,
   "metadata": {},
   "outputs": [],
   "source": [
    "def build_deep_model(lr=0.0, lr_d=0.0, units=0, spatial_dr=0.0, kernel_size1=3, kernel_size2=2, dense_units=128, dr=0.1, conv_size=32):\n",
    "    file_path = \"best_model.hdf5\"\n",
    "    check_point = ModelCheckpoint(file_path, monitor = \"val_loss\", verbose = 1,\n",
    "                                          save_best_only = True, mode = \"min\")\n",
    "    early_stop = EarlyStopping(monitor = \"val_loss\", mode = \"min\", patience = 3)\n",
    "\n",
    "    inp = Input(shape = (max_len,))\n",
    "    x = Embedding(vocab_size, embed_size, weights = [embedding_matrix], trainable = False)(inp)\n",
    "    x1 = SpatialDropout1D(spatial_dr)(x)\n",
    "\n",
    "    x_gru = Bidirectional(GRU(units, return_sequences = True))(x1)\n",
    "    x1 = Conv1D(conv_size, kernel_size=kernel_size1, padding='valid', kernel_initializer='he_uniform')(x_gru)\n",
    "    avg_pool1_gru = GlobalAveragePooling1D()(x1)\n",
    "    max_pool1_gru = GlobalMaxPooling1D()(x1)\n",
    "\n",
    "    x3 = Conv1D(conv_size, kernel_size=kernel_size2, padding='valid', kernel_initializer='he_uniform')(x_gru)\n",
    "    avg_pool3_gru = GlobalAveragePooling1D()(x3)\n",
    "    max_pool3_gru = GlobalMaxPooling1D()(x3)\n",
    "\n",
    "    x_lstm = Bidirectional(LSTM(units, return_sequences = True))(x1)\n",
    "    x1 = Conv1D(conv_size, kernel_size=kernel_size1, padding='valid', kernel_initializer='he_uniform')(x_lstm)\n",
    "    avg_pool1_lstm = GlobalAveragePooling1D()(x1)\n",
    "    max_pool1_lstm = GlobalMaxPooling1D()(x1)\n",
    "\n",
    "    x3 = Conv1D(conv_size, kernel_size=kernel_size2, padding='valid', kernel_initializer='he_uniform')(x_lstm)\n",
    "    avg_pool3_lstm = GlobalAveragePooling1D()(x3)\n",
    "    max_pool3_lstm = GlobalMaxPooling1D()(x3)\n",
    "\n",
    "    x = concatenate([avg_pool1_gru, max_pool1_gru, avg_pool3_gru, max_pool3_gru,\n",
    "                            avg_pool1_lstm, max_pool1_lstm, avg_pool3_lstm, max_pool3_lstm])\n",
    "    x = BatchNormalization()(x)\n",
    "    x = Dropout(dr)(Dense(dense_units, activation='relu') (x))\n",
    "    x = BatchNormalization()(x)\n",
    "    x = Dropout(dr)(Dense(int(dense_units / 2), activation='relu') (x))\n",
    "    x = Dense(1, activation = \"sigmoid\")(x)\n",
    "    model = Model(inputs = inp, outputs = x)\n",
    "\n",
    "    model.compile(loss = \"binary_crossentropy\", optimizer = Adam(lr = lr, decay = lr_d), metrics = [\"accuracy\"])\n",
    "\n",
    "    history = model.fit(X_train, y_train, batch_size = 128, epochs = 10, validation_split=0.1, \n",
    "                                verbose = 1, callbacks = [check_point, early_stop])\n",
    "\n",
    "    model = load_model(file_path)\n",
    "\n",
    "    return model"
   ]
  },
  {
   "cell_type": "code",
   "execution_count": 23,
   "metadata": {},
   "outputs": [
    {
     "name": "stdout",
     "output_type": "stream",
     "text": [
      "WARNING:tensorflow:From /Users/charlottefettes/opt/anaconda3/lib/python3.7/site-packages/tensorflow/python/ops/nn_impl.py:180: add_dispatch_support.<locals>.wrapper (from tensorflow.python.ops.array_ops) is deprecated and will be removed in a future version.\n",
      "Instructions for updating:\n",
      "Use tf.where in 2.0, which has the same broadcast rule as np.where\n",
      "WARNING:tensorflow:From /Users/charlottefettes/opt/anaconda3/lib/python3.7/site-packages/keras/backend/tensorflow_backend.py:422: The name tf.global_variables is deprecated. Please use tf.compat.v1.global_variables instead.\n",
      "\n",
      "Train on 923688 samples, validate on 102633 samples\n",
      "Epoch 1/10\n",
      "923688/923688 [==============================] - 2735s 3ms/step - loss: 0.5535 - accuracy: 0.7150 - val_loss: 0.5345 - val_accuracy: 0.7325\n",
      "\n",
      "Epoch 00001: val_loss improved from inf to 0.53451, saving model to best_model.hdf5\n",
      "Epoch 2/10\n",
      "923688/923688 [==============================] - 2736s 3ms/step - loss: 0.5235 - accuracy: 0.7379 - val_loss: 0.5023 - val_accuracy: 0.7521\n",
      "\n",
      "Epoch 00002: val_loss improved from 0.53451 to 0.50234, saving model to best_model.hdf5\n",
      "Epoch 3/10\n",
      "923688/923688 [==============================] - 2732s 3ms/step - loss: 0.5122 - accuracy: 0.7462 - val_loss: 0.5790 - val_accuracy: 0.7153\n",
      "\n",
      "Epoch 00003: val_loss did not improve from 0.50234\n",
      "Epoch 4/10\n",
      "923688/923688 [==============================] - 2732s 3ms/step - loss: 0.5048 - accuracy: 0.7509 - val_loss: 0.4904 - val_accuracy: 0.7610\n",
      "\n",
      "Epoch 00004: val_loss improved from 0.50234 to 0.49037, saving model to best_model.hdf5\n",
      "Epoch 5/10\n",
      "923688/923688 [==============================] - 5538s 6ms/step - loss: 0.4991 - accuracy: 0.7552 - val_loss: 0.4839 - val_accuracy: 0.7638\n",
      "\n",
      "Epoch 00005: val_loss improved from 0.49037 to 0.48392, saving model to best_model.hdf5\n",
      "Epoch 6/10\n",
      "923688/923688 [==============================] - 2785s 3ms/step - loss: 0.4946 - accuracy: 0.7577 - val_loss: 0.4815 - val_accuracy: 0.7649\n",
      "\n",
      "Epoch 00006: val_loss improved from 0.48392 to 0.48148, saving model to best_model.hdf5\n",
      "Epoch 7/10\n",
      "923688/923688 [==============================] - 2791s 3ms/step - loss: 0.4902 - accuracy: 0.7609 - val_loss: 0.4795 - val_accuracy: 0.7668\n",
      "\n",
      "Epoch 00007: val_loss improved from 0.48148 to 0.47949, saving model to best_model.hdf5\n",
      "Epoch 8/10\n",
      "923688/923688 [==============================] - 2777s 3ms/step - loss: 0.4867 - accuracy: 0.7628 - val_loss: 0.4771 - val_accuracy: 0.7674\n",
      "\n",
      "Epoch 00008: val_loss improved from 0.47949 to 0.47709, saving model to best_model.hdf5\n",
      "Epoch 9/10\n",
      "923688/923688 [==============================] - 2828s 3ms/step - loss: 0.4843 - accuracy: 0.7644 - val_loss: 0.4766 - val_accuracy: 0.7688\n",
      "\n",
      "Epoch 00009: val_loss improved from 0.47709 to 0.47656, saving model to best_model.hdf5\n",
      "Epoch 10/10\n",
      "923688/923688 [==============================] - 2856s 3ms/step - loss: 0.4812 - accuracy: 0.7664 - val_loss: 0.4758 - val_accuracy: 0.7687\n",
      "\n",
      "Epoch 00010: val_loss improved from 0.47656 to 0.47584, saving model to best_model.hdf5\n"
     ]
    }
   ],
   "source": [
    "deep_model = build_deep_model(lr = 1e-3, lr_d = 1e-10, units = 128, spatial_dr = 0.5, kernel_size1=4, kernel_size2=4, dense_units=64, dr=0.2, conv_size=32)"
   ]
  },
  {
   "cell_type": "code",
   "execution_count": 24,
   "metadata": {},
   "outputs": [
    {
     "name": "stdout",
     "output_type": "stream",
     "text": [
      "256581/256581 [==============================] - 437s 2ms/step\n"
     ]
    }
   ],
   "source": [
    "score = deep_model.evaluate(X_test, y_test, verbose=1)"
   ]
  },
  {
   "cell_type": "code",
   "execution_count": 25,
   "metadata": {},
   "outputs": [
    {
     "name": "stdout",
     "output_type": "stream",
     "text": [
      "Test Score: 0.4747343453303665\n",
      "Test Accuracy: 0.7687786817550659\n"
     ]
    }
   ],
   "source": [
    "print(\"Test Score:\", score[0])\n",
    "print(\"Test Accuracy:\", score[1])"
   ]
  },
  {
   "cell_type": "markdown",
   "metadata": {},
   "source": [
    "From the above, the model that performed best - i.e. has the highest accuracy - is the deep model at 76.88% accuracy. However, the performance is only marginally better than the LSTM model with accuracy of 76.81%. \n",
    "\n",
    "To see if it improve performance, alternative embeddings - such as GloVe - could be used."
   ]
  },
  {
   "cell_type": "code",
   "execution_count": null,
   "metadata": {},
   "outputs": [],
   "source": []
  }
 ],
 "metadata": {
  "kernelspec": {
   "display_name": "Python 3",
   "language": "python",
   "name": "python3"
  },
  "language_info": {
   "codemirror_mode": {
    "name": "ipython",
    "version": 3
   },
   "file_extension": ".py",
   "mimetype": "text/x-python",
   "name": "python",
   "nbconvert_exporter": "python",
   "pygments_lexer": "ipython3",
   "version": "3.7.6"
  }
 },
 "nbformat": 4,
 "nbformat_minor": 2
}
