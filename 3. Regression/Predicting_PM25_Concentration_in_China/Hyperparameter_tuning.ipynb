{
 "cells": [
  {
   "cell_type": "code",
   "execution_count": 1,
   "metadata": {},
   "outputs": [],
   "source": [
    "import pandas as pd\n",
    "import numpy as np\n",
    "import matplotlib.pyplot as plt\n",
    "\n",
    "%matplotlib inline\n",
    "\n",
    "from sklearn.metrics import mean_squared_error\n",
    "from math import sqrt\n",
    "\n",
    "from sklearn.ensemble import RandomForestRegressor\n",
    "from sklearn import model_selection\n",
    "from sklearn.model_selection import GridSearchCV\n",
    "from sklearn.pipeline import Pipeline\n",
    "seed = 42\n",
    "\n",
    "from sklearn import preprocessing\n",
    "mms = preprocessing.MinMaxScaler()\n",
    "import warnings\n",
    "warnings.filterwarnings(\"ignore\")"
   ]
  },
  {
   "cell_type": "code",
   "execution_count": 4,
   "metadata": {},
   "outputs": [],
   "source": [
    "X_train = pd.read_csv('X_train.csv')\n",
    "X_train = X_train.loc[:, ~X_train.columns.str.contains('^Unnamed')]\n",
    "\n",
    "y_train = pd.read_csv('y_train.csv')\n",
    "y_train = y_train.loc[:, ~y_train.columns.str.contains('^Unnamed')]"
   ]
  },
  {
   "cell_type": "code",
   "execution_count": 7,
   "metadata": {},
   "outputs": [
    {
     "name": "stdout",
     "output_type": "stream",
     "text": [
      "Fitting 3 folds for each of 6 candidates, totalling 18 fits\n"
     ]
    },
    {
     "name": "stderr",
     "output_type": "stream",
     "text": [
      "[Parallel(n_jobs=-1)]: Using backend LokyBackend with 4 concurrent workers.\n",
      "[Parallel(n_jobs=-1)]: Done  18 out of  18 | elapsed: 74.2min finished\n"
     ]
    },
    {
     "name": "stdout",
     "output_type": "stream",
     "text": [
      "{'randomforest__max_features': 'auto', 'randomforest__n_estimators': 200}\n"
     ]
    }
   ],
   "source": [
    "scoring = 'neg_mean_squared_error'\n",
    "\n",
    "randomforest = RandomForestRegressor()\n",
    "\n",
    "rf_pipe = Pipeline([\n",
    "    ('mms', mms),\n",
    "    ('randomforest', randomforest)])\n",
    "\n",
    "params_rf = {\n",
    "    'randomforest__n_estimators': [50,100,200],\n",
    "    'randomforest__max_features': ['auto', 'sqrt'],\n",
    "    #'randomforest__max_depth': [10, 50, 90, None],\n",
    "    #'randomforest__min_samples_split': [2, 5, 10],\n",
    "    #'randomforest__min_samples_leaf': [1, 2, 4],\n",
    "    #'randomforest__bootstrap': [True, False]\n",
    "}\n",
    "\n",
    "grid_search_rf = GridSearchCV(rf_pipe, param_grid=params_rf, cv=3, verbose=2, n_jobs=-1, scoring=scoring)\n",
    "grid_search_rf.fit(X_train, y_train.values.ravel())\n",
    "print(grid_search_rf.best_params_)"
   ]
  },
  {
   "cell_type": "code",
   "execution_count": 8,
   "metadata": {},
   "outputs": [
    {
     "name": "stdout",
     "output_type": "stream",
     "text": [
      "Fitting 3 folds for each of 12 candidates, totalling 36 fits\n"
     ]
    },
    {
     "name": "stderr",
     "output_type": "stream",
     "text": [
      "[Parallel(n_jobs=-1)]: Using backend LokyBackend with 4 concurrent workers.\n",
      "[Parallel(n_jobs=-1)]: Done  36 out of  36 | elapsed: 279.1min finished\n"
     ]
    },
    {
     "name": "stdout",
     "output_type": "stream",
     "text": [
      "{'randomforest__max_depth': 90, 'randomforest__max_features': 'auto', 'randomforest__min_samples_split': 2, 'randomforest__n_estimators': 200}\n"
     ]
    }
   ],
   "source": [
    "randomforest = RandomForestRegressor()\n",
    "\n",
    "rf_pipe = Pipeline([\n",
    "    ('mms', mms),\n",
    "    ('randomforest', randomforest)])\n",
    "\n",
    "params_rf = {\n",
    "    'randomforest__n_estimators': [200],\n",
    "    'randomforest__max_features': ['auto'],\n",
    "    'randomforest__max_depth': [10, 50, 90, None],\n",
    "    'randomforest__min_samples_split': [2, 5, 10],\n",
    "    #'randomforest__min_samples_leaf': [1, 2, 4],\n",
    "    #'randomforest__bootstrap': [True, False]\n",
    "}\n",
    "\n",
    "grid_search_rf = GridSearchCV(rf_pipe, param_grid=params_rf, cv=3, verbose=2, n_jobs=-1, scoring=scoring)\n",
    "grid_search_rf.fit(X_train, y_train.values.ravel())\n",
    "print(grid_search_rf.best_params_)"
   ]
  },
  {
   "cell_type": "code",
   "execution_count": 9,
   "metadata": {},
   "outputs": [
    {
     "name": "stdout",
     "output_type": "stream",
     "text": [
      "Fitting 3 folds for each of 6 candidates, totalling 18 fits\n"
     ]
    },
    {
     "name": "stderr",
     "output_type": "stream",
     "text": [
      "[Parallel(n_jobs=-1)]: Using backend LokyBackend with 4 concurrent workers.\n",
      "[Parallel(n_jobs=-1)]: Done  18 out of  18 | elapsed: 192.8min finished\n"
     ]
    },
    {
     "name": "stdout",
     "output_type": "stream",
     "text": [
      "{'randomforest__bootstrap': True, 'randomforest__max_depth': 90, 'randomforest__max_features': 'auto', 'randomforest__min_samples_leaf': 1, 'randomforest__min_samples_split': 2, 'randomforest__n_estimators': 200}\n"
     ]
    }
   ],
   "source": [
    "randomforest = RandomForestRegressor()\n",
    "\n",
    "rf_pipe = Pipeline([\n",
    "    ('mms', mms),\n",
    "    ('randomforest', randomforest)])\n",
    "\n",
    "params_rf = {\n",
    "    'randomforest__n_estimators': [200],\n",
    "    'randomforest__max_features': ['auto'],\n",
    "    'randomforest__max_depth': [90],\n",
    "    'randomforest__min_samples_split': [2],\n",
    "    'randomforest__min_samples_leaf': [1, 2, 4],\n",
    "    'randomforest__bootstrap': [True, False]\n",
    "}\n",
    "\n",
    "grid_search_rf = GridSearchCV(rf_pipe, param_grid=params_rf, cv=3, verbose=2, n_jobs=-1, scoring=scoring)\n",
    "grid_search_rf.fit(X_train, y_train.values.ravel())\n",
    "print(grid_search_rf.best_params_)"
   ]
  },
  {
   "cell_type": "code",
   "execution_count": 11,
   "metadata": {},
   "outputs": [],
   "source": [
    "import pickle\n",
    "\n",
    "rf_params = {\n",
    "    'n_estimators': 200,\n",
    "    'max_features': 'auto',\n",
    "    'max_depth': 90,\n",
    "    'min_samples_split': 2,\n",
    "    'min_samples_leaf': 1,\n",
    "    'bootstrap': True   \n",
    "}\n",
    "\n",
    "#save params to file \n",
    "Pkl_Filename = \"RF_Params.pkl\"  \n",
    "with open(Pkl_Filename, 'wb') as file:  \n",
    "    pickle.dump(rf_params, file)"
   ]
  },
  {
   "cell_type": "code",
   "execution_count": null,
   "metadata": {},
   "outputs": [],
   "source": []
  }
 ],
 "metadata": {
  "kernelspec": {
   "display_name": "Python 3",
   "language": "python",
   "name": "python3"
  },
  "language_info": {
   "codemirror_mode": {
    "name": "ipython",
    "version": 3
   },
   "file_extension": ".py",
   "mimetype": "text/x-python",
   "name": "python",
   "nbconvert_exporter": "python",
   "pygments_lexer": "ipython3",
   "version": "3.7.0"
  }
 },
 "nbformat": 4,
 "nbformat_minor": 2
}
