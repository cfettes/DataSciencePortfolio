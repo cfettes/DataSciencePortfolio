{
 "cells": [
  {
   "cell_type": "markdown",
   "metadata": {
    "colab_type": "text",
    "id": "eMSCiNL_h7Qh"
   },
   "source": [
    "# Identify Type of Particle with Classification\n",
    "\n",
    "There are six particle types: electron, proton, muon, kaon, pion and ghost. Ghost is a particle with other type than the first five or a detector noise. \n",
    "\n",
    "Different particle types have different responses in the detector systems or subdetectors. Thre are five systems: tracking system, ring imaging Cherenkov detector (RICH), electromagnetic and hadron calorimeters, and muon system. The responses in the detector systems will be used to identify a particle type. \n",
    "\n",
    "Data files are downloaded from https://github.com/hse-aml/hadron-collider-machine-learning/releases/tag/Week_2\n",
    "\n",
    "Thi snotebook was completed as part of the Addressing Large Hadron Collider Challenges with Machine Learning course of the Advanced Machine Learning specialisation on Coursera."
   ]
  },
  {
   "cell_type": "code",
   "execution_count": 1,
   "metadata": {
    "colab": {},
    "colab_type": "code",
    "id": "KYHy4JTch7Qk"
   },
   "outputs": [],
   "source": [
    "%matplotlib inline\n",
    "import matplotlib.pyplot as plt\n",
    "import pandas\n",
    "import numpy\n",
    "from sklearn.model_selection import train_test_split\n",
    "from sklearn.metrics import log_loss\n",
    "import utils"
   ]
  },
  {
   "cell_type": "code",
   "execution_count": 2,
   "metadata": {
    "colab": {},
    "colab_type": "code",
    "id": "AysY0rqyh7Q1"
   },
   "outputs": [],
   "source": [
    "data = pandas.read_csv('training.csv.gz')"
   ]
  },
  {
   "cell_type": "code",
   "execution_count": 3,
   "metadata": {
    "colab": {},
    "colab_type": "code",
    "id": "kTBB6uWph7Q9",
    "outputId": "dc8e8732-9cd6-4f90-958a-ee2cc85ed200"
   },
   "outputs": [
    {
     "data": {
      "text/html": [
       "<div>\n",
       "<style scoped>\n",
       "    .dataframe tbody tr th:only-of-type {\n",
       "        vertical-align: middle;\n",
       "    }\n",
       "\n",
       "    .dataframe tbody tr th {\n",
       "        vertical-align: top;\n",
       "    }\n",
       "\n",
       "    .dataframe thead th {\n",
       "        text-align: right;\n",
       "    }\n",
       "</style>\n",
       "<table border=\"1\" class=\"dataframe\">\n",
       "  <thead>\n",
       "    <tr style=\"text-align: right;\">\n",
       "      <th></th>\n",
       "      <th>TrackP</th>\n",
       "      <th>TrackNDoFSubdetector2</th>\n",
       "      <th>BremDLLbeElectron</th>\n",
       "      <th>MuonLooseFlag</th>\n",
       "      <th>FlagSpd</th>\n",
       "      <th>SpdE</th>\n",
       "      <th>EcalDLLbeElectron</th>\n",
       "      <th>DLLmuon</th>\n",
       "      <th>RICHpFlagElectron</th>\n",
       "      <th>EcalDLLbeMuon</th>\n",
       "      <th>...</th>\n",
       "      <th>TrackNDoF</th>\n",
       "      <th>RICHpFlagMuon</th>\n",
       "      <th>RICH_DLLbeKaon</th>\n",
       "      <th>RICH_DLLbeElectron</th>\n",
       "      <th>HcalE</th>\n",
       "      <th>MuonFlag</th>\n",
       "      <th>FlagMuon</th>\n",
       "      <th>PrsE</th>\n",
       "      <th>RICH_DLLbeMuon</th>\n",
       "      <th>RICH_DLLbeProton</th>\n",
       "    </tr>\n",
       "  </thead>\n",
       "  <tbody>\n",
       "    <tr>\n",
       "      <th>0</th>\n",
       "      <td>74791.156263</td>\n",
       "      <td>15.0</td>\n",
       "      <td>0.232275</td>\n",
       "      <td>1.0</td>\n",
       "      <td>1.0</td>\n",
       "      <td>3.2</td>\n",
       "      <td>-2.505719</td>\n",
       "      <td>6.604153</td>\n",
       "      <td>1.0</td>\n",
       "      <td>1.929960</td>\n",
       "      <td>...</td>\n",
       "      <td>28.0</td>\n",
       "      <td>1.0</td>\n",
       "      <td>-7.213300</td>\n",
       "      <td>-0.280200</td>\n",
       "      <td>5586.589846</td>\n",
       "      <td>1.0</td>\n",
       "      <td>1.0</td>\n",
       "      <td>10.422315</td>\n",
       "      <td>-2.081143e-07</td>\n",
       "      <td>-24.824400</td>\n",
       "    </tr>\n",
       "    <tr>\n",
       "      <th>1</th>\n",
       "      <td>2738.489989</td>\n",
       "      <td>15.0</td>\n",
       "      <td>-0.357748</td>\n",
       "      <td>0.0</td>\n",
       "      <td>1.0</td>\n",
       "      <td>3.2</td>\n",
       "      <td>1.864351</td>\n",
       "      <td>0.263651</td>\n",
       "      <td>1.0</td>\n",
       "      <td>-2.061959</td>\n",
       "      <td>...</td>\n",
       "      <td>32.0</td>\n",
       "      <td>1.0</td>\n",
       "      <td>-0.324317</td>\n",
       "      <td>1.707283</td>\n",
       "      <td>-0.000007</td>\n",
       "      <td>0.0</td>\n",
       "      <td>1.0</td>\n",
       "      <td>43.334935</td>\n",
       "      <td>2.771583e+00</td>\n",
       "      <td>-0.648017</td>\n",
       "    </tr>\n",
       "    <tr>\n",
       "      <th>2</th>\n",
       "      <td>2161.409908</td>\n",
       "      <td>17.0</td>\n",
       "      <td>-999.000000</td>\n",
       "      <td>0.0</td>\n",
       "      <td>0.0</td>\n",
       "      <td>-999.0</td>\n",
       "      <td>-999.000000</td>\n",
       "      <td>-999.000000</td>\n",
       "      <td>0.0</td>\n",
       "      <td>-999.000000</td>\n",
       "      <td>...</td>\n",
       "      <td>27.0</td>\n",
       "      <td>0.0</td>\n",
       "      <td>-999.000000</td>\n",
       "      <td>-999.000000</td>\n",
       "      <td>-999.000000</td>\n",
       "      <td>0.0</td>\n",
       "      <td>0.0</td>\n",
       "      <td>-999.000000</td>\n",
       "      <td>-9.990000e+02</td>\n",
       "      <td>-999.000000</td>\n",
       "    </tr>\n",
       "    <tr>\n",
       "      <th>3</th>\n",
       "      <td>15277.730490</td>\n",
       "      <td>20.0</td>\n",
       "      <td>-0.638984</td>\n",
       "      <td>0.0</td>\n",
       "      <td>1.0</td>\n",
       "      <td>3.2</td>\n",
       "      <td>-2.533918</td>\n",
       "      <td>-8.724949</td>\n",
       "      <td>1.0</td>\n",
       "      <td>-3.253981</td>\n",
       "      <td>...</td>\n",
       "      <td>36.0</td>\n",
       "      <td>1.0</td>\n",
       "      <td>-35.202221</td>\n",
       "      <td>-14.742319</td>\n",
       "      <td>4482.803707</td>\n",
       "      <td>0.0</td>\n",
       "      <td>1.0</td>\n",
       "      <td>2.194175</td>\n",
       "      <td>-3.070819e+00</td>\n",
       "      <td>-29.291519</td>\n",
       "    </tr>\n",
       "    <tr>\n",
       "      <th>4</th>\n",
       "      <td>7563.700195</td>\n",
       "      <td>19.0</td>\n",
       "      <td>-0.638962</td>\n",
       "      <td>0.0</td>\n",
       "      <td>1.0</td>\n",
       "      <td>3.2</td>\n",
       "      <td>-2.087146</td>\n",
       "      <td>-7.060422</td>\n",
       "      <td>1.0</td>\n",
       "      <td>-0.995816</td>\n",
       "      <td>...</td>\n",
       "      <td>33.0</td>\n",
       "      <td>1.0</td>\n",
       "      <td>25.084287</td>\n",
       "      <td>-10.272412</td>\n",
       "      <td>5107.554680</td>\n",
       "      <td>0.0</td>\n",
       "      <td>1.0</td>\n",
       "      <td>0.000015</td>\n",
       "      <td>-5.373712e+00</td>\n",
       "      <td>23.653087</td>\n",
       "    </tr>\n",
       "  </tbody>\n",
       "</table>\n",
       "<p>5 rows × 50 columns</p>\n",
       "</div>"
      ],
      "text/plain": [
       "         TrackP  TrackNDoFSubdetector2  BremDLLbeElectron  MuonLooseFlag  \\\n",
       "0  74791.156263                   15.0           0.232275            1.0   \n",
       "1   2738.489989                   15.0          -0.357748            0.0   \n",
       "2   2161.409908                   17.0        -999.000000            0.0   \n",
       "3  15277.730490                   20.0          -0.638984            0.0   \n",
       "4   7563.700195                   19.0          -0.638962            0.0   \n",
       "\n",
       "   FlagSpd   SpdE  EcalDLLbeElectron     DLLmuon  RICHpFlagElectron  \\\n",
       "0      1.0    3.2          -2.505719    6.604153                1.0   \n",
       "1      1.0    3.2           1.864351    0.263651                1.0   \n",
       "2      0.0 -999.0        -999.000000 -999.000000                0.0   \n",
       "3      1.0    3.2          -2.533918   -8.724949                1.0   \n",
       "4      1.0    3.2          -2.087146   -7.060422                1.0   \n",
       "\n",
       "   EcalDLLbeMuon  ...  TrackNDoF  RICHpFlagMuon  RICH_DLLbeKaon  \\\n",
       "0       1.929960  ...       28.0            1.0       -7.213300   \n",
       "1      -2.061959  ...       32.0            1.0       -0.324317   \n",
       "2    -999.000000  ...       27.0            0.0     -999.000000   \n",
       "3      -3.253981  ...       36.0            1.0      -35.202221   \n",
       "4      -0.995816  ...       33.0            1.0       25.084287   \n",
       "\n",
       "   RICH_DLLbeElectron        HcalE  MuonFlag  FlagMuon        PrsE  \\\n",
       "0           -0.280200  5586.589846       1.0       1.0   10.422315   \n",
       "1            1.707283    -0.000007       0.0       1.0   43.334935   \n",
       "2         -999.000000  -999.000000       0.0       0.0 -999.000000   \n",
       "3          -14.742319  4482.803707       0.0       1.0    2.194175   \n",
       "4          -10.272412  5107.554680       0.0       1.0    0.000015   \n",
       "\n",
       "   RICH_DLLbeMuon  RICH_DLLbeProton  \n",
       "0   -2.081143e-07        -24.824400  \n",
       "1    2.771583e+00         -0.648017  \n",
       "2   -9.990000e+02       -999.000000  \n",
       "3   -3.070819e+00        -29.291519  \n",
       "4   -5.373712e+00         23.653087  \n",
       "\n",
       "[5 rows x 50 columns]"
      ]
     },
     "execution_count": 3,
     "metadata": {},
     "output_type": "execute_result"
    }
   ],
   "source": [
    "data.head()"
   ]
  },
  {
   "cell_type": "markdown",
   "metadata": {
    "colab_type": "text",
    "id": "OaxxoEz5h7RG"
   },
   "source": [
    "### List of columns in the samples"
   ]
  },
  {
   "cell_type": "markdown",
   "metadata": {
    "colab_type": "text",
    "id": "6rKqPKzyh7RI"
   },
   "source": [
    "Here, **Spd** stands for Scintillating Pad Detector, **Prs** - Preshower, **Ecal** - electromagnetic calorimeter, **Hcal** - hadronic calorimeter, **Brem** denotes traces of the particles that were deflected by detector."
   ]
  },
  {
   "cell_type": "markdown",
   "metadata": {
    "colab_type": "text",
    "id": "W-yIjho5h7RK"
   },
   "source": [
    "- ID - id value for tracks (presents only in the test file for the submitting purposes)\n",
    "- Label - string valued observable denoting particle types. Can take values \"Electron\", \"Muon\", \"Kaon\", \"Proton\", \"Pion\" and \"Ghost\". This column is absent in the test file.\n",
    "- FlagSpd - flag (0 or 1), if reconstructed track passes through Spd\n",
    "- FlagPrs - flag (0 or 1), if reconstructed track passes through Prs\n",
    "- FlagBrem - flag (0 or 1), if reconstructed track passes through Brem\n",
    "- FlagEcal - flag (0 or 1), if reconstructed track passes through Ecal\n",
    "- FlagHcal - flag (0 or 1), if reconstructed track passes through Hcal\n",
    "- FlagRICH1 - flag (0 or 1), if reconstructed track passes through the first RICH detector\n",
    "- FlagRICH2 - flag (0 or 1), if reconstructed track passes through the second RICH detector\n",
    "- FlagMuon - flag (0 or 1), if reconstructed track passes through muon stations (Muon)\n",
    "- SpdE - energy deposit associated to the track in the Spd\n",
    "- PrsE - energy deposit associated to the track in the Prs\n",
    "- EcalE - energy deposit associated to the track in the Hcal\n",
    "- HcalE - energy deposit associated to the track in the Hcal\n",
    "- PrsDLLbeElectron - delta log-likelihood for a particle candidate to be electron using information from Prs\n",
    "- BremDLLbeElectron - delta log-likelihood for a particle candidate to be electron using information from Brem\n",
    "- TrackP - particle momentum\n",
    "- TrackPt - particle transverse momentum\n",
    "- TrackNDoFSubdetector1  - number of degrees of freedom for track fit using hits in the tracking sub-detector1\n",
    "- TrackQualitySubdetector1 - chi2 quality of the track fit using hits in the tracking sub-detector1\n",
    "- TrackNDoFSubdetector2 - number of degrees of freedom for track fit using hits in the tracking sub-detector2\n",
    "- TrackQualitySubdetector2 - chi2 quality of the track fit using hits in the  tracking sub-detector2\n",
    "- TrackNDoF - number of degrees of freedom for track fit using hits in all tracking sub-detectors\n",
    "- TrackQualityPerNDoF - chi2 quality of the track fit per degree of freedom\n",
    "- TrackDistanceToZ - distance between track and z-axis (beam axis)\n",
    "- Calo2dFitQuality - quality of the 2d fit of the clusters in the calorimeter \n",
    "- Calo3dFitQuality - quality of the 3d fit in the calorimeter with assumption that particle was electron\n",
    "- EcalDLLbeElectron - delta log-likelihood for a particle candidate to be electron using information from Ecal\n",
    "- EcalDLLbeMuon - delta log-likelihood for a particle candidate to be muon using information from Ecal\n",
    "- EcalShowerLongitudinalParameter - longitudinal parameter of Ecal shower\n",
    "- HcalDLLbeElectron - delta log-likelihood for a particle candidate to be electron using information from Hcal\n",
    "- HcalDLLbeMuon - delta log-likelihood for a particle candidate to be using information from Hcal\n",
    "- RICHpFlagElectron - flag (0 or 1) if momentum is greater than threshold for electrons to produce Cherenkov light\n",
    "- RICHpFlagProton - flag (0 or 1) if momentum is greater than threshold for protons to produce Cherenkov light\n",
    "- RICHpFlagPion - flag (0 or 1) if momentum is greater than threshold for pions to produce Cherenkov light\n",
    "- RICHpFlagKaon - flag (0 or 1) if momentum is greater than threshold for kaons to produce Cherenkov light\n",
    "- RICHpFlagMuon - flag (0 or 1) if momentum is greater than threshold for muons to produce Cherenkov light\n",
    "- RICH_DLLbeBCK  - delta log-likelihood for a particle candidate to be background using information from RICH\n",
    "- RICH_DLLbeKaon - delta log-likelihood for a particle candidate to be kaon using information from RICH\n",
    "- RICH_DLLbeElectron - delta log-likelihood for a particle candidate to be electron using information from RICH\n",
    "- RICH_DLLbeMuon - delta log-likelihood for a particle candidate to be muon using information from RICH\n",
    "- RICH_DLLbeProton - delta log-likelihood for a particle candidate to be proton using information from RICH\n",
    "- MuonFlag - muon flag (is this track muon) which is determined from muon stations\n",
    "- MuonLooseFlag muon flag (is this track muon) which is determined from muon stations using looser criteria\n",
    "- MuonLLbeBCK - log-likelihood for a particle candidate to be not muon using information from muon stations\n",
    "- MuonLLbeMuon - log-likelihood for a particle candidate to be muon using information from muon stations\n",
    "- DLLelectron - delta log-likelihood for a particle candidate to be electron using information from all subdetectors\n",
    "- DLLmuon - delta log-likelihood for a particle candidate to be muon using information from all subdetectors\n",
    "- DLLkaon - delta log-likelihood for a particle candidate to be kaon using information from all subdetectors\n",
    "- DLLproton - delta log-likelihood for a particle candidate to be proton using information from all subdetectors\n",
    "- GhostProbability - probability for a particle candidate to be ghost track. This variable is an output of classification model used in the tracking algorithm."
   ]
  },
  {
   "cell_type": "markdown",
   "metadata": {
    "colab_type": "text",
    "id": "kgBnwddth7RN"
   },
   "source": [
    "Delta log-likelihood in the features descriptions means the difference between log-likelihood for the mass hypothesis that a given track is left by some particle (for example, electron) and log-likelihood for the mass hypothesis that a given track is left by a pion (so, DLLpion = 0 and thus we don't have these columns). This is done since most tracks (~80%) are left by pions and in practice we actually need to discriminate other particles from pions. In other words, the null hypothesis is that particle is a pion."
   ]
  },
  {
   "cell_type": "markdown",
   "metadata": {
    "colab_type": "text",
    "id": "5uoQ7OBVh7RP"
   },
   "source": [
    "### Look at the labels set\n",
    "\n",
    "The training data contains six classes. Each class corresponds to a particle type. The task is to predict type of a particle."
   ]
  },
  {
   "cell_type": "code",
   "execution_count": 4,
   "metadata": {
    "colab": {},
    "colab_type": "code",
    "id": "lhprtRreh7RR",
    "outputId": "f64f663a-a9ee-406d-9e4c-f174be971f58"
   },
   "outputs": [
    {
     "data": {
      "text/plain": [
       "{'Electron', 'Ghost', 'Kaon', 'Muon', 'Pion', 'Proton'}"
      ]
     },
     "execution_count": 4,
     "metadata": {},
     "output_type": "execute_result"
    }
   ],
   "source": [
    "set(data.Label)"
   ]
  },
  {
   "cell_type": "markdown",
   "metadata": {
    "colab_type": "text",
    "id": "wUbMvEJdh7RW"
   },
   "source": [
    "Convert the particle types into class numbers."
   ]
  },
  {
   "cell_type": "code",
   "execution_count": 5,
   "metadata": {
    "colab": {},
    "colab_type": "code",
    "id": "1JBRkEmDh7RX",
    "outputId": "cecd9bfd-7857-4711-b3b1-a019bcd83a01"
   },
   "outputs": [
    {
     "data": {
      "text/plain": [
       "{0, 1, 2, 3, 4, 5}"
      ]
     },
     "execution_count": 5,
     "metadata": {},
     "output_type": "execute_result"
    }
   ],
   "source": [
    "data['Class'] = utils.get_class_ids(data.Label.values)\n",
    "set(data.Class)"
   ]
  },
  {
   "cell_type": "markdown",
   "metadata": {
    "colab_type": "text",
    "id": "3A0qSqoCh7Rd"
   },
   "source": [
    "### Define training features\n",
    "\n",
    "The following set of features describe particle responses in the detector systems:\n",
    "\n",
    "![features](https://github.com/hse-aml/hadron-collider-machine-learning/blob/master/week2/pic/features.jpeg?raw=1)\n",
    "\n",
    "Also there are several combined features. The full list as follows."
   ]
  },
  {
   "cell_type": "code",
   "execution_count": 6,
   "metadata": {
    "colab": {},
    "colab_type": "code",
    "id": "bVD6ZIP1h7Rf",
    "outputId": "cd4143b7-0ee9-42e8-c046-e8d30cc7b15f"
   },
   "outputs": [
    {
     "data": {
      "text/plain": [
       "['RICH_DLLbeMuon',\n",
       " 'TrackNDoF',\n",
       " 'RICH_DLLbeProton',\n",
       " 'DLLkaon',\n",
       " 'FlagHcal',\n",
       " 'RICH_DLLbeKaon',\n",
       " 'HcalE',\n",
       " 'PrsDLLbeElectron',\n",
       " 'Calo2dFitQuality',\n",
       " 'BremDLLbeElectron',\n",
       " 'FlagPrs',\n",
       " 'TrackP',\n",
       " 'DLLproton',\n",
       " 'RICHpFlagPion',\n",
       " 'TrackQualitySubdetector1',\n",
       " 'TrackNDoFSubdetector1',\n",
       " 'HcalDLLbeElectron',\n",
       " 'RICHpFlagMuon',\n",
       " 'TrackPt',\n",
       " 'TrackNDoFSubdetector2',\n",
       " 'SpdE',\n",
       " 'GhostProbability',\n",
       " 'DLLmuon',\n",
       " 'RICHpFlagElectron',\n",
       " 'MuonLooseFlag',\n",
       " 'HcalDLLbeMuon',\n",
       " 'FlagSpd',\n",
       " 'FlagBrem',\n",
       " 'DLLelectron',\n",
       " 'MuonLLbeBCK',\n",
       " 'FlagEcal',\n",
       " 'EcalShowerLongitudinalParameter',\n",
       " 'MuonLLbeMuon',\n",
       " 'TrackDistanceToZ',\n",
       " 'EcalE',\n",
       " 'FlagRICH2',\n",
       " 'RICHpFlagProton',\n",
       " 'FlagRICH1',\n",
       " 'RICH_DLLbeBCK',\n",
       " 'FlagMuon',\n",
       " 'EcalDLLbeElectron',\n",
       " 'MuonFlag',\n",
       " 'TrackQualitySubdetector2',\n",
       " 'RICH_DLLbeElectron',\n",
       " 'PrsE',\n",
       " 'EcalDLLbeMuon',\n",
       " 'Calo3dFitQuality',\n",
       " 'TrackQualityPerNDoF',\n",
       " 'RICHpFlagKaon']"
      ]
     },
     "execution_count": 6,
     "metadata": {},
     "output_type": "execute_result"
    }
   ],
   "source": [
    "features = list(set(data.columns) - {'Label', 'Class'})\n",
    "features"
   ]
  },
  {
   "cell_type": "markdown",
   "metadata": {
    "colab_type": "text",
    "id": "pttIxSNah7Rn"
   },
   "source": [
    "### Divide training data into training and validation"
   ]
  },
  {
   "cell_type": "code",
   "execution_count": 7,
   "metadata": {
    "colab": {},
    "colab_type": "code",
    "id": "nxIFv90zh7Rp"
   },
   "outputs": [],
   "source": [
    "training_data, validation_data = train_test_split(data, random_state=11, train_size=0.90)"
   ]
  },
  {
   "cell_type": "code",
   "execution_count": 8,
   "metadata": {
    "colab": {},
    "colab_type": "code",
    "id": "V9WLGDMTh7Rt",
    "outputId": "14f96ec9-280c-43e3-8217-e2e5a17e8ee7"
   },
   "outputs": [
    {
     "data": {
      "text/plain": [
       "(1080000, 120000)"
      ]
     },
     "execution_count": 8,
     "metadata": {},
     "output_type": "execute_result"
    }
   ],
   "source": [
    "len(training_data), len(validation_data)"
   ]
  },
  {
   "cell_type": "code",
   "execution_count": 9,
   "metadata": {
    "colab": {},
    "colab_type": "code",
    "id": "hVV8hAa5i87M"
   },
   "outputs": [
    {
     "data": {
      "text/html": [
       "<div>\n",
       "<style scoped>\n",
       "    .dataframe tbody tr th:only-of-type {\n",
       "        vertical-align: middle;\n",
       "    }\n",
       "\n",
       "    .dataframe tbody tr th {\n",
       "        vertical-align: top;\n",
       "    }\n",
       "\n",
       "    .dataframe thead th {\n",
       "        text-align: right;\n",
       "    }\n",
       "</style>\n",
       "<table border=\"1\" class=\"dataframe\">\n",
       "  <thead>\n",
       "    <tr style=\"text-align: right;\">\n",
       "      <th></th>\n",
       "      <th>TrackP</th>\n",
       "      <th>TrackNDoFSubdetector2</th>\n",
       "      <th>BremDLLbeElectron</th>\n",
       "      <th>MuonLooseFlag</th>\n",
       "      <th>FlagSpd</th>\n",
       "      <th>SpdE</th>\n",
       "      <th>EcalDLLbeElectron</th>\n",
       "      <th>DLLmuon</th>\n",
       "      <th>RICHpFlagElectron</th>\n",
       "      <th>EcalDLLbeMuon</th>\n",
       "      <th>...</th>\n",
       "      <th>RICHpFlagMuon</th>\n",
       "      <th>RICH_DLLbeKaon</th>\n",
       "      <th>RICH_DLLbeElectron</th>\n",
       "      <th>HcalE</th>\n",
       "      <th>MuonFlag</th>\n",
       "      <th>FlagMuon</th>\n",
       "      <th>PrsE</th>\n",
       "      <th>RICH_DLLbeMuon</th>\n",
       "      <th>RICH_DLLbeProton</th>\n",
       "      <th>Class</th>\n",
       "    </tr>\n",
       "  </thead>\n",
       "  <tbody>\n",
       "    <tr>\n",
       "      <th>968874</th>\n",
       "      <td>12192.330089</td>\n",
       "      <td>17.0</td>\n",
       "      <td>-0.170024</td>\n",
       "      <td>0.0</td>\n",
       "      <td>1.0</td>\n",
       "      <td>0.0</td>\n",
       "      <td>-1.831868</td>\n",
       "      <td>-0.996012</td>\n",
       "      <td>1.0</td>\n",
       "      <td>5.017775e-01</td>\n",
       "      <td>...</td>\n",
       "      <td>1.0</td>\n",
       "      <td>-19.783108</td>\n",
       "      <td>-6.720408</td>\n",
       "      <td>1914.190913</td>\n",
       "      <td>1.0</td>\n",
       "      <td>1.0</td>\n",
       "      <td>1.967353e-06</td>\n",
       "      <td>-2.804208</td>\n",
       "      <td>-25.041909</td>\n",
       "      <td>1</td>\n",
       "    </tr>\n",
       "    <tr>\n",
       "      <th>912808</th>\n",
       "      <td>40379.488299</td>\n",
       "      <td>7.0</td>\n",
       "      <td>-999.000000</td>\n",
       "      <td>0.0</td>\n",
       "      <td>0.0</td>\n",
       "      <td>-999.0</td>\n",
       "      <td>-999.000000</td>\n",
       "      <td>-0.792678</td>\n",
       "      <td>1.0</td>\n",
       "      <td>-9.990000e+02</td>\n",
       "      <td>...</td>\n",
       "      <td>1.0</td>\n",
       "      <td>-14.755493</td>\n",
       "      <td>-2.304893</td>\n",
       "      <td>-999.000000</td>\n",
       "      <td>0.0</td>\n",
       "      <td>1.0</td>\n",
       "      <td>-9.990000e+02</td>\n",
       "      <td>-0.967993</td>\n",
       "      <td>-18.450494</td>\n",
       "      <td>4</td>\n",
       "    </tr>\n",
       "    <tr>\n",
       "      <th>30045</th>\n",
       "      <td>5294.729989</td>\n",
       "      <td>12.0</td>\n",
       "      <td>-0.381504</td>\n",
       "      <td>1.0</td>\n",
       "      <td>1.0</td>\n",
       "      <td>3.2</td>\n",
       "      <td>-0.589851</td>\n",
       "      <td>-2.054347</td>\n",
       "      <td>1.0</td>\n",
       "      <td>-2.142670e+00</td>\n",
       "      <td>...</td>\n",
       "      <td>1.0</td>\n",
       "      <td>13.137106</td>\n",
       "      <td>-7.920494</td>\n",
       "      <td>2567.385966</td>\n",
       "      <td>1.0</td>\n",
       "      <td>1.0</td>\n",
       "      <td>7.569901e+01</td>\n",
       "      <td>-1.713094</td>\n",
       "      <td>13.416006</td>\n",
       "      <td>3</td>\n",
       "    </tr>\n",
       "    <tr>\n",
       "      <th>313784</th>\n",
       "      <td>4645.819821</td>\n",
       "      <td>17.0</td>\n",
       "      <td>-0.417099</td>\n",
       "      <td>1.0</td>\n",
       "      <td>1.0</td>\n",
       "      <td>3.2</td>\n",
       "      <td>0.649028</td>\n",
       "      <td>-8.301831</td>\n",
       "      <td>1.0</td>\n",
       "      <td>7.650223e-07</td>\n",
       "      <td>...</td>\n",
       "      <td>1.0</td>\n",
       "      <td>-22.006791</td>\n",
       "      <td>-24.447692</td>\n",
       "      <td>256.265351</td>\n",
       "      <td>0.0</td>\n",
       "      <td>1.0</td>\n",
       "      <td>1.919901e+00</td>\n",
       "      <td>-7.184691</td>\n",
       "      <td>-17.656691</td>\n",
       "      <td>1</td>\n",
       "    </tr>\n",
       "    <tr>\n",
       "      <th>100864</th>\n",
       "      <td>3100.629887</td>\n",
       "      <td>17.0</td>\n",
       "      <td>-0.553602</td>\n",
       "      <td>0.0</td>\n",
       "      <td>1.0</td>\n",
       "      <td>3.2</td>\n",
       "      <td>-2.723420</td>\n",
       "      <td>-12.468398</td>\n",
       "      <td>1.0</td>\n",
       "      <td>-1.438773e+00</td>\n",
       "      <td>...</td>\n",
       "      <td>1.0</td>\n",
       "      <td>0.807007</td>\n",
       "      <td>-50.220193</td>\n",
       "      <td>0.000011</td>\n",
       "      <td>0.0</td>\n",
       "      <td>1.0</td>\n",
       "      <td>-8.050605e-07</td>\n",
       "      <td>-9.541493</td>\n",
       "      <td>0.771707</td>\n",
       "      <td>2</td>\n",
       "    </tr>\n",
       "  </tbody>\n",
       "</table>\n",
       "<p>5 rows × 51 columns</p>\n",
       "</div>"
      ],
      "text/plain": [
       "              TrackP  TrackNDoFSubdetector2  BremDLLbeElectron  MuonLooseFlag  \\\n",
       "968874  12192.330089                   17.0          -0.170024            0.0   \n",
       "912808  40379.488299                    7.0        -999.000000            0.0   \n",
       "30045    5294.729989                   12.0          -0.381504            1.0   \n",
       "313784   4645.819821                   17.0          -0.417099            1.0   \n",
       "100864   3100.629887                   17.0          -0.553602            0.0   \n",
       "\n",
       "        FlagSpd   SpdE  EcalDLLbeElectron    DLLmuon  RICHpFlagElectron  \\\n",
       "968874      1.0    0.0          -1.831868  -0.996012                1.0   \n",
       "912808      0.0 -999.0        -999.000000  -0.792678                1.0   \n",
       "30045       1.0    3.2          -0.589851  -2.054347                1.0   \n",
       "313784      1.0    3.2           0.649028  -8.301831                1.0   \n",
       "100864      1.0    3.2          -2.723420 -12.468398                1.0   \n",
       "\n",
       "        EcalDLLbeMuon  ...  RICHpFlagMuon  RICH_DLLbeKaon  RICH_DLLbeElectron  \\\n",
       "968874   5.017775e-01  ...            1.0      -19.783108           -6.720408   \n",
       "912808  -9.990000e+02  ...            1.0      -14.755493           -2.304893   \n",
       "30045   -2.142670e+00  ...            1.0       13.137106           -7.920494   \n",
       "313784   7.650223e-07  ...            1.0      -22.006791          -24.447692   \n",
       "100864  -1.438773e+00  ...            1.0        0.807007          -50.220193   \n",
       "\n",
       "              HcalE  MuonFlag  FlagMuon          PrsE  RICH_DLLbeMuon  \\\n",
       "968874  1914.190913       1.0       1.0  1.967353e-06       -2.804208   \n",
       "912808  -999.000000       0.0       1.0 -9.990000e+02       -0.967993   \n",
       "30045   2567.385966       1.0       1.0  7.569901e+01       -1.713094   \n",
       "313784   256.265351       0.0       1.0  1.919901e+00       -7.184691   \n",
       "100864     0.000011       0.0       1.0 -8.050605e-07       -9.541493   \n",
       "\n",
       "        RICH_DLLbeProton  Class  \n",
       "968874        -25.041909      1  \n",
       "912808        -18.450494      4  \n",
       "30045          13.416006      3  \n",
       "313784        -17.656691      1  \n",
       "100864          0.771707      2  \n",
       "\n",
       "[5 rows x 51 columns]"
      ]
     },
     "execution_count": 9,
     "metadata": {},
     "output_type": "execute_result"
    }
   ],
   "source": [
    "training_data.head()"
   ]
  },
  {
   "cell_type": "code",
   "execution_count": 10,
   "metadata": {
    "colab": {},
    "colab_type": "code",
    "id": "xmGBhbXUi-jQ"
   },
   "outputs": [
    {
     "data": {
      "text/html": [
       "<div>\n",
       "<style scoped>\n",
       "    .dataframe tbody tr th:only-of-type {\n",
       "        vertical-align: middle;\n",
       "    }\n",
       "\n",
       "    .dataframe tbody tr th {\n",
       "        vertical-align: top;\n",
       "    }\n",
       "\n",
       "    .dataframe thead th {\n",
       "        text-align: right;\n",
       "    }\n",
       "</style>\n",
       "<table border=\"1\" class=\"dataframe\">\n",
       "  <thead>\n",
       "    <tr style=\"text-align: right;\">\n",
       "      <th></th>\n",
       "      <th>RICH_DLLbeMuon</th>\n",
       "      <th>TrackNDoF</th>\n",
       "      <th>RICH_DLLbeProton</th>\n",
       "      <th>DLLkaon</th>\n",
       "      <th>FlagHcal</th>\n",
       "      <th>RICH_DLLbeKaon</th>\n",
       "      <th>HcalE</th>\n",
       "      <th>PrsDLLbeElectron</th>\n",
       "      <th>Calo2dFitQuality</th>\n",
       "      <th>BremDLLbeElectron</th>\n",
       "      <th>...</th>\n",
       "      <th>FlagMuon</th>\n",
       "      <th>EcalDLLbeElectron</th>\n",
       "      <th>MuonFlag</th>\n",
       "      <th>TrackQualitySubdetector2</th>\n",
       "      <th>RICH_DLLbeElectron</th>\n",
       "      <th>PrsE</th>\n",
       "      <th>EcalDLLbeMuon</th>\n",
       "      <th>Calo3dFitQuality</th>\n",
       "      <th>TrackQualityPerNDoF</th>\n",
       "      <th>RICHpFlagKaon</th>\n",
       "    </tr>\n",
       "  </thead>\n",
       "  <tbody>\n",
       "    <tr>\n",
       "      <th>count</th>\n",
       "      <td>1.080000e+06</td>\n",
       "      <td>1.080000e+06</td>\n",
       "      <td>1.080000e+06</td>\n",
       "      <td>1.080000e+06</td>\n",
       "      <td>1.080000e+06</td>\n",
       "      <td>1.080000e+06</td>\n",
       "      <td>1.080000e+06</td>\n",
       "      <td>1.080000e+06</td>\n",
       "      <td>1.080000e+06</td>\n",
       "      <td>1.080000e+06</td>\n",
       "      <td>...</td>\n",
       "      <td>1.080000e+06</td>\n",
       "      <td>1.080000e+06</td>\n",
       "      <td>1.080000e+06</td>\n",
       "      <td>1.080000e+06</td>\n",
       "      <td>1.080000e+06</td>\n",
       "      <td>1.080000e+06</td>\n",
       "      <td>1.080000e+06</td>\n",
       "      <td>1.080000e+06</td>\n",
       "      <td>1.080000e+06</td>\n",
       "      <td>1.080000e+06</td>\n",
       "    </tr>\n",
       "    <tr>\n",
       "      <th>mean</th>\n",
       "      <td>-4.926364e+01</td>\n",
       "      <td>2.942315e+01</td>\n",
       "      <td>-5.229568e+01</td>\n",
       "      <td>-1.452442e+01</td>\n",
       "      <td>7.646630e-01</td>\n",
       "      <td>-5.190322e+01</td>\n",
       "      <td>2.898032e+03</td>\n",
       "      <td>-1.500610e+02</td>\n",
       "      <td>-1.674038e+02</td>\n",
       "      <td>-2.076723e+02</td>\n",
       "      <td>...</td>\n",
       "      <td>8.207509e-01</td>\n",
       "      <td>-1.829481e+02</td>\n",
       "      <td>1.662343e-01</td>\n",
       "      <td>1.609497e+01</td>\n",
       "      <td>-5.109546e+01</td>\n",
       "      <td>-1.340039e+02</td>\n",
       "      <td>-1.831246e+02</td>\n",
       "      <td>1.003561e+03</td>\n",
       "      <td>1.282943e+00</td>\n",
       "      <td>4.059546e-01</td>\n",
       "    </tr>\n",
       "    <tr>\n",
       "      <th>std</th>\n",
       "      <td>2.148977e+02</td>\n",
       "      <td>6.026995e+00</td>\n",
       "      <td>2.153698e+02</td>\n",
       "      <td>1.074946e+02</td>\n",
       "      <td>4.242095e-01</td>\n",
       "      <td>2.154569e+02</td>\n",
       "      <td>7.656111e+03</td>\n",
       "      <td>3.550281e+02</td>\n",
       "      <td>3.969166e+02</td>\n",
       "      <td>4.054207e+02</td>\n",
       "      <td>...</td>\n",
       "      <td>3.835609e-01</td>\n",
       "      <td>3.855809e+02</td>\n",
       "      <td>3.722910e-01</td>\n",
       "      <td>7.769702e+00</td>\n",
       "      <td>2.152222e+02</td>\n",
       "      <td>3.630068e+02</td>\n",
       "      <td>3.854955e+02</td>\n",
       "      <td>2.408174e+03</td>\n",
       "      <td>6.270840e-01</td>\n",
       "      <td>4.910761e-01</td>\n",
       "    </tr>\n",
       "    <tr>\n",
       "      <th>min</th>\n",
       "      <td>-9.990000e+02</td>\n",
       "      <td>7.000000e+00</td>\n",
       "      <td>-9.990000e+02</td>\n",
       "      <td>-9.990000e+02</td>\n",
       "      <td>0.000000e+00</td>\n",
       "      <td>-9.990000e+02</td>\n",
       "      <td>-9.990000e+02</td>\n",
       "      <td>-9.990000e+02</td>\n",
       "      <td>-9.990000e+02</td>\n",
       "      <td>-9.990000e+02</td>\n",
       "      <td>...</td>\n",
       "      <td>0.000000e+00</td>\n",
       "      <td>-9.990000e+02</td>\n",
       "      <td>0.000000e+00</td>\n",
       "      <td>3.229625e-04</td>\n",
       "      <td>-9.990000e+02</td>\n",
       "      <td>-9.990000e+02</td>\n",
       "      <td>-9.990000e+02</td>\n",
       "      <td>-9.990000e+02</td>\n",
       "      <td>4.504852e-02</td>\n",
       "      <td>0.000000e+00</td>\n",
       "    </tr>\n",
       "    <tr>\n",
       "      <th>25%</th>\n",
       "      <td>-4.503437e+00</td>\n",
       "      <td>2.600000e+01</td>\n",
       "      <td>-1.618322e+01</td>\n",
       "      <td>-1.069791e+01</td>\n",
       "      <td>1.000000e+00</td>\n",
       "      <td>-1.469696e+01</td>\n",
       "      <td>-1.446553e-05</td>\n",
       "      <td>-3.062679e+00</td>\n",
       "      <td>9.502276e-02</td>\n",
       "      <td>-6.250978e-01</td>\n",
       "      <td>...</td>\n",
       "      <td>1.000000e+00</td>\n",
       "      <td>-3.000639e+00</td>\n",
       "      <td>0.000000e+00</td>\n",
       "      <td>1.071093e+01</td>\n",
       "      <td>-1.309732e+01</td>\n",
       "      <td>9.201665e-06</td>\n",
       "      <td>-3.367626e+00</td>\n",
       "      <td>-9.990000e+02</td>\n",
       "      <td>8.856753e-01</td>\n",
       "      <td>0.000000e+00</td>\n",
       "    </tr>\n",
       "    <tr>\n",
       "      <th>50%</th>\n",
       "      <td>-4.692121e-01</td>\n",
       "      <td>3.000000e+01</td>\n",
       "      <td>-2.947544e-06</td>\n",
       "      <td>2.762477e-06</td>\n",
       "      <td>1.000000e+00</td>\n",
       "      <td>-1.248008e-06</td>\n",
       "      <td>5.772029e+02</td>\n",
       "      <td>-2.730653e+00</td>\n",
       "      <td>8.067113e-01</td>\n",
       "      <td>-5.329020e-01</td>\n",
       "      <td>...</td>\n",
       "      <td>1.000000e+00</td>\n",
       "      <td>-2.315904e+00</td>\n",
       "      <td>0.000000e+00</td>\n",
       "      <td>1.524483e+01</td>\n",
       "      <td>-2.355985e+00</td>\n",
       "      <td>2.468449e+00</td>\n",
       "      <td>-1.956066e+00</td>\n",
       "      <td>1.286276e+02</td>\n",
       "      <td>1.106393e+00</td>\n",
       "      <td>0.000000e+00</td>\n",
       "    </tr>\n",
       "    <tr>\n",
       "      <th>75%</th>\n",
       "      <td>1.300734e+00</td>\n",
       "      <td>3.400000e+01</td>\n",
       "      <td>8.919904e+00</td>\n",
       "      <td>8.460730e+00</td>\n",
       "      <td>1.000000e+00</td>\n",
       "      <td>8.457116e+00</td>\n",
       "      <td>3.047605e+03</td>\n",
       "      <td>-1.331085e+00</td>\n",
       "      <td>4.362203e+00</td>\n",
       "      <td>-5.933648e-02</td>\n",
       "      <td>...</td>\n",
       "      <td>1.000000e+00</td>\n",
       "      <td>5.918626e-01</td>\n",
       "      <td>0.000000e+00</td>\n",
       "      <td>2.041093e+01</td>\n",
       "      <td>1.672999e+00</td>\n",
       "      <td>8.776679e+00</td>\n",
       "      <td>4.339372e-01</td>\n",
       "      <td>1.657563e+03</td>\n",
       "      <td>1.448324e+00</td>\n",
       "      <td>1.000000e+00</td>\n",
       "    </tr>\n",
       "    <tr>\n",
       "      <th>max</th>\n",
       "      <td>1.428335e+02</td>\n",
       "      <td>5.200000e+01</td>\n",
       "      <td>1.462984e+02</td>\n",
       "      <td>1.681698e+02</td>\n",
       "      <td>1.000000e+00</td>\n",
       "      <td>1.588015e+02</td>\n",
       "      <td>7.985253e+05</td>\n",
       "      <td>3.463160e+00</td>\n",
       "      <td>9.984028e+02</td>\n",
       "      <td>4.791513e+00</td>\n",
       "      <td>...</td>\n",
       "      <td>1.000000e+00</td>\n",
       "      <td>4.341298e+00</td>\n",
       "      <td>1.000000e+00</td>\n",
       "      <td>1.048634e+02</td>\n",
       "      <td>1.861542e+02</td>\n",
       "      <td>2.805800e+02</td>\n",
       "      <td>2.153017e+00</td>\n",
       "      <td>9.999937e+03</td>\n",
       "      <td>3.999967e+00</td>\n",
       "      <td>1.000000e+00</td>\n",
       "    </tr>\n",
       "  </tbody>\n",
       "</table>\n",
       "<p>8 rows × 49 columns</p>\n",
       "</div>"
      ],
      "text/plain": [
       "       RICH_DLLbeMuon     TrackNDoF  RICH_DLLbeProton       DLLkaon  \\\n",
       "count    1.080000e+06  1.080000e+06      1.080000e+06  1.080000e+06   \n",
       "mean    -4.926364e+01  2.942315e+01     -5.229568e+01 -1.452442e+01   \n",
       "std      2.148977e+02  6.026995e+00      2.153698e+02  1.074946e+02   \n",
       "min     -9.990000e+02  7.000000e+00     -9.990000e+02 -9.990000e+02   \n",
       "25%     -4.503437e+00  2.600000e+01     -1.618322e+01 -1.069791e+01   \n",
       "50%     -4.692121e-01  3.000000e+01     -2.947544e-06  2.762477e-06   \n",
       "75%      1.300734e+00  3.400000e+01      8.919904e+00  8.460730e+00   \n",
       "max      1.428335e+02  5.200000e+01      1.462984e+02  1.681698e+02   \n",
       "\n",
       "           FlagHcal  RICH_DLLbeKaon         HcalE  PrsDLLbeElectron  \\\n",
       "count  1.080000e+06    1.080000e+06  1.080000e+06      1.080000e+06   \n",
       "mean   7.646630e-01   -5.190322e+01  2.898032e+03     -1.500610e+02   \n",
       "std    4.242095e-01    2.154569e+02  7.656111e+03      3.550281e+02   \n",
       "min    0.000000e+00   -9.990000e+02 -9.990000e+02     -9.990000e+02   \n",
       "25%    1.000000e+00   -1.469696e+01 -1.446553e-05     -3.062679e+00   \n",
       "50%    1.000000e+00   -1.248008e-06  5.772029e+02     -2.730653e+00   \n",
       "75%    1.000000e+00    8.457116e+00  3.047605e+03     -1.331085e+00   \n",
       "max    1.000000e+00    1.588015e+02  7.985253e+05      3.463160e+00   \n",
       "\n",
       "       Calo2dFitQuality  BremDLLbeElectron  ...      FlagMuon  \\\n",
       "count      1.080000e+06       1.080000e+06  ...  1.080000e+06   \n",
       "mean      -1.674038e+02      -2.076723e+02  ...  8.207509e-01   \n",
       "std        3.969166e+02       4.054207e+02  ...  3.835609e-01   \n",
       "min       -9.990000e+02      -9.990000e+02  ...  0.000000e+00   \n",
       "25%        9.502276e-02      -6.250978e-01  ...  1.000000e+00   \n",
       "50%        8.067113e-01      -5.329020e-01  ...  1.000000e+00   \n",
       "75%        4.362203e+00      -5.933648e-02  ...  1.000000e+00   \n",
       "max        9.984028e+02       4.791513e+00  ...  1.000000e+00   \n",
       "\n",
       "       EcalDLLbeElectron      MuonFlag  TrackQualitySubdetector2  \\\n",
       "count       1.080000e+06  1.080000e+06              1.080000e+06   \n",
       "mean       -1.829481e+02  1.662343e-01              1.609497e+01   \n",
       "std         3.855809e+02  3.722910e-01              7.769702e+00   \n",
       "min        -9.990000e+02  0.000000e+00              3.229625e-04   \n",
       "25%        -3.000639e+00  0.000000e+00              1.071093e+01   \n",
       "50%        -2.315904e+00  0.000000e+00              1.524483e+01   \n",
       "75%         5.918626e-01  0.000000e+00              2.041093e+01   \n",
       "max         4.341298e+00  1.000000e+00              1.048634e+02   \n",
       "\n",
       "       RICH_DLLbeElectron          PrsE  EcalDLLbeMuon  Calo3dFitQuality  \\\n",
       "count        1.080000e+06  1.080000e+06   1.080000e+06      1.080000e+06   \n",
       "mean        -5.109546e+01 -1.340039e+02  -1.831246e+02      1.003561e+03   \n",
       "std          2.152222e+02  3.630068e+02   3.854955e+02      2.408174e+03   \n",
       "min         -9.990000e+02 -9.990000e+02  -9.990000e+02     -9.990000e+02   \n",
       "25%         -1.309732e+01  9.201665e-06  -3.367626e+00     -9.990000e+02   \n",
       "50%         -2.355985e+00  2.468449e+00  -1.956066e+00      1.286276e+02   \n",
       "75%          1.672999e+00  8.776679e+00   4.339372e-01      1.657563e+03   \n",
       "max          1.861542e+02  2.805800e+02   2.153017e+00      9.999937e+03   \n",
       "\n",
       "       TrackQualityPerNDoF  RICHpFlagKaon  \n",
       "count         1.080000e+06   1.080000e+06  \n",
       "mean          1.282943e+00   4.059546e-01  \n",
       "std           6.270840e-01   4.910761e-01  \n",
       "min           4.504852e-02   0.000000e+00  \n",
       "25%           8.856753e-01   0.000000e+00  \n",
       "50%           1.106393e+00   0.000000e+00  \n",
       "75%           1.448324e+00   1.000000e+00  \n",
       "max           3.999967e+00   1.000000e+00  \n",
       "\n",
       "[8 rows x 49 columns]"
      ]
     },
     "execution_count": 10,
     "metadata": {},
     "output_type": "execute_result"
    }
   ],
   "source": [
    "training_data[features].describe()"
   ]
  },
  {
   "cell_type": "code",
   "execution_count": 11,
   "metadata": {
    "colab": {},
    "colab_type": "code",
    "id": "IXxF8j-OjCGH"
   },
   "outputs": [
    {
     "data": {
      "text/plain": [
       "False"
      ]
     },
     "execution_count": 11,
     "metadata": {},
     "output_type": "execute_result"
    }
   ],
   "source": [
    "training_data[features].isnull().any().any()"
   ]
  },
  {
   "cell_type": "code",
   "execution_count": 12,
   "metadata": {},
   "outputs": [],
   "source": [
    "from sklearn.preprocessing import StandardScaler\n",
    "scaler = StandardScaler()\n",
    "training_scale = scaler.fit_transform(training_data[features].values)"
   ]
  },
  {
   "cell_type": "code",
   "execution_count": 13,
   "metadata": {},
   "outputs": [],
   "source": [
    "validation_scale = scaler.transform(validation_data[features].values)"
   ]
  },
  {
   "cell_type": "markdown",
   "metadata": {
    "colab_type": "text",
    "id": "comTgUpyh7Rz"
   },
   "source": [
    "The goal is to achieve the lowest log loss value as possible. Two classifiers will be trained on training data, ad then tested on the validation data. The model that produces the lowest log loss on the validation dataset will be used to generate predictions on the unknown test data.\n",
    "\n",
    "## Gradient Boosting Classifier"
   ]
  },
  {
   "cell_type": "code",
   "execution_count": 14,
   "metadata": {
    "colab": {},
    "colab_type": "code",
    "id": "B0bkIJIQh7R0"
   },
   "outputs": [],
   "source": [
    "from sklearn.ensemble import GradientBoostingClassifier"
   ]
  },
  {
   "cell_type": "code",
   "execution_count": 15,
   "metadata": {},
   "outputs": [
    {
     "name": "stdout",
     "output_type": "stream",
     "text": [
      "CPU times: user 57min 42s, sys: 13.8 s, total: 57min 56s\n",
      "Wall time: 1h 52s\n"
     ]
    },
    {
     "data": {
      "text/plain": [
       "GradientBoostingClassifier(ccp_alpha=0.0, criterion='friedman_mse', init=None,\n",
       "                           learning_rate=0.1, loss='deviance', max_depth=3,\n",
       "                           max_features=None, max_leaf_nodes=None,\n",
       "                           min_impurity_decrease=0.0, min_impurity_split=None,\n",
       "                           min_samples_leaf=1, min_samples_split=2,\n",
       "                           min_weight_fraction_leaf=0.0, n_estimators=50,\n",
       "                           n_iter_no_change=None, presort='deprecated',\n",
       "                           random_state=13, subsample=0.8, tol=0.0001,\n",
       "                           validation_fraction=0.1, verbose=0,\n",
       "                           warm_start=False)"
      ]
     },
     "execution_count": 15,
     "metadata": {},
     "output_type": "execute_result"
    }
   ],
   "source": [
    "%%time \n",
    "gb = GradientBoostingClassifier(learning_rate=0.1, n_estimators=50, subsample=0.8, random_state=13,\n",
    "                                min_samples_leaf=1, max_depth=3)\n",
    "gb.fit(training_scale, training_data.Class.values)"
   ]
  },
  {
   "cell_type": "markdown",
   "metadata": {
    "colab_type": "text",
    "id": "9RcfoqY6h7R9"
   },
   "source": [
    "### Log loss on the cross validation sample"
   ]
  },
  {
   "cell_type": "code",
   "execution_count": 16,
   "metadata": {},
   "outputs": [],
   "source": [
    "# predict each track\n",
    "proba_gb = gb.predict_proba(validation_scale)"
   ]
  },
  {
   "cell_type": "code",
   "execution_count": 17,
   "metadata": {
    "colab": {},
    "colab_type": "code",
    "id": "S9W4LNJrh7SE",
    "outputId": "65724ec8-2352-4c30-e685-9d0a02365214"
   },
   "outputs": [
    {
     "data": {
      "text/plain": [
       "0.6669050174940361"
      ]
     },
     "execution_count": 17,
     "metadata": {},
     "output_type": "execute_result"
    }
   ],
   "source": [
    "log_loss(validation_data.Class.values, proba_gb)"
   ]
  },
  {
   "cell_type": "markdown",
   "metadata": {
    "colab_type": "text",
    "id": "CUeAa3m-h7SH"
   },
   "source": [
    "## Keras neural network"
   ]
  },
  {
   "cell_type": "code",
   "execution_count": 21,
   "metadata": {
    "colab": {},
    "colab_type": "code",
    "id": "OYHJDf8zh7SI",
    "outputId": "b188ff0b-ed29-45a2-e935-56088ae54a1e"
   },
   "outputs": [],
   "source": [
    "from keras.layers.core import Dense, Activation\n",
    "from keras.models import Sequential\n",
    "from keras.optimizers import Adam\n",
    "from keras.utils import np_utils\n",
    "from keras.callbacks import EarlyStopping, ModelCheckpoint"
   ]
  },
  {
   "cell_type": "code",
   "execution_count": 22,
   "metadata": {
    "colab": {},
    "colab_type": "code",
    "id": "xJvbJdLoh7SM"
   },
   "outputs": [],
   "source": [
    "def nn_model(input_dim):\n",
    "    model = Sequential()\n",
    "    model.add(Dense(100, input_dim=input_dim))\n",
    "    model.add(Activation('relu'))\n",
    "    \n",
    "    model.add(Dense(50))\n",
    "    model.add(Activation('relu'))\n",
    "\n",
    "    model.add(Dense(6))\n",
    "    model.add(Activation('softmax'))\n",
    "\n",
    "    model.compile(loss='categorical_crossentropy', optimizer=Adam())\n",
    "    return model"
   ]
  },
  {
   "cell_type": "code",
   "execution_count": 28,
   "metadata": {
    "colab": {},
    "colab_type": "code",
    "id": "U2rbk6Sljsz0"
   },
   "outputs": [],
   "source": [
    "callback = [EarlyStopping(monitor='val_loss', min_delta=0, patience=4, verbose=0, mode='auto'),\n",
    "            ModelCheckpoint('output/{val_loss:.4f}.hdf5', monitor='val_loss', verbose=1, save_best_only=True, mode='auto')]"
   ]
  },
  {
   "cell_type": "code",
   "execution_count": 30,
   "metadata": {
    "colab": {},
    "colab_type": "code",
    "id": "6WNAH2zWh7SQ",
    "outputId": "e3edd124-9d3a-46ee-d67d-a42750fc9057"
   },
   "outputs": [
    {
     "name": "stdout",
     "output_type": "stream",
     "text": [
      "Train on 1080000 samples, validate on 120000 samples\n",
      "Epoch 1/50\n",
      "1080000/1080000 [==============================] - 12s 11us/step - loss: 0.7053 - val_loss: 0.6224\n",
      "\n",
      "Epoch 00001: val_loss improved from 0.63300 to 0.62236, saving model to output/0.6224.hdf5\n",
      "Epoch 2/50\n",
      "1080000/1080000 [==============================] - 12s 11us/step - loss: 0.6185 - val_loss: 0.6077\n",
      "\n",
      "Epoch 00002: val_loss improved from 0.62236 to 0.60769, saving model to output/0.6077.hdf5\n",
      "Epoch 3/50\n",
      "1080000/1080000 [==============================] - 10s 9us/step - loss: 0.6050 - val_loss: 0.6013\n",
      "\n",
      "Epoch 00003: val_loss improved from 0.60769 to 0.60134, saving model to output/0.6013.hdf5\n",
      "Epoch 4/50\n",
      "1080000/1080000 [==============================] - 9s 8us/step - loss: 0.5977 - val_loss: 0.6035\n",
      "\n",
      "Epoch 00004: val_loss did not improve from 0.60134\n",
      "Epoch 5/50\n",
      "1080000/1080000 [==============================] - 9s 8us/step - loss: 0.5924 - val_loss: 0.5953\n",
      "\n",
      "Epoch 00005: val_loss improved from 0.60134 to 0.59527, saving model to output/0.5953.hdf5\n",
      "Epoch 6/50\n",
      "1080000/1080000 [==============================] - 9s 8us/step - loss: 0.5884 - val_loss: 0.5871\n",
      "\n",
      "Epoch 00006: val_loss improved from 0.59527 to 0.58711, saving model to output/0.5871.hdf5\n",
      "Epoch 7/50\n",
      "1080000/1080000 [==============================] - 8s 8us/step - loss: 0.5855 - val_loss: 0.5898\n",
      "\n",
      "Epoch 00007: val_loss did not improve from 0.58711\n",
      "Epoch 8/50\n",
      "1080000/1080000 [==============================] - 8s 8us/step - loss: 0.5831 - val_loss: 0.5837\n",
      "\n",
      "Epoch 00008: val_loss improved from 0.58711 to 0.58370, saving model to output/0.5837.hdf5\n",
      "Epoch 9/50\n",
      "1080000/1080000 [==============================] - 8s 8us/step - loss: 0.5806 - val_loss: 0.5854\n",
      "\n",
      "Epoch 00009: val_loss did not improve from 0.58370\n",
      "Epoch 10/50\n",
      "1080000/1080000 [==============================] - 8s 7us/step - loss: 0.5789 - val_loss: 0.5807\n",
      "\n",
      "Epoch 00010: val_loss improved from 0.58370 to 0.58075, saving model to output/0.5807.hdf5\n",
      "Epoch 11/50\n",
      "1080000/1080000 [==============================] - 6s 6us/step - loss: 0.5771 - val_loss: 0.5796\n",
      "\n",
      "Epoch 00011: val_loss improved from 0.58075 to 0.57956, saving model to output/0.5796.hdf5\n",
      "Epoch 12/50\n",
      "1080000/1080000 [==============================] - 6s 6us/step - loss: 0.5755 - val_loss: 0.5747\n",
      "\n",
      "Epoch 00012: val_loss improved from 0.57956 to 0.57466, saving model to output/0.5747.hdf5\n",
      "Epoch 13/50\n",
      "1080000/1080000 [==============================] - 6s 6us/step - loss: 0.5742 - val_loss: 0.5793\n",
      "\n",
      "Epoch 00013: val_loss did not improve from 0.57466\n",
      "Epoch 14/50\n",
      "1080000/1080000 [==============================] - 6s 5us/step - loss: 0.5733 - val_loss: 0.5753\n",
      "\n",
      "Epoch 00014: val_loss did not improve from 0.57466\n",
      "Epoch 15/50\n",
      "1080000/1080000 [==============================] - 5s 5us/step - loss: 0.5720 - val_loss: 0.5731\n",
      "\n",
      "Epoch 00015: val_loss improved from 0.57466 to 0.57308, saving model to output/0.5731.hdf5\n",
      "Epoch 16/50\n",
      "1080000/1080000 [==============================] - 5s 5us/step - loss: 0.5709 - val_loss: 0.5732\n",
      "\n",
      "Epoch 00016: val_loss did not improve from 0.57308\n",
      "Epoch 17/50\n",
      "1080000/1080000 [==============================] - 5s 5us/step - loss: 0.5702 - val_loss: 0.5733\n",
      "\n",
      "Epoch 00017: val_loss did not improve from 0.57308\n",
      "Epoch 18/50\n",
      "1080000/1080000 [==============================] - 5s 5us/step - loss: 0.5692 - val_loss: 0.5712\n",
      "\n",
      "Epoch 00018: val_loss improved from 0.57308 to 0.57123, saving model to output/0.5712.hdf5\n",
      "Epoch 19/50\n",
      "1080000/1080000 [==============================] - 6s 6us/step - loss: 0.5683 - val_loss: 0.5717\n",
      "\n",
      "Epoch 00019: val_loss did not improve from 0.57123\n",
      "Epoch 20/50\n",
      "1080000/1080000 [==============================] - 6s 6us/step - loss: 0.5679 - val_loss: 0.5685\n",
      "\n",
      "Epoch 00020: val_loss improved from 0.57123 to 0.56849, saving model to output/0.5685.hdf5\n",
      "Epoch 21/50\n",
      "1080000/1080000 [==============================] - 5s 5us/step - loss: 0.5672 - val_loss: 0.5708\n",
      "\n",
      "Epoch 00021: val_loss did not improve from 0.56849\n",
      "Epoch 22/50\n",
      "1080000/1080000 [==============================] - 5s 5us/step - loss: 0.5667 - val_loss: 0.5696\n",
      "\n",
      "Epoch 00022: val_loss did not improve from 0.56849\n",
      "Epoch 23/50\n",
      "1080000/1080000 [==============================] - 5s 5us/step - loss: 0.5659 - val_loss: 0.5690\n",
      "\n",
      "Epoch 00023: val_loss did not improve from 0.56849\n",
      "Epoch 24/50\n",
      "1080000/1080000 [==============================] - 5s 5us/step - loss: 0.5656 - val_loss: 0.5672\n",
      "\n",
      "Epoch 00024: val_loss improved from 0.56849 to 0.56718, saving model to output/0.5672.hdf5\n",
      "Epoch 25/50\n",
      "1080000/1080000 [==============================] - 5s 5us/step - loss: 0.5648 - val_loss: 0.5677\n",
      "\n",
      "Epoch 00025: val_loss did not improve from 0.56718\n",
      "Epoch 26/50\n",
      "1080000/1080000 [==============================] - 5s 5us/step - loss: 0.5646 - val_loss: 0.5667\n",
      "\n",
      "Epoch 00026: val_loss improved from 0.56718 to 0.56665, saving model to output/0.5667.hdf5\n",
      "Epoch 27/50\n",
      "1080000/1080000 [==============================] - 5s 5us/step - loss: 0.5640 - val_loss: 0.5661\n",
      "\n",
      "Epoch 00027: val_loss improved from 0.56665 to 0.56608, saving model to output/0.5661.hdf5\n",
      "Epoch 28/50\n",
      "1080000/1080000 [==============================] - 5s 5us/step - loss: 0.5636 - val_loss: 0.5693\n",
      "\n",
      "Epoch 00028: val_loss did not improve from 0.56608\n",
      "Epoch 29/50\n",
      "1080000/1080000 [==============================] - 5s 5us/step - loss: 0.5632 - val_loss: 0.5668\n",
      "\n",
      "Epoch 00029: val_loss did not improve from 0.56608\n",
      "Epoch 30/50\n",
      "1080000/1080000 [==============================] - 5s 5us/step - loss: 0.5628 - val_loss: 0.5667\n",
      "\n",
      "Epoch 00030: val_loss did not improve from 0.56608\n",
      "Epoch 31/50\n",
      "1080000/1080000 [==============================] - 5s 5us/step - loss: 0.5625 - val_loss: 0.5657\n",
      "\n",
      "Epoch 00031: val_loss improved from 0.56608 to 0.56573, saving model to output/0.5657.hdf5\n",
      "Epoch 32/50\n",
      "1080000/1080000 [==============================] - 5s 5us/step - loss: 0.5623 - val_loss: 0.5652\n",
      "\n",
      "Epoch 00032: val_loss improved from 0.56573 to 0.56521, saving model to output/0.5652.hdf5\n",
      "Epoch 33/50\n",
      "1080000/1080000 [==============================] - 5s 5us/step - loss: 0.5622 - val_loss: 0.5659\n",
      "\n",
      "Epoch 00033: val_loss did not improve from 0.56521\n",
      "Epoch 34/50\n",
      "1080000/1080000 [==============================] - 5s 5us/step - loss: 0.5616 - val_loss: 0.5661\n",
      "\n",
      "Epoch 00034: val_loss did not improve from 0.56521\n",
      "Epoch 35/50\n",
      "1080000/1080000 [==============================] - 5s 5us/step - loss: 0.5614 - val_loss: 0.5642\n",
      "\n",
      "Epoch 00035: val_loss improved from 0.56521 to 0.56424, saving model to output/0.5642.hdf5\n",
      "Epoch 36/50\n",
      "1080000/1080000 [==============================] - 5s 5us/step - loss: 0.5612 - val_loss: 0.5641\n",
      "\n",
      "Epoch 00036: val_loss improved from 0.56424 to 0.56410, saving model to output/0.5641.hdf5\n",
      "Epoch 37/50\n",
      "1080000/1080000 [==============================] - 5s 5us/step - loss: 0.5610 - val_loss: 0.5633\n",
      "\n",
      "Epoch 00037: val_loss improved from 0.56410 to 0.56332, saving model to output/0.5633.hdf5\n",
      "Epoch 38/50\n",
      "1080000/1080000 [==============================] - 5s 5us/step - loss: 0.5605 - val_loss: 0.5654\n",
      "\n",
      "Epoch 00038: val_loss did not improve from 0.56332\n",
      "Epoch 39/50\n",
      "1080000/1080000 [==============================] - 5s 5us/step - loss: 0.5605 - val_loss: 0.5670\n",
      "\n",
      "Epoch 00039: val_loss did not improve from 0.56332\n",
      "Epoch 40/50\n",
      "1080000/1080000 [==============================] - 5s 5us/step - loss: 0.5602 - val_loss: 0.5649\n",
      "\n",
      "Epoch 00040: val_loss did not improve from 0.56332\n",
      "Epoch 41/50\n",
      "1080000/1080000 [==============================] - 5s 5us/step - loss: 0.5599 - val_loss: 0.5665\n",
      "\n",
      "Epoch 00041: val_loss did not improve from 0.56332\n"
     ]
    },
    {
     "data": {
      "text/plain": [
       "<keras.callbacks.callbacks.History at 0x7f95d489fe10>"
      ]
     },
     "execution_count": 30,
     "metadata": {},
     "output_type": "execute_result"
    }
   ],
   "source": [
    "nn = nn_model(len(features))\n",
    "nn.fit(training_scale, np_utils.to_categorical(training_data.Class.values),\n",
    "       validation_data=(validation_scale, np_utils.to_categorical(validation_data.Class.values)),\n",
    "       epochs=50, verbose=1, batch_size=256, callbacks=callback)"
   ]
  },
  {
   "cell_type": "code",
   "execution_count": 31,
   "metadata": {
    "colab": {},
    "colab_type": "code",
    "id": "mMxcjaOdkDmw"
   },
   "outputs": [],
   "source": [
    "nn.load_weights('output/0.5633.hdf5')"
   ]
  },
  {
   "cell_type": "markdown",
   "metadata": {
    "colab_type": "text",
    "id": "Nl69Ytgth7SS"
   },
   "source": [
    "### Log loss on the cross validation sample"
   ]
  },
  {
   "cell_type": "code",
   "execution_count": 34,
   "metadata": {
    "colab": {},
    "colab_type": "code",
    "id": "bkfmCEmOh7SU",
    "outputId": "9b950b4e-13b2-42df-d27b-018363fd68f2"
   },
   "outputs": [],
   "source": [
    "# predict each track\n",
    "proba_nn = nn.predict_proba(validation_scale)"
   ]
  },
  {
   "cell_type": "code",
   "execution_count": 35,
   "metadata": {
    "colab": {},
    "colab_type": "code",
    "id": "UydHbrrmh7SX",
    "outputId": "3ee305f0-b76a-414b-97f1-710b6cde3b33"
   },
   "outputs": [
    {
     "data": {
      "text/plain": [
       "0.5633172530490052"
      ]
     },
     "execution_count": 35,
     "metadata": {},
     "output_type": "execute_result"
    }
   ],
   "source": [
    "log_loss(validation_data.Class.values, proba_nn)"
   ]
  },
  {
   "cell_type": "markdown",
   "metadata": {
    "colab_type": "text",
    "id": "UQtKTK7zh7Sa"
   },
   "source": [
    "## Quality Metrics of Model with Lowest Log Loss on Validation\n",
    "\n",
    "The Keras NN produced the lowest log loss on the validation dataset. ROC curves and signal efficiency dependence from particle mometum and transverse momentum values will be plotted."
   ]
  },
  {
   "cell_type": "code",
   "execution_count": 36,
   "metadata": {
    "colab": {},
    "colab_type": "code",
    "id": "CMcOIJYFh7Sb"
   },
   "outputs": [],
   "source": [
    "proba = proba_nn"
   ]
  },
  {
   "cell_type": "code",
   "execution_count": 37,
   "metadata": {
    "colab": {},
    "colab_type": "code",
    "id": "jzsgJ6VUh7Sf",
    "outputId": "771cc743-5dce-47a8-ae2a-2f3b01cf184c"
   },
   "outputs": [
    {
     "data": {
      "image/png": "[encoded data removed]",
      "text/plain": [
       "<Figure size 648x432 with 1 Axes>"
      ]
     },
     "metadata": {
      "needs_background": "light"
     },
     "output_type": "display_data"
    }
   ],
   "source": [
    "utils.plot_roc_curves(proba, validation_data.Class.values)"
   ]
  },
  {
   "cell_type": "code",
   "execution_count": 38,
   "metadata": {
    "colab": {},
    "colab_type": "code",
    "id": "8jJ5-lIjh7Sh",
    "outputId": "082b5523-697e-45e0-fe53-74e2a478f744"
   },
   "outputs": [
    {
     "data": {
      "image/png": "[encoded data removed]",
      "text/plain": [
       "<Figure size 792x756 with 6 Axes>"
      ]
     },
     "metadata": {
      "needs_background": "light"
     },
     "output_type": "display_data"
    }
   ],
   "source": [
    "utils.plot_signal_efficiency_on_p(proba, validation_data.Class.values, validation_data.TrackP.values, 60, 50)\n",
    "plt.show()"
   ]
  },
  {
   "cell_type": "code",
   "execution_count": 39,
   "metadata": {
    "colab": {},
    "colab_type": "code",
    "id": "d4MSqFsVh7Sk",
    "outputId": "b494ba4d-c096-42c8-987f-33479ebbce33"
   },
   "outputs": [
    {
     "data": {
      "image/png": "[encoded data removed]",
      "text/plain": [
       "<Figure size 792x756 with 6 Axes>"
      ]
     },
     "metadata": {
      "needs_background": "light"
     },
     "output_type": "display_data"
    }
   ],
   "source": [
    "utils.plot_signal_efficiency_on_pt(proba, validation_data.Class.values, validation_data.TrackPt.values, 60, 50)\n",
    "plt.show()"
   ]
  },
  {
   "cell_type": "markdown",
   "metadata": {
    "colab_type": "text",
    "id": "csSwGNWph7Sn"
   },
   "source": [
    "## Prepare submission"
   ]
  },
  {
   "cell_type": "code",
   "execution_count": 40,
   "metadata": {
    "colab": {},
    "colab_type": "code",
    "id": "sMlFNAONh7So"
   },
   "outputs": [],
   "source": [
    "test = pandas.read_csv('test.csv.gz')"
   ]
  },
  {
   "cell_type": "code",
   "execution_count": 41,
   "metadata": {
    "colab": {},
    "colab_type": "code",
    "id": "LeKNeE_4h7Sq"
   },
   "outputs": [],
   "source": [
    "best_model = nn"
   ]
  },
  {
   "cell_type": "code",
   "execution_count": 42,
   "metadata": {},
   "outputs": [],
   "source": [
    "test_scale = scaler.transform(test[features])"
   ]
  },
  {
   "cell_type": "code",
   "execution_count": 43,
   "metadata": {
    "colab": {},
    "colab_type": "code",
    "id": "h6ooba4eh7Su"
   },
   "outputs": [],
   "source": [
    "# predict test sample\n",
    "submit_proba = best_model.predict_proba(test_scale)\n",
    "submit_ids = test.ID"
   ]
  },
  {
   "cell_type": "code",
   "execution_count": 44,
   "metadata": {
    "colab": {},
    "colab_type": "code",
    "id": "W4jOhQMnh7Sw",
    "outputId": "df8e2891-94df-4550-9bfd-d41555265719"
   },
   "outputs": [
    {
     "data": {
      "text/html": [
       "<a href='submission_file.csv.gz' target='_blank'>submission_file.csv.gz</a><br>"
      ],
      "text/plain": [
       "/Users/charlottefettes/Downloads/AML-7/week2/submission_file.csv.gz"
      ]
     },
     "execution_count": 44,
     "metadata": {},
     "output_type": "execute_result"
    }
   ],
   "source": [
    "from IPython.display import FileLink\n",
    "utils.create_solution(submit_ids, submit_proba, filename='submission_file.csv.gz')"
   ]
  },
  {
   "cell_type": "code",
   "execution_count": null,
   "metadata": {},
   "outputs": [],
   "source": []
  }
 ],
 "metadata": {
  "colab": {
   "name": "Copy of Particle_identification.ipynb",
   "provenance": []
  },
  "kernelspec": {
   "display_name": "Python 3",
   "language": "python",
   "name": "python3"
  },
  "language_info": {
   "codemirror_mode": {
    "name": "ipython",
    "version": 3
   },
   "file_extension": ".py",
   "mimetype": "text/x-python",
   "name": "python",
   "nbconvert_exporter": "python",
   "pygments_lexer": "ipython3",
   "version": "3.7.6"
  }
 },
 "nbformat": 4,
 "nbformat_minor": 1
}
