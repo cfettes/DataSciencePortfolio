{
 "cells": [
  {
   "cell_type": "markdown",
   "metadata": {},
   "source": [
    "# Predicting Signal Events\n",
    "\n",
    "This is a classification task, with the goal to build a classifier to predict simulated signal events. \n",
    "\n",
    "The real data is collected by the LHCb detectors observing collisions of accelerated particles with a specific mass range in which τ → 3μ cannot happen; these events are “background” and labelled 0. Signal events have been simulated and are labelled 1.    \n",
    "\n",
    "Data files are here https://github.com/hse-aml/hadron-collider-machine-learning/releases/tag/Week_3\n",
    "\n",
    "This was completed as part of the Addressing Large Hadron Collider Challenges with Machine Learning course from the Advanced Machine Learning specialisation on Coursera."
   ]
  },
  {
   "cell_type": "code",
   "execution_count": 1,
   "metadata": {
    "colab": {},
    "colab_type": "code",
    "id": "K6hawNIls-D_",
    "outputId": "11c833fa-0f1c-4071-e80b-f40903f9ac87"
   },
   "outputs": [
    {
     "name": "stdout",
     "output_type": "stream",
     "text": [
      "Populating the interactive namespace from numpy and matplotlib\n"
     ]
    }
   ],
   "source": [
    "%pylab inline"
   ]
  },
  {
   "cell_type": "code",
   "execution_count": 2,
   "metadata": {
    "colab": {},
    "colab_type": "code",
    "id": "l1DkryScs-Eg"
   },
   "outputs": [
    {
     "name": "stderr",
     "output_type": "stream",
     "text": [
      "/Users/charlottefettes/opt/anaconda3/lib/python3.7/site-packages/sklearn/utils/deprecation.py:144: FutureWarning: The sklearn.neighbors.unsupervised module is  deprecated in version 0.22 and will be removed in version 0.24. The corresponding classes / functions should instead be imported from sklearn.neighbors. Anything that cannot be imported from sklearn.neighbors is now part of the private API.\n",
      "  warnings.warn(message, FutureWarning)\n"
     ]
    }
   ],
   "source": [
    "import pandas\n",
    "from sklearn.model_selection import train_test_split\n",
    "\n",
    "from sklearn.ensemble import AdaBoostClassifier\n",
    "from sklearn.tree import DecisionTreeClassifier\n",
    "\n",
    "from sklearn.metrics import roc_curve, roc_auc_score\n",
    "\n",
    "from hep_ml import metrics"
   ]
  },
  {
   "cell_type": "markdown",
   "metadata": {
    "colab_type": "text",
    "id": "NeFzcZfKs-FA"
   },
   "source": [
    "## Loading train and test datasets"
   ]
  },
  {
   "cell_type": "code",
   "execution_count": 3,
   "metadata": {
    "colab": {},
    "colab_type": "code",
    "id": "h-WgxaTfs-FK"
   },
   "outputs": [],
   "source": [
    "train_ada = pandas.read_csv('reference/training.csv', sep=',')\n",
    "test_ada = pandas.read_csv('reference/test.csv', sep=',', index_col='id')"
   ]
  },
  {
   "cell_type": "code",
   "execution_count": 4,
   "metadata": {
    "colab": {},
    "colab_type": "code",
    "id": "f4G9rq1ss-Ff",
    "outputId": "d98b0a50-62fc-48fd-dd24-9d0e09b885e1"
   },
   "outputs": [
    {
     "name": "stdout",
     "output_type": "stream",
     "text": [
      "Training full sample columns: id, LifeTime, dira, FlightDistance, FlightDistanceError, IP, IPSig, VertexChi2, pt, DOCAone, DOCAtwo, DOCAthree, IP_p0p2, IP_p1p2, isolationa, isolationb, isolationc, isolationd, isolatione, isolationf, iso, CDF1, CDF2, CDF3, ISO_SumBDT, p0_IsoBDT, p1_IsoBDT, p2_IsoBDT, p0_track_Chi2Dof, p1_track_Chi2Dof, p2_track_Chi2Dof, p0_IP, p1_IP, p2_IP, p0_IPSig, p1_IPSig, p2_IPSig, p0_pt, p1_pt, p2_pt, p0_p, p1_p, p2_p, p0_eta, p1_eta, p2_eta, SPDhits, production, signal, mass, min_ANNmuon \n",
      "Shape: (67553, 51)\n"
     ]
    }
   ],
   "source": [
    "print (\"Training full sample columns:\", \", \".join(train_ada.columns), \"\\nShape:\", train_ada.shape)"
   ]
  },
  {
   "cell_type": "code",
   "execution_count": 5,
   "metadata": {
    "colab": {},
    "colab_type": "code",
    "id": "PRcVmveDs-F1",
    "outputId": "26059274-2199-4740-c717-71b172f1c64d"
   },
   "outputs": [
    {
     "name": "stdout",
     "output_type": "stream",
     "text": [
      "Test full sample columns: LifeTime, dira, FlightDistance, FlightDistanceError, IP, IPSig, VertexChi2, pt, DOCAone, DOCAtwo, DOCAthree, IP_p0p2, IP_p1p2, isolationa, isolationb, isolationc, isolationd, isolatione, isolationf, iso, CDF1, CDF2, CDF3, ISO_SumBDT, p0_IsoBDT, p1_IsoBDT, p2_IsoBDT, p0_track_Chi2Dof, p1_track_Chi2Dof, p2_track_Chi2Dof, p0_IP, p1_IP, p2_IP, p0_IPSig, p1_IPSig, p2_IPSig, p0_pt, p1_pt, p2_pt, p0_p, p1_p, p2_p, p0_eta, p1_eta, p2_eta, SPDhits \n",
      "Shape: (855819, 46)\n"
     ]
    },
    {
     "data": {
      "text/html": [
       "<div>\n",
       "<style scoped>\n",
       "    .dataframe tbody tr th:only-of-type {\n",
       "        vertical-align: middle;\n",
       "    }\n",
       "\n",
       "    .dataframe tbody tr th {\n",
       "        vertical-align: top;\n",
       "    }\n",
       "\n",
       "    .dataframe thead th {\n",
       "        text-align: right;\n",
       "    }\n",
       "</style>\n",
       "<table border=\"1\" class=\"dataframe\">\n",
       "  <thead>\n",
       "    <tr style=\"text-align: right;\">\n",
       "      <th></th>\n",
       "      <th>LifeTime</th>\n",
       "      <th>dira</th>\n",
       "      <th>FlightDistance</th>\n",
       "      <th>FlightDistanceError</th>\n",
       "      <th>IP</th>\n",
       "      <th>IPSig</th>\n",
       "      <th>VertexChi2</th>\n",
       "      <th>pt</th>\n",
       "      <th>DOCAone</th>\n",
       "      <th>DOCAtwo</th>\n",
       "      <th>...</th>\n",
       "      <th>p0_pt</th>\n",
       "      <th>p1_pt</th>\n",
       "      <th>p2_pt</th>\n",
       "      <th>p0_p</th>\n",
       "      <th>p1_p</th>\n",
       "      <th>p2_p</th>\n",
       "      <th>p0_eta</th>\n",
       "      <th>p1_eta</th>\n",
       "      <th>p2_eta</th>\n",
       "      <th>SPDhits</th>\n",
       "    </tr>\n",
       "    <tr>\n",
       "      <th>id</th>\n",
       "      <th></th>\n",
       "      <th></th>\n",
       "      <th></th>\n",
       "      <th></th>\n",
       "      <th></th>\n",
       "      <th></th>\n",
       "      <th></th>\n",
       "      <th></th>\n",
       "      <th></th>\n",
       "      <th></th>\n",
       "      <th></th>\n",
       "      <th></th>\n",
       "      <th></th>\n",
       "      <th></th>\n",
       "      <th></th>\n",
       "      <th></th>\n",
       "      <th></th>\n",
       "      <th></th>\n",
       "      <th></th>\n",
       "      <th></th>\n",
       "      <th></th>\n",
       "    </tr>\n",
       "  </thead>\n",
       "  <tbody>\n",
       "    <tr>\n",
       "      <th>14711831</th>\n",
       "      <td>0.001273</td>\n",
       "      <td>0.999816</td>\n",
       "      <td>8.569642</td>\n",
       "      <td>0.310039</td>\n",
       "      <td>0.197893</td>\n",
       "      <td>5.183939</td>\n",
       "      <td>2.286117</td>\n",
       "      <td>687.479248</td>\n",
       "      <td>0.022301</td>\n",
       "      <td>0.050763</td>\n",
       "      <td>...</td>\n",
       "      <td>508.926514</td>\n",
       "      <td>306.629456</td>\n",
       "      <td>714.222717</td>\n",
       "      <td>30300.734375</td>\n",
       "      <td>5662.158691</td>\n",
       "      <td>7406.368164</td>\n",
       "      <td>4.779700</td>\n",
       "      <td>3.608334</td>\n",
       "      <td>3.029715</td>\n",
       "      <td>705</td>\n",
       "    </tr>\n",
       "    <tr>\n",
       "      <th>16316387</th>\n",
       "      <td>0.000661</td>\n",
       "      <td>0.999954</td>\n",
       "      <td>7.061379</td>\n",
       "      <td>0.348772</td>\n",
       "      <td>0.067430</td>\n",
       "      <td>6.316281</td>\n",
       "      <td>3.865824</td>\n",
       "      <td>5691.845703</td>\n",
       "      <td>0.002455</td>\n",
       "      <td>0.037633</td>\n",
       "      <td>...</td>\n",
       "      <td>943.130676</td>\n",
       "      <td>3287.291260</td>\n",
       "      <td>1563.593994</td>\n",
       "      <td>6160.323730</td>\n",
       "      <td>43781.566406</td>\n",
       "      <td>19728.500000</td>\n",
       "      <td>2.563915</td>\n",
       "      <td>3.280884</td>\n",
       "      <td>3.226650</td>\n",
       "      <td>907</td>\n",
       "    </tr>\n",
       "    <tr>\n",
       "      <th>6771382</th>\n",
       "      <td>0.000889</td>\n",
       "      <td>0.999999</td>\n",
       "      <td>6.502967</td>\n",
       "      <td>0.273914</td>\n",
       "      <td>0.011020</td>\n",
       "      <td>0.865816</td>\n",
       "      <td>1.004631</td>\n",
       "      <td>5429.225586</td>\n",
       "      <td>0.002753</td>\n",
       "      <td>0.036379</td>\n",
       "      <td>...</td>\n",
       "      <td>2886.055908</td>\n",
       "      <td>2216.936279</td>\n",
       "      <td>598.068359</td>\n",
       "      <td>26387.134766</td>\n",
       "      <td>15534.978516</td>\n",
       "      <td>6504.145020</td>\n",
       "      <td>2.903129</td>\n",
       "      <td>2.634985</td>\n",
       "      <td>3.077517</td>\n",
       "      <td>213</td>\n",
       "    </tr>\n",
       "    <tr>\n",
       "      <th>686045</th>\n",
       "      <td>0.001295</td>\n",
       "      <td>0.999301</td>\n",
       "      <td>7.838184</td>\n",
       "      <td>0.325697</td>\n",
       "      <td>0.388636</td>\n",
       "      <td>11.391245</td>\n",
       "      <td>10.345356</td>\n",
       "      <td>661.717834</td>\n",
       "      <td>0.008163</td>\n",
       "      <td>0.436003</td>\n",
       "      <td>...</td>\n",
       "      <td>461.727753</td>\n",
       "      <td>357.967560</td>\n",
       "      <td>1118.084229</td>\n",
       "      <td>5451.857422</td>\n",
       "      <td>10281.403320</td>\n",
       "      <td>23722.742188</td>\n",
       "      <td>3.160085</td>\n",
       "      <td>4.050494</td>\n",
       "      <td>3.747409</td>\n",
       "      <td>275</td>\n",
       "    </tr>\n",
       "    <tr>\n",
       "      <th>8755882</th>\n",
       "      <td>0.001714</td>\n",
       "      <td>0.999805</td>\n",
       "      <td>7.064559</td>\n",
       "      <td>0.113440</td>\n",
       "      <td>0.154421</td>\n",
       "      <td>13.925871</td>\n",
       "      <td>12.951378</td>\n",
       "      <td>3885.417969</td>\n",
       "      <td>0.066317</td>\n",
       "      <td>0.052183</td>\n",
       "      <td>...</td>\n",
       "      <td>1773.747925</td>\n",
       "      <td>1643.278198</td>\n",
       "      <td>711.572205</td>\n",
       "      <td>7724.954590</td>\n",
       "      <td>12830.546875</td>\n",
       "      <td>6008.145996</td>\n",
       "      <td>2.151059</td>\n",
       "      <td>2.744157</td>\n",
       "      <td>2.823017</td>\n",
       "      <td>357</td>\n",
       "    </tr>\n",
       "  </tbody>\n",
       "</table>\n",
       "<p>5 rows × 46 columns</p>\n",
       "</div>"
      ],
      "text/plain": [
       "          LifeTime      dira  FlightDistance  FlightDistanceError        IP  \\\n",
       "id                                                                            \n",
       "14711831  0.001273  0.999816        8.569642             0.310039  0.197893   \n",
       "16316387  0.000661  0.999954        7.061379             0.348772  0.067430   \n",
       "6771382   0.000889  0.999999        6.502967             0.273914  0.011020   \n",
       "686045    0.001295  0.999301        7.838184             0.325697  0.388636   \n",
       "8755882   0.001714  0.999805        7.064559             0.113440  0.154421   \n",
       "\n",
       "              IPSig  VertexChi2           pt   DOCAone   DOCAtwo  ...  \\\n",
       "id                                                                ...   \n",
       "14711831   5.183939    2.286117   687.479248  0.022301  0.050763  ...   \n",
       "16316387   6.316281    3.865824  5691.845703  0.002455  0.037633  ...   \n",
       "6771382    0.865816    1.004631  5429.225586  0.002753  0.036379  ...   \n",
       "686045    11.391245   10.345356   661.717834  0.008163  0.436003  ...   \n",
       "8755882   13.925871   12.951378  3885.417969  0.066317  0.052183  ...   \n",
       "\n",
       "                p0_pt        p1_pt        p2_pt          p0_p          p1_p  \\\n",
       "id                                                                            \n",
       "14711831   508.926514   306.629456   714.222717  30300.734375   5662.158691   \n",
       "16316387   943.130676  3287.291260  1563.593994   6160.323730  43781.566406   \n",
       "6771382   2886.055908  2216.936279   598.068359  26387.134766  15534.978516   \n",
       "686045     461.727753   357.967560  1118.084229   5451.857422  10281.403320   \n",
       "8755882   1773.747925  1643.278198   711.572205   7724.954590  12830.546875   \n",
       "\n",
       "                  p2_p    p0_eta    p1_eta    p2_eta  SPDhits  \n",
       "id                                                             \n",
       "14711831   7406.368164  4.779700  3.608334  3.029715      705  \n",
       "16316387  19728.500000  2.563915  3.280884  3.226650      907  \n",
       "6771382    6504.145020  2.903129  2.634985  3.077517      213  \n",
       "686045    23722.742188  3.160085  4.050494  3.747409      275  \n",
       "8755882    6008.145996  2.151059  2.744157  2.823017      357  \n",
       "\n",
       "[5 rows x 46 columns]"
      ]
     },
     "execution_count": 5,
     "metadata": {},
     "output_type": "execute_result"
    }
   ],
   "source": [
    "print (\"Test full sample columns:\", \", \".join(test_ada.columns), \"\\nShape:\", test_ada.shape)\n",
    "test_ada.head()"
   ]
  },
  {
   "cell_type": "markdown",
   "metadata": {
    "colab_type": "text",
    "id": "cuX6wjk5s-GH"
   },
   "source": [
    "## Train simple model using part of the training sample"
   ]
  },
  {
   "cell_type": "code",
   "execution_count": 6,
   "metadata": {
    "colab": {},
    "colab_type": "code",
    "id": "f63AtjRCs-GK"
   },
   "outputs": [],
   "source": [
    "train, test = train_test_split(train_ada, test_size=0.3, random_state=13)"
   ]
  },
  {
   "cell_type": "code",
   "execution_count": 7,
   "metadata": {
    "colab": {},
    "colab_type": "code",
    "id": "kbME2dEMs-GZ",
    "outputId": "076a7d0a-9db7-493a-a0ee-a7fdcadff6ce"
   },
   "outputs": [
    {
     "name": "stdout",
     "output_type": "stream",
     "text": [
      "['DOCAtwo', 'isolationd', 'p1_p', 'p2_track_Chi2Dof', 'ISO_SumBDT', 'IP_p0p2', 'p2_pt', 'p0_IsoBDT', 'p2_IP', 'IP_p1p2', 'CDF2', 'p2_IsoBDT', 'LifeTime', 'DOCAone', 'IP', 'p1_IsoBDT', 'p1_IPSig', 'SPDhits', 'dira', 'p0_p', 'isolationc', 'IPSig', 'FlightDistance', 'p0_IP', 'p0_pt', 'isolationf', 'VertexChi2', 'pt', 'p2_p', 'p2_eta', 'iso', 'DOCAthree', 'p1_track_Chi2Dof', 'CDF1', 'p0_eta', 'p0_IPSig', 'p1_pt', 'isolationa', 'FlightDistanceError', 'p0_track_Chi2Dof', 'isolatione', 'p1_IP', 'p1_eta', 'p2_IPSig', 'CDF3', 'isolationb']\n"
     ]
    }
   ],
   "source": [
    "#select subsample of features\n",
    "variables = list(set(train_ada.columns) - {'id', 'signal', 'mass', 'production', 'min_ANNmuon'})\n",
    "print (variables)"
   ]
  },
  {
   "cell_type": "code",
   "execution_count": 8,
   "metadata": {},
   "outputs": [
    {
     "name": "stdout",
     "output_type": "stream",
     "text": [
      "CPU times: user 55.5 s, sys: 130 ms, total: 55.6 s\n",
      "Wall time: 55.6 s\n"
     ]
    },
    {
     "data": {
      "text/plain": [
       "AdaBoostClassifier(algorithm='SAMME.R',\n",
       "                   base_estimator=DecisionTreeClassifier(ccp_alpha=0.0,\n",
       "                                                         class_weight=None,\n",
       "                                                         criterion='gini',\n",
       "                                                         max_depth=19,\n",
       "                                                         max_features=10,\n",
       "                                                         max_leaf_nodes=None,\n",
       "                                                         min_impurity_decrease=0.0,\n",
       "                                                         min_impurity_split=None,\n",
       "                                                         min_samples_leaf=40,\n",
       "                                                         min_samples_split=2,\n",
       "                                                         min_weight_fraction_leaf=0.0,\n",
       "                                                         presort='deprecated',\n",
       "                                                         random_state=13,\n",
       "                                                         splitter='best'),\n",
       "                   learning_rate=0.009, n_estimators=120, random_state=13)"
      ]
     },
     "execution_count": 8,
     "metadata": {},
     "output_type": "execute_result"
    }
   ],
   "source": [
    "%%time\n",
    "clf = AdaBoostClassifier(n_estimators=120, learning_rate=0.009, random_state=13,\n",
    "                             base_estimator=DecisionTreeClassifier(max_depth=19, min_samples_leaf=40, max_features=10,\n",
    "                                                                    random_state=13))\n",
    "clf.fit(train[variables], train['signal'])"
   ]
  },
  {
   "cell_type": "markdown",
   "metadata": {
    "colab_type": "text",
    "id": "6UbcQp5hs-G3"
   },
   "source": [
    "## Check model quality on half of the training sample"
   ]
  },
  {
   "cell_type": "code",
   "execution_count": 9,
   "metadata": {
    "colab": {},
    "colab_type": "code",
    "id": "XR6_j0u4s-G6"
   },
   "outputs": [],
   "source": [
    "def plot_metrics(y_true, y_pred):\n",
    "    fpr, tpr, thresholds = roc_curve(y_true, y_pred)\n",
    "    roc_auc = roc_auc_score(y_true, y_pred)\n",
    "\n",
    "    plt.plot(fpr, tpr, label='ROC AUC=%f' % roc_auc)\n",
    "    plt.xlabel(\"FPR\")\n",
    "    plt.ylabel(\"TPR\")\n",
    "    plt.legend()\n",
    "    plt.title(\"ROC Curve\")"
   ]
  },
  {
   "cell_type": "code",
   "execution_count": 10,
   "metadata": {
    "colab": {},
    "colab_type": "code",
    "id": "1KoEBskCs-HJ",
    "outputId": "45127379-f9b5-488a-93c2-b46402386b19"
   },
   "outputs": [
    {
     "data": {
      "text/plain": [
       "((20266, 51), (20266,))"
      ]
     },
     "execution_count": 10,
     "metadata": {},
     "output_type": "execute_result"
    },
    {
     "data": {
      "image/png": "[encoded data removed]",
      "text/plain": [
       "<Figure size 432x288 with 1 Axes>"
      ]
     },
     "metadata": {
      "needs_background": "light"
     },
     "output_type": "display_data"
    }
   ],
   "source": [
    "y_pred = clf.predict_proba(test[variables])[:, 1]\n",
    "\n",
    "plot_metrics(test['signal'], y_pred)\n",
    "test.shape, y_pred.shape"
   ]
  },
  {
   "cell_type": "markdown",
   "metadata": {
    "colab_type": "text",
    "id": "vv8Tb2iws-HX"
   },
   "source": [
    "ROC AUC is just a part of the solution, the classifier:\n",
    "\n",
    "- output should also not be correlated with the mass\n",
    "- should perform similarily on MC and real data of the normalisation channel"
   ]
  },
  {
   "cell_type": "markdown",
   "metadata": {
    "colab_type": "text",
    "id": "QbnpY9Dvs-Hb"
   },
   "source": [
    "### Mass correlation check"
   ]
  },
  {
   "cell_type": "code",
   "execution_count": 11,
   "metadata": {
    "colab": {},
    "colab_type": "code",
    "id": "GNkAU8k9s-Hf"
   },
   "outputs": [],
   "source": [
    "df_corr_check = pandas.read_csv(\"reference/check_correlation.csv\")"
   ]
  },
  {
   "cell_type": "code",
   "execution_count": 12,
   "metadata": {
    "colab": {},
    "colab_type": "code",
    "id": "PpakLLqgs-Ht",
    "outputId": "8298887a-f333-4f56-f6f0-4e94e30a10f6"
   },
   "outputs": [
    {
     "data": {
      "text/plain": [
       "(5514, 48)"
      ]
     },
     "execution_count": 12,
     "metadata": {},
     "output_type": "execute_result"
    }
   ],
   "source": [
    "df_corr_check.shape"
   ]
  },
  {
   "cell_type": "code",
   "execution_count": 13,
   "metadata": {
    "colab": {},
    "colab_type": "code",
    "id": "nGLsDGRds-H6"
   },
   "outputs": [],
   "source": [
    "y_pred = clf.predict(df_corr_check[variables])"
   ]
  },
  {
   "cell_type": "code",
   "execution_count": 14,
   "metadata": {
    "colab": {},
    "colab_type": "code",
    "id": "Iikj8B1Qs-IL"
   },
   "outputs": [],
   "source": [
    "def efficiencies(features, thresholds=None, mask=None, bins=30, labels_dict=None, ignored_sideband=0.0,\n",
    "                     errors=False, grid_columns=2):\n",
    "        \"\"\"\n",
    "        Efficiencies for spectators\n",
    "        :param features: using features (if None then use classifier's spectators)\n",
    "        :type features: None or list[str]\n",
    "        :param bins: bins for histogram\n",
    "        :type bins: int or array-like\n",
    "        :param mask: mask for data, which will be used\n",
    "        :type mask: None or numbers.Number or array-like or str or function(pandas.DataFrame)\n",
    "        :param list[float] thresholds: thresholds on prediction\n",
    "        :param bool errors: if True then use errorbar, else interpolate function\n",
    "        :param labels_dict: label -- name for class label\n",
    "            if None then {0: 'bck', '1': 'signal'}\n",
    "        :type labels_dict: None or OrderedDict(int: str)\n",
    "        :param int grid_columns: count of columns in grid\n",
    "        :param float ignored_sideband: (0, 1) percent of plotting data\n",
    "        :rtype: plotting.GridPlot\n",
    "        \"\"\"\n",
    "        mask, data, class_labels, weight = self._apply_mask(\n",
    "            mask, self._get_features(features), self.target, self.weight)\n",
    "        labels_dict = self._check_labels(labels_dict, class_labels)\n",
    "\n",
    "        plots = []\n",
    "        for feature in data.columns:\n",
    "            for name, prediction in self.prediction.items():\n",
    "                prediction = prediction[mask]\n",
    "                eff = OrderedDict()\n",
    "                for label, label_name in labels_dict.items():\n",
    "                    label_mask = class_labels == label\n",
    "                    eff[label_name] = utils.get_efficiencies(prediction[label_mask, label],\n",
    "                                                             data[feature][label_mask].values,\n",
    "                                                             bins_number=bins,\n",
    "                                                             sample_weight=weight[label_mask],\n",
    "                                                             thresholds=thresholds, errors=errors,\n",
    "                                                             ignored_sideband=ignored_sideband)\n",
    "\n",
    "                for label_name, eff_data in eff.items():\n",
    "                    if errors:\n",
    "                        plot_fig = plotting.ErrorPlot(eff_data)\n",
    "                    else:\n",
    "                        plot_fig = plotting.FunctionsPlot(eff_data)\n",
    "                    plot_fig.xlabel = feature\n",
    "                    plot_fig.ylabel = 'Efficiency for {}'.format(name)\n",
    "                    plot_fig.title = '{} flatness'.format(label_name)\n",
    "                    plot_fig.ylim = (0, 1)\n",
    "                    plots.append(plot_fig)\n",
    "\n",
    "        return plotting.GridPlot(grid_columns, *plots)"
   ]
  },
  {
   "cell_type": "code",
   "execution_count": 15,
   "metadata": {
    "colab": {},
    "colab_type": "code",
    "id": "qpRM5SuKs-IU"
   },
   "outputs": [],
   "source": [
    "def check_arrays(*arrays):\n",
    "    \"\"\"\n",
    "    Left for consistency, version of `sklearn.validation.check_arrays`\n",
    "    :param list[iterable] arrays: arrays with same length of first dimension.\n",
    "    \"\"\"\n",
    "    assert len(arrays) > 0, 'The number of array must be greater than zero'\n",
    "    checked_arrays = []\n",
    "    shapes = []\n",
    "    for arr in arrays:\n",
    "        if arr is not None:\n",
    "            checked_arrays.append(numpy.array(arr))\n",
    "            shapes.append(checked_arrays[-1].shape[0])\n",
    "        else:\n",
    "            checked_arrays.append(None)\n",
    "    assert numpy.sum(numpy.array(shapes) == shapes[0]) == len(shapes), 'Different shapes of the arrays {}'.format(\n",
    "        shapes)\n",
    "    return checked_arrays"
   ]
  },
  {
   "cell_type": "code",
   "execution_count": 16,
   "metadata": {
    "colab": {},
    "colab_type": "code",
    "id": "kkis0ClUs-Ie"
   },
   "outputs": [],
   "source": [
    "def get_efficiencies(prediction, spectator, sample_weight=None, bins_number=20,\n",
    "                     thresholds=None, errors=False, ignored_sideband=0.0):\n",
    "    \"\"\"\n",
    "    Construct efficiency function dependent on spectator for each threshold\n",
    "    Different score functions available: Efficiency, Precision, Recall, F1Score,\n",
    "    and other things from sklearn.metrics\n",
    "    :param prediction: list of probabilities\n",
    "    :param spectator: list of spectator's values\n",
    "    :param bins_number: int, count of bins for plot\n",
    "    :param thresholds: list of prediction's threshold\n",
    "        (default=prediction's cuts for which efficiency will be [0.2, 0.4, 0.5, 0.6, 0.8])\n",
    "    :return:\n",
    "        if errors=False\n",
    "        OrderedDict threshold -> (x_values, y_values)\n",
    "        if errors=True\n",
    "        OrderedDict threshold -> (x_values, y_values, y_err, x_err)\n",
    "        All the parts: x_values, y_values, y_err, x_err are numpy.arrays of the same length.\n",
    "    \"\"\"\n",
    "    prediction, spectator, sample_weight = \\\n",
    "        check_arrays(prediction, spectator, sample_weight)\n",
    "\n",
    "    spectator_min, spectator_max = weighted_quantile(spectator, [ignored_sideband, (1. - ignored_sideband)])\n",
    "    mask = (spectator >= spectator_min) & (spectator <= spectator_max)\n",
    "    spectator = spectator[mask]\n",
    "    prediction = prediction[mask]\n",
    "    bins_number = min(bins_number, len(prediction))\n",
    "    sample_weight = sample_weight if sample_weight is None else numpy.array(sample_weight)[mask]\n",
    "\n",
    "    if thresholds is None:\n",
    "        thresholds = [weighted_quantile(prediction, quantiles=1 - eff, sample_weight=sample_weight)\n",
    "                      for eff in [0.2, 0.4, 0.5, 0.6, 0.8]]\n",
    "\n",
    "    binner = Binner(spectator, bins_number=bins_number)\n",
    "    if sample_weight is None:\n",
    "        sample_weight = numpy.ones(len(prediction))\n",
    "    bins_data = binner.split_into_bins(spectator, prediction, sample_weight)\n",
    "\n",
    "    bin_edges = numpy.array([spectator_min] + list(binner.limits) + [spectator_max])\n",
    "    xerr = numpy.diff(bin_edges) / 2.\n",
    "    result = OrderedDict()\n",
    "    for threshold in thresholds:\n",
    "        x_values = []\n",
    "        y_values = []\n",
    "        N_in_bin = []\n",
    "        for num, (masses, probabilities, weights) in enumerate(bins_data):\n",
    "            y_values.append(numpy.average(probabilities > threshold, weights=weights))\n",
    "            N_in_bin.append(numpy.sum(weights))\n",
    "            if errors:\n",
    "                x_values.append((bin_edges[num + 1] + bin_edges[num]) / 2.)\n",
    "            else:\n",
    "                x_values.append(numpy.mean(masses))\n",
    "\n",
    "        x_values, y_values, N_in_bin = check_arrays(x_values, y_values, N_in_bin)\n",
    "        if errors:\n",
    "            result[threshold] = (x_values, y_values, numpy.sqrt(y_values * (1 - y_values) / N_in_bin), xerr)\n",
    "        else:\n",
    "            result[threshold] = (x_values, y_values)\n",
    "    return result"
   ]
  },
  {
   "cell_type": "code",
   "execution_count": 17,
   "metadata": {
    "colab": {},
    "colab_type": "code",
    "id": "OjvfDB8Is-Is"
   },
   "outputs": [],
   "source": [
    "def weighted_quantile(array, quantiles, sample_weight=None, array_sorted=False, old_style=False):\n",
    "    \"\"\"Computing quantiles of array. Unlike the numpy.percentile, this function supports weights,\n",
    "    but it is inefficient and performs complete sorting.\n",
    "    :param array: distribution, array of shape [n_samples]\n",
    "    :param quantiles: floats from range [0, 1] with quantiles of shape [n_quantiles]\n",
    "    :param sample_weight: optional weights of samples, array of shape [n_samples]\n",
    "    :param array_sorted: if True, the sorting step will be skipped\n",
    "    :param old_style: if True, will correct output to be consistent with numpy.percentile.\n",
    "    :return: array of shape [n_quantiles]\n",
    "    Example:\n",
    "    >>> weighted_quantile([1, 2, 3, 4, 5], [0.5])\n",
    "    Out: array([ 3.])\n",
    "    >>> weighted_quantile([1, 2, 3, 4, 5], [0.5], sample_weight=[3, 1, 1, 1, 1])\n",
    "    Out: array([ 2.])\n",
    "    \"\"\"\n",
    "    array = numpy.array(array)\n",
    "    quantiles = numpy.array(quantiles)\n",
    "    sample_weight = check_sample_weight(array, sample_weight)\n",
    "    assert numpy.all(quantiles >= 0) and numpy.all(quantiles <= 1), 'Percentiles should be in [0, 1]'\n",
    "\n",
    "    if not array_sorted:\n",
    "        array, sample_weight = reorder_by_first(array, sample_weight)\n",
    "\n",
    "    weighted_quantiles = numpy.cumsum(sample_weight) - 0.5 * sample_weight\n",
    "    if old_style:\n",
    "        # To be convenient with numpy.percentile\n",
    "        weighted_quantiles -= weighted_quantiles[0]\n",
    "        weighted_quantiles /= weighted_quantiles[-1]\n",
    "    else:\n",
    "        weighted_quantiles /= numpy.sum(sample_weight)\n",
    "    return numpy.interp(quantiles, weighted_quantiles, array)"
   ]
  },
  {
   "cell_type": "code",
   "execution_count": 18,
   "metadata": {
    "colab": {},
    "colab_type": "code",
    "id": "1XAIE50Os-I0"
   },
   "outputs": [],
   "source": [
    "def check_sample_weight(y_true, sample_weight):\n",
    "    \"\"\"Checks the weights, if None, returns array.\n",
    "    :param y_true: labels (or any array of length [n_samples])\n",
    "    :param sample_weight: None or array of length [n_samples]\n",
    "    :return: numpy.array of shape [n_samples]\n",
    "    \"\"\"\n",
    "    if sample_weight is None:\n",
    "        return numpy.ones(len(y_true), dtype=numpy.float)\n",
    "    else:\n",
    "        sample_weight = numpy.array(sample_weight, dtype=numpy.float)\n",
    "        assert len(y_true) == len(sample_weight), \\\n",
    "            \"The length of weights is different: not {0}, but {1}\".format(len(y_true), len(sample_weight))\n",
    "        return sample_weight"
   ]
  },
  {
   "cell_type": "code",
   "execution_count": 19,
   "metadata": {
    "colab": {},
    "colab_type": "code",
    "id": "jQzTjGbls-JA"
   },
   "outputs": [],
   "source": [
    "def reorder_by_first(*arrays):\n",
    "    \"\"\"\n",
    "    Applies the same permutation to all passed arrays,\n",
    "    permutation sorts the first passed array\n",
    "    \"\"\"\n",
    "    arrays = check_arrays(*arrays)\n",
    "    order = numpy.argsort(arrays[0])\n",
    "    return [arr[order] for arr in arrays]\n",
    "\n",
    "class Binner(object):\n",
    "    def __init__(self, values, bins_number):\n",
    "        \"\"\"\n",
    "        Binner is a class that helps to split the values into several bins.\n",
    "        Initially an array of values is given, which is then splitted into 'bins_number' equal parts,\n",
    "        and thus we are computing limits (boundaries of bins).\n",
    "        \"\"\"\n",
    "        percentiles = [i * 100.0 / bins_number for i in range(1, bins_number)]\n",
    "        self.limits = numpy.percentile(values, percentiles)\n",
    "\n",
    "    def get_bins(self, values):\n",
    "        \"\"\"Given the values of feature, compute the index of bin\n",
    "        :param values: array of shape [n_samples]\n",
    "        :return: array of shape [n_samples]\n",
    "        \"\"\"\n",
    "        return numpy.searchsorted(self.limits, values)\n",
    "\n",
    "    def set_limits(self, limits):\n",
    "        \"\"\"Change the thresholds inside bins.\"\"\"\n",
    "        self.limits = limits\n",
    "\n",
    "    @property\n",
    "    def bins_number(self):\n",
    "        \"\"\":return: number of bins\"\"\"\n",
    "        return len(self.limits) + 1\n",
    "\n",
    "    def split_into_bins(self, *arrays):\n",
    "        \"\"\"\n",
    "        :param arrays: data to be splitted, the first array corresponds\n",
    "        :return: sequence of length [n_bins] with values corresponding to each bin.\n",
    "        \"\"\"\n",
    "        values = arrays[0]\n",
    "        for array in arrays:\n",
    "            assert len(array) == len(values), \"passed arrays have different length\"\n",
    "        bins = self.get_bins(values)\n",
    "        result = []\n",
    "        for bin in range(len(self.limits) + 1):\n",
    "            indices = bins == bin\n",
    "            result.append([numpy.array(array)[indices] for array in arrays])\n",
    "        return result\n",
    "from collections import OrderedDict"
   ]
  },
  {
   "cell_type": "code",
   "execution_count": 20,
   "metadata": {
    "colab": {},
    "colab_type": "code",
    "id": "k_Z-UxYRs-JU"
   },
   "outputs": [],
   "source": [
    "eff = get_efficiencies(y_pred, df_corr_check.mass, thresholds=[0.5]) #, thresholds=[0.2, 0.4, 0.5, 0.6, 0.8])"
   ]
  },
  {
   "cell_type": "code",
   "execution_count": 21,
   "metadata": {
    "colab": {},
    "colab_type": "code",
    "id": "9gJV0v2ms-Jd",
    "outputId": "6ba100e0-79e7-4eae-fb26-7d620225c98a"
   },
   "outputs": [
    {
     "data": {
      "text/plain": [
       "odict_keys([0.5])"
      ]
     },
     "execution_count": 21,
     "metadata": {},
     "output_type": "execute_result"
    }
   ],
   "source": [
    "eff.keys()"
   ]
  },
  {
   "cell_type": "code",
   "execution_count": 22,
   "metadata": {
    "colab": {},
    "colab_type": "code",
    "id": "A-suS6rcs-Jj",
    "outputId": "b265c549-50ef-494a-d9e0-75d80bdedfd5"
   },
   "outputs": [
    {
     "data": {
      "image/png": "[encoded data removed]",
      "text/plain": [
       "<Figure size 432x288 with 1 Axes>"
      ]
     },
     "metadata": {
      "needs_background": "light"
     },
     "output_type": "display_data"
    }
   ],
   "source": [
    "for label_name, eff_data in eff.items():\n",
    "    pyplot.plot(eff_data[0], eff_data[1], label=\"global eff  %.1f\" % label_name)\n",
    "pyplot.xlabel('mass')\n",
    "pyplot.ylabel('Efficiency')\n",
    "pyplot.legend();"
   ]
  },
  {
   "cell_type": "code",
   "execution_count": 23,
   "metadata": {
    "colab": {},
    "colab_type": "code",
    "id": "uDJvMPmUs-Jq"
   },
   "outputs": [],
   "source": [
    "from utils import check_correlation"
   ]
  },
  {
   "cell_type": "code",
   "execution_count": 24,
   "metadata": {
    "colab": {},
    "colab_type": "code",
    "id": "VSLeKZTKs-Jx",
    "outputId": "3bac3886-9c18-43ea-a65c-115d0e4eb142"
   },
   "outputs": [
    {
     "name": "stdout",
     "output_type": "stream",
     "text": [
      "0.00016970194719090125\n"
     ]
    }
   ],
   "source": [
    "corr_metric = check_correlation(y_pred, df_corr_check['mass'])\n",
    "print (corr_metric)"
   ]
  },
  {
   "cell_type": "markdown",
   "metadata": {
    "colab_type": "text",
    "id": "pD9f6Vsns-J3"
   },
   "source": [
    "## MC vs Real difference"
   ]
  },
  {
   "cell_type": "code",
   "execution_count": 25,
   "metadata": {
    "colab": {},
    "colab_type": "code",
    "id": "LMYeBIYrs-J5"
   },
   "outputs": [],
   "source": [
    "df_agreement = pandas.read_csv('reference/check_agreement.csv')"
   ]
  },
  {
   "cell_type": "code",
   "execution_count": 26,
   "metadata": {
    "colab": {},
    "colab_type": "code",
    "id": "eiMObOYms-KD"
   },
   "outputs": [],
   "source": [
    "from sklearn.utils.validation import column_or_1d\n",
    "def get_ks_metric(df_agree, df_test):\n",
    "    sig_ind = df_agree[df_agree['signal'] == 1].index\n",
    "    bck_ind = df_agree[df_agree['signal'] == 0].index\n",
    "\n",
    "    mc_prob = numpy.array(df_test.loc[sig_ind]['prediction'])\n",
    "    mc_weight = numpy.array(df_agree.loc[sig_ind]['weight'])\n",
    "    data_prob = numpy.array(df_test.loc[bck_ind]['prediction'])\n",
    "    data_weight = numpy.array(df_agree.loc[bck_ind]['weight'])\n",
    "    val, agreement_metric = check_agreement_ks_sample_weighted(data_prob, mc_prob, data_weight, mc_weight)\n",
    "    return agreement_metric['ks']"
   ]
  },
  {
   "cell_type": "code",
   "execution_count": 27,
   "metadata": {
    "colab": {},
    "colab_type": "code",
    "id": "CP25uG6Es-KI"
   },
   "outputs": [],
   "source": [
    "def check_agreement_ks_sample_weighted (data_prediction, mc_prediction, weights_data, weights_mc):\n",
    "    data_prediction, weights_data = map(column_or_1d, [data_prediction, weights_data])\n",
    "    mc_prediction, weights_mc = map(column_or_1d, [mc_prediction, weights_mc])\n",
    "\n",
    "    assert numpy.all(data_prediction >= 0.) and numpy.all(data_prediction <= 1.), 'error in prediction'\n",
    "    assert numpy.all(mc_prediction >= 0.) and numpy.all(mc_prediction <= 1.), 'error in prediction'\n",
    "\n",
    "    weights_data = weights_data / numpy.sum(weights_data)\n",
    "    weights_mc = weights_mc / numpy.sum(weights_mc)\n",
    "\n",
    "    data_neg = data_prediction[weights_data < 0]\n",
    "    weights_neg = -weights_data[weights_data < 0]\n",
    "    mc_prediction = numpy.concatenate((mc_prediction, data_neg))\n",
    "    weights_mc = numpy.concatenate((weights_mc, weights_neg))\n",
    "    data_prediction = data_prediction[weights_data >= 0]\n",
    "    weights_data = weights_data[weights_data >= 0]\n",
    "\n",
    "    assert numpy.all(weights_data >= 0) and numpy.all(weights_mc >= 0)\n",
    "    assert numpy.allclose(weights_data.sum(), weights_mc.sum())\n",
    "\n",
    "    weights_data /= numpy.sum(weights_data)\n",
    "    weights_mc /= numpy.sum(weights_mc)\n",
    "\n",
    "    fpr, tpr, _ = roc_curve_splitted(data_prediction, mc_prediction, weights_data, weights_mc)\n",
    "\n",
    "    Dnm = numpy.max(numpy.abs(fpr - tpr))\n",
    "    Dnm_part = numpy.max(numpy.abs(fpr - tpr)[fpr + tpr < 1])\n",
    "\n",
    "    result = {'ks': Dnm, 'ks_part': Dnm_part}\n",
    "    return Dnm_part < 0.03, result"
   ]
  },
  {
   "cell_type": "code",
   "execution_count": 28,
   "metadata": {
    "colab": {},
    "colab_type": "code",
    "id": "ES_73UuEs-KQ",
    "outputId": "a8c16736-b085-4a4b-b132-f3fc8aae3770"
   },
   "outputs": [
    {
     "data": {
      "text/plain": [
       "Index(['id', 'LifeTime', 'dira', 'FlightDistance', 'FlightDistanceError', 'IP',\n",
       "       'IPSig', 'VertexChi2', 'pt', 'DOCAone', 'DOCAtwo', 'DOCAthree',\n",
       "       'IP_p0p2', 'IP_p1p2', 'isolationa', 'isolationb', 'isolationc',\n",
       "       'isolationd', 'isolatione', 'isolationf', 'iso', 'CDF1', 'CDF2', 'CDF3',\n",
       "       'ISO_SumBDT', 'p0_IsoBDT', 'p1_IsoBDT', 'p2_IsoBDT', 'p0_track_Chi2Dof',\n",
       "       'p1_track_Chi2Dof', 'p2_track_Chi2Dof', 'p0_IP', 'p1_IP', 'p2_IP',\n",
       "       'p0_IPSig', 'p1_IPSig', 'p2_IPSig', 'p0_pt', 'p1_pt', 'p2_pt', 'p0_p',\n",
       "       'p1_p', 'p2_p', 'p0_eta', 'p1_eta', 'p2_eta', 'SPDhits', 'signal',\n",
       "       'weight'],\n",
       "      dtype='object')"
      ]
     },
     "execution_count": 28,
     "metadata": {},
     "output_type": "execute_result"
    }
   ],
   "source": [
    "df_agreement.columns"
   ]
  },
  {
   "cell_type": "code",
   "execution_count": 29,
   "metadata": {
    "colab": {},
    "colab_type": "code",
    "id": "wdq9b3yFs-KV",
    "outputId": "277cc5dd-ad45-4841-d0b6-a11b3f638192"
   },
   "outputs": [
    {
     "data": {
      "text/html": [
       "<div>\n",
       "<style scoped>\n",
       "    .dataframe tbody tr th:only-of-type {\n",
       "        vertical-align: middle;\n",
       "    }\n",
       "\n",
       "    .dataframe tbody tr th {\n",
       "        vertical-align: top;\n",
       "    }\n",
       "\n",
       "    .dataframe thead th {\n",
       "        text-align: right;\n",
       "    }\n",
       "</style>\n",
       "<table border=\"1\" class=\"dataframe\">\n",
       "  <thead>\n",
       "    <tr style=\"text-align: right;\">\n",
       "      <th></th>\n",
       "      <th>DOCAtwo</th>\n",
       "      <th>isolationd</th>\n",
       "      <th>p1_p</th>\n",
       "      <th>p2_track_Chi2Dof</th>\n",
       "      <th>ISO_SumBDT</th>\n",
       "      <th>IP_p0p2</th>\n",
       "      <th>p2_pt</th>\n",
       "      <th>p0_IsoBDT</th>\n",
       "      <th>p2_IP</th>\n",
       "      <th>IP_p1p2</th>\n",
       "      <th>...</th>\n",
       "      <th>p1_pt</th>\n",
       "      <th>isolationa</th>\n",
       "      <th>FlightDistanceError</th>\n",
       "      <th>p0_track_Chi2Dof</th>\n",
       "      <th>isolatione</th>\n",
       "      <th>p1_IP</th>\n",
       "      <th>p1_eta</th>\n",
       "      <th>p2_IPSig</th>\n",
       "      <th>CDF3</th>\n",
       "      <th>isolationb</th>\n",
       "    </tr>\n",
       "  </thead>\n",
       "  <tbody>\n",
       "    <tr>\n",
       "      <th>0</th>\n",
       "      <td>0.084005</td>\n",
       "      <td>2.0</td>\n",
       "      <td>6380.673828</td>\n",
       "      <td>1.487057</td>\n",
       "      <td>-0.207475</td>\n",
       "      <td>0.185107</td>\n",
       "      <td>834.562378</td>\n",
       "      <td>-0.019306</td>\n",
       "      <td>0.426797</td>\n",
       "      <td>0.214719</td>\n",
       "      <td>...</td>\n",
       "      <td>468.645721</td>\n",
       "      <td>8</td>\n",
       "      <td>0.229196</td>\n",
       "      <td>0.606178</td>\n",
       "      <td>1.0</td>\n",
       "      <td>0.474925</td>\n",
       "      <td>3.302978</td>\n",
       "      <td>8.853514</td>\n",
       "      <td>0.179091</td>\n",
       "      <td>6</td>\n",
       "    </tr>\n",
       "    <tr>\n",
       "      <th>1</th>\n",
       "      <td>0.044154</td>\n",
       "      <td>1.0</td>\n",
       "      <td>64480.023438</td>\n",
       "      <td>1.336784</td>\n",
       "      <td>-0.659644</td>\n",
       "      <td>0.039357</td>\n",
       "      <td>2861.309814</td>\n",
       "      <td>-0.278330</td>\n",
       "      <td>0.123877</td>\n",
       "      <td>0.217507</td>\n",
       "      <td>...</td>\n",
       "      <td>7547.703613</td>\n",
       "      <td>5</td>\n",
       "      <td>0.517488</td>\n",
       "      <td>1.900118</td>\n",
       "      <td>1.0</td>\n",
       "      <td>0.260311</td>\n",
       "      <td>2.834816</td>\n",
       "      <td>7.737038</td>\n",
       "      <td>0.584701</td>\n",
       "      <td>6</td>\n",
       "    </tr>\n",
       "    <tr>\n",
       "      <th>2</th>\n",
       "      <td>0.106614</td>\n",
       "      <td>0.0</td>\n",
       "      <td>3921.181641</td>\n",
       "      <td>0.798658</td>\n",
       "      <td>-0.399239</td>\n",
       "      <td>0.335788</td>\n",
       "      <td>932.128235</td>\n",
       "      <td>-0.115879</td>\n",
       "      <td>1.290409</td>\n",
       "      <td>0.885080</td>\n",
       "      <td>...</td>\n",
       "      <td>317.579529</td>\n",
       "      <td>2</td>\n",
       "      <td>0.219291</td>\n",
       "      <td>0.660675</td>\n",
       "      <td>0.0</td>\n",
       "      <td>1.163556</td>\n",
       "      <td>3.204923</td>\n",
       "      <td>44.521961</td>\n",
       "      <td>0.295038</td>\n",
       "      <td>2</td>\n",
       "    </tr>\n",
       "    <tr>\n",
       "      <th>3</th>\n",
       "      <td>0.038642</td>\n",
       "      <td>0.0</td>\n",
       "      <td>13221.149414</td>\n",
       "      <td>0.938619</td>\n",
       "      <td>-0.821041</td>\n",
       "      <td>0.076522</td>\n",
       "      <td>2617.248291</td>\n",
       "      <td>-0.208248</td>\n",
       "      <td>0.166646</td>\n",
       "      <td>0.068347</td>\n",
       "      <td>...</td>\n",
       "      <td>1650.837524</td>\n",
       "      <td>4</td>\n",
       "      <td>0.167886</td>\n",
       "      <td>0.770563</td>\n",
       "      <td>0.0</td>\n",
       "      <td>0.164411</td>\n",
       "      <td>2.769762</td>\n",
       "      <td>9.630725</td>\n",
       "      <td>0.533615</td>\n",
       "      <td>4</td>\n",
       "    </tr>\n",
       "    <tr>\n",
       "      <th>4</th>\n",
       "      <td>0.020872</td>\n",
       "      <td>0.0</td>\n",
       "      <td>46903.394531</td>\n",
       "      <td>1.123868</td>\n",
       "      <td>-1.116815</td>\n",
       "      <td>0.249906</td>\n",
       "      <td>4763.682617</td>\n",
       "      <td>-0.328938</td>\n",
       "      <td>0.112430</td>\n",
       "      <td>0.139937</td>\n",
       "      <td>...</td>\n",
       "      <td>9657.492188</td>\n",
       "      <td>0</td>\n",
       "      <td>0.284975</td>\n",
       "      <td>1.080559</td>\n",
       "      <td>0.0</td>\n",
       "      <td>0.230584</td>\n",
       "      <td>2.262732</td>\n",
       "      <td>7.389726</td>\n",
       "      <td>0.926410</td>\n",
       "      <td>1</td>\n",
       "    </tr>\n",
       "  </tbody>\n",
       "</table>\n",
       "<p>5 rows × 46 columns</p>\n",
       "</div>"
      ],
      "text/plain": [
       "    DOCAtwo  isolationd          p1_p  p2_track_Chi2Dof  ISO_SumBDT   IP_p0p2  \\\n",
       "0  0.084005         2.0   6380.673828          1.487057   -0.207475  0.185107   \n",
       "1  0.044154         1.0  64480.023438          1.336784   -0.659644  0.039357   \n",
       "2  0.106614         0.0   3921.181641          0.798658   -0.399239  0.335788   \n",
       "3  0.038642         0.0  13221.149414          0.938619   -0.821041  0.076522   \n",
       "4  0.020872         0.0  46903.394531          1.123868   -1.116815  0.249906   \n",
       "\n",
       "         p2_pt  p0_IsoBDT     p2_IP   IP_p1p2  ...        p1_pt  isolationa  \\\n",
       "0   834.562378  -0.019306  0.426797  0.214719  ...   468.645721           8   \n",
       "1  2861.309814  -0.278330  0.123877  0.217507  ...  7547.703613           5   \n",
       "2   932.128235  -0.115879  1.290409  0.885080  ...   317.579529           2   \n",
       "3  2617.248291  -0.208248  0.166646  0.068347  ...  1650.837524           4   \n",
       "4  4763.682617  -0.328938  0.112430  0.139937  ...  9657.492188           0   \n",
       "\n",
       "   FlightDistanceError  p0_track_Chi2Dof  isolatione     p1_IP    p1_eta  \\\n",
       "0             0.229196          0.606178         1.0  0.474925  3.302978   \n",
       "1             0.517488          1.900118         1.0  0.260311  2.834816   \n",
       "2             0.219291          0.660675         0.0  1.163556  3.204923   \n",
       "3             0.167886          0.770563         0.0  0.164411  2.769762   \n",
       "4             0.284975          1.080559         0.0  0.230584  2.262732   \n",
       "\n",
       "    p2_IPSig      CDF3  isolationb  \n",
       "0   8.853514  0.179091           6  \n",
       "1   7.737038  0.584701           6  \n",
       "2  44.521961  0.295038           2  \n",
       "3   9.630725  0.533615           4  \n",
       "4   7.389726  0.926410           1  \n",
       "\n",
       "[5 rows x 46 columns]"
      ]
     },
     "execution_count": 29,
     "metadata": {},
     "output_type": "execute_result"
    }
   ],
   "source": [
    "df_agreement[variables].head()"
   ]
  },
  {
   "cell_type": "code",
   "execution_count": 30,
   "metadata": {
    "colab": {},
    "colab_type": "code",
    "id": "XMwdU5Tns-Kb"
   },
   "outputs": [],
   "source": [
    "def compute_ks(data_prediction, mc_prediction, weights_data, weights_mc):\n",
    "    \"\"\"\n",
    "    Compute Kolmogorov-Smirnov (ks) distance between real data predictions cdf and Monte Carlo one.\n",
    "    :param data_prediction: array-like, real data predictions\n",
    "    :param mc_prediction: array-like, Monte Carlo data predictions\n",
    "    :param weights_data: array-like, real data weights\n",
    "    :param weights_mc: array-like, Monte Carlo weights\n",
    "    :return: ks value\n",
    "    \"\"\"\n",
    "    assert len(data_prediction) == len(weights_data), 'Data length and weight one must be the same'\n",
    "    assert len(mc_prediction) == len(weights_mc), 'Data length and weight one must be the same'\n",
    "\n",
    "    data_prediction, mc_prediction = numpy.array(data_prediction), numpy.array(mc_prediction)\n",
    "    weights_data, weights_mc = numpy.array(weights_data), numpy.array(weights_mc)\n",
    "\n",
    "    assert numpy.all(data_prediction >= 0.) and numpy.all(data_prediction <= 1.), 'Data predictions are out of range [0, 1]'\n",
    "    assert numpy.all(mc_prediction >= 0.) and numpy.all(mc_prediction <= 1.), 'MC predictions are out of range [0, 1]'\n",
    "\n",
    "    weights_data /= numpy.sum(weights_data)\n",
    "    weights_mc /= numpy.sum(weights_mc)\n",
    "\n",
    "    fpr, tpr = __roc_curve_splitted(data_prediction, mc_prediction, weights_data, weights_mc)\n",
    "\n",
    "    Dnm = numpy.max(numpy.abs(fpr - tpr))\n",
    "    return Dnm"
   ]
  },
  {
   "cell_type": "code",
   "execution_count": 31,
   "metadata": {
    "colab": {},
    "colab_type": "code",
    "id": "8CQz-TQPs-Kg"
   },
   "outputs": [],
   "source": [
    "from sklearn.metrics import roc_curve\n",
    "def __roc_curve_splitted(data_zero, data_one, sample_weights_zero, sample_weights_one):\n",
    "    \"\"\"\n",
    "    Compute roc curve\n",
    "    :param data_zero: 0-labeled data\n",
    "    :param data_one:  1-labeled data\n",
    "    :param sample_weights_zero: weights for 0-labeled data\n",
    "    :param sample_weights_one:  weights for 1-labeled data\n",
    "    :return: roc curve\n",
    "    \"\"\"\n",
    "    labels = [0] * len(data_zero) + [1] * len(data_one)\n",
    "    weights = numpy.concatenate([sample_weights_zero, sample_weights_one])\n",
    "    data_all = numpy.concatenate([data_zero, data_one])\n",
    "    fpr, tpr, _ = roc_curve(labels, data_all, sample_weight=weights)\n",
    "    return fpr, tpr"
   ]
  },
  {
   "cell_type": "code",
   "execution_count": 32,
   "metadata": {
    "colab": {},
    "colab_type": "code",
    "id": "IvuOLg2Zs-Kl",
    "outputId": "6a727ac2-3f5a-47b3-9eed-7b4aafe2ad18"
   },
   "outputs": [
    {
     "name": "stdout",
     "output_type": "stream",
     "text": [
      "KS metric: 0.16960350841310906 is OK: False\n"
     ]
    }
   ],
   "source": [
    "agreement_probs = clf.predict_proba(df_agreement[variables])[:, 1]\n",
    "\n",
    "ks = compute_ks(\n",
    "    agreement_probs[df_agreement['signal'].values == 0],\n",
    "    agreement_probs[df_agreement['signal'].values == 1],\n",
    "    df_agreement[df_agreement['signal'] == 0]['weight'].values,\n",
    "    df_agreement[df_agreement['signal'] == 1]['weight'].values)\n",
    "print ('KS metric:', ks, \"is OK:\", ks < 0.09)"
   ]
  },
  {
   "cell_type": "code",
   "execution_count": 33,
   "metadata": {
    "colab": {},
    "colab_type": "code",
    "id": "K9WvDZM1s-Kq"
   },
   "outputs": [],
   "source": [
    "def plot_ks(X_agreement, y_pred):\n",
    "    sig_ind = X_agreement[X_agreement['signal'] == 1].index\n",
    "    bck_ind = X_agreement[X_agreement['signal'] == 0].index\n",
    "\n",
    "    mc_prob = y_pred[sig_ind]\n",
    "    mc_weight = numpy.array(X_agreement.loc[sig_ind]['weight'])\n",
    "    data_prob = y_pred[bck_ind]\n",
    "    data_weight = numpy.array(X_agreement.loc[bck_ind]['weight'])\n",
    "    inds = data_weight < 0\n",
    "    mc_weight = numpy.array(list(mc_weight) + list(-data_weight[inds]))\n",
    "    mc_prob = numpy.array(list(mc_prob) + list(data_prob[inds]))\n",
    "    data_prob = data_prob[data_weight >= 0]\n",
    "    data_weight = data_weight[data_weight >= 0]\n",
    "    hist(data_prob, weights=data_weight, color='r', histtype='step', density=True, bins=60, label='data')\n",
    "    hist(mc_prob, weights=mc_weight, color='b', histtype='step', density=True, bins=60, label='mc')\n",
    "    xlabel(\"prediction\")\n",
    "    legend(loc=2)\n",
    "    show()"
   ]
  },
  {
   "cell_type": "code",
   "execution_count": 34,
   "metadata": {
    "colab": {},
    "colab_type": "code",
    "id": "0Wk3IbWrs-Ky",
    "outputId": "66545691-f095-443a-d2e4-f32fd5b8c8fe"
   },
   "outputs": [
    {
     "data": {
      "image/png": "[encoded data removed]",
      "text/plain": [
       "<Figure size 432x288 with 1 Axes>"
      ]
     },
     "metadata": {
      "needs_background": "light"
     },
     "output_type": "display_data"
    }
   ],
   "source": [
    "plot_ks(df_agreement, agreement_probs)"
   ]
  },
  {
   "cell_type": "markdown",
   "metadata": {
    "colab_type": "text",
    "id": "U1XAIQWKs-K3"
   },
   "source": [
    "### Adding noise to see if there is improvement with the agreement"
   ]
  },
  {
   "cell_type": "code",
   "execution_count": 35,
   "metadata": {
    "colab": {},
    "colab_type": "code",
    "id": "BeRkW9Dvs-K5"
   },
   "outputs": [],
   "source": [
    "def add_noise(array, level=0.15, random_seed=34):\n",
    "    numpy.random.seed(random_seed)\n",
    "    return level * numpy.random.random(size=array.size) + (1 - level) * array"
   ]
  },
  {
   "cell_type": "code",
   "execution_count": 36,
   "metadata": {
    "colab": {},
    "colab_type": "code",
    "id": "m5ksPD-ts-K-"
   },
   "outputs": [],
   "source": [
    "agreement_probs_noise = add_noise(clf.predict_proba(df_agreement[variables])[:, 1])"
   ]
  },
  {
   "cell_type": "code",
   "execution_count": 37,
   "metadata": {
    "colab": {},
    "colab_type": "code",
    "id": "rf9aCQI4s-LE",
    "outputId": "16d751fa-687e-43f8-fb80-529868731e63"
   },
   "outputs": [
    {
     "name": "stdout",
     "output_type": "stream",
     "text": [
      "KS metric: 0.09616629669652388 is OK: False\n"
     ]
    }
   ],
   "source": [
    "ks_noise = compute_ks(\n",
    "    agreement_probs_noise[df_agreement['signal'].values == 0],\n",
    "    agreement_probs_noise[df_agreement['signal'].values == 1],\n",
    "    df_agreement[df_agreement['signal'] == 0]['weight'].values,\n",
    "    df_agreement[df_agreement['signal'] == 1]['weight'].values)\n",
    "print ('KS metric:', ks_noise, \"is OK:\", ks_noise < 0.09)"
   ]
  },
  {
   "cell_type": "code",
   "execution_count": 38,
   "metadata": {
    "colab": {},
    "colab_type": "code",
    "id": "Xex9mc4Xs-LP",
    "outputId": "483e5b06-c4c1-4fe5-f889-2e448dd8c114"
   },
   "outputs": [
    {
     "data": {
      "image/png": "[encoded data removed]",
      "text/plain": [
       "<Figure size 432x288 with 1 Axes>"
      ]
     },
     "metadata": {
      "needs_background": "light"
     },
     "output_type": "display_data"
    }
   ],
   "source": [
    "plot_ks(df_agreement, agreement_probs_noise)"
   ]
  },
  {
   "cell_type": "markdown",
   "metadata": {
    "colab_type": "text",
    "id": "bqZpuc6Vs-LU"
   },
   "source": [
    "### Check ROC with noise"
   ]
  },
  {
   "cell_type": "code",
   "execution_count": 39,
   "metadata": {
    "colab": {},
    "colab_type": "code",
    "id": "NWOW19_us-LW",
    "outputId": "b26ab882-a83d-43cb-863c-763ab60abf0b"
   },
   "outputs": [
    {
     "data": {
      "text/plain": [
       "(20266, 51)"
      ]
     },
     "execution_count": 39,
     "metadata": {},
     "output_type": "execute_result"
    }
   ],
   "source": [
    "test.shape"
   ]
  },
  {
   "cell_type": "code",
   "execution_count": 40,
   "metadata": {
    "colab": {},
    "colab_type": "code",
    "id": "XKKyCBwis-Le",
    "outputId": "9837d444-e671-496b-825d-082dee94f41f"
   },
   "outputs": [
    {
     "data": {
      "text/plain": [
       "((20266, 51), (20266,))"
      ]
     },
     "execution_count": 40,
     "metadata": {},
     "output_type": "execute_result"
    },
    {
     "data": {
      "image/png": "[encoded data removed]",
      "text/plain": [
       "<Figure size 432x288 with 1 Axes>"
      ]
     },
     "metadata": {
      "needs_background": "light"
     },
     "output_type": "display_data"
    }
   ],
   "source": [
    "y_pred = add_noise(clf.predict_proba(test[variables])[:, 1])\n",
    "\n",
    "plot_metrics(test['signal'], y_pred)\n",
    "test.shape, y_pred.shape"
   ]
  },
  {
   "cell_type": "markdown",
   "metadata": {
    "colab_type": "text",
    "id": "oqJmktW7s-Lk"
   },
   "source": [
    "## Train the model using the entire training set"
   ]
  },
  {
   "cell_type": "code",
   "execution_count": 41,
   "metadata": {
    "colab": {},
    "colab_type": "code",
    "id": "eECjcu9is-Lo",
    "outputId": "f36256f8-1405-492b-bfac-cb0af340ac06"
   },
   "outputs": [
    {
     "name": "stdout",
     "output_type": "stream",
     "text": [
      "CPU times: user 1min 29s, sys: 162 ms, total: 1min 30s\n",
      "Wall time: 1min 30s\n"
     ]
    },
    {
     "data": {
      "text/plain": [
       "AdaBoostClassifier(algorithm='SAMME.R',\n",
       "                   base_estimator=DecisionTreeClassifier(ccp_alpha=0.0,\n",
       "                                                         class_weight=None,\n",
       "                                                         criterion='gini',\n",
       "                                                         max_depth=19,\n",
       "                                                         max_features=10,\n",
       "                                                         max_leaf_nodes=None,\n",
       "                                                         min_impurity_decrease=0.0,\n",
       "                                                         min_impurity_split=None,\n",
       "                                                         min_samples_leaf=40,\n",
       "                                                         min_samples_split=2,\n",
       "                                                         min_weight_fraction_leaf=0.0,\n",
       "                                                         presort='deprecated',\n",
       "                                                         random_state=13,\n",
       "                                                         splitter='best'),\n",
       "                   learning_rate=0.009, n_estimators=120, random_state=13)"
      ]
     },
     "execution_count": 41,
     "metadata": {},
     "output_type": "execute_result"
    }
   ],
   "source": [
    "%time clf.fit(train_ada[variables], train_ada['signal'])"
   ]
  },
  {
   "cell_type": "markdown",
   "metadata": {
    "colab_type": "text",
    "id": "joEwrc28s-Lu"
   },
   "source": [
    "### Compute prediction for test set and add noise"
   ]
  },
  {
   "cell_type": "code",
   "execution_count": 42,
   "metadata": {
    "colab": {},
    "colab_type": "code",
    "id": "QUaMKqN7s-Lx"
   },
   "outputs": [],
   "source": [
    "y_pred = add_noise(clf.predict_proba(test_ada[variables])[:, 1])"
   ]
  },
  {
   "cell_type": "markdown",
   "metadata": {
    "colab_type": "text",
    "id": "vbEDbwJ-s-L3"
   },
   "source": [
    "## Prepare submission file"
   ]
  },
  {
   "cell_type": "code",
   "execution_count": 43,
   "metadata": {
    "colab": {},
    "colab_type": "code",
    "id": "_jLkmH8ss-L8"
   },
   "outputs": [],
   "source": [
    "def save_submission(y_pred, index, filename='result'):\n",
    "    sep = ','\n",
    "    filename = '{}.csv.gz'.format(filename)\n",
    "    pandas.DataFrame({'id': index, 'prediction': y_pred}).to_csv(\n",
    "                filename, sep=sep, index=False, compression='gzip')\n",
    "    print (\"Saved file: \", filename, \"\\nShape:\", (y_pred.shape[0], 2))\n",
    "    return filename"
   ]
  },
  {
   "cell_type": "code",
   "execution_count": 44,
   "metadata": {
    "colab": {},
    "colab_type": "code",
    "id": "fJ7Qo_gRs-MC",
    "outputId": "303af37f-d932-4d68-e01e-b160438bb861"
   },
   "outputs": [
    {
     "name": "stdout",
     "output_type": "stream",
     "text": [
      "Saved file:  sample_submission.csv.gz \n",
      "Shape: (855819, 2)\n"
     ]
    },
    {
     "data": {
      "text/plain": [
       "'sample_submission.csv.gz'"
      ]
     },
     "execution_count": 44,
     "metadata": {},
     "output_type": "execute_result"
    }
   ],
   "source": [
    "save_submission(y_pred, test_ada.index, \"sample_submission\")"
   ]
  },
  {
   "cell_type": "code",
   "execution_count": null,
   "metadata": {
    "colab": {},
    "colab_type": "code",
    "id": "OUNIEkW3s-MJ"
   },
   "outputs": [],
   "source": []
  }
 ],
 "metadata": {
  "colab": {
   "name": "index.ipynb",
   "provenance": []
  },
  "kernelspec": {
   "display_name": "Python 3",
   "language": "python",
   "name": "python3"
  },
  "language_info": {
   "codemirror_mode": {
    "name": "ipython",
    "version": 3
   },
   "file_extension": ".py",
   "mimetype": "text/x-python",
   "name": "python",
   "nbconvert_exporter": "python",
   "pygments_lexer": "ipython3",
   "version": "3.7.6"
  }
 },
 "nbformat": 4,
 "nbformat_minor": 1
}
