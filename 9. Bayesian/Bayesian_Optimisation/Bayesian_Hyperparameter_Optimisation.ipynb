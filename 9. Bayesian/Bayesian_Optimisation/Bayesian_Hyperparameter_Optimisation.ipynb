{
 "cells": [
  {
   "cell_type": "markdown",
   "metadata": {
    "colab_type": "text",
    "id": "VC6NsCZTZ882"
   },
   "source": [
    "# Bayesian optimization\n",
    "\n",
    "Here, <a href=\"http://sheffieldml.github.io/GPyOpt/\">GPyOpt</a> library is used to find optimal hyperparameters for the XGBoost and SVR models on the diabetes dataset provided in sklearn."
   ]
  },
  {
   "cell_type": "code",
   "execution_count": 1,
   "metadata": {},
   "outputs": [],
   "source": [
    "#!pip install GPyOpt"
   ]
  },
  {
   "cell_type": "code",
   "execution_count": 2,
   "metadata": {
    "colab": {},
    "colab_type": "code",
    "id": "v2XMGB1HZ89P"
   },
   "outputs": [],
   "source": [
    "import numpy as np\n",
    "import GPy\n",
    "import GPyOpt\n",
    "import matplotlib.pyplot as plt\n",
    "from sklearn.svm import SVR\n",
    "import sklearn.datasets\n",
    "from xgboost import XGBRegressor\n",
    "from sklearn.model_selection import cross_val_score\n",
    "import time\n",
    "%matplotlib inline"
   ]
  },
  {
   "cell_type": "code",
   "execution_count": 3,
   "metadata": {
    "colab": {},
    "colab_type": "code",
    "id": "CcwmXLyDZ8-0"
   },
   "outputs": [],
   "source": [
    "dataset = sklearn.datasets.load_diabetes()\n",
    "X = dataset['data']\n",
    "y = dataset['target']"
   ]
  },
  {
   "cell_type": "markdown",
   "metadata": {
    "colab_type": "text",
    "id": "583SC47jZ8-3"
   },
   "source": [
    "### XGBoost optimisation\n",
    "\n",
    "Cross-validation score will be used to estimate accuracy. The goal is to tune ```max_depth```, ```learning_rate```, and ```n_estimators``` parameters for the XGBoostRegressor algorithm."
   ]
  },
  {
   "cell_type": "code",
   "execution_count": 4,
   "metadata": {
    "colab": {},
    "colab_type": "code",
    "id": "levukTqTZ8-5"
   },
   "outputs": [],
   "source": [
    "#score - optimiser will try to find min, so add a - sign\n",
    "def f(parameters):\n",
    "    parameters = parameters[0]\n",
    "    score = -cross_val_score(\n",
    "        XGBRegressor(learning_rate=parameters[0],\n",
    "                     max_depth=int(parameters[2]),\n",
    "                     n_estimators=int(parameters[3]),\n",
    "                     gamma=int(parameters[1]),\n",
    "                     min_child_weight = parameters[4],\n",
    "                    objective='reg:squarederror'), \n",
    "        X, y, scoring='neg_mean_squared_error'\n",
    "    ).mean()\n",
    "    score = np.array(score)\n",
    "    return score"
   ]
  },
  {
   "cell_type": "code",
   "execution_count": 5,
   "metadata": {
    "colab": {
     "base_uri": "https://localhost:8080/",
     "height": 141
    },
    "colab_type": "code",
    "id": "IklJ2K77Z8-8",
    "outputId": "a081a73f-8ec5-477c-966c-5bbf69408a60"
   },
   "outputs": [
    {
     "data": {
      "text/plain": [
       "3437.074407214106"
      ]
     },
     "execution_count": 5,
     "metadata": {},
     "output_type": "execute_result"
    }
   ],
   "source": [
    "baseline = -cross_val_score(\n",
    "    XGBRegressor(objective='reg:squarederror'), X, y, scoring='neg_mean_squared_error'\n",
    ").mean()\n",
    "baseline"
   ]
  },
  {
   "cell_type": "code",
   "execution_count": 6,
   "metadata": {
    "colab": {},
    "colab_type": "code",
    "id": "p4zsyDBgZ8_D"
   },
   "outputs": [],
   "source": [
    "#bounds - define continuous variables first, then discrete\n",
    "bounds = [    \n",
    "    {'name': 'learning_rate',\n",
    "     'type': 'continuous',\n",
    "     'domain': (0, 1)},\n",
    "\n",
    "    {'name': 'gamma',\n",
    "     'type': 'continuous',\n",
    "     'domain': (0, 5)},\n",
    "\n",
    "    {'name': 'max_depth',\n",
    "     'type': 'discrete',\n",
    "     'domain': (1, 50)},\n",
    "\n",
    "    {'name': 'n_estimators',\n",
    "     'type': 'discrete',\n",
    "     'domain': (1, 300)},\n",
    "\n",
    "    {'name': 'min_child_weight',\n",
    "     'type': 'discrete',\n",
    "     'domain': (1, 10)}\n",
    "]"
   ]
  },
  {
   "cell_type": "code",
   "execution_count": 7,
   "metadata": {
    "colab": {
     "base_uri": "https://localhost:8080/",
     "height": 471
    },
    "colab_type": "code",
    "id": "weyV41JhZ8_G",
    "outputId": "c5b57b7d-22db-4f9e-9d74-ee2db08f14fb",
    "scrolled": false
   },
   "outputs": [],
   "source": [
    "np.random.seed(777)\n",
    "optimizer = GPyOpt.methods.BayesianOptimization(\n",
    "    f=f, domain=bounds,\n",
    "    acquisition_type ='MPI',\n",
    "    acquisition_par = 0.1,\n",
    "    exact_eval=True\n",
    ")"
   ]
  },
  {
   "cell_type": "code",
   "execution_count": 8,
   "metadata": {
    "colab": {
     "base_uri": "https://localhost:8080/",
     "height": 1000
    },
    "colab_type": "code",
    "id": "at9l4L2wZ8_J",
    "outputId": "6ec28e2f-b8bf-45cf-9cf4-0eed00b71bca"
   },
   "outputs": [],
   "source": [
    "max_iter = 50\n",
    "max_time = 60\n",
    "optimizer.run_optimization(max_iter, max_time)"
   ]
  },
  {
   "cell_type": "code",
   "execution_count": 9,
   "metadata": {
    "colab": {
     "base_uri": "https://localhost:8080/",
     "height": 350
    },
    "colab_type": "code",
    "id": "d0CAZJaHZ8_M",
    "outputId": "58514561-cab3-42fa-a3be-385f425eba5e"
   },
   "outputs": [
    {
     "data": {
      "image/png": "[encoded data removed]",
      "text/plain": [
       "<Figure size 720x360 with 2 Axes>"
      ]
     },
     "metadata": {
      "needs_background": "light"
     },
     "output_type": "display_data"
    }
   ],
   "source": [
    "optimizer.plot_convergence()"
   ]
  },
  {
   "cell_type": "markdown",
   "metadata": {
    "colab_type": "text",
    "id": "p9BenvdQZ8_O"
   },
   "source": [
    "Best parameter values:"
   ]
  },
  {
   "cell_type": "code",
   "execution_count": 10,
   "metadata": {
    "colab": {
     "base_uri": "https://localhost:8080/",
     "height": 52
    },
    "colab_type": "code",
    "id": "ZsF2cOP3Z8_P",
    "outputId": "1d6bc315-3b79-4183-f756-a8ab00bc18bc"
   },
   "outputs": [
    {
     "data": {
      "text/plain": [
       "array([4.69015440e-02, 1.17203648e+00, 1.00000000e+00, 3.00000000e+02,\n",
       "       1.00000000e+00])"
      ]
     },
     "execution_count": 10,
     "metadata": {},
     "output_type": "execute_result"
    }
   ],
   "source": [
    "optimizer.X[np.argmin(optimizer.Y)]"
   ]
  },
  {
   "cell_type": "code",
   "execution_count": 11,
   "metadata": {
    "colab": {
     "base_uri": "https://localhost:8080/",
     "height": 34
    },
    "colab_type": "code",
    "id": "VRF2UF2EZ8_S",
    "outputId": "c3ddef1f-5798-4786-c539-ce0b09390990"
   },
   "outputs": [
    {
     "name": "stdout",
     "output_type": "stream",
     "text": [
      "MSE: 3190.9836021374917 Gain: 107.7120673673086\n"
     ]
    }
   ],
   "source": [
    "print('MSE:', np.min(optimizer.Y),\n",
    "      'Gain:', baseline/np.min(optimizer.Y)*100)"
   ]
  },
  {
   "cell_type": "code",
   "execution_count": 12,
   "metadata": {},
   "outputs": [
    {
     "name": "stdout",
     "output_type": "stream",
     "text": [
      "107.7120673673086\n"
     ]
    }
   ],
   "source": [
    "performance_boost = baseline/np.min(optimizer.Y) \n",
    "print(performance_boost*100)"
   ]
  },
  {
   "cell_type": "markdown",
   "metadata": {
    "colab_type": "text",
    "id": "tzhfuuEXZ8_W"
   },
   "source": [
    "### SVR optimisation\n",
    "\n",
    "Now a SVR model will be tuned, by finding optimal values for 3 parameters: `C`, `epsilon` and `gamma`.\n",
    "\n",
    "MPI is used as an acquisition function with weight 0.1."
   ]
  },
  {
   "cell_type": "code",
   "execution_count": 23,
   "metadata": {
    "colab": {},
    "colab_type": "code",
    "id": "nuElsAA2cAlT"
   },
   "outputs": [],
   "source": [
    "def svrModel(parameters):\n",
    "    parameters = parameters[0]\n",
    "    score = -cross_val_score(\n",
    "                SVR(C=parameters[0],\n",
    "                    epsilon=parameters[1],\n",
    "                    gamma=parameters[2]),\n",
    "                X, y, scoring='neg_mean_squared_error').mean()\n",
    "    score = np.array(score)\n",
    "    return score"
   ]
  },
  {
   "cell_type": "code",
   "execution_count": 24,
   "metadata": {
    "colab": {
     "base_uri": "https://localhost:8080/",
     "height": 34
    },
    "colab_type": "code",
    "id": "VCdCcMGTcAoA",
    "outputId": "87702a4a-a579-4028-925b-a75efcf18f4e"
   },
   "outputs": [
    {
     "data": {
      "text/plain": [
       "4976.655882526393"
      ]
     },
     "execution_count": 24,
     "metadata": {},
     "output_type": "execute_result"
    }
   ],
   "source": [
    "baseline = -cross_val_score(SVR(), X, y, scoring='neg_mean_squared_error').mean()\n",
    "baseline"
   ]
  },
  {
   "cell_type": "code",
   "execution_count": 25,
   "metadata": {
    "colab": {},
    "colab_type": "code",
    "id": "dQN41390cAqH"
   },
   "outputs": [],
   "source": [
    "bounds = [\n",
    "            {'name': 'C', 'type': 'continuous', 'domain': (1e-5, 1000)},\n",
    "            {'name': 'epsilon', 'type': 'continuous', 'domain': (1e-5, 10)},\n",
    "            {'name': 'gamma', 'type': 'continuous', 'domain': (1e-5, 10)}\n",
    "         ]"
   ]
  },
  {
   "cell_type": "code",
   "execution_count": 26,
   "metadata": {
    "colab": {},
    "colab_type": "code",
    "id": "VF-_RFZLcE4U"
   },
   "outputs": [],
   "source": [
    "np.random.seed(777)\n",
    "optimizer = GPyOpt.methods.BayesianOptimization(f=svrModel, domain=bounds,\n",
    "                                                acquisition_type ='MPI',\n",
    "                                                acquisition_par = 0.1,\n",
    "                                                exact_eval=True)"
   ]
  },
  {
   "cell_type": "code",
   "execution_count": 27,
   "metadata": {
    "colab": {},
    "colab_type": "code",
    "id": "sUGCNywycFQ3"
   },
   "outputs": [],
   "source": [
    "max_iter = 50\n",
    "max_time = 60\n",
    "optimizer.run_optimization(max_iter, max_time)"
   ]
  },
  {
   "cell_type": "code",
   "execution_count": 28,
   "metadata": {
    "colab": {
     "base_uri": "https://localhost:8080/",
     "height": 350
    },
    "colab_type": "code",
    "id": "dYjqD9ObcImJ",
    "outputId": "f78c7ce9-526f-4558-df8e-b188d5cb65b6"
   },
   "outputs": [
    {
     "data": {
      "image/png": "[encoded data removed]",
      "text/plain": [
       "<Figure size 720x360 with 2 Axes>"
      ]
     },
     "metadata": {
      "needs_background": "light"
     },
     "output_type": "display_data"
    }
   ],
   "source": [
    "optimizer.plot_convergence()"
   ]
  },
  {
   "cell_type": "code",
   "execution_count": 29,
   "metadata": {
    "colab": {
     "base_uri": "https://localhost:8080/",
     "height": 34
    },
    "colab_type": "code",
    "id": "n_hcVJlzcLiM",
    "outputId": "76db931e-6317-468f-85fd-aed68119ac75"
   },
   "outputs": [
    {
     "data": {
      "text/plain": [
       "array([87.86062849,  5.45467014, 10.        ])"
      ]
     },
     "execution_count": 29,
     "metadata": {},
     "output_type": "execute_result"
    }
   ],
   "source": [
    "optimizer.X[np.argmin(optimizer.Y)]"
   ]
  },
  {
   "cell_type": "code",
   "execution_count": 30,
   "metadata": {
    "colab": {
     "base_uri": "https://localhost:8080/",
     "height": 34
    },
    "colab_type": "code",
    "id": "GcA5czXvcOOF",
    "outputId": "58beff41-ede4-4177-9770-f479843954f7"
   },
   "outputs": [
    {
     "name": "stdout",
     "output_type": "stream",
     "text": [
      "MSE: 2916.0271532332617 Gain: 1.7066562212935248\n"
     ]
    }
   ],
   "source": [
    "print('MSE:', np.min(optimizer.Y), 'Gain:', baseline/np.min(optimizer.Y))"
   ]
  },
  {
   "cell_type": "code",
   "execution_count": 31,
   "metadata": {
    "colab": {
     "base_uri": "https://localhost:8080/",
     "height": 34
    },
    "colab_type": "code",
    "id": "rMTprB09Z8_W",
    "outputId": "62d9f552-1dff-4157-a0f9-b6946e9f32f9"
   },
   "outputs": [
    {
     "name": "stdout",
     "output_type": "stream",
     "text": [
      "Best C: 5.454670138446936\n",
      "Best epsilon: 87.8606284873888\n",
      "Best gamma: 10.0\n"
     ]
    }
   ],
   "source": [
    "best_C = optimizer.X[np.argmin(optimizer.Y)][0] \n",
    "best_epsilon = optimizer.X[np.argmin(optimizer.Y)][1] \n",
    "best_gamma = optimizer.X[np.argmin(optimizer.Y)][2] \n",
    "print('Best C:', best_epsilon)\n",
    "print('Best epsilon:', best_C)\n",
    "print('Best gamma:', best_gamma)"
   ]
  },
  {
   "cell_type": "code",
   "execution_count": 32,
   "metadata": {
    "colab": {
     "base_uri": "https://localhost:8080/",
     "height": 34
    },
    "colab_type": "code",
    "id": "U2ixeIemZ8_a",
    "outputId": "7959a418-4bcd-4745-cb18-50394a07e8f9"
   },
   "outputs": [
    {
     "name": "stdout",
     "output_type": "stream",
     "text": [
      "170.66562212935247\n"
     ]
    }
   ],
   "source": [
    "performance_boost = baseline_svr/np.min(optimizer.Y) \n",
    "print(performance_boost*100)"
   ]
  },
  {
   "cell_type": "code",
   "execution_count": null,
   "metadata": {
    "colab": {},
    "colab_type": "code",
    "id": "jzYBxmONcg7M"
   },
   "outputs": [],
   "source": []
  }
 ],
 "metadata": {
  "colab": {
   "name": "Copy of gp_assignment.ipynb",
   "provenance": []
  },
  "kernelspec": {
   "display_name": "Python 3",
   "language": "python",
   "name": "python3"
  },
  "language_info": {
   "codemirror_mode": {
    "name": "ipython",
    "version": 3
   },
   "file_extension": ".py",
   "mimetype": "text/x-python",
   "name": "python",
   "nbconvert_exporter": "python",
   "pygments_lexer": "ipython3",
   "version": "3.7.6"
  },
  "latex_envs": {
   "bibliofile": "biblio.bib",
   "cite_by": "apalike",
   "current_citInitial": 1,
   "eqLabelWithNumbers": true,
   "eqNumInitial": 0
  }
 },
 "nbformat": 4,
 "nbformat_minor": 1
}
