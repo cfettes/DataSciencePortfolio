{
 "cells": [
  {
   "cell_type": "markdown",
   "metadata": {},
   "source": [
    "# Seq2Seq Chatbot using Keras and Chatterbot Data\n",
    "\n",
    "Here, a seq2seq LSTM model will be assembled using Keras Functional API to create a working Chatbot which would answer questions asked to it.\n",
    "\n",
    "## Importing packages"
   ]
  },
  {
   "cell_type": "code",
   "execution_count": 1,
   "metadata": {},
   "outputs": [
    {
     "name": "stdout",
     "output_type": "stream",
     "text": [
      "Tensorflow version 2.0.0\n"
     ]
    }
   ],
   "source": [
    "import numpy as np\n",
    "import tensorflow as tf\n",
    "import pickle\n",
    "from tensorflow.keras import layers, activations, models, preprocessing, utils\n",
    "import os\n",
    "import yaml\n",
    "import requests, zipfile, io\n",
    "import re\n",
    "import tensorflow_datasets as tfds\n",
    "\n",
    "print(\"Tensorflow version {}\".format(tf.__version__))"
   ]
  },
  {
   "cell_type": "markdown",
   "metadata": {},
   "source": [
    "## Preprocessing the data\n",
    "### Download the data\n",
    "\n",
    "The dataset is from chatterbot/english on Kaggle.com by kausr25. It contains pairs of questions and answers based on a number of subjects like food, history, AI etc.\n",
    "\n",
    "The raw data could be found on the following repository: https://github.com/shubham0204/Dataset_Archives\n",
    "\n",
    "Alternatively, the data can be downloaded from kaggle through the following link: https://www.kaggle.com/kausr25/chatterbotenglish"
   ]
  },
  {
   "cell_type": "code",
   "execution_count": 2,
   "metadata": {},
   "outputs": [],
   "source": [
    "r = requests.get('https://github.com/shubham0204/Dataset_Archives/blob/master/chatbot_nlp.zip?raw=true') \n",
    "z = zipfile.ZipFile(io.BytesIO(r.content))\n",
    "z.extractall()"
   ]
  },
  {
   "cell_type": "markdown",
   "metadata": {},
   "source": [
    "### Reading the data from the files\n",
    "\n",
    "Parse each of the .yaml files in the following ways:\n",
    "+ Concatenate two or more sentences if the answer has two or more of them.\n",
    "+ Remove unwanted data types which are produced while parsing the data.\n",
    "+ Append `<START>` and `<END>` to all the answers.\n",
    "+ Create a Tokenizer and load the whole vocabulary ( questions + answers ) into it.\n"
   ]
  },
  {
   "cell_type": "code",
   "execution_count": 3,
   "metadata": {},
   "outputs": [
    {
     "name": "stdout",
     "output_type": "stream",
     "text": [
      "VOCAB SIZE : 1894\n"
     ]
    }
   ],
   "source": [
    "dir_path = 'chatbot_nlp/data'\n",
    "files_list = os.listdir(dir_path + os.sep)\n",
    "\n",
    "questions = list()\n",
    "answers = list()\n",
    "\n",
    "for filepath in files_list:\n",
    "    stream = open(dir_path + os.sep + filepath , 'rb')\n",
    "    docs = yaml.safe_load(stream)\n",
    "    conversations = docs['conversations']\n",
    "    for con in conversations:\n",
    "        if len(con) > 2 :\n",
    "            questions.append(con[0])\n",
    "            replies = con[1:]\n",
    "            ans = ''\n",
    "            for rep in replies:\n",
    "                ans += ' ' + rep\n",
    "            answers.append(ans)\n",
    "        elif len(con)> 1:\n",
    "            questions.append(con[0])\n",
    "            answers.append(con[1])\n",
    "\n",
    "answers_with_tags = list()\n",
    "for i in range(len(answers)):\n",
    "    if type(answers[i]) == str:\n",
    "        answers_with_tags.append(answers[i])\n",
    "    else:\n",
    "        questions.pop(i)\n",
    "\n",
    "answers = list()\n",
    "for i in range(len(answers_with_tags)):\n",
    "    answers.append('<START> ' + answers_with_tags[i] + ' <END>')\n",
    "\n",
    "tokenizer = preprocessing.text.Tokenizer()\n",
    "tokenizer.fit_on_texts(questions + answers)\n",
    "VOCAB_SIZE = len(tokenizer.word_index)+1\n",
    "print('VOCAB SIZE : {}'.format(VOCAB_SIZE))"
   ]
  },
  {
   "cell_type": "markdown",
   "metadata": {},
   "source": [
    "### Preparing data for Seq2Seq model\n",
    "\n",
    "The model requires 3 arrays: encoder_input_data, decoder_input_data and decoder_output_data.\n",
    "\n",
    "+ For encoder_input_data tokenize the questions and pad them to their maximum length.\n",
    "\n",
    "+ For decoder_input_data tokenize the answers and pad them to their maximum length.\n",
    "\n",
    "+ For decoder_output_data tokenize the answers, and remove the first element from all the tokenized_answers - this is the `<START>` element added earlier.\n"
   ]
  },
  {
   "cell_type": "code",
   "execution_count": 4,
   "metadata": {},
   "outputs": [
    {
     "name": "stdout",
     "output_type": "stream",
     "text": [
      "(564, 22) 22\n",
      "(564, 74) 74\n",
      "(564, 74, 1894)\n"
     ]
    }
   ],
   "source": [
    "# encoder_input_data\n",
    "tokenized_questions = tokenizer.texts_to_sequences(questions)\n",
    "maxlen_questions = max([len(x) for x in tokenized_questions])\n",
    "padded_questions = preprocessing.sequence.pad_sequences(tokenized_questions, maxlen=maxlen_questions, padding='post')\n",
    "encoder_input_data = np.array(padded_questions)\n",
    "print(encoder_input_data.shape , maxlen_questions)\n",
    "\n",
    "# decoder_input_data\n",
    "tokenized_answers = tokenizer.texts_to_sequences(answers)\n",
    "maxlen_answers = max([len(x) for x in tokenized_answers])\n",
    "padded_answers = preprocessing.sequence.pad_sequences(tokenized_answers, maxlen=maxlen_answers, padding='post')\n",
    "decoder_input_data = np.array(padded_answers)\n",
    "print(decoder_input_data.shape, maxlen_answers)\n",
    "\n",
    "# decoder_output_data\n",
    "tokenized_answers = tokenizer.texts_to_sequences(answers)\n",
    "for i in range(len(tokenized_answers)):\n",
    "    tokenized_answers[i] = tokenized_answers[i][1:]\n",
    "padded_answers = preprocessing.sequence.pad_sequences(tokenized_answers, maxlen=maxlen_answers, padding='post')\n",
    "onehot_answers = utils.to_categorical(padded_answers, VOCAB_SIZE)\n",
    "decoder_output_data = np.array(onehot_answers)\n",
    "print(decoder_output_data.shape)\n",
    "\n",
    "# Saving all the arrays to storage\n",
    "np.save('enc_in_data.npy', encoder_input_data)\n",
    "np.save('dec_in_data.npy', decoder_input_data)\n",
    "np.save('dec_tar_data.npy', decoder_output_data)"
   ]
  },
  {
   "cell_type": "markdown",
   "metadata": {},
   "source": [
    "## Defining Encoder-Decoder model\n",
    "\n",
    "The model will have Embedding, LSTM and Dense layers. The configuration is as follows:\n",
    "+ 2 Input Layers - one for encoder_input_data and one for decoder_input_data.\n",
    "+ Embedding layer - for converting token vectors to fix sized dense vectors (include the mask_zero = True argument)\n",
    "+ LSTM layer - provide access to Long-Short Term cells.\n",
    "\n",
    "Working :\n",
    "+ Encoder_input_data comes in the Embedding layer (encoder_embedding).\n",
    "+ Output of Embedding layer goes to the LSTM cell which produces 2 state vectors (h and c which are encoder_states). These states are set in the LSTM cell of the decoder.\n",
    "+ Decoder_input_data comes in through Embedding layer.\n",
    "+ Embeddings goes in LSTM cell (which had the states) to produce seqeunces."
   ]
  },
  {
   "cell_type": "code",
   "execution_count": 5,
   "metadata": {},
   "outputs": [
    {
     "name": "stdout",
     "output_type": "stream",
     "text": [
      "Model: \"model\"\n",
      "__________________________________________________________________________________________________\n",
      "Layer (type)                    Output Shape         Param #     Connected to                     \n",
      "==================================================================================================\n",
      "input_1 (InputLayer)            [(None, None)]       0                                            \n",
      "__________________________________________________________________________________________________\n",
      "input_2 (InputLayer)            [(None, None)]       0                                            \n",
      "__________________________________________________________________________________________________\n",
      "embedding (Embedding)           (None, None, 200)    378800      input_1[0][0]                    \n",
      "__________________________________________________________________________________________________\n",
      "embedding_1 (Embedding)         (None, None, 200)    378800      input_2[0][0]                    \n",
      "__________________________________________________________________________________________________\n",
      "lstm (LSTM)                     [(None, 200), (None, 320800      embedding[0][0]                  \n",
      "__________________________________________________________________________________________________\n",
      "lstm_1 (LSTM)                   [(None, None, 200),  320800      embedding_1[0][0]                \n",
      "                                                                 lstm[0][1]                       \n",
      "                                                                 lstm[0][2]                       \n",
      "__________________________________________________________________________________________________\n",
      "dense (Dense)                   (None, None, 1894)   380694      lstm_1[0][0]                     \n",
      "==================================================================================================\n",
      "Total params: 1,779,894\n",
      "Trainable params: 1,779,894\n",
      "Non-trainable params: 0\n",
      "__________________________________________________________________________________________________\n"
     ]
    }
   ],
   "source": [
    "encoder_inputs = tf.keras.layers.Input(shape=(None,))\n",
    "encoder_embedding = tf.keras.layers.Embedding(VOCAB_SIZE, 200, mask_zero=True) (encoder_inputs)\n",
    "encoder_outputs, state_h, state_c = tf.keras.layers.LSTM(200, return_state=True)(encoder_embedding)\n",
    "encoder_states = [state_h, state_c]\n",
    "\n",
    "decoder_inputs = tf.keras.layers.Input(shape=(None, ))\n",
    "decoder_embedding = tf.keras.layers.Embedding(VOCAB_SIZE, 200, mask_zero=True) (decoder_inputs)\n",
    "decoder_lstm = tf.keras.layers.LSTM( 200 , return_state=True , return_sequences=True)\n",
    "decoder_outputs , _ , _ = decoder_lstm (decoder_embedding, initial_state=encoder_states)\n",
    "decoder_dense = tf.keras.layers.Dense(VOCAB_SIZE, activation=tf.keras.activations.softmax) \n",
    "output = decoder_dense (decoder_outputs)\n",
    "\n",
    "model = tf.keras.models.Model([encoder_inputs, decoder_inputs], output)\n",
    "model.compile(optimizer=tf.keras.optimizers.RMSprop(), loss='categorical_crossentropy')\n",
    "\n",
    "model.summary()"
   ]
  },
  {
   "cell_type": "markdown",
   "metadata": {},
   "source": [
    "## Training the model\n",
    "\n",
    "The model is trained for 75 epochs with RMSprop optimiser and categorical_crossentropy loss function."
   ]
  },
  {
   "cell_type": "code",
   "execution_count": 6,
   "metadata": {
    "scrolled": true
   },
   "outputs": [
    {
     "name": "stdout",
     "output_type": "stream",
     "text": [
      "Train on 564 samples\n",
      "Epoch 1/75\n",
      "564/564 [==============================] - 10s 17ms/sample - loss: 1.2946\n",
      "Epoch 2/75\n",
      "564/564 [==============================] - 3s 6ms/sample - loss: 1.1157\n",
      "Epoch 3/75\n",
      "564/564 [==============================] - 3s 5ms/sample - loss: 1.0933\n",
      "Epoch 4/75\n",
      "564/564 [==============================] - 3s 5ms/sample - loss: 1.0744\n",
      "Epoch 5/75\n",
      "564/564 [==============================] - 3s 5ms/sample - loss: 1.0549\n",
      "Epoch 6/75\n",
      "564/564 [==============================] - 3s 5ms/sample - loss: 1.0383\n",
      "Epoch 7/75\n",
      "564/564 [==============================] - 3s 5ms/sample - loss: 1.0234\n",
      "Epoch 8/75\n",
      "564/564 [==============================] - 3s 5ms/sample - loss: 1.0088\n",
      "Epoch 9/75\n",
      "564/564 [==============================] - 3s 5ms/sample - loss: 0.9942\n",
      "Epoch 10/75\n",
      "564/564 [==============================] - 3s 6ms/sample - loss: 0.9813\n",
      "Epoch 11/75\n",
      "564/564 [==============================] - 3s 5ms/sample - loss: 0.9666\n",
      "Epoch 12/75\n",
      "564/564 [==============================] - 3s 5ms/sample - loss: 0.9509\n",
      "Epoch 13/75\n",
      "564/564 [==============================] - 3s 5ms/sample - loss: 0.9358\n",
      "Epoch 14/75\n",
      "564/564 [==============================] - 3s 5ms/sample - loss: 0.9202\n",
      "Epoch 15/75\n",
      "564/564 [==============================] - 3s 5ms/sample - loss: 0.9054\n",
      "Epoch 16/75\n",
      "564/564 [==============================] - 3s 5ms/sample - loss: 0.8896\n",
      "Epoch 17/75\n",
      "564/564 [==============================] - 3s 5ms/sample - loss: 0.8754\n",
      "Epoch 18/75\n",
      "564/564 [==============================] - 3s 5ms/sample - loss: 0.8603\n",
      "Epoch 19/75\n",
      "564/564 [==============================] - 3s 5ms/sample - loss: 0.8475\n",
      "Epoch 20/75\n",
      "564/564 [==============================] - 3s 5ms/sample - loss: 0.8327\n",
      "Epoch 21/75\n",
      "564/564 [==============================] - 3s 5ms/sample - loss: 0.8194\n",
      "Epoch 22/75\n",
      "564/564 [==============================] - 3s 5ms/sample - loss: 0.8077\n",
      "Epoch 23/75\n",
      "564/564 [==============================] - 3s 5ms/sample - loss: 0.7935\n",
      "Epoch 24/75\n",
      "564/564 [==============================] - 3s 5ms/sample - loss: 0.7823\n",
      "Epoch 25/75\n",
      "564/564 [==============================] - 3s 5ms/sample - loss: 0.7694\n",
      "Epoch 26/75\n",
      "564/564 [==============================] - 3s 5ms/sample - loss: 0.7586\n",
      "Epoch 27/75\n",
      "564/564 [==============================] - 3s 5ms/sample - loss: 0.7461\n",
      "Epoch 28/75\n",
      "564/564 [==============================] - 3s 5ms/sample - loss: 0.7368\n",
      "Epoch 29/75\n",
      "564/564 [==============================] - 3s 5ms/sample - loss: 0.7240\n",
      "Epoch 30/75\n",
      "564/564 [==============================] - 3s 5ms/sample - loss: 0.7138\n",
      "Epoch 31/75\n",
      "564/564 [==============================] - 3s 5ms/sample - loss: 0.7021\n",
      "Epoch 32/75\n",
      "564/564 [==============================] - 3s 5ms/sample - loss: 0.6916\n",
      "Epoch 33/75\n",
      "564/564 [==============================] - 3s 5ms/sample - loss: 0.6802\n",
      "Epoch 34/75\n",
      "564/564 [==============================] - 3s 5ms/sample - loss: 0.6715\n",
      "Epoch 35/75\n",
      "564/564 [==============================] - 3s 5ms/sample - loss: 0.6591\n",
      "Epoch 36/75\n",
      "564/564 [==============================] - 3s 5ms/sample - loss: 0.6498\n",
      "Epoch 37/75\n",
      "564/564 [==============================] - 3s 5ms/sample - loss: 0.6390\n",
      "Epoch 38/75\n",
      "564/564 [==============================] - 3s 5ms/sample - loss: 0.6296\n",
      "Epoch 39/75\n",
      "564/564 [==============================] - 3s 5ms/sample - loss: 0.6179\n",
      "Epoch 40/75\n",
      "564/564 [==============================] - 3s 5ms/sample - loss: 0.6080\n",
      "Epoch 41/75\n",
      "564/564 [==============================] - 3s 5ms/sample - loss: 0.5980\n",
      "Epoch 42/75\n",
      "564/564 [==============================] - 3s 5ms/sample - loss: 0.5884\n",
      "Epoch 43/75\n",
      "564/564 [==============================] - 3s 6ms/sample - loss: 0.5790\n",
      "Epoch 44/75\n",
      "564/564 [==============================] - 3s 6ms/sample - loss: 0.5679\n",
      "Epoch 45/75\n",
      "564/564 [==============================] - 3s 6ms/sample - loss: 0.5587\n",
      "Epoch 46/75\n",
      "564/564 [==============================] - 3s 5ms/sample - loss: 0.5473\n",
      "Epoch 47/75\n",
      "564/564 [==============================] - 3s 5ms/sample - loss: 0.5393\n",
      "Epoch 48/75\n",
      "564/564 [==============================] - 3s 5ms/sample - loss: 0.5311\n",
      "Epoch 49/75\n",
      "564/564 [==============================] - 3s 5ms/sample - loss: 0.5188\n",
      "Epoch 50/75\n",
      "564/564 [==============================] - 3s 5ms/sample - loss: 0.5098\n",
      "Epoch 51/75\n",
      "564/564 [==============================] - 3s 5ms/sample - loss: 0.5021\n",
      "Epoch 52/75\n",
      "564/564 [==============================] - 3s 5ms/sample - loss: 0.4922\n",
      "Epoch 53/75\n",
      "564/564 [==============================] - 3s 5ms/sample - loss: 0.4829\n",
      "Epoch 54/75\n",
      "564/564 [==============================] - 3s 5ms/sample - loss: 0.4736\n",
      "Epoch 55/75\n",
      "564/564 [==============================] - 3s 5ms/sample - loss: 0.4643\n",
      "Epoch 56/75\n",
      "564/564 [==============================] - 3s 6ms/sample - loss: 0.4562\n",
      "Epoch 57/75\n",
      "564/564 [==============================] - 3s 6ms/sample - loss: 0.4466\n",
      "Epoch 58/75\n",
      "564/564 [==============================] - 3s 5ms/sample - loss: 0.4382\n",
      "Epoch 59/75\n",
      "564/564 [==============================] - 3s 5ms/sample - loss: 0.4291\n",
      "Epoch 60/75\n",
      "564/564 [==============================] - 3s 5ms/sample - loss: 0.4200\n",
      "Epoch 61/75\n",
      "564/564 [==============================] - 3s 6ms/sample - loss: 0.4124\n",
      "Epoch 62/75\n",
      "564/564 [==============================] - 3s 5ms/sample - loss: 0.4046\n",
      "Epoch 63/75\n",
      "564/564 [==============================] - 3s 5ms/sample - loss: 0.3949\n",
      "Epoch 64/75\n",
      "564/564 [==============================] - 3s 5ms/sample - loss: 0.3863\n",
      "Epoch 65/75\n",
      "564/564 [==============================] - 3s 5ms/sample - loss: 0.3783\n",
      "Epoch 66/75\n",
      "564/564 [==============================] - 3s 5ms/sample - loss: 0.3706\n",
      "Epoch 67/75\n",
      "564/564 [==============================] - 3s 5ms/sample - loss: 0.3629\n",
      "Epoch 68/75\n",
      "564/564 [==============================] - 3s 5ms/sample - loss: 0.3550\n",
      "Epoch 69/75\n",
      "564/564 [==============================] - 3s 5ms/sample - loss: 0.3471\n",
      "Epoch 70/75\n",
      "564/564 [==============================] - 3s 5ms/sample - loss: 0.3384\n",
      "Epoch 71/75\n",
      "564/564 [==============================] - 3s 5ms/sample - loss: 0.3311\n",
      "Epoch 72/75\n",
      "564/564 [==============================] - 3s 5ms/sample - loss: 0.3253\n",
      "Epoch 73/75\n",
      "564/564 [==============================] - 3s 5ms/sample - loss: 0.3160\n",
      "Epoch 74/75\n",
      "564/564 [==============================] - 3s 5ms/sample - loss: 0.3092\n",
      "Epoch 75/75\n",
      "564/564 [==============================] - 3s 5ms/sample - loss: 0.3016\n"
     ]
    }
   ],
   "source": [
    "model.fit([encoder_input_data , decoder_input_data], decoder_output_data, batch_size=50, epochs=75) \n",
    "model.save('model.h5') "
   ]
  },
  {
   "cell_type": "markdown",
   "metadata": {},
   "source": [
    "## Defining inference models\n",
    "\n",
    "Inference models are created, which help in predicting answers.\n",
    "\n",
    "Encoder inference model: Takes the question as input, and outputs LSTM states (h and c).\n",
    "\n",
    "Decoder inference model: Takes in 2 inputs, one being the LSTM states (output of encoder model), second being the answer input seqeunces (ones not having the `<start>` tag). It will output the answers for the question which we fed to the encoder model and its state values."
   ]
  },
  {
   "cell_type": "code",
   "execution_count": 7,
   "metadata": {},
   "outputs": [],
   "source": [
    "def make_inference_models():\n",
    "    \n",
    "    encoder_model = tf.keras.models.Model(encoder_inputs, encoder_states)\n",
    "    \n",
    "    decoder_state_input_h = tf.keras.layers.Input(shape=(200,))\n",
    "    decoder_state_input_c = tf.keras.layers.Input(shape=(200,))\n",
    "    \n",
    "    decoder_states_inputs = [decoder_state_input_h, decoder_state_input_c]\n",
    "    \n",
    "    decoder_outputs, state_h, state_c = decoder_lstm(\n",
    "        decoder_embedding , initial_state=decoder_states_inputs)\n",
    "    decoder_states = [state_h, state_c]\n",
    "    decoder_outputs = decoder_dense(decoder_outputs)\n",
    "    decoder_model = tf.keras.models.Model(\n",
    "        [decoder_inputs] + decoder_states_inputs,\n",
    "        [decoder_outputs] + decoder_states)\n",
    "    \n",
    "    return encoder_model , decoder_model"
   ]
  },
  {
   "cell_type": "markdown",
   "metadata": {},
   "source": [
    "## Talking with the Chatbot\n",
    "\n",
    "A method str_to_tokens is defined, which converts str questions to Integer tokens with padding."
   ]
  },
  {
   "cell_type": "code",
   "execution_count": 8,
   "metadata": {},
   "outputs": [],
   "source": [
    "def str_to_tokens( sentence : str ):\n",
    "    words = sentence.lower().split()\n",
    "    tokens_list = list()\n",
    "    for word in words:\n",
    "        tokens_list.append( tokenizer.word_index[word]) \n",
    "    return preprocessing.sequence.pad_sequences([tokens_list], maxlen=maxlen_questions, padding='post')"
   ]
  },
  {
   "cell_type": "markdown",
   "metadata": {},
   "source": [
    "1. A question is taken as input and state values are predicted using enc_model.\n",
    "2. State values are set in the decoder's LSTM.\n",
    "3. A sequence is generated, which contains the `<start>` element.\n",
    "4. This sequence is inputted in the dec_model.\n",
    "5. The `<start>` element is replaced with the element predicted by the dec_model and state values updated.\n",
    "6. The above steps are carried out iteratively until the `<end>` tag or the maximum answer length is hit."
   ]
  },
  {
   "cell_type": "code",
   "execution_count": 11,
   "metadata": {
    "scrolled": false
   },
   "outputs": [
    {
     "name": "stdout",
     "output_type": "stream",
     "text": [
      "Enter question : hello\n",
      " hi\n",
      "Enter question : what are you doing\n",
      " i am a human emotion i am not yet studied of the ability to get\n",
      "Enter question : what human emotion are you\n",
      " i am a chat robot business\n",
      "Enter question : what business\n",
      " i wouldn't recommend buying on the rings\n",
      "Enter question : where are the rings\n",
      " my favorite subject is chemistry\n",
      "Enter question : what do you do with chemistry\n",
      " i am interested in the chat robot\n",
      "Enter question : are you a chat robot\n",
      " i have a lot of my social bot i am not yet way of you\n",
      "Enter question : you are social then\n",
      " i could use a copy of my artificial states\n",
      "Enter question : what are your artificial states\n",
      " i am interested in the computer i am so i am effectively deathless\n",
      "Enter question : that is good for you\n",
      " a chat robot is a chat bot i am a original chat of a computer it is a computer to try to control a computer to control it\n"
     ]
    }
   ],
   "source": [
    "enc_model, dec_model = make_inference_models()\n",
    "\n",
    "for _ in range(10):\n",
    "    states_values = enc_model.predict(str_to_tokens(input('Enter question : ' )))\n",
    "    empty_target_seq = np.zeros((1, 1))\n",
    "    empty_target_seq[0, 0] = tokenizer.word_index['start']\n",
    "    stop_condition = False\n",
    "    decoded_translation = ''\n",
    "    while not stop_condition :\n",
    "        dec_outputs, h, c = dec_model.predict([empty_target_seq] + states_values)\n",
    "        sampled_word_index = np.argmax(dec_outputs[0, -1, :])\n",
    "        sampled_word = None\n",
    "        for word, index in tokenizer.word_index.items():\n",
    "            if sampled_word_index == index:\n",
    "                sampled_word = word\n",
    "                if sampled_word != 'end':\n",
    "                    decoded_translation += ' {}'.format(sampled_word)\n",
    "        \n",
    "        if sampled_word == 'end' or len(decoded_translation.split()) > maxlen_answers:\n",
    "            stop_condition = True\n",
    "            \n",
    "        empty_target_seq = np.zeros((1, 1))  \n",
    "        empty_target_seq[0, 0] = sampled_word_index\n",
    "        states_values = [h, c] \n",
    "\n",
    "    print(decoded_translation)"
   ]
  },
  {
   "cell_type": "code",
   "execution_count": null,
   "metadata": {},
   "outputs": [],
   "source": []
  }
 ],
 "metadata": {
  "kernelspec": {
   "display_name": "Python 3",
   "language": "python",
   "name": "python3"
  },
  "language_info": {
   "codemirror_mode": {
    "name": "ipython",
    "version": 3
   },
   "file_extension": ".py",
   "mimetype": "text/x-python",
   "name": "python",
   "nbconvert_exporter": "python",
   "pygments_lexer": "ipython3",
   "version": "3.7.6"
  }
 },
 "nbformat": 4,
 "nbformat_minor": 2
}
