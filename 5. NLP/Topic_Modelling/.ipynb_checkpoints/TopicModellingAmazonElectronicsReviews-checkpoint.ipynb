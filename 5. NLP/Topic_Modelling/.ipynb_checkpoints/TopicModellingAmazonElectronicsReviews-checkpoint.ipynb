{
 "cells": [
  {
   "cell_type": "markdown",
   "metadata": {},
   "source": [
    "# LDA Topic Modelling for Amazon Electronics Reviews\n",
    "\n",
    "Topic modelling is a method of finding a topic from the collection of documents that best represents the information in those documents. It enables the discovery of hidden patterns, to annotate documnets and to summarise documents.\n",
    "\n",
    "Topic modelling will be conducted on the Amazon book review dataset, that spans the timeframe May 1996 - July 2014, found here: http://jmcauley.ucsd.edu/data/amazon/\n",
    "\n",
    "This dataset contains review text, ratings and helpfulness votes. For purposes here, only the reviews will be used.\n",
    "\n",
    "The text data will be preprocessed and then used to build the LDA model."
   ]
  },
  {
   "cell_type": "code",
   "execution_count": 1,
   "metadata": {},
   "outputs": [],
   "source": [
    "import pandas as pd\n",
    "import numpy as np\n",
    "import gzip\n",
    "\n",
    "import string\n",
    "import re\n",
    "from pprint import pprint\n",
    "\n",
    "# NLTK \n",
    "from nltk.corpus import stopwords\n",
    "from nltk.stem.wordnet import WordNetLemmatizer\n",
    "from nltk.corpus import stopwords\n",
    "stop_words = stopwords.words('english')\n",
    "\n",
    "# Gensim\n",
    "import gensim\n",
    "import gensim.corpora as corpora\n",
    "from gensim.utils import simple_preprocess\n",
    "from gensim.models import CoherenceModel\n",
    "\n",
    "# spacy for lemmatisation\n",
    "import spacy\n",
    "\n",
    "# Plotting tools\n",
    "import pyLDAvis\n",
    "import pyLDAvis.gensim  \n",
    "import matplotlib.pyplot as plt\n",
    "%matplotlib inline\n",
    "\n",
    "# Enable logging for gensim - optional\n",
    "import logging\n",
    "logging.basicConfig(format='%(asctime)s : %(levelname)s : %(message)s', level=logging.ERROR)\n",
    "\n",
    "import warnings\n",
    "warnings.filterwarnings(\"ignore\", category=DeprecationWarning)"
   ]
  },
  {
   "cell_type": "markdown",
   "metadata": {},
   "source": [
    "## 1. Extract and explore data"
   ]
  },
  {
   "cell_type": "code",
   "execution_count": 2,
   "metadata": {},
   "outputs": [],
   "source": [
    "def parse(path):\n",
    "    g = gzip.open(path, 'rb')\n",
    "    for l in g:\n",
    "        yield eval(l)\n",
    "\n",
    "def get_df(path):\n",
    "    i = 0\n",
    "    df = {}\n",
    "    for d in parse(path):\n",
    "        df[i] = d\n",
    "        i += 1\n",
    "    return pd.DataFrame.from_dict(df, orient='index')"
   ]
  },
  {
   "cell_type": "code",
   "execution_count": 3,
   "metadata": {},
   "outputs": [
    {
     "data": {
      "text/html": [
       "<div>\n",
       "<style scoped>\n",
       "    .dataframe tbody tr th:only-of-type {\n",
       "        vertical-align: middle;\n",
       "    }\n",
       "\n",
       "    .dataframe tbody tr th {\n",
       "        vertical-align: top;\n",
       "    }\n",
       "\n",
       "    .dataframe thead th {\n",
       "        text-align: right;\n",
       "    }\n",
       "</style>\n",
       "<table border=\"1\" class=\"dataframe\">\n",
       "  <thead>\n",
       "    <tr style=\"text-align: right;\">\n",
       "      <th></th>\n",
       "      <th>reviewerID</th>\n",
       "      <th>asin</th>\n",
       "      <th>reviewerName</th>\n",
       "      <th>helpful</th>\n",
       "      <th>reviewText</th>\n",
       "      <th>overall</th>\n",
       "      <th>summary</th>\n",
       "      <th>unixReviewTime</th>\n",
       "      <th>reviewTime</th>\n",
       "    </tr>\n",
       "  </thead>\n",
       "  <tbody>\n",
       "    <tr>\n",
       "      <td>0</td>\n",
       "      <td>AO94DHGC771SJ</td>\n",
       "      <td>0528881469</td>\n",
       "      <td>amazdnu</td>\n",
       "      <td>[0, 0]</td>\n",
       "      <td>We got this GPS for my husband who is an (OTR)...</td>\n",
       "      <td>5.0</td>\n",
       "      <td>Gotta have GPS!</td>\n",
       "      <td>1370131200</td>\n",
       "      <td>06 2, 2013</td>\n",
       "    </tr>\n",
       "    <tr>\n",
       "      <td>1</td>\n",
       "      <td>AMO214LNFCEI4</td>\n",
       "      <td>0528881469</td>\n",
       "      <td>Amazon Customer</td>\n",
       "      <td>[12, 15]</td>\n",
       "      <td>I'm a professional OTR truck driver, and I bou...</td>\n",
       "      <td>1.0</td>\n",
       "      <td>Very Disappointed</td>\n",
       "      <td>1290643200</td>\n",
       "      <td>11 25, 2010</td>\n",
       "    </tr>\n",
       "    <tr>\n",
       "      <td>2</td>\n",
       "      <td>A3N7T0DY83Y4IG</td>\n",
       "      <td>0528881469</td>\n",
       "      <td>C. A. Freeman</td>\n",
       "      <td>[43, 45]</td>\n",
       "      <td>Well, what can I say.  I've had this unit in m...</td>\n",
       "      <td>3.0</td>\n",
       "      <td>1st impression</td>\n",
       "      <td>1283990400</td>\n",
       "      <td>09 9, 2010</td>\n",
       "    </tr>\n",
       "    <tr>\n",
       "      <td>3</td>\n",
       "      <td>A1H8PY3QHMQQA0</td>\n",
       "      <td>0528881469</td>\n",
       "      <td>Dave M. Shaw \"mack dave\"</td>\n",
       "      <td>[9, 10]</td>\n",
       "      <td>Not going to write a long review, even thought...</td>\n",
       "      <td>2.0</td>\n",
       "      <td>Great grafics, POOR GPS</td>\n",
       "      <td>1290556800</td>\n",
       "      <td>11 24, 2010</td>\n",
       "    </tr>\n",
       "    <tr>\n",
       "      <td>4</td>\n",
       "      <td>A24EV6RXELQZ63</td>\n",
       "      <td>0528881469</td>\n",
       "      <td>Wayne Smith</td>\n",
       "      <td>[0, 0]</td>\n",
       "      <td>I've had mine for a year and here's what we go...</td>\n",
       "      <td>1.0</td>\n",
       "      <td>Major issues, only excuses for support</td>\n",
       "      <td>1317254400</td>\n",
       "      <td>09 29, 2011</td>\n",
       "    </tr>\n",
       "  </tbody>\n",
       "</table>\n",
       "</div>"
      ],
      "text/plain": [
       "       reviewerID        asin              reviewerName   helpful  \\\n",
       "0   AO94DHGC771SJ  0528881469                   amazdnu    [0, 0]   \n",
       "1   AMO214LNFCEI4  0528881469           Amazon Customer  [12, 15]   \n",
       "2  A3N7T0DY83Y4IG  0528881469             C. A. Freeman  [43, 45]   \n",
       "3  A1H8PY3QHMQQA0  0528881469  Dave M. Shaw \"mack dave\"   [9, 10]   \n",
       "4  A24EV6RXELQZ63  0528881469               Wayne Smith    [0, 0]   \n",
       "\n",
       "                                          reviewText  overall  \\\n",
       "0  We got this GPS for my husband who is an (OTR)...      5.0   \n",
       "1  I'm a professional OTR truck driver, and I bou...      1.0   \n",
       "2  Well, what can I say.  I've had this unit in m...      3.0   \n",
       "3  Not going to write a long review, even thought...      2.0   \n",
       "4  I've had mine for a year and here's what we go...      1.0   \n",
       "\n",
       "                                  summary  unixReviewTime   reviewTime  \n",
       "0                         Gotta have GPS!      1370131200   06 2, 2013  \n",
       "1                       Very Disappointed      1290643200  11 25, 2010  \n",
       "2                          1st impression      1283990400   09 9, 2010  \n",
       "3                 Great grafics, POOR GPS      1290556800  11 24, 2010  \n",
       "4  Major issues, only excuses for support      1317254400  09 29, 2011  "
      ]
     },
     "execution_count": 3,
     "metadata": {},
     "output_type": "execute_result"
    }
   ],
   "source": [
    "df = get_df('data/reviews_Electronics_5.json.gz')\n",
    "df.head()"
   ]
  },
  {
   "cell_type": "code",
   "execution_count": 4,
   "metadata": {},
   "outputs": [
    {
     "data": {
      "text/plain": [
       "Index(['reviewerID', 'asin', 'reviewerName', 'helpful', 'reviewText',\n",
       "       'overall', 'summary', 'unixReviewTime', 'reviewTime'],\n",
       "      dtype='object')"
      ]
     },
     "execution_count": 4,
     "metadata": {},
     "output_type": "execute_result"
    }
   ],
   "source": [
    "df.columns"
   ]
  },
  {
   "cell_type": "code",
   "execution_count": 5,
   "metadata": {},
   "outputs": [
    {
     "name": "stdout",
     "output_type": "stream",
     "text": [
      "<class 'pandas.core.frame.DataFrame'>\n",
      "Int64Index: 1689188 entries, 0 to 1689187\n",
      "Data columns (total 9 columns):\n",
      "reviewerID        1689188 non-null object\n",
      "asin              1689188 non-null object\n",
      "reviewerName      1664458 non-null object\n",
      "helpful           1689188 non-null object\n",
      "reviewText        1689188 non-null object\n",
      "overall           1689188 non-null float64\n",
      "summary           1689188 non-null object\n",
      "unixReviewTime    1689188 non-null int64\n",
      "reviewTime        1689188 non-null object\n",
      "dtypes: float64(1), int64(1), object(7)\n",
      "memory usage: 128.9+ MB\n"
     ]
    }
   ],
   "source": [
    "df.info()"
   ]
  },
  {
   "cell_type": "code",
   "execution_count": 6,
   "metadata": {},
   "outputs": [
    {
     "data": {
      "text/plain": [
       "'We got this GPS for my husband who is an (OTR) over the road trucker.  Very Impressed with the shipping time, it arrived a few days earlier than expected...  within a week of use however it started freezing up... could of just been a glitch in that unit.  Worked great when it worked!  Will work great for the normal person as well but does have the \"trucker\" option. (the big truck routes - tells you when a scale is coming up ect...)  Love the bigger screen, the ease of use, the ease of putting addresses into memory.  Nothing really bad to say about the unit with the exception of it freezing which is probably one in a million and that\\'s just my luck.  I contacted the seller and within minutes of my email I received a email back with instructions for an exchange! VERY impressed all the way around!'"
      ]
     },
     "execution_count": 6,
     "metadata": {},
     "output_type": "execute_result"
    }
   ],
   "source": [
    "df['reviewText'][0]"
   ]
  },
  {
   "cell_type": "code",
   "execution_count": 7,
   "metadata": {},
   "outputs": [],
   "source": [
    "data = df['reviewText'].values.tolist()"
   ]
  },
  {
   "cell_type": "code",
   "execution_count": 8,
   "metadata": {},
   "outputs": [
    {
     "name": "stdout",
     "output_type": "stream",
     "text": [
      "['We got this GPS for my husband who is an (OTR) over the road trucker.  Very Impressed with the shipping time, it arrived a few days earlier than expected...  within a week of use however it started freezing up... could of just been a glitch in that unit.  Worked great when it worked!  Will work great for the normal person as well but does have the \"trucker\" option. (the big truck routes - tells you when a scale is coming up ect...)  Love the bigger screen, the ease of use, the ease of putting addresses into memory.  Nothing really bad to say about the unit with the exception of it freezing which is probably one in a million and that\\'s just my luck.  I contacted the seller and within minutes of my email I received a email back with instructions for an exchange! VERY impressed all the way around!']\n"
     ]
    }
   ],
   "source": [
    "print(data[:1])"
   ]
  },
  {
   "cell_type": "markdown",
   "metadata": {},
   "source": [
    "## 2. Data Preprocessing\n",
    "\n",
    "The corpus - text reviews - need to be preprocessed. The approach here will involve:\n",
    "+ Tokenizing: converting reviews to their atomic elements\n",
    "+ Stopping: removing meaningless words\n",
    "+ Lemmatise: merging words that are equivalent in meaning\n",
    "\n",
    "### Tokenization"
   ]
  },
  {
   "cell_type": "code",
   "execution_count": 9,
   "metadata": {},
   "outputs": [
    {
     "name": "stdout",
     "output_type": "stream",
     "text": [
      "[['we', 'got', 'this', 'gps', 'for', 'my', 'husband', 'who', 'is', 'an', 'otr', 'over', 'the', 'road', 'trucker', 'very', 'impressed', 'with', 'the', 'shipping', 'time', 'it', 'arrived', 'few', 'days', 'earlier', 'than', 'expected', 'within', 'week', 'of', 'use', 'however', 'it', 'started', 'freezing', 'up', 'could', 'of', 'just', 'been', 'glitch', 'in', 'that', 'unit', 'worked', 'great', 'when', 'it', 'worked', 'will', 'work', 'great', 'for', 'the', 'normal', 'person', 'as', 'well', 'but', 'does', 'have', 'the', 'trucker', 'option', 'the', 'big', 'truck', 'routes', 'tells', 'you', 'when', 'scale', 'is', 'coming', 'up', 'ect', 'love', 'the', 'bigger', 'screen', 'the', 'ease', 'of', 'use', 'the', 'ease', 'of', 'putting', 'addresses', 'into', 'memory', 'nothing', 'really', 'bad', 'to', 'say', 'about', 'the', 'unit', 'with', 'the', 'exception', 'of', 'it', 'freezing', 'which', 'is', 'probably', 'one', 'in', 'million', 'and', 'that', 'just', 'my', 'luck', 'contacted', 'the', 'seller', 'and', 'within', 'minutes', 'of', 'my', 'email', 'received', 'email', 'back', 'with', 'instructions', 'for', 'an', 'exchange', 'very', 'impressed', 'all', 'the', 'way', 'around']]\n"
     ]
    }
   ],
   "source": [
    "def sent_to_words(sentences):\n",
    "    for sentence in sentences:\n",
    "        yield(gensim.utils.simple_preprocess(str(sentence), deacc=True))  # deacc=True removes punctuations\n",
    "\n",
    "data_words = list(sent_to_words(data))\n",
    "\n",
    "print(data_words[:1])"
   ]
  },
  {
   "cell_type": "markdown",
   "metadata": {},
   "source": [
    "### Bigrams & Trigrams\n",
    "\n",
    "Bigrams are two words frequently occurring together in the document. Trigrams are 3 words frequently occurring."
   ]
  },
  {
   "cell_type": "code",
   "execution_count": 12,
   "metadata": {},
   "outputs": [
    {
     "name": "stdout",
     "output_type": "stream",
     "text": [
      "['we', 'got', 'this', 'gps', 'for', 'my', 'husband', 'who', 'is', 'an', 'otr', 'over', 'the', 'road', 'trucker', 'very', 'impressed', 'with', 'the', 'shipping', 'time', 'it', 'arrived', 'few', 'days', 'earlier', 'than', 'expected', 'within', 'week', 'of', 'use', 'however', 'it', 'started', 'freezing', 'up', 'could', 'of', 'just', 'been', 'glitch', 'in', 'that', 'unit', 'worked', 'great', 'when', 'it', 'worked', 'will', 'work', 'great', 'for', 'the', 'normal', 'person', 'as', 'well', 'but', 'does', 'have', 'the', 'trucker', 'option', 'the', 'big', 'truck', 'routes', 'tells', 'you', 'when', 'scale', 'is', 'coming', 'up', 'ect', 'love', 'the', 'bigger', 'screen', 'the', 'ease', 'of', 'use', 'the', 'ease', 'of', 'putting', 'addresses', 'into', 'memory', 'nothing', 'really', 'bad', 'to', 'say', 'about', 'the', 'unit', 'with', 'the', 'exception', 'of', 'it', 'freezing', 'which', 'is', 'probably', 'one', 'in', 'million', 'and', 'that', 'just', 'my', 'luck', 'contacted', 'the', 'seller', 'and', 'within', 'minutes', 'of', 'my', 'email', 'received', 'email', 'back', 'with', 'instructions', 'for', 'an', 'exchange', 'very', 'impressed', 'all', 'the', 'way', 'around']\n"
     ]
    }
   ],
   "source": [
    "#build bigram and trigram models\n",
    "bigram = gensim.models.Phrases(data_words, min_count=5, threshold=100) # higher threshold fewer phrases.\n",
    "trigram = gensim.models.Phrases(bigram[data_words], threshold=100)  \n",
    "\n",
    "#faster way to get a sentence clubbed as a trigram/bigram\n",
    "bigram_mod = gensim.models.phrases.Phraser(bigram)\n",
    "trigram_mod = gensim.models.phrases.Phraser(trigram)\n",
    "\n",
    "# view trigram example\n",
    "print(trigram_mod[bigram_mod[data_words[0]]])"
   ]
  },
  {
   "cell_type": "markdown",
   "metadata": {},
   "source": [
    "### Remove Stop Words, Make Bigrams and Lemmatise"
   ]
  },
  {
   "cell_type": "code",
   "execution_count": 13,
   "metadata": {},
   "outputs": [],
   "source": [
    "#define functions for stopwords, bigrams, trigrams and lemmatization\n",
    "def remove_stopwords(texts):\n",
    "    return [[word for word in simple_preprocess(str(doc)) if word not in stop_words] for doc in texts]\n",
    "\n",
    "def make_bigrams(texts):\n",
    "    return [bigram_mod[doc] for doc in texts]\n",
    "\n",
    "def make_trigrams(texts):\n",
    "    return [trigram_mod[bigram_mod[doc]] for doc in texts]\n",
    "\n",
    "def lemmatization(texts, allowed_postags=['NOUN', 'ADJ', 'VERB', 'ADV']):\n",
    "    texts_out = []\n",
    "    for sent in texts:\n",
    "        doc = nlp(\" \".join(sent)) \n",
    "        texts_out.append([token.lemma_ for token in doc if token.pos_ in allowed_postags])\n",
    "    return texts_out"
   ]
  },
  {
   "cell_type": "code",
   "execution_count": 14,
   "metadata": {},
   "outputs": [],
   "source": [
    "#remove Stop Words\n",
    "data_words_nostops = remove_stopwords(data_words)"
   ]
  },
  {
   "cell_type": "code",
   "execution_count": 15,
   "metadata": {},
   "outputs": [],
   "source": [
    "#form Bigrams\n",
    "data_words_bigrams = make_bigrams(data_words_nostops)"
   ]
  },
  {
   "cell_type": "code",
   "execution_count": 16,
   "metadata": {},
   "outputs": [
    {
     "name": "stdout",
     "output_type": "stream",
     "text": [
      "[['get', 'trucker', 'impress', 'shipping', 'time', 'arrive', 'day', 'earlier', 'expect', 'week', 'use', 'however', 'start', 'freeze', 'could', 'glitch', 'unit', 'work', 'great', 'worked', 'work', 'great', 'normal', 'person', 'trucker', 'option', 'big', 'truck', 'route', 'tell', 'scale', 'come', 'ect', 'love', 'big', 'screen', 'ease', 'use', 'ease', 'putting', 'address', 'memory', 'really', 'bad', 'say', 'unit', 'exception', 'freeze', 'probably', 'luck', 'contact', 'seller', 'minute', 'email', 'receive', 'email', 'instruction', 'exchange', 'impress', 'way', 'around']]\n"
     ]
    }
   ],
   "source": [
    "#initialise spacy model, keeping only tagger component (for efficiency)\n",
    "nlp = spacy.load('en', disable=['parser', 'ner'])\n",
    "\n",
    "#lemmatisation keeping only noun, adj, vb, adv\n",
    "data_lemmatized = lemmatization(data_words_bigrams, allowed_postags=['NOUN', 'ADJ', 'VERB', 'ADV'])\n",
    "\n",
    "print(data_lemmatized[:1])"
   ]
  },
  {
   "cell_type": "markdown",
   "metadata": {},
   "source": [
    "### Create dictionary and corpus required for topic modelling\n",
    "\n",
    "Here tokenised reviews are transformed into an id-term dictionary.\n",
    "\n",
    "Gensim's Dictionary method encapsulates the mapping between normalised words and their integer ids. A term will have an id of some number and in the subsequent bag of words step, that id will have a count associated with it."
   ]
  },
  {
   "cell_type": "code",
   "execution_count": 17,
   "metadata": {},
   "outputs": [],
   "source": [
    "#create dictionary\n",
    "id2word = corpora.Dictionary(data_lemmatized)"
   ]
  },
  {
   "cell_type": "code",
   "execution_count": 18,
   "metadata": {},
   "outputs": [],
   "source": [
    "#create corpus\n",
    "texts = data_lemmatized"
   ]
  },
  {
   "cell_type": "code",
   "execution_count": 19,
   "metadata": {},
   "outputs": [],
   "source": [
    "#term document frequency\n",
    "corpus = [id2word.doc2bow(text) for text in texts]"
   ]
  },
  {
   "cell_type": "code",
   "execution_count": 20,
   "metadata": {},
   "outputs": [
    {
     "name": "stdout",
     "output_type": "stream",
     "text": [
      "Corpus sample:  [[(0, 1), (1, 1), (2, 1), (3, 1), (4, 2), (5, 1), (6, 1), (7, 1), (8, 1), (9, 1), (10, 2), (11, 1), (12, 2), (13, 1), (14, 1), (15, 1), (16, 2), (17, 1), (18, 1), (19, 2), (20, 1), (21, 2), (22, 1), (23, 1), (24, 1), (25, 1), (26, 1), (27, 1), (28, 1), (29, 1), (30, 1), (31, 1), (32, 1), (33, 1), (34, 1), (35, 1), (36, 1), (37, 1), (38, 1), (39, 1), (40, 1), (41, 1), (42, 1), (43, 1), (44, 2), (45, 2), (46, 2), (47, 1), (48, 1), (49, 2), (50, 1)]]\n",
      "ID 0 corresponds to the word:  address\n",
      "Human readable format of corpus (term-frequency):  [[('address', 1), ('around', 1), ('arrive', 1), ('bad', 1), ('big', 2), ('come', 1), ('contact', 1), ('could', 1), ('day', 1), ('earlier', 1), ('ease', 2), ('ect', 1), ('email', 2), ('exception', 1), ('exchange', 1), ('expect', 1), ('freeze', 2), ('get', 1), ('glitch', 1), ('great', 2), ('however', 1), ('impress', 2), ('instruction', 1), ('love', 1), ('luck', 1), ('memory', 1), ('minute', 1), ('normal', 1), ('option', 1), ('person', 1), ('probably', 1), ('putting', 1), ('really', 1), ('receive', 1), ('route', 1), ('say', 1), ('scale', 1), ('screen', 1), ('seller', 1), ('shipping', 1), ('start', 1), ('tell', 1), ('time', 1), ('truck', 1), ('trucker', 2), ('unit', 2), ('use', 2), ('way', 1), ('week', 1), ('work', 2), ('worked', 1)], [('address', 2), ('could', 1), ('get', 5), ('however', 1), ('minute', 2), ('route', 5), ('say', 2), ('tell', 1), ('time', 3), ('truck', 8), ('advise', 1), ('almost', 1), ('area', 1), ('attempt', 1), ('available', 1), ('back', 1), ('block', 1), ('box', 1), ('buy', 1), ('card', 3), ('cell', 2), ('chain', 1), ('chance', 1), ('charge', 1), ('cheap', 1), ('check', 2), ('city', 2), ('completely', 1), ('connect', 1), ('couple', 1), ('cross_country', 1), ('decide', 1), ('detect', 1), ('device', 1), ('driver', 1), ('easy', 2), ('especially', 1), ('exciting', 1), ('figure', 1), ('finally', 1), ('first', 1), ('freeway', 2), ('friend', 1), ('give', 1), ('happen', 1), ('head', 1), ('height', 1), ('highway', 1), ('home', 2), ('hope', 1), ('indeed', 1), ('install', 1), ('intersection', 1), ('laptop', 1), ('length', 1), ('life', 1), ('listen', 1), ('live', 1), ('lose', 1), ('make', 2), ('may', 1), ('money', 1), ('month', 1), ('multiple', 2), ('need', 2), ('next', 2), ('park', 1), ('pass', 1), ('patch', 2), ('phone', 2), ('pick', 1), ('pickup', 1), ('po', 1), ('post', 1), ('preferred', 1), ('printer', 1), ('problem', 1), ('professional', 1), ('program', 3), ('purchase', 1), ('rand_mcnally', 1), ('refuse', 1), ('return', 1), ('run', 1), ('sd', 2), ('sell', 1), ('send', 1), ('sent', 1), ('set', 1), ('several', 1), ('short', 1), ('side', 3), ('software', 2), ('spend', 1), ('stop', 5), ('street', 1), ('surface', 1), ('take', 2), ('thing', 1), ('think', 1), ('tnd', 3), ('trip', 2), ('turn', 1), ('unusual', 1), ('update', 4), ('want', 2), ('weekly', 1), ('yet', 1)]]\n"
     ]
    }
   ],
   "source": [
    "#view sample\n",
    "print('Corpus sample: ', corpus[:1])\n",
    "\n",
    "#to see what word a given id corresponds to, pass id as a key to the dictionary\n",
    "print('ID 0 corresponds to the word: ', id2word[0])\n",
    "\n",
    "# Human readable format of corpus (term-frequency)\n",
    "print('Human readable format of corpus (term-frequency): ', [[(id2word[id], freq) for id, freq in cp] for cp in corpus[:2]])"
   ]
  },
  {
   "cell_type": "markdown",
   "metadata": {},
   "source": [
    "## 3. Building the topic model\n",
    "\n",
    "LDA (Latent Dirichlet Allocation) will be used here. It considers each document as a collection of topics in a certain proportion, and each topic as a collection of keywords in a certain proportion.\n",
    "\n",
    "A topic is considered here as just a collection of dominant keywords that are typical representatives. Just by looking at the keywords, you can identify what the topic is all about. Key factors to obtaining good segregation topics include:\n",
    "+ quality of text processing\n",
    "+ variety of topics the text talks about\n",
    "+ choice of topic modelling algorithm\n",
    "+  number of topics fed to the algorithm\n",
    "+ algorithms tuning parameters\n",
    "\n",
    "For now, the model will be built with 20 topics, where each topic will be a combination of keywords and each keyword contributes a certain weightage to the topic.\n",
    "\n",
    "### 3.1 Gensim's inbuilt version of the LDA algorithm\n",
    "\n",
    "First, a base model will be built using default values to generate a base level cohereence score."
   ]
  },
  {
   "cell_type": "code",
   "execution_count": 21,
   "metadata": {},
   "outputs": [],
   "source": [
    "#build LDA model\n",
    "lda_model = gensim.models.ldamodel.LdaModel(corpus=corpus,\n",
    "                                           id2word=id2word,\n",
    "                                           num_topics=10, \n",
    "                                           random_state=100,\n",
    "                                           update_every=1,\n",
    "                                           chunksize=100,\n",
    "                                           passes=10,\n",
    "                                           alpha='auto',\n",
    "                                           per_word_topics=True)"
   ]
  },
  {
   "cell_type": "code",
   "execution_count": 22,
   "metadata": {},
   "outputs": [
    {
     "name": "stdout",
     "output_type": "stream",
     "text": [
      "[(0,\n",
      "  '0.117*\"record\" + 0.054*\"ready\" + 0.053*\"wife\" + 0.046*\"magnet\" + '\n",
      "  '0.037*\"degree\" + 0.036*\"shape\" + 0.033*\"dock\" + 0.032*\"complain\" + '\n",
      "  '0.029*\"safe\" + 0.024*\"door\"'),\n",
      " (1,\n",
      "  '0.125*\"tv\" + 0.057*\"room\" + 0.041*\"definitely\" + 0.040*\"front\" + '\n",
      "  '0.034*\"protection\" + 0.030*\"channel\" + 0.030*\"attach\" + 0.028*\"similar\" + '\n",
      "  '0.025*\"super\" + 0.023*\"bar\"'),\n",
      " (2,\n",
      "  '0.091*\"work\" + 0.062*\"great\" + 0.059*\"good\" + 0.039*\"need\" + '\n",
      "  '0.039*\"quality\" + 0.038*\"product\" + 0.036*\"easy\" + 0.035*\"price\" + '\n",
      "  '0.035*\"cable\" + 0.034*\"buy\"'),\n",
      " (3,\n",
      "  '0.109*\"support\" + 0.094*\"open\" + 0.078*\"call\" + 0.076*\"image\" + '\n",
      "  '0.057*\"inch\" + 0.046*\"strap\" + 0.029*\"hit\" + 0.026*\"plenty\" + 0.021*\"tight\" '\n",
      "  '+ 0.021*\"link\"'),\n",
      " (4,\n",
      "  '0.065*\"charge\" + 0.064*\"camera\" + 0.054*\"battery\" + 0.039*\"light\" + '\n",
      "  '0.026*\"provide\" + 0.024*\"picture\" + 0.021*\"charger\" + 0.020*\"take\" + '\n",
      "  '0.019*\"hand\" + 0.019*\"mode\"'),\n",
      " (5,\n",
      "  '0.087*\"sound\" + 0.058*\"speaker\" + 0.036*\"headphone\" + 0.034*\"music\" + '\n",
      "  '0.025*\"audio\" + 0.023*\"pair\" + 0.021*\"volume\" + 0.021*\"ear\" + '\n",
      "  '0.018*\"control\" + 0.015*\"bass\"'),\n",
      " (6,\n",
      "  '0.021*\"device\" + 0.019*\"use\" + 0.018*\"time\" + 0.013*\"usb\" + 0.013*\"ipad\" + '\n",
      "  '0.012*\"drive\" + 0.011*\"power\" + 0.010*\"try\" + 0.010*\"card\" + 0.010*\"go\"'),\n",
      " (7,\n",
      "  '0.074*\"case\" + 0.043*\"tablet\" + 0.040*\"keyboard\" + 0.021*\"fit\" + '\n",
      "  '0.019*\"design\" + 0.019*\"hold\" + 0.016*\"end\" + 0.016*\"side\" + 0.015*\"keep\" + '\n",
      "  '0.014*\"top\"'),\n",
      " (8,\n",
      "  '0.076*\"screen\" + 0.049*\"video\" + 0.041*\"feature\" + 0.040*\"button\" + '\n",
      "  '0.030*\"app\" + 0.024*\"file\" + 0.021*\"option\" + 0.021*\"play\" + 0.021*\"touch\" '\n",
      "  '+ 0.020*\"game\"'),\n",
      " (9,\n",
      "  '0.044*\"use\" + 0.024*\"make\" + 0.020*\"also\" + 0.019*\"get\" + 0.018*\"look\" + '\n",
      "  '0.018*\"really\" + 0.017*\"much\" + 0.016*\"would\" + 0.015*\"come\" + '\n",
      "  '0.014*\"want\"')]\n"
     ]
    }
   ],
   "source": [
    "#print keyword in topics\n",
    "pprint(lda_model.print_topics())\n",
    "doc_lda = lda_model[corpus]"
   ]
  },
  {
   "cell_type": "markdown",
   "metadata": {},
   "source": [
    "An interpretation of the above is, for example, topic 0 is represented as '0.117*\"record\" + 0.054*\"ready\" + 0.053*\"wife\" + 0.046*\"magnet\" + ' '0.037*\"degree\" + 0.036*\"shape\" + 0.033*\"dock\" + 0.032*\"complain\" + ' '0.029*\"safe\" + 0.024*\"door\".\n",
    "  \n",
    "This means that the top 10 keywords that contribute to this topic are: record, ready, wife, magnet, degree, shape, dock, complain, safe and door. The numerical values are the weights of the keyword, which reflects how important a keyword is to that topic.\n",
    "\n",
    "Looking at keywords, topics can be inferred."
   ]
  },
  {
   "cell_type": "markdown",
   "metadata": {},
   "source": [
    "#### Model Perplexity and Coherence Score\n",
    "\n",
    "These are measures that judge how good a given topic model is."
   ]
  },
  {
   "cell_type": "code",
   "execution_count": 23,
   "metadata": {},
   "outputs": [
    {
     "name": "stdout",
     "output_type": "stream",
     "text": [
      "\n",
      "Perplexity:  -7.6451873704818825\n",
      "\n",
      "Coherence Score:  0.375982163319497\n"
     ]
    }
   ],
   "source": [
    "#compute perplexity\n",
    "print('\\nPerplexity: ', lda_model.log_perplexity(corpus))  # a measure of how good the model is. lower the better.\n",
    "\n",
    "#compute coherence score\n",
    "coherence_model_lda = CoherenceModel(model=lda_model, texts=data_lemmatized, dictionary=id2word, coherence='c_v')\n",
    "coherence_lda = coherence_model_lda.get_coherence()\n",
    "print('\\nCoherence Score: ', coherence_lda)"
   ]
  },
  {
   "cell_type": "markdown",
   "metadata": {},
   "source": [
    "#### Visualise topics-keywords"
   ]
  },
  {
   "cell_type": "code",
   "execution_count": 24,
   "metadata": {},
   "outputs": [
    {
     "name": "stderr",
     "output_type": "stream",
     "text": [
      "/Users/charlottefettes/opt/anaconda3/lib/python3.7/site-packages/pyLDAvis/_prepare.py:257: FutureWarning: Sorting because non-concatenation axis is not aligned. A future version\n",
      "of pandas will change to not sort by default.\n",
      "\n",
      "To accept the future behavior, pass 'sort=False'.\n",
      "\n",
      "To retain the current behavior and silence the warning, pass 'sort=True'.\n",
      "\n",
      "  return pd.concat([default_term_info] + list(topic_dfs))\n"
     ]
    },
    {
     "data": {
      "text/html": [
       "\n",
       "<link rel=\"stylesheet\" type=\"text/css\" href=\"https://cdn.rawgit.com/bmabey/pyLDAvis/files/ldavis.v1.0.0.css\">\n",
       "\n",
       "\n",
       "<div id=\"ldavis_el20581402730960685604469673872\"></div>\n",
       "<script type=\"text/javascript\">\n",
       "\n",
       "var ldavis_el20581402730960685604469673872_data = {\"mdsDat\": {\"x\": [0.2808160839510447, 0.2452990447698435, 0.012407140477220729, 0.023246342498766292, 0.07209063651210616, 0.07257122275199428, -0.05302510059398718, -0.21367561976121913, -0.21869145056724018, -0.22103830003852873], \"y\": [-0.0338740586188511, -0.23808486038499738, -0.22426957777172155, 0.17219037815253693, 0.23765166496214296, 0.23401466397861456, 0.0027053768691232835, -0.05259120117669749, -0.05108491517045926, -0.046657470839690865], \"topics\": [1, 2, 3, 4, 5, 6, 7, 8, 9, 10], \"cluster\": [1, 1, 1, 1, 1, 1, 1, 1, 1, 1], \"Freq\": [30.267398834228516, 26.10081672668457, 11.849212646484375, 9.067723274230957, 6.670007705688477, 5.709554672241211, 5.566610813140869, 2.375347852706909, 1.5824954509735107, 0.8108307719230652]}, \"tinfo\": {\"Category\": [\"Default\", \"Default\", \"Default\", \"Default\", \"Default\", \"Default\", \"Default\", \"Default\", \"Default\", \"Default\", \"Default\", \"Default\", \"Default\", \"Default\", \"Default\", \"Default\", \"Default\", \"Default\", \"Default\", \"Default\", \"Default\", \"Default\", \"Default\", \"Default\", \"Default\", \"Default\", \"Default\", \"Default\", \"Default\", \"Default\", \"Topic1\", \"Topic1\", \"Topic1\", \"Topic1\", \"Topic1\", \"Topic1\", \"Topic1\", \"Topic1\", \"Topic1\", \"Topic1\", \"Topic1\", \"Topic1\", \"Topic1\", \"Topic1\", \"Topic1\", \"Topic1\", \"Topic1\", \"Topic1\", \"Topic1\", \"Topic1\", \"Topic1\", \"Topic1\", \"Topic1\", \"Topic1\", \"Topic1\", \"Topic1\", \"Topic1\", \"Topic1\", \"Topic1\", \"Topic1\", \"Topic1\", \"Topic1\", \"Topic1\", \"Topic1\", \"Topic1\", \"Topic1\", \"Topic1\", \"Topic1\", \"Topic2\", \"Topic2\", \"Topic2\", \"Topic2\", \"Topic2\", \"Topic2\", \"Topic2\", \"Topic2\", \"Topic2\", \"Topic2\", \"Topic2\", \"Topic2\", \"Topic2\", \"Topic2\", \"Topic2\", \"Topic2\", \"Topic2\", \"Topic2\", \"Topic2\", \"Topic2\", \"Topic2\", \"Topic2\", \"Topic2\", \"Topic2\", \"Topic2\", \"Topic2\", \"Topic2\", \"Topic2\", \"Topic2\", \"Topic2\", \"Topic2\", \"Topic2\", \"Topic2\", \"Topic2\", \"Topic2\", \"Topic2\", \"Topic2\", \"Topic2\", \"Topic2\", \"Topic2\", \"Topic2\", \"Topic2\", \"Topic2\", \"Topic2\", \"Topic2\", \"Topic2\", \"Topic2\", \"Topic3\", \"Topic3\", \"Topic3\", \"Topic3\", \"Topic3\", \"Topic3\", \"Topic3\", \"Topic3\", \"Topic3\", \"Topic3\", \"Topic3\", \"Topic3\", \"Topic3\", \"Topic3\", \"Topic3\", \"Topic3\", \"Topic3\", \"Topic3\", \"Topic3\", \"Topic3\", \"Topic3\", \"Topic3\", \"Topic3\", \"Topic3\", \"Topic3\", \"Topic3\", \"Topic3\", \"Topic3\", \"Topic3\", \"Topic3\", \"Topic3\", \"Topic3\", \"Topic3\", \"Topic3\", \"Topic3\", \"Topic3\", \"Topic3\", \"Topic3\", \"Topic3\", \"Topic3\", \"Topic4\", \"Topic4\", \"Topic4\", \"Topic4\", \"Topic4\", \"Topic4\", \"Topic4\", \"Topic4\", \"Topic4\", \"Topic4\", \"Topic4\", \"Topic4\", \"Topic4\", \"Topic4\", \"Topic4\", \"Topic4\", \"Topic4\", \"Topic4\", \"Topic4\", \"Topic4\", \"Topic4\", \"Topic4\", \"Topic4\", \"Topic4\", \"Topic4\", \"Topic4\", \"Topic4\", \"Topic4\", \"Topic4\", \"Topic4\", \"Topic4\", \"Topic4\", \"Topic4\", \"Topic4\", \"Topic5\", \"Topic5\", \"Topic5\", \"Topic5\", \"Topic5\", \"Topic5\", \"Topic5\", \"Topic5\", \"Topic5\", \"Topic5\", \"Topic5\", \"Topic5\", \"Topic5\", \"Topic5\", \"Topic5\", \"Topic5\", \"Topic5\", \"Topic5\", \"Topic5\", \"Topic5\", \"Topic5\", \"Topic5\", \"Topic5\", \"Topic5\", \"Topic5\", \"Topic5\", \"Topic5\", \"Topic5\", \"Topic5\", \"Topic5\", \"Topic5\", \"Topic5\", \"Topic5\", \"Topic5\", \"Topic5\", \"Topic5\", \"Topic5\", \"Topic5\", \"Topic5\", \"Topic5\", \"Topic5\", \"Topic5\", \"Topic6\", \"Topic6\", \"Topic6\", \"Topic6\", \"Topic6\", \"Topic6\", \"Topic6\", \"Topic6\", \"Topic6\", \"Topic6\", \"Topic6\", \"Topic6\", \"Topic6\", \"Topic6\", \"Topic6\", \"Topic6\", \"Topic6\", \"Topic6\", \"Topic6\", \"Topic6\", \"Topic6\", \"Topic6\", \"Topic6\", \"Topic6\", \"Topic6\", \"Topic6\", \"Topic6\", \"Topic6\", \"Topic6\", \"Topic6\", \"Topic6\", \"Topic6\", \"Topic6\", \"Topic6\", \"Topic6\", \"Topic6\", \"Topic6\", \"Topic6\", \"Topic6\", \"Topic7\", \"Topic7\", \"Topic7\", \"Topic7\", \"Topic7\", \"Topic7\", \"Topic7\", \"Topic7\", \"Topic7\", \"Topic7\", \"Topic7\", \"Topic7\", \"Topic7\", \"Topic7\", \"Topic7\", \"Topic7\", \"Topic7\", \"Topic7\", \"Topic7\", \"Topic7\", \"Topic7\", \"Topic7\", \"Topic7\", \"Topic7\", \"Topic7\", \"Topic7\", \"Topic7\", \"Topic7\", \"Topic7\", \"Topic7\", \"Topic7\", \"Topic7\", \"Topic7\", \"Topic7\", \"Topic7\", \"Topic7\", \"Topic8\", \"Topic8\", \"Topic8\", \"Topic8\", \"Topic8\", \"Topic8\", \"Topic8\", \"Topic8\", \"Topic8\", \"Topic8\", \"Topic8\", \"Topic8\", \"Topic8\", \"Topic8\", \"Topic8\", \"Topic8\", \"Topic8\", \"Topic8\", \"Topic8\", \"Topic8\", \"Topic8\", \"Topic8\", \"Topic8\", \"Topic8\", \"Topic8\", \"Topic8\", \"Topic8\", \"Topic8\", \"Topic8\", \"Topic8\", \"Topic9\", \"Topic9\", \"Topic9\", \"Topic9\", \"Topic9\", \"Topic9\", \"Topic9\", \"Topic9\", \"Topic9\", \"Topic9\", \"Topic9\", \"Topic9\", \"Topic9\", \"Topic9\", \"Topic9\", \"Topic9\", \"Topic9\", \"Topic9\", \"Topic9\", \"Topic9\", \"Topic9\", \"Topic9\", \"Topic9\", \"Topic9\", \"Topic9\", \"Topic9\", \"Topic9\", \"Topic9\", \"Topic9\", \"Topic9\", \"Topic10\", \"Topic10\", \"Topic10\", \"Topic10\", \"Topic10\", \"Topic10\", \"Topic10\", \"Topic10\", \"Topic10\", \"Topic10\", \"Topic10\", \"Topic10\", \"Topic10\", \"Topic10\", \"Topic10\", \"Topic10\", \"Topic10\", \"Topic10\", \"Topic10\", \"Topic10\", \"Topic10\", \"Topic10\", \"Topic10\", \"Topic10\", \"Topic10\", \"Topic10\", \"Topic10\", \"Topic10\", \"Topic10\", \"Topic10\"], \"Freq\": [877352.0, 546754.0, 599065.0, 710053.0, 405034.0, 346628.0, 354868.0, 1394217.0, 348262.0, 241911.0, 457797.0, 601315.0, 293070.0, 370360.0, 271569.0, 393307.0, 316067.0, 336328.0, 335319.0, 331214.0, 293315.0, 393342.0, 502852.0, 221889.0, 524931.0, 292925.0, 141466.0, 214291.0, 220287.0, 394578.0, 524931.3125, 438491.21875, 323398.75, 312776.40625, 301897.40625, 275535.625, 255467.921875, 248725.484375, 230394.921875, 218785.5625, 205859.890625, 199514.9375, 207813.71875, 189960.203125, 199778.8125, 189026.875, 186984.953125, 184957.4375, 173068.609375, 162763.4375, 151109.8125, 149114.640625, 147244.078125, 139899.328125, 140586.515625, 136127.421875, 136559.71875, 134882.21875, 130464.7578125, 121102.6875, 168296.71875, 154754.96875, 209755.5625, 464138.875, 188436.828125, 243271.15625, 218480.6875, 159828.015625, 502852.25, 380979.53125, 394577.5, 354160.875, 262597.53125, 268343.46875, 254861.046875, 230366.765625, 214225.453125, 196363.265625, 190205.203125, 184452.0625, 181493.953125, 177002.484375, 170987.390625, 161829.828125, 165694.15625, 165745.828125, 165961.34375, 154477.046875, 127395.203125, 124558.8828125, 117271.4609375, 113247.8125, 107323.875, 105283.828125, 102191.9375, 87533.5, 86962.515625, 85690.8984375, 209642.46875, 151673.109375, 327192.4375, 248898.515625, 284358.4375, 207001.84375, 424642.9375, 305990.71875, 930077.75, 401279.65625, 333295.6875, 231590.015625, 271616.03125, 189068.4375, 181079.1875, 191705.09375, 194404.703125, 599065.25, 370360.28125, 336327.6875, 335319.0, 331213.46875, 292924.6875, 213826.78125, 877349.625, 119757.5, 112738.703125, 100123.375, 87585.8125, 87485.3203125, 88282.53125, 84938.6796875, 82519.5703125, 82241.859375, 83532.9296875, 82097.265625, 79707.8984375, 70436.953125, 63283.80859375, 62072.71875, 60414.31640625, 57613.4921875, 56042.86328125, 54103.94140625, 52323.625, 52597.94140625, 50270.9453125, 380577.96875, 351430.15625, 112970.6015625, 381817.4375, 567240.3125, 329698.46875, 99364.7109375, 102860.140625, 182387.78125, 80025.9765625, 546753.4375, 316067.40625, 293315.15625, 158938.09375, 141630.078125, 119072.5078125, 120286.65625, 104634.2890625, 102274.796875, 97550.2578125, 97626.328125, 94400.8125, 86394.2578125, 82995.171875, 80316.3984375, 77525.0078125, 75143.4609375, 71437.9765625, 69259.6953125, 64311.3515625, 62023.2421875, 61256.53125, 59573.28515625, 61172.17578125, 59801.8203125, 59715.921875, 58214.43359375, 56424.6640625, 46269.93359375, 44243.08203125, 144443.53125, 111146.703125, 60025.22265625, 81467.4609375, 348262.0, 354868.375, 293070.21875, 214291.234375, 140325.9375, 130702.40625, 115710.7109375, 105423.203125, 68941.3203125, 55600.10546875, 52093.31640625, 51159.0859375, 46829.5859375, 46702.76171875, 45763.94140625, 44575.08984375, 41920.1015625, 35963.10546875, 32701.111328125, 30967.2265625, 30367.46875, 28806.017578125, 28257.74609375, 27786.5, 26654.8203125, 26732.19140625, 26293.216796875, 26118.833984375, 23407.724609375, 20919.73828125, 20931.60546875, 105927.2734375, 52905.67578125, 70541.3515625, 36890.59765625, 109360.140625, 51581.859375, 39042.7109375, 41681.46875, 34684.48046875, 33785.97265625, 32324.712890625, 405033.625, 271569.375, 166039.484375, 157685.734375, 117011.5625, 108711.5390625, 98856.953125, 99455.453125, 71700.828125, 69166.421875, 62556.9453125, 59940.4609375, 54086.4296875, 43950.54296875, 39091.04296875, 38465.44921875, 37867.234375, 37278.82421875, 36417.23046875, 32608.53125, 25880.392578125, 23556.76953125, 20824.96484375, 20854.16796875, 20296.638671875, 19746.232421875, 18878.33984375, 17664.494140625, 17539.966796875, 17167.708984375, 36824.7421875, 82548.890625, 67228.8359375, 69689.0546875, 33635.24609375, 51428.0703125, 37678.0390625, 28410.466796875, 28499.6015625, 346627.65625, 221888.6875, 179997.921875, 135550.046875, 111334.3203125, 96975.671875, 95386.90625, 90132.0, 88184.6796875, 88242.4453125, 84833.6484375, 82201.140625, 70469.4140625, 60228.35546875, 55650.36328125, 55942.78125, 54243.62890625, 51099.7421875, 47347.08203125, 43611.4609375, 35668.546875, 34839.1015625, 34869.53125, 33881.49609375, 33841.9453125, 33702.07421875, 32724.73828125, 32924.24609375, 30503.810546875, 29991.212890625, 186501.09375, 96339.8046875, 60442.20703125, 60132.015625, 42750.8046875, 41911.62109375, 241910.734375, 110316.625, 79719.3359375, 78610.3359375, 65604.4921875, 58578.53515625, 57943.734375, 55074.12109375, 49411.43359375, 44305.56640625, 38740.3671875, 38699.04296875, 37281.21875, 36651.0546875, 35103.89453125, 34055.71484375, 34358.11328125, 33726.140625, 33273.421875, 33163.4765625, 30106.3671875, 29392.119140625, 26554.923828125, 26620.125, 26277.15234375, 24247.66015625, 23735.255859375, 22254.208984375, 21066.26171875, 19588.724609375, 141466.0, 121413.6953125, 98746.6171875, 100406.359375, 73206.890625, 59788.171875, 37248.328125, 33117.7734375, 27204.095703125, 26666.77734375, 25798.88671875, 23798.19921875, 23341.341796875, 22014.0625, 20626.970703125, 20442.9140625, 17512.771484375, 16889.955078125, 16756.033203125, 15045.353515625, 14473.1083984375, 12277.318359375, 11797.7958984375, 11791.9599609375, 11338.994140625, 10175.064453125, 9789.23046875, 9549.9091796875, 9035.052734375, 8105.38525390625, 77849.140625, 35654.21875, 35148.48046875, 30182.890625, 24378.498046875, 23675.974609375, 21851.283203125, 21440.662109375, 19431.62890625, 16144.8125, 13620.591796875, 13637.986328125, 13422.490234375, 12674.392578125, 10766.642578125, 10599.68359375, 10251.4404296875, 8451.3046875, 6808.19970703125, 6666.88037109375, 6682.70751953125, 6633.84375, 6656.12841796875, 6565.65576171875, 6307.22265625, 6206.013671875, 5685.16845703125, 5559.2666015625, 5072.71044921875, 4997.94287109375], \"Term\": [\"work\", \"case\", \"great\", \"good\", \"sound\", \"screen\", \"charge\", \"use\", \"camera\", \"tv\", \"need\", \"well\", \"battery\", \"product\", \"speaker\", \"quality\", \"tablet\", \"price\", \"cable\", \"buy\", \"keyboard\", \"easy\", \"make\", \"video\", \"device\", \"port\", \"support\", \"light\", \"feature\", \"look\", \"device\", \"time\", \"usb\", \"ipad\", \"drive\", \"power\", \"try\", \"card\", \"computer\", \"problem\", \"unit\", \"laptop\", \"issue\", \"connect\", \"new\", \"plug\", \"bluetooth\", \"run\", \"know\", \"old\", \"window\", \"day\", \"speed\", \"year\", \"purchase\", \"software\", \"update\", \"router\", \"hour\", \"wireless\", \"fast\", \"able\", \"set\", \"use\", \"phone\", \"go\", \"get\", \"review\", \"make\", \"really\", \"look\", \"much\", \"small\", \"little\", \"feel\", \"think\", \"high\", \"lot\", \"cover\", \"bit\", \"build\", \"love\", \"right\", \"long\", \"pretty\", \"size\", \"enough\", \"big\", \"easily\", \"pro\", \"quite\", \"better\", \"perfect\", \"range\", \"actually\", \"close\", \"probably\", \"receive\", \"way\", \"put\", \"come\", \"nice\", \"thing\", \"seem\", \"also\", \"want\", \"use\", \"get\", \"would\", \"even\", \"well\", \"still\", \"may\", \"find\", \"go\", \"great\", \"product\", \"price\", \"cable\", \"buy\", \"port\", \"recommend\", \"work\", \"remote\", \"setup\", \"cheap\", \"order\", \"highly\", \"happy\", \"worth\", \"cost\", \"perfectly\", \"one\", \"pay\", \"item\", \"money\", \"deal\", \"hdmi\", \"job\", \"android\", \"handle\", \"wire\", \"compact\", \"wish\", \"extremely\", \"quality\", \"easy\", \"excellent\", \"need\", \"good\", \"well\", \"expect\", \"far\", \"would\", \"overall\", \"case\", \"tablet\", \"keyboard\", \"fit\", \"hold\", \"side\", \"end\", \"top\", \"key\", \"watch\", \"stand\", \"place\", \"movie\", \"pc\", \"monitor\", \"cord\", \"plastic\", \"carry\", \"extra\", \"protect\", \"mini\", \"storage\", \"remove\", \"black\", \"protector\", \"bag\", \"bottom\", \"travel\", \"useful\", \"chromebook\", \"design\", \"keep\", \"offer\", \"back\", \"camera\", \"charge\", \"battery\", \"light\", \"provide\", \"picture\", \"charger\", \"mode\", \"flash\", \"manual\", \"amazing\", \"resolution\", \"output\", \"focus\", \"bright\", \"sample\", \"lens\", \"sharp\", \"shot\", \"dual\", \"regular\", \"grip\", \"fire\", \"reader\", \"sensor\", \"glass\", \"outlet\", \"lense\", \"digital\", \"print\", \"dark\", \"hand\", \"lead\", \"low\", \"pack\", \"take\", \"color\", \"setting\", \"control\", \"view\", \"feature\", \"point\", \"sound\", \"speaker\", \"headphone\", \"music\", \"audio\", \"pair\", \"ear\", \"volume\", \"bass\", \"player\", \"listen\", \"hear\", \"radio\", \"input\", \"wear\", \"loud\", \"noise\", \"receiver\", \"format\", \"headset\", \"voice\", \"effect\", \"recording\", \"sleep\", \"bose\", \"stereo\", \"earphone\", \"youtube\", \"chrome\", \"bud\", \"head\", \"control\", \"play\", \"phone\", \"portable\", \"set\", \"low\", \"turn\", \"system\", \"screen\", \"video\", \"button\", \"app\", \"file\", \"option\", \"touch\", \"game\", \"display\", \"user\", \"function\", \"photo\", \"install\", \"memory\", \"office\", \"mouse\", \"transfer\", \"download\", \"web\", \"save\", \"basic\", \"click\", \"application\", \"tip\", \"installation\", \"page\", \"house\", \"email\", \"process\", \"smartphone\", \"feature\", \"play\", \"start\", \"include\", \"allow\", \"easy\", \"tv\", \"room\", \"definitely\", \"front\", \"protection\", \"channel\", \"attach\", \"similar\", \"super\", \"bar\", \"secure\", \"hook\", \"flat\", \"fold\", \"wall\", \"separate\", \"mount\", \"slide\", \"possible\", \"lock\", \"certainly\", \"fantastic\", \"clip\", \"enable\", \"panel\", \"ok\", \"perhaps\", \"match\", \"lightning\", \"stable\", \"support\", \"open\", \"image\", \"call\", \"inch\", \"strap\", \"hit\", \"plenty\", \"tight\", \"link\", \"properly\", \"table\", \"center\", \"block\", \"server\", \"hole\", \"functional\", \"pin\", \"inexpensive\", \"ring\", \"outstanding\", \"usual\", \"affordable\", \"lie\", \"proper\", \"outer\", \"bite\", \"foam\", \"working\", \"construct\", \"record\", \"ready\", \"wife\", \"magnet\", \"degree\", \"shape\", \"dock\", \"complain\", \"safe\", \"door\", \"impossible\", \"amazon\", \"bed\", \"camcorder\", \"originally\", \"tape\", \"maintain\", \"steady\", \"ambient\", \"wheel\", \"footage\", \"meeting\", \"net\", \"wash\", \"magic\", \"backlit\", \"punch\", \"playlist\", \"wet\", \"absolute\"], \"Total\": [877352.0, 546754.0, 599065.0, 710053.0, 405034.0, 346628.0, 354868.0, 1394217.0, 348262.0, 241911.0, 457797.0, 601315.0, 293070.0, 370360.0, 271569.0, 393307.0, 316067.0, 336328.0, 335319.0, 331214.0, 293315.0, 393342.0, 502852.0, 221889.0, 524931.0, 292925.0, 141466.0, 214291.0, 220287.0, 394578.0, 524931.875, 438491.78125, 323399.3125, 312776.96875, 301897.96875, 275536.1875, 255468.515625, 248726.078125, 230395.515625, 218786.15625, 205860.484375, 199515.53125, 207814.3125, 189960.796875, 199779.40625, 189027.46875, 186985.546875, 184958.03125, 173069.203125, 162764.03125, 151110.40625, 149115.234375, 147244.671875, 139899.921875, 140587.109375, 136128.015625, 136560.3125, 134882.8125, 130465.3359375, 121103.265625, 171881.078125, 157683.546875, 261184.171875, 1394217.125, 258126.421875, 437676.375, 619760.875, 243079.375, 502852.8125, 380980.09375, 394578.0625, 354161.4375, 262598.09375, 268344.03125, 254861.640625, 230367.359375, 214226.046875, 196363.859375, 190205.796875, 184452.65625, 181494.546875, 177003.078125, 170987.984375, 161830.421875, 165694.75, 165746.421875, 165961.9375, 154477.640625, 127395.78125, 124559.4609375, 117272.0390625, 113248.390625, 107324.453125, 105284.40625, 102192.515625, 87534.078125, 86963.09375, 85691.4765625, 214551.890625, 153987.609375, 341184.78125, 258942.703125, 298169.09375, 215817.171875, 468757.3125, 340843.4375, 1394217.125, 619760.875, 555162.9375, 315275.96875, 601315.0, 239166.625, 222787.734375, 305611.3125, 437676.375, 599065.8125, 370360.84375, 336328.25, 335319.5625, 331214.03125, 292925.25, 213827.359375, 877352.4375, 119758.0703125, 112739.2734375, 100123.9453125, 87586.3828125, 87485.890625, 88283.1015625, 84939.25, 82520.140625, 82242.4296875, 83533.5, 82097.8359375, 79708.46875, 70437.5234375, 63284.37890625, 62073.2890625, 60414.88671875, 57614.0625, 56043.43359375, 54104.51171875, 52324.1953125, 52598.51171875, 50271.515625, 393307.09375, 393342.28125, 119447.765625, 457797.5, 710053.1875, 601315.0, 129821.5078125, 167826.53125, 555162.9375, 131076.75, 546754.0, 316067.96875, 293315.71875, 158938.6875, 141630.671875, 119073.09375, 120287.25, 104634.875, 102275.3828125, 97550.8515625, 97626.9140625, 94401.3984375, 86394.8515625, 82995.765625, 80316.9921875, 77525.6015625, 75144.046875, 71438.5625, 69260.2890625, 64311.9375, 62023.828125, 61257.1171875, 59573.87109375, 61172.76171875, 59802.40625, 59716.5078125, 58215.01953125, 56425.25, 46270.51953125, 44243.66796875, 155977.921875, 158424.71875, 69415.5625, 202767.578125, 348262.5625, 354868.9375, 293070.78125, 214291.8125, 140326.515625, 130702.9921875, 115711.296875, 105423.7890625, 68941.90625, 55600.6875, 52093.8984375, 51159.66796875, 46830.16796875, 46703.34375, 45764.5234375, 44575.671875, 41920.68359375, 35963.6875, 32701.697265625, 30967.8125, 30368.0546875, 28806.603515625, 28258.33203125, 27787.0859375, 26655.40625, 26732.77734375, 26293.802734375, 26119.419921875, 23408.310546875, 20920.32421875, 20932.19140625, 119329.5546875, 56812.26171875, 121691.984375, 46164.51171875, 342196.9375, 103357.96875, 86631.5859375, 124230.890625, 68164.6640625, 220287.578125, 118107.1796875, 405034.1875, 271569.9375, 166040.0625, 157686.3125, 117012.15625, 108712.1328125, 98857.546875, 99456.046875, 71701.421875, 69167.015625, 62557.53125, 59941.046875, 54087.015625, 43951.12890625, 39091.62890625, 38466.03515625, 37867.8203125, 37279.41015625, 36417.81640625, 32609.12109375, 25880.982421875, 23557.359375, 20825.5546875, 20854.7578125, 20297.228515625, 19746.822265625, 18878.9296875, 17665.083984375, 17540.556640625, 17168.298828125, 40790.8125, 124230.890625, 163569.171875, 258126.421875, 73269.2421875, 261184.171875, 121691.984375, 157107.515625, 161852.671875, 346628.21875, 221889.265625, 179998.5, 135550.625, 111334.9140625, 96976.265625, 95387.5, 90132.59375, 88185.2734375, 88243.0390625, 84834.2421875, 82201.734375, 70470.0078125, 60228.94140625, 55650.94921875, 55943.3671875, 54244.21484375, 51100.328125, 47347.66796875, 43612.046875, 35669.1328125, 34839.6875, 34870.1171875, 33882.08203125, 33842.53125, 33702.66015625, 32725.328125, 32924.83203125, 30504.400390625, 29991.802734375, 220287.578125, 163569.171875, 117251.53125, 182763.515625, 116970.203125, 393342.28125, 241911.3125, 110317.203125, 79719.9140625, 78610.9140625, 65605.0703125, 58579.109375, 57944.30859375, 55074.6953125, 49412.0078125, 44306.140625, 38740.94140625, 38699.6171875, 37281.79296875, 36651.62890625, 35104.46875, 34056.2890625, 34358.6875, 33726.71484375, 33273.99609375, 33164.05078125, 30106.9453125, 29392.697265625, 26555.501953125, 26620.703125, 26277.73046875, 24248.23828125, 23735.833984375, 22254.787109375, 21066.83984375, 19589.302734375, 141466.578125, 121414.2734375, 98747.1953125, 100406.9375, 73207.46875, 59788.75, 37248.90625, 33118.3515625, 27204.671875, 26667.353515625, 25799.462890625, 23798.775390625, 23341.91796875, 22014.638671875, 20627.546875, 20443.490234375, 17513.34765625, 16890.53125, 16756.609375, 15045.9296875, 14473.6845703125, 12277.89453125, 11798.3720703125, 11792.5361328125, 11339.5703125, 10175.640625, 9789.806640625, 9550.4853515625, 9035.62890625, 8105.96142578125, 77849.7109375, 35654.78515625, 35149.046875, 30183.45703125, 24379.064453125, 23676.541015625, 21851.849609375, 21441.228515625, 19432.1953125, 16145.37890625, 13621.1591796875, 13638.5537109375, 13423.0576171875, 12674.958984375, 10767.2099609375, 10600.25, 10252.0078125, 8451.8720703125, 6808.7666015625, 6667.447265625, 6683.2744140625, 6634.41064453125, 6656.6953125, 6566.22265625, 6307.78955078125, 6206.58056640625, 5685.7353515625, 5559.83349609375, 5073.27734375, 4998.509765625], \"loglift\": [30.0, 29.0, 28.0, 27.0, 26.0, 25.0, 24.0, 23.0, 22.0, 21.0, 20.0, 19.0, 18.0, 17.0, 16.0, 15.0, 14.0, 13.0, 12.0, 11.0, 10.0, 9.0, 8.0, 7.0, 6.0, 5.0, 4.0, 3.0, 2.0, 1.0, 1.195099949836731, 1.195099949836731, 1.195099949836731, 1.195099949836731, 1.195099949836731, 1.195099949836731, 1.195099949836731, 1.195099949836731, 1.195099949836731, 1.195099949836731, 1.195099949836731, 1.195099949836731, 1.195099949836731, 1.195099949836731, 1.195099949836731, 1.195099949836731, 1.195099949836731, 1.195099949836731, 1.195099949836731, 1.195099949836731, 1.195099949836731, 1.195099949836731, 1.195099949836731, 1.195099949836731, 1.195099949836731, 1.195099949836731, 1.195099949836731, 1.195099949836731, 1.195099949836731, 1.195099949836731, 1.1740000247955322, 1.1763999462127686, 0.9757999777793884, 0.09520000219345093, 0.8804000020027161, 0.6078000068664551, 0.1525000035762787, 0.7757999897003174, 1.3431999683380127, 1.3431999683380127, 1.3431999683380127, 1.3431999683380127, 1.3431999683380127, 1.3431999683380127, 1.3431999683380127, 1.3431999683380127, 1.3431999683380127, 1.3431999683380127, 1.3431999683380127, 1.3431999683380127, 1.3431999683380127, 1.3431999683380127, 1.3431999683380127, 1.3431999683380127, 1.3431999683380127, 1.3431999683380127, 1.3431999683380127, 1.3431999683380127, 1.3431999683380127, 1.3431999683380127, 1.3431999683380127, 1.3431999683380127, 1.3431999683380127, 1.3431999683380127, 1.3431999683380127, 1.3431999683380127, 1.3431999683380127, 1.3431999683380127, 1.320099949836731, 1.3280999660491943, 1.301300048828125, 1.3035999536514282, 1.295799970626831, 1.3014999628067017, 1.2444000244140625, 1.2352999448776245, 0.9383999705314636, 0.9085000157356262, 0.8330000042915344, 1.0347000360488892, 0.5485000014305115, 1.108199954032898, 1.1359000205993652, 0.876800000667572, 0.5317000150680542, 2.1328999996185303, 2.1328999996185303, 2.1328999996185303, 2.1328999996185303, 2.1328999996185303, 2.1328999996185303, 2.1328999996185303, 2.1328999996185303, 2.1328999996185303, 2.1328999996185303, 2.1328999996185303, 2.1328999996185303, 2.1328999996185303, 2.1328999996185303, 2.1328999996185303, 2.1328999996185303, 2.1328999996185303, 2.1328999996185303, 2.1328999996185303, 2.1328999996185303, 2.1328999996185303, 2.1328999996185303, 2.1328999996185303, 2.1328999996185303, 2.1328999996185303, 2.1328999996185303, 2.1328999996185303, 2.1328999996185303, 2.1328999996185303, 2.1328999996185303, 2.0999999046325684, 2.02020001411438, 2.077199935913086, 1.9514000415802002, 1.908400058746338, 1.531999945640564, 1.8654999732971191, 1.6433000564575195, 1.0197999477386475, 1.6395000219345093, 2.400399923324585, 2.400399923324585, 2.400399923324585, 2.400399923324585, 2.400399923324585, 2.400399923324585, 2.400399923324585, 2.400399923324585, 2.400399923324585, 2.400399923324585, 2.400399923324585, 2.400399923324585, 2.400399923324585, 2.400399923324585, 2.400399923324585, 2.400399923324585, 2.400399923324585, 2.400399923324585, 2.400399923324585, 2.400399923324585, 2.400399923324585, 2.400399923324585, 2.400399923324585, 2.400399923324585, 2.400399923324585, 2.400399923324585, 2.400399923324585, 2.400399923324585, 2.400399923324585, 2.400399923324585, 2.3236000537872314, 2.0460000038146973, 2.2551000118255615, 1.4886000156402588, 2.7074999809265137, 2.7074999809265137, 2.7074999809265137, 2.7074999809265137, 2.7074999809265137, 2.7074999809265137, 2.7074999809265137, 2.7074999809265137, 2.7074999809265137, 2.7074999809265137, 2.7074999809265137, 2.7074999809265137, 2.7074999809265137, 2.7074999809265137, 2.7074999809265137, 2.7074999809265137, 2.7074999809265137, 2.7074999809265137, 2.7074999809265137, 2.7074999809265137, 2.7074999809265137, 2.7074999809265137, 2.7074999809265137, 2.7074999809265137, 2.7074999809265137, 2.7074999809265137, 2.7074999809265137, 2.7074999809265137, 2.7074999809265137, 2.7074999809265137, 2.7074999809265137, 2.588399887084961, 2.6363000869750977, 2.1623001098632812, 2.483299970626831, 1.5667999982833862, 2.012500047683716, 1.9105000495910645, 1.6154999732971191, 2.031899929046631, 0.8327000141143799, 1.4118000268936157, 2.86299991607666, 2.86299991607666, 2.86299991607666, 2.86299991607666, 2.86299991607666, 2.86299991607666, 2.86299991607666, 2.86299991607666, 2.86299991607666, 2.86299991607666, 2.86299991607666, 2.86299991607666, 2.86299991607666, 2.86299991607666, 2.86299991607666, 2.86299991607666, 2.86299991607666, 2.86299991607666, 2.86299991607666, 2.86299991607666, 2.86299991607666, 2.86299991607666, 2.86299991607666, 2.86299991607666, 2.86299991607666, 2.86299991607666, 2.86299991607666, 2.86299991607666, 2.86299991607666, 2.86299991607666, 2.760699987411499, 2.4542999267578125, 1.9738999605178833, 1.5535999536514282, 2.0845000743865967, 1.2380000352859497, 1.690600037574768, 1.152899980545044, 1.1261999607086182, 2.888400077819824, 2.888400077819824, 2.888400077819824, 2.888400077819824, 2.888400077819824, 2.888400077819824, 2.888400077819824, 2.888400077819824, 2.888400077819824, 2.888400077819824, 2.888400077819824, 2.888400077819824, 2.888400077819824, 2.888400077819824, 2.888400077819824, 2.888400077819824, 2.888400077819824, 2.888400077819824, 2.888400077819824, 2.888400077819824, 2.888400077819824, 2.888400077819824, 2.888400077819824, 2.888400077819824, 2.888400077819824, 2.888400077819824, 2.888400077819824, 2.888400077819824, 2.888400077819824, 2.888400077819824, 2.72189998626709, 2.3589999675750732, 2.225800037384033, 1.7767000198364258, 1.8818999528884888, 0.6492999792098999, 3.740000009536743, 3.740000009536743, 3.740000009536743, 3.740000009536743, 3.740000009536743, 3.740000009536743, 3.740000009536743, 3.740000009536743, 3.740000009536743, 3.740000009536743, 3.740000009536743, 3.740000009536743, 3.740000009536743, 3.740000009536743, 3.740000009536743, 3.740000009536743, 3.740000009536743, 3.740000009536743, 3.740000009536743, 3.740000009536743, 3.740000009536743, 3.740000009536743, 3.740000009536743, 3.740000009536743, 3.740000009536743, 3.740000009536743, 3.740000009536743, 3.740000009536743, 3.740000009536743, 3.740000009536743, 4.146200180053711, 4.146200180053711, 4.146200180053711, 4.146200180053711, 4.146200180053711, 4.146200180053711, 4.146200180053711, 4.146100044250488, 4.146100044250488, 4.146100044250488, 4.146100044250488, 4.146100044250488, 4.146100044250488, 4.146100044250488, 4.146100044250488, 4.146100044250488, 4.146100044250488, 4.146100044250488, 4.146100044250488, 4.146100044250488, 4.146100044250488, 4.146100044250488, 4.146100044250488, 4.146100044250488, 4.146100044250488, 4.146100044250488, 4.146100044250488, 4.146100044250488, 4.146100044250488, 4.146100044250488, 4.814899921417236, 4.814899921417236, 4.814799785614014, 4.814799785614014, 4.814799785614014, 4.814799785614014, 4.814799785614014, 4.814799785614014, 4.814799785614014, 4.814799785614014, 4.814799785614014, 4.814799785614014, 4.814799785614014, 4.814799785614014, 4.814799785614014, 4.814799785614014, 4.814799785614014, 4.814799785614014, 4.814799785614014, 4.814799785614014, 4.814799785614014, 4.814799785614014, 4.814799785614014, 4.814799785614014, 4.814799785614014, 4.814799785614014, 4.814799785614014, 4.814799785614014, 4.814799785614014, 4.814799785614014], \"logprob\": [30.0, 29.0, 28.0, 27.0, 26.0, 25.0, 24.0, 23.0, 22.0, 21.0, 20.0, 19.0, 18.0, 17.0, 16.0, 15.0, 14.0, 13.0, 12.0, 11.0, 10.0, 9.0, 8.0, 7.0, 6.0, 5.0, 4.0, 3.0, 2.0, 1.0, -3.853600025177002, -4.033599853515625, -4.3379998207092285, -4.371399879455566, -4.406799793243408, -4.498199939727783, -4.573800086975098, -4.600500106811523, -4.67710018157959, -4.728799819946289, -4.789700031280518, -4.821000099182129, -4.780200004577637, -4.870100021362305, -4.819699764251709, -4.875, -4.885900020599365, -4.8968000411987305, -4.963200092315674, -5.024600028991699, -5.098899841308594, -5.112199783325195, -5.124800205230713, -5.176000118255615, -5.17110013961792, -5.2032999992370605, -5.200099945068359, -5.212500095367432, -5.245800018310547, -5.320300102233887, -4.991199970245361, -5.074999809265137, -4.770899772644043, -3.9767000675201416, -4.8780999183654785, -4.622700214385986, -4.730199813842773, -5.042799949645996, -3.748500108718872, -4.026000022888184, -3.990999937057495, -4.098999977111816, -4.398200035095215, -4.376500129699707, -4.428100109100342, -4.529099941253662, -4.601799964904785, -4.688799858093262, -4.720699787139893, -4.751399993896484, -4.767600059509277, -4.792600154876709, -4.827199935913086, -4.882199764251709, -4.85860013961792, -4.85830020904541, -4.85699987411499, -4.928699970245361, -5.121500015258789, -5.144000053405762, -5.2042999267578125, -5.239200115203857, -5.292900085449219, -5.312099933624268, -5.341899871826172, -5.496799945831299, -5.503300189971924, -5.51800012588501, -4.6234002113342285, -4.9471001625061035, -4.178199768066406, -4.451700210571289, -4.318600177764893, -4.636099815368652, -3.9175000190734863, -4.245200157165527, -3.133500099182129, -3.974100112915039, -4.159800052642822, -4.523799896240234, -4.3643999099731445, -4.7266998291015625, -4.769899845123291, -4.712800025939941, -4.698800086975098, -2.7836999893188477, -3.2646000385284424, -3.3610000610351562, -3.364000082015991, -3.376300096511841, -3.4992001056671143, -3.8138999938964844, -2.4021999835968018, -4.393599987030029, -4.453999996185303, -4.572700023651123, -4.706500053405762, -4.707600116729736, -4.698500156402588, -4.737199783325195, -4.765999794006348, -4.769400119781494, -4.753799915313721, -4.771200180053711, -4.8007001876831055, -4.9243998527526855, -5.031499862670898, -5.05079984664917, -5.077899932861328, -5.12529993057251, -5.1529998779296875, -5.188199996948242, -5.22160005569458, -5.216400146484375, -5.26170015335083, -3.2374000549316406, -3.3171000480651855, -4.452000141143799, -3.234100103378296, -2.8382999897003174, -3.3808999061584473, -4.5802998542785645, -4.5457000732421875, -3.972899913787842, -4.7967000007629395, -2.6075000762939453, -3.155600070953369, -3.230299949645996, -3.8429999351501465, -3.9583001136779785, -4.131800174713135, -4.121699810028076, -4.261099815368652, -4.283899784088135, -4.331200122833252, -4.330399990081787, -4.363999843597412, -4.452600002288818, -4.492800235748291, -4.525599956512451, -4.5609002113342285, -4.592100143432617, -4.6427001953125, -4.673699855804443, -4.747799873352051, -4.783999919891357, -4.796500205993652, -4.8242998123168945, -4.797800064086914, -4.820499897003174, -4.821899890899658, -4.847400188446045, -4.878600120544434, -5.077000141143799, -5.121799945831299, -3.938699960708618, -4.200699806213379, -4.816800117492676, -4.511300086975098, -2.751499891281128, -2.7327001094818115, -2.9240000247955322, -3.2370998859405518, -3.6605000495910645, -3.7314999103546143, -3.853300094604492, -3.946500062942505, -4.371200084686279, -4.586299896240234, -4.651400089263916, -4.66949987411499, -4.757900238037109, -4.7606000900268555, -4.780900001525879, -4.807300090789795, -4.86870002746582, -5.021900177001953, -5.117000102996826, -5.171500205993652, -5.191100120544434, -5.243899822235107, -5.2631001472473145, -5.279900074005127, -5.321499824523926, -5.318600177764893, -5.335100173950195, -5.341800212860107, -5.451399803161621, -5.563700199127197, -5.563199996948242, -3.941699981689453, -4.635900020599365, -4.348199844360352, -4.996500015258789, -3.9098000526428223, -4.661300182342529, -4.939799785614014, -4.8744001388549805, -5.05810022354126, -5.084400177001953, -5.128600120544434, -2.444999933242798, -2.8447000980377197, -3.336699962615967, -3.388400077819824, -3.6867001056671143, -3.7602999210357666, -3.855299949645996, -3.8492000102996826, -4.176499843597412, -4.212399959564209, -4.312900066375732, -4.355599880218506, -4.458399772644043, -4.665900230407715, -4.783100128173828, -4.799200057983398, -4.814899921417236, -4.83050012588501, -4.853899955749512, -4.964399814605713, -5.195499897003174, -5.2895002365112305, -5.412799835205078, -5.411399841308594, -5.438499927520752, -5.466000080108643, -5.510900020599365, -5.577400207519531, -5.584499835968018, -5.605899810791016, -4.842800140380859, -4.035600185394287, -4.240900039672852, -4.204899787902832, -4.9334001541137695, -4.508800029754639, -4.819900035858154, -5.102200031280518, -5.099100112915039, -2.5754001140594482, -3.021399974822998, -3.2307000160217285, -3.5143001079559326, -3.7111001014709473, -3.849100112915039, -3.8657000064849854, -3.922300100326538, -3.944200038909912, -3.94350004196167, -3.9828999042510986, -4.014400005340576, -4.168399810791016, -4.325500011444092, -4.4045000076293945, -4.3993000984191895, -4.430099964141846, -4.489799976348877, -4.566100120544434, -4.6483001708984375, -4.849299907684326, -4.872900009155273, -4.872000217437744, -4.900700092315674, -4.901899814605713, -4.906000137329102, -4.935500144958496, -4.9293999671936035, -5.005799770355225, -5.02269983291626, -3.195199966430664, -3.8557000160217285, -4.321899890899658, -4.327099800109863, -4.6682000160217285, -4.688000202178955, -2.083400011062622, -2.8685998916625977, -3.19350004196167, -3.2074999809265137, -3.3882999420166016, -3.5016000270843506, -3.512500047683716, -3.5632998943328857, -3.671799898147583, -3.780900001525879, -3.91510009765625, -3.916100025177002, -3.9535000324249268, -3.9704999923706055, -4.013700008392334, -4.044000148773193, -4.035099983215332, -4.053699970245361, -4.067200183868408, -4.070499897003174, -4.167200088500977, -4.191199779510498, -4.292699813842773, -4.290299892425537, -4.303299903869629, -4.383600234985352, -4.40500020980835, -4.469399929046631, -4.5243000984191895, -4.5970001220703125, -2.2137999534606934, -2.3666000366210938, -2.5732998847961426, -2.5566000938415527, -2.872499942779541, -3.075000047683716, -3.5481998920440674, -3.665800094604492, -3.862499952316284, -3.8824000358581543, -3.9154999256134033, -3.9962000846862793, -4.015600204467773, -4.074100017547607, -4.139200210571289, -4.148200035095215, -4.3028998374938965, -4.339099884033203, -4.347099781036377, -4.454800128936768, -4.493500232696533, -4.658100128173828, -4.69789981842041, -4.698400020599365, -4.737599849700928, -4.845900058746338, -4.884500026702881, -4.909299850463867, -4.964700222015381, -5.073299884796143, -2.142400026321411, -2.92330002784729, -2.9375, -3.0897998809814453, -3.3034000396728516, -3.33270001411438, -3.412899971008301, -3.43179988861084, -3.5302000045776367, -3.7155001163482666, -3.885499954223633, -3.8842999935150146, -3.9001998901367188, -3.9574999809265137, -4.120699882507324, -4.136300086975098, -4.1697001457214355, -4.362800121307373, -4.578999996185303, -4.599999904632568, -4.597599983215332, -4.604899883270264, -4.601600170135498, -4.615300178527832, -4.655399799346924, -4.671599864959717, -4.759300231933594, -4.781700134277344, -4.873199939727783, -4.8881001472473145]}, \"token.table\": {\"Topic\": [1, 5, 10, 2, 9, 1, 4, 5, 7, 1, 2, 5, 10, 10, 3, 7, 7, 8, 6, 1, 4, 10, 4, 8, 7, 6, 5, 10, 2, 2, 2, 9, 4, 9, 1, 6, 4, 5, 6, 2, 7, 3, 3, 9, 10, 5, 1, 4, 4, 9, 8, 8, 5, 5, 3, 6, 4, 7, 8, 2, 4, 5, 1, 2, 3, 3, 10, 1, 1, 9, 5, 6, 4, 3, 2, 5, 1, 3, 8, 10, 4, 6, 1, 5, 7, 10, 10, 7, 1, 5, 6, 6, 2, 3, 7, 6, 7, 8, 4, 2, 1, 2, 3, 5, 2, 3, 4, 3, 8, 1, 2, 3, 1, 5, 5, 7, 2, 7, 1, 2, 5, 4, 5, 8, 9, 5, 8, 10, 6, 8, 7, 9, 7, 1, 2, 5, 1, 2, 2, 3, 6, 3, 5, 1, 5, 3, 3, 3, 2, 6, 6, 6, 6, 2, 3, 9, 4, 9, 8, 1, 7, 9, 10, 9, 1, 2, 6, 7, 9, 6, 7, 7, 1, 1, 3, 3, 1, 4, 4, 4, 1, 1, 1, 2, 5, 5, 5, 9, 5, 8, 9, 6, 2, 8, 2, 2, 2, 6, 2, 3, 5, 6, 10, 10, 10, 2, 5, 8, 1, 2, 10, 7, 4, 5, 3, 4, 8, 7, 4, 2, 6, 1, 3, 10, 1, 2, 4, 6, 4, 5, 7, 8, 1, 3, 9, 7, 3, 10, 9, 5, 5, 9, 3, 4, 4, 5, 7, 6, 8, 3, 4, 2, 3, 8, 1, 6, 7, 5, 9, 4, 4, 6, 7, 6, 10, 9, 1, 1, 2, 5, 3, 1, 4, 6, 8, 1, 2, 3, 5, 2, 2, 1, 7, 3, 9, 9, 4, 8, 4, 5, 10, 1, 2, 4, 3, 5, 2, 6, 2, 5, 10, 2, 2, 6, 3, 10, 6, 5, 3, 4, 5, 1, 2, 2, 9, 8, 1, 1, 10, 5, 7, 7, 8, 1, 2, 5, 8, 9, 1, 6, 1, 5, 6, 3, 10, 5, 5, 4, 8, 2, 6, 8, 2, 7, 1, 6, 6, 1, 8, 4, 2, 7, 10, 6, 1, 2, 4, 9, 8, 9, 1, 6, 9, 4, 1, 2, 5, 10, 1, 2, 2, 9, 1, 7, 4, 7, 7, 4, 1, 1, 5, 6, 8, 1, 1, 1, 1, 2, 4, 7, 9, 7, 5, 7, 6, 6, 8, 1, 2, 10, 4, 1, 2, 6, 7, 2, 3, 10, 10, 10, 1, 3, 1, 3, 1, 3, 9, 3, 1, 2, 3, 1, 6], \"Freq\": [0.9814276695251465, 0.01856883615255356, 0.9998980164527893, 0.9999949336051941, 0.9999684691429138, 0.1864064484834671, 0.3585613965988159, 0.08954416960477829, 0.3654862344264984, 0.09410839527845383, 0.905890941619873, 0.9999827742576599, 0.999959409236908, 0.9998874068260193, 0.9999815821647644, 0.9999954104423523, 0.9999966621398926, 0.999994695186615, 0.9999986886978149, 0.5982218980789185, 0.4017752707004547, 0.9999064803123474, 0.9999914765357971, 0.9999968409538269, 0.9999963045120239, 0.9999940991401672, 0.9999973177909851, 0.9999212026596069, 0.999996542930603, 0.9999958276748657, 0.9999964237213135, 0.9999176263809204, 0.9999875426292419, 0.9999709725379944, 0.999997079372406, 0.9999887347221375, 0.999982476234436, 0.9999885559082031, 0.9999825954437256, 0.9999969601631165, 0.9999971985816956, 0.9999969005584717, 0.9999983310699463, 0.9999906420707703, 0.99992436170578, 0.9999983906745911, 0.9999956488609314, 0.9999921321868896, 0.999998152256012, 0.9999606609344482, 0.9999685883522034, 0.999998152256012, 0.9999973773956299, 0.9999974370002747, 0.9999905824661255, 0.9999682903289795, 0.9999849200248718, 0.9999802708625793, 0.9999811053276062, 0.9999991059303284, 0.5009386539459229, 0.4990616738796234, 0.04074038565158844, 0.9589876532554626, 0.0002696485898923129, 0.9999962449073792, 0.9999893307685852, 0.9999977350234985, 0.9999958276748657, 0.999881386756897, 0.3355123698711395, 0.664480447769165, 0.9999922513961792, 0.9999982714653015, 0.9999958276748657, 0.9999908804893494, 0.9999984502792358, 0.9999940395355225, 0.9999885559082031, 0.9999563097953796, 0.9260541200637817, 0.07394636422395706, 0.9999983310699463, 0.9999867081642151, 0.9999969005584717, 0.9999611377716064, 0.9999765157699585, 0.9999935626983643, 0.9999967813491821, 0.9999737739562988, 0.9999944567680359, 0.9999507665634155, 0.9999938607215881, 0.8934457898139954, 0.10655350983142853, 0.9999847412109375, 0.9999747276306152, 0.9999735951423645, 0.9999979138374329, 0.9999943375587463, 0.2654341161251068, 0.7345628142356873, 0.945777416229248, 0.054224539548158646, 0.2345990240573883, 0.7653970718383789, 0.9999958276748657, 0.9999897480010986, 0.9999762773513794, 0.18794405460357666, 0.19915802776813507, 0.6128947734832764, 0.9791479110717773, 0.020851626992225647, 0.15337224304676056, 0.8466251492500305, 0.9999974966049194, 0.999991774559021, 0.3727152645587921, 0.6272836923599243, 0.9999882578849792, 0.9999956488609314, 0.9999868273735046, 0.9999787211418152, 0.9999491572380066, 0.9999926686286926, 0.9999828338623047, 0.9999589323997498, 0.9999775886535645, 0.9999883770942688, 0.9999971389770508, 0.9999801516532898, 0.9999933838844299, 0.35252466797828674, 0.64747554063797, 0.9999709129333496, 0.5558239221572876, 0.44417521357536316, 0.19591349363327026, 0.7988697290420532, 0.005215102341026068, 0.9999986290931702, 0.9999790787696838, 0.11231081932783127, 0.8876845240592957, 0.9999922513961792, 0.9999988675117493, 0.9999953508377075, 0.09722777456045151, 0.902776837348938, 0.999993622303009, 0.9999963045120239, 0.9999825358390808, 0.9999951124191284, 0.9999898076057434, 0.9999756813049316, 0.999995231628418, 0.9999760389328003, 0.9999840259552002, 0.9999974370002747, 0.9999899864196777, 0.9999980330467224, 0.999988317489624, 0.999993622303009, 0.26934805512428284, 0.34775540232658386, 0.05387836694717407, 0.3290153443813324, 0.999963641166687, 0.999997079372406, 0.9999856948852539, 0.9999843239784241, 0.9999969005584717, 0.9999985098838806, 0.9999940991401672, 0.9999853372573853, 0.298419326543808, 0.7015761137008667, 0.9999962449073792, 0.9999975562095642, 0.9999988079071045, 0.9999973177909851, 0.023973697796463966, 0.04477906599640846, 0.9312426447868347, 0.9999836683273315, 0.9999839067459106, 0.9999545216560364, 0.9999961853027344, 0.9999601244926453, 0.9999867677688599, 0.9999915361404419, 0.9999961853027344, 0.9999682903289795, 0.9999973773956299, 0.9999998211860657, 0.9999956488609314, 0.9999731183052063, 0.9999939203262329, 0.11070573329925537, 0.579668402671814, 0.3096177577972412, 0.9998748302459717, 0.999984860420227, 0.9999017119407654, 0.9999983906745911, 0.9999876618385315, 0.9999646544456482, 0.1872095912694931, 0.8127871155738831, 0.9999381303787231, 0.9999843835830688, 0.9999866485595703, 0.9999924898147583, 0.9999925494194031, 0.9999876618385315, 0.9999799728393555, 0.9999934434890747, 0.9999901652336121, 0.9999987483024597, 0.9999980330467224, 0.16596858203411102, 0.8340303301811218, 0.9998955726623535, 0.9999979734420776, 0.9612126350402832, 0.038788504898548126, 0.9999783635139465, 0.8647196292877197, 0.13527226448059082, 0.9999829530715942, 0.9999901652336121, 0.9999936819076538, 0.9999940395355225, 0.9999977350234985, 0.9999972581863403, 0.9999956488609314, 0.9999805092811584, 0.9999370574951172, 0.999969482421875, 0.9999964237213135, 0.9999526739120483, 0.6105278134346008, 0.38946646451950073, 0.20086857676506042, 0.799120306968689, 0.9999803900718689, 0.9999988079071045, 0.9999722242355347, 0.9999898076057434, 0.9999907612800598, 0.999995768070221, 0.9999947547912598, 0.9999648928642273, 0.7300182580947876, 0.2699801027774811, 0.9999910593032837, 0.9999924302101135, 0.9999685287475586, 0.999995768070221, 0.9999860525131226, 0.4110126495361328, 0.5889862775802612, 0.9999853372573853, 0.9998500943183899, 0.99998939037323, 0.9999974966049194, 0.22211182117462158, 0.5041945576667786, 0.2736920714378357, 0.9999991655349731, 0.4974938929080963, 0.04342886433005333, 0.45906028151512146, 0.9999700784683228, 0.9999993443489075, 0.9999954700469971, 0.9999992847442627, 0.9999845027923584, 0.9999963045120239, 0.999998927116394, 0.9999992847442627, 0.9999868869781494, 0.9999977350234985, 0.9999496936798096, 0.9999820590019226, 0.99998539686203, 0.9999836683273315, 0.9999932050704956, 0.9999963045120239, 0.9998706579208374, 0.9999992251396179, 0.9849688410758972, 0.01502718310803175, 0.9676357507705688, 0.032364021986722946, 0.9999911189079285, 0.9999812245368958, 0.9999961256980896, 0.9999608993530273, 0.9999780058860779, 0.9999997615814209, 0.9999944567680359, 0.9999889731407166, 0.9999983310699463, 0.9999908804893494, 0.9999733567237854, 0.999965250492096, 0.9999994039535522, 0.99998539686203, 0.9999869465827942, 0.6575136184692383, 0.34248483180999756, 0.9999942183494568, 0.9999381899833679, 0.999998152256012, 0.9999939799308777, 0.9999943971633911, 0.999989926815033, 0.9999849200248718, 0.9999759793281555, 0.9999993443489075, 0.9999756813049316, 0.04084475710988045, 0.9591544270515442, 0.9999847412109375, 0.9999915361404419, 0.999973475933075, 0.8030961155891418, 0.19690319895744324, 0.5292180776596069, 0.45067858695983887, 0.020108139142394066, 0.9999975562095642, 0.999977171421051, 0.9999808669090271, 0.9999786615371704, 0.9999992251396179, 0.9999873638153076, 0.9999974370002747, 0.999963641166687, 0.99997878074646, 0.9999996423721313, 0.9999732375144958, 0.9999925494194031, 0.9999995231628418, 0.999996542930603, 0.9999954104423523, 0.9999845623970032, 0.9999906420707703, 0.48450538516044617, 0.5154900550842285, 0.9998968243598938, 0.999958336353302, 0.2094690203666687, 0.7905283570289612, 0.9999980926513672, 0.9999874830245972, 0.9999796152114868, 0.9999958872795105, 0.823915958404541, 0.17608606815338135, 0.9999673962593079, 0.9999969601631165, 0.2966449558734894, 0.38377314805984497, 0.3195820450782776, 0.999976396560669, 0.0463160015642643, 0.9536803364753723, 0.9999984502792358, 0.999975323677063, 0.9999982118606567, 0.9999680519104004, 0.9999916553497314, 0.9999947547912598, 0.9999960660934448, 0.9999955892562866, 0.9999979734420776, 0.6874018907546997, 0.13175690174102783, 0.18083158135414124, 0.9999986886978149, 0.9999976754188538, 0.9999977350234985, 0.9999990463256836, 0.3329029679298401, 0.6670969724655151, 0.9999887943267822, 0.9999881982803345, 0.9999271631240845, 0.9999988079071045, 0.5088266730308533, 0.49116358160972595, 0.9999620318412781, 0.9999894499778748, 0.9999866485595703, 0.10225222259759903, 0.8977465033531189, 0.9999660849571228, 0.9999912977218628, 0.022880245000123978, 0.9771156311035156, 0.9999839067459106, 0.9999858736991882, 0.45170333981513977, 0.5482949614524841, 0.999945342540741, 0.9999329447746277, 0.9999701976776123, 0.9999973177909851, 0.9999905228614807, 0.9999977946281433, 0.9999902844429016, 2.2795857148594223e-06, 0.9999971985816956, 0.9999303817749023, 0.999997079372406, 0.07111245393753052, 0.6003570556640625, 0.32853057980537415, 0.9999933838844299, 0.9999386072158813], \"Term\": [\"able\", \"able\", \"absolute\", \"actually\", \"affordable\", \"allow\", \"allow\", \"allow\", \"allow\", \"also\", \"also\", \"amazing\", \"amazon\", \"ambient\", \"android\", \"app\", \"application\", \"attach\", \"audio\", \"back\", \"back\", \"backlit\", \"bag\", \"bar\", \"basic\", \"bass\", \"battery\", \"bed\", \"better\", \"big\", \"bit\", \"bite\", \"black\", \"block\", \"bluetooth\", \"bose\", \"bottom\", \"bright\", \"bud\", \"build\", \"button\", \"buy\", \"cable\", \"call\", \"camcorder\", \"camera\", \"card\", \"carry\", \"case\", \"center\", \"certainly\", \"channel\", \"charge\", \"charger\", \"cheap\", \"chrome\", \"chromebook\", \"click\", \"clip\", \"close\", \"color\", \"color\", \"come\", \"come\", \"come\", \"compact\", \"complain\", \"computer\", \"connect\", \"construct\", \"control\", \"control\", \"cord\", \"cost\", \"cover\", \"dark\", \"day\", \"deal\", \"definitely\", \"degree\", \"design\", \"design\", \"device\", \"digital\", \"display\", \"dock\", \"door\", \"download\", \"drive\", \"dual\", \"ear\", \"earphone\", \"easily\", \"easy\", \"easy\", \"effect\", \"email\", \"enable\", \"end\", \"enough\", \"even\", \"even\", \"excellent\", \"excellent\", \"expect\", \"expect\", \"extra\", \"extremely\", \"fantastic\", \"far\", \"far\", \"far\", \"fast\", \"fast\", \"feature\", \"feature\", \"feel\", \"file\", \"find\", \"find\", \"fire\", \"fit\", \"flash\", \"flat\", \"foam\", \"focus\", \"fold\", \"footage\", \"format\", \"front\", \"function\", \"functional\", \"game\", \"get\", \"get\", \"glass\", \"go\", \"go\", \"good\", \"good\", \"good\", \"great\", \"grip\", \"hand\", \"hand\", \"handle\", \"happy\", \"hdmi\", \"head\", \"head\", \"headphone\", \"headset\", \"hear\", \"high\", \"highly\", \"hit\", \"hold\", \"hole\", \"hook\", \"hour\", \"house\", \"image\", \"impossible\", \"inch\", \"include\", \"include\", \"include\", \"include\", \"inexpensive\", \"input\", \"install\", \"installation\", \"ipad\", \"issue\", \"item\", \"job\", \"keep\", \"keep\", \"key\", \"keyboard\", \"know\", \"laptop\", \"lead\", \"lead\", \"lead\", \"lens\", \"lense\", \"lie\", \"light\", \"lightning\", \"link\", \"listen\", \"little\", \"lock\", \"long\", \"look\", \"lot\", \"loud\", \"love\", \"low\", \"low\", \"low\", \"magic\", \"magnet\", \"maintain\", \"make\", \"manual\", \"match\", \"may\", \"may\", \"meeting\", \"memory\", \"mini\", \"mode\", \"money\", \"monitor\", \"mount\", \"mouse\", \"movie\", \"much\", \"music\", \"need\", \"need\", \"net\", \"new\", \"nice\", \"nice\", \"noise\", \"offer\", \"offer\", \"office\", \"ok\", \"old\", \"one\", \"open\", \"option\", \"order\", \"originally\", \"outer\", \"outlet\", \"output\", \"outstanding\", \"overall\", \"overall\", \"pack\", \"pack\", \"page\", \"pair\", \"panel\", \"pay\", \"pc\", \"perfect\", \"perfectly\", \"perhaps\", \"phone\", \"phone\", \"photo\", \"picture\", \"pin\", \"place\", \"plastic\", \"play\", \"play\", \"player\", \"playlist\", \"plenty\", \"plug\", \"point\", \"point\", \"point\", \"port\", \"portable\", \"portable\", \"portable\", \"possible\", \"power\", \"pretty\", \"price\", \"print\", \"pro\", \"probably\", \"problem\", \"process\", \"product\", \"proper\", \"properly\", \"protect\", \"protection\", \"protector\", \"provide\", \"punch\", \"purchase\", \"put\", \"put\", \"quality\", \"quality\", \"quite\", \"radio\", \"range\", \"reader\", \"ready\", \"really\", \"receive\", \"receiver\", \"recommend\", \"record\", \"recording\", \"regular\", \"remote\", \"remove\", \"resolution\", \"review\", \"review\", \"right\", \"ring\", \"room\", \"router\", \"run\", \"safe\", \"sample\", \"save\", \"screen\", \"secure\", \"seem\", \"seem\", \"sensor\", \"separate\", \"server\", \"set\", \"set\", \"setting\", \"setting\", \"setting\", \"setup\", \"shape\", \"sharp\", \"shot\", \"side\", \"similar\", \"size\", \"sleep\", \"slide\", \"small\", \"smartphone\", \"software\", \"sound\", \"speaker\", \"speed\", \"stable\", \"stand\", \"start\", \"start\", \"steady\", \"stereo\", \"still\", \"still\", \"storage\", \"strap\", \"super\", \"support\", \"system\", \"system\", \"table\", \"tablet\", \"take\", \"take\", \"take\", \"tape\", \"thing\", \"thing\", \"think\", \"tight\", \"time\", \"tip\", \"top\", \"touch\", \"transfer\", \"travel\", \"try\", \"turn\", \"turn\", \"turn\", \"tv\", \"unit\", \"update\", \"usb\", \"use\", \"use\", \"useful\", \"user\", \"usual\", \"video\", \"view\", \"view\", \"voice\", \"volume\", \"wall\", \"want\", \"want\", \"wash\", \"watch\", \"way\", \"way\", \"wear\", \"web\", \"well\", \"well\", \"wet\", \"wheel\", \"wife\", \"window\", \"wire\", \"wireless\", \"wish\", \"work\", \"work\", \"working\", \"worth\", \"would\", \"would\", \"would\", \"year\", \"youtube\"]}, \"R\": 30, \"lambda.step\": 0.01, \"plot.opts\": {\"xlab\": \"PC1\", \"ylab\": \"PC2\"}, \"topic.order\": [7, 10, 3, 8, 5, 6, 9, 2, 4, 1]};\n",
       "\n",
       "function LDAvis_load_lib(url, callback){\n",
       "  var s = document.createElement('script');\n",
       "  s.src = url;\n",
       "  s.async = true;\n",
       "  s.onreadystatechange = s.onload = callback;\n",
       "  s.onerror = function(){console.warn(\"failed to load library \" + url);};\n",
       "  document.getElementsByTagName(\"head\")[0].appendChild(s);\n",
       "}\n",
       "\n",
       "if(typeof(LDAvis) !== \"undefined\"){\n",
       "   // already loaded: just create the visualization\n",
       "   !function(LDAvis){\n",
       "       new LDAvis(\"#\" + \"ldavis_el20581402730960685604469673872\", ldavis_el20581402730960685604469673872_data);\n",
       "   }(LDAvis);\n",
       "}else if(typeof define === \"function\" && define.amd){\n",
       "   // require.js is available: use it to load d3/LDAvis\n",
       "   require.config({paths: {d3: \"https://cdnjs.cloudflare.com/ajax/libs/d3/3.5.5/d3.min\"}});\n",
       "   require([\"d3\"], function(d3){\n",
       "      window.d3 = d3;\n",
       "      LDAvis_load_lib(\"https://cdn.rawgit.com/bmabey/pyLDAvis/files/ldavis.v1.0.0.js\", function(){\n",
       "        new LDAvis(\"#\" + \"ldavis_el20581402730960685604469673872\", ldavis_el20581402730960685604469673872_data);\n",
       "      });\n",
       "    });\n",
       "}else{\n",
       "    // require.js not available: dynamically load d3 & LDAvis\n",
       "    LDAvis_load_lib(\"https://cdnjs.cloudflare.com/ajax/libs/d3/3.5.5/d3.min.js\", function(){\n",
       "         LDAvis_load_lib(\"https://cdn.rawgit.com/bmabey/pyLDAvis/files/ldavis.v1.0.0.js\", function(){\n",
       "                 new LDAvis(\"#\" + \"ldavis_el20581402730960685604469673872\", ldavis_el20581402730960685604469673872_data);\n",
       "            })\n",
       "         });\n",
       "}\n",
       "</script>"
      ],
      "text/plain": [
       "PreparedData(topic_coordinates=              x         y  topics  cluster       Freq\n",
       "topic                                                \n",
       "6      0.280816 -0.033874       1        1  30.267399\n",
       "9      0.245299 -0.238085       2        1  26.100817\n",
       "2      0.012407 -0.224270       3        1  11.849213\n",
       "7      0.023246  0.172190       4        1   9.067723\n",
       "4      0.072091  0.237652       5        1   6.670008\n",
       "5      0.072571  0.234015       6        1   5.709555\n",
       "8     -0.053025  0.002705       7        1   5.566611\n",
       "1     -0.213676 -0.052591       8        1   2.375348\n",
       "3     -0.218691 -0.051085       9        1   1.582495\n",
       "0     -0.221038 -0.046657      10        1   0.810831, topic_info=     Category           Freq      Term          Total  loglift  logprob\n",
       "49    Default  877352.000000      work  877352.000000  30.0000  30.0000\n",
       "974   Default  546754.000000      case  546754.000000  29.0000  29.0000\n",
       "19    Default  599065.000000     great  599065.000000  28.0000  28.0000\n",
       "205   Default  710053.000000      good  710053.000000  27.0000  27.0000\n",
       "1504  Default  405034.000000     sound  405034.000000  26.0000  26.0000\n",
       "...       ...            ...       ...            ...      ...      ...\n",
       "1866  Topic10    6206.013672   backlit    6206.580566   4.8148  -4.6716\n",
       "2507  Topic10    5685.168457     punch    5685.735352   4.8148  -4.7593\n",
       "3027  Topic10    5559.266602  playlist    5559.833496   4.8148  -4.7817\n",
       "5111  Topic10    5072.710449       wet    5073.277344   4.8148  -4.8732\n",
       "3311  Topic10    4997.942871  absolute    4998.509766   4.8148  -4.8881\n",
       "\n",
       "[396 rows x 6 columns], token_table=      Topic      Freq        Term\n",
       "term                             \n",
       "414       1  0.981428        able\n",
       "414       5  0.018569        able\n",
       "3311     10  0.999898    absolute\n",
       "384       2  0.999995    actually\n",
       "756       9  0.999968  affordable\n",
       "...     ...       ...         ...\n",
       "309       1  0.071112       would\n",
       "309       2  0.600357       would\n",
       "309       3  0.328531       would\n",
       "382       1  0.999993        year\n",
       "2132      6  0.999939     youtube\n",
       "\n",
       "[423 rows x 3 columns], R=30, lambda_step=0.01, plot_opts={'xlab': 'PC1', 'ylab': 'PC2'}, topic_order=[7, 10, 3, 8, 5, 6, 9, 2, 4, 1])"
      ]
     },
     "execution_count": 24,
     "metadata": {},
     "output_type": "execute_result"
    }
   ],
   "source": [
    "# visualise topics\n",
    "pyLDAvis.enable_notebook()\n",
    "vis = pyLDAvis.gensim.prepare(lda_model, corpus, id2word)\n",
    "vis"
   ]
  },
  {
   "cell_type": "markdown",
   "metadata": {},
   "source": [
    "Each bubble on the left-hand side plot represents a topic. The larger the bubble, the more prevalent the topic.\n",
    "\n",
    "A good topic model will have fairly big, non-overlapping bubbles scattered throughout the chart instead of being clustered in one quadrant. A model with too many topics, will have many overlaps, small-sized bubbles, clustered in one region of the chart. This plot shows a large number of small bubbles clustered on the lower left-side quadrant, and also some clustering at the top - this indicates that there are too many topics.\n",
    "\n",
    "When the cursor is moved over one of the bubbles, the words and bars on the right-hand side will update. These words are the salient keywords that form the selected topic."
   ]
  },
  {
   "cell_type": "markdown",
   "metadata": {},
   "source": [
    "#### Hyperparameter tuning\n",
    "\n",
    "With the baseline coherence score, a series of sensitivity tests can now be performed to help determine the following hyperparameters that optimise the coherence score:\n",
    "1. Number of topics (k)\n",
    "2. Dirichlet hyperparameter alpha: document-topic density\n",
    "3. Dirichlet hyperparameter beta: word-topic density\n",
    "\n",
    "The tests will be conducted in sequence, one parameter at a time, keeping others constant."
   ]
  },
  {
   "cell_type": "code",
   "execution_count": 25,
   "metadata": {},
   "outputs": [],
   "source": [
    "# supporting function\n",
    "def compute_coherence_values(corpus, dictionary, k, a, b):\n",
    "    \n",
    "    lda_model = gensim.models.LdaMulticore(corpus=corpus,\n",
    "                                           id2word=id2word,\n",
    "                                           num_topics=k, \n",
    "                                           random_state=100,\n",
    "                                           chunksize=100,\n",
    "                                           passes=10,\n",
    "                                           alpha=a,\n",
    "                                           eta=b,\n",
    "                                           per_word_topics=True)\n",
    "    \n",
    "    coherence_model_lda = CoherenceModel(model=lda_model, texts=data_lemmatized, dictionary=id2word, coherence='c_v')\n",
    "    \n",
    "    return coherence_model_lda.get_coherence()"
   ]
  },
  {
   "cell_type": "code",
   "execution_count": null,
   "metadata": {},
   "outputs": [],
   "source": [
    "#######################################################################\n",
    "#   works, but stopped as would have taken over 100 days to complete  #\n",
    "#                  with existing computing power                      #\n",
    "#######################################################################\n",
    "\n",
    "import tqdm\n",
    "\n",
    "grid = {}\n",
    "grid['Validation_Set'] = {} \n",
    "\n",
    "# topics range\n",
    "min_topics = 2\n",
    "max_topics = 15\n",
    "step_size = 1\n",
    "topics_range = range(min_topics, max_topics, step_size) \n",
    "\n",
    "#alpha parameter\n",
    "alpha = list(np.arange(0.01, 1, 0.3))\n",
    "alpha.append('symmetric')\n",
    "alpha.append('asymmetric') \n",
    "\n",
    "#beta parameter\n",
    "beta = list(np.arange(0.01, 1, 0.3))\n",
    "beta.append('symmetric')\n",
    "\n",
    "# validation sets\n",
    "num_of_docs = len(corpus)\n",
    "corpus_sets = [# gensim.utils.ClippedCorpus(corpus, num_of_docs*0.25), \n",
    "               # gensim.utils.ClippedCorpus(corpus, num_of_docs*0.5), \n",
    "               gensim.utils.ClippedCorpus(corpus, int(num_of_docs*0.75)), \n",
    "               corpus]\n",
    "\n",
    "corpus_title = ['75% Corpus', '100% Corpus']\n",
    "\n",
    "model_results = {'Validation_Set': [],\n",
    "                 'Topics': [],\n",
    "                 'Alpha': [],\n",
    "                 'Beta': [],\n",
    "                 'Coherence': []\n",
    "                }\n",
    "\n",
    "if 1 == 1:\n",
    "    pbar = tqdm.tqdm(total=540)\n",
    "    \n",
    "    # iterate through validation corpuses\n",
    "    for i in range(len(corpus_sets)):\n",
    "        \n",
    "        # iterate through number of topics\n",
    "        for k in topics_range:\n",
    "            \n",
    "            # iterate through alpha values\n",
    "            for a in alpha:\n",
    "                \n",
    "                # iterate through beta values\n",
    "                for b in beta:\n",
    "                    \n",
    "                    # get coherence score for the given parameters\n",
    "                    cv = compute_coherence_values(corpus=corpus_sets[i], dictionary=id2word, \n",
    "                                                  k=k, a=a, b=b)\n",
    "                    #save model results\n",
    "                    model_results['Validation_Set'].append(corpus_title[i])\n",
    "                    model_results['Topics'].append(k)\n",
    "                    model_results['Alpha'].append(a)\n",
    "                    model_results['Beta'].append(b)\n",
    "                    model_results['Coherence'].append(cv)\n",
    "                    \n",
    "                    pbar.update(1)\n",
    "    \n",
    "    pd.DataFrame(model_results).to_csv('lda_tuning_results.csv', index = False)\n",
    "    \n",
    "    pbar.close()"
   ]
  },
  {
   "cell_type": "markdown",
   "metadata": {},
   "source": [
    "#### Final model\n",
    "\n",
    "As hyperparameters could not be tuned due to computing power limitations, 'optimal' parameters will be selected arbitrarily. For purposes here, number of topics will be based on the plot above, which shows overlap. So number of topics will be selected based on the number of distinct bubble locations."
   ]
  },
  {
   "cell_type": "code",
   "execution_count": 27,
   "metadata": {},
   "outputs": [],
   "source": [
    "lda_model = gensim.models.LdaMulticore(corpus=corpus,\n",
    "                                       id2word=id2word,\n",
    "                                       num_topics=7, \n",
    "                                       random_state=100,\n",
    "                                       chunksize=100,\n",
    "                                       passes=10,\n",
    "                                       alpha=0.01,\n",
    "                                       eta=0.05,\n",
    "                                       per_word_topics=True)"
   ]
  },
  {
   "cell_type": "code",
   "execution_count": 28,
   "metadata": {},
   "outputs": [
    {
     "name": "stderr",
     "output_type": "stream",
     "text": [
      "/Users/charlottefettes/opt/anaconda3/lib/python3.7/site-packages/pyLDAvis/_prepare.py:257: FutureWarning: Sorting because non-concatenation axis is not aligned. A future version\n",
      "of pandas will change to not sort by default.\n",
      "\n",
      "To accept the future behavior, pass 'sort=False'.\n",
      "\n",
      "To retain the current behavior and silence the warning, pass 'sort=True'.\n",
      "\n",
      "  return pd.concat([default_term_info] + list(topic_dfs))\n"
     ]
    },
    {
     "data": {
      "text/html": [
       "\n",
       "<link rel=\"stylesheet\" type=\"text/css\" href=\"https://cdn.rawgit.com/bmabey/pyLDAvis/files/ldavis.v1.0.0.css\">\n",
       "\n",
       "\n",
       "<div id=\"ldavis_el20581401968885961763930689783\"></div>\n",
       "<script type=\"text/javascript\">\n",
       "\n",
       "var ldavis_el20581401968885961763930689783_data = {\"mdsDat\": {\"x\": [0.016794378890961928, 0.06576632759987339, -0.06752278413333715, 0.022875460155022023, 0.09426135577903487, 0.0712850045743658, -0.20345974286592083], \"y\": [-0.08191559682082665, 0.12922873401698115, -0.11728610226518058, -0.04817753086143523, -0.03451247440321079, 0.07415385678340147, 0.0785091135502705], \"topics\": [1, 2, 3, 4, 5, 6, 7], \"cluster\": [1, 1, 1, 1, 1, 1, 1], \"Freq\": [19.164663314819336, 17.404027938842773, 16.532806396484375, 12.790308952331543, 12.11599349975586, 11.14786434173584, 10.844330787658691]}, \"tinfo\": {\"Category\": [\"Default\", \"Default\", \"Default\", \"Default\", \"Default\", \"Default\", \"Default\", \"Default\", \"Default\", \"Default\", \"Default\", \"Default\", \"Default\", \"Default\", \"Default\", \"Default\", \"Default\", \"Default\", \"Default\", \"Default\", \"Default\", \"Default\", \"Default\", \"Default\", \"Default\", \"Default\", \"Default\", \"Default\", \"Default\", \"Default\", \"Topic1\", \"Topic1\", \"Topic1\", \"Topic1\", \"Topic1\", \"Topic1\", \"Topic1\", \"Topic1\", \"Topic1\", \"Topic1\", \"Topic1\", \"Topic1\", \"Topic1\", \"Topic1\", \"Topic1\", \"Topic1\", \"Topic1\", \"Topic1\", \"Topic1\", \"Topic1\", \"Topic1\", \"Topic1\", \"Topic1\", \"Topic1\", \"Topic1\", \"Topic1\", \"Topic1\", \"Topic1\", \"Topic1\", \"Topic1\", \"Topic1\", \"Topic1\", \"Topic1\", \"Topic1\", \"Topic1\", \"Topic1\", \"Topic1\", \"Topic1\", \"Topic1\", \"Topic1\", \"Topic1\", \"Topic1\", \"Topic1\", \"Topic1\", \"Topic1\", \"Topic1\", \"Topic1\", \"Topic1\", \"Topic1\", \"Topic1\", \"Topic1\", \"Topic1\", \"Topic1\", \"Topic1\", \"Topic1\", \"Topic1\", \"Topic1\", \"Topic1\", \"Topic1\", \"Topic1\", \"Topic1\", \"Topic1\", \"Topic1\", \"Topic1\", \"Topic1\", \"Topic1\", \"Topic1\", \"Topic1\", \"Topic1\", \"Topic1\", \"Topic1\", \"Topic1\", \"Topic1\", \"Topic1\", \"Topic1\", \"Topic1\", \"Topic1\", \"Topic1\", \"Topic1\", \"Topic1\", \"Topic1\", \"Topic1\", \"Topic1\", \"Topic1\", \"Topic1\", \"Topic1\", \"Topic2\", \"Topic2\", \"Topic2\", \"Topic2\", \"Topic2\", \"Topic2\", \"Topic2\", \"Topic2\", \"Topic2\", \"Topic2\", \"Topic2\", \"Topic2\", \"Topic2\", \"Topic2\", \"Topic2\", \"Topic2\", \"Topic2\", \"Topic2\", \"Topic2\", \"Topic2\", \"Topic2\", \"Topic2\", \"Topic2\", \"Topic2\", \"Topic2\", \"Topic2\", \"Topic2\", \"Topic2\", \"Topic2\", \"Topic2\", \"Topic2\", \"Topic2\", \"Topic2\", \"Topic2\", \"Topic2\", \"Topic2\", \"Topic2\", \"Topic2\", \"Topic2\", \"Topic2\", \"Topic2\", \"Topic2\", \"Topic2\", \"Topic2\", \"Topic2\", \"Topic2\", \"Topic2\", \"Topic2\", \"Topic2\", \"Topic2\", \"Topic2\", \"Topic2\", \"Topic2\", \"Topic2\", \"Topic2\", \"Topic2\", \"Topic2\", \"Topic2\", \"Topic2\", \"Topic2\", \"Topic2\", \"Topic2\", \"Topic2\", \"Topic2\", \"Topic2\", \"Topic2\", \"Topic2\", \"Topic2\", \"Topic2\", \"Topic2\", \"Topic2\", \"Topic2\", \"Topic2\", \"Topic3\", \"Topic3\", \"Topic3\", \"Topic3\", \"Topic3\", \"Topic3\", \"Topic3\", \"Topic3\", \"Topic3\", \"Topic3\", \"Topic3\", \"Topic3\", \"Topic3\", \"Topic3\", \"Topic3\", \"Topic3\", \"Topic3\", \"Topic3\", \"Topic3\", \"Topic3\", \"Topic3\", \"Topic3\", \"Topic3\", \"Topic3\", \"Topic3\", \"Topic3\", \"Topic3\", \"Topic3\", \"Topic3\", \"Topic3\", \"Topic3\", \"Topic3\", \"Topic3\", \"Topic3\", \"Topic3\", \"Topic3\", \"Topic3\", \"Topic3\", \"Topic3\", \"Topic3\", \"Topic3\", \"Topic3\", \"Topic3\", \"Topic3\", \"Topic3\", \"Topic3\", \"Topic3\", \"Topic3\", \"Topic3\", \"Topic3\", \"Topic3\", \"Topic3\", \"Topic3\", \"Topic3\", \"Topic3\", \"Topic3\", \"Topic3\", \"Topic3\", \"Topic3\", \"Topic3\", \"Topic3\", \"Topic3\", \"Topic3\", \"Topic3\", \"Topic3\", \"Topic3\", \"Topic3\", \"Topic3\", \"Topic3\", \"Topic3\", \"Topic3\", \"Topic3\", \"Topic3\", \"Topic3\", \"Topic3\", \"Topic3\", \"Topic3\", \"Topic3\", \"Topic3\", \"Topic3\", \"Topic3\", \"Topic3\", \"Topic3\", \"Topic4\", \"Topic4\", \"Topic4\", \"Topic4\", \"Topic4\", \"Topic4\", \"Topic4\", \"Topic4\", \"Topic4\", \"Topic4\", \"Topic4\", \"Topic4\", \"Topic4\", \"Topic4\", \"Topic4\", \"Topic4\", \"Topic4\", \"Topic4\", \"Topic4\", \"Topic4\", \"Topic4\", \"Topic4\", \"Topic4\", \"Topic4\", \"Topic4\", \"Topic4\", \"Topic4\", \"Topic4\", \"Topic4\", \"Topic4\", \"Topic4\", \"Topic4\", \"Topic4\", \"Topic4\", \"Topic4\", \"Topic4\", \"Topic4\", \"Topic4\", \"Topic4\", \"Topic4\", \"Topic4\", \"Topic4\", \"Topic4\", \"Topic4\", \"Topic4\", \"Topic4\", \"Topic4\", \"Topic4\", \"Topic4\", \"Topic4\", \"Topic4\", \"Topic4\", \"Topic4\", \"Topic4\", \"Topic4\", \"Topic4\", \"Topic4\", \"Topic4\", \"Topic4\", \"Topic4\", \"Topic4\", \"Topic4\", \"Topic4\", \"Topic4\", \"Topic4\", \"Topic4\", \"Topic4\", \"Topic4\", \"Topic4\", \"Topic4\", \"Topic4\", \"Topic4\", \"Topic4\", \"Topic4\", \"Topic4\", \"Topic5\", \"Topic5\", \"Topic5\", \"Topic5\", \"Topic5\", \"Topic5\", \"Topic5\", \"Topic5\", \"Topic5\", \"Topic5\", \"Topic5\", \"Topic5\", \"Topic5\", \"Topic5\", \"Topic5\", \"Topic5\", \"Topic5\", \"Topic5\", \"Topic5\", \"Topic5\", \"Topic5\", \"Topic5\", \"Topic5\", \"Topic5\", \"Topic5\", \"Topic5\", \"Topic5\", \"Topic5\", \"Topic5\", \"Topic5\", \"Topic5\", \"Topic5\", \"Topic5\", \"Topic5\", \"Topic5\", \"Topic5\", \"Topic5\", \"Topic5\", \"Topic5\", \"Topic5\", \"Topic5\", \"Topic5\", \"Topic5\", \"Topic5\", \"Topic5\", \"Topic5\", \"Topic5\", \"Topic5\", \"Topic5\", \"Topic5\", \"Topic5\", \"Topic5\", \"Topic5\", \"Topic5\", \"Topic5\", \"Topic5\", \"Topic5\", \"Topic5\", \"Topic5\", \"Topic5\", \"Topic5\", \"Topic5\", \"Topic5\", \"Topic5\", \"Topic5\", \"Topic5\", \"Topic5\", \"Topic5\", \"Topic5\", \"Topic5\", \"Topic5\", \"Topic5\", \"Topic5\", \"Topic5\", \"Topic5\", \"Topic5\", \"Topic5\", \"Topic5\", \"Topic5\", \"Topic6\", \"Topic6\", \"Topic6\", \"Topic6\", \"Topic6\", \"Topic6\", \"Topic6\", \"Topic6\", \"Topic6\", \"Topic6\", \"Topic6\", \"Topic6\", \"Topic6\", \"Topic6\", \"Topic6\", \"Topic6\", \"Topic6\", \"Topic6\", \"Topic6\", \"Topic6\", \"Topic6\", \"Topic6\", \"Topic6\", \"Topic6\", \"Topic6\", \"Topic6\", \"Topic6\", \"Topic6\", \"Topic6\", \"Topic6\", \"Topic6\", \"Topic6\", \"Topic6\", \"Topic6\", \"Topic6\", \"Topic6\", \"Topic6\", \"Topic6\", \"Topic6\", \"Topic6\", \"Topic6\", \"Topic6\", \"Topic6\", \"Topic6\", \"Topic6\", \"Topic6\", \"Topic6\", \"Topic6\", \"Topic6\", \"Topic6\", \"Topic6\", \"Topic6\", \"Topic6\", \"Topic6\", \"Topic6\", \"Topic6\", \"Topic6\", \"Topic6\", \"Topic6\", \"Topic6\", \"Topic6\", \"Topic6\", \"Topic6\", \"Topic6\", \"Topic6\", \"Topic6\", \"Topic6\", \"Topic7\", \"Topic7\", \"Topic7\", \"Topic7\", \"Topic7\", \"Topic7\", \"Topic7\", \"Topic7\", \"Topic7\", \"Topic7\", \"Topic7\", \"Topic7\", \"Topic7\", \"Topic7\", \"Topic7\", \"Topic7\", \"Topic7\", \"Topic7\", \"Topic7\", \"Topic7\", \"Topic7\", \"Topic7\", \"Topic7\", \"Topic7\", \"Topic7\", \"Topic7\", \"Topic7\", \"Topic7\", \"Topic7\", \"Topic7\", \"Topic7\", \"Topic7\", \"Topic7\", \"Topic7\", \"Topic7\", \"Topic7\", \"Topic7\", \"Topic7\", \"Topic7\", \"Topic7\", \"Topic7\", \"Topic7\", \"Topic7\", \"Topic7\", \"Topic7\", \"Topic7\", \"Topic7\", \"Topic7\", \"Topic7\", \"Topic7\", \"Topic7\", \"Topic7\", \"Topic7\", \"Topic7\", \"Topic7\", \"Topic7\", \"Topic7\", \"Topic7\", \"Topic7\", \"Topic7\", \"Topic7\", \"Topic7\", \"Topic7\", \"Topic7\", \"Topic7\", \"Topic7\", \"Topic7\", \"Topic7\", \"Topic7\", \"Topic7\", \"Topic7\", \"Topic7\", \"Topic7\", \"Topic7\", \"Topic7\"], \"Freq\": [475887.0, 450290.0, 557780.0, 336484.0, 285805.0, 325747.0, 262792.0, 239165.0, 282964.0, 336282.0, 159441.0, 200669.0, 197310.0, 352788.0, 422251.0, 241107.0, 231206.0, 966107.0, 370452.0, 263075.0, 196253.0, 263040.0, 152689.0, 156048.0, 395631.0, 190155.0, 207401.0, 257216.0, 173854.0, 99168.0, 24191.548828125, 14455.845703125, 13657.4228515625, 10300.689453125, 9379.6435546875, 7117.57568359375, 7093.56591796875, 5778.00439453125, 5766.7939453125, 5202.1630859375, 5002.08544921875, 4015.366455078125, 3407.166748046875, 3364.52490234375, 2749.412109375, 2727.627685546875, 2361.217529296875, 2261.895263671875, 2185.927001953125, 2099.090576171875, 2034.639892578125, 1778.663330078125, 1729.8709716796875, 1610.1015625, 1497.7891845703125, 1423.9501953125, 1355.8699951171875, 1319.8878173828125, 1214.815673828125, 1148.566650390625, 25855.775390625, 104722.1328125, 16939.755859375, 53728.55859375, 51824.3046875, 4913.509765625, 277314.09375, 31712.109375, 33402.59765625, 12252.5625, 6569.72607421875, 271551.9375, 36354.4609375, 77843.0703125, 43172.83984375, 57155.58984375, 21057.638671875, 12044.1728515625, 88059.8046875, 46561.89453125, 91888.6328125, 306461.4375, 245566.4375, 69673.5703125, 55896.26953125, 63461.99609375, 81251.609375, 115195.1484375, 48904.16015625, 66864.4375, 62950.125, 65046.359375, 135780.546875, 104924.7109375, 391152.375, 203412.921875, 169821.125, 133569.40625, 255598.15625, 127540.1875, 111413.2421875, 212880.140625, 200336.421875, 167367.765625, 190789.0625, 95543.6484375, 209817.28125, 140039.171875, 103700.203125, 83873.0546875, 92387.75, 89684.125, 85778.53125, 83831.078125, 84947.046875, 83900.0234375, 93642.5859375, 65403.06640625, 55985.75, 36711.203125, 33244.94921875, 32440.06640625, 30901.74609375, 25219.005859375, 23505.51953125, 17895.314453125, 17602.58984375, 16369.8759765625, 15966.333984375, 14581.6953125, 12644.1025390625, 12475.1865234375, 11411.2001953125, 10202.05078125, 10108.5595703125, 9323.689453125, 9194.5341796875, 8909.30859375, 8559.021484375, 7083.9208984375, 6945.0419921875, 6874.525390625, 6029.1103515625, 5632.474609375, 5532.36572265625, 5321.67919921875, 199118.46875, 543239.875, 72223.8125, 31490.865234375, 72617.1171875, 31022.421875, 211407.96875, 26067.5078125, 169765.921875, 42326.6640625, 33813.59375, 83653.84375, 35404.35546875, 48772.6484375, 115697.7265625, 26326.765625, 185259.921875, 49269.21484375, 31418.45703125, 45309.921875, 111676.484375, 64056.9296875, 101709.859375, 153496.734375, 134746.765625, 65932.71875, 148880.921875, 72961.328125, 206915.8125, 55724.1484375, 87539.2734375, 91233.046875, 97376.7421875, 121931.8125, 81055.46875, 123367.265625, 69391.875, 107902.046875, 90880.9921875, 85165.484375, 98027.5, 85444.2421875, 71850.7421875, 325747.34375, 112673.1640625, 51629.53515625, 30403.755859375, 21332.7890625, 20689.45703125, 17553.71484375, 11510.8779296875, 10585.0234375, 10564.6083984375, 11004.892578125, 7769.2109375, 7515.275390625, 7507.39013671875, 6920.80419921875, 4848.66015625, 4433.095703125, 4302.97802734375, 3867.74853515625, 3683.426513671875, 3225.345703125, 2451.438720703125, 2433.826416015625, 2430.31640625, 2309.8271484375, 2295.075927734375, 2223.9072265625, 2190.6103515625, 2141.66748046875, 1894.79248046875, 101330.171875, 37513.0078125, 15091.755859375, 7956.966796875, 6775.14892578125, 7617.73046875, 5265.97021484375, 22120.802734375, 34357.078125, 203248.359375, 25419.8125, 114643.21875, 43700.765625, 14568.6845703125, 32476.271484375, 94468.421875, 43462.9296875, 37045.64453125, 103468.9765625, 50228.96484375, 44118.515625, 44508.234375, 18432.140625, 138116.9375, 57076.49609375, 20549.48828125, 63975.76171875, 29072.2734375, 117022.96875, 63719.1953125, 98856.3359375, 93407.8671875, 56971.3046875, 68538.0546875, 51350.94921875, 53160.17578125, 81680.4453125, 105949.390625, 237338.046875, 71310.109375, 153723.546875, 84007.6796875, 117574.796875, 96033.609375, 60847.703125, 72669.390625, 80760.5, 79767.7734375, 82301.2265625, 66111.3125, 71028.46875, 68367.1015625, 62265.625, 239165.125, 95766.359375, 78593.234375, 15447.21875, 14721.9658203125, 10377.7099609375, 9192.015625, 7577.65625, 5851.650390625, 5732.9013671875, 5362.89697265625, 5126.494140625, 4765.693359375, 3694.744384765625, 3527.312255859375, 3519.109619140625, 3258.22998046875, 3002.037109375, 2589.632568359375, 2485.30517578125, 2157.315673828125, 1975.629150390625, 1755.7781982421875, 1639.76416015625, 1627.3685302734375, 1432.2242431640625, 1335.5203857421875, 1288.919921875, 1185.2139892578125, 1135.4581298828125, 1218.9256591796875, 88329.2890625, 138935.75, 36305.95703125, 7991.34130859375, 30558.904296875, 80085.3515625, 15122.4267578125, 8937.71484375, 10094.5576171875, 8494.66796875, 60292.22265625, 27184.9296875, 12130.9638671875, 124105.21875, 11853.9443359375, 50150.21484375, 42124.71875, 72889.1015625, 42154.0546875, 130695.203125, 72290.7578125, 49628.58203125, 117471.578125, 262758.375, 66567.0859375, 44408.17578125, 68833.234375, 16918.234375, 34306.77734375, 80107.8828125, 72849.1328125, 33467.11328125, 56563.55078125, 46159.85546875, 55521.77734375, 63060.375, 81552.578125, 71346.3671875, 56287.46875, 60664.9765625, 60746.98828125, 52922.41796875, 51600.19140625, 48910.41015625, 475887.5, 66383.03125, 57294.453125, 39697.4921875, 25389.927734375, 15410.4052734375, 15088.8359375, 14527.2197265625, 12755.607421875, 11165.7294921875, 10602.0458984375, 9583.7734375, 8675.71484375, 4928.14794921875, 3872.762451171875, 3430.281005859375, 3422.345458984375, 3294.826416015625, 2883.51904296875, 1936.0426025390625, 1768.4619140625, 1684.26123046875, 1519.8365478515625, 1517.38671875, 1498.8992919921875, 1387.1768798828125, 1274.5050048828125, 1230.672119140625, 1203.46826171875, 1096.6131591796875, 38825.16015625, 96838.2734375, 15007.07421875, 9931.1171875, 10921.8046875, 171112.421875, 4118.55908203125, 7591.30078125, 13622.3603515625, 84206.671875, 11782.876953125, 13260.1201171875, 22535.5390625, 29899.935546875, 22190.453125, 30095.55078125, 8295.765625, 60018.95703125, 10857.556640625, 35455.26171875, 147471.0, 70089.7890625, 59052.7578125, 35511.26171875, 107836.5234375, 44793.51171875, 25161.576171875, 57031.53515625, 34077.76953125, 119976.5703125, 120226.6640625, 52031.89453125, 63214.921875, 132271.5, 176737.578125, 39919.16796875, 76008.0546875, 90177.7578125, 60911.55859375, 55338.89453125, 60198.67578125, 74868.28125, 60287.40625, 74203.1015625, 57953.8046875, 59958.23046875, 57597.51171875, 56910.890625, 57345.71875, 450290.34375, 262791.84375, 159440.875, 99168.125, 72259.96875, 69329.0546875, 38530.5859375, 24214.490234375, 19382.888671875, 19405.09765625, 13702.85546875, 13644.5146484375, 11014.033203125, 10384.9404296875, 9188.9208984375, 5671.21533203125, 5114.87109375, 5043.60791015625, 4728.138671875, 4191.73388671875, 4132.49658203125, 3931.093994140625, 3743.7138671875, 3397.53369140625, 3341.951416015625, 2878.317626953125, 2527.38671875, 2374.699462890625, 2283.615234375, 2202.05615234375, 44617.25390625, 59267.2890625, 134806.375, 90043.171875, 20608.146484375, 17255.015625, 12559.0517578125, 60222.38671875, 73294.3828125, 14287.80859375, 19535.208984375, 85165.609375, 76827.25, 34986.72265625, 11223.7236328125, 137884.40625, 27659.587890625, 30500.806640625, 153072.453125, 68109.6015625, 60630.30078125, 67146.1640625, 36063.640625, 47246.76953125, 86956.3984375, 112801.6484375, 77529.2109375, 63956.1953125, 63607.51171875, 53606.31640625, 58514.66015625, 55316.1796875, 60378.734375, 48558.36328125, 49926.78515625, 49258.89453125, 48705.6953125, 336483.9375, 285805.15625, 72129.484375, 25610.28125, 25538.666015625, 16560.578125, 13439.802734375, 9041.580078125, 6387.2119140625, 6358.99658203125, 5488.14501953125, 4768.48681640625, 3195.31494140625, 2930.326416015625, 2753.697265625, 2726.82666015625, 2241.616455078125, 1935.802001953125, 1483.13427734375, 1387.9256591796875, 1225.0260009765625, 1217.8056640625, 1199.5296630859375, 1175.2655029296875, 1145.4136962890625, 1116.3394775390625, 1111.3277587890625, 1090.981689453125, 45748.51171875, 983.767333984375, 54358.75, 55590.18359375, 64697.40234375, 31756.791015625, 15096.6640625, 11879.23828125, 5127.21435546875, 4881.75732421875, 6526.0205078125, 4224.7158203125, 14127.3369140625, 144261.375, 71268.484375, 137470.96875, 14868.8525390625, 169947.625, 35768.8046875, 79982.0625, 35629.77734375, 113282.6953125, 171788.015625, 32229.2890625, 42429.07421875, 31444.517578125, 174356.875, 55138.33203125, 31786.775390625, 46741.1328125, 52208.359375, 220717.5, 49799.8359375, 109115.1484375, 186858.859375, 47773.359375, 43514.421875, 59533.42578125, 90351.5703125, 61143.33203125, 63684.6796875, 44495.38671875, 65467.640625, 59403.17578125, 54936.52734375, 49392.7890625, 48225.69140625], \"Term\": [\"camera\", \"sound\", \"case\", \"cable\", \"tv\", \"drive\", \"speaker\", \"keyboard\", \"usb\", \"charge\", \"headphone\", \"cover\", \"picture\", \"battery\", \"device\", \"ipad\", \"card\", \"work\", \"screen\", \"power\", \"port\", \"video\", \"music\", \"button\", \"quality\", \"plug\", \"fit\", \"tablet\", \"connect\", \"ear\", \"seller\", \"refund\", \"motherboard\", \"vga\", \"rig\", \"purple\", \"sticky\", \"transport\", \"onkyo\", \"isolation\", \"oem\", \"prong\", \"blend\", \"otg\", \"sle\", \"displayport\", \"contacted\", \"installer\", \"continually\", \"batter\", \"finicky\", \"clothe\", \"operational\", \"sew\", \"coin\", \"dealer\", \"pricy\", \"butt\", \"lasted\", \"vid\", \"shipping\", \"charger\", \"defective\", \"replacement\", \"customer\", \"promptly\", \"charge\", \"ship\", \"warranty\", \"repair\", \"prompt\", \"battery\", \"arrive\", \"return\", \"company\", \"send\", \"die\", \"delivery\", \"month\", \"original\", \"last\", \"buy\", \"product\", \"pay\", \"brand\", \"week\", \"order\", \"day\", \"service\", \"item\", \"receive\", \"money\", \"purchase\", \"year\", \"work\", \"time\", \"price\", \"phone\", \"get\", \"say\", \"review\", \"great\", \"would\", \"go\", \"good\", \"new\", \"use\", \"well\", \"come\", \"know\", \"try\", \"problem\", \"first\", \"give\", \"need\", \"make\", \"protector\", \"bag\", \"protection\", \"strap\", \"bubble\", \"shot\", \"leather\", \"dust\", \"magnet\", \"slip\", \"protective\", \"backpack\", \"bud\", \"securely\", \"magnetic\", \"compartment\", \"holder\", \"sleeve\", \"aluminum\", \"velcro\", \"cloth\", \"hinge\", \"skin\", \"leg\", \"folio\", \"exposure\", \"dash\", \"object\", \"glue\", \"padding\", \"cover\", \"case\", \"protect\", \"scratch\", \"plastic\", \"fold\", \"ipad\", \"rubber\", \"fit\", \"pocket\", \"material\", \"stand\", \"sturdy\", \"air\", \"hold\", \"slide\", \"screen\", \"carry\", \"edge\", \"remove\", \"feel\", \"side\", \"nice\", \"make\", \"look\", \"design\", \"well\", \"put\", \"use\", \"place\", \"tablet\", \"little\", \"easy\", \"would\", \"small\", \"good\", \"keep\", \"great\", \"also\", \"really\", \"get\", \"work\", \"product\", \"drive\", \"router\", \"transfer\", \"disk\", \"server\", \"cpu\", \"ram\", \"netgear\", \"photographer\", \"gopro\", \"gb\", \"silent\", \"imac\", \"gpu\", \"overclocke\", \"ghz\", \"microsd\", \"reconnect\", \"gigabyte\", \"recovery\", \"sandisk\", \"rom\", \"virus\", \"ipod\", \"slower\", \"uninstall\", \"corrupt\", \"offline\", \"alignment\", \"either\", \"file\", \"boot\", \"core\", \"gig\", \"mb\", \"partition\", \"benchmark\", \"processor\", \"datum\", \"card\", \"graphic\", \"speed\", \"machine\", \"disc\", \"firmware\", \"software\", \"storage\", \"load\", \"window\", \"memory\", \"driver\", \"download\", \"streaming\", \"computer\", \"network\", \"reader\", \"instal\", \"backup\", \"run\", \"pc\", \"fast\", \"hard\", \"install\", \"support\", \"wifi\", \"performance\", \"laptop\", \"usb\", \"use\", \"system\", \"work\", \"video\", \"get\", \"time\", \"update\", \"problem\", \"need\", \"device\", \"go\", \"issue\", \"would\", \"also\", \"old\", \"keyboard\", \"remote\", \"mouse\", \"gps\", \"shutter\", \"scroll\", \"map\", \"touchpad\", \"alert\", \"alarm\", \"garmin\", \"firmly\", \"gesture\", \"navigation\", \"shortcut\", \"arrow\", \"dpi\", \"inputs\", \"composite\", \"pointer\", \"repeatedly\", \"onscreen\", \"gateway\", \"scrolling\", \"cursor\", \"saturation\", \"region\", \"depress\", \"powerline\", \"awake\", \"productive\", \"key\", \"button\", \"press\", \"command\", \"click\", \"app\", \"responsive\", \"tap\", \"typing\", \"icon\", \"touch\", \"android\", \"text\", \"tablet\", \"enter\", \"type\", \"function\", \"turn\", \"display\", \"screen\", \"feature\", \"control\", \"device\", \"use\", \"unit\", \"bluetooth\", \"find\", \"page\", \"hand\", \"time\", \"also\", \"mode\", \"thing\", \"feel\", \"easy\", \"go\", \"work\", \"get\", \"really\", \"make\", \"would\", \"want\", \"battery\", \"take\", \"camera\", \"lens\", \"focus\", \"lense\", \"dslr\", \"nikon\", \"photography\", \"cam\", \"elastic\", \"camcorder\", \"viewfinder\", \"shooting\", \"glove\", \"footage\", \"webcam\", \"lovely\", \"hooked\", \"jpeg\", \"engineering\", \"daytime\", \"lumen\", \"interruption\", \"rebel\", \"reccomend\", \"desirable\", \"decode\", \"flower\", \"widely\", \"dsl\", \"cannon\", \"zoom\", \"image\", \"capture\", \"scene\", \"subject\", \"picture\", \"vivid\", \"pixel\", \"raw\", \"photo\", \"pic\", \"contrast\", \"filter\", \"frame\", \"lcd\", \"sharp\", \"shoulder\", \"flash\", \"lighting\", \"resolution\", \"video\", \"color\", \"mode\", \"bright\", \"light\", \"view\", \"auto\", \"monitor\", \"record\", \"take\", \"quality\", \"low\", \"feature\", \"good\", \"use\", \"setting\", \"look\", \"great\", \"see\", \"high\", \"set\", \"well\", \"want\", \"get\", \"much\", \"also\", \"really\", \"price\", \"make\", \"sound\", \"speaker\", \"headphone\", \"ear\", \"bass\", \"listen\", \"headset\", \"earbud\", \"earphone\", \"bose\", \"sub\", \"subwoofer\", \"treble\", \"audiophile\", \"listening\", \"gym\", \"vocal\", \"distort\", \"overheat\", \"logic\", \"headband\", \"classical\", \"midrange\", \"equalizer\", \"genre\", \"acoustic\", \"considerable\", \"dent\", \"noise_cancellation\", \"woofer\", \"loud\", \"radio\", \"music\", \"volume\", \"stereo\", \"song\", \"frequency\", \"hear\", \"pair\", \"microphone\", \"mid\", \"bluetooth\", \"audio\", \"noise\", \"comfort\", \"quality\", \"head\", \"comfortable\", \"good\", \"high\", \"play\", \"phone\", \"range\", \"system\", \"great\", \"use\", \"well\", \"really\", \"price\", \"set\", \"also\", \"much\", \"get\", \"little\", \"would\", \"make\", \"look\", \"cable\", \"tv\", \"hdmi\", \"outlet\", \"ethernet\", \"extender\", \"antenna\", \"client\", \"dvi\", \"vizio\", \"lid\", \"volt\", \"enthusiast\", \"downgrade\", \"remarkable\", \"equip\", \"wobble\", \"quietly\", \"antennae\", \"attic\", \"fasten\", \"stripe\", \"police\", \"stud\", \"covering\", \"poster\", \"receptacle\", \"packed\", \"hub\", \"dip\", \"connector\", \"channel\", \"signal\", \"wall\", \"television\", \"dvr\", \"basement\", \"tuner\", \"broadcast\", \"apartment\", \"bedroom\", \"port\", \"adapter\", \"plug\", \"configure\", \"power\", \"supply\", \"connection\", \"input\", \"connect\", \"usb\", \"output\", \"wire\", \"hook\", \"device\", \"room\", \"foot\", \"cord\", \"monitor\", \"work\", \"watch\", \"need\", \"use\", \"wireless\", \"setup\", \"unit\", \"great\", \"set\", \"easy\", \"box\", \"well\", \"get\", \"would\", \"good\", \"also\"], \"Total\": [475887.0, 450290.0, 557780.0, 336484.0, 285805.0, 325747.0, 262792.0, 239165.0, 282964.0, 336282.0, 159441.0, 200669.0, 197310.0, 352788.0, 422251.0, 241107.0, 231206.0, 966107.0, 370452.0, 263075.0, 196253.0, 263040.0, 152689.0, 156048.0, 395631.0, 190155.0, 207401.0, 257216.0, 173854.0, 99168.0, 24191.826171875, 14456.1240234375, 13657.701171875, 10300.9677734375, 9379.921875, 7117.85400390625, 7093.84423828125, 5778.28271484375, 5767.072265625, 5202.44140625, 5002.36376953125, 4015.64453125, 3407.44482421875, 3364.802978515625, 2749.690185546875, 2727.90576171875, 2361.49560546875, 2262.17333984375, 2186.205078125, 2099.36865234375, 2034.9178466796875, 1778.9412841796875, 1730.14892578125, 1610.3795166015625, 1498.067138671875, 1424.2281494140625, 1356.14794921875, 1320.165771484375, 1215.0936279296875, 1148.8446044921875, 25869.923828125, 110358.8515625, 17517.21484375, 57190.15234375, 57397.03125, 5066.4658203125, 336282.75, 35560.09375, 37863.78515625, 13332.208984375, 6943.81494140625, 352788.03125, 42497.97265625, 95877.546875, 51865.3359375, 71209.71875, 24446.61328125, 13409.265625, 116952.7734375, 58620.6640625, 127959.671875, 505512.09375, 400191.875, 97912.5703125, 76415.2578125, 89423.515625, 119791.671875, 182983.9375, 67455.53125, 97859.109375, 91701.671875, 96109.2734375, 239620.578125, 176477.515625, 966107.3125, 488275.53125, 389167.25, 278084.34375, 736531.875, 285280.8125, 235127.375, 662456.625, 604405.8125, 482058.6875, 748918.75, 218653.328125, 1393227.625, 607575.375, 358181.21875, 197749.671875, 279401.625, 270517.9375, 235461.296875, 247328.1875, 432008.75, 508221.71875, 93642.875, 65403.35546875, 55986.0390625, 36711.4921875, 33245.23828125, 32440.357421875, 30902.037109375, 25219.296875, 23505.810546875, 17895.60546875, 17602.880859375, 16370.16796875, 15966.6259765625, 14581.9873046875, 12644.39453125, 12475.478515625, 11411.4921875, 10202.3427734375, 10108.8515625, 9323.9814453125, 9194.826171875, 8909.6005859375, 8559.3134765625, 7084.21337890625, 6945.33447265625, 6874.81787109375, 6029.40283203125, 5632.76708984375, 5532.658203125, 5321.9716796875, 200669.234375, 557780.625, 73084.546875, 32366.517578125, 76409.8046875, 32082.7109375, 241107.390625, 27967.6640625, 207401.328125, 48038.5234375, 37824.99609375, 104995.390625, 41254.0703125, 59252.2109375, 159626.125, 29872.27734375, 370452.9375, 69761.0078125, 38940.39453125, 63591.73828125, 219227.109375, 121462.625, 253927.671875, 508221.71875, 423028.0, 133732.671875, 607575.375, 168702.875, 1393227.625, 102199.15625, 257216.3125, 290537.34375, 344232.8125, 604405.8125, 246576.234375, 748918.75, 182959.265625, 662456.625, 429874.125, 391878.875, 736531.875, 966107.3125, 400191.875, 325747.65625, 112673.453125, 51629.8203125, 30404.044921875, 21333.078125, 20689.74609375, 17554.00390625, 11511.16796875, 10585.3134765625, 10564.8984375, 11005.2841796875, 7769.50146484375, 7515.56591796875, 7507.6806640625, 6921.0947265625, 4848.95068359375, 4433.38623046875, 4303.2685546875, 3868.03857421875, 3683.716552734375, 3225.6357421875, 2451.728759765625, 2434.116455078125, 2430.6064453125, 2310.1171875, 2295.365966796875, 2224.197265625, 2190.900390625, 2141.95751953125, 1895.08251953125, 103250.8359375, 38147.8671875, 15305.69921875, 8073.59912109375, 6867.658203125, 7742.029296875, 5330.8955078125, 23118.736328125, 36408.77734375, 231206.90625, 27544.107421875, 133988.21875, 49062.57421875, 15456.5185546875, 36255.515625, 116802.265625, 51580.49609375, 43795.67578125, 135402.0, 61991.13671875, 53711.20703125, 54928.33203125, 20636.95703125, 222311.84375, 78525.46875, 23483.681640625, 93460.2265625, 35764.64453125, 199600.109375, 94602.484375, 171765.875, 171302.796875, 88683.671875, 119705.8671875, 78497.46875, 87571.6171875, 174375.4375, 282964.71875, 1393227.625, 168844.546875, 966107.3125, 263040.625, 736531.875, 488275.53125, 147411.78125, 270517.9375, 432008.75, 422251.6875, 482058.6875, 233414.203125, 604405.8125, 429874.125, 189187.1875, 239165.421875, 95766.6640625, 78593.53125, 15447.513671875, 14722.2607421875, 10378.0048828125, 9192.310546875, 7577.95068359375, 5851.94482421875, 5733.19580078125, 5363.19140625, 5126.78857421875, 4765.98779296875, 3695.03857421875, 3527.6064453125, 3519.40380859375, 3258.524169921875, 3002.331298828125, 2589.9267578125, 2485.599365234375, 2157.60986328125, 1975.9234619140625, 1756.072509765625, 1640.0584716796875, 1627.662841796875, 1432.5185546875, 1335.814697265625, 1289.2142333984375, 1185.50830078125, 1135.75244140625, 1219.978515625, 93275.671875, 156048.0, 40918.9140625, 8551.279296875, 35336.6328125, 105664.4296875, 17818.837890625, 10214.7265625, 11841.8349609375, 9833.09765625, 88195.46875, 36930.74609375, 15146.6796875, 257216.3125, 15510.54296875, 94435.921875, 78283.953125, 163252.65625, 80372.796875, 370452.9375, 197562.171875, 117854.7578125, 422251.6875, 1393227.625, 210730.109375, 129574.0234375, 294583.28125, 28385.759765625, 98802.1953125, 488275.53125, 429874.125, 99247.765625, 304903.15625, 219227.109375, 344232.8125, 482058.6875, 966107.3125, 736531.875, 391878.875, 508221.71875, 604405.8125, 355400.90625, 352788.03125, 374076.65625, 475887.8125, 66383.3125, 57294.7265625, 39697.765625, 25390.203125, 15410.6826171875, 15089.11328125, 14527.4970703125, 12755.884765625, 11166.0068359375, 10602.3232421875, 9584.05078125, 8675.9921875, 4928.42529296875, 3873.039794921875, 3430.558349609375, 3422.622802734375, 3295.103759765625, 2883.79638671875, 1936.3199462890625, 1768.7392578125, 1684.53857421875, 1520.1138916015625, 1517.6640625, 1499.1766357421875, 1387.4542236328125, 1274.7823486328125, 1230.949462890625, 1203.74560546875, 1096.8905029296875, 39332.2109375, 102654.6015625, 15547.4208984375, 10237.3515625, 11320.853515625, 197310.859375, 4232.23388671875, 7968.65869140625, 14670.353515625, 98319.6484375, 12700.0732421875, 14403.4228515625, 25190.203125, 34582.6640625, 25175.84765625, 35470.05859375, 8907.283203125, 83904.4765625, 12052.7431640625, 48194.04296875, 263040.625, 120190.2109375, 99247.765625, 52634.01953125, 225323.25, 74590.21875, 34673.53125, 111511.3515625, 55028.5078125, 374076.65625, 395631.40625, 138217.984375, 197562.171875, 748918.75, 1393227.625, 89715.6875, 423028.0, 662456.625, 267371.84375, 209808.40625, 275725.28125, 607575.375, 355400.90625, 736531.875, 368406.1875, 429874.125, 391878.875, 389167.25, 508221.71875, 450290.625, 262792.125, 159441.15625, 99168.40625, 72260.25, 69329.3359375, 38530.86328125, 24214.771484375, 19383.169921875, 19405.37890625, 13703.13671875, 13644.7958984375, 11014.314453125, 10385.2216796875, 9189.2021484375, 5671.49658203125, 5115.15234375, 5043.88916015625, 4728.419921875, 4192.01513671875, 4132.77783203125, 3931.375, 3743.994873046875, 3397.814697265625, 3342.232421875, 2878.5986328125, 2527.667724609375, 2374.98046875, 2283.896240234375, 2202.337158203125, 46114.30859375, 62181.73828125, 152689.3125, 102355.0703125, 22154.771484375, 18456.666015625, 13647.3798828125, 75421.7734375, 98975.234375, 16431.306640625, 23769.197265625, 129574.0234375, 117292.984375, 51925.3515625, 13641.3671875, 395631.40625, 45478.9453125, 55980.0, 748918.75, 209808.40625, 179792.921875, 278084.34375, 92179.0703125, 168844.546875, 662456.625, 1393227.625, 607575.375, 391878.875, 389167.25, 275725.28125, 429874.125, 368406.1875, 736531.875, 290537.34375, 604405.8125, 508221.71875, 423028.0, 336484.21875, 285805.4375, 72129.765625, 25610.564453125, 25538.94921875, 16560.861328125, 13440.0869140625, 9041.8642578125, 6387.49560546875, 6359.2802734375, 5488.4287109375, 4768.7705078125, 3195.598876953125, 2930.6103515625, 2753.981201171875, 2727.110595703125, 2241.900390625, 1936.0859375, 1483.418212890625, 1388.2095947265625, 1225.3099365234375, 1218.089599609375, 1199.8135986328125, 1175.5494384765625, 1145.6976318359375, 1116.6234130859375, 1111.6116943359375, 1091.265625, 45761.703125, 984.05126953125, 54376.93359375, 57523.6328125, 67330.53125, 34391.6015625, 16030.869140625, 12717.525390625, 5349.87744140625, 5126.20947265625, 7072.5009765625, 4488.865234375, 16258.216796875, 196253.40625, 92745.8125, 190155.34375, 17287.755859375, 263075.5625, 46753.671875, 115770.5, 47321.42578125, 173854.421875, 282964.71875, 43260.15625, 62539.390625, 45826.67578125, 422251.6875, 109722.71875, 51473.171875, 92622.6640625, 111511.3515625, 966107.3125, 114695.4375, 432008.75, 1393227.625, 111243.984375, 94278.40625, 210730.109375, 662456.625, 275725.28125, 344232.8125, 115677.40625, 607575.375, 736531.875, 604405.8125, 748918.75, 429874.125], \"loglift\": [30.0, 29.0, 28.0, 27.0, 26.0, 25.0, 24.0, 23.0, 22.0, 21.0, 20.0, 19.0, 18.0, 17.0, 16.0, 15.0, 14.0, 13.0, 12.0, 11.0, 10.0, 9.0, 8.0, 7.0, 6.0, 5.0, 4.0, 3.0, 2.0, 1.0, 1.6520999670028687, 1.6520999670028687, 1.6520999670028687, 1.6520999670028687, 1.6520999670028687, 1.6520999670028687, 1.6520999670028687, 1.6520999670028687, 1.6520999670028687, 1.6519999504089355, 1.6519999504089355, 1.6519999504089355, 1.6519999504089355, 1.6519999504089355, 1.6519999504089355, 1.6519999504089355, 1.6519999504089355, 1.6519999504089355, 1.6519999504089355, 1.6519999504089355, 1.6519999504089355, 1.651900053024292, 1.651900053024292, 1.651900053024292, 1.651900053024292, 1.651900053024292, 1.651900053024292, 1.651900053024292, 1.651900053024292, 1.651900053024292, 1.6516000032424927, 1.5996999740600586, 1.6186000108718872, 1.5896999835968018, 1.5499999523162842, 1.621399998664856, 1.4593000411987305, 1.537600040435791, 1.5267000198364258, 1.5677000284194946, 1.5966999530792236, 1.3904000520706177, 1.496000051498413, 1.4436999559402466, 1.4687000513076782, 1.4321999549865723, 1.5029000043869019, 1.544700026512146, 1.368299961090088, 1.4218000173568726, 1.3209999799728394, 1.1516000032424927, 1.163699984550476, 1.3118000030517578, 1.339400053024292, 1.3092000484466553, 1.2639000415802002, 1.1892999410629272, 1.3305000066757202, 1.2711999416351318, 1.2759000062942505, 1.2617000341415405, 1.0841000080108643, 1.132200002670288, 0.7479000091552734, 0.7764999866485596, 0.8227999806404114, 0.9187999963760376, 0.5938000082969666, 0.847100019454956, 0.9052000045776367, 0.5169000029563904, 0.5479000210762024, 0.5942000150680542, 0.28459998965263367, 0.8241999745368958, -0.2409999966621399, 0.18449999392032623, 0.41260001063346863, 0.7943999767303467, 0.5454000234603882, 0.5480999946594238, 0.642300009727478, 0.5702000260353088, 0.025699999183416367, -0.14920000731945038, 1.7484999895095825, 1.7484999895095825, 1.7484999895095825, 1.7484999895095825, 1.7484999895095825, 1.7484999895095825, 1.7484999895095825, 1.7484999895095825, 1.7484999895095825, 1.7484999895095825, 1.7484999895095825, 1.7484999895095825, 1.7483999729156494, 1.7483999729156494, 1.7483999729156494, 1.7483999729156494, 1.7483999729156494, 1.7483999729156494, 1.7483999729156494, 1.7483999729156494, 1.7483999729156494, 1.7483999729156494, 1.7483999729156494, 1.7483999729156494, 1.7483999729156494, 1.7483999729156494, 1.7483999729156494, 1.7483999729156494, 1.7483999729156494, 1.7483999729156494, 1.7407000064849854, 1.722100019454956, 1.7366000413894653, 1.7209999561309814, 1.69760000705719, 1.714900016784668, 1.6169999837875366, 1.6780999898910522, 1.548200011253357, 1.621899962425232, 1.6363999843597412, 1.5211999416351318, 1.5956000089645386, 1.5537999868392944, 1.4265999794006348, 1.6220999956130981, 1.0555000305175781, 1.4006999731063843, 1.5338000059127808, 1.409500002861023, 1.0740000009536743, 1.1086000204086304, 0.8335000276565552, 0.5511999726295471, 0.6043999791145325, 1.0413000583648682, 0.34209999442100525, 0.9103000164031982, -0.15860000252723694, 1.1419999599456787, 0.6705999970436096, 0.5902000069618225, 0.48570001125335693, 0.1476999968290329, 0.6359000205993652, -0.054999999701976776, 0.7789999842643738, -0.06629999727010727, 0.19449999928474426, 0.22210000455379486, -0.26820001006126404, -0.6769000291824341, 0.031099999323487282, 1.7998000383377075, 1.7998000383377075, 1.7998000383377075, 1.7998000383377075, 1.7998000383377075, 1.7998000383377075, 1.7998000383377075, 1.7998000383377075, 1.7998000383377075, 1.7998000383377075, 1.7998000383377075, 1.7998000383377075, 1.7998000383377075, 1.7998000383377075, 1.7998000383377075, 1.7998000383377075, 1.7998000383377075, 1.7998000383377075, 1.7997000217437744, 1.7997000217437744, 1.7997000217437744, 1.7997000217437744, 1.7997000217437744, 1.7997000217437744, 1.7997000217437744, 1.7997000217437744, 1.7997000217437744, 1.7997000217437744, 1.7997000217437744, 1.7997000217437744, 1.781000018119812, 1.7829999923706055, 1.7856999635696411, 1.7853000164031982, 1.7862999439239502, 1.7835999727249146, 1.787600040435791, 1.7556999921798706, 1.7417999505996704, 1.6708999872207642, 1.719599962234497, 1.6439000368118286, 1.6841000318527222, 1.7407000064849854, 1.6897000074386597, 1.5875999927520752, 1.628600001335144, 1.6324000358581543, 1.5307999849319458, 1.589400053024292, 1.6030999422073364, 1.5894999504089355, 1.6868000030517578, 1.323799967765808, 1.4808000326156616, 1.6663999557495117, 1.420799970626831, 1.5925999879837036, 1.2659000158309937, 1.4046000242233276, 1.2474000453948975, 1.1934000253677368, 1.357300043106079, 1.2422000169754028, 1.3753999471664429, 1.3006999492645264, 1.0413999557495117, 0.8174999952316284, 0.029899999499320984, 0.9379000067710876, -0.03830000013113022, 0.6583999991416931, -0.035100001841783524, 0.1736000031232834, 0.9150000214576721, 0.48539999127388, 0.12290000170469284, 0.13330000638961792, 0.032099999487400055, 0.5382999777793884, -0.34130001068115234, -0.03880000114440918, 0.6884999871253967, 2.05649995803833, 2.05649995803833, 2.05649995803833, 2.05649995803833, 2.05649995803833, 2.05649995803833, 2.05649995803833, 2.0564000606536865, 2.0564000606536865, 2.0564000606536865, 2.0564000606536865, 2.0564000606536865, 2.0564000606536865, 2.0564000606536865, 2.0564000606536865, 2.0564000606536865, 2.0564000606536865, 2.0564000606536865, 2.0564000606536865, 2.0564000606536865, 2.056299924850464, 2.056299924850464, 2.056299924850464, 2.056299924850464, 2.056299924850464, 2.056299924850464, 2.056299924850464, 2.056299924850464, 2.0562000274658203, 2.0562000274658203, 2.0555999279022217, 2.002000093460083, 1.9402999877929688, 1.936900019645691, 1.988800048828125, 1.9112000465393066, 1.7792999744415283, 1.8924000263214111, 1.9228999614715576, 1.8968000411987305, 1.9101999998092651, 1.6761000156402588, 1.750100016593933, 1.8344999551773071, 1.3277000188827515, 1.787600040435791, 1.4235999584197998, 1.4368000030517578, 1.250100016593933, 1.4111000299453735, 1.0146000385284424, 1.0511000156402588, 1.19159996509552, 0.7771000266075134, 0.38830000162124634, 0.9041000008583069, 0.9857000112533569, 0.6025999784469604, 1.5390000343322754, 0.9987000226974487, 0.24899999797344208, 0.28139999508857727, 0.9693999886512756, 0.3718999922275543, 0.4984999895095825, 0.23190000653266907, 0.02250000089406967, -0.4154999852180481, -0.27790001034736633, 0.11599999666213989, -0.06909999996423721, -0.2409999966621399, 0.15209999680519104, 0.13410000503063202, 0.02199999988079071, 2.110599994659424, 2.110599994659424, 2.110599994659424, 2.110599994659424, 2.110599994659424, 2.110599994659424, 2.110599994659424, 2.110599994659424, 2.110599994659424, 2.110599994659424, 2.110599994659424, 2.110599994659424, 2.110599994659424, 2.110599994659424, 2.110599994659424, 2.110599994659424, 2.110599994659424, 2.110599994659424, 2.1105000972747803, 2.1105000972747803, 2.1105000972747803, 2.1105000972747803, 2.1105000972747803, 2.1105000972747803, 2.1105000972747803, 2.1103999614715576, 2.1103999614715576, 2.1103999614715576, 2.1103999614715576, 2.1103999614715576, 2.0977001190185547, 2.052299976348877, 2.0752999782562256, 2.0803000926971436, 2.0748000144958496, 1.9681999683380127, 2.083400011062622, 2.0620999336242676, 2.0364999771118164, 1.9557000398635864, 2.0357000827789307, 2.027899980545044, 1.9993000030517578, 1.9651000499725342, 1.9844000339508057, 1.9463000297546387, 2.0394999980926514, 1.7755999565124512, 2.006200075149536, 1.8036999702453613, 1.531999945640564, 1.5713000297546387, 1.5915000438690186, 1.7171000242233276, 1.3737000226974487, 1.6007000207901, 1.7899999618530273, 1.4400999546051025, 1.6313999891281128, 0.9735000133514404, 0.9194999933242798, 1.1337000131607056, 0.9710999727249146, 0.37689998745918274, 0.045899998396635056, 1.3008999824523926, 0.39399999380111694, 0.11649999767541885, 0.6313999891281128, 0.777899980545044, 0.5889000296592712, 0.016899999231100082, 0.33649998903274536, -0.18449999392032623, 0.26109999418258667, 0.14079999923706055, 0.1932000070810318, 0.18809999525547028, -0.07119999825954437, 2.1939001083374023, 2.1939001083374023, 2.1939001083374023, 2.1939001083374023, 2.1939001083374023, 2.1939001083374023, 2.1939001083374023, 2.1939001083374023, 2.1939001083374023, 2.1939001083374023, 2.1939001083374023, 2.1939001083374023, 2.1939001083374023, 2.1939001083374023, 2.1939001083374023, 2.1939001083374023, 2.1939001083374023, 2.1939001083374023, 2.1939001083374023, 2.1939001083374023, 2.1939001083374023, 2.1939001083374023, 2.1937999725341797, 2.1937999725341797, 2.1937999725341797, 2.1937999725341797, 2.1937999725341797, 2.1937999725341797, 2.1937999725341797, 2.1937999725341797, 2.160900115966797, 2.145900011062622, 2.0694000720977783, 2.0657999515533447, 2.1215999126434326, 2.1266000270843506, 2.11080002784729, 1.9688999652862549, 1.8934999704360962, 2.0541000366210938, 1.9977999925613403, 1.7742999792099, 1.770799994468689, 1.7991000413894653, 1.9988000392913818, 1.1398999691009521, 1.6965999603271484, 1.5866999626159668, 0.6061999797821045, 1.0687999725341797, 1.1068999767303467, 0.7728999853134155, 1.2554999589920044, 0.9203000068664551, 0.16339999437332153, -0.3197999894618988, 0.13510000705718994, 0.38119998574256897, 0.38260000944137573, 0.5562000274658203, 0.1996999979019165, 0.2978000044822693, -0.3073999881744385, 0.4050000011920929, -0.29980000853538513, -0.13989999890327454, 0.03229999914765358, 2.2214999198913574, 2.2214999198913574, 2.2214999198913574, 2.2214999198913574, 2.2214999198913574, 2.2214999198913574, 2.2214999198913574, 2.2214999198913574, 2.2214999198913574, 2.2214999198913574, 2.2214999198913574, 2.2214999198913574, 2.221400022506714, 2.221400022506714, 2.221400022506714, 2.221400022506714, 2.221400022506714, 2.221400022506714, 2.221299886703491, 2.221299886703491, 2.221299886703491, 2.221299886703491, 2.221299886703491, 2.221299886703491, 2.221299886703491, 2.221299886703491, 2.221299886703491, 2.221299886703491, 2.2211999893188477, 2.2211999893188477, 2.2211999893188477, 2.187299966812134, 2.1816000938415527, 2.1417999267578125, 2.1614999771118164, 2.1533000469207764, 2.178999900817871, 2.1726999282836914, 2.1410999298095703, 2.160900115966797, 2.0810000896453857, 1.913699984550476, 1.9580999612808228, 1.8970999717712402, 2.0708000659942627, 1.784600019454956, 1.9536999464035034, 1.851699948310852, 1.9377000331878662, 1.7932000160217285, 1.722499966621399, 1.9271999597549438, 1.8336000442504883, 1.8449000120162964, 1.3370000123977661, 1.533400058746338, 1.7395000457763672, 1.537600040435791, 1.4625999927520752, 0.7451000213623047, 1.3873000144958496, 0.8454999923706055, 0.21250000596046448, 1.3762999773025513, 1.4484000205993652, 0.9574999809265137, 0.22930000722408295, 0.7153000235557556, 0.5342000126838684, 1.2661000490188599, -0.006399999838322401, -0.296099990606308, -0.17649999260902405, -0.49729999899864197, 0.033900000154972076], \"logprob\": [30.0, 29.0, 28.0, 27.0, 26.0, 25.0, 24.0, 23.0, 22.0, 21.0, 20.0, 19.0, 18.0, 17.0, 16.0, 15.0, 14.0, 13.0, 12.0, 11.0, 10.0, 9.0, 8.0, 7.0, 6.0, 5.0, 4.0, 3.0, 2.0, 1.0, -6.473299980163574, -6.9882001876831055, -7.045000076293945, -7.327099800109863, -7.42080020904541, -7.696700096130371, -7.700099945068359, -7.905300140380859, -7.907199859619141, -8.010199546813965, -8.049500465393066, -8.269200325012207, -8.43340015411377, -8.446000099182129, -8.647899627685547, -8.655900001525879, -8.800100326538086, -8.843099594116211, -8.877300262451172, -8.917799949645996, -8.949000358581543, -9.083499908447266, -9.111300468444824, -9.182999610900879, -9.25529956817627, -9.305899620056152, -9.354900360107422, -9.381799697875977, -9.464699745178223, -9.52079963684082, -6.406799793243408, -5.007999897003174, -6.829699993133545, -5.6753997802734375, -5.71150016784668, -8.067299842834473, -4.034200191497803, -6.202600002288818, -6.150700092315674, -7.153600215911865, -7.776800155639648, -4.055200099945068, -6.065999984741211, -5.304599761962891, -5.894100189208984, -5.613500118255615, -6.612100124359131, -7.1707000732421875, -5.181300163269043, -5.81850004196167, -5.138700008392334, -3.9342000484466553, -4.155700206756592, -5.415500164031982, -5.635799884796143, -5.508900165557861, -5.2617998123168945, -4.912700176239014, -5.769499778747559, -5.456600189208984, -5.517000198364258, -5.4842000007629395, -4.748300075531006, -5.006100177764893, -3.690200090408325, -4.344099998474121, -4.524600028991699, -4.764699935913086, -4.115699768066406, -4.8109002113342285, -4.946100234985352, -4.298600196838379, -4.359300136566162, -4.539100170135498, -4.408100128173828, -5.099699974060059, -4.3130998611450195, -4.717400074005127, -5.0177998542785645, -5.230000019073486, -5.133299827575684, -5.163000106811523, -5.207499980926514, -5.230500221252441, -5.217299938201904, -5.229700088500977, -5.023499965667725, -5.382400035858154, -5.537899971008301, -5.95989990234375, -6.059000015258789, -6.083600044250488, -6.1321001052856445, -6.335400104522705, -6.405700206756592, -6.678400039672852, -6.694900035858154, -6.767499923706055, -6.792500019073486, -6.883200168609619, -7.0258002281188965, -7.0391998291015625, -7.128399848937988, -7.2403998374938965, -7.249599933624268, -7.330399990081787, -7.344299793243408, -7.375899791717529, -7.415999889373779, -7.605100154876709, -7.624899864196777, -7.6350998878479, -7.766300201416016, -7.834400177001953, -7.85230016708374, -7.891200065612793, -4.269000053405762, -3.265399932861328, -5.283199787139893, -6.11329984664917, -5.277699947357178, -6.128200054168701, -4.209199905395508, -6.302299976348877, -4.428500175476074, -5.817500114440918, -6.042099952697754, -5.136300086975098, -5.996099948883057, -5.67579984664917, -4.811999797821045, -6.292399883270264, -4.34119987487793, -5.665599822998047, -6.115600109100342, -5.7494001388549805, -4.847300052642822, -5.403200149536133, -4.940800189971924, -4.529300212860107, -4.659599781036377, -5.374300003051758, -4.559800148010254, -5.2729997634887695, -4.230599880218506, -5.542500019073486, -5.09089994430542, -5.049499988555908, -4.984399795532227, -4.759500026702881, -5.167799949645996, -4.747799873352051, -5.323200225830078, -4.881700038909912, -5.053400039672852, -5.1184000968933105, -4.977700233459473, -5.115099906921387, -5.288400173187256, -3.7255001068115234, -4.787099838256836, -5.567500114440918, -6.0970001220703125, -6.451300144195557, -6.48199987411499, -6.646299839019775, -7.068299770355225, -7.152200222015381, -7.154099941253662, -7.11329984664917, -7.461400032043457, -7.494699954986572, -7.495699882507324, -7.577099800109863, -7.9328999519348145, -8.022500038146973, -8.052300453186035, -8.158900260925293, -8.207799911499023, -8.34060001373291, -8.614899635314941, -8.622099876403809, -8.623600006103516, -8.674400329589844, -8.680800437927246, -8.712300300598145, -8.727399826049805, -8.75, -8.8725004196167, -4.893199920654297, -5.886899948120117, -6.797399997711182, -7.4375, -7.598299980163574, -7.481100082397461, -7.850299835205078, -6.41510009765625, -5.974800109863281, -4.197199821472168, -6.276100158691406, -4.769800186157227, -5.7342000007629395, -6.832699775695801, -6.031099796295166, -4.9633002281188965, -5.739699840545654, -5.899400234222412, -4.872300148010254, -5.59499979019165, -5.724699974060059, -5.71589994430542, -6.597499847412109, -4.583499908447266, -5.467199802398682, -6.488800048828125, -5.353099822998047, -6.1417999267578125, -4.749199867248535, -5.357100009918213, -4.917900085449219, -4.974599838256836, -5.468999862670898, -5.284200191497803, -5.57289981842041, -5.538300037384033, -5.108799934387207, -4.848599910736084, -4.042099952697754, -5.24459981918335, -4.476399898529053, -5.080699920654297, -4.744500160217285, -4.946899890899658, -5.403200149536133, -5.2256999015808105, -5.120100021362305, -5.132500171661377, -5.101200103759766, -5.320300102233887, -5.248499870300293, -5.2866997718811035, -5.380199909210205, -3.7778000831604004, -4.692999839782715, -4.890600204467773, -6.517499923706055, -6.5655999183654785, -6.915299892425537, -7.036600112915039, -7.229700088500977, -7.4882001876831055, -7.508699893951416, -7.575399875640869, -7.620500087738037, -7.69350004196167, -7.947999954223633, -7.9944000244140625, -7.996699810028076, -8.073800086975098, -8.155599594116211, -8.303400039672852, -8.344499588012695, -8.486100196838379, -8.574000358581543, -8.692000389099121, -8.76039981842041, -8.767999649047852, -8.895700454711914, -8.96560001373291, -9.001099586486816, -9.085000038146973, -9.127900123596191, -9.057000160217285, -4.773900032043457, -4.320899963378906, -5.663000106811523, -7.176599979400635, -5.835299968719482, -4.871799945831299, -6.53879976272583, -7.064700126647949, -6.94290018081665, -7.115499973297119, -5.155700206756592, -5.952300071716309, -6.759200096130371, -4.433800220489502, -6.782299995422363, -5.339900016784668, -5.5142998695373535, -4.966000080108643, -5.513599872589111, -4.3821001052856445, -4.9741997718811035, -5.350399971008301, -4.488699913024902, -3.6837000846862793, -5.056700229644775, -5.46150016784668, -5.023200035095215, -6.426499843597412, -5.719600200653076, -4.871600151062012, -4.9664998054504395, -5.7444000244140625, -5.219600200653076, -5.422800064086914, -5.2382001876831055, -5.110799789428711, -4.853700160980225, -4.987400054931641, -5.2245001792907715, -5.149600028991699, -5.148200035095215, -5.286099910736084, -5.311399936676025, -5.3649001121521, -3.035599946975708, -5.005300045013428, -5.152599811553955, -5.519499778747559, -5.966400146484375, -6.465700149536133, -6.486800193786621, -6.524700164794922, -6.654799938201904, -6.787899971008301, -6.839700222015381, -6.940700054168701, -7.040200233459473, -7.605800151824951, -7.846799850463867, -7.968100070953369, -7.970399856567383, -8.008399963378906, -8.141799926757812, -8.54010009765625, -8.63070011138916, -8.679400444030762, -8.78219985961914, -8.78380012512207, -8.795999526977539, -8.873499870300293, -8.958200454711914, -8.993200302124023, -9.015600204467773, -9.108499526977539, -5.5416998863220215, -4.627699851989746, -6.492300033569336, -6.905099868774414, -6.809999942779541, -4.058499813079834, -7.785299777984619, -7.173799991607666, -6.589099884033203, -4.767499923706055, -6.734099864959717, -6.616000175476074, -6.085700035095215, -5.8028998374938965, -6.101099967956543, -5.79640007019043, -7.085000038146973, -5.106100082397461, -6.815899848937988, -5.632500171661377, -4.207099914550781, -4.951000213623047, -5.122300148010254, -5.630899906158447, -4.520199775695801, -5.39870023727417, -5.975500106811523, -5.157199859619141, -5.672100067138672, -4.41349983215332, -4.411399841308594, -5.248899936676025, -5.054200172424316, -4.315899848937988, -4.026100158691406, -5.513899803161621, -4.869900226593018, -4.698999881744385, -5.091400146484375, -5.187300205230713, -5.103099822998047, -4.885000228881836, -5.1016998291015625, -4.894000053405762, -5.14109992980957, -5.107100009918213, -5.147299766540527, -5.159299850463867, -5.151700019836426, -3.0076000690460205, -3.546099901199341, -4.04580020904541, -4.520699977874756, -4.837200164794922, -4.878600120544434, -5.466000080108643, -5.930500030517578, -6.15310001373291, -6.1519999504089355, -6.499899864196777, -6.504199981689453, -6.718299865722656, -6.777100086212158, -6.899499893188477, -7.3821001052856445, -7.485300064086914, -7.4994001388549805, -7.564000129699707, -7.6844000816345215, -7.698599815368652, -7.748600006103516, -7.797399997711182, -7.894400119781494, -7.910900115966797, -8.06029987335205, -8.190299987792969, -8.252599716186523, -8.29170036315918, -8.328100204467773, -5.319399833679199, -5.035399913787842, -4.213699817657471, -4.617199897766113, -6.091800212860107, -6.269400119781494, -6.587100028991699, -5.019499778747559, -4.822999954223633, -6.458099842071533, -6.145299911499023, -4.672900199890137, -4.775899887084961, -5.5625, -6.69950008392334, -4.191100120544434, -5.797500133514404, -5.699699878692627, -4.086599826812744, -4.896399974822998, -5.012700080871582, -4.910600185394287, -5.532199859619141, -5.2621002197265625, -4.652100086212158, -4.391900062561035, -4.7667999267578125, -4.9593000411987305, -4.964799880981445, -5.135799884796143, -5.0482001304626465, -5.104400157928467, -5.016900062561035, -5.2347002029418945, -5.206900119781494, -5.220399856567383, -5.2316999435424805, -3.2713000774383545, -3.4346001148223877, -4.811399936676025, -5.84689998626709, -5.849699974060059, -6.282899856567383, -6.491700172424316, -6.8881001472473145, -7.235599994659424, -7.239999771118164, -7.38730001449585, -7.527900218963623, -7.928199768066406, -8.014800071716309, -8.076899528503418, -8.086799621582031, -8.282699584960938, -8.429400444030762, -8.695699691772461, -8.762100219726562, -8.886899948120117, -8.892800331115723, -8.907999992370605, -8.928400039672852, -8.954099655151367, -8.9798002243042, -8.984299659729004, -9.002799987792969, -5.26669979095459, -9.106300354003906, -5.094299793243408, -5.071899890899658, -4.920199871063232, -5.631800174713135, -6.375400066375732, -6.615099906921387, -7.4552998542785645, -7.50439977645874, -7.214099884033203, -7.648900032043457, -6.441800117492676, -4.118299961090088, -4.823400020599365, -4.166500091552734, -6.390600204467773, -3.954400062561035, -5.512800216674805, -4.708099842071533, -5.51669979095459, -4.360000133514404, -3.9435999393463135, -5.617000102996826, -5.342100143432617, -5.64169979095459, -3.928800106048584, -5.079999923706055, -5.630799770355225, -5.245299816131592, -5.1346001625061035, -3.693000078201294, -5.1819000244140625, -4.397500038146973, -3.859499931335449, -5.223400115966797, -5.316800117492676, -5.003399848937988, -4.58620023727417, -4.9766998291015625, -4.9359002113342285, -5.29449987411499, -4.908299922943115, -5.005499839782715, -5.083700180053711, -5.190100193023682, -5.214000225067139]}, \"token.table\": {\"Topic\": [6, 1, 3, 5, 7, 2, 3, 6, 7, 4, 4, 3, 1, 2, 3, 4, 5, 6, 7, 2, 1, 3, 4, 6, 7, 7, 1, 3, 7, 3, 4, 1, 2, 3, 7, 4, 7, 3, 5, 6, 7, 6, 3, 4, 5, 7, 4, 2, 1, 3, 5, 2, 6, 7, 6, 1, 1, 4, 5, 6, 7, 3, 5, 6, 1, 4, 6, 3, 4, 6, 1, 2, 3, 4, 5, 6, 7, 1, 2, 3, 5, 6, 7, 2, 4, 5, 6, 7, 3, 4, 7, 2, 2, 1, 2, 4, 1, 2, 3, 4, 5, 6, 7, 7, 5, 5, 5, 5, 3, 5, 2, 3, 5, 1, 2, 4, 5, 6, 7, 2, 3, 4, 6, 7, 1, 4, 7, 1, 2, 7, 6, 3, 4, 7, 2, 1, 1, 2, 4, 5, 6, 7, 1, 2, 3, 4, 5, 6, 7, 2, 4, 6, 2, 4, 6, 3, 4, 1, 2, 3, 4, 6, 7, 2, 4, 1, 2, 3, 4, 6, 7, 1, 2, 7, 3, 4, 6, 7, 3, 4, 6, 7, 2, 7, 6, 1, 1, 4, 5, 6, 3, 4, 5, 6, 7, 1, 2, 6, 7, 2, 3, 6, 3, 2, 4, 7, 3, 4, 1, 3, 2, 3, 4, 7, 1, 2, 3, 4, 5, 6, 5, 1, 5, 1, 3, 1, 7, 6, 4, 1, 2, 3, 4, 5, 6, 7, 5, 1, 2, 3, 4, 6, 7, 1, 3, 4, 7, 1, 3, 3, 3, 4, 5, 7, 1, 6, 7, 3, 4, 4, 3, 3, 4, 6, 5, 5, 2, 7, 3, 7, 6, 6, 6, 1, 2, 3, 4, 5, 6, 7, 2, 4, 5, 3, 5, 5, 3, 4, 6, 7, 6, 7, 7, 2, 7, 1, 3, 4, 5, 7, 2, 3, 4, 5, 6, 7, 1, 2, 3, 4, 5, 6, 3, 5, 2, 5, 1, 2, 3, 4, 5, 6, 7, 1, 4, 3, 4, 5, 1, 2, 3, 4, 5, 6, 7, 1, 2, 6, 7, 3, 5, 5, 5, 2, 6, 2, 2, 4, 5, 6, 7, 5, 2, 3, 5, 3, 4, 6, 1, 2, 3, 4, 5, 6, 7, 4, 4, 3, 6, 4, 1, 2, 3, 4, 5, 6, 7, 3, 3, 5, 3, 1, 2, 3, 4, 5, 6, 7, 5, 2, 1, 2, 3, 4, 5, 6, 7, 1, 2, 3, 4, 5, 6, 7, 3, 4, 3, 3, 4, 1, 2, 3, 4, 5, 6, 7, 6, 1, 2, 4, 5, 6, 1, 2, 3, 4, 5, 6, 7, 7, 2, 4, 5, 6, 6, 6, 6, 1, 3, 4, 5, 6, 1, 2, 3, 4, 5, 6, 7, 2, 1, 2, 3, 4, 5, 2, 1, 2, 3, 4, 6, 7, 5, 3, 7, 3, 4, 3, 3, 5, 4, 6, 7, 4, 1, 2, 3, 4, 6, 7, 1, 2, 3, 7, 1, 5, 1, 2, 3, 7, 3, 1, 1, 2, 3, 4, 5, 6, 7, 1, 2, 3, 7, 5, 1, 2, 3, 4, 5, 6, 7, 2, 4, 4, 1, 2, 3, 4, 5, 6, 7, 1, 2, 3, 4, 7, 1, 2, 3, 4, 5, 6, 1, 4, 5, 7, 2, 2, 5, 5, 7, 1, 2, 4, 5, 6, 7, 4, 5, 6, 6, 1, 2, 3, 4, 5, 6, 7, 1, 2, 3, 4, 5, 6, 6, 1, 2, 3, 4, 5, 6, 7, 4, 6, 5, 1, 2, 3, 4, 5, 6, 7, 5, 1, 2, 3, 4, 6, 2, 2, 1, 2, 3, 4, 5, 6, 7, 4, 2, 6, 7, 3, 5, 2, 3, 5, 6, 5, 6, 3, 2, 3, 5, 6, 6, 3, 4, 5, 1, 2, 3, 5, 6, 7, 4, 5, 6, 7, 1, 2, 3, 4, 5, 6, 7, 1, 4, 1, 2, 3, 4, 5, 6, 7, 3, 6, 4, 1, 2, 3, 4, 5, 6, 7, 3, 3, 7, 1, 2, 3, 4, 5, 6, 7, 1, 2, 3, 4, 5, 6, 7, 5, 3, 5, 6, 6, 2, 1, 3, 1, 2, 3, 4, 5, 6, 7, 1, 4, 1, 1, 2, 3, 4, 5, 6, 7, 1, 2, 3, 4, 5, 7, 1, 7, 5, 6, 7, 3, 6, 7, 2, 1, 2, 3, 4, 5, 1, 2, 4, 6, 7, 2, 3, 1, 2, 3, 4, 5, 6, 7, 3, 4, 6, 7, 1, 3, 4, 5, 6, 7, 1, 2, 3, 4, 6, 7, 3, 5, 3, 5, 3, 5, 5, 7, 4, 5, 1, 2, 3, 4, 5, 6, 7, 2, 6, 1, 3, 4, 5, 6, 7, 1, 3, 4, 6, 7, 2, 5, 4, 7, 2, 3, 7, 7, 1, 2, 3, 4, 6, 7, 4, 2, 4, 6, 1, 2, 3, 5, 6, 7, 1, 1, 2, 3, 4, 5, 6, 7, 3, 5, 1, 2, 3, 4, 6, 7, 2, 4, 1, 2, 1, 3, 7, 1, 2, 3, 2, 2, 2, 1, 2, 3, 4, 5, 6, 7, 1, 1, 2, 3, 4, 5, 6, 7, 1, 2, 5, 6, 7, 7, 4, 6, 3, 3, 4, 5, 6, 7, 3, 5, 2, 3, 1, 2, 3, 4, 5, 6, 7, 5, 5, 1, 2, 3, 4, 5, 6, 7, 7, 3, 3, 4, 5, 6, 3, 1, 4, 7, 4, 1, 2, 3, 4, 7, 1, 3, 4, 1, 2, 3, 4, 5, 6, 3, 4, 5, 7, 1, 3, 4, 5, 1, 2, 3, 4, 5, 6, 1, 2, 3, 4, 5, 6, 7, 1, 3, 2, 3, 4, 5, 6, 7, 3, 2, 6, 1, 2, 3, 4, 5, 6, 7, 3, 4, 1, 2, 3, 4, 5, 6, 7, 4, 5, 6, 2, 3, 2, 3, 4, 5, 7, 4, 4, 2, 1, 2, 3, 4, 5, 6, 7, 1, 1, 3, 4, 7, 3, 1, 3, 4, 1, 2, 3, 4, 5, 6, 7, 3, 4, 5, 6, 3, 4, 5, 6, 7, 1, 2, 4, 5, 6, 1, 2, 3, 7, 1, 7, 5, 4, 2, 4, 5, 4, 2, 3, 4, 5, 6, 7, 4, 7, 3, 2, 1, 2, 2, 4, 2, 3, 2, 3, 4, 5, 6, 7, 3, 4, 5, 3, 6, 6, 6, 3, 4, 5, 7, 1, 2, 4, 5, 6, 7, 6, 7, 1, 2, 3, 2, 3, 6, 7, 7, 2, 6, 7, 6, 3, 4, 5, 6, 1, 2, 3, 7, 1, 2, 3, 4, 5, 7, 3, 4, 5, 6, 7, 1, 2, 3, 4, 7, 1, 2, 3, 4, 5, 6, 7, 2, 4, 6, 5, 6, 7, 3, 4, 5, 1, 2, 3, 4, 5, 6, 7, 1, 2, 3, 4, 5, 6, 7, 2, 3, 4, 6, 4, 3, 1, 6, 1, 2, 3, 4, 5, 6, 7, 6, 7, 1, 2, 3, 4, 5, 6, 7, 7, 1, 2, 3, 4, 5, 6, 7, 2, 4, 3, 1, 3, 4, 6, 7, 1, 3, 4, 5, 6, 3, 4, 7, 1, 2, 3, 4, 5, 6, 7, 2, 1, 1, 3, 5, 7, 2, 3, 4, 5, 7, 5, 3, 5, 6, 7, 6, 7, 4, 6, 5, 6, 7, 1, 2, 3, 4, 5, 6, 7, 1, 3, 1, 2, 3, 4, 5, 6, 7, 5, 1, 2, 3, 4, 5, 6, 1, 2, 3, 4, 5, 6, 7, 5, 3, 7, 3, 4, 7, 6, 7, 3, 4, 6, 7, 7, 6, 1, 2, 3, 4, 5, 6, 7, 1, 2, 3, 4, 5, 6, 7, 1, 2, 3, 4, 5, 6, 4, 5], \"Freq\": [0.9997920393943787, 0.0955946147441864, 0.11627478897571564, 0.019709784537553787, 0.7684228420257568, 0.8231422901153564, 0.07690852135419846, 0.022075125947594643, 0.07787051051855087, 0.9999658465385437, 1.0000094175338745, 1.0000197887420654, 0.07229558378458023, 0.21141305565834045, 0.15903957188129425, 0.16946588456630707, 0.13947804272174835, 0.1361212432384491, 0.11218632757663727, 1.0000146627426147, 0.07430123537778854, 0.14854830503463745, 0.7361075282096863, 0.041049808263778687, 0.9999935626983643, 0.9997180700302124, 0.058143869042396545, 0.0006683203391730785, 0.941217839717865, 0.24207767844200134, 0.7579182386398315, 0.8554290533065796, 0.0801214724779129, 0.016000762581825256, 0.048425838351249695, 0.9998852610588074, 0.9998490214347839, 0.02186831645667553, 0.019600490108132362, 0.6550008058547974, 0.303521990776062, 0.9999786615371704, 0.025494951754808426, 0.20156586170196533, 0.7256832122802734, 0.04729832708835602, 0.9993374943733215, 0.9999897480010986, 0.17388680577278137, 0.8128697872161865, 0.013225351460278034, 0.9999945759773254, 0.04149627685546875, 0.9583396911621094, 0.999996542930603, 0.9998244047164917, 0.769731342792511, 0.1462634652853012, 0.08400511741638184, 0.13107217848300934, 0.8689144849777222, 0.9878265261650085, 0.005439986474812031, 0.00675308657810092, 0.9998694658279419, 0.34272301197052, 0.6572768092155457, 0.9833577275276184, 0.016645753756165504, 0.9999804496765137, 0.2450435310602188, 0.05243893340229988, 0.14543893933296204, 0.07632432878017426, 0.019251814112067223, 0.07685165107250214, 0.38464727997779846, 0.7314769625663757, 0.06257912516593933, 0.09062325954437256, 0.05568259581923485, 0.045710764825344086, 0.013937007635831833, 0.08257017284631729, 0.1585666537284851, 0.6746777296066284, 0.05904926359653473, 0.025135833770036697, 0.01300812792032957, 0.06433367729187012, 0.9227287769317627, 0.999992847442627, 0.9999607801437378, 0.9998744130134583, 0.10965856909751892, 0.8903414607048035, 0.6062387228012085, 0.09117882698774338, 0.10024290531873703, 5.538937693927437e-05, 0.07408922910690308, 0.04660620540380478, 0.0815865769982338, 0.9999993443489075, 0.9999657869338989, 0.9999994039535522, 1.0000003576278687, 1.000099778175354, 0.03473244979977608, 0.965240478515625, 0.032589856535196304, 0.8790740966796875, 0.08833213895559311, 0.05673656612634659, 0.7062541246414185, 0.000129011896206066, 0.12699070572853088, 0.07392381876707077, 0.03596565127372742, 0.9739313125610352, 0.026067595928907394, 0.00015645743405912071, 0.03344712406396866, 0.9663854241371155, 0.8246453404426575, 0.052351780235767365, 0.12300363183021545, 0.9489225149154663, 0.05101539194583893, 6.342944107018411e-05, 0.9999046325683594, 0.13518549501895905, 0.8647965788841248, 1.0000150203704834, 1.0000189542770386, 1.0000330209732056, 0.9999551773071289, 0.3344115912914276, 0.06313326209783554, 0.5831589698791504, 0.019053133204579353, 0.00024960434529930353, 0.28951823711395264, 0.1826728880405426, 0.13715124130249023, 0.06265822798013687, 0.08716816455125809, 0.12159766256809235, 0.11923573166131973, 0.10636764019727707, 0.07088731974363327, 0.8227914571762085, 0.2939800024032593, 0.16116470098495483, 0.5448552966117859, 0.06548728048801422, 0.9344800710678101, 0.832405686378479, 0.006748245097696781, 0.10008611530065536, 0.012436051853001118, 0.0013496490428224206, 0.04698706790804863, 0.9999616146087646, 1.0000282526016235, 0.06311404705047607, 0.01096657756716013, 0.6212759613990784, 0.0891900286078453, 0.028091171756386757, 0.18735843896865845, 0.11649863421916962, 0.02342698536813259, 0.8600885272026062, 0.1914820373058319, 0.11624093353748322, 0.04068346321582794, 0.6515969038009644, 0.23613961040973663, 0.051982153207063675, 0.021007077768445015, 0.6908668279647827, 0.00033102271845564246, 0.9996702075004578, 0.9997358322143555, 0.9997901320457458, 0.9999061822891235, 0.06678967922925949, 0.92061448097229, 0.012566457502543926, 0.00765348831191659, 0.4211030602455139, 0.2131521850824356, 0.3307036757469177, 0.02738964557647705, 0.14077548682689667, 0.07221774756908417, 0.282360702753067, 0.5046389102935791, 0.012283006682991982, 0.9860379099845886, 0.0016987136332318187, 0.9999113082885742, 0.9922696948051453, 0.007729136850684881, 0.9993910789489746, 0.9999639391899109, 0.9995927810668945, 0.9029038548469543, 0.09707818925380707, 0.9999331831932068, 0.9436460733413696, 0.017962701618671417, 0.03839733451604843, 0.6295361518859863, 0.04253925383090973, 0.09474602341651917, 0.11097148805856705, 0.08942861109972, 0.032784298062324524, 0.9998347759246826, 0.9998397827148438, 0.9996725916862488, 0.967048704624176, 0.03293902799487114, 0.8981848955154419, 0.10179528594017029, 1.000008225440979, 0.9998338222503662, 0.02069053053855896, 0.4930208921432495, 0.0574803426861763, 0.16885177791118622, 0.016286222264170647, 0.17641164362430573, 0.06726104766130447, 0.999882161617279, 0.03223196044564247, 0.06377239525318146, 0.18891102075576782, 0.2782037556171417, 0.02395964413881302, 0.4129219651222229, 0.8613871932029724, 0.12181646376848221, 0.016812143847346306, 0.9999479055404663, 0.05745149031281471, 0.9425796866416931, 0.9999985098838806, 0.022084586322307587, 0.524480938911438, 0.28426283597946167, 0.16917414963245392, 1.0000345706939697, 1.0000219345092773, 0.9997917413711548, 0.8102922439575195, 0.18970173597335815, 0.9998391270637512, 0.9999979734420776, 0.8214114308357239, 0.04226306080818176, 0.13632164895534515, 0.9993805885314941, 0.9999920129776001, 0.9999882578849792, 0.9999223947525024, 0.06589332222938538, 0.9340653419494629, 0.9999958872795105, 0.9999681115150452, 0.999991238117218, 0.03932803496718407, 0.2828812301158905, 0.16200663149356842, 0.16129200160503387, 0.1096263900399208, 0.059863556176424026, 0.18500560522079468, 0.8068228363990784, 0.07313741743564606, 0.12002959847450256, 0.9999564290046692, 1.0000090599060059, 1.000070571899414, 0.21752946078777313, 0.7642543315887451, 0.01818118244409561, 0.9998126029968262, 1.0000544786453247, 0.9999594688415527, 1.0000020265579224, 1.0000264644622803, 1.0000083446502686, 0.22131288051605225, 0.5755276083946228, 0.05655372515320778, 0.14660070836544037, 0.9997470378875732, 0.0763101577758789, 0.12175408005714417, 0.3659151792526245, 0.31997522711753845, 0.11052217334508896, 0.005522312130779028, 0.08888043463230133, 0.5094078183174133, 0.009674898348748684, 0.21055790781974792, 0.06071329489350319, 0.12076517194509506, 0.9813964366912842, 0.018595490604639053, 0.10535842180252075, 0.8946335315704346, 0.18149027228355408, 0.13457654416561127, 0.14996777474880219, 0.23366227746009827, 0.11707724630832672, 0.11491487175226212, 0.06830666214227676, 1.0000404119491577, 0.9998461604118347, 0.8957533836364746, 0.0497579462826252, 0.054474469274282455, 0.3643019199371338, 0.1383029818534851, 0.16275711357593536, 0.15302301943302155, 0.08456166833639145, 0.08225555717945099, 0.014796487055718899, 0.09503796696662903, 0.8185386061668396, 0.08579501509666443, 0.0006268040742725134, 0.2846689522266388, 0.7153253555297852, 1.0001707077026367, 0.9999873042106628, 0.9669382572174072, 0.033039603382349014, 0.9999518394470215, 0.1210339218378067, 0.06164376437664032, 0.0933690294623375, 0.10640494525432587, 0.6175450086593628, 0.9999136924743652, 0.1174866110086441, 0.01789914071559906, 0.8645950555801392, 0.055908165872097015, 0.023814095184206963, 0.920249879360199, 0.08972464501857758, 0.12086768448352814, 0.07038479298353195, 0.5381051898002625, 0.11085285991430283, 0.023389212787151337, 0.04670178145170212, 0.9999642968177795, 0.9999586939811707, 0.9999741911888123, 0.9999304413795471, 1.0000025033950806, 0.3470291197299957, 0.13309404253959656, 0.15963327884674072, 0.09686750173568726, 0.10074649006128311, 0.08197744190692902, 0.08065231144428253, 1.0000101327896118, 0.9855579733848572, 0.014367817901074886, 0.9999900460243225, 0.3389464020729065, 0.14941281080245972, 0.1451634019613266, 0.11392150819301605, 0.10515987128019333, 0.10012202709913254, 0.04727322235703468, 1.0000009536743164, 0.9998810291290283, 0.34719425439834595, 0.10973767936229706, 0.1707281768321991, 0.13081394135951996, 0.09036451578140259, 0.0885535329580307, 0.06260648369789124, 0.25475260615348816, 0.16472680866718292, 0.08293689787387848, 0.05062231421470642, 0.17661729454994202, 0.20439065992832184, 0.06595241278409958, 1.0000096559524536, 0.9999667406082153, 0.9999093413352966, 0.9228833913803101, 0.07711268216371536, 0.3213493525981903, 0.16288161277770996, 0.08206424117088318, 0.029926488175988197, 0.13612665235996246, 0.13126292824745178, 0.13638930022716522, 0.999912440776825, 0.03875419870018959, 0.4837443232536316, 0.34722912311553955, 0.10634379088878632, 0.023926593363285065, 0.0381137952208519, 0.28897368907928467, 0.5452800393104553, 0.05619873106479645, 0.01388768944889307, 0.05456420034170151, 0.0029771842528134584, 0.99998939037323, 0.28191065788269043, 0.02763916365802288, 0.08225784450769424, 0.6081935167312622, 0.9998117685317993, 0.9999990463256836, 1.0000035762786865, 0.10117767751216888, 0.05674753710627556, 0.021651573479175568, 0.021943265572190285, 0.7984696626663208, 0.08091191202402115, 0.06975888460874557, 0.14358337223529816, 0.011696385219693184, 0.26375970244407654, 0.3246295154094696, 0.10565830022096634, 0.999932587146759, 0.17495256662368774, 0.7248061895370483, 0.0025998251512646675, 0.07445523142814636, 0.023185428231954575, 0.9999568462371826, 0.044777411967515945, 0.04787604510784149, 0.07639655470848083, 0.002509455429390073, 0.14229702949523926, 0.6861724257469177, 0.9998180270195007, 0.0002840803354047239, 0.999722421169281, 0.13607105612754822, 0.8639190196990967, 0.9999247193336487, 0.05665601044893265, 0.94333815574646, 0.15365132689476013, 0.09340377897024155, 0.7529358863830566, 0.9998896718025208, 0.09902608394622803, 0.11357772350311279, 0.6845265030860901, 0.0013267676113173366, 0.001990151358768344, 0.09955036640167236, 4.510413054958917e-05, 0.22257761657238007, 0.6424068808555603, 0.13496284186840057, 0.9999233484268188, 0.9996802806854248, 0.10199189931154251, 0.8768209218978882, 0.018921028822660446, 0.002264551119878888, 0.9997504949569702, 0.9999151825904846, 0.2590502202510834, 0.08253996074199677, 0.28323468565940857, 0.14577947556972504, 0.05995779111981392, 0.03372973948717117, 0.1357029676437378, 0.6832680106163025, 0.19754931330680847, 0.0022174736950546503, 0.11696407198905945, 0.9999685287475586, 0.23905320465564728, 0.37927567958831787, 0.13372375071048737, 0.09174173325300217, 0.041714202612638474, 0.06921212375164032, 0.045283302664756775, 0.05302561819553375, 0.9469671845436096, 0.9999982118606567, 0.4241372346878052, 0.07669797539710999, 0.15166649222373962, 0.1339370161294937, 0.09941356629133224, 0.07554500550031662, 0.03859930485486984, 0.13453729450702667, 0.16861893236637115, 0.4684146046638489, 0.12029217183589935, 0.10813449323177338, 0.7181090712547302, 0.05145370960235596, 0.05515018850564957, 0.08305741846561432, 0.04203668236732483, 0.05019550397992134, 0.9999229311943054, 0.042977698147296906, 0.8814002871513367, 0.07562804222106934, 0.9999988079071045, 0.9999698996543884, 0.9999952912330627, 0.9999806880950928, 0.9999219179153442, 0.06565678119659424, 0.1886090338230133, 0.1797284632921219, 0.4785879850387573, 0.02211933210492134, 0.06530173867940903, 0.09914755076169968, 0.9008737802505493, 0.9999951720237732, 0.9999780058860779, 0.13647471368312836, 0.3140147030353546, 0.0898851752281189, 0.109428271651268, 0.09855876117944717, 0.1671316921710968, 0.08450204879045486, 0.004680827260017395, 0.035414453595876694, 0.8458825945854187, 0.08003073185682297, 0.03075646050274372, 0.003242329228669405, 0.9999963641166687, 0.16869568824768066, 0.31852975487709045, 0.06707829982042313, 0.0740305632352829, 0.17967605590820312, 0.11513658612966537, 0.07685543596744537, 0.03246280923485756, 0.9675304889678955, 0.9998372197151184, 0.09541450440883636, 0.05385695770382881, 0.09791779518127441, 0.045811694115400314, 0.3764488399028778, 0.2718459665775299, 0.05870437249541283, 0.999582052230835, 0.033528611063957214, 0.013676412403583527, 0.8907196521759033, 0.05929163098335266, 0.0027923525776714087, 1.0000081062316895, 0.9999688267707825, 0.16508543491363525, 0.3020276129245758, 0.11721065640449524, 0.11936718970537186, 0.1128365769982338, 0.09692423045635223, 0.08654884248971939, 0.9999662041664124, 0.893959105014801, 0.08216788619756699, 0.023899540305137634, 0.9865080118179321, 0.013396123424172401, 0.0011453250190243125, 0.8102610111236572, 0.1665721982717514, 0.02203540876507759, 0.13042175769805908, 0.8695595860481262, 0.9999128580093384, 0.024401329457759857, 0.09470240026712418, 0.058983903378248215, 0.821861982345581, 1.000001311302185, 0.0677899420261383, 0.33720657229423523, 0.5950058102607727, 0.6767921447753906, 0.05459410697221756, 0.06328213214874268, 0.11105068027973175, 0.0936330035328865, 0.0006450990331359208, 0.014106187038123608, 0.5114457011222839, 0.006259452551603317, 0.46818551421165466, 0.7529534697532654, 0.0390157476067543, 0.13012945652008057, 0.04597582295536995, 0.02299218624830246, 0.008695817552506924, 0.0002565137983765453, 0.9999486804008484, 0.9999932646751404, 0.21003176271915436, 0.17816747725009918, 0.13554604351520538, 0.11700671911239624, 0.15731006860733032, 0.15014947950839996, 0.05178794637322426, 0.1171201840043068, 0.882877767086029, 0.9999895691871643, 0.19663259387016296, 0.14103186130523682, 0.18694065511226654, 0.08550058305263519, 0.09720867872238159, 0.040107984095811844, 0.25257590413093567, 0.99998539686203, 0.7268469929695129, 0.2731470465660095, 0.436965674161911, 0.06834106147289276, 0.28155985474586487, 0.09337154775857925, 0.0646914467215538, 0.015723520889878273, 0.039354532957077026, 0.06285648047924042, 0.4005471169948578, 0.05331045761704445, 0.14115042984485626, 0.10653821378946304, 0.14509250223636627, 0.09050215035676956, 0.9999557137489319, 0.08067350089550018, 0.2455255389213562, 0.6737942099571228, 1.0000454187393188, 0.9998638033866882, 0.999927282333374, 1.0000454187393188, 0.294871985912323, 0.019895639270544052, 0.32912376523017883, 0.07732024788856506, 0.09521257877349854, 0.05719732120633125, 0.1263827681541443, 0.9999874830245972, 1.000038743019104, 0.9999139308929443, 0.6782775521278381, 0.1300591230392456, 0.07103999704122543, 0.015042781829833984, 0.006561391055583954, 0.0010601738467812538, 0.09796173125505447, 0.7942932844161987, 0.08276944607496262, 0.08969533443450928, 0.02968236617743969, 0.002712354063987732, 0.0008358827326446772, 1.0000585317611694, 0.9999779462814331, 0.06950969249010086, 0.18545934557914734, 0.7450042366981506, 0.9999862909317017, 0.9999111890792847, 0.9997565746307373, 1.0000053644180298, 0.02212376892566681, 0.03839953616261482, 0.330729216337204, 0.5960030555725098, 0.012752873823046684, 0.04532447084784508, 0.009608464315533638, 0.1957257241010666, 0.7405287027359009, 0.008810284547507763, 0.01601647213101387, 0.9839797616004944, 0.7115940451622009, 0.046316832304000854, 0.07527123391628265, 0.0016749637434259057, 0.0672743022441864, 0.06583424657583237, 0.03203878551721573, 0.673544704914093, 0.08929997682571411, 0.024713939055800438, 0.21243628859519958, 0.08492477983236313, 0.6070460081100464, 0.01734580285847187, 0.1841578483581543, 0.08001451194286346, 0.02651544101536274, 0.4803183078765869, 0.06764853745698929, 0.021389193832874298, 0.10081833600997925, 0.24145911633968353, 0.08836527913808823, 0.14354200661182404, 0.8564615845680237, 0.9999703764915466, 0.9999924898147583, 0.07220430672168732, 0.9277899265289307, 0.867220401763916, 0.13277526199817657, 0.047310344874858856, 0.9526069760322571, 0.08939408510923386, 0.5452491044998169, 0.045381978154182434, 0.12093054503202438, 0.0040998379699885845, 0.06765222549438477, 0.12728089094161987, 0.9503623247146606, 0.049627140164375305, 9.455322287976742e-05, 0.3292287588119507, 0.20623725652694702, 0.050691649317741394, 0.33722129464149475, 0.07652692496776581, 0.07225145399570465, 0.11889226734638214, 0.018758347257971764, 0.06716088205575943, 0.7229405045509338, 0.881105363368988, 0.11890456825494766, 0.9997588396072388, 1.0001553297042847, 0.0757388100028038, 0.18918398022651672, 0.7350751161575317, 0.9994416832923889, 0.1154877319931984, 0.00038772131665609777, 0.11825879663228989, 0.08875776827335358, 0.031101331114768982, 0.6460044980049133, 0.9995712637901306, 0.08775892853736877, 0.8872669339179993, 0.024976225569844246, 0.43637022376060486, 0.1296357810497284, 0.06375408172607422, 0.14623789489269257, 0.16344644129276276, 0.06055751070380211, 0.999890923500061, 0.3315269947052002, 0.09012711048126221, 0.26862913370132446, 0.10576377809047699, 0.03751692175865173, 0.027347540482878685, 0.13908503949642181, 0.9568429589271545, 0.04316844791173935, 0.6136206388473511, 0.17954137921333313, 0.07990167289972305, 0.0008121104328893125, 0.02353121154010296, 0.10259328782558441, 0.0008196865674108267, 0.9991979002952576, 0.9461657404899597, 0.05386088415980339, 0.9699068665504456, 0.02467203140258789, 0.0055265347473323345, 0.9998394846916199, 0.9882253408432007, 0.011767193675041199, 0.9999992847442627, 1.0000067949295044, 1.000001311302185, 0.5666499733924866, 0.09698665887117386, 0.11799904704093933, 0.0016400928143411875, 0.07627058029174805, 0.03612377494573593, 0.10433577746152878, 1.0000205039978027, 0.16422957181930542, 0.4324822425842285, 0.14391574263572693, 0.05632980540394783, 0.03868339583277702, 0.10836211591959, 0.05599193274974823, 0.15164367854595184, 0.10462263226509094, 0.30388638377189636, 0.3485163152217865, 0.09132996201515198, 0.9999555945396423, 0.046862632036209106, 0.9531254768371582, 0.9999997615814209, 0.11359411478042603, 0.04435931146144867, 0.2230224311351776, 0.3912384808063507, 0.2277849018573761, 0.07143659144639969, 0.9285393357276917, 0.12493781745433807, 0.8750331401824951, 0.1840415596961975, 0.21732480823993683, 0.10391221195459366, 0.1436336636543274, 0.14697909355163574, 0.16320349276065826, 0.04090294614434242, 0.9999250769615173, 0.9995624423027039, 0.6864651441574097, 0.07017320394515991, 0.04806891456246376, 0.022191526368260384, 0.004143872298300266, 0.026978788897395134, 0.14196033775806427, 0.9994497299194336, 0.9999375939369202, 0.22846339643001556, 0.054389990866184235, 0.6192790269851685, 0.09785836935043335, 0.9998055100440979, 0.9999914169311523, 1.000138759613037, 1.0000067949295044, 0.999993085861206, 0.043118808418512344, 0.7125139236450195, 0.16728587448596954, 0.062193613499403, 0.014876145869493484, 0.9190524816513062, 0.08093182742595673, 0.9997173547744751, 0.9394799470901489, 0.0008567908662371337, 0.035880304872989655, 0.01825489103794098, 0.0003322250267956406, 0.005210687406361103, 0.07940815389156342, 0.11669491976499557, 0.7356718182563782, 0.06822419911623001, 0.04831964895129204, 0.06908418983221054, 0.8486524224281311, 0.033896710723638535, 0.8119001984596252, 0.014528948813676834, 0.060556408017873764, 0.06097360700368881, 0.03271881863474846, 0.01932673528790474, 0.4738410413265228, 0.05356670916080475, 0.14829833805561066, 0.09150359779596329, 0.12056869268417358, 0.10423711687326431, 0.007987160235643387, 1.0000083446502686, 0.9997027516365051, 0.13388293981552124, 0.024899126961827278, 0.023504704236984253, 0.07325738668441772, 0.24192802608013153, 0.502521276473999, 0.9999960064888, 0.9320763945579529, 0.06793560087680817, 0.12063620984554291, 0.012810613960027695, 0.586287260055542, 0.048622217029333115, 0.005300598219037056, 0.07903803139925003, 0.1473095417022705, 0.9998028874397278, 0.999638020992279, 0.4470682740211487, 0.09197603911161423, 0.13126014173030853, 0.08119368553161621, 0.0922003835439682, 0.11025627702474594, 0.04604235291481018, 0.008595973253250122, 0.9700751304626465, 0.021294569596648216, 0.9729499220848083, 0.027034109458327293, 0.5000905394554138, 0.00018085968622472137, 0.35279783606529236, 0.12990044057369232, 0.0170305036008358, 0.9999995231628418, 0.9999643564224243, 1.0000008344650269, 0.214798241853714, 0.13064202666282654, 0.16472938656806946, 0.15591394901275635, 0.22781755030155182, 0.03658575192093849, 0.06950993835926056, 1.000007152557373, 0.8026432394981384, 0.06483665853738785, 0.07256031781435013, 0.05997776985168457, 0.9999963641166687, 0.7249813079833984, 0.263225257396698, 0.011800366453826427, 0.0451355054974556, 0.006774859502911568, 0.1476650983095169, 0.1659224033355713, 0.21832963824272156, 0.19441814720630646, 0.22175332903862, 0.2609577178955078, 0.22021789848804474, 0.44495004415512085, 0.07386668026447296, 0.3346153199672699, 0.11889255046844482, 0.04156837239861488, 0.043371543288230896, 0.4615478813648224, 0.9997643232345581, 0.09148561209440231, 0.02438676543533802, 0.848490297794342, 0.03566388413310051, 0.8917861580848694, 0.03273332118988037, 0.054077472537755966, 0.021400393918156624, 0.9994617700576782, 0.0005411689635366201, 0.999994695186615, 0.9998281002044678, 0.9999889731407166, 0.06859555095434189, 0.9313726425170898, 0.9999822974205017, 0.5273803472518921, 0.015115761198103428, 0.17621058225631714, 0.050616394728422165, 0.08472564816474915, 0.14595435559749603, 0.03910558670759201, 0.960886538028717, 0.9999354481697083, 0.9999634027481079, 0.9997490048408508, 0.9999663829803467, 0.8813188076019287, 0.11867190152406693, 0.9999661445617676, 0.9999492764472961, 0.32872188091278076, 0.08808635175228119, 0.14629553258419037, 0.15423627197742462, 0.1819964498281479, 0.10066258162260056, 0.8087856769561768, 0.14749713242053986, 0.04371490702033043, 0.06507133692502975, 0.9348925948143005, 0.9999986290931702, 0.9999995231628418, 0.8556200265884399, 0.02947274036705494, 0.11486830562353134, 3.731671313289553e-05, 0.03675399348139763, 0.7967397570610046, 0.029286999255418777, 0.040325578302145004, 0.0326966717839241, 0.06420281529426575, 0.9301833510398865, 0.06978181004524231, 1.0000219345092773, 0.15736567974090576, 0.8426247239112854, 0.9999865889549255, 0.8931549191474915, 0.10684714466333389, 0.9999264478683472, 0.9995326399803162, 0.85819411277771, 0.050298068672418594, 0.09150612354278564, 0.9999900460243225, 0.019963158294558525, 0.015281532891094685, 0.9647682309150696, 1.0000149011611938, 0.06322497874498367, 0.04947204887866974, 0.1222577765583992, 0.7650521993637085, 0.16658331453800201, 0.03845258429646492, 0.5725533962249756, 0.140686497092247, 0.00020884523109998554, 0.08151647448539734, 0.42234113812446594, 0.06700246036052704, 0.09312707930803299, 0.27982544898986816, 0.1377006322145462, 0.14889413118362427, 0.3403322398662567, 0.027622664347290993, 0.48249271512031555, 0.0006531467661261559, 0.21288684010505676, 0.1358010470867157, 0.1482877880334854, 0.13074859976768494, 0.3207283914089203, 0.0461028516292572, 0.005442734807729721, 0.10621919482946396, 0.8750112056732178, 0.018796391785144806, 0.05040275678038597, 0.007859835401177406, 0.9417455792427063, 0.017297521233558655, 0.8009015917778015, 0.1818220317363739, 0.2408699244260788, 0.16763684153556824, 0.16264508664608002, 0.1855146437883377, 0.08624705672264099, 0.10147156566381454, 0.05561437830328941, 0.4165947139263153, 0.07363465428352356, 0.19667993485927582, 0.16406311094760895, 0.08951094001531601, 0.04865080863237381, 0.010866815224289894, 0.29854142665863037, 0.00019275366503279656, 0.683617889881134, 0.017653968185186386, 1.0000065565109253, 1.000003457069397, 0.9999510645866394, 0.9999714493751526, 0.330663800239563, 0.10922270268201828, 0.19179201126098633, 0.13197489082813263, 0.06575122475624084, 0.10188917070627213, 0.06870754808187485, 0.047598522156476974, 0.9523606300354004, 0.09901217371225357, 0.06621025502681732, 0.050222765654325485, 0.4464797079563141, 0.09333997964859009, 0.148236483335495, 0.09650072455406189, 0.9999984502792358, 0.04583001881837845, 0.23438115417957306, 0.05675806477665901, 0.5310479402542114, 0.028855545446276665, 0.052945952862501144, 0.050171587616205215, 0.147527813911438, 0.8524861335754395, 0.9998405575752258, 0.23228289186954498, 0.08088070899248123, 0.315887451171875, 0.08844013512134552, 0.2825082838535309, 0.30388343334198, 0.4127756953239441, 0.2462761104106903, 0.0315035879611969, 0.005562649108469486, 0.3744247853755951, 0.01847226731479168, 0.6071004271507263, 0.15059779584407806, 0.14851556718349457, 0.17035120725631714, 0.18859660625457764, 0.12685507535934448, 0.08096451312303543, 0.13411951065063477, 1.0000020265579224, 1.0000030994415283, 1.0001353025436401, 0.3193727135658264, 0.5606396198272705, 0.1199890673160553, 0.1358623206615448, 0.024319542571902275, 0.1797688752412796, 0.6005344986915588, 0.05952523276209831, 0.999969482421875, 0.9999521374702454, 0.9732449054718018, 0.026699848473072052, 0.999955952167511, 0.9999701976776123, 0.9998384118080139, 0.12028715014457703, 0.8797121644020081, 0.03931192308664322, 0.037305619567632675, 0.9233940243721008, 0.14875595271587372, 0.15680602192878723, 0.16269513964653015, 0.14890789985656738, 0.1696309745311737, 0.11590009927749634, 0.09729856997728348, 0.882188618183136, 0.11781706660985947, 0.007559149991720915, 0.04147505760192871, 0.07512940466403961, 0.2806476056575775, 0.10784212499856949, 0.05314945429563522, 0.43419337272644043, 0.9999897480010986, 0.709679126739502, 0.045435477048158646, 0.09635049849748611, 0.09732339531183243, 0.036813583225011826, 0.014403370209038258, 0.23048827052116394, 0.24504120647907257, 0.09586958587169647, 0.07001929730176926, 0.12322421371936798, 0.1276039183139801, 0.10775288939476013, 1.0000410079956055, 0.6541739702224731, 0.3458200693130493, 0.7641615271568298, 0.21372653543949127, 0.022111933678388596, 0.32155734300613403, 0.6784363985061646, 0.33103811740875244, 0.18867537379264832, 0.050834208726882935, 0.42944344878196716, 1.0000444650650024, 0.9998469352722168, 0.4048742651939392, 0.08844152092933655, 0.15911689400672913, 0.08441402018070221, 0.02129991166293621, 0.013392922468483448, 0.2284611612558365, 0.3314594328403473, 0.2017386257648468, 0.11751706898212433, 0.1005069762468338, 0.07527889311313629, 0.08260509371757507, 0.09089422971010208, 0.594551682472229, 0.0019039252074435353, 0.19400204718112946, 0.05621679499745369, 0.09785949438810349, 0.05546315759420395, 0.012890198267996311, 0.9871044158935547], \"Term\": [\"acoustic\", \"adapter\", \"adapter\", \"adapter\", \"adapter\", \"air\", \"air\", \"air\", \"air\", \"alarm\", \"alert\", \"alignment\", \"also\", \"also\", \"also\", \"also\", \"also\", \"also\", \"also\", \"aluminum\", \"android\", \"android\", \"android\", \"android\", \"antenna\", \"antennae\", \"apartment\", \"apartment\", \"apartment\", \"app\", \"app\", \"arrive\", \"arrive\", \"arrive\", \"arrive\", \"arrow\", \"attic\", \"audio\", \"audio\", \"audio\", \"audio\", \"audiophile\", \"auto\", \"auto\", \"auto\", \"auto\", \"awake\", \"backpack\", \"backup\", \"backup\", \"backup\", \"bag\", \"basement\", \"basement\", \"bass\", \"batter\", \"battery\", \"battery\", \"battery\", \"bedroom\", \"bedroom\", \"benchmark\", \"benchmark\", \"benchmark\", \"blend\", \"bluetooth\", \"bluetooth\", \"boot\", \"boot\", \"bose\", \"box\", \"box\", \"box\", \"box\", \"box\", \"box\", \"box\", \"brand\", \"brand\", \"brand\", \"brand\", \"brand\", \"brand\", \"bright\", \"bright\", \"bright\", \"bright\", \"bright\", \"broadcast\", \"broadcast\", \"broadcast\", \"bubble\", \"bud\", \"butt\", \"button\", \"button\", \"buy\", \"buy\", \"buy\", \"buy\", \"buy\", \"buy\", \"buy\", \"cable\", \"cam\", \"camcorder\", \"camera\", \"cannon\", \"capture\", \"capture\", \"card\", \"card\", \"card\", \"carry\", \"carry\", \"carry\", \"carry\", \"carry\", \"carry\", \"case\", \"case\", \"channel\", \"channel\", \"channel\", \"charge\", \"charge\", \"charge\", \"charger\", \"charger\", \"charger\", \"classical\", \"click\", \"click\", \"client\", \"cloth\", \"clothe\", \"coin\", \"color\", \"color\", \"color\", \"color\", \"color\", \"come\", \"come\", \"come\", \"come\", \"come\", \"come\", \"come\", \"comfort\", \"comfort\", \"comfort\", \"comfortable\", \"comfortable\", \"comfortable\", \"command\", \"command\", \"company\", \"company\", \"company\", \"company\", \"company\", \"company\", \"compartment\", \"composite\", \"computer\", \"computer\", \"computer\", \"computer\", \"computer\", \"computer\", \"configure\", \"configure\", \"configure\", \"connect\", \"connect\", \"connect\", \"connect\", \"connection\", \"connection\", \"connection\", \"connection\", \"connector\", \"connector\", \"considerable\", \"contacted\", \"continually\", \"contrast\", \"contrast\", \"contrast\", \"control\", \"control\", \"control\", \"control\", \"control\", \"cord\", \"cord\", \"cord\", \"cord\", \"core\", \"core\", \"core\", \"corrupt\", \"cover\", \"cover\", \"covering\", \"cpu\", \"cursor\", \"customer\", \"customer\", \"dash\", \"datum\", \"datum\", \"datum\", \"day\", \"day\", \"day\", \"day\", \"day\", \"day\", \"daytime\", \"dealer\", \"decode\", \"defective\", \"defective\", \"delivery\", \"delivery\", \"dent\", \"depress\", \"design\", \"design\", \"design\", \"design\", \"design\", \"design\", \"design\", \"desirable\", \"device\", \"device\", \"device\", \"device\", \"device\", \"device\", \"die\", \"die\", \"die\", \"dip\", \"disc\", \"disc\", \"disk\", \"display\", \"display\", \"display\", \"display\", \"displayport\", \"distort\", \"downgrade\", \"download\", \"download\", \"dpi\", \"drive\", \"driver\", \"driver\", \"driver\", \"dsl\", \"dslr\", \"dust\", \"dvi\", \"dvr\", \"dvr\", \"ear\", \"earbud\", \"earphone\", \"easy\", \"easy\", \"easy\", \"easy\", \"easy\", \"easy\", \"easy\", \"edge\", \"edge\", \"edge\", \"either\", \"elastic\", \"engineering\", \"enter\", \"enter\", \"enter\", \"enthusiast\", \"equalizer\", \"equip\", \"ethernet\", \"exposure\", \"extender\", \"fast\", \"fast\", \"fast\", \"fast\", \"fasten\", \"feature\", \"feature\", \"feature\", \"feature\", \"feature\", \"feature\", \"feel\", \"feel\", \"feel\", \"feel\", \"feel\", \"feel\", \"file\", \"file\", \"filter\", \"filter\", \"find\", \"find\", \"find\", \"find\", \"find\", \"find\", \"find\", \"finicky\", \"firmly\", \"firmware\", \"firmware\", \"firmware\", \"first\", \"first\", \"first\", \"first\", \"first\", \"first\", \"first\", \"fit\", \"fit\", \"fit\", \"fit\", \"flash\", \"flash\", \"flower\", \"focus\", \"fold\", \"fold\", \"folio\", \"foot\", \"foot\", \"foot\", \"foot\", \"foot\", \"footage\", \"frame\", \"frame\", \"frame\", \"frequency\", \"frequency\", \"frequency\", \"function\", \"function\", \"function\", \"function\", \"function\", \"function\", \"function\", \"garmin\", \"gateway\", \"gb\", \"genre\", \"gesture\", \"get\", \"get\", \"get\", \"get\", \"get\", \"get\", \"get\", \"ghz\", \"gig\", \"gig\", \"gigabyte\", \"give\", \"give\", \"give\", \"give\", \"give\", \"give\", \"give\", \"glove\", \"glue\", \"go\", \"go\", \"go\", \"go\", \"go\", \"go\", \"go\", \"good\", \"good\", \"good\", \"good\", \"good\", \"good\", \"good\", \"gopro\", \"gps\", \"gpu\", \"graphic\", \"graphic\", \"great\", \"great\", \"great\", \"great\", \"great\", \"great\", \"great\", \"gym\", \"hand\", \"hand\", \"hand\", \"hand\", \"hand\", \"hard\", \"hard\", \"hard\", \"hard\", \"hard\", \"hard\", \"hard\", \"hdmi\", \"head\", \"head\", \"head\", \"head\", \"headband\", \"headphone\", \"headset\", \"hear\", \"hear\", \"hear\", \"hear\", \"hear\", \"high\", \"high\", \"high\", \"high\", \"high\", \"high\", \"high\", \"hinge\", \"hold\", \"hold\", \"hold\", \"hold\", \"hold\", \"holder\", \"hook\", \"hook\", \"hook\", \"hook\", \"hook\", \"hook\", \"hooked\", \"hub\", \"hub\", \"icon\", \"icon\", \"imac\", \"image\", \"image\", \"input\", \"input\", \"input\", \"inputs\", \"instal\", \"instal\", \"instal\", \"instal\", \"instal\", \"instal\", \"install\", \"install\", \"install\", \"install\", \"installer\", \"interruption\", \"ipad\", \"ipad\", \"ipad\", \"ipad\", \"ipod\", \"isolation\", \"issue\", \"issue\", \"issue\", \"issue\", \"issue\", \"issue\", \"issue\", \"item\", \"item\", \"item\", \"item\", \"jpeg\", \"keep\", \"keep\", \"keep\", \"keep\", \"keep\", \"keep\", \"keep\", \"key\", \"key\", \"keyboard\", \"know\", \"know\", \"know\", \"know\", \"know\", \"know\", \"know\", \"laptop\", \"laptop\", \"laptop\", \"laptop\", \"laptop\", \"last\", \"last\", \"last\", \"last\", \"last\", \"last\", \"lasted\", \"lcd\", \"lcd\", \"lcd\", \"leather\", \"leg\", \"lens\", \"lense\", \"lid\", \"light\", \"light\", \"light\", \"light\", \"light\", \"light\", \"lighting\", \"lighting\", \"listen\", \"listening\", \"little\", \"little\", \"little\", \"little\", \"little\", \"little\", \"little\", \"load\", \"load\", \"load\", \"load\", \"load\", \"load\", \"logic\", \"look\", \"look\", \"look\", \"look\", \"look\", \"look\", \"look\", \"loud\", \"loud\", \"lovely\", \"low\", \"low\", \"low\", \"low\", \"low\", \"low\", \"low\", \"lumen\", \"machine\", \"machine\", \"machine\", \"machine\", \"machine\", \"magnet\", \"magnetic\", \"make\", \"make\", \"make\", \"make\", \"make\", \"make\", \"make\", \"map\", \"material\", \"material\", \"material\", \"mb\", \"mb\", \"memory\", \"memory\", \"memory\", \"memory\", \"microphone\", \"microphone\", \"microsd\", \"mid\", \"mid\", \"mid\", \"mid\", \"midrange\", \"mode\", \"mode\", \"mode\", \"money\", \"money\", \"money\", \"money\", \"money\", \"money\", \"monitor\", \"monitor\", \"monitor\", \"monitor\", \"month\", \"month\", \"month\", \"month\", \"month\", \"month\", \"month\", \"motherboard\", \"mouse\", \"much\", \"much\", \"much\", \"much\", \"much\", \"much\", \"much\", \"music\", \"music\", \"navigation\", \"need\", \"need\", \"need\", \"need\", \"need\", \"need\", \"need\", \"netgear\", \"network\", \"network\", \"new\", \"new\", \"new\", \"new\", \"new\", \"new\", \"new\", \"nice\", \"nice\", \"nice\", \"nice\", \"nice\", \"nice\", \"nice\", \"nikon\", \"noise\", \"noise\", \"noise\", \"noise_cancellation\", \"object\", \"oem\", \"offline\", \"old\", \"old\", \"old\", \"old\", \"old\", \"old\", \"old\", \"onkyo\", \"onscreen\", \"operational\", \"order\", \"order\", \"order\", \"order\", \"order\", \"order\", \"order\", \"original\", \"original\", \"original\", \"original\", \"original\", \"original\", \"otg\", \"outlet\", \"output\", \"output\", \"output\", \"overclocke\", \"overheat\", \"packed\", \"padding\", \"page\", \"page\", \"page\", \"page\", \"page\", \"pair\", \"pair\", \"pair\", \"pair\", \"pair\", \"partition\", \"partition\", \"pay\", \"pay\", \"pay\", \"pay\", \"pay\", \"pay\", \"pay\", \"pc\", \"pc\", \"pc\", \"pc\", \"performance\", \"performance\", \"performance\", \"performance\", \"performance\", \"performance\", \"phone\", \"phone\", \"phone\", \"phone\", \"phone\", \"phone\", \"photo\", \"photo\", \"photographer\", \"photography\", \"pic\", \"pic\", \"picture\", \"picture\", \"pixel\", \"pixel\", \"place\", \"place\", \"place\", \"place\", \"place\", \"place\", \"place\", \"plastic\", \"plastic\", \"play\", \"play\", \"play\", \"play\", \"play\", \"play\", \"plug\", \"plug\", \"plug\", \"plug\", \"plug\", \"pocket\", \"pocket\", \"pointer\", \"police\", \"port\", \"port\", \"port\", \"poster\", \"power\", \"power\", \"power\", \"power\", \"power\", \"power\", \"powerline\", \"press\", \"press\", \"press\", \"price\", \"price\", \"price\", \"price\", \"price\", \"price\", \"pricy\", \"problem\", \"problem\", \"problem\", \"problem\", \"problem\", \"problem\", \"problem\", \"processor\", \"processor\", \"product\", \"product\", \"product\", \"product\", \"product\", \"product\", \"productive\", \"productive\", \"prompt\", \"prompt\", \"promptly\", \"promptly\", \"promptly\", \"prong\", \"protect\", \"protect\", \"protection\", \"protective\", \"protector\", \"purchase\", \"purchase\", \"purchase\", \"purchase\", \"purchase\", \"purchase\", \"purchase\", \"purple\", \"put\", \"put\", \"put\", \"put\", \"put\", \"put\", \"put\", \"quality\", \"quality\", \"quality\", \"quality\", \"quality\", \"quietly\", \"radio\", \"radio\", \"ram\", \"range\", \"range\", \"range\", \"range\", \"range\", \"raw\", \"raw\", \"reader\", \"reader\", \"really\", \"really\", \"really\", \"really\", \"really\", \"really\", \"really\", \"rebel\", \"reccomend\", \"receive\", \"receive\", \"receive\", \"receive\", \"receive\", \"receive\", \"receive\", \"receptacle\", \"reconnect\", \"record\", \"record\", \"record\", \"record\", \"recovery\", \"refund\", \"region\", \"remarkable\", \"remote\", \"remove\", \"remove\", \"remove\", \"remove\", \"remove\", \"repair\", \"repair\", \"repeatedly\", \"replacement\", \"replacement\", \"replacement\", \"replacement\", \"replacement\", \"replacement\", \"resolution\", \"resolution\", \"resolution\", \"resolution\", \"responsive\", \"responsive\", \"responsive\", \"responsive\", \"return\", \"return\", \"return\", \"return\", \"return\", \"return\", \"review\", \"review\", \"review\", \"review\", \"review\", \"review\", \"review\", \"rig\", \"rom\", \"room\", \"room\", \"room\", \"room\", \"room\", \"room\", \"router\", \"rubber\", \"rubber\", \"run\", \"run\", \"run\", \"run\", \"run\", \"run\", \"run\", \"sandisk\", \"saturation\", \"say\", \"say\", \"say\", \"say\", \"say\", \"say\", \"say\", \"scene\", \"scene\", \"scene\", \"scratch\", \"scratch\", \"screen\", \"screen\", \"screen\", \"screen\", \"screen\", \"scroll\", \"scrolling\", \"securely\", \"see\", \"see\", \"see\", \"see\", \"see\", \"see\", \"see\", \"seller\", \"send\", \"send\", \"send\", \"send\", \"server\", \"service\", \"service\", \"service\", \"set\", \"set\", \"set\", \"set\", \"set\", \"set\", \"set\", \"setting\", \"setting\", \"setting\", \"setting\", \"setup\", \"setup\", \"setup\", \"setup\", \"setup\", \"sew\", \"sharp\", \"sharp\", \"sharp\", \"sharp\", \"ship\", \"ship\", \"ship\", \"ship\", \"shipping\", \"shipping\", \"shooting\", \"shortcut\", \"shot\", \"shoulder\", \"shoulder\", \"shutter\", \"side\", \"side\", \"side\", \"side\", \"side\", \"side\", \"signal\", \"signal\", \"silent\", \"skin\", \"sle\", \"sleeve\", \"slide\", \"slide\", \"slip\", \"slower\", \"small\", \"small\", \"small\", \"small\", \"small\", \"small\", \"software\", \"software\", \"software\", \"song\", \"song\", \"sound\", \"speaker\", \"speed\", \"speed\", \"speed\", \"speed\", \"stand\", \"stand\", \"stand\", \"stand\", \"stand\", \"stand\", \"stereo\", \"stereo\", \"sticky\", \"storage\", \"storage\", \"strap\", \"streaming\", \"streaming\", \"stripe\", \"stud\", \"sturdy\", \"sturdy\", \"sturdy\", \"sub\", \"subject\", \"subject\", \"subject\", \"subwoofer\", \"supply\", \"supply\", \"supply\", \"supply\", \"support\", \"support\", \"support\", \"support\", \"support\", \"support\", \"system\", \"system\", \"system\", \"system\", \"system\", \"tablet\", \"tablet\", \"tablet\", \"tablet\", \"tablet\", \"take\", \"take\", \"take\", \"take\", \"take\", \"take\", \"take\", \"tap\", \"tap\", \"tap\", \"television\", \"television\", \"television\", \"text\", \"text\", \"text\", \"thing\", \"thing\", \"thing\", \"thing\", \"thing\", \"thing\", \"thing\", \"time\", \"time\", \"time\", \"time\", \"time\", \"time\", \"time\", \"touch\", \"touch\", \"touch\", \"touch\", \"touchpad\", \"transfer\", \"transport\", \"treble\", \"try\", \"try\", \"try\", \"try\", \"try\", \"try\", \"try\", \"tuner\", \"tuner\", \"turn\", \"turn\", \"turn\", \"turn\", \"turn\", \"turn\", \"turn\", \"tv\", \"type\", \"type\", \"type\", \"type\", \"type\", \"type\", \"type\", \"typing\", \"typing\", \"uninstall\", \"unit\", \"unit\", \"unit\", \"unit\", \"unit\", \"update\", \"update\", \"update\", \"update\", \"update\", \"usb\", \"usb\", \"usb\", \"use\", \"use\", \"use\", \"use\", \"use\", \"use\", \"use\", \"velcro\", \"vga\", \"vid\", \"video\", \"video\", \"video\", \"view\", \"view\", \"view\", \"view\", \"view\", \"viewfinder\", \"virus\", \"vivid\", \"vivid\", \"vizio\", \"vocal\", \"volt\", \"volume\", \"volume\", \"wall\", \"wall\", \"wall\", \"want\", \"want\", \"want\", \"want\", \"want\", \"want\", \"want\", \"warranty\", \"warranty\", \"watch\", \"watch\", \"watch\", \"watch\", \"watch\", \"watch\", \"watch\", \"webcam\", \"week\", \"week\", \"week\", \"week\", \"week\", \"week\", \"well\", \"well\", \"well\", \"well\", \"well\", \"well\", \"well\", \"widely\", \"wifi\", \"wifi\", \"window\", \"window\", \"window\", \"wire\", \"wire\", \"wireless\", \"wireless\", \"wireless\", \"wireless\", \"wobble\", \"woofer\", \"work\", \"work\", \"work\", \"work\", \"work\", \"work\", \"work\", \"would\", \"would\", \"would\", \"would\", \"would\", \"would\", \"would\", \"year\", \"year\", \"year\", \"year\", \"year\", \"year\", \"zoom\", \"zoom\"]}, \"R\": 30, \"lambda.step\": 0.01, \"plot.opts\": {\"xlab\": \"PC1\", \"ylab\": \"PC2\"}, \"topic.order\": [3, 7, 5, 6, 1, 2, 4]};\n",
       "\n",
       "function LDAvis_load_lib(url, callback){\n",
       "  var s = document.createElement('script');\n",
       "  s.src = url;\n",
       "  s.async = true;\n",
       "  s.onreadystatechange = s.onload = callback;\n",
       "  s.onerror = function(){console.warn(\"failed to load library \" + url);};\n",
       "  document.getElementsByTagName(\"head\")[0].appendChild(s);\n",
       "}\n",
       "\n",
       "if(typeof(LDAvis) !== \"undefined\"){\n",
       "   // already loaded: just create the visualization\n",
       "   !function(LDAvis){\n",
       "       new LDAvis(\"#\" + \"ldavis_el20581401968885961763930689783\", ldavis_el20581401968885961763930689783_data);\n",
       "   }(LDAvis);\n",
       "}else if(typeof define === \"function\" && define.amd){\n",
       "   // require.js is available: use it to load d3/LDAvis\n",
       "   require.config({paths: {d3: \"https://cdnjs.cloudflare.com/ajax/libs/d3/3.5.5/d3.min\"}});\n",
       "   require([\"d3\"], function(d3){\n",
       "      window.d3 = d3;\n",
       "      LDAvis_load_lib(\"https://cdn.rawgit.com/bmabey/pyLDAvis/files/ldavis.v1.0.0.js\", function(){\n",
       "        new LDAvis(\"#\" + \"ldavis_el20581401968885961763930689783\", ldavis_el20581401968885961763930689783_data);\n",
       "      });\n",
       "    });\n",
       "}else{\n",
       "    // require.js not available: dynamically load d3 & LDAvis\n",
       "    LDAvis_load_lib(\"https://cdnjs.cloudflare.com/ajax/libs/d3/3.5.5/d3.min.js\", function(){\n",
       "         LDAvis_load_lib(\"https://cdn.rawgit.com/bmabey/pyLDAvis/files/ldavis.v1.0.0.js\", function(){\n",
       "                 new LDAvis(\"#\" + \"ldavis_el20581401968885961763930689783\", ldavis_el20581401968885961763930689783_data);\n",
       "            })\n",
       "         });\n",
       "}\n",
       "</script>"
      ],
      "text/plain": [
       "PreparedData(topic_coordinates=              x         y  topics  cluster       Freq\n",
       "topic                                                \n",
       "2      0.016794 -0.081916       1        1  19.164663\n",
       "6      0.065766  0.129229       2        1  17.404028\n",
       "4     -0.067523 -0.117286       3        1  16.532806\n",
       "5      0.022875 -0.048178       4        1  12.790309\n",
       "0      0.094261 -0.034512       5        1  12.115993\n",
       "1      0.071285  0.074154       6        1  11.147864\n",
       "3     -0.203460  0.078509       7        1  10.844331, topic_info=     Category           Freq    Term        Total  loglift  logprob\n",
       "1567  Default  475887.000000  camera  475887.0000  30.0000  30.0000\n",
       "1504  Default  450290.000000   sound  450290.0000  29.0000  29.0000\n",
       "974   Default  557780.000000    case  557780.0000  28.0000  28.0000\n",
       "408   Default  336484.000000   cable  336484.0000  27.0000  27.0000\n",
       "407   Default  285805.000000      tv  285805.0000  26.0000  26.0000\n",
       "...       ...            ...     ...          ...      ...      ...\n",
       "305    Topic7   65467.640625    well  607575.3750  -0.0064  -4.9083\n",
       "17     Topic7   59403.175781     get  736531.8750  -0.2961  -5.0055\n",
       "309    Topic7   54936.527344   would  604405.8125  -0.1765  -5.0837\n",
       "205    Topic7   49392.789062    good  748918.7500  -0.4973  -5.1901\n",
       "152    Topic7   48225.691406    also  429874.1250   0.0339  -5.2140\n",
       "\n",
       "[568 rows x 6 columns], token_table=      Topic      Freq      Term\n",
       "term                           \n",
       "4882      6  0.999792  acoustic\n",
       "454       1  0.095595   adapter\n",
       "454       3  0.116275   adapter\n",
       "454       5  0.019710   adapter\n",
       "454       7  0.768423   adapter\n",
       "...     ...       ...       ...\n",
       "382       4  0.056217      year\n",
       "382       5  0.097859      year\n",
       "382       6  0.055463      year\n",
       "3096      4  0.012890      zoom\n",
       "3096      5  0.987104      zoom\n",
       "\n",
       "[1264 rows x 3 columns], R=30, lambda_step=0.01, plot_opts={'xlab': 'PC1', 'ylab': 'PC2'}, topic_order=[3, 7, 5, 6, 1, 2, 4])"
      ]
     },
     "execution_count": 28,
     "metadata": {},
     "output_type": "execute_result"
    }
   ],
   "source": [
    "import pickle \n",
    "\n",
    "#visualise topics\n",
    "pyLDAvis.enable_notebook()\n",
    "\n",
    "LDAvis_prepared = pyLDAvis.gensim.prepare(lda_model,\n",
    "                                          corpus,\n",
    "                                          id2word)\n",
    "\n",
    "LDAvis_prepared"
   ]
  },
  {
   "cell_type": "code",
   "execution_count": 29,
   "metadata": {},
   "outputs": [
    {
     "name": "stdout",
     "output_type": "stream",
     "text": [
      "\n",
      "Perplexity:  -8.507900151947174\n",
      "\n",
      "Coherence Score:  0.4260260166011451\n"
     ]
    }
   ],
   "source": [
    "#compute perplexity\n",
    "print('\\nPerplexity: ', lda_model.log_perplexity(corpus))  # a measure of how good the model is. lower the better.\n",
    "\n",
    "#compute coherence score\n",
    "coherence_model_lda = CoherenceModel(model=lda_model, texts=data_lemmatized, dictionary=id2word, coherence='c_v')\n",
    "coherence_lda = coherence_model_lda.get_coherence()\n",
    "print('\\nCoherence Score: ', coherence_lda)"
   ]
  },
  {
   "cell_type": "markdown",
   "metadata": {},
   "source": [
    "Changing these parameters has resulted in an improvement in coherence from 0.376 to 0.426."
   ]
  },
  {
   "cell_type": "markdown",
   "metadata": {},
   "source": [
    "### 3.2 Mallet's LDA model\n",
    "\n",
    "Mallet's version is said to give better quality of topics. To use this version, for which Gensim provides a wrapper to implement within Gensim, the zipfile needs to be downloaded.\n",
    "\n",
    "The MALLET topic model package includes an extremely fast and highly scalable implementation of Gibbs sampling, efficient methods for document-topic hyperparameter optimisation, and tools for inferring topics for new documents given trained models."
   ]
  },
  {
   "cell_type": "code",
   "execution_count": 74,
   "metadata": {},
   "outputs": [],
   "source": [
    "import os\n",
    "from gensim.models.wrappers import LdaMallet\n",
    "\n",
    "# downloaded file from http://mallet.cs.umass.edu/dist/mallet-2.0.8.zip\n",
    "os.environ['MALLET_HOME'] = 'C:/Users/charlottefettes/mallet-2.0.8'\n",
    "\n",
    "mallet_path = 'mallet-2.0.8/bin/mallet'"
   ]
  },
  {
   "cell_type": "code",
   "execution_count": 55,
   "metadata": {},
   "outputs": [],
   "source": [
    "lda_mallet = gensim.models.wrappers.LdaMallet(mallet_path,\n",
    "                                              corpus=corpus,\n",
    "                                              num_topics=10,\n",
    "                                              id2word=id2word,\n",
    "                                              iterations=1000)"
   ]
  },
  {
   "cell_type": "markdown",
   "metadata": {},
   "source": [
    "#### Show topics"
   ]
  },
  {
   "cell_type": "code",
   "execution_count": 56,
   "metadata": {},
   "outputs": [
    {
     "name": "stdout",
     "output_type": "stream",
     "text": [
      "[(0,\n",
      "  [('cable', 0.054998233263750765),\n",
      "   ('card', 0.041702794371198275),\n",
      "   ('make', 0.022446034691912475),\n",
      "   ('run', 0.01601674506628089),\n",
      "   ('fan', 0.012883366793743025),\n",
      "   ('build', 0.012536341199025),\n",
      "   ('memory', 0.012216598536969372),\n",
      "   ('end', 0.01118184340794439),\n",
      "   ('cool', 0.010343725025303256),\n",
      "   ('mount', 0.009991209572183652)]),\n",
      " (1,\n",
      "  [('time', 0.022739900060011933),\n",
      "   ('review', 0.021684483333775647),\n",
      "   ('unit', 0.020729086497371946),\n",
      "   ('problem', 0.020455993674063002),\n",
      "   ('give', 0.014996848160675603),\n",
      "   ('day', 0.014585211381550054),\n",
      "   ('update', 0.013929160806014777),\n",
      "   ('back', 0.013074782631524728),\n",
      "   ('year', 0.013003299086865492),\n",
      "   ('return', 0.01221826423114668)]),\n",
      " (2,\n",
      "  [('sound', 0.06335003600477515),\n",
      "   ('speaker', 0.031460348304012314),\n",
      "   ('good', 0.031029963559165357),\n",
      "   ('quality', 0.028446161735660138),\n",
      "   ('headphone', 0.022244559485832097),\n",
      "   ('music', 0.020313054874502974),\n",
      "   ('ear', 0.015538352776310143),\n",
      "   ('high', 0.014887250247672831),\n",
      "   ('volume', 0.013555178101928607),\n",
      "   ('hear', 0.011377568681609967)]),\n",
      " (3,\n",
      "  [('work', 0.11308778195475691),\n",
      "   ('battery', 0.05843228337341246),\n",
      "   ('charge', 0.034371462459525166),\n",
      "   ('power', 0.03149949083679534),\n",
      "   ('time', 0.029061122460509525),\n",
      "   ('plug', 0.027617684634917157),\n",
      "   ('phone', 0.025583284750821975),\n",
      "   ('device', 0.022473541883439405),\n",
      "   ('long', 0.020650397937559746),\n",
      "   ('fine', 0.01970711157848912)]),\n",
      " (4,\n",
      "  [('camera', 0.06266870085670696),\n",
      "   ('light', 0.023159658092001142),\n",
      "   ('picture', 0.022446685117180513),\n",
      "   ('good', 0.017022336591607484),\n",
      "   ('quality', 0.015152598434706715),\n",
      "   ('video', 0.013440950569865655),\n",
      "   ('lens', 0.013313623794098646),\n",
      "   ('photo', 0.01316251226267941),\n",
      "   ('image', 0.012906861745339612),\n",
      "   ('flash', 0.012489560343776598)]),\n",
      " (5,\n",
      "  [('keyboard', 0.02614478063240581),\n",
      "   ('screen', 0.022169011695645505),\n",
      "   ('button', 0.02121222687087926),\n",
      "   ('mouse', 0.01814906754847675),\n",
      "   ('make', 0.01799260752231439),\n",
      "   ('tablet', 0.016186151677283985),\n",
      "   ('thing', 0.01562502308487166),\n",
      "   ('feel', 0.014266967786963791),\n",
      "   ('key', 0.0127846604758335),\n",
      "   ('find', 0.012770624873864262)]),\n",
      " (6,\n",
      "  [('great', 0.09677697299907774),\n",
      "   ('buy', 0.09639118981844434),\n",
      "   ('price', 0.062445283853803775),\n",
      "   ('good', 0.05504289178533577),\n",
      "   ('product', 0.05187099523905261),\n",
      "   ('recommend', 0.03662192220015552),\n",
      "   ('purchase', 0.03628294359658426),\n",
      "   ('work', 0.03335943043084677),\n",
      "   ('love', 0.027818761331051257),\n",
      "   ('cheap', 0.020161780729775546)]),\n",
      " (7,\n",
      "  [('drive', 0.04643836920493981),\n",
      "   ('computer', 0.03486020153474209),\n",
      "   ('usb', 0.025669880207604023),\n",
      "   ('software', 0.01829537762830152),\n",
      "   ('hard', 0.018278352997491278),\n",
      "   ('device', 0.017576086976568858),\n",
      "   ('work', 0.017384276136106817),\n",
      "   ('laptop', 0.01603578350401235),\n",
      "   ('router', 0.015475105662661763),\n",
      "   ('wireless', 0.015363310587007852)]),\n",
      " (8,\n",
      "  [('case', 0.06622677654707616),\n",
      "   ('fit', 0.031613293521121286),\n",
      "   ('cover', 0.02277201232267328),\n",
      "   ('hold', 0.021301983240969973),\n",
      "   ('ipad', 0.02059483259191592),\n",
      "   ('bag', 0.01513259871865578),\n",
      "   ('screen', 0.014199955539250582),\n",
      "   ('stand', 0.01175112184431935),\n",
      "   ('make', 0.011611878308742246),\n",
      "   ('plastic', 0.011389270868005024)]),\n",
      " (9,\n",
      "  [('tv', 0.037181470559900016),\n",
      "   ('set', 0.026791635572240076),\n",
      "   ('player', 0.020850820112125544),\n",
      "   ('play', 0.019950910824867253),\n",
      "   ('video', 0.019022129018325507),\n",
      "   ('remote', 0.018354378355509685),\n",
      "   ('monitor', 0.014033812077021274),\n",
      "   ('watch', 0.013875307838505983),\n",
      "   ('movie', 0.013116078428368606),\n",
      "   ('easy', 0.011110616808343333)])]\n"
     ]
    }
   ],
   "source": [
    "pprint(lda_mallet.show_topics(formatted = False))"
   ]
  },
  {
   "cell_type": "markdown",
   "metadata": {},
   "source": [
    "#### Coherence score"
   ]
  },
  {
   "cell_type": "code",
   "execution_count": 57,
   "metadata": {},
   "outputs": [
    {
     "name": "stdout",
     "output_type": "stream",
     "text": [
      "\n",
      "Coherence Score:  0.5026676509592649\n"
     ]
    }
   ],
   "source": [
    "#coherence score\n",
    "coherence_model_ldamallet = CoherenceModel(model=lda_mallet, texts=data_lemmatized, dictionary=id2word, coherence='c_v')\n",
    "coherence_ldamallet = coherence_model_ldamallet.get_coherence()\n",
    "print('\\nCoherence Score: ', coherence_ldamallet)"
   ]
  },
  {
   "cell_type": "markdown",
   "metadata": {},
   "source": [
    "#### Hyperparameter tuning\n",
    "\n",
    "For this version, only the number of topics parameter will be optimised."
   ]
  },
  {
   "cell_type": "code",
   "execution_count": 58,
   "metadata": {},
   "outputs": [],
   "source": [
    "def compute_coherence_values(dictionary, corpus, texts, limit, start=2, step=3):\n",
    "    coherence_values = []\n",
    "    model_list = []\n",
    "    for num_topics in range(start, limit, step):\n",
    "        model = gensim.models.wrappers.LdaMallet(mallet_path, corpus=corpus, num_topics=num_topics, id2word=id2word)\n",
    "        model_list.append(model)\n",
    "        coherencemodel = CoherenceModel(model=model, texts=texts, dictionary=dictionary, coherence='c_v')\n",
    "        coherence_values.append(coherencemodel.get_coherence())\n",
    "\n",
    "    return model_list, coherence_values"
   ]
  },
  {
   "cell_type": "code",
   "execution_count": 59,
   "metadata": {},
   "outputs": [],
   "source": [
    "model_list, coherence_values = compute_coherence_values(dictionary=id2word,\n",
    "                                                        corpus=corpus,\n",
    "                                                        texts=data_lemmatized,\n",
    "                                                        start=2,\n",
    "                                                        limit=20,\n",
    "                                                        step=3)"
   ]
  },
  {
   "cell_type": "code",
   "execution_count": 60,
   "metadata": {},
   "outputs": [
    {
     "data": {
      "image/png": "[encoded data removed]",
      "text/plain": [
       "<Figure size 432x288 with 1 Axes>"
      ]
     },
     "metadata": {
      "needs_background": "light"
     },
     "output_type": "display_data"
    }
   ],
   "source": [
    "#plot graph\n",
    "limit=20; start=2; step=3;\n",
    "x = range(start, limit, step)\n",
    "plt.plot(x, coherence_values)\n",
    "plt.xlabel(\"Number of topics\")\n",
    "plt.ylabel(\"Coherence score\")\n",
    "plt.legend((\"coherence_values\"), loc='best')\n",
    "plt.show()"
   ]
  },
  {
   "cell_type": "code",
   "execution_count": 61,
   "metadata": {},
   "outputs": [
    {
     "name": "stdout",
     "output_type": "stream",
     "text": [
      "Num Topics = 2  has Coherence Value of 0.3458\n",
      "Num Topics = 5  has Coherence Value of 0.4336\n",
      "Num Topics = 8  has Coherence Value of 0.4929\n",
      "Num Topics = 11  has Coherence Value of 0.4737\n",
      "Num Topics = 14  has Coherence Value of 0.5\n",
      "Num Topics = 17  has Coherence Value of 0.5024\n"
     ]
    }
   ],
   "source": [
    "# coherence scores\n",
    "for m, cv in zip(x, coherence_values):\n",
    "    print(\"Num Topics =\", m, \" has Coherence Value of\", round(cv, 4))"
   ]
  },
  {
   "cell_type": "code",
   "execution_count": 71,
   "metadata": {},
   "outputs": [
    {
     "name": "stdout",
     "output_type": "stream",
     "text": [
      "[(0,\n",
      "  '0.069*\"card\" + 0.033*\"run\" + 0.022*\"memory\" + 0.021*\"fan\" + 0.017*\"cool\" + '\n",
      "  '0.016*\"game\" + 0.016*\"performance\" + 0.015*\"fast\" + 0.014*\"build\" + '\n",
      "  '0.013*\"high\"'),\n",
      " (1,\n",
      "  '0.091*\"cable\" + 0.050*\"product\" + 0.034*\"order\" + 0.024*\"purchase\" + '\n",
      "  '0.023*\"return\" + 0.022*\"item\" + 0.020*\"receive\" + 0.018*\"send\" + '\n",
      "  '0.016*\"replacement\" + 0.016*\"day\"'),\n",
      " (2,\n",
      "  '0.110*\"case\" + 0.042*\"screen\" + 0.038*\"cover\" + 0.034*\"ipad\" + '\n",
      "  '0.029*\"tablet\" + 0.022*\"fit\" + 0.016*\"protect\" + 0.016*\"hold\" + '\n",
      "  '0.015*\"stand\" + 0.014*\"protector\"'),\n",
      " (3,\n",
      "  '0.065*\"tv\" + 0.031*\"set\" + 0.025*\"monitor\" + 0.023*\"picture\" + 0.020*\"room\" '\n",
      "  '+ 0.017*\"hdmi\" + 0.017*\"screen\" + 0.016*\"color\" + 0.015*\"watch\" + '\n",
      "  '0.014*\"channel\"'),\n",
      " (4,\n",
      "  '0.037*\"video\" + 0.034*\"play\" + 0.033*\"player\" + 0.029*\"remote\" + '\n",
      "  '0.017*\"feature\" + 0.017*\"device\" + 0.013*\"record\" + 0.012*\"app\" + '\n",
      "  '0.012*\"control\" + 0.012*\"movie\"'),\n",
      " (5,\n",
      "  '0.045*\"keyboard\" + 0.033*\"button\" + 0.031*\"mouse\" + 0.023*\"feel\" + '\n",
      "  '0.022*\"key\" + 0.020*\"type\" + 0.017*\"small\" + 0.017*\"hand\" + 0.016*\"make\" + '\n",
      "  '0.016*\"touch\"'),\n",
      " (6,\n",
      "  '0.085*\"drive\" + 0.052*\"computer\" + 0.045*\"usb\" + 0.038*\"hard\" + '\n",
      "  '0.026*\"window\" + 0.024*\"laptop\" + 0.020*\"software\" + 0.020*\"port\" + '\n",
      "  '0.018*\"file\" + 0.016*\"fast\"'),\n",
      " (7,\n",
      "  '0.031*\"fit\" + 0.025*\"bag\" + 0.024*\"small\" + 0.019*\"hold\" + 0.017*\"carry\" + '\n",
      "  '0.016*\"make\" + 0.015*\"side\" + 0.015*\"pocket\" + 0.013*\"mount\" + '\n",
      "  '0.012*\"screw\"'),\n",
      " (8,\n",
      "  '0.064*\"unit\" + 0.024*\"time\" + 0.022*\"find\" + 0.020*\"turn\" + 0.019*\"radio\" + '\n",
      "  '0.014*\"car\" + 0.014*\"feature\" + 0.009*\"make\" + 0.009*\"station\" + '\n",
      "  '0.009*\"update\"'),\n",
      " (9,\n",
      "  '0.185*\"good\" + 0.108*\"price\" + 0.082*\"quality\" + 0.039*\"nice\" + '\n",
      "  '0.029*\"pretty\" + 0.026*\"expect\" + 0.026*\"cheap\" + 0.024*\"excellent\" + '\n",
      "  '0.023*\"great\" + 0.023*\"build\"'),\n",
      " (10,\n",
      "  '0.032*\"connect\" + 0.032*\"device\" + 0.027*\"router\" + 0.026*\"wireless\" + '\n",
      "  '0.026*\"connection\" + 0.022*\"work\" + 0.021*\"set\" + 0.018*\"network\" + '\n",
      "  '0.017*\"support\" + 0.017*\"setup\"'),\n",
      " (11,\n",
      "  '0.097*\"camera\" + 0.026*\"picture\" + 0.024*\"light\" + 0.021*\"lens\" + '\n",
      "  '0.020*\"photo\" + 0.018*\"image\" + 0.017*\"shoot\" + 0.017*\"flash\" + '\n",
      "  '0.013*\"focus\" + 0.012*\"video\"'),\n",
      " (12,\n",
      "  '0.097*\"sound\" + 0.048*\"speaker\" + 0.034*\"headphone\" + 0.025*\"music\" + '\n",
      "  '0.024*\"ear\" + 0.021*\"volume\" + 0.017*\"hear\" + 0.017*\"pair\" + 0.016*\"bass\" + '\n",
      "  '0.016*\"listen\"'),\n",
      " (13,\n",
      "  '0.045*\"thing\" + 0.045*\"review\" + 0.035*\"give\" + 0.029*\"star\" + 0.028*\"time\" '\n",
      "  '+ 0.027*\"bad\" + 0.021*\"problem\" + 0.018*\"people\" + 0.017*\"make\" + '\n",
      "  '0.017*\"read\"'),\n",
      " (14,\n",
      "  '0.141*\"buy\" + 0.058*\"year\" + 0.039*\"purchase\" + 0.031*\"month\" + '\n",
      "  '0.029*\"money\" + 0.029*\"love\" + 0.024*\"time\" + 0.022*\"worth\" + 0.018*\"pay\" + '\n",
      "  '0.018*\"spend\"'),\n",
      " (15,\n",
      "  '0.278*\"work\" + 0.181*\"great\" + 0.066*\"recommend\" + 0.065*\"product\" + '\n",
      "  '0.052*\"easy\" + 0.043*\"fine\" + 0.028*\"buy\" + 0.027*\"perfectly\" + '\n",
      "  '0.026*\"highly\" + 0.025*\"love\"'),\n",
      " (16,\n",
      "  '0.096*\"battery\" + 0.059*\"power\" + 0.057*\"charge\" + 0.043*\"plug\" + '\n",
      "  '0.041*\"phone\" + 0.029*\"device\" + 0.026*\"long\" + 0.022*\"cord\" + '\n",
      "  '0.022*\"charger\" + 0.022*\"time\"')]\n"
     ]
    }
   ],
   "source": [
    "# select model (looks as though should have included higher number of topics but highest here is 17) and print topics\n",
    "optimal_model = model_list[5]\n",
    "model_topics = optimal_model.show_topics(formatted=False)\n",
    "pprint(optimal_model.print_topics(num_words=10))"
   ]
  },
  {
   "cell_type": "markdown",
   "metadata": {},
   "source": [
    "#### Visualising the optimal LDA Mallet model"
   ]
  },
  {
   "cell_type": "code",
   "execution_count": 72,
   "metadata": {},
   "outputs": [
    {
     "data": {
      "image/png": "[encoded data removed]",
      "text/plain": [
       "<Figure size 720x720 with 4 Axes>"
      ]
     },
     "metadata": {
      "needs_background": "light"
     },
     "output_type": "display_data"
    }
   ],
   "source": [
    "# Wordcloud of top n words in each topic - will visualise only the first 4 topics\n",
    "from matplotlib import pyplot as plt\n",
    "from wordcloud import WordCloud, STOPWORDS\n",
    "import matplotlib.colors as mcolors\n",
    "cols = [color for name, color in mcolors.TABLEAU_COLORS.items()]\n",
    "cloud = WordCloud(stopwords=stop_words,\n",
    "                  background_color='white',\n",
    "                  width=2500,\n",
    "                  height=1800,\n",
    "                  max_words=10,\n",
    "                  colormap='tab10',\n",
    "                  color_func=lambda *args, **kwargs: cols[i],\n",
    "                  prefer_horizontal=1.0)\n",
    "topics = optimal_model.show_topics(formatted=False)\n",
    "fig, axes = plt.subplots(2, 2, figsize=(10,10), sharex=True, sharey=True)\n",
    "for i, ax in enumerate(axes.flatten()):\n",
    "    fig.add_subplot(ax)\n",
    "    topic_words = dict(topics[i][1])\n",
    "    cloud.generate_from_frequencies(topic_words, max_font_size=300)\n",
    "    plt.gca().imshow(cloud)\n",
    "    plt.gca().set_title('Topic ' + str(i), fontdict=dict(size=16))\n",
    "    plt.gca().axis('off')\n",
    "plt.subplots_adjust(wspace=0, hspace=0)\n",
    "plt.axis('off')\n",
    "plt.margins(x=0, y=0)\n",
    "plt.tight_layout()\n",
    "plt.show()"
   ]
  },
  {
   "cell_type": "markdown",
   "metadata": {},
   "source": [
    "#### Finding the dominant topic in each sentence\n",
    "\n",
    "This will be the topic number that has the highest percentage contribution in that text."
   ]
  },
  {
   "cell_type": "code",
   "execution_count": null,
   "metadata": {},
   "outputs": [],
   "source": [
    "#function to aggregate information on topic number of % contribution\n",
    "\n",
    "def format_topics_sentences(ldamodel=optimal_model, corpus=corpus, texts=data):\n",
    "    sent_topics_df = pd.DataFrame()\n",
    "\n",
    "    #get main topic in each document\n",
    "    for i, row in enumerate(ldamodel[corpus]):\n",
    "        row = sorted(row, key=lambda x: (x[1]), reverse=True)\n",
    "        #get dominant topic, % contribution and keywords for each document\n",
    "        for j, (topic_num, prop_topic) in enumerate(row):\n",
    "            if j == 0:  #dominant topic\n",
    "                wp = ldamodel.show_topic(topic_num)\n",
    "                topic_keywords = \", \".join([word for word, prop in wp])\n",
    "                sent_topics_df = sent_topics_df.append(pd.Series([int(topic_num), round(prop_topic,4), topic_keywords]), ignore_index=True)\n",
    "            else:\n",
    "                break\n",
    "    sent_topics_df.columns = ['Dominant_Topic', 'Perc_Contribution', 'Topic_Keywords']\n",
    "\n",
    "    #add original text to end of output\n",
    "    contents = pd.Series(texts)\n",
    "    sent_topics_df = pd.concat([sent_topics_df, contents], axis=1)\n",
    "    return(sent_topics_df)\n",
    "\n",
    "\n",
    "df_topic_sents_keywords = format_topics_sentences(ldamodel=optimal_model, corpus=corpus, texts=data)\n",
    "\n",
    "#format\n",
    "df_dominant_topic = df_topic_sents_keywords.reset_index()\n",
    "df_dominant_topic.columns = ['Document_Number', 'Dominant_Topic', 'Topic_Percentage_Contribution', 'Keywords', 'Text']\n",
    "\n",
    "#show\n",
    "df_dominant_topic.head(10)"
   ]
  },
  {
   "cell_type": "code",
   "execution_count": null,
   "metadata": {},
   "outputs": [],
   "source": [
    "#print table\n",
    "df_dominant_topic.shape"
   ]
  },
  {
   "cell_type": "markdown",
   "metadata": {},
   "source": [
    "#### Find the most representative document for each topic\n",
    "\n",
    "By looking beyond topic keywords to the text that has contributed to a topic the most can give further insight into, and infer, that topic by reading that text."
   ]
  },
  {
   "cell_type": "code",
   "execution_count": null,
   "metadata": {},
   "outputs": [],
   "source": [
    "#group top 5 sentences under each topic\n",
    "sent_topics_sorteddf_mallet = pd.DataFrame()\n",
    "\n",
    "sent_topics_outdf_grpd = df_topic_sents_keywords.groupby('Dominant_Topic')\n",
    "\n",
    "for i, grp in sent_topics_outdf_grpd:\n",
    "    sent_topics_sorteddf_mallet = pd.concat([sent_topics_sorteddf_mallet, \n",
    "                                             grp.sort_values(['Perc_Contribution'], ascending=[0]).head(1)], \n",
    "                                            axis=0)\n",
    "\n",
    "#reset Index    \n",
    "sent_topics_sorteddf_mallet.reset_index(drop=True, inplace=True)\n",
    "\n",
    "#format\n",
    "sent_topics_sorteddf_mallet.columns = ['Topic_Num', \"Topic_Perc_Contrib\", \"Keywords\", \"Text\"]\n",
    "\n",
    "#show\n",
    "sent_topics_sorteddf_mallet.head()"
   ]
  },
  {
   "cell_type": "markdown",
   "metadata": {},
   "source": [
    "#### Topic distribution across documents\n",
    "\n",
    "This enables an understanding on volumne and distribution of topics so as to judge how widely it was discussed."
   ]
  },
  {
   "cell_type": "code",
   "execution_count": null,
   "metadata": {},
   "outputs": [],
   "source": [
    "#number of documents for each topic\n",
    "topic_counts = df_topic_sents_keywords['Dominant_Topic'].value_counts()\n",
    "\n",
    "#% documents for each topic\n",
    "topic_contribution = round(topic_counts/topic_counts.sum(), 4)\n",
    "\n",
    "# topic number and keywords\n",
    "topic_num_keywords = df_topic_sents_keywords[['Dominant_Topic', 'Topic_Keywords']]\n",
    "\n",
    "# concatenate column-wise\n",
    "df_dominant_topics = pd.concat([topic_num_keywords, topic_counts, topic_contribution], axis=1)\n",
    "\n",
    "# change column names\n",
    "df_dominant_topics.columns = ['Dominant_Topic', 'Topic_Keywords', 'Num_Documents', 'Perc_Documents']\n",
    "\n",
    "# show\n",
    "df_dominant_topics.head()"
   ]
  },
  {
   "cell_type": "code",
   "execution_count": null,
   "metadata": {},
   "outputs": [],
   "source": []
  }
 ],
 "metadata": {
  "kernelspec": {
   "display_name": "Python 3",
   "language": "python",
   "name": "python3"
  },
  "language_info": {
   "codemirror_mode": {
    "name": "ipython",
    "version": 3
   },
   "file_extension": ".py",
   "mimetype": "text/x-python",
   "name": "python",
   "nbconvert_exporter": "python",
   "pygments_lexer": "ipython3",
   "version": "3.7.4"
  }
 },
 "nbformat": 4,
 "nbformat_minor": 2
}
