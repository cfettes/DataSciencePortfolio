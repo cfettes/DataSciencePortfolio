{
 "cells": [
  {
   "cell_type": "markdown",
   "metadata": {},
   "source": [
    "# Collaborative Filtering Movie Recommendations\n",
    "\n",
    "Using Netflix-provided anonymous ratings data, the purpose here is to use collaborative filtering to predict the rating a user would give to a movie that they have not yet rated - regression problem - and so be able to generate movie recommendations - recommendation problem. The objective is to minimise the difference between predicted and actual rating, therefore the metrics of interest are RMSE and MAPE.\n",
    "\n",
    "**Data:**       \n",
    "The data can be accessed from Kaggle through the following link: https://www.kaggle.com/netflix-inc/netflix-prize-data/data\n",
    "\n",
    "The data contains the following files:\n",
    "+ combined_data_1.txt\n",
    "+ combined_data_2.txt\n",
    "+ combined_data_3.txt\n",
    "+ combined_data_4.txt\n",
    "+ movie_titles.csv\n",
    "\n",
    "The first line of each file [combined_data_1.txt, combined_data_2.txt, combined_data_3.txt, combined_data_4.txt] contains movie id, with each subsequent line in the file corresponds to a rating from a customer and date the rating was made in the following format:\n",
    "\n",
    "CustomerID,Rating,Date\n",
    "\n",
    "Points to note about the data: \n",
    "+ MovieIDs range from 1 to 17770 sequentially.\n",
    "+ CustomerIDs range from 1 to 2649429, with gaps. There are 480189 users.\n",
    "+ Ratings are on a five star (integral) scale from 1 to 5.\n",
    "+ Dates have the format YYYY-MM-DD."
   ]
  },
  {
   "cell_type": "code",
   "execution_count": 1,
   "metadata": {},
   "outputs": [],
   "source": [
    "from tqdm import tqdm\n",
    "\n",
    "from datetime import datetime\n",
    "globalstart = datetime.now()\n",
    "\n",
    "import pandas as pd\n",
    "import numpy as np\n",
    "\n",
    "import matplotlib\n",
    "matplotlib.use('nbagg')\n",
    "import matplotlib.pyplot as plt\n",
    "%matplotlib inline\n",
    "plt.rcParams.update({'figure.max_open_warning': 0})\n",
    "import seaborn as sns\n",
    "sns.set_style('whitegrid')\n",
    "\n",
    "import os\n",
    "from scipy import sparse\n",
    "from scipy.sparse import csr_matrix\n",
    "\n",
    "from sklearn.decomposition import TruncatedSVD\n",
    "from sklearn.metrics.pairwise import cosine_similarity\n",
    "import random\n",
    "\n",
    "import warnings\n",
    "warnings.filterwarnings(\"ignore\")"
   ]
  },
  {
   "cell_type": "markdown",
   "metadata": {},
   "source": [
    "## 1. Exploratory Data Analysis\n",
    "\n",
    "### Preprocessing\n",
    "\n",
    "#### Converting / Merging whole data to required format"
   ]
  },
  {
   "cell_type": "code",
   "execution_count": 2,
   "metadata": {},
   "outputs": [
    {
     "name": "stdout",
     "output_type": "stream",
     "text": [
      "Time taken : 0:00:00.000369\n"
     ]
    }
   ],
   "source": [
    "start = datetime.now()\n",
    "if not os.path.isfile('data.csv'):\n",
    "    # Create a file 'data.csv' before reading it\n",
    "    # Read all the files in netflix and store them in one big file('data.csv')\n",
    "    # We re reading from each of the four files and appendig each rating to a global file 'train.csv'\n",
    "    data = open('data.csv', mode='w')\n",
    "    \n",
    "    row = list()\n",
    "    files = ['data/combined_data_1.txt','data/combined_data_2.txt', \n",
    "           'data/combined_data_3.txt', 'data/combined_data_4.txt']\n",
    "    for file in files:\n",
    "        print(\"Reading ratings from {}...\".format(file))\n",
    "        with open(file) as f:\n",
    "            for line in f: \n",
    "                del row[:] # you don't have to do this.\n",
    "                line = line.strip()\n",
    "                if line.endswith(':'):\n",
    "                    # All below are ratings for this movie, until another movie appears.\n",
    "                    movie_id = line.replace(':', '')\n",
    "                else:\n",
    "                    row = [x for x in line.split(',')]\n",
    "                    row.insert(0, movie_id)\n",
    "                    data.write(','.join(row))\n",
    "                    data.write('\\n')\n",
    "        print(\"Done\\n\")\n",
    "    data.close()\n",
    "print('Time taken :', datetime.now() - start)"
   ]
  },
  {
   "cell_type": "code",
   "execution_count": 3,
   "metadata": {},
   "outputs": [
    {
     "name": "stdout",
     "output_type": "stream",
     "text": [
      "creating the dataframe from data.csv file..\n",
      "Done\n",
      "\n",
      "Sorting the dataframe by date..\n",
      "Done\n"
     ]
    }
   ],
   "source": [
    "print(\"creating the dataframe from data.csv file..\")\n",
    "df = pd.read_csv('data.csv', sep = ',', names = ['movie', 'user','rating','date'])\n",
    "df.date = pd.to_datetime(df.date)\n",
    "print('Done\\n')\n",
    "\n",
    "# we are arranging the ratings according to time.\n",
    "print('Sorting the dataframe by date..')\n",
    "df.sort_values(by = 'date', inplace = True)\n",
    "print('Done')"
   ]
  },
  {
   "cell_type": "code",
   "execution_count": 4,
   "metadata": {},
   "outputs": [
    {
     "data": {
      "text/html": [
       "<div>\n",
       "<style scoped>\n",
       "    .dataframe tbody tr th:only-of-type {\n",
       "        vertical-align: middle;\n",
       "    }\n",
       "\n",
       "    .dataframe tbody tr th {\n",
       "        vertical-align: top;\n",
       "    }\n",
       "\n",
       "    .dataframe thead th {\n",
       "        text-align: right;\n",
       "    }\n",
       "</style>\n",
       "<table border=\"1\" class=\"dataframe\">\n",
       "  <thead>\n",
       "    <tr style=\"text-align: right;\">\n",
       "      <th></th>\n",
       "      <th>movie</th>\n",
       "      <th>user</th>\n",
       "      <th>rating</th>\n",
       "      <th>date</th>\n",
       "    </tr>\n",
       "  </thead>\n",
       "  <tbody>\n",
       "    <tr>\n",
       "      <td>56431994</td>\n",
       "      <td>10341</td>\n",
       "      <td>510180</td>\n",
       "      <td>4</td>\n",
       "      <td>1999-11-11</td>\n",
       "    </tr>\n",
       "    <tr>\n",
       "      <td>9056171</td>\n",
       "      <td>1798</td>\n",
       "      <td>510180</td>\n",
       "      <td>5</td>\n",
       "      <td>1999-11-11</td>\n",
       "    </tr>\n",
       "    <tr>\n",
       "      <td>58698779</td>\n",
       "      <td>10774</td>\n",
       "      <td>510180</td>\n",
       "      <td>3</td>\n",
       "      <td>1999-11-11</td>\n",
       "    </tr>\n",
       "    <tr>\n",
       "      <td>48101611</td>\n",
       "      <td>8651</td>\n",
       "      <td>510180</td>\n",
       "      <td>2</td>\n",
       "      <td>1999-11-11</td>\n",
       "    </tr>\n",
       "    <tr>\n",
       "      <td>81893208</td>\n",
       "      <td>14660</td>\n",
       "      <td>510180</td>\n",
       "      <td>2</td>\n",
       "      <td>1999-11-11</td>\n",
       "    </tr>\n",
       "  </tbody>\n",
       "</table>\n",
       "</div>"
      ],
      "text/plain": [
       "          movie    user  rating       date\n",
       "56431994  10341  510180       4 1999-11-11\n",
       "9056171    1798  510180       5 1999-11-11\n",
       "58698779  10774  510180       3 1999-11-11\n",
       "48101611   8651  510180       2 1999-11-11\n",
       "81893208  14660  510180       2 1999-11-11"
      ]
     },
     "execution_count": 4,
     "metadata": {},
     "output_type": "execute_result"
    }
   ],
   "source": [
    "df.head()"
   ]
  },
  {
   "cell_type": "code",
   "execution_count": 5,
   "metadata": {},
   "outputs": [
    {
     "data": {
      "text/plain": [
       "count    1.004805e+08\n",
       "mean     3.604290e+00\n",
       "std      1.085219e+00\n",
       "min      1.000000e+00\n",
       "25%      3.000000e+00\n",
       "50%      4.000000e+00\n",
       "75%      4.000000e+00\n",
       "max      5.000000e+00\n",
       "Name: rating, dtype: float64"
      ]
     },
     "execution_count": 5,
     "metadata": {},
     "output_type": "execute_result"
    }
   ],
   "source": [
    "df.describe()['rating']"
   ]
  },
  {
   "cell_type": "markdown",
   "metadata": {},
   "source": [
    "#### NaN values and duplicates"
   ]
  },
  {
   "cell_type": "code",
   "execution_count": 6,
   "metadata": {},
   "outputs": [
    {
     "name": "stdout",
     "output_type": "stream",
     "text": [
      "Number of Nan values in df:  0\n"
     ]
    }
   ],
   "source": [
    "#checking for NaN values\n",
    "print(\"Number of Nan values in df: \", sum(df.isnull().any()))"
   ]
  },
  {
   "cell_type": "code",
   "execution_count": 7,
   "metadata": {},
   "outputs": [
    {
     "name": "stdout",
     "output_type": "stream",
     "text": [
      "There are 0 duplicate rating entries in the data\n"
     ]
    }
   ],
   "source": [
    "#removing duplicates\n",
    "dup_bool = df.duplicated(['movie','user','rating'])\n",
    "dups = sum(dup_bool) \n",
    "print(\"There are {} duplicate rating entries in the data\".format(dups))"
   ]
  },
  {
   "cell_type": "markdown",
   "metadata": {},
   "source": [
    "### Data statistics"
   ]
  },
  {
   "cell_type": "code",
   "execution_count": 8,
   "metadata": {},
   "outputs": [
    {
     "name": "stdout",
     "output_type": "stream",
     "text": [
      "Data \n",
      "--------------------------------------------------\n",
      "\n",
      "Total number of ratings: 100480507\n",
      "Total number of users: 480189\n",
      "Total number of movies: 17770\n"
     ]
    }
   ],
   "source": [
    "#stats\n",
    "print(\"Data \")\n",
    "print(\"-\"*50)\n",
    "print(\"\\nTotal number of ratings:\", df.shape[0])\n",
    "print(\"Total number of users:\", len(np.unique(df.user)))\n",
    "print(\"Total number of movies:\", len(np.unique(df.movie)))"
   ]
  },
  {
   "cell_type": "markdown",
   "metadata": {},
   "source": [
    "### Train:Test split and resulting dataset statistics"
   ]
  },
  {
   "cell_type": "code",
   "execution_count": 9,
   "metadata": {},
   "outputs": [],
   "source": [
    "#test:train split (20:80)\n",
    "if not os.path.isfile('train.csv'):\n",
    "    # create df and store in disk\n",
    "    df.iloc[:int(df.shape[0] * 0.80)].to_csv(\"train.csv\", index=False)\n",
    "\n",
    "if not os.path.isfile('test.csv'):\n",
    "    df.iloc[int(df.shape[0] * 0.80):].to_csv(\"test.csv\", index=False)\n",
    "\n",
    "train_df = pd.read_csv(\"train.csv\", parse_dates = ['date'])\n",
    "test_df = pd.read_csv(\"test.csv\")"
   ]
  },
  {
   "cell_type": "code",
   "execution_count": 10,
   "metadata": {},
   "outputs": [
    {
     "name": "stdout",
     "output_type": "stream",
     "text": [
      "Training data \n",
      "--------------------------------------------------\n",
      "\n",
      "Total number of ratings in the train set: 80384405\n",
      "Total number of users in the train set: 405041\n",
      "Total number of movies in the train set: 17424\n"
     ]
    }
   ],
   "source": [
    "#train data stats\n",
    "print(\"Training data \")\n",
    "print(\"-\"*50)\n",
    "print(\"\\nTotal number of ratings in the train set:\", train_df.shape[0])\n",
    "print(\"Total number of users in the train set:\", len(np.unique(train_df.user)))\n",
    "print(\"Total number of movies in the train set:\", len(np.unique(train_df.movie)))"
   ]
  },
  {
   "cell_type": "code",
   "execution_count": 11,
   "metadata": {},
   "outputs": [
    {
     "name": "stdout",
     "output_type": "stream",
     "text": [
      "Test data \n",
      "--------------------------------------------------\n",
      "\n",
      "Total number of ratings in the test set: 20096102\n",
      "Total number of users in the test set: 349312\n",
      "Total number of movies in the test set: 17757\n"
     ]
    }
   ],
   "source": [
    "#test set stats\n",
    "print(\"Test data \")\n",
    "print(\"-\"*50)\n",
    "print(\"\\nTotal number of ratings in the test set:\", test_df.shape[0])\n",
    "print(\"Total number of users in the test set:\", len(np.unique(test_df.user)))\n",
    "print(\"Total number of movies in the test set:\", len(np.unique(test_df.movie)))"
   ]
  },
  {
   "cell_type": "markdown",
   "metadata": {},
   "source": [
    "### Train set EDA"
   ]
  },
  {
   "cell_type": "code",
   "execution_count": 12,
   "metadata": {},
   "outputs": [],
   "source": [
    "def human(num, units = 'M'):\n",
    "    units = units.lower()\n",
    "    num = float(num)\n",
    "    if units == 'k':\n",
    "        return str(num/10**3) + \" K\"\n",
    "    elif units == 'm':\n",
    "        return str(num/10**6) + \" M\"\n",
    "    elif units == 'b':\n",
    "        return str(num/10**9) +  \" B\""
   ]
  },
  {
   "cell_type": "code",
   "execution_count": 13,
   "metadata": {},
   "outputs": [
    {
     "data": {
      "image/png": "[encoded data removed]",
      "text/plain": [
       "<Figure size 432x288 with 1 Axes>"
      ]
     },
     "metadata": {},
     "output_type": "display_data"
    }
   ],
   "source": [
    "#ratings distribution \n",
    "fig, ax = plt.subplots()\n",
    "plt.title('Distribution of training dataset ratings', fontsize = 15)\n",
    "sns.countplot(train_df.rating)\n",
    "ax.set_yticklabels([human(item, 'M') for item in ax.get_yticks()])\n",
    "ax.set_ylabel('Number of ratings (millions)')\n",
    "plt.show()"
   ]
  },
  {
   "cell_type": "code",
   "execution_count": 14,
   "metadata": {},
   "outputs": [
    {
     "data": {
      "text/html": [
       "<div>\n",
       "<style scoped>\n",
       "    .dataframe tbody tr th:only-of-type {\n",
       "        vertical-align: middle;\n",
       "    }\n",
       "\n",
       "    .dataframe tbody tr th {\n",
       "        vertical-align: top;\n",
       "    }\n",
       "\n",
       "    .dataframe thead th {\n",
       "        text-align: right;\n",
       "    }\n",
       "</style>\n",
       "<table border=\"1\" class=\"dataframe\">\n",
       "  <thead>\n",
       "    <tr style=\"text-align: right;\">\n",
       "      <th></th>\n",
       "      <th>movie</th>\n",
       "      <th>user</th>\n",
       "      <th>rating</th>\n",
       "      <th>date</th>\n",
       "      <th>day_of_week</th>\n",
       "    </tr>\n",
       "  </thead>\n",
       "  <tbody>\n",
       "    <tr>\n",
       "      <td>80384400</td>\n",
       "      <td>12074</td>\n",
       "      <td>2033618</td>\n",
       "      <td>4</td>\n",
       "      <td>2005-08-08</td>\n",
       "      <td>Monday</td>\n",
       "    </tr>\n",
       "    <tr>\n",
       "      <td>80384401</td>\n",
       "      <td>862</td>\n",
       "      <td>1797061</td>\n",
       "      <td>3</td>\n",
       "      <td>2005-08-08</td>\n",
       "      <td>Monday</td>\n",
       "    </tr>\n",
       "    <tr>\n",
       "      <td>80384402</td>\n",
       "      <td>10986</td>\n",
       "      <td>1498715</td>\n",
       "      <td>5</td>\n",
       "      <td>2005-08-08</td>\n",
       "      <td>Monday</td>\n",
       "    </tr>\n",
       "    <tr>\n",
       "      <td>80384403</td>\n",
       "      <td>14861</td>\n",
       "      <td>500016</td>\n",
       "      <td>4</td>\n",
       "      <td>2005-08-08</td>\n",
       "      <td>Monday</td>\n",
       "    </tr>\n",
       "    <tr>\n",
       "      <td>80384404</td>\n",
       "      <td>5926</td>\n",
       "      <td>1044015</td>\n",
       "      <td>5</td>\n",
       "      <td>2005-08-08</td>\n",
       "      <td>Monday</td>\n",
       "    </tr>\n",
       "  </tbody>\n",
       "</table>\n",
       "</div>"
      ],
      "text/plain": [
       "          movie     user  rating       date day_of_week\n",
       "80384400  12074  2033618       4 2005-08-08      Monday\n",
       "80384401    862  1797061       3 2005-08-08      Monday\n",
       "80384402  10986  1498715       5 2005-08-08      Monday\n",
       "80384403  14861   500016       4 2005-08-08      Monday\n",
       "80384404   5926  1044015       5 2005-08-08      Monday"
      ]
     },
     "execution_count": 14,
     "metadata": {},
     "output_type": "execute_result"
    }
   ],
   "source": [
    "#add new day-of-week column\n",
    "\n",
    "#skip warning ''SettingWithCopyWarning''\n",
    "pd.options.mode.chained_assignment = None  # default='warn'\n",
    "\n",
    "train_df['day_of_week'] = train_df.date.dt.weekday_name\n",
    "train_df.tail()"
   ]
  },
  {
   "cell_type": "markdown",
   "metadata": {},
   "source": [
    "#### Ratings per month"
   ]
  },
  {
   "cell_type": "code",
   "execution_count": 15,
   "metadata": {},
   "outputs": [
    {
     "data": {
      "image/png": "[encoded data removed]",
      "text/plain": [
       "<Figure size 432x288 with 1 Axes>"
      ]
     },
     "metadata": {},
     "output_type": "display_data"
    }
   ],
   "source": [
    "ax = train_df.resample('m', on = 'date')['rating'].count().plot()\n",
    "ax.set_title('Number of ratings per month (training data)')\n",
    "plt.xlabel('Month')\n",
    "plt.ylabel('Number of ratings (per month)')\n",
    "ax.set_yticklabels([human(item, 'M') for item in ax.get_yticks()])\n",
    "plt.show()"
   ]
  },
  {
   "cell_type": "markdown",
   "metadata": {},
   "source": [
    "There is a significant and general increase in the number of ratings per month over time."
   ]
  },
  {
   "cell_type": "markdown",
   "metadata": {},
   "source": [
    "#### Movies rated per user"
   ]
  },
  {
   "cell_type": "code",
   "execution_count": 16,
   "metadata": {},
   "outputs": [
    {
     "data": {
      "text/plain": [
       "user\n",
       "305344     17112\n",
       "2439493    15896\n",
       "387418     15402\n",
       "1639792     9767\n",
       "1461435     9447\n",
       "Name: rating, dtype: int64"
      ]
     },
     "execution_count": 16,
     "metadata": {},
     "output_type": "execute_result"
    }
   ],
   "source": [
    "#analysis on ratings by user \n",
    "no_of_rated_movies_per_user = train_df.groupby(by = 'user')['rating'].count().sort_values(ascending = False)\n",
    "no_of_rated_movies_per_user.head()"
   ]
  },
  {
   "cell_type": "code",
   "execution_count": 17,
   "metadata": {},
   "outputs": [
    {
     "data": {
      "image/png": "[encoded data removed]",
      "text/plain": [
       "<Figure size 576x288 with 2 Axes>"
      ]
     },
     "metadata": {},
     "output_type": "display_data"
    }
   ],
   "source": [
    "fig = plt.figure(figsize=plt.figaspect(.5))\n",
    "\n",
    "ax1 = plt.subplot(121)\n",
    "sns.kdeplot(no_of_rated_movies_per_user, shade = True, ax = ax1)\n",
    "plt.xlabel('Number of ratings by user')\n",
    "plt.title(\"PDF\")\n",
    "\n",
    "ax2 = plt.subplot(122)\n",
    "sns.kdeplot(no_of_rated_movies_per_user, shade = True, cumulative = True, ax = ax2)\n",
    "plt.xlabel('Number of ratings by user')\n",
    "plt.title('CDF')\n",
    "plt.show()"
   ]
  },
  {
   "cell_type": "code",
   "execution_count": 18,
   "metadata": {},
   "outputs": [
    {
     "data": {
      "text/plain": [
       "count    405041.000000\n",
       "mean        198.459921\n",
       "std         290.793238\n",
       "min           1.000000\n",
       "25%          34.000000\n",
       "50%          89.000000\n",
       "75%         245.000000\n",
       "max       17112.000000\n",
       "Name: rating, dtype: float64"
      ]
     },
     "execution_count": 18,
     "metadata": {},
     "output_type": "execute_result"
    }
   ],
   "source": [
    "no_of_rated_movies_per_user.describe()"
   ]
  },
  {
   "cell_type": "markdown",
   "metadata": {},
   "source": [
    "These statistics and plots show a much larger gap between the 75th and 50th percentile compared to the 25th and 50th, and an even larger gap between 75th percentile and 100%. This suggests a negative skew - a small number of users provide a large number of ratings. This will be analysed further."
   ]
  },
  {
   "cell_type": "code",
   "execution_count": 19,
   "metadata": {},
   "outputs": [],
   "source": [
    "quantiles = no_of_rated_movies_per_user.quantile(np.arange(0, 1.01, 0.01), interpolation = 'higher')"
   ]
  },
  {
   "cell_type": "code",
   "execution_count": 20,
   "metadata": {},
   "outputs": [
    {
     "data": {
      "image/png": "[encoded data removed]",
      "text/plain": [
       "<Figure size 432x288 with 1 Axes>"
      ]
     },
     "metadata": {},
     "output_type": "display_data"
    }
   ],
   "source": [
    "plt.title(\"Quantiles and their Values\")\n",
    "quantiles.plot()\n",
    "\n",
    "#quantiles with 0.05 difference\n",
    "plt.scatter(x = quantiles.index[::5], y = quantiles.values[::5], c = 'orange', label = \"quantiles with 0.05 intervals\")\n",
    "\n",
    "#quantiles with 0.25 difference\n",
    "plt.scatter(x = quantiles.index[::25], y = quantiles.values[::25], c = 'm', label = \"quantiles with 0.25 intervals\")\n",
    "plt.ylabel('Number of ratings by user')\n",
    "plt.xlabel('Value at the quantile')\n",
    "plt.legend(loc = 'best')\n",
    "\n",
    "#annotate 25th, 50th, 75th and 100th percentile values\n",
    "for x,y in zip(quantiles.index[::25], quantiles[::25]):\n",
    "    plt.annotate(s = \"({} , {})\".format(x,y), xy = (x,y), xytext = (x-0.05, y+500), fontweight = 'bold')\n",
    "\n",
    "plt.show()"
   ]
  },
  {
   "cell_type": "code",
   "execution_count": 21,
   "metadata": {},
   "outputs": [
    {
     "data": {
      "text/plain": [
       "0.00        1\n",
       "0.05        7\n",
       "0.10       15\n",
       "0.15       21\n",
       "0.20       27\n",
       "0.25       34\n",
       "0.30       41\n",
       "0.35       50\n",
       "0.40       60\n",
       "0.45       73\n",
       "0.50       89\n",
       "0.55      109\n",
       "0.60      133\n",
       "0.65      163\n",
       "0.70      199\n",
       "0.75      245\n",
       "0.80      307\n",
       "0.85      392\n",
       "0.90      520\n",
       "0.95      749\n",
       "1.00    17112\n",
       "Name: rating, dtype: int64"
      ]
     },
     "execution_count": 21,
     "metadata": {},
     "output_type": "execute_result"
    }
   ],
   "source": [
    "quantiles[::5]"
   ]
  },
  {
   "cell_type": "code",
   "execution_count": 22,
   "metadata": {},
   "outputs": [
    {
     "name": "stdout",
     "output_type": "stream",
     "text": [
      "\n",
      " Number of ratings at last 5th percentile: 20305\n",
      "\n"
     ]
    }
   ],
   "source": [
    "#number of ratings at the last 5% of all ratings\n",
    "print('\\n Number of ratings at last 5th percentile: {}\\n'.format(sum(no_of_rated_movies_per_user >= 749)) )"
   ]
  },
  {
   "cell_type": "markdown",
   "metadata": {},
   "source": [
    "#### Ratings per movie"
   ]
  },
  {
   "cell_type": "code",
   "execution_count": 23,
   "metadata": {},
   "outputs": [
    {
     "data": {
      "image/png": "[encoded data removed]",
      "text/plain": [
       "<Figure size 576x288 with 1 Axes>"
      ]
     },
     "metadata": {},
     "output_type": "display_data"
    }
   ],
   "source": [
    "#analysis of ratings of a movie given by a user \n",
    "no_of_ratings_per_movie = train_df.groupby(by = 'movie')['rating'].count().sort_values(ascending = False)\n",
    "\n",
    "fig = plt.figure(figsize = plt.figaspect(.5))\n",
    "ax = plt.gca()\n",
    "plt.plot(no_of_ratings_per_movie.values)\n",
    "plt.title('Number of ratings per movie')\n",
    "plt.xlabel('Movie')\n",
    "plt.ylabel('Number of users who rated a movie')\n",
    "ax.set_xticklabels([])\n",
    "\n",
    "plt.show()"
   ]
  },
  {
   "cell_type": "markdown",
   "metadata": {},
   "source": [
    "As for number of ratings per user, the number of users who rated a movie is very negatively skewed - most movies (around 90%) only have a small number of ratings, whereas a small number of movies (very popular) have received a very large number of ratings. "
   ]
  },
  {
   "cell_type": "markdown",
   "metadata": {},
   "source": [
    "#### Day of week"
   ]
  },
  {
   "cell_type": "code",
   "execution_count": 24,
   "metadata": {},
   "outputs": [
    {
     "data": {
      "image/png": "[encoded data removed]",
      "text/plain": [
       "<Figure size 432x288 with 1 Axes>"
      ]
     },
     "metadata": {},
     "output_type": "display_data"
    }
   ],
   "source": [
    "#number of ratings on each day of the week\n",
    "fig, ax = plt.subplots()\n",
    "sns.countplot(x = 'day_of_week', data = train_df, ax = ax)\n",
    "plt.title('Number of ratings on each day')\n",
    "plt.ylabel('Total number of ratings')\n",
    "plt.xlabel('')\n",
    "ax.set_yticklabels([human(item, 'M') for item in ax.get_yticks()])\n",
    "plt.show()"
   ]
  },
  {
   "cell_type": "code",
   "execution_count": 25,
   "metadata": {},
   "outputs": [
    {
     "data": {
      "image/png": "[encoded data removed]",
      "text/plain": [
       "<Figure size 640x288 with 1 Axes>"
      ]
     },
     "metadata": {},
     "output_type": "display_data"
    },
    {
     "name": "stdout",
     "output_type": "stream",
     "text": [
      "0:00:18.135134\n"
     ]
    }
   ],
   "source": [
    "start = datetime.now()\n",
    "fig = plt.figure(figsize = plt.figaspect(.45))\n",
    "sns.boxplot(y = 'rating', x = 'day_of_week', data = train_df)\n",
    "plt.show()\n",
    "print(datetime.now() - start)"
   ]
  },
  {
   "cell_type": "code",
   "execution_count": 26,
   "metadata": {},
   "outputs": [
    {
     "name": "stdout",
     "output_type": "stream",
     "text": [
      " Average ratings\n",
      "------------------------------\n",
      "day_of_week\n",
      "Friday       3.585274\n",
      "Monday       3.577250\n",
      "Saturday     3.591791\n",
      "Sunday       3.594144\n",
      "Thursday     3.582463\n",
      "Tuesday      3.574438\n",
      "Wednesday    3.583751\n",
      "Name: rating, dtype: float64\n",
      "\n",
      "\n"
     ]
    }
   ],
   "source": [
    "avg_week_df = train_df.groupby(by = ['day_of_week'])['rating'].mean()\n",
    "print(\" Average ratings\")\n",
    "print(\"-\"*30)\n",
    "print(avg_week_df)\n",
    "print(\"\\n\")"
   ]
  },
  {
   "cell_type": "markdown",
   "metadata": {},
   "source": [
    "Monday, Tuesday and Wednesday appear to be the most popular days for rating movies, with Saturday and Sunday being the least.   \n",
    "\n",
    "The distribution of ratings des not appear to be affected by day of the week - rating distribution is very consistent (with a mean of around 3.5 for all days)."
   ]
  },
  {
   "cell_type": "markdown",
   "metadata": {},
   "source": [
    "## Creating a sparse matrix for the data (train and test)\n",
    "\n",
    "The creation of a sparse matrix means that every user-movie combination is represented. This is because the model needs to be able to predict the rating a user would give to a movie that they have not yet rated."
   ]
  },
  {
   "cell_type": "code",
   "execution_count": 27,
   "metadata": {},
   "outputs": [
    {
     "name": "stdout",
     "output_type": "stream",
     "text": [
      "Present in pwd, retrieving from disk...\n",
      "DONE\n",
      "0:00:03.093175\n"
     ]
    }
   ],
   "source": [
    "#create sparse matrix from train df\n",
    "start = datetime.now()\n",
    "if os.path.isfile('train_sparse_matrix.npz'):\n",
    "    print(\"Present in pwd, retrieving from disk...\")\n",
    "    train_sparse_matrix = sparse.load_npz('train_sparse_matrix.npz')\n",
    "    print(\"DONE\")\n",
    "else: \n",
    "    print(\"Creating sparse_matrix from the dataframe...\")\n",
    "    # create sparse_matrix and store it for after usage.\n",
    "    # csr_matrix(data_values, (row_index, col_index), shape_of_matrix)\n",
    "    # MATRIX[row, col] = data\n",
    "    train_sparse_matrix = sparse.csr_matrix((train_df.rating.values, (train_df.user.values,\n",
    "                                               train_df.movie.values)),)\n",
    "    \n",
    "    print('Done. Shape is: (user, movie) : ',train_sparse_matrix.shape)\n",
    "    print('Saving into disk for future usage...')\n",
    "    sparse.save_npz(\"train_sparse_matrix.npz\", train_sparse_matrix)\n",
    "    print('DONE\\n')\n",
    "print(datetime.now() - start)"
   ]
  },
  {
   "cell_type": "code",
   "execution_count": 28,
   "metadata": {},
   "outputs": [
    {
     "name": "stdout",
     "output_type": "stream",
     "text": [
      "Sparsity of train matrix : 99.8292709259195 % \n"
     ]
    }
   ],
   "source": [
    "#find sparsity of train matrix\n",
    "us, mv = train_sparse_matrix.shape\n",
    "elem = train_sparse_matrix.count_nonzero()\n",
    "\n",
    "print(\"Sparsity of train matrix : {} % \".format((1 - (elem / (us * mv))) * 100))"
   ]
  },
  {
   "cell_type": "code",
   "execution_count": 29,
   "metadata": {},
   "outputs": [
    {
     "name": "stdout",
     "output_type": "stream",
     "text": [
      "Present in pwd, retrieving it from disk...\n",
      "DONE\n",
      "0:00:00.760024\n"
     ]
    }
   ],
   "source": [
    "#create sparse matrix from test df\n",
    "start = datetime.now()\n",
    "if os.path.isfile('test_sparse_matrix.npz'):\n",
    "    print(\"Present in pwd, retrieving it from disk...\")\n",
    "    # just get it from the disk instead of computing it\n",
    "    test_sparse_matrix = sparse.load_npz('test_sparse_matrix.npz')\n",
    "    print(\"DONE\")\n",
    "else: \n",
    "    print(\"Creating sparse_matrix from the dataframe...\")\n",
    "    # create sparse_matrix and store it for after usage.\n",
    "    # csr_matrix(data_values, (row_index, col_index), shape_of_matrix)\n",
    "    # MATRIX[row, col] = data\n",
    "    test_sparse_matrix = sparse.csr_matrix((test_df.rating.values, (test_df.user.values,\n",
    "                                               test_df.movie.values)))\n",
    "    \n",
    "    print('Done. It\\'s shape is : (user, movie) : ',test_sparse_matrix.shape)\n",
    "    print('Saving into disk for future usage...')\n",
    "    # save it into disk\n",
    "    sparse.save_npz(\"test_sparse_matrix.npz\", test_sparse_matrix)\n",
    "    print('DONE\\n')\n",
    "    \n",
    "print(datetime.now() - start)"
   ]
  },
  {
   "cell_type": "code",
   "execution_count": 30,
   "metadata": {},
   "outputs": [
    {
     "name": "stdout",
     "output_type": "stream",
     "text": [
      "Sparsity of test matrix: 99.95731772988694 % \n"
     ]
    }
   ],
   "source": [
    "#sparsity of test matrix\n",
    "us,mv = test_sparse_matrix.shape\n",
    "elem = test_sparse_matrix.count_nonzero()\n",
    "\n",
    "print(\"Sparsity of test matrix: {} % \".format((1 - (elem / (us * mv))) * 100))"
   ]
  },
  {
   "cell_type": "markdown",
   "metadata": {},
   "source": [
    "### Averages of movie ratings, rating per user and rating per movie"
   ]
  },
  {
   "cell_type": "code",
   "execution_count": 31,
   "metadata": {},
   "outputs": [],
   "source": [
    "#function to calculate user averages and create dictionary from these\n",
    "def get_average_ratings(sparse_matrix, of_users): \n",
    "    # average ratings of user\n",
    "    ax = 1 if of_users else 0 # 1 - User axes, 0 - Movie axes\n",
    "\n",
    "    # .A1 is for converting Column_Matrix to 1D array \n",
    "    sum_of_ratings = sparse_matrix.sum(axis = ax).A1\n",
    "    \n",
    "    # Boolean matrix of ratings (if a user rated that movie or not)\n",
    "    is_rated = sparse_matrix != 0\n",
    "    \n",
    "    # number of ratings for each user or movie\n",
    "    no_of_ratings = is_rated.sum(axis = ax).A1\n",
    "    \n",
    "    # max_user and max_movie ids in sparse matrix \n",
    "    u, m = sparse_matrix.shape\n",
    "    \n",
    "    # create dictonary of users and their average ratings\n",
    "    average_ratings = { i : sum_of_ratings[i]/no_of_ratings[i]\n",
    "                                 for i in range(u if of_users else m) \n",
    "                                    if no_of_ratings[i] != 0}\n",
    "\n",
    "    # return dictionary of average ratings\n",
    "    return average_ratings"
   ]
  },
  {
   "cell_type": "code",
   "execution_count": 32,
   "metadata": {},
   "outputs": [
    {
     "data": {
      "text/plain": [
       "{'global': 3.582890686321557}"
      ]
     },
     "execution_count": 32,
     "metadata": {},
     "output_type": "execute_result"
    }
   ],
   "source": [
    "#global average of all movie ratings \n",
    "train_averages = dict()\n",
    "\n",
    "# get global average of ratings in train set\n",
    "train_global_average = train_sparse_matrix.sum() / train_sparse_matrix.count_nonzero()\n",
    "train_averages['global'] = train_global_average\n",
    "train_averages"
   ]
  },
  {
   "cell_type": "code",
   "execution_count": 33,
   "metadata": {},
   "outputs": [
    {
     "name": "stdout",
     "output_type": "stream",
     "text": [
      "\n",
      "Average rating of user with ID 1593: 3.9583333333333335\n"
     ]
    }
   ],
   "source": [
    "#average rating per user\n",
    "train_averages['user'] = get_average_ratings(train_sparse_matrix, of_users = True)\n",
    "print('\\nAverage rating of user with ID 1593:', train_averages['user'][1593])"
   ]
  },
  {
   "cell_type": "code",
   "execution_count": 34,
   "metadata": {},
   "outputs": [
    {
     "name": "stdout",
     "output_type": "stream",
     "text": [
      "\n",
      "Average rating of movie with ID 1: 3.7189873417721517\n"
     ]
    }
   ],
   "source": [
    "#average rating per movie\n",
    "train_averages['movie'] = get_average_ratings(train_sparse_matrix, of_users = False)\n",
    "print('\\nAverage rating of movie with ID 1:', train_averages['movie'][1])"
   ]
  },
  {
   "cell_type": "code",
   "execution_count": 35,
   "metadata": {},
   "outputs": [
    {
     "data": {
      "image/png": "[encoded data removed]",
      "text/plain": [
       "<Figure size 576x288 with 2 Axes>"
      ]
     },
     "metadata": {},
     "output_type": "display_data"
    }
   ],
   "source": [
    "#PDF's and CDF's of average ratings of users and movies in train set\n",
    "# pdfs for average rating per user and movie\n",
    "fig, (ax1, ax2) = plt.subplots(nrows = 1, ncols = 2, figsize = plt.figaspect(.5))\n",
    "fig.suptitle('Average rating per user and per movie', fontsize=15)\n",
    "\n",
    "ax1.set_title('Users-Average-Ratings')\n",
    "# get list of average user ratings from dictionary\n",
    "user_averages = [rat for rat in train_averages['user'].values()]\n",
    "sns.distplot(user_averages, ax = ax1, hist = False, \n",
    "             kde_kws = dict(cumulative = True), label = 'Cdf')\n",
    "sns.distplot(user_averages, ax = ax1, hist = False,label = 'Pdf')\n",
    "\n",
    "ax2.set_title('Movies-Avg-Rating')\n",
    "# get list of movie_average_ratings from dictionary\n",
    "movie_averages = [rat for rat in train_averages[\"movie\"].values()]\n",
    "sns.distplot(movie_averages, ax = ax2, hist = False, \n",
    "             kde_kws = dict(cumulative = True), label = 'Cdf')\n",
    "sns.distplot(movie_averages, ax = ax2, hist = False, label = 'Pdf')\n",
    "\n",
    "plt.show()"
   ]
  },
  {
   "cell_type": "markdown",
   "metadata": {},
   "source": [
    "### Cold start problem\n",
    "\n",
    "With recommendation engines, “cold start” means that circumstances are not yet optimal for the engine to provide the best possible results. Recommendation engines that run on collaborative filtering recommend each item (movie) based on user actions. The more user actions an item has, the easier it is to tell which user would be interested in it and what other items are similar to it. As time progresses, the system will be able to give more and more accurate recommendations.\n",
    "\n",
    "This, however, brings a major contradiction and difficulty to recommendation engines. Even though the newest items are actually the most relevant ones, a recommendation system has far less confidence in recommending them to your users than it has with older items, but it’s not a good idea to let older items dominate the recommendation process.\n",
    "\n",
    "There are two distinct categories of cold start: product cold start (here, movies) and user cold starts.\n",
    "\n",
    "#### User cold start problem   \n",
    "\n",
    "The user cold start means that a recommendation engine meets a new visitor for the first time. As there is no user history about them, the system doesn’t know the personal preferences of the user. Here, we can identify the number of new users."
   ]
  },
  {
   "cell_type": "code",
   "execution_count": 36,
   "metadata": {},
   "outputs": [
    {
     "name": "stdout",
     "output_type": "stream",
     "text": [
      "\n",
      "Total number of users : 480189\n",
      "\n",
      "Number of users in the train data: 405041\n",
      "\n",
      "Number of users that are not in the train data: 75148(15.65 %) \n",
      " \n"
     ]
    }
   ],
   "source": [
    "total_users = len(np.unique(df.user))\n",
    "users_train = len(train_averages['user'])\n",
    "new_users = total_users - users_train\n",
    "\n",
    "print('\\nTotal number of users :', total_users)\n",
    "print('\\nNumber of users in the train data:', users_train)\n",
    "print(\"\\nNumber of users that are not in the train data: {}({} %) \\n \".format(new_users, np.round((new_users / total_users) * 100, 2)))"
   ]
  },
  {
   "cell_type": "markdown",
   "metadata": {},
   "source": [
    "15.65% of users (75,148) in the full data set do not appear in the train set, therefore are new users in the test set. These will need to be dealt with.\n",
    "\n",
    "#### Movie cold start problem"
   ]
  },
  {
   "cell_type": "code",
   "execution_count": 37,
   "metadata": {},
   "outputs": [
    {
     "name": "stdout",
     "output_type": "stream",
     "text": [
      "\n",
      "Total number of movies: 17770\n",
      "\n",
      "Number of movies in train data: 17424\n",
      "\n",
      "Number of movies that are not in the train data: 346(1.95 %) \n",
      " \n"
     ]
    }
   ],
   "source": [
    "total_movies = len(np.unique(df.movie))\n",
    "movies_train = len(train_averages['movie'])\n",
    "new_movies = total_movies - movies_train\n",
    "\n",
    "print('\\nTotal number of movies:', total_movies)\n",
    "print('\\nNumber of movies in train data:', movies_train)\n",
    "print(\"\\nNumber of movies that are not in the train data: {}({} %) \\n \".format(new_movies,\n",
    "                                                                        np.round((new_movies / total_movies) * 100, 2)))"
   ]
  },
  {
   "cell_type": "markdown",
   "metadata": {},
   "source": [
    "Only 1.95% (346) of the movies are new in the test set. These will also need to be dealt with.\n",
    "\n",
    "For both the cold start user and movie problems, cosine similarity function will be used to compute similarity, both user-user and movie-movie. The top 5 similar movies and top 5 similar users will be used."
   ]
  },
  {
   "cell_type": "markdown",
   "metadata": {},
   "source": [
    "## 2. Preparing the data for modelling\n",
    "\n",
    "### 2.1 Taking a sample of the total dataset\n",
    "\n",
    "Due to it being computationally expensive to featurise and train a model on the entire dataset, a sample will be taken, featurised and model trained on it.\n",
    "\n",
    "The model trained using the sampled data will not perform as well as a model trained on the entire dataset would as there are fewer users and their reactions on which to base predictions and resulting recommendations."
   ]
  },
  {
   "cell_type": "code",
   "execution_count": 38,
   "metadata": {},
   "outputs": [],
   "source": [
    "#function to extract a sample from the full dataset\n",
    "def get_sample_sparse_matrix(sparse_matrix, no_users, no_movies, path, verbose = True):\n",
    "\n",
    "    # get (row, col) and (rating) tuple from sparse_matrix\n",
    "    row_ind, col_ind, ratings = sparse.find(sparse_matrix)\n",
    "    users = np.unique(row_ind)\n",
    "    movies = np.unique(col_ind)\n",
    "\n",
    "    print(\"Original Matrix : (users, movies) -- ({} {})\".format(len(users), len(movies)))\n",
    "    print(\"Original Matrix : Ratings -- {}\\n\".format(len(ratings)))\n",
    "\n",
    "    # make sure to get same sample everytime we run this programme and select without replacement\n",
    "    np.random.seed(15)\n",
    "    sample_users = np.random.choice(users, no_users, replace=False)\n",
    "    sample_movies = np.random.choice(movies, no_movies, replace=False)\n",
    "    \n",
    "    # get boolean mask or these sampled_items in originl row/col_inds\n",
    "    mask = np.logical_and( np.isin(row_ind, sample_users),\n",
    "                      np.isin(col_ind, sample_movies) )\n",
    "    \n",
    "    sample_sparse_matrix = sparse.csr_matrix((ratings[mask], (row_ind[mask], col_ind[mask])),\n",
    "                                             shape=(max(sample_users)+1, max(sample_movies)+1))\n",
    "\n",
    "    if verbose:\n",
    "        print(\"Sampled Matrix : (users, movies) -- ({} {})\".format(len(sample_users), len(sample_movies)))\n",
    "        print(\"Sampled Matrix : Ratings --\", format(ratings[mask].shape[0]))\n",
    "\n",
    "    print('Saving it into disk for furthur usage..')\n",
    "    # save it into disk\n",
    "    sparse.save_npz(path, sample_sparse_matrix)\n",
    "    if verbose:\n",
    "            print('Done\\n')\n",
    "    \n",
    "    return sample_sparse_matrix"
   ]
  },
  {
   "cell_type": "markdown",
   "metadata": {},
   "source": [
    "#### Build sample train data set from train dataset"
   ]
  },
  {
   "cell_type": "code",
   "execution_count": 39,
   "metadata": {},
   "outputs": [
    {
     "name": "stdout",
     "output_type": "stream",
     "text": [
      "In pwd, retrieving from disk...\n",
      "DONE\n",
      "0:00:00.027016\n"
     ]
    }
   ],
   "source": [
    "start = datetime.now()\n",
    "path = \"data/sample_train_sparse_matrix.npz\"\n",
    "if os.path.isfile(path):\n",
    "    print(\"In pwd, retrieving from disk...\")\n",
    "    sample_train_sparse_matrix = sparse.load_npz(path)\n",
    "    print(\"DONE\")\n",
    "else: \n",
    "    # get 10k users and 1k movies from available data \n",
    "    sample_train_sparse_matrix = get_sample_sparse_matrix(train_sparse_matrix, no_users=10000, no_movies=1000,\n",
    "                                             path = path)\n",
    "\n",
    "print(datetime.now() - start)"
   ]
  },
  {
   "cell_type": "markdown",
   "metadata": {},
   "source": [
    "#### Build sample test data set from test data"
   ]
  },
  {
   "cell_type": "code",
   "execution_count": 40,
   "metadata": {},
   "outputs": [
    {
     "name": "stdout",
     "output_type": "stream",
     "text": [
      "In pwd, retrieving from disk....\n",
      "DONE\n",
      "0:00:00.020689\n"
     ]
    }
   ],
   "source": [
    "start = datetime.now()\n",
    "\n",
    "path = \"data/sample_test_sparse_matrix.npz\"\n",
    "if os.path.isfile(path):\n",
    "    print(\"In pwd, retrieving from disk....\")\n",
    "    # just get it from the disk instead of computing it\n",
    "    sample_test_sparse_matrix = sparse.load_npz(path)\n",
    "    print(\"DONE\")\n",
    "else:\n",
    "    # get 5k users and 500 movies from available data \n",
    "    sample_test_sparse_matrix = get_sample_sparse_matrix(test_sparse_matrix, no_users=5000, no_movies=500,\n",
    "                                                 path = path)\n",
    "print(datetime.now() - start)"
   ]
  },
  {
   "cell_type": "markdown",
   "metadata": {},
   "source": [
    "#### Averages of movie ratings, rating per user and rating per movie for sampled data"
   ]
  },
  {
   "cell_type": "code",
   "execution_count": 41,
   "metadata": {},
   "outputs": [],
   "source": [
    "sample_train_averages = dict()"
   ]
  },
  {
   "cell_type": "code",
   "execution_count": 42,
   "metadata": {},
   "outputs": [
    {
     "data": {
      "text/plain": [
       "{'global': 3.581679377504138}"
      ]
     },
     "execution_count": 42,
     "metadata": {},
     "output_type": "execute_result"
    }
   ],
   "source": [
    "# get global average of ratings in train set\n",
    "global_average = sample_train_sparse_matrix.sum()/sample_train_sparse_matrix.count_nonzero()\n",
    "sample_train_averages['global'] = global_average\n",
    "sample_train_averages"
   ]
  },
  {
   "cell_type": "code",
   "execution_count": 43,
   "metadata": {},
   "outputs": [
    {
     "name": "stdout",
     "output_type": "stream",
     "text": [
      "\n",
      "Average rating of user 1515220 : 3.9655172413793105\n"
     ]
    }
   ],
   "source": [
    "#average rating per user\n",
    "sample_train_averages['user'] = get_average_ratings(sample_train_sparse_matrix, of_users=True)\n",
    "print('\\nAverage rating of user 1515220 :',sample_train_averages['user'][1515220])"
   ]
  },
  {
   "cell_type": "code",
   "execution_count": 44,
   "metadata": {},
   "outputs": [
    {
     "name": "stdout",
     "output_type": "stream",
     "text": [
      "\n",
      " Average rating of movie 15153 : 2.6458333333333335\n"
     ]
    }
   ],
   "source": [
    "#average rating per movie\n",
    "sample_train_averages['movie'] =  get_average_ratings(sample_train_sparse_matrix, of_users=False)\n",
    "print('\\n Average rating of movie 15153 :',sample_train_averages['movie'][15153])"
   ]
  },
  {
   "cell_type": "markdown",
   "metadata": {},
   "source": [
    "#### Number of ratings in train and test sets"
   ]
  },
  {
   "cell_type": "code",
   "execution_count": 45,
   "metadata": {},
   "outputs": [
    {
     "name": "stdout",
     "output_type": "stream",
     "text": [
      "\n",
      " Number of ratings in sampled train matrix: 129286\n",
      "\n",
      "\n",
      " Number of ratings in sampled test matrix: 7333\n",
      "\n"
     ]
    }
   ],
   "source": [
    "print('\\n Number of ratings in sampled train matrix: {}\\n'.format(sample_train_sparse_matrix.count_nonzero()))\n",
    "print('\\n Number of ratings in sampled test matrix: {}\\n'.format(sample_test_sparse_matrix.count_nonzero()))"
   ]
  },
  {
   "cell_type": "markdown",
   "metadata": {},
   "source": [
    "### 2.2 Featurising the data for regression problem\n",
    "\n",
    "#### Featurising the train data"
   ]
  },
  {
   "cell_type": "code",
   "execution_count": 46,
   "metadata": {},
   "outputs": [],
   "source": [
    "# get users, movies and ratings from samples train sparse matrix\n",
    "sample_train_users, sample_train_movies, sample_train_ratings = sparse.find(sample_train_sparse_matrix)"
   ]
  },
  {
   "cell_type": "code",
   "execution_count": 47,
   "metadata": {},
   "outputs": [
    {
     "name": "stdout",
     "output_type": "stream",
     "text": [
      "File already exists\n",
      "0:00:00.000608\n"
     ]
    }
   ],
   "source": [
    "start = datetime.now()\n",
    "if os.path.isfile('data/reg_train.csv'):\n",
    "    print(\"File already exists\" )\n",
    "else:\n",
    "    print('preparing {} tuples for the dataset..\\n'.format(len(sample_train_ratings)))\n",
    "    with open('data/reg_train.csv', mode='w') as reg_data_file:\n",
    "        count = 0\n",
    "        for (user, movie, rating)  in zip(sample_train_users, sample_train_movies, sample_train_ratings):\n",
    "            st = datetime.now()\n",
    "\n",
    "            #--------------------- Ratings of \"movie\" by similar users of \"user\" ---------------------\n",
    "            # compute similar users of the \"user\"        \n",
    "            user_sim = cosine_similarity(sample_train_sparse_matrix[user], sample_train_sparse_matrix).ravel()\n",
    "            top_sim_users = user_sim.argsort()[::-1][1:] # ignore 'The User' from similar users\n",
    "            # get the ratings of most similar users for this movie\n",
    "            top_ratings = sample_train_sparse_matrix[top_sim_users, movie].toarray().ravel()\n",
    "            # make it's length \"5\" by adding movie averages\n",
    "            top_sim_users_ratings = list(top_ratings[top_ratings != 0][:5])\n",
    "            top_sim_users_ratings.extend([sample_train_averages['movie'][movie]]*(5 - len(top_sim_users_ratings)))\n",
    "\n",
    "            #--------------------- Ratings by \"user\"  to similar movies of \"movie\" ---------------------\n",
    "            # compute similar movies to the \"movie\"        \n",
    "            movie_sim = cosine_similarity(sample_train_sparse_matrix[:,movie].T, sample_train_sparse_matrix.T).ravel()\n",
    "            top_sim_movies = movie_sim.argsort()[::-1][1:] # ignore 'The Movie' from its similar movies.\n",
    "            # get ratings of most similar movies rated by this user\n",
    "            top_ratings = sample_train_sparse_matrix[user, top_sim_movies].toarray().ravel()\n",
    "            # make it's length \"5\" by adding user averages \n",
    "            top_sim_movies_ratings = list(top_ratings[top_ratings != 0][:5])\n",
    "            top_sim_movies_ratings.extend([sample_train_averages['user'][user]]*(5-len(top_sim_movies_ratings))) \n",
    "\n",
    "            #-----------------prepare the row to be stores in a file-----------------#\n",
    "            row = list()\n",
    "            row.append(user)\n",
    "            row.append(movie)\n",
    "            # add other features to this data\n",
    "            row.append(sample_train_averages['global']) # first feature\n",
    "            # next 5 features are similar_users \"movie\" ratings\n",
    "            row.extend(top_sim_users_ratings)\n",
    "            # next 5 features are \"user\" ratings for similar_movies\n",
    "            row.extend(top_sim_movies_ratings)\n",
    "            # Avg_user rating\n",
    "            row.append(sample_train_averages['user'][user])\n",
    "            # Avg_movie rating\n",
    "            row.append(sample_train_averages['movie'][movie])\n",
    "\n",
    "            # actual rating of this user-movie pair\n",
    "            row.append(rating)\n",
    "            count = count + 1\n",
    "\n",
    "            # add rows to the file opened\n",
    "            reg_data_file.write(','.join(map(str, row)))\n",
    "            reg_data_file.write('\\n')        \n",
    "            if (count)%10000 == 0:\n",
    "                # print(','.join(map(str, row)))\n",
    "                print(\"Done for {} rows----- {}\".format(count, datetime.now() - start))\n",
    "\n",
    "print(datetime.now() - start)"
   ]
  },
  {
   "cell_type": "markdown",
   "metadata": {},
   "source": [
    "#### Make the train dataframe from the file\n",
    "\n",
    "The following column headers will be used:\n",
    "+ user: user id\n",
    "+ movie: movie id\n",
    "+ GAvg: average rating of all ratings (global average)\n",
    "+ Top 5 similar users ratings of this movie (sur1, sur2, sur3, sur4, sur5)\n",
    "+ Top 5 similar movies rated by this user (smr1, smr2, smr3, smr4, smr5)\n",
    "+ UAvg: user's average rating\n",
    "+ MAvg: movie's average rating\n",
    "+ rating: rating of this movie by this user"
   ]
  },
  {
   "cell_type": "code",
   "execution_count": 48,
   "metadata": {},
   "outputs": [
    {
     "data": {
      "text/html": [
       "<div>\n",
       "<style scoped>\n",
       "    .dataframe tbody tr th:only-of-type {\n",
       "        vertical-align: middle;\n",
       "    }\n",
       "\n",
       "    .dataframe tbody tr th {\n",
       "        vertical-align: top;\n",
       "    }\n",
       "\n",
       "    .dataframe thead th {\n",
       "        text-align: right;\n",
       "    }\n",
       "</style>\n",
       "<table border=\"1\" class=\"dataframe\">\n",
       "  <thead>\n",
       "    <tr style=\"text-align: right;\">\n",
       "      <th></th>\n",
       "      <th>user</th>\n",
       "      <th>movie</th>\n",
       "      <th>GAvg</th>\n",
       "      <th>sur1</th>\n",
       "      <th>sur2</th>\n",
       "      <th>sur3</th>\n",
       "      <th>sur4</th>\n",
       "      <th>sur5</th>\n",
       "      <th>smr1</th>\n",
       "      <th>smr2</th>\n",
       "      <th>smr3</th>\n",
       "      <th>smr4</th>\n",
       "      <th>smr5</th>\n",
       "      <th>UAvg</th>\n",
       "      <th>MAvg</th>\n",
       "      <th>rating</th>\n",
       "    </tr>\n",
       "  </thead>\n",
       "  <tbody>\n",
       "    <tr>\n",
       "      <td>0</td>\n",
       "      <td>53406</td>\n",
       "      <td>33</td>\n",
       "      <td>3.581679</td>\n",
       "      <td>4.0</td>\n",
       "      <td>5.0</td>\n",
       "      <td>5.0</td>\n",
       "      <td>4.0</td>\n",
       "      <td>1.0</td>\n",
       "      <td>5.0</td>\n",
       "      <td>2.0</td>\n",
       "      <td>5.0</td>\n",
       "      <td>3.0</td>\n",
       "      <td>1.0</td>\n",
       "      <td>3.370370</td>\n",
       "      <td>4.092437</td>\n",
       "      <td>4</td>\n",
       "    </tr>\n",
       "    <tr>\n",
       "      <td>1</td>\n",
       "      <td>99540</td>\n",
       "      <td>33</td>\n",
       "      <td>3.581679</td>\n",
       "      <td>5.0</td>\n",
       "      <td>5.0</td>\n",
       "      <td>5.0</td>\n",
       "      <td>4.0</td>\n",
       "      <td>5.0</td>\n",
       "      <td>3.0</td>\n",
       "      <td>4.0</td>\n",
       "      <td>4.0</td>\n",
       "      <td>3.0</td>\n",
       "      <td>5.0</td>\n",
       "      <td>3.555556</td>\n",
       "      <td>4.092437</td>\n",
       "      <td>3</td>\n",
       "    </tr>\n",
       "    <tr>\n",
       "      <td>2</td>\n",
       "      <td>99865</td>\n",
       "      <td>33</td>\n",
       "      <td>3.581679</td>\n",
       "      <td>5.0</td>\n",
       "      <td>5.0</td>\n",
       "      <td>4.0</td>\n",
       "      <td>5.0</td>\n",
       "      <td>3.0</td>\n",
       "      <td>5.0</td>\n",
       "      <td>4.0</td>\n",
       "      <td>4.0</td>\n",
       "      <td>5.0</td>\n",
       "      <td>4.0</td>\n",
       "      <td>3.714286</td>\n",
       "      <td>4.092437</td>\n",
       "      <td>5</td>\n",
       "    </tr>\n",
       "    <tr>\n",
       "      <td>3</td>\n",
       "      <td>101620</td>\n",
       "      <td>33</td>\n",
       "      <td>3.581679</td>\n",
       "      <td>2.0</td>\n",
       "      <td>3.0</td>\n",
       "      <td>5.0</td>\n",
       "      <td>5.0</td>\n",
       "      <td>4.0</td>\n",
       "      <td>4.0</td>\n",
       "      <td>3.0</td>\n",
       "      <td>3.0</td>\n",
       "      <td>4.0</td>\n",
       "      <td>5.0</td>\n",
       "      <td>3.584416</td>\n",
       "      <td>4.092437</td>\n",
       "      <td>5</td>\n",
       "    </tr>\n",
       "    <tr>\n",
       "      <td>4</td>\n",
       "      <td>112974</td>\n",
       "      <td>33</td>\n",
       "      <td>3.581679</td>\n",
       "      <td>5.0</td>\n",
       "      <td>5.0</td>\n",
       "      <td>5.0</td>\n",
       "      <td>5.0</td>\n",
       "      <td>5.0</td>\n",
       "      <td>3.0</td>\n",
       "      <td>5.0</td>\n",
       "      <td>5.0</td>\n",
       "      <td>5.0</td>\n",
       "      <td>3.0</td>\n",
       "      <td>3.750000</td>\n",
       "      <td>4.092437</td>\n",
       "      <td>5</td>\n",
       "    </tr>\n",
       "  </tbody>\n",
       "</table>\n",
       "</div>"
      ],
      "text/plain": [
       "     user  movie      GAvg  sur1  sur2  sur3  sur4  sur5  smr1  smr2  smr3  \\\n",
       "0   53406     33  3.581679   4.0   5.0   5.0   4.0   1.0   5.0   2.0   5.0   \n",
       "1   99540     33  3.581679   5.0   5.0   5.0   4.0   5.0   3.0   4.0   4.0   \n",
       "2   99865     33  3.581679   5.0   5.0   4.0   5.0   3.0   5.0   4.0   4.0   \n",
       "3  101620     33  3.581679   2.0   3.0   5.0   5.0   4.0   4.0   3.0   3.0   \n",
       "4  112974     33  3.581679   5.0   5.0   5.0   5.0   5.0   3.0   5.0   5.0   \n",
       "\n",
       "   smr4  smr5      UAvg      MAvg  rating  \n",
       "0   3.0   1.0  3.370370  4.092437       4  \n",
       "1   3.0   5.0  3.555556  4.092437       3  \n",
       "2   5.0   4.0  3.714286  4.092437       5  \n",
       "3   4.0   5.0  3.584416  4.092437       5  \n",
       "4   5.0   3.0  3.750000  4.092437       5  "
      ]
     },
     "execution_count": 48,
     "metadata": {},
     "output_type": "execute_result"
    }
   ],
   "source": [
    "reg_train = pd.read_csv('data/reg_train.csv',\n",
    "                        names = ['user', 'movie', 'GAvg', 'sur1', 'sur2', 'sur3', 'sur4', 'sur5','smr1', 'smr2', 'smr3', 'smr4', 'smr5', 'UAvg', 'MAvg', 'rating'], header=None)\n",
    "\n",
    "reg_train.head()"
   ]
  },
  {
   "cell_type": "markdown",
   "metadata": {},
   "source": [
    "#### Featurising the test data"
   ]
  },
  {
   "cell_type": "code",
   "execution_count": 49,
   "metadata": {},
   "outputs": [],
   "source": [
    "# get users, movies and ratings from sample test \n",
    "sample_test_users, sample_test_movies, sample_test_ratings = sparse.find(sample_test_sparse_matrix)"
   ]
  },
  {
   "cell_type": "code",
   "execution_count": 50,
   "metadata": {},
   "outputs": [
    {
     "name": "stdout",
     "output_type": "stream",
     "text": [
      "It already exists\n"
     ]
    }
   ],
   "source": [
    "start = datetime.now()\n",
    "\n",
    "if os.path.isfile('data/reg_test.csv'):\n",
    "    print(\"It already exists\")\n",
    "else:\n",
    "\n",
    "    print('preparing {} tuples for the dataset..\\n'.format(len(sample_test_ratings)))\n",
    "    with open('data/reg_test.csv', mode='w') as reg_data_file:\n",
    "        count = 0 \n",
    "        for (user, movie, rating)  in zip(sample_test_users, sample_test_movies, sample_test_ratings):\n",
    "            st = datetime.now()\n",
    "\n",
    "        #--------------------- Ratings of \"movie\" by similar users of \"user\" ---------------------\n",
    "            try:\n",
    "                # compute similar users of the \"user\"        \n",
    "                user_sim = cosine_similarity(sample_train_sparse_matrix[user], sample_train_sparse_matrix).ravel()\n",
    "                top_sim_users = user_sim.argsort()[::-1][1:] # ignore 'The User' from its similar users.\n",
    "                # get the ratings of most similar users for this movie\n",
    "                top_ratings = sample_train_sparse_matrix[top_sim_users, movie].toarray().ravel()\n",
    "                # make it's length \"5\" by adding movie averages \n",
    "                top_sim_users_ratings = list(top_ratings[top_ratings != 0][:5])\n",
    "                top_sim_users_ratings.extend([sample_train_averages['movie'][movie]]*(5 - len(top_sim_users_ratings)))\n",
    "\n",
    "            except (IndexError, KeyError):\n",
    "                # new User or new Movie or no ratings for given user for top similar movies\n",
    "                #Cold Start Problem \n",
    "                top_sim_users_ratings.extend([sample_train_averages['global']]*(5 - len(top_sim_users_ratings)))\n",
    "            except:\n",
    "                print(user, movie)\n",
    "                # only KeyErrors resolved. Not every Exception\n",
    "                raise\n",
    "\n",
    "            #--------------------- Ratings by \"user\"  to similar movies of \"movie\" ---------------------\n",
    "            try:\n",
    "                # compute similar movies of the \"movie\"        \n",
    "                movie_sim = cosine_similarity(sample_train_sparse_matrix[:,movie].T, sample_train_sparse_matrix.T).ravel()\n",
    "                top_sim_movies = movie_sim.argsort()[::-1][1:] # ignore 'The User' from its similar users.\n",
    "                # get ratings of most similar movie rated by this user\n",
    "                top_ratings = sample_train_sparse_matrix[user, top_sim_movies].toarray().ravel()\n",
    "                # make it's length \"5\" by adding user averages\n",
    "                top_sim_movies_ratings = list(top_ratings[top_ratings != 0][:5])\n",
    "                top_sim_movies_ratings.extend([sample_train_averages['user'][user]]*(5-len(top_sim_movies_ratings))) \n",
    "            except (IndexError, KeyError):\n",
    "                top_sim_movies_ratings.extend([sample_train_averages['global']]*(5-len(top_sim_movies_ratings)))\n",
    "            except :\n",
    "                raise\n",
    "\n",
    "            #-----------------prepare the row to be stores in a file-----------------#\n",
    "            row = list()\n",
    "            # add user and movie name first\n",
    "            row.append(user)\n",
    "            row.append(movie)\n",
    "            row.append(sample_train_averages['global']) # first feature\n",
    "            # next 5 features are similar_users \"movie\" ratings\n",
    "            row.extend(top_sim_users_ratings)\n",
    "            # next 5 features are \"user\" ratings for similar_movies\n",
    "            row.extend(top_sim_movies_ratings)\n",
    "            # Avg_user rating\n",
    "            try:\n",
    "                row.append(sample_train_averages['user'][user])\n",
    "            except KeyError:\n",
    "                row.append(sample_train_averages['global'])\n",
    "            except:\n",
    "                raise\n",
    "            # Avg_movie rating\n",
    "            try:\n",
    "                row.append(sample_train_averages['movie'][movie])\n",
    "            except KeyError:\n",
    "                row.append(sample_train_averages['global'])\n",
    "            except:\n",
    "                raise\n",
    "            # actual rating of this user-movie pair\n",
    "            row.append(rating)\n",
    "            count = count + 1\n",
    "\n",
    "            # add rows to the file opened\n",
    "            reg_data_file.write(','.join(map(str, row)))\n",
    "            reg_data_file.write('\\n')    \n",
    "            \n",
    "            if (count)%10000 == 0:\n",
    "                print(\"Done for {} rows----- {}\".format(count, datetime.now() - start))\n",
    "    print(\"\", datetime.now() - start)"
   ]
  },
  {
   "cell_type": "markdown",
   "metadata": {},
   "source": [
    "#### Make the train dataframe from the file"
   ]
  },
  {
   "cell_type": "code",
   "execution_count": 51,
   "metadata": {},
   "outputs": [
    {
     "data": {
      "text/html": [
       "<div>\n",
       "<style scoped>\n",
       "    .dataframe tbody tr th:only-of-type {\n",
       "        vertical-align: middle;\n",
       "    }\n",
       "\n",
       "    .dataframe tbody tr th {\n",
       "        vertical-align: top;\n",
       "    }\n",
       "\n",
       "    .dataframe thead th {\n",
       "        text-align: right;\n",
       "    }\n",
       "</style>\n",
       "<table border=\"1\" class=\"dataframe\">\n",
       "  <thead>\n",
       "    <tr style=\"text-align: right;\">\n",
       "      <th></th>\n",
       "      <th>user</th>\n",
       "      <th>movie</th>\n",
       "      <th>GAvg</th>\n",
       "      <th>sur1</th>\n",
       "      <th>sur2</th>\n",
       "      <th>sur3</th>\n",
       "      <th>sur4</th>\n",
       "      <th>sur5</th>\n",
       "      <th>smr1</th>\n",
       "      <th>smr2</th>\n",
       "      <th>smr3</th>\n",
       "      <th>smr4</th>\n",
       "      <th>smr5</th>\n",
       "      <th>UAvg</th>\n",
       "      <th>MAvg</th>\n",
       "      <th>rating</th>\n",
       "    </tr>\n",
       "  </thead>\n",
       "  <tbody>\n",
       "    <tr>\n",
       "      <td>0</td>\n",
       "      <td>808635</td>\n",
       "      <td>71</td>\n",
       "      <td>3.581679</td>\n",
       "      <td>3.581679</td>\n",
       "      <td>3.581679</td>\n",
       "      <td>3.581679</td>\n",
       "      <td>3.581679</td>\n",
       "      <td>3.581679</td>\n",
       "      <td>3.581679</td>\n",
       "      <td>3.581679</td>\n",
       "      <td>3.581679</td>\n",
       "      <td>3.581679</td>\n",
       "      <td>3.581679</td>\n",
       "      <td>3.581679</td>\n",
       "      <td>3.581679</td>\n",
       "      <td>5</td>\n",
       "    </tr>\n",
       "    <tr>\n",
       "      <td>1</td>\n",
       "      <td>941866</td>\n",
       "      <td>71</td>\n",
       "      <td>3.581679</td>\n",
       "      <td>3.581679</td>\n",
       "      <td>3.581679</td>\n",
       "      <td>3.581679</td>\n",
       "      <td>3.581679</td>\n",
       "      <td>3.581679</td>\n",
       "      <td>3.581679</td>\n",
       "      <td>3.581679</td>\n",
       "      <td>3.581679</td>\n",
       "      <td>3.581679</td>\n",
       "      <td>3.581679</td>\n",
       "      <td>3.581679</td>\n",
       "      <td>3.581679</td>\n",
       "      <td>4</td>\n",
       "    </tr>\n",
       "    <tr>\n",
       "      <td>2</td>\n",
       "      <td>1737912</td>\n",
       "      <td>71</td>\n",
       "      <td>3.581679</td>\n",
       "      <td>3.581679</td>\n",
       "      <td>3.581679</td>\n",
       "      <td>3.581679</td>\n",
       "      <td>3.581679</td>\n",
       "      <td>3.581679</td>\n",
       "      <td>3.581679</td>\n",
       "      <td>3.581679</td>\n",
       "      <td>3.581679</td>\n",
       "      <td>3.581679</td>\n",
       "      <td>3.581679</td>\n",
       "      <td>3.581679</td>\n",
       "      <td>3.581679</td>\n",
       "      <td>3</td>\n",
       "    </tr>\n",
       "    <tr>\n",
       "      <td>3</td>\n",
       "      <td>1849204</td>\n",
       "      <td>71</td>\n",
       "      <td>3.581679</td>\n",
       "      <td>3.581679</td>\n",
       "      <td>3.581679</td>\n",
       "      <td>3.581679</td>\n",
       "      <td>3.581679</td>\n",
       "      <td>3.581679</td>\n",
       "      <td>3.581679</td>\n",
       "      <td>3.581679</td>\n",
       "      <td>3.581679</td>\n",
       "      <td>3.581679</td>\n",
       "      <td>3.581679</td>\n",
       "      <td>3.581679</td>\n",
       "      <td>3.581679</td>\n",
       "      <td>4</td>\n",
       "    </tr>\n",
       "  </tbody>\n",
       "</table>\n",
       "</div>"
      ],
      "text/plain": [
       "      user  movie      GAvg      sur1      sur2      sur3      sur4      sur5  \\\n",
       "0   808635     71  3.581679  3.581679  3.581679  3.581679  3.581679  3.581679   \n",
       "1   941866     71  3.581679  3.581679  3.581679  3.581679  3.581679  3.581679   \n",
       "2  1737912     71  3.581679  3.581679  3.581679  3.581679  3.581679  3.581679   \n",
       "3  1849204     71  3.581679  3.581679  3.581679  3.581679  3.581679  3.581679   \n",
       "\n",
       "       smr1      smr2      smr3      smr4      smr5      UAvg      MAvg  \\\n",
       "0  3.581679  3.581679  3.581679  3.581679  3.581679  3.581679  3.581679   \n",
       "1  3.581679  3.581679  3.581679  3.581679  3.581679  3.581679  3.581679   \n",
       "2  3.581679  3.581679  3.581679  3.581679  3.581679  3.581679  3.581679   \n",
       "3  3.581679  3.581679  3.581679  3.581679  3.581679  3.581679  3.581679   \n",
       "\n",
       "   rating  \n",
       "0       5  \n",
       "1       4  \n",
       "2       3  \n",
       "3       4  "
      ]
     },
     "execution_count": 51,
     "metadata": {},
     "output_type": "execute_result"
    }
   ],
   "source": [
    "reg_test_df = pd.read_csv('data/reg_test.csv', names = ['user', 'movie', 'GAvg', 'sur1', 'sur2', 'sur3', 'sur4', 'sur5',\n",
    "                                                          'smr1', 'smr2', 'smr3', 'smr4', 'smr5',\n",
    "                                                          'UAvg', 'MAvg', 'rating'], header=None)\n",
    "reg_test_df.head(4)"
   ]
  },
  {
   "cell_type": "markdown",
   "metadata": {},
   "source": [
    "### 2.3 Transforming the data for Surprise models\n",
    "\n",
    "Surprise is a Python scikit building and analysing recommender systems that deal with explicit rating data.\n",
    "\n",
    "To train the model in Surprise library, the format of the data needs to be changed."
   ]
  },
  {
   "cell_type": "code",
   "execution_count": 52,
   "metadata": {},
   "outputs": [],
   "source": [
    "from surprise import Reader, Dataset"
   ]
  },
  {
   "cell_type": "markdown",
   "metadata": {},
   "source": [
    "#### Transform the train data"
   ]
  },
  {
   "cell_type": "code",
   "execution_count": 53,
   "metadata": {},
   "outputs": [],
   "source": [
    "#specify how to read the dataframe.\n",
    "reader = Reader(rating_scale=(1,5))\n",
    "\n",
    "# create the train data from the df\n",
    "train_data = Dataset.load_from_df(reg_train[['user', 'movie', 'rating']], reader)\n",
    "\n",
    "# build the trainset from train data, in the format from surprise library\n",
    "#trainset = train_data.build_full_trainset()"
   ]
  },
  {
   "cell_type": "markdown",
   "metadata": {},
   "source": [
    "#### Transform the test data"
   ]
  },
  {
   "cell_type": "code",
   "execution_count": 54,
   "metadata": {},
   "outputs": [
    {
     "data": {
      "text/plain": [
       "[(808635, 71, 5), (941866, 71, 4), (1737912, 71, 3)]"
      ]
     },
     "execution_count": 54,
     "metadata": {},
     "output_type": "execute_result"
    }
   ],
   "source": [
    "#tuple of user, movie, ratings\n",
    "testset = list(zip(reg_test_df.user.values, reg_test_df.movie.values, reg_test_df.rating.values))\n",
    "testset[:3]"
   ]
  },
  {
   "cell_type": "markdown",
   "metadata": {},
   "source": [
    "### 2.4 Applying Machine Learning models\n",
    "\n",
    "The focus will be on fitting XGBoost and Surprise models. Utility functions below will assist in the training and evaluating of the algorithms.\n",
    "\n",
    "#### Utility functions"
   ]
  },
  {
   "cell_type": "code",
   "execution_count": 55,
   "metadata": {},
   "outputs": [],
   "source": [
    "#create df to store results for cv on train sets from different algorithms\n",
    "kfold_train_results = pd.DataFrame(columns=['algorithm','rmse','mape'])"
   ]
  },
  {
   "cell_type": "code",
   "execution_count": 56,
   "metadata": {},
   "outputs": [],
   "source": [
    "# function to calculate rmse and mape\n",
    "def get_error_metrics(y_true, y_pred):\n",
    "    rmse = np.sqrt(np.mean([(y_true[i] - y_pred[i])**2 for i in range(len(y_pred))]))\n",
    "    mape = np.mean(np.abs( (y_true - y_pred)/y_true )) * 100\n",
    "    return rmse, mape\n",
    "\n",
    "\n",
    "#function to fit and predict using xgboost algorithm\n",
    "def run_xgboost(algo, x_train, y_train, verbose=True):\n",
    "    from sklearn.model_selection import KFold\n",
    "    \n",
    "    #x_vals = pd.DataFrame(columns=list(x_train.columns))\n",
    "    #y_actual = pd.DataFrame(columns=['actual_rating'])\n",
    "    preds = []\n",
    "    rmse_lst = []\n",
    "    mape_lst = []\n",
    "    x_results = x_train.copy()\n",
    "    \n",
    "    k_fold = KFold(n_splits=10)\n",
    "    \n",
    "    for train_ind, test_ind in k_fold.split(x_train):\n",
    "        x_train_sub = x_train.iloc[train_ind]\n",
    "        y_train_sub = y_train.iloc[train_ind]\n",
    "        \n",
    "        x_test_sub = x_train.iloc[test_ind]\n",
    "        y_test_sub = y_train.iloc[test_ind]\n",
    "        \n",
    "        algo.fit(x_train_sub, y_train_sub, eval_metric = 'rmse')\n",
    "        predictions = algo.predict(x_test_sub)\n",
    "        rmse, mape = get_error_metrics(y_test_sub.values, predictions)\n",
    "        preds.append(predictions)\n",
    "        #x_vals = x_vals.append(x_test_sub)\n",
    "        #y_actual = y_actual.append(y_test_sub)\n",
    "        rmse_lst.append(rmse)\n",
    "        mape_lst.append(mape)\n",
    "        \n",
    "    preds = [item for sublist in preds for item in sublist]\n",
    "    rmse_avg = sum(rmse_lst)/len(rmse_lst)\n",
    "    mape_avg = sum(mape_lst)/len(mape_lst)\n",
    "    \n",
    "    #x_vals = pd.concat([x_vals, y_actual], axis=1)\n",
    "    x_results['y_predictions'] = preds\n",
    "    \n",
    "    return x_results, rmse_avg, mape_avg\n"
   ]
  },
  {
   "cell_type": "code",
   "execution_count": 57,
   "metadata": {},
   "outputs": [],
   "source": [
    "###functions for surprise models### \n",
    "my_seed = 15\n",
    "random.seed(my_seed)\n",
    "np.random.seed(my_seed)\n",
    "\n",
    "# function to get ratings given list of predictions (prediction is a class in Surprise).    \n",
    "def get_ratings(predictions):\n",
    "    actual = np.array([pred.r_ui for pred in predictions])\n",
    "    pred = np.array([pred.est for pred in predictions])\n",
    "    \n",
    "    return actual, pred\n",
    "\n",
    "# function to get rmse and mape, given list of prediction objects \n",
    "def get_errors(predictions, print_them = False):\n",
    "    actual, pred = get_ratings(predictions)\n",
    "    rmse = np.sqrt(np.mean((pred - actual)**2))\n",
    "    mape = np.mean(np.abs(pred - actual)/actual)\n",
    "\n",
    "    return rmse, mape*100\n",
    "\n",
    "\n",
    "# function to return predicted ratings, rmse and mape of train and test data with surprise models\n",
    "def run_surprise(algo, trainset, x_train): \n",
    "    from surprise.model_selection import KFold\n",
    "    #start = datetime.now()\n",
    "    # dictionaries that stores metrics for train and test\n",
    "    #train = dict()\n",
    "    #test = dict()\n",
    "    \n",
    "    # train algorithm with trainset\n",
    "    #st = datetime.now()\n",
    "    preds = []\n",
    "    rmse_lst = []\n",
    "    mape_lst = []\n",
    "    \n",
    "    k_fold = KFold(n_splits=10, shuffle=False)\n",
    "    \n",
    "    for train_ind, test_ind in k_fold.split(trainset):\n",
    "        \n",
    "        algo.fit(train_ind)\n",
    "        \n",
    "        test_preds = algo.test(test_ind)\n",
    "        \n",
    "        # get predicted ratings from list of predictions\n",
    "        test_actual_ratings, test_pred_ratings = get_ratings(test_preds)\n",
    "    \n",
    "        # get error metrics from predicted and actual ratings\n",
    "        test_rmse, test_mape = get_errors(test_preds)\n",
    "        \n",
    "        preds.append(test_pred_ratings)\n",
    "        rmse_lst.append(test_rmse)\n",
    "        mape_lst.append(test_mape)\n",
    "        \n",
    "    preds = [item for sublist in preds for item in sublist]\n",
    "    rmse_avg = sum(rmse_lst)/len(rmse_lst)\n",
    "    mape_avg = sum(mape_lst)/len(mape_lst)\n",
    "    \n",
    "    x_train['y_predictions'] = preds\n",
    "        \n",
    "\n",
    "    return x_train, rmse_avg, mape_avg"
   ]
  },
  {
   "cell_type": "markdown",
   "metadata": {},
   "source": [
    "The following algorithms and features will be fit on the train data and tested on the test data:\n",
    "+ XGBoost with 13 features (sur1, sur2, sur3, sur4, sur5, smr1, smr2, smr3, smr4, smr5, GAvg, UAvg, and MAvg)\n",
    "+ Surprise BaselineModel"
   ]
  },
  {
   "cell_type": "markdown",
   "metadata": {},
   "source": [
    "#### 2.4.1 XGBoost with 13 features"
   ]
  },
  {
   "cell_type": "code",
   "execution_count": 58,
   "metadata": {},
   "outputs": [],
   "source": [
    "from matplotlib import pyplot\n",
    "%matplotlib inline\n",
    "import xgboost as xgb\n",
    "from scipy.stats import randint as sp_randint\n",
    "from scipy import stats\n",
    "from sklearn.model_selection import RandomizedSearchCV"
   ]
  },
  {
   "cell_type": "code",
   "execution_count": 59,
   "metadata": {},
   "outputs": [],
   "source": [
    "# prepare train data\n",
    "x_train = reg_train.drop(['user','movie','rating'], axis=1)\n",
    "y_train = reg_train['rating']\n",
    "\n",
    "# prepare test data\n",
    "x_test = reg_test_df.drop(['user','movie','rating'], axis=1)\n",
    "y_test = reg_test_df['rating']"
   ]
  },
  {
   "cell_type": "code",
   "execution_count": 60,
   "metadata": {},
   "outputs": [
    {
     "name": "stdout",
     "output_type": "stream",
     "text": [
      "Tuning parameters: \n",
      "\n",
      "Best XGBoost parameters:  {'colsample_bytree': 0.7051546153524784, 'gamma': 0.011865153262857725, 'learning_rate': 0.17421720439840674, 'max_depth': 9, 'min_child_weight': 6, 'n_estimators': 657, 'reg_alpha': 83, 'reg_lambda': 83.99636401947468, 'subsample': 0.7612969736040649}\n",
      "Time taken to tune:0:03:13.112119\n",
      "\n"
     ]
    }
   ],
   "source": [
    "#parameter optimisation using randomisedsearchcv\n",
    "params = {'learning_rate':stats.uniform(0.01,0.2),\n",
    "             'n_estimators':sp_randint(100,1000),\n",
    "             'max_depth':sp_randint(1,10),\n",
    "             'min_child_weight':sp_randint(1,8),\n",
    "             'gamma':stats.uniform(0,0.02),\n",
    "             'subsample':stats.uniform(0.6,0.4),\n",
    "             'reg_alpha':sp_randint(0,200),\n",
    "             'reg_lambda':stats.uniform(0,200),\n",
    "             'colsample_bytree':stats.uniform(0.6,0.3)}\n",
    "\n",
    "\n",
    "# initialise XGBoost model\n",
    "xgbreg = xgb.XGBRegressor(silent = True, n_jobs = 13, random_state = 15)\n",
    "start = datetime.now()\n",
    "print('Tuning parameters: \\n')\n",
    "\n",
    "xgb_best = RandomizedSearchCV(xgbreg, params, refit = False, scoring = \"neg_mean_squared_error\", cv = 3)\n",
    "xgb_best.fit(x_train, y_train)\n",
    "best_para = xgb_best.best_params_\n",
    "print('Best XGBoost parameters: ', best_para)\n",
    "\n",
    "first_xgb = xgbreg.set_params(**best_para)\n",
    "print('Time taken to tune:{}\\n'.format(datetime.now()-start))"
   ]
  },
  {
   "cell_type": "code",
   "execution_count": 61,
   "metadata": {},
   "outputs": [
    {
     "data": {
      "text/html": [
       "<div>\n",
       "<style scoped>\n",
       "    .dataframe tbody tr th:only-of-type {\n",
       "        vertical-align: middle;\n",
       "    }\n",
       "\n",
       "    .dataframe tbody tr th {\n",
       "        vertical-align: top;\n",
       "    }\n",
       "\n",
       "    .dataframe thead th {\n",
       "        text-align: right;\n",
       "    }\n",
       "</style>\n",
       "<table border=\"1\" class=\"dataframe\">\n",
       "  <thead>\n",
       "    <tr style=\"text-align: right;\">\n",
       "      <th></th>\n",
       "      <th>algorithm</th>\n",
       "      <th>rmse</th>\n",
       "      <th>mape</th>\n",
       "    </tr>\n",
       "  </thead>\n",
       "  <tbody>\n",
       "    <tr>\n",
       "      <td>0</td>\n",
       "      <td>xgb_13_features</td>\n",
       "      <td>0.842627</td>\n",
       "      <td>25.041679</td>\n",
       "    </tr>\n",
       "  </tbody>\n",
       "</table>\n",
       "</div>"
      ],
      "text/plain": [
       "         algorithm      rmse       mape\n",
       "0  xgb_13_features  0.842627  25.041679"
      ]
     },
     "execution_count": 61,
     "metadata": {},
     "output_type": "execute_result"
    }
   ],
   "source": [
    "train_results, xgb_rmse, xgb_mape = run_xgboost(first_xgb, x_train, y_train)\n",
    "\n",
    "# store results in df\n",
    "xgb1_results = ['xgb_13_features', xgb_rmse, xgb_mape]\n",
    "kfold_train_results = kfold_train_results.append(pd.Series(xgb1_results, index = kfold_train_results.columns), ignore_index=True)\n",
    "kfold_train_results"
   ]
  },
  {
   "cell_type": "code",
   "execution_count": 62,
   "metadata": {},
   "outputs": [
    {
     "data": {
      "image/png": "[encoded data removed]",
      "text/plain": [
       "<Figure size 432x288 with 1 Axes>"
      ]
     },
     "metadata": {
      "needs_background": "light"
     },
     "output_type": "display_data"
    }
   ],
   "source": [
    "# plot feature importance\n",
    "xgb.plot_importance(first_xgb)\n",
    "plt.show()"
   ]
  },
  {
   "cell_type": "markdown",
   "metadata": {},
   "source": [
    "#### 2.4.2 Surprise BaselineOnly\n",
    "\n",
    "The BaselineOnly predicts the baseline estimate for given user and item. It is a basic algorithm that does not do  much work, but is useful for comparing accuracies.    \n",
    "\n",
    "Parameters to set are:\n",
    "+ bsl_options (dict) - a dictionary of options for the baseline estimates computation. Baselines can be estimated using either stochastic gradient descent (SGD) or alternating least squares (ALS)\n",
    "+ verbose (bool)"
   ]
  },
  {
   "cell_type": "code",
   "execution_count": 63,
   "metadata": {},
   "outputs": [],
   "source": [
    "from surprise import BaselineOnly"
   ]
  },
  {
   "cell_type": "code",
   "execution_count": 64,
   "metadata": {},
   "outputs": [
    {
     "name": "stdout",
     "output_type": "stream",
     "text": [
      "Estimating biases using sgd...\n",
      "Estimating biases using sgd...\n",
      "Estimating biases using sgd...\n",
      "Estimating biases using sgd...\n",
      "Estimating biases using sgd...\n",
      "Estimating biases using sgd...\n",
      "Estimating biases using sgd...\n",
      "Estimating biases using sgd...\n",
      "Estimating biases using sgd...\n",
      "Estimating biases using sgd...\n"
     ]
    },
    {
     "data": {
      "text/html": [
       "<div>\n",
       "<style scoped>\n",
       "    .dataframe tbody tr th:only-of-type {\n",
       "        vertical-align: middle;\n",
       "    }\n",
       "\n",
       "    .dataframe tbody tr th {\n",
       "        vertical-align: top;\n",
       "    }\n",
       "\n",
       "    .dataframe thead th {\n",
       "        text-align: right;\n",
       "    }\n",
       "</style>\n",
       "<table border=\"1\" class=\"dataframe\">\n",
       "  <thead>\n",
       "    <tr style=\"text-align: right;\">\n",
       "      <th></th>\n",
       "      <th>algorithm</th>\n",
       "      <th>rmse</th>\n",
       "      <th>mape</th>\n",
       "    </tr>\n",
       "  </thead>\n",
       "  <tbody>\n",
       "    <tr>\n",
       "      <td>0</td>\n",
       "      <td>xgb_13_features</td>\n",
       "      <td>0.842627</td>\n",
       "      <td>25.041679</td>\n",
       "    </tr>\n",
       "    <tr>\n",
       "      <td>1</td>\n",
       "      <td>bsl_surprise</td>\n",
       "      <td>1.019674</td>\n",
       "      <td>32.729223</td>\n",
       "    </tr>\n",
       "  </tbody>\n",
       "</table>\n",
       "</div>"
      ],
      "text/plain": [
       "         algorithm      rmse       mape\n",
       "0  xgb_13_features  0.842627  25.041679\n",
       "1     bsl_surprise  1.019674  32.729223"
      ]
     },
     "execution_count": 64,
     "metadata": {},
     "output_type": "execute_result"
    }
   ],
   "source": [
    "bsl_options = {'method': 'sgd',\n",
    "               'learning_rate': .001\n",
    "               }\n",
    "\n",
    "bsl_algo = BaselineOnly(bsl_options = bsl_options)\n",
    "\n",
    "# run algorithm\n",
    "add_cols_train, rmse_bsl, mape_bsl = run_surprise(bsl_algo, train_data, x_train)\n",
    "\n",
    "bsl_lst = ['bsl_surprise', rmse_bsl, mape_bsl]\n",
    "\n",
    "add_cols_train = add_cols_train.rename(columns={'y_predictions': 'bsl_pred'})\n",
    "\n",
    "# store error metrics\n",
    "kfold_train_results = kfold_train_results.append(pd.Series(bsl_lst, index = kfold_train_results.columns), ignore_index=True)\n",
    "kfold_train_results"
   ]
  },
  {
   "cell_type": "markdown",
   "metadata": {},
   "source": [
    "#### 2.4.3 Surprise KNNBaseline\n",
    "\n",
    "This is a basic collaborative filtering algorithm that takes into account a baseline rating. For this, the feature on which similarities are to be computed is specified. Considered here will be user-user (user_based=True) and movie-movie (user_based=False) similarities. Whether similarities are based on users or items will have a significant impact on the performance of the prediction algorithm, hence testing it with both to see which performs best.\n",
    "\n",
    "For the best predictions, the documentation recommends using pearson_baseline (with which is the parameter option of shrinkage). The min_support, or minimum number of common items (when user_based=True) or minimum number of common users (when user_based=False) for similarity not to be zero is also specified.\n",
    "\n",
    "**2.4.3.1 Surprise KNNBaseline User-User Similarities**"
   ]
  },
  {
   "cell_type": "code",
   "execution_count": 65,
   "metadata": {},
   "outputs": [],
   "source": [
    "from surprise import KNNBaseline"
   ]
  },
  {
   "cell_type": "code",
   "execution_count": 67,
   "metadata": {},
   "outputs": [
    {
     "name": "stdout",
     "output_type": "stream",
     "text": [
      "Estimating biases using sgd...\n",
      "Computing the pearson_baseline similarity matrix...\n",
      "Done computing similarity matrix.\n",
      "Estimating biases using sgd...\n",
      "Computing the pearson_baseline similarity matrix...\n",
      "Done computing similarity matrix.\n",
      "Estimating biases using sgd...\n",
      "Computing the pearson_baseline similarity matrix...\n",
      "Done computing similarity matrix.\n",
      "Estimating biases using sgd...\n",
      "Computing the pearson_baseline similarity matrix...\n",
      "Done computing similarity matrix.\n",
      "Estimating biases using sgd...\n",
      "Computing the pearson_baseline similarity matrix...\n",
      "Done computing similarity matrix.\n",
      "Estimating biases using sgd...\n",
      "Computing the pearson_baseline similarity matrix...\n",
      "Done computing similarity matrix.\n",
      "Estimating biases using sgd...\n",
      "Computing the pearson_baseline similarity matrix...\n",
      "Done computing similarity matrix.\n",
      "Estimating biases using sgd...\n",
      "Computing the pearson_baseline similarity matrix...\n",
      "Done computing similarity matrix.\n",
      "Estimating biases using sgd...\n",
      "Computing the pearson_baseline similarity matrix...\n",
      "Done computing similarity matrix.\n",
      "Estimating biases using sgd...\n",
      "Computing the pearson_baseline similarity matrix...\n",
      "Done computing similarity matrix.\n"
     ]
    },
    {
     "data": {
      "text/html": [
       "<div>\n",
       "<style scoped>\n",
       "    .dataframe tbody tr th:only-of-type {\n",
       "        vertical-align: middle;\n",
       "    }\n",
       "\n",
       "    .dataframe tbody tr th {\n",
       "        vertical-align: top;\n",
       "    }\n",
       "\n",
       "    .dataframe thead th {\n",
       "        text-align: right;\n",
       "    }\n",
       "</style>\n",
       "<table border=\"1\" class=\"dataframe\">\n",
       "  <thead>\n",
       "    <tr style=\"text-align: right;\">\n",
       "      <th></th>\n",
       "      <th>algorithm</th>\n",
       "      <th>rmse</th>\n",
       "      <th>mape</th>\n",
       "    </tr>\n",
       "  </thead>\n",
       "  <tbody>\n",
       "    <tr>\n",
       "      <td>0</td>\n",
       "      <td>xgb_13_features</td>\n",
       "      <td>0.842627</td>\n",
       "      <td>25.041679</td>\n",
       "    </tr>\n",
       "    <tr>\n",
       "      <td>1</td>\n",
       "      <td>bsl_surprise</td>\n",
       "      <td>1.019674</td>\n",
       "      <td>32.729223</td>\n",
       "    </tr>\n",
       "    <tr>\n",
       "      <td>2</td>\n",
       "      <td>knn_bsl_u</td>\n",
       "      <td>1.004814</td>\n",
       "      <td>31.452556</td>\n",
       "    </tr>\n",
       "  </tbody>\n",
       "</table>\n",
       "</div>"
      ],
      "text/plain": [
       "         algorithm      rmse       mape\n",
       "0  xgb_13_features  0.842627  25.041679\n",
       "1     bsl_surprise  1.019674  32.729223\n",
       "2        knn_bsl_u  1.004814  31.452556"
      ]
     },
     "execution_count": 67,
     "metadata": {},
     "output_type": "execute_result"
    }
   ],
   "source": [
    "# specify how to compute similarities and what to consider with sim_options\n",
    "sim_options = {'user_based' : True,\n",
    "               'name': 'pearson_baseline',\n",
    "               'shrinkage': 100,\n",
    "               'min_support': 2\n",
    "              } \n",
    "# keep other parameters as default\n",
    "bsl_options = {'method': 'sgd'} \n",
    "\n",
    "knn_u_algo = KNNBaseline(k = 40, sim_options = sim_options, bsl_options = bsl_options)\n",
    "\n",
    "add_cols_train2, rmse_knn_u, mape_knn_u = run_surprise(knn_u_algo, train_data, add_cols_train)\n",
    "\n",
    "knn_u_lst = ['knn_bsl_u', rmse_knn_u, mape_knn_u]\n",
    "\n",
    "add_cols_train2 = add_cols_train2.rename(columns={'y_predictions': 'knn_bsl_u'})\n",
    "\n",
    "# store error metrics\n",
    "kfold_train_results = kfold_train_results.append(pd.Series(knn_u_lst, index = kfold_train_results.columns), ignore_index=True)\n",
    "kfold_train_results"
   ]
  },
  {
   "cell_type": "markdown",
   "metadata": {},
   "source": [
    "**2.4.3.1 Surprise KNNBaseline Movie-Movie Similarities**"
   ]
  },
  {
   "cell_type": "code",
   "execution_count": 68,
   "metadata": {},
   "outputs": [
    {
     "name": "stdout",
     "output_type": "stream",
     "text": [
      "Estimating biases using sgd...\n",
      "Computing the pearson_baseline similarity matrix...\n",
      "Done computing similarity matrix.\n",
      "Estimating biases using sgd...\n",
      "Computing the pearson_baseline similarity matrix...\n",
      "Done computing similarity matrix.\n",
      "Estimating biases using sgd...\n",
      "Computing the pearson_baseline similarity matrix...\n",
      "Done computing similarity matrix.\n",
      "Estimating biases using sgd...\n",
      "Computing the pearson_baseline similarity matrix...\n",
      "Done computing similarity matrix.\n",
      "Estimating biases using sgd...\n",
      "Computing the pearson_baseline similarity matrix...\n",
      "Done computing similarity matrix.\n",
      "Estimating biases using sgd...\n",
      "Computing the pearson_baseline similarity matrix...\n",
      "Done computing similarity matrix.\n",
      "Estimating biases using sgd...\n",
      "Computing the pearson_baseline similarity matrix...\n",
      "Done computing similarity matrix.\n",
      "Estimating biases using sgd...\n",
      "Computing the pearson_baseline similarity matrix...\n",
      "Done computing similarity matrix.\n",
      "Estimating biases using sgd...\n",
      "Computing the pearson_baseline similarity matrix...\n",
      "Done computing similarity matrix.\n",
      "Estimating biases using sgd...\n",
      "Computing the pearson_baseline similarity matrix...\n",
      "Done computing similarity matrix.\n"
     ]
    },
    {
     "data": {
      "text/html": [
       "<div>\n",
       "<style scoped>\n",
       "    .dataframe tbody tr th:only-of-type {\n",
       "        vertical-align: middle;\n",
       "    }\n",
       "\n",
       "    .dataframe tbody tr th {\n",
       "        vertical-align: top;\n",
       "    }\n",
       "\n",
       "    .dataframe thead th {\n",
       "        text-align: right;\n",
       "    }\n",
       "</style>\n",
       "<table border=\"1\" class=\"dataframe\">\n",
       "  <thead>\n",
       "    <tr style=\"text-align: right;\">\n",
       "      <th></th>\n",
       "      <th>algorithm</th>\n",
       "      <th>rmse</th>\n",
       "      <th>mape</th>\n",
       "    </tr>\n",
       "  </thead>\n",
       "  <tbody>\n",
       "    <tr>\n",
       "      <td>0</td>\n",
       "      <td>xgb_13_features</td>\n",
       "      <td>0.842627</td>\n",
       "      <td>25.041679</td>\n",
       "    </tr>\n",
       "    <tr>\n",
       "      <td>1</td>\n",
       "      <td>bsl_surprise</td>\n",
       "      <td>1.019674</td>\n",
       "      <td>32.729223</td>\n",
       "    </tr>\n",
       "    <tr>\n",
       "      <td>2</td>\n",
       "      <td>knn_bsl_u</td>\n",
       "      <td>1.004814</td>\n",
       "      <td>31.452556</td>\n",
       "    </tr>\n",
       "    <tr>\n",
       "      <td>3</td>\n",
       "      <td>knn_bsl_m</td>\n",
       "      <td>1.008868</td>\n",
       "      <td>31.401008</td>\n",
       "    </tr>\n",
       "  </tbody>\n",
       "</table>\n",
       "</div>"
      ],
      "text/plain": [
       "         algorithm      rmse       mape\n",
       "0  xgb_13_features  0.842627  25.041679\n",
       "1     bsl_surprise  1.019674  32.729223\n",
       "2        knn_bsl_u  1.004814  31.452556\n",
       "3        knn_bsl_m  1.008868  31.401008"
      ]
     },
     "execution_count": 68,
     "metadata": {},
     "output_type": "execute_result"
    }
   ],
   "source": [
    "sim_options = {'user_based' : False,\n",
    "               'name': 'pearson_baseline',\n",
    "               'shrinkage': 100,\n",
    "               'min_support': 2\n",
    "              } \n",
    "\n",
    "bsl_options = {'method': 'sgd'}\n",
    "\n",
    "knn_m_algo = KNNBaseline(k=40, sim_options = sim_options, bsl_options = bsl_options)\n",
    "\n",
    "add_cols_train3, rmse_knn_m, mape_knn_m = run_surprise(knn_m_algo, train_data, add_cols_train2)\n",
    "\n",
    "knn_m_lst = ['knn_bsl_m', rmse_knn_m, mape_knn_m]\n",
    "\n",
    "add_cols_train3 = add_cols_train3.rename(columns={'y_predictions': 'knn_bsl_m'})\n",
    "\n",
    "# store error metrics\n",
    "kfold_train_results = kfold_train_results.append(pd.Series(knn_m_lst, index = kfold_train_results.columns), ignore_index=True)\n",
    "kfold_train_results"
   ]
  },
  {
   "cell_type": "markdown",
   "metadata": {},
   "source": [
    "#### 2.4.4 Matrix Factorisation\n",
    "\n",
    "The SVD algorithm, when baselines are not used, is equivalent to Probabilistic Matrix Factorisation. It additionally models the user and item biases from users and items. To estimate all the unknown, the regularised squared error is minimised by performing stochastic gradient descent.\n",
    "\n",
    "**2.4.4.1 SVD Matrix Factorisation User-Movie Interactions**"
   ]
  },
  {
   "cell_type": "code",
   "execution_count": 69,
   "metadata": {},
   "outputs": [],
   "source": [
    "from surprise import SVD"
   ]
  },
  {
   "cell_type": "code",
   "execution_count": 70,
   "metadata": {
    "scrolled": true
   },
   "outputs": [
    {
     "name": "stdout",
     "output_type": "stream",
     "text": [
      "Processing epoch 0\n",
      "Processing epoch 1\n",
      "Processing epoch 2\n",
      "Processing epoch 3\n",
      "Processing epoch 4\n",
      "Processing epoch 5\n",
      "Processing epoch 6\n",
      "Processing epoch 7\n",
      "Processing epoch 8\n",
      "Processing epoch 9\n",
      "Processing epoch 10\n",
      "Processing epoch 11\n",
      "Processing epoch 12\n",
      "Processing epoch 13\n",
      "Processing epoch 14\n",
      "Processing epoch 15\n",
      "Processing epoch 16\n",
      "Processing epoch 17\n",
      "Processing epoch 18\n",
      "Processing epoch 19\n",
      "Processing epoch 0\n",
      "Processing epoch 1\n",
      "Processing epoch 2\n",
      "Processing epoch 3\n",
      "Processing epoch 4\n",
      "Processing epoch 5\n",
      "Processing epoch 6\n",
      "Processing epoch 7\n",
      "Processing epoch 8\n",
      "Processing epoch 9\n",
      "Processing epoch 10\n",
      "Processing epoch 11\n",
      "Processing epoch 12\n",
      "Processing epoch 13\n",
      "Processing epoch 14\n",
      "Processing epoch 15\n",
      "Processing epoch 16\n",
      "Processing epoch 17\n",
      "Processing epoch 18\n",
      "Processing epoch 19\n",
      "Processing epoch 0\n",
      "Processing epoch 1\n",
      "Processing epoch 2\n",
      "Processing epoch 3\n",
      "Processing epoch 4\n",
      "Processing epoch 5\n",
      "Processing epoch 6\n",
      "Processing epoch 7\n",
      "Processing epoch 8\n",
      "Processing epoch 9\n",
      "Processing epoch 10\n",
      "Processing epoch 11\n",
      "Processing epoch 12\n",
      "Processing epoch 13\n",
      "Processing epoch 14\n",
      "Processing epoch 15\n",
      "Processing epoch 16\n",
      "Processing epoch 17\n",
      "Processing epoch 18\n",
      "Processing epoch 19\n",
      "Processing epoch 0\n",
      "Processing epoch 1\n",
      "Processing epoch 2\n",
      "Processing epoch 3\n",
      "Processing epoch 4\n",
      "Processing epoch 5\n",
      "Processing epoch 6\n",
      "Processing epoch 7\n",
      "Processing epoch 8\n",
      "Processing epoch 9\n",
      "Processing epoch 10\n",
      "Processing epoch 11\n",
      "Processing epoch 12\n",
      "Processing epoch 13\n",
      "Processing epoch 14\n",
      "Processing epoch 15\n",
      "Processing epoch 16\n",
      "Processing epoch 17\n",
      "Processing epoch 18\n",
      "Processing epoch 19\n",
      "Processing epoch 0\n",
      "Processing epoch 1\n",
      "Processing epoch 2\n",
      "Processing epoch 3\n",
      "Processing epoch 4\n",
      "Processing epoch 5\n",
      "Processing epoch 6\n",
      "Processing epoch 7\n",
      "Processing epoch 8\n",
      "Processing epoch 9\n",
      "Processing epoch 10\n",
      "Processing epoch 11\n",
      "Processing epoch 12\n",
      "Processing epoch 13\n",
      "Processing epoch 14\n",
      "Processing epoch 15\n",
      "Processing epoch 16\n",
      "Processing epoch 17\n",
      "Processing epoch 18\n",
      "Processing epoch 19\n",
      "Processing epoch 0\n",
      "Processing epoch 1\n",
      "Processing epoch 2\n",
      "Processing epoch 3\n",
      "Processing epoch 4\n",
      "Processing epoch 5\n",
      "Processing epoch 6\n",
      "Processing epoch 7\n",
      "Processing epoch 8\n",
      "Processing epoch 9\n",
      "Processing epoch 10\n",
      "Processing epoch 11\n",
      "Processing epoch 12\n",
      "Processing epoch 13\n",
      "Processing epoch 14\n",
      "Processing epoch 15\n",
      "Processing epoch 16\n",
      "Processing epoch 17\n",
      "Processing epoch 18\n",
      "Processing epoch 19\n",
      "Processing epoch 0\n",
      "Processing epoch 1\n",
      "Processing epoch 2\n",
      "Processing epoch 3\n",
      "Processing epoch 4\n",
      "Processing epoch 5\n",
      "Processing epoch 6\n",
      "Processing epoch 7\n",
      "Processing epoch 8\n",
      "Processing epoch 9\n",
      "Processing epoch 10\n",
      "Processing epoch 11\n",
      "Processing epoch 12\n",
      "Processing epoch 13\n",
      "Processing epoch 14\n",
      "Processing epoch 15\n",
      "Processing epoch 16\n",
      "Processing epoch 17\n",
      "Processing epoch 18\n",
      "Processing epoch 19\n",
      "Processing epoch 0\n",
      "Processing epoch 1\n",
      "Processing epoch 2\n",
      "Processing epoch 3\n",
      "Processing epoch 4\n",
      "Processing epoch 5\n",
      "Processing epoch 6\n",
      "Processing epoch 7\n",
      "Processing epoch 8\n",
      "Processing epoch 9\n",
      "Processing epoch 10\n",
      "Processing epoch 11\n",
      "Processing epoch 12\n",
      "Processing epoch 13\n",
      "Processing epoch 14\n",
      "Processing epoch 15\n",
      "Processing epoch 16\n",
      "Processing epoch 17\n",
      "Processing epoch 18\n",
      "Processing epoch 19\n",
      "Processing epoch 0\n",
      "Processing epoch 1\n",
      "Processing epoch 2\n",
      "Processing epoch 3\n",
      "Processing epoch 4\n",
      "Processing epoch 5\n",
      "Processing epoch 6\n",
      "Processing epoch 7\n",
      "Processing epoch 8\n",
      "Processing epoch 9\n",
      "Processing epoch 10\n",
      "Processing epoch 11\n",
      "Processing epoch 12\n",
      "Processing epoch 13\n",
      "Processing epoch 14\n",
      "Processing epoch 15\n",
      "Processing epoch 16\n",
      "Processing epoch 17\n",
      "Processing epoch 18\n",
      "Processing epoch 19\n",
      "Processing epoch 0\n",
      "Processing epoch 1\n",
      "Processing epoch 2\n",
      "Processing epoch 3\n",
      "Processing epoch 4\n",
      "Processing epoch 5\n",
      "Processing epoch 6\n",
      "Processing epoch 7\n",
      "Processing epoch 8\n",
      "Processing epoch 9\n",
      "Processing epoch 10\n",
      "Processing epoch 11\n",
      "Processing epoch 12\n",
      "Processing epoch 13\n",
      "Processing epoch 14\n",
      "Processing epoch 15\n",
      "Processing epoch 16\n",
      "Processing epoch 17\n",
      "Processing epoch 18\n",
      "Processing epoch 19\n"
     ]
    },
    {
     "data": {
      "text/html": [
       "<div>\n",
       "<style scoped>\n",
       "    .dataframe tbody tr th:only-of-type {\n",
       "        vertical-align: middle;\n",
       "    }\n",
       "\n",
       "    .dataframe tbody tr th {\n",
       "        vertical-align: top;\n",
       "    }\n",
       "\n",
       "    .dataframe thead th {\n",
       "        text-align: right;\n",
       "    }\n",
       "</style>\n",
       "<table border=\"1\" class=\"dataframe\">\n",
       "  <thead>\n",
       "    <tr style=\"text-align: right;\">\n",
       "      <th></th>\n",
       "      <th>algorithm</th>\n",
       "      <th>rmse</th>\n",
       "      <th>mape</th>\n",
       "    </tr>\n",
       "  </thead>\n",
       "  <tbody>\n",
       "    <tr>\n",
       "      <td>0</td>\n",
       "      <td>xgb_13_features</td>\n",
       "      <td>0.842627</td>\n",
       "      <td>25.041679</td>\n",
       "    </tr>\n",
       "    <tr>\n",
       "      <td>1</td>\n",
       "      <td>bsl_surprise</td>\n",
       "      <td>1.019674</td>\n",
       "      <td>32.729223</td>\n",
       "    </tr>\n",
       "    <tr>\n",
       "      <td>2</td>\n",
       "      <td>knn_bsl_u</td>\n",
       "      <td>1.004814</td>\n",
       "      <td>31.452556</td>\n",
       "    </tr>\n",
       "    <tr>\n",
       "      <td>3</td>\n",
       "      <td>knn_bsl_m</td>\n",
       "      <td>1.008868</td>\n",
       "      <td>31.401008</td>\n",
       "    </tr>\n",
       "    <tr>\n",
       "      <td>4</td>\n",
       "      <td>svd</td>\n",
       "      <td>1.006655</td>\n",
       "      <td>31.553057</td>\n",
       "    </tr>\n",
       "  </tbody>\n",
       "</table>\n",
       "</div>"
      ],
      "text/plain": [
       "         algorithm      rmse       mape\n",
       "0  xgb_13_features  0.842627  25.041679\n",
       "1     bsl_surprise  1.019674  32.729223\n",
       "2        knn_bsl_u  1.004814  31.452556\n",
       "3        knn_bsl_m  1.008868  31.401008\n",
       "4              svd  1.006655  31.553057"
      ]
     },
     "execution_count": 70,
     "metadata": {},
     "output_type": "execute_result"
    }
   ],
   "source": [
    "# initialise model\n",
    "svd = SVD(n_factors=100, biased=True, random_state=15, verbose=True)\n",
    "add_cols_train4, rmse_svd, mape_svd = run_surprise(svd, train_data, add_cols_train3)\n",
    "\n",
    "svd_lst = ['svd', rmse_svd, mape_svd]\n",
    "\n",
    "add_cols_train4 = add_cols_train4.rename(columns={'y_predictions': 'svd'})\n",
    "\n",
    "# store error metrics\n",
    "kfold_train_results = kfold_train_results.append(pd.Series(svd_lst, index = kfold_train_results.columns), ignore_index=True)\n",
    "kfold_train_results"
   ]
  },
  {
   "cell_type": "markdown",
   "metadata": {},
   "source": [
    "**2.4.4.2 SVD Matrix Factorisation with implicit feedback from user (user-rated movies)**    \n",
    "\n",
    "SVDpp factors the neighborhood model, thus making both item-item and user-user implementations scale linearly with the size of the data."
   ]
  },
  {
   "cell_type": "code",
   "execution_count": 71,
   "metadata": {},
   "outputs": [],
   "source": [
    "from surprise import SVDpp"
   ]
  },
  {
   "cell_type": "code",
   "execution_count": 72,
   "metadata": {
    "scrolled": true
   },
   "outputs": [
    {
     "name": "stdout",
     "output_type": "stream",
     "text": [
      " processing epoch 0\n",
      " processing epoch 1\n",
      " processing epoch 2\n",
      " processing epoch 3\n",
      " processing epoch 4\n",
      " processing epoch 5\n",
      " processing epoch 6\n",
      " processing epoch 7\n",
      " processing epoch 8\n",
      " processing epoch 9\n",
      " processing epoch 10\n",
      " processing epoch 11\n",
      " processing epoch 12\n",
      " processing epoch 13\n",
      " processing epoch 14\n",
      " processing epoch 15\n",
      " processing epoch 16\n",
      " processing epoch 17\n",
      " processing epoch 18\n",
      " processing epoch 19\n",
      " processing epoch 0\n",
      " processing epoch 1\n",
      " processing epoch 2\n",
      " processing epoch 3\n",
      " processing epoch 4\n",
      " processing epoch 5\n",
      " processing epoch 6\n",
      " processing epoch 7\n",
      " processing epoch 8\n",
      " processing epoch 9\n",
      " processing epoch 10\n",
      " processing epoch 11\n",
      " processing epoch 12\n",
      " processing epoch 13\n",
      " processing epoch 14\n",
      " processing epoch 15\n",
      " processing epoch 16\n",
      " processing epoch 17\n",
      " processing epoch 18\n",
      " processing epoch 19\n",
      " processing epoch 0\n",
      " processing epoch 1\n",
      " processing epoch 2\n",
      " processing epoch 3\n",
      " processing epoch 4\n",
      " processing epoch 5\n",
      " processing epoch 6\n",
      " processing epoch 7\n",
      " processing epoch 8\n",
      " processing epoch 9\n",
      " processing epoch 10\n",
      " processing epoch 11\n",
      " processing epoch 12\n",
      " processing epoch 13\n",
      " processing epoch 14\n",
      " processing epoch 15\n",
      " processing epoch 16\n",
      " processing epoch 17\n",
      " processing epoch 18\n",
      " processing epoch 19\n",
      " processing epoch 0\n",
      " processing epoch 1\n",
      " processing epoch 2\n",
      " processing epoch 3\n",
      " processing epoch 4\n",
      " processing epoch 5\n",
      " processing epoch 6\n",
      " processing epoch 7\n",
      " processing epoch 8\n",
      " processing epoch 9\n",
      " processing epoch 10\n",
      " processing epoch 11\n",
      " processing epoch 12\n",
      " processing epoch 13\n",
      " processing epoch 14\n",
      " processing epoch 15\n",
      " processing epoch 16\n",
      " processing epoch 17\n",
      " processing epoch 18\n",
      " processing epoch 19\n",
      " processing epoch 0\n",
      " processing epoch 1\n",
      " processing epoch 2\n",
      " processing epoch 3\n",
      " processing epoch 4\n",
      " processing epoch 5\n",
      " processing epoch 6\n",
      " processing epoch 7\n",
      " processing epoch 8\n",
      " processing epoch 9\n",
      " processing epoch 10\n",
      " processing epoch 11\n",
      " processing epoch 12\n",
      " processing epoch 13\n",
      " processing epoch 14\n",
      " processing epoch 15\n",
      " processing epoch 16\n",
      " processing epoch 17\n",
      " processing epoch 18\n",
      " processing epoch 19\n",
      " processing epoch 0\n",
      " processing epoch 1\n",
      " processing epoch 2\n",
      " processing epoch 3\n",
      " processing epoch 4\n",
      " processing epoch 5\n",
      " processing epoch 6\n",
      " processing epoch 7\n",
      " processing epoch 8\n",
      " processing epoch 9\n",
      " processing epoch 10\n",
      " processing epoch 11\n",
      " processing epoch 12\n",
      " processing epoch 13\n",
      " processing epoch 14\n",
      " processing epoch 15\n",
      " processing epoch 16\n",
      " processing epoch 17\n",
      " processing epoch 18\n",
      " processing epoch 19\n",
      " processing epoch 0\n",
      " processing epoch 1\n",
      " processing epoch 2\n",
      " processing epoch 3\n",
      " processing epoch 4\n",
      " processing epoch 5\n",
      " processing epoch 6\n",
      " processing epoch 7\n",
      " processing epoch 8\n",
      " processing epoch 9\n",
      " processing epoch 10\n",
      " processing epoch 11\n",
      " processing epoch 12\n",
      " processing epoch 13\n",
      " processing epoch 14\n",
      " processing epoch 15\n",
      " processing epoch 16\n",
      " processing epoch 17\n",
      " processing epoch 18\n",
      " processing epoch 19\n",
      " processing epoch 0\n",
      " processing epoch 1\n",
      " processing epoch 2\n",
      " processing epoch 3\n",
      " processing epoch 4\n",
      " processing epoch 5\n",
      " processing epoch 6\n",
      " processing epoch 7\n",
      " processing epoch 8\n",
      " processing epoch 9\n",
      " processing epoch 10\n",
      " processing epoch 11\n",
      " processing epoch 12\n",
      " processing epoch 13\n",
      " processing epoch 14\n",
      " processing epoch 15\n",
      " processing epoch 16\n",
      " processing epoch 17\n",
      " processing epoch 18\n",
      " processing epoch 19\n",
      " processing epoch 0\n",
      " processing epoch 1\n",
      " processing epoch 2\n",
      " processing epoch 3\n",
      " processing epoch 4\n",
      " processing epoch 5\n",
      " processing epoch 6\n",
      " processing epoch 7\n",
      " processing epoch 8\n",
      " processing epoch 9\n",
      " processing epoch 10\n",
      " processing epoch 11\n",
      " processing epoch 12\n",
      " processing epoch 13\n",
      " processing epoch 14\n",
      " processing epoch 15\n",
      " processing epoch 16\n",
      " processing epoch 17\n",
      " processing epoch 18\n",
      " processing epoch 19\n",
      " processing epoch 0\n",
      " processing epoch 1\n",
      " processing epoch 2\n",
      " processing epoch 3\n",
      " processing epoch 4\n",
      " processing epoch 5\n",
      " processing epoch 6\n",
      " processing epoch 7\n",
      " processing epoch 8\n",
      " processing epoch 9\n",
      " processing epoch 10\n",
      " processing epoch 11\n",
      " processing epoch 12\n",
      " processing epoch 13\n",
      " processing epoch 14\n",
      " processing epoch 15\n",
      " processing epoch 16\n",
      " processing epoch 17\n",
      " processing epoch 18\n",
      " processing epoch 19\n"
     ]
    },
    {
     "data": {
      "text/html": [
       "<div>\n",
       "<style scoped>\n",
       "    .dataframe tbody tr th:only-of-type {\n",
       "        vertical-align: middle;\n",
       "    }\n",
       "\n",
       "    .dataframe tbody tr th {\n",
       "        vertical-align: top;\n",
       "    }\n",
       "\n",
       "    .dataframe thead th {\n",
       "        text-align: right;\n",
       "    }\n",
       "</style>\n",
       "<table border=\"1\" class=\"dataframe\">\n",
       "  <thead>\n",
       "    <tr style=\"text-align: right;\">\n",
       "      <th></th>\n",
       "      <th>algorithm</th>\n",
       "      <th>rmse</th>\n",
       "      <th>mape</th>\n",
       "    </tr>\n",
       "  </thead>\n",
       "  <tbody>\n",
       "    <tr>\n",
       "      <td>0</td>\n",
       "      <td>xgb_13_features</td>\n",
       "      <td>0.842627</td>\n",
       "      <td>25.041679</td>\n",
       "    </tr>\n",
       "    <tr>\n",
       "      <td>1</td>\n",
       "      <td>bsl_surprise</td>\n",
       "      <td>1.019674</td>\n",
       "      <td>32.729223</td>\n",
       "    </tr>\n",
       "    <tr>\n",
       "      <td>2</td>\n",
       "      <td>knn_bsl_u</td>\n",
       "      <td>1.004814</td>\n",
       "      <td>31.452556</td>\n",
       "    </tr>\n",
       "    <tr>\n",
       "      <td>3</td>\n",
       "      <td>knn_bsl_m</td>\n",
       "      <td>1.008868</td>\n",
       "      <td>31.401008</td>\n",
       "    </tr>\n",
       "    <tr>\n",
       "      <td>4</td>\n",
       "      <td>svd</td>\n",
       "      <td>1.006655</td>\n",
       "      <td>31.553057</td>\n",
       "    </tr>\n",
       "    <tr>\n",
       "      <td>5</td>\n",
       "      <td>svdpp</td>\n",
       "      <td>1.006912</td>\n",
       "      <td>31.477493</td>\n",
       "    </tr>\n",
       "  </tbody>\n",
       "</table>\n",
       "</div>"
      ],
      "text/plain": [
       "         algorithm      rmse       mape\n",
       "0  xgb_13_features  0.842627  25.041679\n",
       "1     bsl_surprise  1.019674  32.729223\n",
       "2        knn_bsl_u  1.004814  31.452556\n",
       "3        knn_bsl_m  1.008868  31.401008\n",
       "4              svd  1.006655  31.553057\n",
       "5            svdpp  1.006912  31.477493"
      ]
     },
     "execution_count": 72,
     "metadata": {},
     "output_type": "execute_result"
    }
   ],
   "source": [
    "# initialise model\n",
    "svdpp = SVDpp(n_factors=50, random_state=15, verbose=True)\n",
    "\n",
    "add_cols_train5, rmse_svdpp, mape_svdpp = run_surprise(svdpp, train_data, add_cols_train4)\n",
    "\n",
    "svdpp_lst = ['svdpp', rmse_svdpp, mape_svdpp]\n",
    "\n",
    "add_cols_train5 = add_cols_train5.rename(columns={'y_predictions': 'svdpp'})\n",
    "\n",
    "# store error metrics\n",
    "kfold_train_results = kfold_train_results.append(pd.Series(svdpp_lst, index = kfold_train_results.columns), ignore_index=True)\n",
    "kfold_train_results"
   ]
  },
  {
   "cell_type": "markdown",
   "metadata": {},
   "source": [
    "#### 2.4.5 Enhancing XGBoost\n",
    "\n",
    "Now that additional features have been generated through Surprise, these can be included within the x training set to see if it improves the XGBoost performance on the data. The following combinations will be trialled using the training set and kfold:\n",
    "+ All Surprise features\n",
    "+ 13 features and all Surprise features\n",
    "+ 13 features and BaselineOnly\n",
    "+ 13 features and KNN features\n",
    "+ 13 features and Matrix Factorisation features\n",
    "+ 13 features, BaselineOnly and Matrix Factorisation features\n",
    "+ 13 features, KNN and Matrix Factorisation features\n",
    "+ 13 features, KNN and BaselineOnly features\n",
    "\n",
    "This will use the predictions generated for the train set resulting from K-fold cross validation; if the predictions for the train set were generated following training of the model on the entire training set, as the model has seen the data, this would mean predictions are likely to be more accurate than they would be on unseen data, and would thus be more likely to overfit to the training data, and reduce performance on the test set. By making predictions on the training data through kfold, the predictions are on unseen data and so will be closer to those predictions generated for the test data set, hopefully making the model more generalisable to unseen data.\n",
    "\n",
    "Bias has likely still entered through the KFold cross validation prediction generation as the similarity scores within the train set can be known, whereas those for the test data are based off of the train data."
   ]
  },
  {
   "cell_type": "code",
   "execution_count": 73,
   "metadata": {},
   "outputs": [
    {
     "data": {
      "text/html": [
       "<div>\n",
       "<style scoped>\n",
       "    .dataframe tbody tr th:only-of-type {\n",
       "        vertical-align: middle;\n",
       "    }\n",
       "\n",
       "    .dataframe tbody tr th {\n",
       "        vertical-align: top;\n",
       "    }\n",
       "\n",
       "    .dataframe thead th {\n",
       "        text-align: right;\n",
       "    }\n",
       "</style>\n",
       "<table border=\"1\" class=\"dataframe\">\n",
       "  <thead>\n",
       "    <tr style=\"text-align: right;\">\n",
       "      <th></th>\n",
       "      <th>GAvg</th>\n",
       "      <th>sur1</th>\n",
       "      <th>sur2</th>\n",
       "      <th>sur3</th>\n",
       "      <th>sur4</th>\n",
       "      <th>sur5</th>\n",
       "      <th>smr1</th>\n",
       "      <th>smr2</th>\n",
       "      <th>smr3</th>\n",
       "      <th>smr4</th>\n",
       "      <th>smr5</th>\n",
       "      <th>UAvg</th>\n",
       "      <th>MAvg</th>\n",
       "      <th>bsl_pred</th>\n",
       "      <th>knn_bsl_u</th>\n",
       "      <th>knn_bsl_m</th>\n",
       "      <th>svd</th>\n",
       "      <th>svdpp</th>\n",
       "    </tr>\n",
       "  </thead>\n",
       "  <tbody>\n",
       "    <tr>\n",
       "      <td>0</td>\n",
       "      <td>3.581679</td>\n",
       "      <td>4.0</td>\n",
       "      <td>5.0</td>\n",
       "      <td>5.0</td>\n",
       "      <td>4.0</td>\n",
       "      <td>1.0</td>\n",
       "      <td>5.0</td>\n",
       "      <td>2.0</td>\n",
       "      <td>5.0</td>\n",
       "      <td>3.0</td>\n",
       "      <td>1.0</td>\n",
       "      <td>3.370370</td>\n",
       "      <td>4.092437</td>\n",
       "      <td>3.479352</td>\n",
       "      <td>3.403231</td>\n",
       "      <td>3.403231</td>\n",
       "      <td>3.480531</td>\n",
       "      <td>3.549828</td>\n",
       "    </tr>\n",
       "    <tr>\n",
       "      <td>1</td>\n",
       "      <td>3.581679</td>\n",
       "      <td>5.0</td>\n",
       "      <td>5.0</td>\n",
       "      <td>5.0</td>\n",
       "      <td>4.0</td>\n",
       "      <td>5.0</td>\n",
       "      <td>3.0</td>\n",
       "      <td>4.0</td>\n",
       "      <td>4.0</td>\n",
       "      <td>3.0</td>\n",
       "      <td>5.0</td>\n",
       "      <td>3.555556</td>\n",
       "      <td>4.092437</td>\n",
       "      <td>3.560876</td>\n",
       "      <td>3.466196</td>\n",
       "      <td>3.466196</td>\n",
       "      <td>3.428499</td>\n",
       "      <td>3.483650</td>\n",
       "    </tr>\n",
       "    <tr>\n",
       "      <td>2</td>\n",
       "      <td>3.581679</td>\n",
       "      <td>5.0</td>\n",
       "      <td>5.0</td>\n",
       "      <td>4.0</td>\n",
       "      <td>5.0</td>\n",
       "      <td>3.0</td>\n",
       "      <td>5.0</td>\n",
       "      <td>4.0</td>\n",
       "      <td>4.0</td>\n",
       "      <td>5.0</td>\n",
       "      <td>4.0</td>\n",
       "      <td>3.714286</td>\n",
       "      <td>4.092437</td>\n",
       "      <td>3.685781</td>\n",
       "      <td>3.725061</td>\n",
       "      <td>3.725061</td>\n",
       "      <td>3.637396</td>\n",
       "      <td>3.676326</td>\n",
       "    </tr>\n",
       "    <tr>\n",
       "      <td>3</td>\n",
       "      <td>3.581679</td>\n",
       "      <td>2.0</td>\n",
       "      <td>3.0</td>\n",
       "      <td>5.0</td>\n",
       "      <td>5.0</td>\n",
       "      <td>4.0</td>\n",
       "      <td>4.0</td>\n",
       "      <td>3.0</td>\n",
       "      <td>3.0</td>\n",
       "      <td>4.0</td>\n",
       "      <td>5.0</td>\n",
       "      <td>3.584416</td>\n",
       "      <td>4.092437</td>\n",
       "      <td>3.624363</td>\n",
       "      <td>3.671701</td>\n",
       "      <td>3.671701</td>\n",
       "      <td>3.632480</td>\n",
       "      <td>3.538204</td>\n",
       "    </tr>\n",
       "    <tr>\n",
       "      <td>4</td>\n",
       "      <td>3.581679</td>\n",
       "      <td>5.0</td>\n",
       "      <td>5.0</td>\n",
       "      <td>5.0</td>\n",
       "      <td>5.0</td>\n",
       "      <td>5.0</td>\n",
       "      <td>3.0</td>\n",
       "      <td>5.0</td>\n",
       "      <td>5.0</td>\n",
       "      <td>5.0</td>\n",
       "      <td>3.0</td>\n",
       "      <td>3.750000</td>\n",
       "      <td>4.092437</td>\n",
       "      <td>3.569712</td>\n",
       "      <td>3.501260</td>\n",
       "      <td>3.501260</td>\n",
       "      <td>3.492751</td>\n",
       "      <td>3.543125</td>\n",
       "    </tr>\n",
       "  </tbody>\n",
       "</table>\n",
       "</div>"
      ],
      "text/plain": [
       "       GAvg  sur1  sur2  sur3  sur4  sur5  smr1  smr2  smr3  smr4  smr5  \\\n",
       "0  3.581679   4.0   5.0   5.0   4.0   1.0   5.0   2.0   5.0   3.0   1.0   \n",
       "1  3.581679   5.0   5.0   5.0   4.0   5.0   3.0   4.0   4.0   3.0   5.0   \n",
       "2  3.581679   5.0   5.0   4.0   5.0   3.0   5.0   4.0   4.0   5.0   4.0   \n",
       "3  3.581679   2.0   3.0   5.0   5.0   4.0   4.0   3.0   3.0   4.0   5.0   \n",
       "4  3.581679   5.0   5.0   5.0   5.0   5.0   3.0   5.0   5.0   5.0   3.0   \n",
       "\n",
       "       UAvg      MAvg  bsl_pred  knn_bsl_u  knn_bsl_m       svd     svdpp  \n",
       "0  3.370370  4.092437  3.479352   3.403231   3.403231  3.480531  3.549828  \n",
       "1  3.555556  4.092437  3.560876   3.466196   3.466196  3.428499  3.483650  \n",
       "2  3.714286  4.092437  3.685781   3.725061   3.725061  3.637396  3.676326  \n",
       "3  3.584416  4.092437  3.624363   3.671701   3.671701  3.632480  3.538204  \n",
       "4  3.750000  4.092437  3.569712   3.501260   3.501260  3.492751  3.543125  "
      ]
     },
     "execution_count": 73,
     "metadata": {},
     "output_type": "execute_result"
    }
   ],
   "source": [
    "add_cols_train5.head()"
   ]
  },
  {
   "cell_type": "markdown",
   "metadata": {},
   "source": [
    "**2.4.5.1 XGBoost with Surprise predictions only**"
   ]
  },
  {
   "cell_type": "code",
   "execution_count": 75,
   "metadata": {},
   "outputs": [
    {
     "name": "stdout",
     "output_type": "stream",
     "text": [
      "Tuning parameters: \n",
      "\n",
      "{'colsample_bytree': 0.7302065014679269, 'gamma': 0.002583173905988181, 'learning_rate': 0.053080673819263666, 'max_depth': 3, 'min_child_weight': 7, 'n_estimators': 495, 'reg_alpha': 137, 'reg_lambda': 26, 'subsample': 0.7920856054423232}\n"
     ]
    }
   ],
   "source": [
    "# prepare train data\n",
    "x_train = add_cols_train5[['bsl_pred', 'knn_bsl_u', 'knn_bsl_m', 'svd', 'svdpp']]\n",
    "y_train = reg_train['rating']\n",
    "\n",
    "params = {'learning_rate' :stats.uniform(0.01,0.2),\n",
    "             'n_estimators':sp_randint(100,1000),\n",
    "             'max_depth':sp_randint(1,10),\n",
    "             'min_child_weight':sp_randint(1,8),\n",
    "             'gamma':stats.uniform(0,0.02),\n",
    "             'subsample':stats.uniform(0.6,0.4),\n",
    "             'reg_alpha':sp_randint(0,200),\n",
    "             'reg_lambda':sp_randint(0,200),\n",
    "             'colsample_bytree':stats.uniform(0.6,0.3)}\n",
    "\n",
    "xgbreg = xgb.XGBRegressor(silent=True, n_jobs=13, random_state=15)\n",
    "start = datetime.now()\n",
    "print('Tuning parameters: \\n')\n",
    "xgb_best = RandomizedSearchCV(xgbreg, params, refit = False, scoring = \"neg_mean_squared_error\", cv = 3)\n",
    "xgb_best.fit(x_train, y_train)\n",
    "best_para = xgb_best.best_params_\n",
    "print(best_para)"
   ]
  },
  {
   "cell_type": "code",
   "execution_count": 76,
   "metadata": {},
   "outputs": [
    {
     "data": {
      "text/html": [
       "<div>\n",
       "<style scoped>\n",
       "    .dataframe tbody tr th:only-of-type {\n",
       "        vertical-align: middle;\n",
       "    }\n",
       "\n",
       "    .dataframe tbody tr th {\n",
       "        vertical-align: top;\n",
       "    }\n",
       "\n",
       "    .dataframe thead th {\n",
       "        text-align: right;\n",
       "    }\n",
       "</style>\n",
       "<table border=\"1\" class=\"dataframe\">\n",
       "  <thead>\n",
       "    <tr style=\"text-align: right;\">\n",
       "      <th></th>\n",
       "      <th>algorithm</th>\n",
       "      <th>rmse</th>\n",
       "      <th>mape</th>\n",
       "    </tr>\n",
       "  </thead>\n",
       "  <tbody>\n",
       "    <tr>\n",
       "      <td>0</td>\n",
       "      <td>xgb_13_features</td>\n",
       "      <td>0.842627</td>\n",
       "      <td>25.041679</td>\n",
       "    </tr>\n",
       "    <tr>\n",
       "      <td>1</td>\n",
       "      <td>bsl_surprise</td>\n",
       "      <td>1.019674</td>\n",
       "      <td>32.729223</td>\n",
       "    </tr>\n",
       "    <tr>\n",
       "      <td>2</td>\n",
       "      <td>knn_bsl_u</td>\n",
       "      <td>1.004814</td>\n",
       "      <td>31.452556</td>\n",
       "    </tr>\n",
       "    <tr>\n",
       "      <td>3</td>\n",
       "      <td>knn_bsl_m</td>\n",
       "      <td>1.008868</td>\n",
       "      <td>31.401008</td>\n",
       "    </tr>\n",
       "    <tr>\n",
       "      <td>4</td>\n",
       "      <td>svd</td>\n",
       "      <td>1.006655</td>\n",
       "      <td>31.553057</td>\n",
       "    </tr>\n",
       "    <tr>\n",
       "      <td>5</td>\n",
       "      <td>svdpp</td>\n",
       "      <td>1.006912</td>\n",
       "      <td>31.477493</td>\n",
       "    </tr>\n",
       "    <tr>\n",
       "      <td>6</td>\n",
       "      <td>xgb_surprise_only</td>\n",
       "      <td>1.003360</td>\n",
       "      <td>31.688790</td>\n",
       "    </tr>\n",
       "  </tbody>\n",
       "</table>\n",
       "</div>"
      ],
      "text/plain": [
       "           algorithm      rmse       mape\n",
       "0    xgb_13_features  0.842627  25.041679\n",
       "1       bsl_surprise  1.019674  32.729223\n",
       "2          knn_bsl_u  1.004814  31.452556\n",
       "3          knn_bsl_m  1.008868  31.401008\n",
       "4                svd  1.006655  31.553057\n",
       "5              svdpp  1.006912  31.477493\n",
       "6  xgb_surprise_only  1.003360  31.688790"
      ]
     },
     "execution_count": 76,
     "metadata": {},
     "output_type": "execute_result"
    }
   ],
   "source": [
    "xgb_all_surprise = xgbreg.set_params(**best_para)\n",
    "xgb_surprise_results, xgb_surprise_rmse, xgb_surprise_mape = run_xgboost(xgb_all_surprise, x_train, y_train)\n",
    "\n",
    "# store results in df\n",
    "xgb_surprise_results = ['xgb_surprise_only', xgb_surprise_rmse, xgb_surprise_mape]\n",
    "kfold_train_results = kfold_train_results.append(pd.Series(xgb_surprise_results, index = kfold_train_results.columns), ignore_index=True)\n",
    "kfold_train_results"
   ]
  },
  {
   "cell_type": "code",
   "execution_count": 77,
   "metadata": {},
   "outputs": [
    {
     "data": {
      "image/png": "[encoded data removed]",
      "text/plain": [
       "<Figure size 432x288 with 1 Axes>"
      ]
     },
     "metadata": {
      "needs_background": "light"
     },
     "output_type": "display_data"
    }
   ],
   "source": [
    "xgb.plot_importance(xgb_all_surprise)\n",
    "plt.show()"
   ]
  },
  {
   "cell_type": "markdown",
   "metadata": {},
   "source": [
    "The above RMSE and MAPE values shows that using XGBoost on Surprise-generated predictions only is an improvement on the scores obtained for the Surprise predictions alone. Now we will see if adding these features to the 13 features results in a futher improvement to the XGBoost performance."
   ]
  },
  {
   "cell_type": "markdown",
   "metadata": {},
   "source": [
    "**2.4.5.2 XGBoost with 13 features and BaselineOnly**"
   ]
  },
  {
   "cell_type": "code",
   "execution_count": 82,
   "metadata": {},
   "outputs": [
    {
     "name": "stdout",
     "output_type": "stream",
     "text": [
      "Tuning parameters: \n",
      "\n",
      "{'colsample_bytree': 0.7329005313787988, 'gamma': 0.014417086291996053, 'learning_rate': 0.08095821306018394, 'max_depth': 6, 'min_child_weight': 5, 'n_estimators': 794, 'reg_alpha': 74, 'reg_lambda': 86, 'subsample': 0.9849941844116756}\n"
     ]
    }
   ],
   "source": [
    "# prepare train data\n",
    "x_train = add_cols_train5.drop(['knn_bsl_u', 'knn_bsl_m', 'svd', 'svdpp'], axis=1)\n",
    "y_train = reg_train['rating']\n",
    "\n",
    "params = {'learning_rate' :stats.uniform(0.01,0.2),\n",
    "             'n_estimators':sp_randint(100,1000),\n",
    "             'max_depth':sp_randint(1,10),\n",
    "             'min_child_weight':sp_randint(1,8),\n",
    "             'gamma':stats.uniform(0,0.02),\n",
    "             'subsample':stats.uniform(0.6,0.4),\n",
    "             'reg_alpha':sp_randint(0,200),\n",
    "             'reg_lambda':sp_randint(0,200),\n",
    "             'colsample_bytree':stats.uniform(0.6,0.3)}\n",
    "\n",
    "xgbreg = xgb.XGBRegressor(silent=True, n_jobs=13, random_state=15)\n",
    "start = datetime.now()\n",
    "print('Tuning parameters: \\n')\n",
    "xgb_best = RandomizedSearchCV(xgbreg, params, refit = False, scoring = \"neg_mean_squared_error\", cv = 3)\n",
    "xgb_best.fit(x_train, y_train)\n",
    "best_para = xgb_best.best_params_\n",
    "print(best_para)"
   ]
  },
  {
   "cell_type": "code",
   "execution_count": 83,
   "metadata": {},
   "outputs": [
    {
     "data": {
      "text/html": [
       "<div>\n",
       "<style scoped>\n",
       "    .dataframe tbody tr th:only-of-type {\n",
       "        vertical-align: middle;\n",
       "    }\n",
       "\n",
       "    .dataframe tbody tr th {\n",
       "        vertical-align: top;\n",
       "    }\n",
       "\n",
       "    .dataframe thead th {\n",
       "        text-align: right;\n",
       "    }\n",
       "</style>\n",
       "<table border=\"1\" class=\"dataframe\">\n",
       "  <thead>\n",
       "    <tr style=\"text-align: right;\">\n",
       "      <th></th>\n",
       "      <th>algorithm</th>\n",
       "      <th>rmse</th>\n",
       "      <th>mape</th>\n",
       "    </tr>\n",
       "  </thead>\n",
       "  <tbody>\n",
       "    <tr>\n",
       "      <td>0</td>\n",
       "      <td>xgb_13_features</td>\n",
       "      <td>0.842627</td>\n",
       "      <td>25.041679</td>\n",
       "    </tr>\n",
       "    <tr>\n",
       "      <td>1</td>\n",
       "      <td>bsl_surprise</td>\n",
       "      <td>1.019674</td>\n",
       "      <td>32.729223</td>\n",
       "    </tr>\n",
       "    <tr>\n",
       "      <td>2</td>\n",
       "      <td>knn_bsl_u</td>\n",
       "      <td>1.004814</td>\n",
       "      <td>31.452556</td>\n",
       "    </tr>\n",
       "    <tr>\n",
       "      <td>3</td>\n",
       "      <td>knn_bsl_m</td>\n",
       "      <td>1.008868</td>\n",
       "      <td>31.401008</td>\n",
       "    </tr>\n",
       "    <tr>\n",
       "      <td>4</td>\n",
       "      <td>svd</td>\n",
       "      <td>1.006655</td>\n",
       "      <td>31.553057</td>\n",
       "    </tr>\n",
       "    <tr>\n",
       "      <td>5</td>\n",
       "      <td>svdpp</td>\n",
       "      <td>1.006912</td>\n",
       "      <td>31.477493</td>\n",
       "    </tr>\n",
       "    <tr>\n",
       "      <td>6</td>\n",
       "      <td>xgb_surprise_only</td>\n",
       "      <td>1.003360</td>\n",
       "      <td>31.688790</td>\n",
       "    </tr>\n",
       "    <tr>\n",
       "      <td>7</td>\n",
       "      <td>xgb_all</td>\n",
       "      <td>0.830989</td>\n",
       "      <td>24.706597</td>\n",
       "    </tr>\n",
       "    <tr>\n",
       "      <td>8</td>\n",
       "      <td>xgb_bsl</td>\n",
       "      <td>0.828816</td>\n",
       "      <td>24.537363</td>\n",
       "    </tr>\n",
       "  </tbody>\n",
       "</table>\n",
       "</div>"
      ],
      "text/plain": [
       "           algorithm      rmse       mape\n",
       "0    xgb_13_features  0.842627  25.041679\n",
       "1       bsl_surprise  1.019674  32.729223\n",
       "2          knn_bsl_u  1.004814  31.452556\n",
       "3          knn_bsl_m  1.008868  31.401008\n",
       "4                svd  1.006655  31.553057\n",
       "5              svdpp  1.006912  31.477493\n",
       "6  xgb_surprise_only  1.003360  31.688790\n",
       "7            xgb_all  0.830989  24.706597\n",
       "8            xgb_bsl  0.828816  24.537363"
      ]
     },
     "execution_count": 83,
     "metadata": {},
     "output_type": "execute_result"
    }
   ],
   "source": [
    "xgb_bsl = xgbreg.set_params(**best_para)\n",
    "xgb_bsl_results, xgb_bsl_rmse, xgb_bsl_mape = run_xgboost(xgb_bsl, x_train, y_train)\n",
    "\n",
    "# store results in df\n",
    "xgb_bsl_lst = ['xgb_bsl', xgb_bsl_rmse, xgb_bsl_mape]\n",
    "kfold_train_results = kfold_train_results.append(pd.Series(xgb_bsl_lst, index = kfold_train_results.columns), ignore_index=True)\n",
    "kfold_train_results"
   ]
  },
  {
   "cell_type": "code",
   "execution_count": 85,
   "metadata": {},
   "outputs": [
    {
     "data": {
      "image/png": "[encoded data removed]",
      "text/plain": [
       "<Figure size 432x288 with 1 Axes>"
      ]
     },
     "metadata": {
      "needs_background": "light"
     },
     "output_type": "display_data"
    }
   ],
   "source": [
    "xgb.plot_importance(xgb_bsl)\n",
    "plt.show()"
   ]
  },
  {
   "cell_type": "markdown",
   "metadata": {},
   "source": [
    "**2.4.5.3 XGBoost with 13 features and KNN features**"
   ]
  },
  {
   "cell_type": "code",
   "execution_count": 86,
   "metadata": {},
   "outputs": [
    {
     "name": "stdout",
     "output_type": "stream",
     "text": [
      "Tuning parameters: \n",
      "\n",
      "{'colsample_bytree': 0.6327461928865011, 'gamma': 0.016471909528871006, 'learning_rate': 0.047068284900700114, 'max_depth': 7, 'min_child_weight': 4, 'n_estimators': 867, 'reg_alpha': 144, 'reg_lambda': 61, 'subsample': 0.9766104604819289}\n"
     ]
    }
   ],
   "source": [
    "# prepare train data\n",
    "x_train = add_cols_train5.drop(['bsl_pred', 'svd', 'svdpp'], axis=1)\n",
    "y_train = reg_train['rating']\n",
    "\n",
    "params = {'learning_rate' :stats.uniform(0.01,0.2),\n",
    "             'n_estimators':sp_randint(100,1000),\n",
    "             'max_depth':sp_randint(1,10),\n",
    "             'min_child_weight':sp_randint(1,8),\n",
    "             'gamma':stats.uniform(0,0.02),\n",
    "             'subsample':stats.uniform(0.6,0.4),\n",
    "             'reg_alpha':sp_randint(0,200),\n",
    "             'reg_lambda':sp_randint(0,200),\n",
    "             'colsample_bytree':stats.uniform(0.6,0.3)}\n",
    "\n",
    "xgbreg = xgb.XGBRegressor(silent=True, n_jobs=13, random_state=15)\n",
    "start = datetime.now()\n",
    "print('Tuning parameters: \\n')\n",
    "xgb_best = RandomizedSearchCV(xgbreg, params, refit = False, scoring = \"neg_mean_squared_error\", cv = 3)\n",
    "xgb_best.fit(x_train, y_train)\n",
    "best_para = xgb_best.best_params_\n",
    "print(best_para)"
   ]
  },
  {
   "cell_type": "code",
   "execution_count": 87,
   "metadata": {},
   "outputs": [
    {
     "data": {
      "text/html": [
       "<div>\n",
       "<style scoped>\n",
       "    .dataframe tbody tr th:only-of-type {\n",
       "        vertical-align: middle;\n",
       "    }\n",
       "\n",
       "    .dataframe tbody tr th {\n",
       "        vertical-align: top;\n",
       "    }\n",
       "\n",
       "    .dataframe thead th {\n",
       "        text-align: right;\n",
       "    }\n",
       "</style>\n",
       "<table border=\"1\" class=\"dataframe\">\n",
       "  <thead>\n",
       "    <tr style=\"text-align: right;\">\n",
       "      <th></th>\n",
       "      <th>algorithm</th>\n",
       "      <th>rmse</th>\n",
       "      <th>mape</th>\n",
       "    </tr>\n",
       "  </thead>\n",
       "  <tbody>\n",
       "    <tr>\n",
       "      <td>0</td>\n",
       "      <td>xgb_13_features</td>\n",
       "      <td>0.842627</td>\n",
       "      <td>25.041679</td>\n",
       "    </tr>\n",
       "    <tr>\n",
       "      <td>1</td>\n",
       "      <td>bsl_surprise</td>\n",
       "      <td>1.019674</td>\n",
       "      <td>32.729223</td>\n",
       "    </tr>\n",
       "    <tr>\n",
       "      <td>2</td>\n",
       "      <td>knn_bsl_u</td>\n",
       "      <td>1.004814</td>\n",
       "      <td>31.452556</td>\n",
       "    </tr>\n",
       "    <tr>\n",
       "      <td>3</td>\n",
       "      <td>knn_bsl_m</td>\n",
       "      <td>1.008868</td>\n",
       "      <td>31.401008</td>\n",
       "    </tr>\n",
       "    <tr>\n",
       "      <td>4</td>\n",
       "      <td>svd</td>\n",
       "      <td>1.006655</td>\n",
       "      <td>31.553057</td>\n",
       "    </tr>\n",
       "    <tr>\n",
       "      <td>5</td>\n",
       "      <td>svdpp</td>\n",
       "      <td>1.006912</td>\n",
       "      <td>31.477493</td>\n",
       "    </tr>\n",
       "    <tr>\n",
       "      <td>6</td>\n",
       "      <td>xgb_surprise_only</td>\n",
       "      <td>1.003360</td>\n",
       "      <td>31.688790</td>\n",
       "    </tr>\n",
       "    <tr>\n",
       "      <td>7</td>\n",
       "      <td>xgb_all</td>\n",
       "      <td>0.830989</td>\n",
       "      <td>24.706597</td>\n",
       "    </tr>\n",
       "    <tr>\n",
       "      <td>8</td>\n",
       "      <td>xgb_bsl</td>\n",
       "      <td>0.828816</td>\n",
       "      <td>24.537363</td>\n",
       "    </tr>\n",
       "    <tr>\n",
       "      <td>9</td>\n",
       "      <td>xgb_knn</td>\n",
       "      <td>0.837235</td>\n",
       "      <td>24.938951</td>\n",
       "    </tr>\n",
       "  </tbody>\n",
       "</table>\n",
       "</div>"
      ],
      "text/plain": [
       "           algorithm      rmse       mape\n",
       "0    xgb_13_features  0.842627  25.041679\n",
       "1       bsl_surprise  1.019674  32.729223\n",
       "2          knn_bsl_u  1.004814  31.452556\n",
       "3          knn_bsl_m  1.008868  31.401008\n",
       "4                svd  1.006655  31.553057\n",
       "5              svdpp  1.006912  31.477493\n",
       "6  xgb_surprise_only  1.003360  31.688790\n",
       "7            xgb_all  0.830989  24.706597\n",
       "8            xgb_bsl  0.828816  24.537363\n",
       "9            xgb_knn  0.837235  24.938951"
      ]
     },
     "execution_count": 87,
     "metadata": {},
     "output_type": "execute_result"
    }
   ],
   "source": [
    "xgb_knn = xgbreg.set_params(**best_para)\n",
    "xgb_knn_results, xgb_knn_rmse, xgb_knn_mape = run_xgboost(xgb_knn, x_train, y_train)\n",
    "\n",
    "# store results in df\n",
    "xgb_knn_lst = ['xgb_knn', xgb_knn_rmse, xgb_knn_mape]\n",
    "kfold_train_results = kfold_train_results.append(pd.Series(xgb_knn_lst, index = kfold_train_results.columns), ignore_index=True)\n",
    "kfold_train_results"
   ]
  },
  {
   "cell_type": "code",
   "execution_count": 88,
   "metadata": {},
   "outputs": [
    {
     "data": {
      "image/png": "[encoded data removed]",
      "text/plain": [
       "<Figure size 432x288 with 1 Axes>"
      ]
     },
     "metadata": {
      "needs_background": "light"
     },
     "output_type": "display_data"
    }
   ],
   "source": [
    "xgb.plot_importance(xgb_knn)\n",
    "plt.show()"
   ]
  },
  {
   "cell_type": "markdown",
   "metadata": {},
   "source": [
    "**2.4.5.4 XGBoost with 13 features and Matrix Factorisation features**"
   ]
  },
  {
   "cell_type": "code",
   "execution_count": 89,
   "metadata": {},
   "outputs": [
    {
     "name": "stdout",
     "output_type": "stream",
     "text": [
      "Tuning parameters: \n",
      "\n",
      "{'colsample_bytree': 0.8821131761924837, 'gamma': 0.0025637321642454024, 'learning_rate': 0.04261209034545674, 'max_depth': 9, 'min_child_weight': 5, 'n_estimators': 586, 'reg_alpha': 19, 'reg_lambda': 119, 'subsample': 0.727632275441892}\n"
     ]
    }
   ],
   "source": [
    "# prepare train data\n",
    "x_train = add_cols_train5.drop(['bsl_pred', 'knn_bsl_u', 'knn_bsl_m'], axis=1)\n",
    "y_train = reg_train['rating']\n",
    "\n",
    "params = {'learning_rate' :stats.uniform(0.01,0.2),\n",
    "             'n_estimators':sp_randint(100,1000),\n",
    "             'max_depth':sp_randint(1,10),\n",
    "             'min_child_weight':sp_randint(1,8),\n",
    "             'gamma':stats.uniform(0,0.02),\n",
    "             'subsample':stats.uniform(0.6,0.4),\n",
    "             'reg_alpha':sp_randint(0,200),\n",
    "             'reg_lambda':sp_randint(0,200),\n",
    "             'colsample_bytree':stats.uniform(0.6,0.3)}\n",
    "\n",
    "xgbreg = xgb.XGBRegressor(silent=True, n_jobs=13, random_state=15)\n",
    "start = datetime.now()\n",
    "print('Tuning parameters: \\n')\n",
    "xgb_best = RandomizedSearchCV(xgbreg, params, refit = False, scoring = \"neg_mean_squared_error\", cv = 3)\n",
    "xgb_best.fit(x_train, y_train)\n",
    "best_para = xgb_best.best_params_\n",
    "print(best_para)"
   ]
  },
  {
   "cell_type": "code",
   "execution_count": 90,
   "metadata": {},
   "outputs": [
    {
     "data": {
      "text/html": [
       "<div>\n",
       "<style scoped>\n",
       "    .dataframe tbody tr th:only-of-type {\n",
       "        vertical-align: middle;\n",
       "    }\n",
       "\n",
       "    .dataframe tbody tr th {\n",
       "        vertical-align: top;\n",
       "    }\n",
       "\n",
       "    .dataframe thead th {\n",
       "        text-align: right;\n",
       "    }\n",
       "</style>\n",
       "<table border=\"1\" class=\"dataframe\">\n",
       "  <thead>\n",
       "    <tr style=\"text-align: right;\">\n",
       "      <th></th>\n",
       "      <th>algorithm</th>\n",
       "      <th>rmse</th>\n",
       "      <th>mape</th>\n",
       "    </tr>\n",
       "  </thead>\n",
       "  <tbody>\n",
       "    <tr>\n",
       "      <td>0</td>\n",
       "      <td>xgb_13_features</td>\n",
       "      <td>0.842627</td>\n",
       "      <td>25.041679</td>\n",
       "    </tr>\n",
       "    <tr>\n",
       "      <td>1</td>\n",
       "      <td>bsl_surprise</td>\n",
       "      <td>1.019674</td>\n",
       "      <td>32.729223</td>\n",
       "    </tr>\n",
       "    <tr>\n",
       "      <td>2</td>\n",
       "      <td>knn_bsl_u</td>\n",
       "      <td>1.004814</td>\n",
       "      <td>31.452556</td>\n",
       "    </tr>\n",
       "    <tr>\n",
       "      <td>3</td>\n",
       "      <td>knn_bsl_m</td>\n",
       "      <td>1.008868</td>\n",
       "      <td>31.401008</td>\n",
       "    </tr>\n",
       "    <tr>\n",
       "      <td>4</td>\n",
       "      <td>svd</td>\n",
       "      <td>1.006655</td>\n",
       "      <td>31.553057</td>\n",
       "    </tr>\n",
       "    <tr>\n",
       "      <td>5</td>\n",
       "      <td>svdpp</td>\n",
       "      <td>1.006912</td>\n",
       "      <td>31.477493</td>\n",
       "    </tr>\n",
       "    <tr>\n",
       "      <td>6</td>\n",
       "      <td>xgb_surprise_only</td>\n",
       "      <td>1.003360</td>\n",
       "      <td>31.688790</td>\n",
       "    </tr>\n",
       "    <tr>\n",
       "      <td>7</td>\n",
       "      <td>xgb_all</td>\n",
       "      <td>0.830989</td>\n",
       "      <td>24.706597</td>\n",
       "    </tr>\n",
       "    <tr>\n",
       "      <td>8</td>\n",
       "      <td>xgb_bsl</td>\n",
       "      <td>0.828816</td>\n",
       "      <td>24.537363</td>\n",
       "    </tr>\n",
       "    <tr>\n",
       "      <td>9</td>\n",
       "      <td>xgb_knn</td>\n",
       "      <td>0.837235</td>\n",
       "      <td>24.938951</td>\n",
       "    </tr>\n",
       "    <tr>\n",
       "      <td>10</td>\n",
       "      <td>xgb_mf</td>\n",
       "      <td>0.828671</td>\n",
       "      <td>24.464107</td>\n",
       "    </tr>\n",
       "  </tbody>\n",
       "</table>\n",
       "</div>"
      ],
      "text/plain": [
       "            algorithm      rmse       mape\n",
       "0     xgb_13_features  0.842627  25.041679\n",
       "1        bsl_surprise  1.019674  32.729223\n",
       "2           knn_bsl_u  1.004814  31.452556\n",
       "3           knn_bsl_m  1.008868  31.401008\n",
       "4                 svd  1.006655  31.553057\n",
       "5               svdpp  1.006912  31.477493\n",
       "6   xgb_surprise_only  1.003360  31.688790\n",
       "7             xgb_all  0.830989  24.706597\n",
       "8             xgb_bsl  0.828816  24.537363\n",
       "9             xgb_knn  0.837235  24.938951\n",
       "10             xgb_mf  0.828671  24.464107"
      ]
     },
     "execution_count": 90,
     "metadata": {},
     "output_type": "execute_result"
    }
   ],
   "source": [
    "xgb_mf = xgbreg.set_params(**best_para)\n",
    "xgb_mf_results, xgb_mf_rmse, xgb_mf_mape = run_xgboost(xgb_mf, x_train, y_train)\n",
    "\n",
    "# store results in df\n",
    "xgb_mf_lst = ['xgb_mf', xgb_mf_rmse, xgb_mf_mape]\n",
    "kfold_train_results = kfold_train_results.append(pd.Series(xgb_mf_lst, index = kfold_train_results.columns), ignore_index=True)\n",
    "kfold_train_results"
   ]
  },
  {
   "cell_type": "code",
   "execution_count": 91,
   "metadata": {},
   "outputs": [
    {
     "data": {
      "image/png": "[encoded data removed]",
      "text/plain": [
       "<Figure size 432x288 with 1 Axes>"
      ]
     },
     "metadata": {
      "needs_background": "light"
     },
     "output_type": "display_data"
    }
   ],
   "source": [
    "xgb.plot_importance(xgb_mf)\n",
    "plt.show()"
   ]
  },
  {
   "cell_type": "markdown",
   "metadata": {},
   "source": [
    "**2.4.5.5 XGBoost with 13 features, BaselineOnly and KNN features**"
   ]
  },
  {
   "cell_type": "code",
   "execution_count": 92,
   "metadata": {},
   "outputs": [
    {
     "name": "stdout",
     "output_type": "stream",
     "text": [
      "Tuning parameters: \n",
      "\n",
      "{'colsample_bytree': 0.7601837334821601, 'gamma': 0.008642198427714933, 'learning_rate': 0.12481998805151001, 'max_depth': 8, 'min_child_weight': 1, 'n_estimators': 688, 'reg_alpha': 73, 'reg_lambda': 17, 'subsample': 0.804168614072467}\n"
     ]
    }
   ],
   "source": [
    "# prepare train data\n",
    "x_train = add_cols_train5.drop(['svd', 'svdpp'], axis=1)\n",
    "y_train = reg_train['rating']\n",
    "\n",
    "params = {'learning_rate' :stats.uniform(0.01,0.2),\n",
    "             'n_estimators':sp_randint(100,1000),\n",
    "             'max_depth':sp_randint(1,10),\n",
    "             'min_child_weight':sp_randint(1,8),\n",
    "             'gamma':stats.uniform(0,0.02),\n",
    "             'subsample':stats.uniform(0.6,0.4),\n",
    "             'reg_alpha':sp_randint(0,200),\n",
    "             'reg_lambda':sp_randint(0,200),\n",
    "             'colsample_bytree':stats.uniform(0.6,0.3)}\n",
    "\n",
    "xgbreg = xgb.XGBRegressor(silent=True, n_jobs=13, random_state=15)\n",
    "start = datetime.now()\n",
    "print('Tuning parameters: \\n')\n",
    "xgb_best = RandomizedSearchCV(xgbreg, params, refit = False, scoring = \"neg_mean_squared_error\", cv = 3)\n",
    "xgb_best.fit(x_train, y_train)\n",
    "best_para = xgb_best.best_params_\n",
    "print(best_para)"
   ]
  },
  {
   "cell_type": "code",
   "execution_count": 93,
   "metadata": {},
   "outputs": [
    {
     "data": {
      "text/html": [
       "<div>\n",
       "<style scoped>\n",
       "    .dataframe tbody tr th:only-of-type {\n",
       "        vertical-align: middle;\n",
       "    }\n",
       "\n",
       "    .dataframe tbody tr th {\n",
       "        vertical-align: top;\n",
       "    }\n",
       "\n",
       "    .dataframe thead th {\n",
       "        text-align: right;\n",
       "    }\n",
       "</style>\n",
       "<table border=\"1\" class=\"dataframe\">\n",
       "  <thead>\n",
       "    <tr style=\"text-align: right;\">\n",
       "      <th></th>\n",
       "      <th>algorithm</th>\n",
       "      <th>rmse</th>\n",
       "      <th>mape</th>\n",
       "    </tr>\n",
       "  </thead>\n",
       "  <tbody>\n",
       "    <tr>\n",
       "      <td>0</td>\n",
       "      <td>xgb_13_features</td>\n",
       "      <td>0.842627</td>\n",
       "      <td>25.041679</td>\n",
       "    </tr>\n",
       "    <tr>\n",
       "      <td>1</td>\n",
       "      <td>bsl_surprise</td>\n",
       "      <td>1.019674</td>\n",
       "      <td>32.729223</td>\n",
       "    </tr>\n",
       "    <tr>\n",
       "      <td>2</td>\n",
       "      <td>knn_bsl_u</td>\n",
       "      <td>1.004814</td>\n",
       "      <td>31.452556</td>\n",
       "    </tr>\n",
       "    <tr>\n",
       "      <td>3</td>\n",
       "      <td>knn_bsl_m</td>\n",
       "      <td>1.008868</td>\n",
       "      <td>31.401008</td>\n",
       "    </tr>\n",
       "    <tr>\n",
       "      <td>4</td>\n",
       "      <td>svd</td>\n",
       "      <td>1.006655</td>\n",
       "      <td>31.553057</td>\n",
       "    </tr>\n",
       "    <tr>\n",
       "      <td>5</td>\n",
       "      <td>svdpp</td>\n",
       "      <td>1.006912</td>\n",
       "      <td>31.477493</td>\n",
       "    </tr>\n",
       "    <tr>\n",
       "      <td>6</td>\n",
       "      <td>xgb_surprise_only</td>\n",
       "      <td>1.003360</td>\n",
       "      <td>31.688790</td>\n",
       "    </tr>\n",
       "    <tr>\n",
       "      <td>7</td>\n",
       "      <td>xgb_all</td>\n",
       "      <td>0.830989</td>\n",
       "      <td>24.706597</td>\n",
       "    </tr>\n",
       "    <tr>\n",
       "      <td>8</td>\n",
       "      <td>xgb_bsl</td>\n",
       "      <td>0.828816</td>\n",
       "      <td>24.537363</td>\n",
       "    </tr>\n",
       "    <tr>\n",
       "      <td>9</td>\n",
       "      <td>xgb_knn</td>\n",
       "      <td>0.837235</td>\n",
       "      <td>24.938951</td>\n",
       "    </tr>\n",
       "    <tr>\n",
       "      <td>10</td>\n",
       "      <td>xgb_mf</td>\n",
       "      <td>0.828671</td>\n",
       "      <td>24.464107</td>\n",
       "    </tr>\n",
       "    <tr>\n",
       "      <td>11</td>\n",
       "      <td>xgb_bsl_knn</td>\n",
       "      <td>0.822528</td>\n",
       "      <td>24.247961</td>\n",
       "    </tr>\n",
       "  </tbody>\n",
       "</table>\n",
       "</div>"
      ],
      "text/plain": [
       "            algorithm      rmse       mape\n",
       "0     xgb_13_features  0.842627  25.041679\n",
       "1        bsl_surprise  1.019674  32.729223\n",
       "2           knn_bsl_u  1.004814  31.452556\n",
       "3           knn_bsl_m  1.008868  31.401008\n",
       "4                 svd  1.006655  31.553057\n",
       "5               svdpp  1.006912  31.477493\n",
       "6   xgb_surprise_only  1.003360  31.688790\n",
       "7             xgb_all  0.830989  24.706597\n",
       "8             xgb_bsl  0.828816  24.537363\n",
       "9             xgb_knn  0.837235  24.938951\n",
       "10             xgb_mf  0.828671  24.464107\n",
       "11        xgb_bsl_knn  0.822528  24.247961"
      ]
     },
     "execution_count": 93,
     "metadata": {},
     "output_type": "execute_result"
    }
   ],
   "source": [
    "xgb_bsl_knn = xgbreg.set_params(**best_para)\n",
    "xgb_bsl_knn_results, xgb_bsl_knn_rmse, xgb_bsl_knn_mape = run_xgboost(xgb_bsl_knn, x_train, y_train)\n",
    "\n",
    "# store results in df\n",
    "xgb_bsl_knn_lst = ['xgb_bsl_knn', xgb_bsl_knn_rmse, xgb_bsl_knn_mape]\n",
    "kfold_train_results = kfold_train_results.append(pd.Series(xgb_bsl_knn_lst, index = kfold_train_results.columns), ignore_index=True)\n",
    "kfold_train_results"
   ]
  },
  {
   "cell_type": "code",
   "execution_count": 94,
   "metadata": {},
   "outputs": [
    {
     "data": {
      "image/png": "[encoded data removed]",
      "text/plain": [
       "<Figure size 432x288 with 1 Axes>"
      ]
     },
     "metadata": {
      "needs_background": "light"
     },
     "output_type": "display_data"
    }
   ],
   "source": [
    "xgb.plot_importance(xgb_bsl_knn)\n",
    "plt.show()"
   ]
  },
  {
   "cell_type": "markdown",
   "metadata": {},
   "source": [
    "**2.4.5.6 XGBoost with 13 features, BaselineOnly and Matrix Factorisation features**"
   ]
  },
  {
   "cell_type": "code",
   "execution_count": 95,
   "metadata": {},
   "outputs": [
    {
     "name": "stdout",
     "output_type": "stream",
     "text": [
      "Tuning parameters: \n",
      "\n",
      "{'colsample_bytree': 0.8045031646059833, 'gamma': 0.0019342729474891996, 'learning_rate': 0.07780597336839709, 'max_depth': 7, 'min_child_weight': 2, 'n_estimators': 533, 'reg_alpha': 50, 'reg_lambda': 62, 'subsample': 0.9783077721295773}\n"
     ]
    }
   ],
   "source": [
    "# prepare train data\n",
    "x_train = add_cols_train5.drop(['knn_bsl_u', 'knn_bsl_m'], axis=1)\n",
    "y_train = reg_train['rating']\n",
    "\n",
    "params = {'learning_rate' :stats.uniform(0.01,0.2),\n",
    "             'n_estimators':sp_randint(100,1000),\n",
    "             'max_depth':sp_randint(1,10),\n",
    "             'min_child_weight':sp_randint(1,8),\n",
    "             'gamma':stats.uniform(0,0.02),\n",
    "             'subsample':stats.uniform(0.6,0.4),\n",
    "             'reg_alpha':sp_randint(0,200),\n",
    "             'reg_lambda':sp_randint(0,200),\n",
    "             'colsample_bytree':stats.uniform(0.6,0.3)}\n",
    "\n",
    "xgbreg = xgb.XGBRegressor(silent=True, n_jobs=13, random_state=15)\n",
    "start = datetime.now()\n",
    "print('Tuning parameters: \\n')\n",
    "xgb_best = RandomizedSearchCV(xgbreg, params, refit = False, scoring = \"neg_mean_squared_error\", cv = 3)\n",
    "xgb_best.fit(x_train, y_train)\n",
    "best_para = xgb_best.best_params_\n",
    "print(best_para)"
   ]
  },
  {
   "cell_type": "code",
   "execution_count": 96,
   "metadata": {},
   "outputs": [
    {
     "data": {
      "text/html": [
       "<div>\n",
       "<style scoped>\n",
       "    .dataframe tbody tr th:only-of-type {\n",
       "        vertical-align: middle;\n",
       "    }\n",
       "\n",
       "    .dataframe tbody tr th {\n",
       "        vertical-align: top;\n",
       "    }\n",
       "\n",
       "    .dataframe thead th {\n",
       "        text-align: right;\n",
       "    }\n",
       "</style>\n",
       "<table border=\"1\" class=\"dataframe\">\n",
       "  <thead>\n",
       "    <tr style=\"text-align: right;\">\n",
       "      <th></th>\n",
       "      <th>algorithm</th>\n",
       "      <th>rmse</th>\n",
       "      <th>mape</th>\n",
       "    </tr>\n",
       "  </thead>\n",
       "  <tbody>\n",
       "    <tr>\n",
       "      <td>0</td>\n",
       "      <td>xgb_13_features</td>\n",
       "      <td>0.842627</td>\n",
       "      <td>25.041679</td>\n",
       "    </tr>\n",
       "    <tr>\n",
       "      <td>1</td>\n",
       "      <td>bsl_surprise</td>\n",
       "      <td>1.019674</td>\n",
       "      <td>32.729223</td>\n",
       "    </tr>\n",
       "    <tr>\n",
       "      <td>2</td>\n",
       "      <td>knn_bsl_u</td>\n",
       "      <td>1.004814</td>\n",
       "      <td>31.452556</td>\n",
       "    </tr>\n",
       "    <tr>\n",
       "      <td>3</td>\n",
       "      <td>knn_bsl_m</td>\n",
       "      <td>1.008868</td>\n",
       "      <td>31.401008</td>\n",
       "    </tr>\n",
       "    <tr>\n",
       "      <td>4</td>\n",
       "      <td>svd</td>\n",
       "      <td>1.006655</td>\n",
       "      <td>31.553057</td>\n",
       "    </tr>\n",
       "    <tr>\n",
       "      <td>5</td>\n",
       "      <td>svdpp</td>\n",
       "      <td>1.006912</td>\n",
       "      <td>31.477493</td>\n",
       "    </tr>\n",
       "    <tr>\n",
       "      <td>6</td>\n",
       "      <td>xgb_surprise_only</td>\n",
       "      <td>1.003360</td>\n",
       "      <td>31.688790</td>\n",
       "    </tr>\n",
       "    <tr>\n",
       "      <td>7</td>\n",
       "      <td>xgb_all</td>\n",
       "      <td>0.830989</td>\n",
       "      <td>24.706597</td>\n",
       "    </tr>\n",
       "    <tr>\n",
       "      <td>8</td>\n",
       "      <td>xgb_bsl</td>\n",
       "      <td>0.828816</td>\n",
       "      <td>24.537363</td>\n",
       "    </tr>\n",
       "    <tr>\n",
       "      <td>9</td>\n",
       "      <td>xgb_knn</td>\n",
       "      <td>0.837235</td>\n",
       "      <td>24.938951</td>\n",
       "    </tr>\n",
       "    <tr>\n",
       "      <td>10</td>\n",
       "      <td>xgb_mf</td>\n",
       "      <td>0.828671</td>\n",
       "      <td>24.464107</td>\n",
       "    </tr>\n",
       "    <tr>\n",
       "      <td>11</td>\n",
       "      <td>xgb_bsl_knn</td>\n",
       "      <td>0.822528</td>\n",
       "      <td>24.247961</td>\n",
       "    </tr>\n",
       "    <tr>\n",
       "      <td>12</td>\n",
       "      <td>xgb_bsl_mf</td>\n",
       "      <td>0.822970</td>\n",
       "      <td>24.281804</td>\n",
       "    </tr>\n",
       "  </tbody>\n",
       "</table>\n",
       "</div>"
      ],
      "text/plain": [
       "            algorithm      rmse       mape\n",
       "0     xgb_13_features  0.842627  25.041679\n",
       "1        bsl_surprise  1.019674  32.729223\n",
       "2           knn_bsl_u  1.004814  31.452556\n",
       "3           knn_bsl_m  1.008868  31.401008\n",
       "4                 svd  1.006655  31.553057\n",
       "5               svdpp  1.006912  31.477493\n",
       "6   xgb_surprise_only  1.003360  31.688790\n",
       "7             xgb_all  0.830989  24.706597\n",
       "8             xgb_bsl  0.828816  24.537363\n",
       "9             xgb_knn  0.837235  24.938951\n",
       "10             xgb_mf  0.828671  24.464107\n",
       "11        xgb_bsl_knn  0.822528  24.247961\n",
       "12         xgb_bsl_mf  0.822970  24.281804"
      ]
     },
     "execution_count": 96,
     "metadata": {},
     "output_type": "execute_result"
    }
   ],
   "source": [
    "xgb_bsl_mf = xgbreg.set_params(**best_para)\n",
    "xgb_bsl_mf_results, xgb_bsl_mf_rmse, xgb_bsl_mf_mape = run_xgboost(xgb_bsl_mf, x_train, y_train)\n",
    "\n",
    "# store results in df\n",
    "xgb_bsl_mf_lst = ['xgb_bsl_mf', xgb_bsl_mf_rmse, xgb_bsl_mf_mape]\n",
    "kfold_train_results = kfold_train_results.append(pd.Series(xgb_bsl_mf_lst, index = kfold_train_results.columns), ignore_index=True)\n",
    "kfold_train_results"
   ]
  },
  {
   "cell_type": "code",
   "execution_count": 97,
   "metadata": {},
   "outputs": [
    {
     "data": {
      "image/png": "[encoded data removed]",
      "text/plain": [
       "<Figure size 432x288 with 1 Axes>"
      ]
     },
     "metadata": {
      "needs_background": "light"
     },
     "output_type": "display_data"
    }
   ],
   "source": [
    "xgb.plot_importance(xgb_bsl_mf)\n",
    "plt.show()"
   ]
  },
  {
   "cell_type": "markdown",
   "metadata": {},
   "source": [
    "**2.4.5.7 XGBoost with 13 features, KNN and Matrix Factorisation features**"
   ]
  },
  {
   "cell_type": "code",
   "execution_count": 98,
   "metadata": {},
   "outputs": [
    {
     "name": "stdout",
     "output_type": "stream",
     "text": [
      "Tuning parameters: \n",
      "\n",
      "{'colsample_bytree': 0.8962128845774056, 'gamma': 0.011900106085863851, 'learning_rate': 0.018646203364947347, 'max_depth': 9, 'min_child_weight': 5, 'n_estimators': 926, 'reg_alpha': 67, 'reg_lambda': 34, 'subsample': 0.9062772354752066}\n"
     ]
    }
   ],
   "source": [
    "# prepare train data\n",
    "x_train = add_cols_train5.drop(['bsl_pred'], axis=1)\n",
    "y_train = reg_train['rating']\n",
    "\n",
    "params = {'learning_rate' :stats.uniform(0.01,0.2),\n",
    "             'n_estimators':sp_randint(100,1000),\n",
    "             'max_depth':sp_randint(1,10),\n",
    "             'min_child_weight':sp_randint(1,8),\n",
    "             'gamma':stats.uniform(0,0.02),\n",
    "             'subsample':stats.uniform(0.6,0.4),\n",
    "             'reg_alpha':sp_randint(0,200),\n",
    "             'reg_lambda':sp_randint(0,200),\n",
    "             'colsample_bytree':stats.uniform(0.6,0.3)}\n",
    "\n",
    "xgbreg = xgb.XGBRegressor(silent=True, n_jobs=13, random_state=15)\n",
    "start = datetime.now()\n",
    "print('Tuning parameters: \\n')\n",
    "xgb_best = RandomizedSearchCV(xgbreg, params, refit = False, scoring = \"neg_mean_squared_error\", cv = 3)\n",
    "xgb_best.fit(x_train, y_train)\n",
    "best_para = xgb_best.best_params_\n",
    "print(best_para)"
   ]
  },
  {
   "cell_type": "code",
   "execution_count": 99,
   "metadata": {},
   "outputs": [
    {
     "data": {
      "text/html": [
       "<div>\n",
       "<style scoped>\n",
       "    .dataframe tbody tr th:only-of-type {\n",
       "        vertical-align: middle;\n",
       "    }\n",
       "\n",
       "    .dataframe tbody tr th {\n",
       "        vertical-align: top;\n",
       "    }\n",
       "\n",
       "    .dataframe thead th {\n",
       "        text-align: right;\n",
       "    }\n",
       "</style>\n",
       "<table border=\"1\" class=\"dataframe\">\n",
       "  <thead>\n",
       "    <tr style=\"text-align: right;\">\n",
       "      <th></th>\n",
       "      <th>algorithm</th>\n",
       "      <th>rmse</th>\n",
       "      <th>mape</th>\n",
       "    </tr>\n",
       "  </thead>\n",
       "  <tbody>\n",
       "    <tr>\n",
       "      <td>0</td>\n",
       "      <td>xgb_13_features</td>\n",
       "      <td>0.842627</td>\n",
       "      <td>25.041679</td>\n",
       "    </tr>\n",
       "    <tr>\n",
       "      <td>1</td>\n",
       "      <td>bsl_surprise</td>\n",
       "      <td>1.019674</td>\n",
       "      <td>32.729223</td>\n",
       "    </tr>\n",
       "    <tr>\n",
       "      <td>2</td>\n",
       "      <td>knn_bsl_u</td>\n",
       "      <td>1.004814</td>\n",
       "      <td>31.452556</td>\n",
       "    </tr>\n",
       "    <tr>\n",
       "      <td>3</td>\n",
       "      <td>knn_bsl_m</td>\n",
       "      <td>1.008868</td>\n",
       "      <td>31.401008</td>\n",
       "    </tr>\n",
       "    <tr>\n",
       "      <td>4</td>\n",
       "      <td>svd</td>\n",
       "      <td>1.006655</td>\n",
       "      <td>31.553057</td>\n",
       "    </tr>\n",
       "    <tr>\n",
       "      <td>5</td>\n",
       "      <td>svdpp</td>\n",
       "      <td>1.006912</td>\n",
       "      <td>31.477493</td>\n",
       "    </tr>\n",
       "    <tr>\n",
       "      <td>6</td>\n",
       "      <td>xgb_surprise_only</td>\n",
       "      <td>1.003360</td>\n",
       "      <td>31.688790</td>\n",
       "    </tr>\n",
       "    <tr>\n",
       "      <td>7</td>\n",
       "      <td>xgb_all</td>\n",
       "      <td>0.830989</td>\n",
       "      <td>24.706597</td>\n",
       "    </tr>\n",
       "    <tr>\n",
       "      <td>8</td>\n",
       "      <td>xgb_bsl</td>\n",
       "      <td>0.828816</td>\n",
       "      <td>24.537363</td>\n",
       "    </tr>\n",
       "    <tr>\n",
       "      <td>9</td>\n",
       "      <td>xgb_knn</td>\n",
       "      <td>0.837235</td>\n",
       "      <td>24.938951</td>\n",
       "    </tr>\n",
       "    <tr>\n",
       "      <td>10</td>\n",
       "      <td>xgb_mf</td>\n",
       "      <td>0.828671</td>\n",
       "      <td>24.464107</td>\n",
       "    </tr>\n",
       "    <tr>\n",
       "      <td>11</td>\n",
       "      <td>xgb_bsl_knn</td>\n",
       "      <td>0.822528</td>\n",
       "      <td>24.247961</td>\n",
       "    </tr>\n",
       "    <tr>\n",
       "      <td>12</td>\n",
       "      <td>xgb_bsl_mf</td>\n",
       "      <td>0.822970</td>\n",
       "      <td>24.281804</td>\n",
       "    </tr>\n",
       "    <tr>\n",
       "      <td>13</td>\n",
       "      <td>xgb_knn_mf</td>\n",
       "      <td>0.831343</td>\n",
       "      <td>24.639751</td>\n",
       "    </tr>\n",
       "  </tbody>\n",
       "</table>\n",
       "</div>"
      ],
      "text/plain": [
       "            algorithm      rmse       mape\n",
       "0     xgb_13_features  0.842627  25.041679\n",
       "1        bsl_surprise  1.019674  32.729223\n",
       "2           knn_bsl_u  1.004814  31.452556\n",
       "3           knn_bsl_m  1.008868  31.401008\n",
       "4                 svd  1.006655  31.553057\n",
       "5               svdpp  1.006912  31.477493\n",
       "6   xgb_surprise_only  1.003360  31.688790\n",
       "7             xgb_all  0.830989  24.706597\n",
       "8             xgb_bsl  0.828816  24.537363\n",
       "9             xgb_knn  0.837235  24.938951\n",
       "10             xgb_mf  0.828671  24.464107\n",
       "11        xgb_bsl_knn  0.822528  24.247961\n",
       "12         xgb_bsl_mf  0.822970  24.281804\n",
       "13         xgb_knn_mf  0.831343  24.639751"
      ]
     },
     "execution_count": 99,
     "metadata": {},
     "output_type": "execute_result"
    }
   ],
   "source": [
    "xgb_knn_mf = xgbreg.set_params(**best_para)\n",
    "xgb_knn_mf_results, xgb_knn_mf_rmse, xgb_knn_mf_mape = run_xgboost(xgb_knn_mf, x_train, y_train)\n",
    "\n",
    "# store results in df\n",
    "xgb_knn_mf_lst = ['xgb_knn_mf', xgb_knn_mf_rmse, xgb_knn_mf_mape]\n",
    "kfold_train_results = kfold_train_results.append(pd.Series(xgb_knn_mf_lst, index = kfold_train_results.columns), ignore_index=True)\n",
    "kfold_train_results"
   ]
  },
  {
   "cell_type": "code",
   "execution_count": 100,
   "metadata": {},
   "outputs": [
    {
     "data": {
      "image/png": "[encoded data removed]",
      "text/plain": [
       "<Figure size 432x288 with 1 Axes>"
      ]
     },
     "metadata": {
      "needs_background": "light"
     },
     "output_type": "display_data"
    }
   ],
   "source": [
    "xgb.plot_importance(xgb_knn_mf)\n",
    "plt.show()"
   ]
  },
  {
   "cell_type": "markdown",
   "metadata": {},
   "source": [
    "**2.4.5.8 XGBoost with 13 features + all surprise predictions**"
   ]
  },
  {
   "cell_type": "code",
   "execution_count": 79,
   "metadata": {},
   "outputs": [
    {
     "name": "stdout",
     "output_type": "stream",
     "text": [
      "Tuning parameters: \n",
      "\n",
      "{'colsample_bytree': 0.6808447611501808, 'gamma': 0.005283724107939103, 'learning_rate': 0.05955255201488671, 'max_depth': 5, 'min_child_weight': 6, 'n_estimators': 672, 'reg_alpha': 107, 'reg_lambda': 85.42922429053384, 'subsample': 0.9080413267115341}\n",
      "Time taken to tune:0:04:16.133483\n",
      "\n"
     ]
    }
   ],
   "source": [
    "# prepare x_train and y_train\n",
    "x_train = add_cols_train5.copy()\n",
    "y_train = reg_train['rating']\n",
    "\n",
    "params = {'learning_rate' :stats.uniform(0.01,0.2),\n",
    "             'n_estimators':sp_randint(100,1000),\n",
    "             'max_depth':sp_randint(1,10),\n",
    "             'min_child_weight':sp_randint(1,8),\n",
    "             'gamma':stats.uniform(0,0.02),\n",
    "             'subsample':stats.uniform(0.6,0.4),\n",
    "             'reg_alpha':sp_randint(0,200),\n",
    "             'reg_lambda':stats.uniform(0,200),\n",
    "             'colsample_bytree':stats.uniform(0.6,0.3)}\n",
    "\n",
    "\n",
    "xgbreg = xgb.XGBRegressor(silent=True, n_jobs=13, random_state=15)\n",
    "start = datetime.now()\n",
    "print('Tuning parameters: \\n')\n",
    "xgb_best = RandomizedSearchCV(xgbreg, params, refit=False, scoring = \"neg_mean_squared_error\", cv = 3)\n",
    "xgb_best.fit(x_train, y_train)\n",
    "best_para = xgb_best.best_params_\n",
    "print(best_para)\n",
    "xgb_all = xgbreg.set_params(**best_para)\n",
    "print('Time taken to tune:{}\\n'.format(datetime.now()-start))"
   ]
  },
  {
   "cell_type": "code",
   "execution_count": 80,
   "metadata": {},
   "outputs": [
    {
     "data": {
      "text/html": [
       "<div>\n",
       "<style scoped>\n",
       "    .dataframe tbody tr th:only-of-type {\n",
       "        vertical-align: middle;\n",
       "    }\n",
       "\n",
       "    .dataframe tbody tr th {\n",
       "        vertical-align: top;\n",
       "    }\n",
       "\n",
       "    .dataframe thead th {\n",
       "        text-align: right;\n",
       "    }\n",
       "</style>\n",
       "<table border=\"1\" class=\"dataframe\">\n",
       "  <thead>\n",
       "    <tr style=\"text-align: right;\">\n",
       "      <th></th>\n",
       "      <th>algorithm</th>\n",
       "      <th>rmse</th>\n",
       "      <th>mape</th>\n",
       "    </tr>\n",
       "  </thead>\n",
       "  <tbody>\n",
       "    <tr>\n",
       "      <td>0</td>\n",
       "      <td>xgb_13_features</td>\n",
       "      <td>0.842627</td>\n",
       "      <td>25.041679</td>\n",
       "    </tr>\n",
       "    <tr>\n",
       "      <td>1</td>\n",
       "      <td>bsl_surprise</td>\n",
       "      <td>1.019674</td>\n",
       "      <td>32.729223</td>\n",
       "    </tr>\n",
       "    <tr>\n",
       "      <td>2</td>\n",
       "      <td>knn_bsl_u</td>\n",
       "      <td>1.004814</td>\n",
       "      <td>31.452556</td>\n",
       "    </tr>\n",
       "    <tr>\n",
       "      <td>3</td>\n",
       "      <td>knn_bsl_m</td>\n",
       "      <td>1.008868</td>\n",
       "      <td>31.401008</td>\n",
       "    </tr>\n",
       "    <tr>\n",
       "      <td>4</td>\n",
       "      <td>svd</td>\n",
       "      <td>1.006655</td>\n",
       "      <td>31.553057</td>\n",
       "    </tr>\n",
       "    <tr>\n",
       "      <td>5</td>\n",
       "      <td>svdpp</td>\n",
       "      <td>1.006912</td>\n",
       "      <td>31.477493</td>\n",
       "    </tr>\n",
       "    <tr>\n",
       "      <td>6</td>\n",
       "      <td>xgb_surprise_only</td>\n",
       "      <td>1.003360</td>\n",
       "      <td>31.688790</td>\n",
       "    </tr>\n",
       "    <tr>\n",
       "      <td>7</td>\n",
       "      <td>xgb_all</td>\n",
       "      <td>0.830989</td>\n",
       "      <td>24.706597</td>\n",
       "    </tr>\n",
       "  </tbody>\n",
       "</table>\n",
       "</div>"
      ],
      "text/plain": [
       "           algorithm      rmse       mape\n",
       "0    xgb_13_features  0.842627  25.041679\n",
       "1       bsl_surprise  1.019674  32.729223\n",
       "2          knn_bsl_u  1.004814  31.452556\n",
       "3          knn_bsl_m  1.008868  31.401008\n",
       "4                svd  1.006655  31.553057\n",
       "5              svdpp  1.006912  31.477493\n",
       "6  xgb_surprise_only  1.003360  31.688790\n",
       "7            xgb_all  0.830989  24.706597"
      ]
     },
     "execution_count": 80,
     "metadata": {},
     "output_type": "execute_result"
    }
   ],
   "source": [
    "xgb_all_results, xgb_all_rmse, xgb_all_mape = run_xgboost(xgb_all, x_train, y_train)\n",
    "\n",
    "# store results in df\n",
    "xgb_all_lst = ['xgb_all', xgb_all_rmse, xgb_all_mape]\n",
    "kfold_train_results = kfold_train_results.append(pd.Series(xgb_all_lst, index = kfold_train_results.columns), ignore_index=True)\n",
    "kfold_train_results"
   ]
  },
  {
   "cell_type": "code",
   "execution_count": 81,
   "metadata": {},
   "outputs": [
    {
     "data": {
      "image/png": "[encoded data removed]",
      "text/plain": [
       "<Figure size 432x288 with 1 Axes>"
      ]
     },
     "metadata": {
      "needs_background": "light"
     },
     "output_type": "display_data"
    }
   ],
   "source": [
    "xgb.plot_importance(xgb_all)\n",
    "plt.show()"
   ]
  },
  {
   "cell_type": "markdown",
   "metadata": {},
   "source": [
    "### 3. Comparing models"
   ]
  },
  {
   "cell_type": "code",
   "execution_count": 102,
   "metadata": {},
   "outputs": [
    {
     "data": {
      "text/html": [
       "<div>\n",
       "<style scoped>\n",
       "    .dataframe tbody tr th:only-of-type {\n",
       "        vertical-align: middle;\n",
       "    }\n",
       "\n",
       "    .dataframe tbody tr th {\n",
       "        vertical-align: top;\n",
       "    }\n",
       "\n",
       "    .dataframe thead th {\n",
       "        text-align: right;\n",
       "    }\n",
       "</style>\n",
       "<table border=\"1\" class=\"dataframe\">\n",
       "  <thead>\n",
       "    <tr style=\"text-align: right;\">\n",
       "      <th></th>\n",
       "      <th>algorithm</th>\n",
       "      <th>rmse</th>\n",
       "      <th>mape</th>\n",
       "    </tr>\n",
       "  </thead>\n",
       "  <tbody>\n",
       "    <tr>\n",
       "      <td>11</td>\n",
       "      <td>xgb_bsl_knn</td>\n",
       "      <td>0.822528</td>\n",
       "      <td>24.247961</td>\n",
       "    </tr>\n",
       "    <tr>\n",
       "      <td>12</td>\n",
       "      <td>xgb_bsl_mf</td>\n",
       "      <td>0.822970</td>\n",
       "      <td>24.281804</td>\n",
       "    </tr>\n",
       "    <tr>\n",
       "      <td>10</td>\n",
       "      <td>xgb_mf</td>\n",
       "      <td>0.828671</td>\n",
       "      <td>24.464107</td>\n",
       "    </tr>\n",
       "    <tr>\n",
       "      <td>8</td>\n",
       "      <td>xgb_bsl</td>\n",
       "      <td>0.828816</td>\n",
       "      <td>24.537363</td>\n",
       "    </tr>\n",
       "    <tr>\n",
       "      <td>7</td>\n",
       "      <td>xgb_all</td>\n",
       "      <td>0.830989</td>\n",
       "      <td>24.706597</td>\n",
       "    </tr>\n",
       "    <tr>\n",
       "      <td>13</td>\n",
       "      <td>xgb_knn_mf</td>\n",
       "      <td>0.831343</td>\n",
       "      <td>24.639751</td>\n",
       "    </tr>\n",
       "    <tr>\n",
       "      <td>9</td>\n",
       "      <td>xgb_knn</td>\n",
       "      <td>0.837235</td>\n",
       "      <td>24.938951</td>\n",
       "    </tr>\n",
       "    <tr>\n",
       "      <td>0</td>\n",
       "      <td>xgb_13_features</td>\n",
       "      <td>0.842627</td>\n",
       "      <td>25.041679</td>\n",
       "    </tr>\n",
       "    <tr>\n",
       "      <td>6</td>\n",
       "      <td>xgb_surprise_only</td>\n",
       "      <td>1.003360</td>\n",
       "      <td>31.688790</td>\n",
       "    </tr>\n",
       "    <tr>\n",
       "      <td>2</td>\n",
       "      <td>knn_bsl_u</td>\n",
       "      <td>1.004814</td>\n",
       "      <td>31.452556</td>\n",
       "    </tr>\n",
       "    <tr>\n",
       "      <td>4</td>\n",
       "      <td>svd</td>\n",
       "      <td>1.006655</td>\n",
       "      <td>31.553057</td>\n",
       "    </tr>\n",
       "    <tr>\n",
       "      <td>5</td>\n",
       "      <td>svdpp</td>\n",
       "      <td>1.006912</td>\n",
       "      <td>31.477493</td>\n",
       "    </tr>\n",
       "    <tr>\n",
       "      <td>3</td>\n",
       "      <td>knn_bsl_m</td>\n",
       "      <td>1.008868</td>\n",
       "      <td>31.401008</td>\n",
       "    </tr>\n",
       "    <tr>\n",
       "      <td>1</td>\n",
       "      <td>bsl_surprise</td>\n",
       "      <td>1.019674</td>\n",
       "      <td>32.729223</td>\n",
       "    </tr>\n",
       "  </tbody>\n",
       "</table>\n",
       "</div>"
      ],
      "text/plain": [
       "            algorithm      rmse       mape\n",
       "11        xgb_bsl_knn  0.822528  24.247961\n",
       "12         xgb_bsl_mf  0.822970  24.281804\n",
       "10             xgb_mf  0.828671  24.464107\n",
       "8             xgb_bsl  0.828816  24.537363\n",
       "7             xgb_all  0.830989  24.706597\n",
       "13         xgb_knn_mf  0.831343  24.639751\n",
       "9             xgb_knn  0.837235  24.938951\n",
       "0     xgb_13_features  0.842627  25.041679\n",
       "6   xgb_surprise_only  1.003360  31.688790\n",
       "2           knn_bsl_u  1.004814  31.452556\n",
       "4                 svd  1.006655  31.553057\n",
       "5               svdpp  1.006912  31.477493\n",
       "3           knn_bsl_m  1.008868  31.401008\n",
       "1        bsl_surprise  1.019674  32.729223"
      ]
     },
     "execution_count": 102,
     "metadata": {},
     "output_type": "execute_result"
    }
   ],
   "source": [
    "kfold_train_results.sort_values(by='rmse')"
   ]
  },
  {
   "cell_type": "markdown",
   "metadata": {},
   "source": [
    "From the above, XGBoost with the 13 features, plus BaselineOnly and KNN features has the lowest RMSE on the train data from KFold cross validation, thus it is the best performed on the train data. \n",
    "\n",
    "The entire train set will now be used to build the BaselineOnly and KNN models to generate predictions on the test test, and the XGBoost with the above-mentioned features will be trained on the entire training set. This final model will then be used to make predictions on the test data."
   ]
  },
  {
   "cell_type": "markdown",
   "metadata": {},
   "source": [
    "### 4. Building the final model and predicting on the test set\n",
    "\n",
    "The add_cols_train5 dataframe will be used to train the XGBoost model as because the Surprise features were generated using KFold cross validation, they should reduce the bias and likelihood of overfitting on the model. However, to generate predictions for the Surprise features for the test set, the entire training set will be used.\n",
    "\n",
    "The following steps need to be taken: \n",
    "1. Train Surprise BaselineOnly and generate predictions on the test set\n",
    "2. Train Surprise KNNBaseline user-user and movie-movie similarities and generate predictions on the test set\n",
    "3. Train XGBoost with the 13 features, and BaselineOnly and KNN features\n",
    "\n",
    "#### 4.1 Utility functions"
   ]
  },
  {
   "cell_type": "code",
   "execution_count": 126,
   "metadata": {},
   "outputs": [],
   "source": [
    "#specify how to read the dataframe.\n",
    "reader = Reader(rating_scale=(1,5))\n",
    "# create the train data from the df\n",
    "train_data = Dataset.load_from_df(reg_train[['user', 'movie', 'rating']], reader)\n",
    "# build the trainset from train data, in the format from surprise library\n",
    "trainset = train_data.build_full_trainset()\n",
    "\n",
    "#create test data sets for Surprise - tuple of user, movie, ratings\n",
    "testset = list(zip(reg_test_df.user.values, reg_test_df.movie.values, reg_test_df.rating.values))\n",
    "testset[:3]\n",
    "\n",
    "#create test df's\n",
    "x_test = reg_test_df.drop(['user','movie','rating'], axis=1)\n",
    "y_test = reg_test_df['rating']"
   ]
  },
  {
   "cell_type": "code",
   "execution_count": 127,
   "metadata": {},
   "outputs": [],
   "source": [
    "# to get rmse and mape given actual and predicted ratings..\n",
    "def get_error_metrics(y_true, y_pred):\n",
    "    rmse = np.sqrt(np.mean([ (y_true[i] - y_pred[i])**2 for i in range(len(y_pred)) ]))\n",
    "    mape = np.mean(np.abs( (y_true - y_pred)/y_true )) * 100\n",
    "    return rmse, mape\n",
    "\n",
    "def run_xgboost(algo, x_train, y_train, x_test, y_test, verbose=True):\n",
    "    # dictionary for storing test results\n",
    "    test_results = dict()\n",
    "    \n",
    "    # fit the model\n",
    "    print('Training the model..')\n",
    "    start =datetime.now()\n",
    "    algo.fit(x_train, y_train, eval_metric = 'rmse')\n",
    "    print('Done. Time taken : {}\\n'.format(datetime.now()-start))\n",
    "    print('Done \\n')\n",
    "\n",
    "    # get the test data predictions and compute rmse and mape\n",
    "    print('Evaluating Test data')\n",
    "    y_test_pred = algo.predict(x_test) \n",
    "    rmse_test, mape_test = get_error_metrics(y_true=y_test.values, y_pred=y_test_pred)\n",
    "    # store them in our test results dictionary.\n",
    "    test_results = {'rmse': rmse_test,\n",
    "                    'mape' : mape_test,\n",
    "                    'predictions':y_test_pred}\n",
    "    if verbose:\n",
    "        print('\\nTEST DATA')\n",
    "        print('-'*30)\n",
    "        print('RMSE : ', rmse_test)\n",
    "        print('MAPE : ', mape_test)\n",
    "        \n",
    "    # return test results\n",
    "    return test_results\n"
   ]
  },
  {
   "cell_type": "code",
   "execution_count": 128,
   "metadata": {},
   "outputs": [],
   "source": [
    "my_seed = 15\n",
    "random.seed(my_seed)\n",
    "np.random.seed(my_seed)\n",
    "\n",
    "def get_ratings(predictions):\n",
    "    actual = np.array([pred.r_ui for pred in predictions])\n",
    "    pred = np.array([pred.est for pred in predictions])\n",
    "    \n",
    "    return actual, pred\n",
    "\n",
    "def get_errors(predictions, print_them=False):\n",
    "\n",
    "    actual, pred = get_ratings(predictions)\n",
    "    rmse = np.sqrt(np.mean((pred - actual)**2))\n",
    "    mape = np.mean(np.abs(pred - actual)/actual)\n",
    "\n",
    "    return rmse, mape*100\n",
    "\n",
    "\n",
    "def run_surprise(algo, trainset, testset, x_test): \n",
    "\n",
    "    start = datetime.now()\n",
    "    \n",
    "    x_test_features = x_test.copy()\n",
    "    \n",
    "    # train the algorithm with the trainset\n",
    "    st = datetime.now()\n",
    "    print('Training the model...')\n",
    "    algo.fit(trainset)\n",
    "    print('Done. time taken : {} \\n'.format(datetime.now()-st))\n",
    "    \n",
    "    #Evaluating Test data\n",
    "    st = datetime.now()\n",
    "    print('\\nEvaluating for test data...')\n",
    "    # get the predictions( list of prediction classes) of test data\n",
    "    test_preds = algo.test(testset)\n",
    "    # get the predicted ratings from the list of predictions\n",
    "    test_actual_ratings, test_pred_ratings = get_ratings(test_preds)\n",
    "    # get error metrics from the predicted and actual ratings\n",
    "    test_rmse, test_mape = get_errors(test_preds)\n",
    "    print('time taken : {}'.format(datetime.now()-st))\n",
    "    \n",
    "    x_test_features['y_pred'] = test_pred_ratings\n",
    "    \n",
    "    # return predictions, rmse and mape\n",
    "    return x_test_features, test_rmse, test_mape"
   ]
  },
  {
   "cell_type": "markdown",
   "metadata": {},
   "source": [
    "#### 4.2 BaselineOnly predictions"
   ]
  },
  {
   "cell_type": "code",
   "execution_count": 129,
   "metadata": {},
   "outputs": [
    {
     "name": "stdout",
     "output_type": "stream",
     "text": [
      "Training the model...\n",
      "Estimating biases using sgd...\n",
      "Done. time taken : 0:00:00.827610 \n",
      "\n",
      "\n",
      "Evaluating for test data...\n",
      "time taken : 0:00:00.063728\n"
     ]
    }
   ],
   "source": [
    "bsl_options = {'method': 'sgd',\n",
    "               'learning_rate': .001\n",
    "               }\n",
    "\n",
    "bsl_algo = BaselineOnly(bsl_options = bsl_options)\n",
    "\n",
    "# run algorithm\n",
    "x_test_features1, rmse_bsl, mape_bsl = run_surprise(bsl_algo, trainset, testset, x_test)\n",
    "\n",
    "#bsl_lst = ['bsl_surprise', rmse_bsl, mape_bsl]\n",
    "\n",
    "x_test_features1 = x_test_features1.rename(columns={'y_pred': 'bsl_pred'})\n",
    "\n",
    "# store error metrics\n",
    "#kfold_train_results = kfold_train_results.append(pd.Series(bsl_lst, index = kfold_train_results.columns), ignore_index=True)\n",
    "#kfold_train_results"
   ]
  },
  {
   "cell_type": "markdown",
   "metadata": {},
   "source": [
    "#### 4.3 KNNBaseline predictions"
   ]
  },
  {
   "cell_type": "code",
   "execution_count": 130,
   "metadata": {},
   "outputs": [
    {
     "name": "stdout",
     "output_type": "stream",
     "text": [
      "Training the model...\n",
      "Estimating biases using sgd...\n",
      "Computing the pearson_baseline similarity matrix...\n",
      "Done computing similarity matrix.\n",
      "Done. time taken : 0:00:26.039141 \n",
      "\n",
      "\n",
      "Evaluating for test data...\n",
      "time taken : 0:00:00.081375\n"
     ]
    }
   ],
   "source": [
    "# specify how to compute similarities and what to consider with sim_options\n",
    "sim_options = {'user_based' : True,\n",
    "               'name': 'pearson_baseline',\n",
    "               'shrinkage': 100,\n",
    "               'min_support': 2\n",
    "              } \n",
    "# keep other parameters as default\n",
    "bsl_options = {'method': 'sgd'} \n",
    "\n",
    "knn_u_algo = KNNBaseline(k = 40, sim_options = sim_options, bsl_options = bsl_options)\n",
    "\n",
    "x_test_features2, rmse_knn_u, mape_knn_u = run_surprise(knn_u_algo, trainset, testset, x_test_features1)\n",
    "\n",
    "#knn_u_lst = ['knn_bsl_u', rmse_knn_u, mape_knn_u]\n",
    "\n",
    "x_test_features2 = x_test_features2.rename(columns={'y_pred': 'knn_bsl_u'})\n",
    "\n",
    "# store error metrics\n",
    "#kfold_train_results = kfold_train_results.append(pd.Series(knn_u_lst, index = kfold_train_results.columns), ignore_index=True)\n",
    "#kfold_train_results"
   ]
  },
  {
   "cell_type": "code",
   "execution_count": 131,
   "metadata": {},
   "outputs": [
    {
     "name": "stdout",
     "output_type": "stream",
     "text": [
      "Training the model...\n",
      "Estimating biases using sgd...\n",
      "Computing the pearson_baseline similarity matrix...\n",
      "Done computing similarity matrix.\n",
      "Done. time taken : 0:00:01.049357 \n",
      "\n",
      "\n",
      "Evaluating for test data...\n",
      "time taken : 0:00:00.061387\n"
     ]
    }
   ],
   "source": [
    "sim_options = {'user_based' : False,\n",
    "               'name': 'pearson_baseline',\n",
    "               'shrinkage': 100,\n",
    "               'min_support': 2\n",
    "              } \n",
    "\n",
    "bsl_options = {'method': 'sgd'}\n",
    "\n",
    "knn_m_algo = KNNBaseline(k=40, sim_options = sim_options, bsl_options = bsl_options)\n",
    "\n",
    "x_test_features3, rmse_knn_m, mape_knn_m = run_surprise(knn_m_algo, trainset, testset, x_test_features2)\n",
    "\n",
    "#knn_m_lst = ['knn_bsl_m', rmse_knn_m, mape_knn_m]\n",
    "\n",
    "x_test_features3 = x_test_features3.rename(columns={'y_pred': 'knn_bsl_m'})\n",
    "\n",
    "# store error metrics\n",
    "#kfold_train_results = kfold_train_results.append(pd.Series(knn_m_lst, index = kfold_train_results.columns), ignore_index=True)\n",
    "#kfold_train_results"
   ]
  },
  {
   "cell_type": "markdown",
   "metadata": {},
   "source": [
    "#### 4.4 XGBoost predictions on the test set"
   ]
  },
  {
   "cell_type": "code",
   "execution_count": 133,
   "metadata": {},
   "outputs": [
    {
     "name": "stdout",
     "output_type": "stream",
     "text": [
      "Tuning parameters: \n",
      "\n",
      "{'colsample_bytree': 0.7051546153524784, 'gamma': 0.011865153262857725, 'learning_rate': 0.17421720439840674, 'max_depth': 9, 'min_child_weight': 6, 'n_estimators': 657, 'reg_alpha': 83, 'reg_lambda': 83.99636401947468, 'subsample': 0.7612969736040649}\n",
      "Time taken to tune:0:04:04.850863\n",
      "\n"
     ]
    }
   ],
   "source": [
    "# prepare x_train, y_train and x_test\n",
    "x_train = add_cols_train5.drop(['svd', 'svdpp'], axis=1)\n",
    "y_train = reg_train['rating']\n",
    "\n",
    "x_test = x_test_features3.copy()\n",
    "\n",
    "params = {'learning_rate' :stats.uniform(0.01,0.2),\n",
    "             'n_estimators':sp_randint(100,1000),\n",
    "             'max_depth':sp_randint(1,10),\n",
    "             'min_child_weight':sp_randint(1,8),\n",
    "             'gamma':stats.uniform(0,0.02),\n",
    "             'subsample':stats.uniform(0.6,0.4),\n",
    "             'reg_alpha':sp_randint(0,200),\n",
    "             'reg_lambda':stats.uniform(0,200),\n",
    "             'colsample_bytree':stats.uniform(0.6,0.3)}\n",
    "\n",
    "\n",
    "xgbreg = xgb.XGBRegressor(silent=True, n_jobs=13, random_state=15)\n",
    "start = datetime.now()\n",
    "print('Tuning parameters: \\n')\n",
    "xgb_best = RandomizedSearchCV(xgbreg, params, refit=False, scoring = \"neg_mean_squared_error\", cv = 3)\n",
    "xgb_best.fit(x_train, y_train)\n",
    "best_para = xgb_best.best_params_\n",
    "print(best_para)\n",
    "xgb_all = xgbreg.set_params(**best_para)\n",
    "print('Time taken to tune:{}\\n'.format(datetime.now()-start))"
   ]
  },
  {
   "cell_type": "markdown",
   "metadata": {},
   "source": [
    "#### 4.5 Performance of the model on the test set"
   ]
  },
  {
   "cell_type": "code",
   "execution_count": 134,
   "metadata": {},
   "outputs": [
    {
     "name": "stdout",
     "output_type": "stream",
     "text": [
      "Training the model..\n",
      "Done. Time taken : 0:00:39.747367\n",
      "\n",
      "Done \n",
      "\n",
      "Evaluating Test data\n",
      "\n",
      "TEST DATA\n",
      "------------------------------\n",
      "RMSE :  1.0762143094436507\n",
      "MAPE :  34.976035372669784\n"
     ]
    }
   ],
   "source": [
    "xgb_bsl_knn = xgbreg.set_params(**best_para)\n",
    "test_results = run_xgboost(xgb_bsl_knn, x_train, y_train, x_test, y_test)"
   ]
  }
 ],
 "metadata": {
  "kernelspec": {
   "display_name": "Python 3",
   "language": "python",
   "name": "python3"
  },
  "language_info": {
   "codemirror_mode": {
    "name": "ipython",
    "version": 3
   },
   "file_extension": ".py",
   "mimetype": "text/x-python",
   "name": "python",
   "nbconvert_exporter": "python",
   "pygments_lexer": "ipython3",
   "version": "3.7.4"
  }
 },
 "nbformat": 4,
 "nbformat_minor": 2
}
